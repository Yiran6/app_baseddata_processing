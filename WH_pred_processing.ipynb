{
 "cells": [
  {
   "cell_type": "code",
   "execution_count": 2,
   "metadata": {},
   "outputs": [],
   "source": [
    "import os\n",
    "import numpy as np\n",
    "import pandas as pd\n",
    "import geopandas as gpd\n",
    "import csv\n",
    "#import pandasql as ps\n",
    "import matplotlib.pyplot as plt\n",
    "#import shapefile as shp\n",
    "import seaborn as sns\n",
    "import random\n",
    "import time\n",
    "\n",
    "import statistics\n",
    "\n",
    "#temporal pattern clustering\n",
    "from tslearn.clustering import TimeSeriesKMeans, silhouette_score\n",
    "from tslearn.utils import to_time_series_dataset\n",
    "from sklearn import metrics\n",
    "from scipy.cluster.hierarchy import fcluster\n",
    "from scipy.stats import chisquare\n",
    "from scipy.stats import wasserstein_distance\n",
    "\n",
    "\n",
    "import time\n",
    "import scipy.sparse\n",
    "from scipy.stats import entropy\n",
    "from sys import exit\n",
    "\n",
    "import itertools\n",
    "from itertools import permutations\n",
    "\n",
    "import xml.etree.ElementTree as ET\n",
    "\n",
    "import geopandas as gpd"
   ]
  },
  {
   "cell_type": "code",
   "execution_count": 3,
   "metadata": {},
   "outputs": [],
   "source": [
    "path = \"G:/My Drive/2021/Bias/sumo_simulation/appsim\"\n",
    "os.chdir(path)"
   ]
  },
  {
   "cell_type": "code",
   "execution_count": 4,
   "metadata": {},
   "outputs": [
    {
     "data": {
      "text/plain": [
       "['WH_index_ts.csv', 'WH_max_ts.csv', 'WH_max_t.csv', 'WH_index_t.csv']"
      ]
     },
     "execution_count": 4,
     "metadata": {},
     "output_type": "execute_result"
    }
   ],
   "source": [
    "WH_path = []\n",
    "for i in os.listdir():\n",
    "    if 'WH' in i:\n",
    "        WH_path.append(i)\n",
    "print(WH_path)"
   ]
  },
  {
   "cell_type": "code",
   "execution_count": 7,
   "metadata": {},
   "outputs": [
    {
     "data": {
      "text/html": [
       "<div>\n",
       "<style scoped>\n",
       "    .dataframe tbody tr th:only-of-type {\n",
       "        vertical-align: middle;\n",
       "    }\n",
       "\n",
       "    .dataframe tbody tr th {\n",
       "        vertical-align: top;\n",
       "    }\n",
       "\n",
       "    .dataframe thead th {\n",
       "        text-align: right;\n",
       "    }\n",
       "</style>\n",
       "<table border=\"1\" class=\"dataframe\">\n",
       "  <thead>\n",
       "    <tr style=\"text-align: right;\">\n",
       "      <th></th>\n",
       "      <th>id</th>\n",
       "      <th>taz</th>\n",
       "      <th>time</th>\n",
       "      <th>tl_id</th>\n",
       "      <th>time_5</th>\n",
       "      <th>sim_obs</th>\n",
       "      <th>sim_obs_ts</th>\n",
       "      <th>obs</th>\n",
       "      <th>newid</th>\n",
       "    </tr>\n",
       "  </thead>\n",
       "  <tbody>\n",
       "    <tr>\n",
       "      <th>0</th>\n",
       "      <td>10_41979657</td>\n",
       "      <td>506</td>\n",
       "      <td>0</td>\n",
       "      <td>506_0</td>\n",
       "      <td>0</td>\n",
       "      <td>0</td>\n",
       "      <td>0</td>\n",
       "      <td>1</td>\n",
       "      <td>1237</td>\n",
       "    </tr>\n",
       "    <tr>\n",
       "      <th>1</th>\n",
       "      <td>13_49194874</td>\n",
       "      <td>440</td>\n",
       "      <td>0</td>\n",
       "      <td>440_0</td>\n",
       "      <td>0</td>\n",
       "      <td>1</td>\n",
       "      <td>0</td>\n",
       "      <td>1</td>\n",
       "      <td>5170</td>\n",
       "    </tr>\n",
       "    <tr>\n",
       "      <th>2</th>\n",
       "      <td>21_47580428_0</td>\n",
       "      <td>630</td>\n",
       "      <td>0</td>\n",
       "      <td>630_0</td>\n",
       "      <td>0</td>\n",
       "      <td>0</td>\n",
       "      <td>0</td>\n",
       "      <td>1</td>\n",
       "      <td>13841</td>\n",
       "    </tr>\n",
       "  </tbody>\n",
       "</table>\n",
       "</div>"
      ],
      "text/plain": [
       "              id  taz  time  tl_id  time_5  sim_obs  sim_obs_ts  obs  newid\n",
       "0    10_41979657  506     0  506_0       0        0           0    1   1237\n",
       "1    13_49194874  440     0  440_0       0        1           0    1   5170\n",
       "2  21_47580428_0  630     0  630_0       0        0           0    1  13841"
      ]
     },
     "execution_count": 7,
     "metadata": {},
     "output_type": "execute_result"
    }
   ],
   "source": [
    "fcd_out = pd.read_csv('fcd_out_cur.csv', index_col=0)\n",
    "print('fcd_out df', fcd_out.head(3))\n",
    "selected_taz = np.unique(fcd_out['taz'])\n",
    "fcd_out.columns = ['id', 'taz_id', 'time', 'tl_id', 'time_5', \n",
    "                   'sim_obs', 'sim_obs_ts', 'obs','user']"
   ]
  },
  {
   "cell_type": "code",
   "execution_count": 55,
   "metadata": {},
   "outputs": [],
   "source": [
    "#convert WH to csv\n",
    "def get_taz_dict(tazs):\n",
    "    taz_dict = {}\n",
    "    for i in range(len(tazs)):\n",
    "        taz_dict[i] = tazs[i]\n",
    "    return(taz_dict)\n",
    "\n",
    "def add_taz_col(tazs, dt, convert_col):\n",
    "    taz_dict = get_taz_dict(tazs)\n",
    "    convert_taz = lambda x: taz_dict[x]\n",
    "    dt['taz_id'] = dt[convert_col].apply(convert_taz)\n",
    "    return(dt)\n",
    "\n",
    "def get_WH_info(index_path, maxval_path, selected_taz):\n",
    "    WH_index = pd.read_csv(index_path,  index_col=0).to_numpy()\n",
    "    WH_maxval = pd.read_csv(maxval_path,  index_col=0).to_numpy()\n",
    "    index_mx = 0\n",
    "    \n",
    "    for i in range(WH_index.shape[0]):\n",
    "        indexval = WH_index[i]\n",
    "        maxval = WH_maxval[i]\n",
    "        time_t = np.nonzero(indexval)[0]\n",
    "        #print(time_t)\n",
    "        #print(len(time_t))\n",
    "        if len(time_t) > 1:\n",
    "            taz_index = indexval[time_t]\n",
    "            obs_val = maxval[time_t]\n",
    "            userid = np.ones(len(time_t))*i\n",
    "            if index_mx == 0:\n",
    "                data_info = np.array([userid, time_t, taz_index, obs_val])\n",
    "                data_info = data_info.T\n",
    "                #print(data_info)\n",
    "                index_mx += 1\n",
    "            else:\n",
    "                data_info_cur = np.array([userid, time_t, taz_index, obs_val])\n",
    "                data_info_cur = data_info_cur.T\n",
    "                #print(data_info_cur)\n",
    "                data_info = np.vstack((data_info, data_info_cur))\n",
    "                \n",
    "    data_info = pd.DataFrame(data_info)\n",
    "    data_info.columns = ['user', 'time_5', 'fake_taz', 'obs']\n",
    "    data_info = add_taz_col(selected_taz, data_info, 'fake_taz')\n",
    "    \n",
    "    return(data_info)"
   ]
  },
  {
   "cell_type": "code",
   "execution_count": 69,
   "metadata": {},
   "outputs": [],
   "source": []
  },
  {
   "cell_type": "code",
   "execution_count": 70,
   "metadata": {},
   "outputs": [],
   "source": []
  },
  {
   "cell_type": "code",
   "execution_count": 62,
   "metadata": {},
   "outputs": [
    {
     "data": {
      "text/plain": [
       "(138268, 9)"
      ]
     },
     "execution_count": 62,
     "metadata": {},
     "output_type": "execute_result"
    }
   ],
   "source": []
  },
  {
   "cell_type": "code",
   "execution_count": 153,
   "metadata": {},
   "outputs": [
    {
     "name": "stdout",
     "output_type": "stream",
     "text": [
      "WH based on ts shape (186420, 5)\n",
      "WH based on t shape (214044, 6)\n",
      "dt_WH_t count    214044.000000\n",
      "mean          0.034199\n",
      "std           0.086039\n",
      "min           0.001000\n",
      "25%           0.002804\n",
      "50%           0.007956\n",
      "75%           0.027314\n",
      "max           1.604113\n",
      "Name: obs, dtype: float64\n",
      "dt_WH_ts count    186420.000000\n",
      "mean          0.029510\n",
      "std           0.086424\n",
      "min           0.001000\n",
      "25%           0.002192\n",
      "50%           0.005748\n",
      "75%           0.019183\n",
      "max           1.696141\n",
      "Name: obs, dtype: float64\n"
     ]
    }
   ],
   "source": [
    "#previous data processing\n",
    "#dt_WH_ts = get_WH_info('WH_index_ts.csv', 'WH_max_ts.csv', selected_taz)\n",
    "#dt_WH_t = get_WH_info('WH_index_t.csv', 'WH_max_t.csv', selected_taz)\n",
    "\n",
    "#processing the non_zeros\n",
    "dt_WH_ts = dt_WH_ts[dt_WH_ts.obs>0.001]\n",
    "print('WH based on ts shape', dt_WH_ts.shape)\n",
    "\n",
    "dt_WH_t = dt_WH_t[dt_WH_t.obs>0.001]\n",
    "print('WH based on t shape', dt_WH_t.shape)\n",
    "\n",
    "print('dt_WH_t', dt_WH_t.obs.describe())\n",
    "print('dt_WH_ts', dt_WH_ts.obs.describe())"
   ]
  },
  {
   "cell_type": "code",
   "execution_count": 157,
   "metadata": {},
   "outputs": [
    {
     "name": "stdout",
     "output_type": "stream",
     "text": [
      "12681\n",
      "16089\n"
     ]
    }
   ],
   "source": [
    "#previous ids\n",
    "userid_wh_t = np.unique(dt_WH_t.user)\n",
    "userid_wh_ts = np.unique(dt_WH_ts.user)\n",
    "\n",
    "print(len(userid_wh_t))\n",
    "print(len(userid_wh_ts))"
   ]
  },
  {
   "cell_type": "code",
   "execution_count": 164,
   "metadata": {},
   "outputs": [],
   "source": [
    "def check_overlapped_num(pred_dt, act_dt):\n",
    "    overlapped_index = []\n",
    "    for index_ in pred_dt['check_index'].values:\n",
    "        if index_ in act_dt['check_index'].values:\n",
    "            overlapped_index.append(index_)\n",
    "    return(overlapped_index)\n",
    "    \n",
    "def get_overlapped_index(index_path, maxval_path, selected_taz, act_dt):\n",
    "    pred_dt = get_WH_info(index_path, maxval_path, selected_taz)\n",
    "    print('pred_dt shape info', pred_dt.shape)\n",
    "    \n",
    "    act_dt['check_index'] = act_dt['user'].astype(str)+'_'+act_dt['taz_id'].astype(str)+'_'+act_dt['time_5'].astype(str)\n",
    "    pred_dt['user'] = pred_dt['user'].astype(int)\n",
    "    pred_dt['time_5'] = pred_dt['time_5'].astype(int)\n",
    "    \n",
    "    pred_dt['check_index'] = pred_dt['user'].astype(str)+'_'+pred_dt['taz_id'].astype(str)+'_'+pred_dt['time_5'].astype(str)\n",
    "    \n",
    "    #check overlapped\n",
    "    overlapped_index = check_overlapped_num(pred_dt, act_dt)\n",
    "    print('num overlapped index', len(overlapped_index))\n",
    "    \n",
    "    pred_dt = pred_dt[pred_dt['check_index'].isin(overlapped_index)]\n",
    "    return(pred_dt)"
   ]
  },
  {
   "cell_type": "code",
   "execution_count": null,
   "metadata": {},
   "outputs": [],
   "source": [
    "#previous test pred_WH = get_overlapped_index(dt_WH_t, fcd_out)\n",
    "dt_WH_t = get_overlapped_index('WH_index_t.csv', 'WH_max_t.csv', selected_taz, fcd_out)\n",
    "dt_WH_ts = get_overlapped_index('WH_index_ts.csv', 'WH_max_ts.csv', selected_taz, fcd_out)\n",
    "dt_WH_ts_1000 = get_overlapped_index('WH_index_ts_1000.csv', 'WH_max_ts_1000.csv', selected_taz, fcd_out)"
   ]
  },
  {
   "cell_type": "code",
   "execution_count": null,
   "metadata": {},
   "outputs": [],
   "source": []
  },
  {
   "cell_type": "code",
   "execution_count": null,
   "metadata": {},
   "outputs": [],
   "source": []
  },
  {
   "cell_type": "code",
   "execution_count": null,
   "metadata": {},
   "outputs": [],
   "source": []
  },
  {
   "cell_type": "code",
   "execution_count": null,
   "metadata": {},
   "outputs": [],
   "source": []
  },
  {
   "cell_type": "code",
   "execution_count": null,
   "metadata": {},
   "outputs": [],
   "source": []
  },
  {
   "cell_type": "code",
   "execution_count": null,
   "metadata": {},
   "outputs": [],
   "source": []
  }
 ],
 "metadata": {
  "kernelspec": {
   "display_name": "Python 3 (ipykernel)",
   "language": "python",
   "name": "python3"
  },
  "language_info": {
   "codemirror_mode": {
    "name": "ipython",
    "version": 3
   },
   "file_extension": ".py",
   "mimetype": "text/x-python",
   "name": "python",
   "nbconvert_exporter": "python",
   "pygments_lexer": "ipython3",
   "version": "3.8.5"
  }
 },
 "nbformat": 4,
 "nbformat_minor": 4
}
