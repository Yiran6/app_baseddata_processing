{
 "cells": [
  {
   "cell_type": "code",
   "execution_count": 3,
   "metadata": {},
   "outputs": [],
   "source": [
    "import glob"
   ]
  },
  {
   "cell_type": "code",
   "execution_count": 5,
   "metadata": {},
   "outputs": [
    {
     "name": "stdout",
     "output_type": "stream",
     "text": [
      "..\\PSRC_od_simulation_2018_data_processing.ipynb\n",
      "..\\app_baseddata_processing\\PSRC_od_simulation_2018_data_processing.ipynb\n",
      "..\\app_baseddata_processing\\Untitled.ipynb\n",
      "cannot read files ..\\del-en\\mxnet\\chapter_appendix-mathematics-for-deep-learning\\statistics.ipynb\n",
      "cannot read files ..\\del-en\\mxnet\\chapter_generative-adversarial-networks\\dcgan.ipynb\n",
      "cannot read files ..\\del-en\\mxnet\\chapter_introduction\\index.ipynb\n",
      "cannot read files ..\\del-en\\mxnet\\chapter_multilayer-perceptrons\\dropout.ipynb\n",
      "cannot read files ..\\del-en\\mxnet\\chapter_multilayer-perceptrons\\kaggle-house-price.ipynb\n",
      "cannot read files ..\\del-en\\mxnet\\chapter_natural-language-processing-applications\\finetuning-bert.ipynb\n",
      "cannot read files ..\\del-en\\mxnet\\chapter_natural-language-processing-applications\\natural-language-inference-and-dataset.ipynb\n",
      "cannot read files ..\\del-en\\mxnet\\chapter_natural-language-processing-applications\\natural-language-inference-bert.ipynb\n",
      "cannot read files ..\\del-en\\mxnet\\chapter_natural-language-processing-pretraining\\bert-dataset.ipynb\n",
      "cannot read files ..\\del-en\\mxnet\\chapter_natural-language-processing-pretraining\\bert-pretraining.ipynb\n",
      "cannot read files ..\\del-en\\mxnet\\chapter_natural-language-processing-pretraining\\bert.ipynb\n",
      "cannot read files ..\\del-en\\mxnet\\chapter_natural-language-processing-pretraining\\similarity-analogy.ipynb\n",
      "cannot read files ..\\del-en\\mxnet\\chapter_natural-language-processing-pretraining\\subword-embedding.ipynb\n",
      "cannot read files ..\\del-en\\mxnet\\chapter_recurrent-modern\\beam-search.ipynb\n",
      "cannot read files ..\\del-en\\mxnet\\chapter_recurrent-modern\\bi-rnn.ipynb\n",
      "cannot read files ..\\del-en\\mxnet\\chapter_recurrent-modern\\machine-translation-and-dataset.ipynb\n",
      "cannot read files ..\\del-en\\mxnet\\chapter_recurrent-neural-networks\\text-preprocessing.ipynb\n",
      "cannot read files ..\\del-en\\pytorch\\chapter_appendix-mathematics-for-deep-learning\\statistics.ipynb\n",
      "cannot read files ..\\del-en\\pytorch\\chapter_generative-adversarial-networks\\dcgan.ipynb\n",
      "cannot read files ..\\del-en\\pytorch\\chapter_introduction\\index.ipynb\n",
      "cannot read files ..\\del-en\\pytorch\\chapter_multilayer-perceptrons\\dropout.ipynb\n",
      "cannot read files ..\\del-en\\pytorch\\chapter_multilayer-perceptrons\\kaggle-house-price.ipynb\n",
      "cannot read files ..\\del-en\\pytorch\\chapter_natural-language-processing-applications\\finetuning-bert.ipynb\n",
      "cannot read files ..\\del-en\\pytorch\\chapter_natural-language-processing-applications\\natural-language-inference-and-dataset.ipynb\n",
      "cannot read files ..\\del-en\\pytorch\\chapter_natural-language-processing-applications\\natural-language-inference-bert.ipynb\n",
      "cannot read files ..\\del-en\\pytorch\\chapter_natural-language-processing-pretraining\\bert-dataset.ipynb\n",
      "cannot read files ..\\del-en\\pytorch\\chapter_natural-language-processing-pretraining\\bert-pretraining.ipynb\n",
      "cannot read files ..\\del-en\\pytorch\\chapter_natural-language-processing-pretraining\\bert.ipynb\n",
      "cannot read files ..\\del-en\\pytorch\\chapter_natural-language-processing-pretraining\\similarity-analogy.ipynb\n",
      "cannot read files ..\\del-en\\pytorch\\chapter_recurrent-modern\\beam-search.ipynb\n",
      "cannot read files ..\\del-en\\pytorch\\chapter_recurrent-modern\\bi-rnn.ipynb\n",
      "cannot read files ..\\del-en\\pytorch\\chapter_recurrent-modern\\machine-translation-and-dataset.ipynb\n",
      "cannot read files ..\\del-en\\pytorch\\chapter_recurrent-neural-networks\\text-preprocessing.ipynb\n",
      "cannot read files ..\\del-en\\tensorflow\\chapter_appendix-mathematics-for-deep-learning\\statistics.ipynb\n",
      "cannot read files ..\\del-en\\tensorflow\\chapter_generative-adversarial-networks\\dcgan.ipynb\n",
      "cannot read files ..\\del-en\\tensorflow\\chapter_introduction\\index.ipynb\n",
      "cannot read files ..\\del-en\\tensorflow\\chapter_multilayer-perceptrons\\dropout.ipynb\n",
      "cannot read files ..\\del-en\\tensorflow\\chapter_multilayer-perceptrons\\kaggle-house-price.ipynb\n",
      "cannot read files ..\\del-en\\tensorflow\\chapter_natural-language-processing-applications\\finetuning-bert.ipynb\n",
      "cannot read files ..\\del-en\\tensorflow\\chapter_recurrent-modern\\beam-search.ipynb\n",
      "cannot read files ..\\del-en\\tensorflow\\chapter_recurrent-modern\\machine-translation-and-dataset.ipynb\n",
      "cannot read files ..\\del-en\\tensorflow\\chapter_recurrent-neural-networks\\text-preprocessing.ipynb\n",
      "cannot read files ..\\models\\research\\nst_blogpost\\4_Neural_Style_Transfer_with_Eager_Execution.ipynb\n",
      "cannot read files ..\\pysal\\notebooks\\explore\\giddy\\Markov Based Methods.ipynb\n",
      "cannot read files ..\\pysal\\notebooks\\explore\\giddy\\Mobility measures.ipynb\n",
      "cannot read files ..\\pysal\\notebooks\\explore\\giddy\\Rank based Methods.ipynb\n",
      "cannot read files ..\\pysal\\notebooks\\explore\\pointpats\\distance_statistics.ipynb\n",
      "cannot read files ..\\pysal\\notebooks\\viz\\splot\\libpysal_non_planar_joins_viz.ipynb\n",
      "cannot read files ..\\Resources\\Academic quarter\\FHWA Project\\Alaska Tunnel\\Sensys data\\data_process.ipynb\n",
      "cannot read files ..\\Resources\\Academic quarter\\MASTER resource\\Autumn Quarter 2\\CSE 583\\LectureNotes-master\\Debugging-and-Exceptions\\Debugging.ipynb\n",
      "cannot read files ..\\Resources\\Academic quarter\\MASTER resource\\Spring Quarter 2\\CET 599\\Assignment\\Project 1\\CET599_P1-self.ipynb\n",
      "cannot read files ..\\Resources\\Academic quarter\\python\\LectureNotes\\Debugging-and-Exceptions\\Debugging.ipynb\n"
     ]
    }
   ],
   "source": [
    "pattern = '../**/*.ipynb'\n",
    "query = 'act per'\n",
    "\n",
    "for filepath in glob.iglob(pattern, recursive=True):\n",
    "    with open(filepath) as file:\n",
    "        try:\n",
    "            s = file.read()\n",
    "            if (s.find(query) > -1):\n",
    "                print(filepath)\n",
    "        except:\n",
    "            print('cannot read files', filepath)"
   ]
  }
 ],
 "metadata": {
  "kernelspec": {
   "display_name": "Python 3 (ipykernel)",
   "language": "python",
   "name": "python3"
  },
  "language_info": {
   "codemirror_mode": {
    "name": "ipython",
    "version": 3
   },
   "file_extension": ".py",
   "mimetype": "text/x-python",
   "name": "python",
   "nbconvert_exporter": "python",
   "pygments_lexer": "ipython3",
   "version": "3.8.5"
  }
 },
 "nbformat": 4,
 "nbformat_minor": 4
}
