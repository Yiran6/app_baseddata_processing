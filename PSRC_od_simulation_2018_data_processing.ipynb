{
 "cells": [
  {
   "cell_type": "code",
   "execution_count": 1,
   "metadata": {
    "pycharm": {
     "name": "#%%\n"
    }
   },
   "outputs": [],
   "source": [
    "#libraries\n",
    "import os \n",
    "import pandas as pd\n",
    "import numpy as np \n",
    "import h5py\n",
    "import math\n",
    "import collections\n",
    "import filecmp\n",
    "from lxml import etree as ET\n",
    "#import xml.etree.ElementTree as ET\n",
    "import datetime\n",
    "from collections import OrderedDict\n",
    "#import pandasql as ps\n",
    "from operator import itemgetter\n",
    "import csv\n",
    "from collections import Counter\n",
    "#from google.colab import drive\n",
    "\n",
    "import geopandas as gpd\n",
    "#import pandasql as ps\n",
    "import matplotlib.pyplot as plt\n",
    "import shapefile as shp\n",
    "import seaborn as sns\n",
    "import random\n",
    "import time\n",
    "from sklearn.model_selection import train_test_split\n",
    "#import pysal as ps\n",
    "import scipy\n",
    "import fiona\n",
    "\n",
    "from scipy.stats import kstest\n",
    "from scipy.stats import mannwhitneyu"
   ]
  },
  {
   "cell_type": "code",
   "execution_count": 2,
   "metadata": {},
   "outputs": [],
   "source": [
    "os.chdir('G:/My Drive/2021/Bias/PSRC_od_simulation_2018')"
   ]
  },
  {
   "cell_type": "code",
   "execution_count": 3,
   "metadata": {},
   "outputs": [],
   "source": [
    "import torch.nn as nn"
   ]
  },
  {
   "cell_type": "code",
   "execution_count": 4,
   "metadata": {},
   "outputs": [],
   "source": [
    "os.chdir('G:/My Drive/2021/Bias/recsys_test/ml-20m/psrc_test_01')\n",
    "train = pd.read_csv('train.csv').to_numpy()"
   ]
  },
  {
   "cell_type": "code",
   "execution_count": 58,
   "metadata": {},
   "outputs": [
    {
     "data": {
      "text/plain": [
       "tensor([[0., 0., 0.,  ..., 0., 0., 0.],\n",
       "        [0., 0., 0.,  ..., 0., 0., 0.],\n",
       "        [0., 0., 0.,  ..., 0., 0., 0.],\n",
       "        ...,\n",
       "        [0., 0., 0.,  ..., 0., 0., 0.],\n",
       "        [0., 0., 0.,  ..., 0., 0., 0.],\n",
       "        [0., 0., 0.,  ..., 0., 0., 0.]])"
      ]
     },
     "execution_count": 58,
     "metadata": {},
     "output_type": "execute_result"
    }
   ],
   "source": [
    "torch.FloatTensor(train)"
   ]
  },
  {
   "cell_type": "markdown",
   "metadata": {},
   "source": [
    "## PSRC simulation data extract"
   ]
  },
  {
   "cell_type": "code",
   "execution_count": 68,
   "metadata": {
    "pycharm": {
     "name": "#%%\n"
    }
   },
   "outputs": [],
   "source": [
    "#Mount\n",
    "#create drive content\n",
    "#drive.mount('/content/drive', force_remount= True)\n",
    "os.chdir('G:/My Drive/2021/Bias/PSRC_od_simulation_2018')\n",
    "#os.listdir()\n",
    "\n",
    "# Create functions to open the tables in daysim_outputs.h5\n",
    "def h5_to_data_frame(h5file, table_name):\n",
    "    table = h5file[table_name]\n",
    "    col_dict = {}\n",
    "    #cols = ['hhno', 'hhtaz']\n",
    "    for col in table.keys():\n",
    "        if col == 'sov_ff_time':\n",
    "            pass\n",
    "        else:\n",
    "            my_array = np.asarray(table[col]).astype('int')\n",
    "        col_dict[col] = my_array.astype('int')\n",
    "    return(pd.DataFrame(col_dict))\n",
    "\n",
    "# Create functions to check the data\n",
    "def print_dt_info(dt, dtname):\n",
    "    print(dtname)\n",
    "    print('shape', dt.shape)\n",
    "    print('colnames', dt.columns)"
   ]
  },
  {
   "cell_type": "code",
   "execution_count": 69,
   "metadata": {
    "pycharm": {
     "name": "#%%\n"
    }
   },
   "outputs": [
    {
     "name": "stdout",
     "output_type": "stream",
     "text": [
      "<KeysViewHDF5 ['Household', 'HouseholdDay', 'Person', 'PersonDay', 'Tour', 'Trip']>\n"
     ]
    }
   ],
   "source": [
    "# Read the daysim_outputs file\n",
    "#hdf_file = h5py.File(r'/content/drive/My Drive/Colab Notebooks/Project/daysim_outputs.h5', \"r\")\n",
    "hdf_file = h5py.File(r'daysim_outputs.h5', \"r\")\n",
    "\n",
    "# output_dir = r'\\\\modelstation3\\c$\\\\Workspace\\sc_new_emp_SCEN3_2018'\n",
    "print(hdf_file.keys())"
   ]
  },
  {
   "cell_type": "code",
   "execution_count": 70,
   "metadata": {
    "pycharm": {
     "name": "#%%\n"
    }
   },
   "outputs": [],
   "source": [
    "# Get the tables: trips, person, household, tours\n",
    "# hhs and persons:\n",
    "trips = h5_to_data_frame(hdf_file, 'Trip')\n",
    "# get trips columns to use later\n",
    "trips_columns = trips.columns\n",
    "\n",
    "#get data\n",
    "person = h5_to_data_frame(hdf_file, 'Person')\n",
    "hh = h5_to_data_frame(hdf_file, 'Household')\n",
    "\n",
    "tours = h5_to_data_frame(hdf_file, 'Tour')\n",
    "person = person.merge(hh, how= 'left', left_on = 'hhno', right_on = 'hhno')\n",
    "\n",
    "hh_day = h5_to_data_frame(hdf_file, 'HouseholdDay')\n",
    "person_day = h5_to_data_frame(hdf_file, 'PersonDay')"
   ]
  },
  {
   "cell_type": "code",
   "execution_count": 71,
   "metadata": {},
   "outputs": [
    {
     "name": "stdout",
     "output_type": "stream",
     "text": [
      "num taz covered 3443\n"
     ]
    }
   ],
   "source": [
    "# Build a new person id column in tours and trips table\n",
    "tours['person_id'] = tours['hhno'].astype(str) + '_' + tours['pno'].astype(str)\n",
    "trips['person_id'] = trips['hhno'].astype(str) + '_' + trips['pno'].astype(str)\n",
    "\n",
    "# Build a new person id column in tours and trips table\n",
    "tours.keys()\n",
    "trips.keys()\n",
    "\n",
    "#print zone id covered in person dataframe\n",
    "print('num taz covered', len(np.unique(person['zone_id'])))"
   ]
  },
  {
   "cell_type": "code",
   "execution_count": 72,
   "metadata": {},
   "outputs": [
    {
     "name": "stdout",
     "output_type": "stream",
     "text": [
      "person\n",
      "shape (4053154, 44)\n",
      "colnames Index(['hhno', 'id', 'pagey', 'pdiary', 'pgend', 'pno', 'ppaidprk', 'pproxy',\n",
      "       'pptyp', 'psaudist', 'psautime', 'psexpfac', 'pspcl', 'pstaz', 'pstyp',\n",
      "       'ptpass', 'puwarrp', 'puwdepp', 'puwmode', 'pwaudist', 'pwautime',\n",
      "       'pwpcl', 'pwtaz', 'pwtyp', 'fraction_with_jobs_outside', 'hh515',\n",
      "       'hhcu5', 'hhexpfac', 'hhftw', 'hhhsc', 'hhincome', 'hhoad', 'hhparcel',\n",
      "       'hhptw', 'hhret', 'hhsize', 'hhtaz', 'hhuni', 'hhvehs', 'hhwkrs',\n",
      "       'hownrent', 'hrestype', 'samptype', 'zone_id'],\n",
      "      dtype='object')\n",
      "person_day\n",
      "shape (4053154, 31)\n",
      "colnames Index(['beghom', 'day', 'endhom', 'esstops', 'estours', 'hbtours', 'hhno',\n",
      "       'household_day_id', 'id', 'mestops', 'metours', 'mlstops', 'mltours',\n",
      "       'pbstops', 'pbtours', 'pdexpfac', 'person_id', 'pno', 'restops',\n",
      "       'retours', 'scstops', 'sctours', 'shstops', 'shtours', 'sostops',\n",
      "       'sotours', 'uwtours', 'wbtours', 'wkathome', 'wkstops', 'wktours'],\n",
      "      dtype='object')\n",
      "hh\n",
      "shape (1605263, 21)\n",
      "colnames Index(['fraction_with_jobs_outside', 'hh515', 'hhcu5', 'hhexpfac', 'hhftw',\n",
      "       'hhhsc', 'hhincome', 'hhno', 'hhoad', 'hhparcel', 'hhptw', 'hhret',\n",
      "       'hhsize', 'hhtaz', 'hhuni', 'hhvehs', 'hhwkrs', 'hownrent', 'hrestype',\n",
      "       'samptype', 'zone_id'],\n",
      "      dtype='object')\n",
      "hh_day\n",
      "shape (1605263, 8)\n",
      "colnames Index(['day', 'dow', 'fhtours', 'hdexpfac', 'hhno', 'id', 'jttours',\n",
      "       'phtours'],\n",
      "      dtype='object')\n",
      "tours\n",
      "shape (6409921, 33)\n",
      "colnames Index(['day', 'fhtindx1', 'fhtindx2', 'hhno', 'id', 'jtindex', 'parent',\n",
      "       'pdpurp', 'person_day_id', 'person_id', 'phtindx1', 'phtindx2', 'pno',\n",
      "       'subtrs', 'tardest', 'tarorig', 'tautocost', 'tautodist', 'tautotime',\n",
      "       'tdadtyp', 'tdpcl', 'tdtaz', 'tlvdest', 'tlvorig', 'tmodetp', 'toadtyp',\n",
      "       'toexpfac', 'topcl', 'totaz', 'tour', 'tpathtp', 'tripsh1', 'tripsh2'],\n",
      "      dtype='object')\n",
      "trips\n",
      "shape (16306270, 30)\n",
      "colnames Index(['arrtm', 'dadtyp', 'day', 'deptm', 'dorp', 'dpcl', 'dpurp', 'dtaz',\n",
      "       'endacttm', 'half', 'hhno', 'id', 'mode', 'oadtyp', 'opcl', 'opurp',\n",
      "       'otaz', 'pathtype', 'pno', 'sov_ff_time', 'tour', 'tour_id', 'travcost',\n",
      "       'travdist', 'travtime', 'trexpfac', 'tseg', 'tsvid', 'vot',\n",
      "       'person_id'],\n",
      "      dtype='object')\n"
     ]
    }
   ],
   "source": [
    "print_dt_info(person, 'person')\n",
    "print_dt_info(person_day, 'person_day')\n",
    "print_dt_info(hh, 'hh')\n",
    "print_dt_info(hh_day, 'hh_day')\n",
    "print_dt_info(tours, 'tours')\n",
    "print_dt_info(trips, 'trips')"
   ]
  },
  {
   "cell_type": "code",
   "execution_count": 73,
   "metadata": {},
   "outputs": [
    {
     "name": "stdout",
     "output_type": "stream",
     "text": [
      "data shape\n",
      "tours (6409921, 33)\n",
      "trips (16306270, 30)\n"
     ]
    }
   ],
   "source": [
    "print('data shape')\n",
    "print('tours', tours.shape)\n",
    "print('trips', trips.shape)"
   ]
  },
  {
   "cell_type": "code",
   "execution_count": 74,
   "metadata": {},
   "outputs": [],
   "source": [
    "#get information we need\n",
    "path= 'G:/My Drive/2021/Bias/SUMO_simulation/MatSumo-main/SUMO/SUMO_network/'\n",
    "datafile = 'Taz_with_pseudo_link.add.xml'\n",
    "tree = ET.parse(path+datafile)\n",
    "root = tree.getroot()\n",
    "selected_taz = []\n",
    "for taz in root.findall('taz'):\n",
    "    tazid = taz.get('id')\n",
    "    #filter out pseudo taz\n",
    "    if len(tazid) <=3:\n",
    "        selected_taz.append(int(tazid))"
   ]
  },
  {
   "cell_type": "code",
   "execution_count": 77,
   "metadata": {},
   "outputs": [
    {
     "data": {
      "text/plain": [
       "(16306270, 30)"
      ]
     },
     "execution_count": 77,
     "metadata": {},
     "output_type": "execute_result"
    }
   ],
   "source": [
    "trips.shape"
   ]
  },
  {
   "cell_type": "code",
   "execution_count": 81,
   "metadata": {},
   "outputs": [
    {
     "name": "stdout",
     "output_type": "stream",
     "text": [
      "(16306270, 30)\n",
      "(1459959, 30)\n"
     ]
    }
   ],
   "source": [
    "#selected taz \n",
    "print(trips.shape)\n",
    "trip_revised = trips[(trips['otaz'].isin(selected_taz))|(trips['dtaz'].isin(selected_taz))]\n",
    "print(trip_revised.shape)"
   ]
  },
  {
   "cell_type": "code",
   "execution_count": 82,
   "metadata": {},
   "outputs": [],
   "source": [
    "tours = tours[(tours['totaz'].isin(selected_taz))|(tours['tdtaz'].isin(selected_taz))]"
   ]
  },
  {
   "cell_type": "code",
   "execution_count": 83,
   "metadata": {},
   "outputs": [
    {
     "name": "stdout",
     "output_type": "stream",
     "text": [
      "revised data shape\n",
      "tours (608245, 33)\n",
      "trip_revised (1459959, 30)\n"
     ]
    }
   ],
   "source": [
    "print('revised data shape')\n",
    "print('tours', tours.shape)\n",
    "print('trip_revised', trip_revised.shape)\n",
    "#thus tours may cover multiple trips\n",
    "#we focus on trips"
   ]
  },
  {
   "cell_type": "code",
   "execution_count": 84,
   "metadata": {},
   "outputs": [],
   "source": [
    "def check_odtaz(input_od, selected_taz):\n",
    "    o, d = input_od\n",
    "    if o not in selected_taz and d not in selected_taz:\n",
    "        print('warning! od both not in the selected taz')\n",
    "        print(input_od)\n",
    "\n",
    "#check if any taz not from the selected taz \n",
    "for input_od in trip_revised[['otaz', 'dtaz']].values:\n",
    "    check_odtaz(input_od, selected_taz)"
   ]
  },
  {
   "cell_type": "code",
   "execution_count": 15,
   "metadata": {},
   "outputs": [],
   "source": [
    "#mode\n",
    "#1=walk, 2=bike, 3=sov, 4=hov 2, 5=hov 3+, 6=walk to transit, \n",
    "#7=park and ride, 8=school bus, 9=TNC, 10=other – survey only\n",
    "\n",
    "#pathtype\n",
    "#np.unique(trip_revised['pathtype'])\n",
    "#Trip path type (0=None, 1=full network, 2=no-toll network, 3=local bus, \n",
    "#4=light rail, 5=premium bus, 6=commuter rail, 7=ferry) "
   ]
  },
  {
   "cell_type": "code",
   "execution_count": 85,
   "metadata": {},
   "outputs": [],
   "source": [
    "#get specific person id\n",
    "#hhno + pno\n",
    "hhnopno_id = (trip_revised.hhno.astype('str')+'_'+trip_revised['pno'].astype('str')).values\n",
    "\n",
    "#np.unique(trip_revised.hhno)\n",
    "person['hhnopno_id'] = person.hhno.astype('str')+'_'+person.pno.astype('str')\n",
    "person = person[person['hhnopno_id'].isin(hhnopno_id)]"
   ]
  },
  {
   "cell_type": "code",
   "execution_count": 86,
   "metadata": {},
   "outputs": [
    {
     "data": {
      "text/plain": [
       "82305"
      ]
     },
     "execution_count": 86,
     "metadata": {},
     "output_type": "execute_result"
    }
   ],
   "source": [
    "len(person[person['zone_id'].isin(selected_taz)])"
   ]
  },
  {
   "cell_type": "code",
   "execution_count": 87,
   "metadata": {},
   "outputs": [
    {
     "data": {
      "text/plain": [
       "444911"
      ]
     },
     "execution_count": 87,
     "metadata": {},
     "output_type": "execute_result"
    }
   ],
   "source": [
    "len(person)"
   ]
  },
  {
   "cell_type": "code",
   "execution_count": 88,
   "metadata": {},
   "outputs": [],
   "source": [
    "trip_revised = trip_revised.sort_values(by=['hhno', 'pno'])\n",
    "person = person.sort_values(by=['hhno', 'pno'])"
   ]
  },
  {
   "cell_type": "code",
   "execution_count": 89,
   "metadata": {},
   "outputs": [
    {
     "data": {
      "text/plain": [
       "Index(['arrtm', 'dadtyp', 'day', 'deptm', 'dorp', 'dpcl', 'dpurp', 'dtaz',\n",
       "       'endacttm', 'half', 'hhno', 'id', 'mode', 'oadtyp', 'opcl', 'opurp',\n",
       "       'otaz', 'pathtype', 'pno', 'sov_ff_time', 'tour', 'tour_id', 'travcost',\n",
       "       'travdist', 'travtime', 'trexpfac', 'tseg', 'tsvid', 'vot',\n",
       "       'person_id'],\n",
       "      dtype='object')"
      ]
     },
     "execution_count": 89,
     "metadata": {},
     "output_type": "execute_result"
    }
   ],
   "source": [
    "trip_revised.columns"
   ]
  },
  {
   "cell_type": "code",
   "execution_count": 90,
   "metadata": {},
   "outputs": [
    {
     "data": {
      "text/plain": [
       "array([ 1,  2,  3,  4,  5,  6,  7,  8,  9, 10, 11])"
      ]
     },
     "execution_count": 90,
     "metadata": {},
     "output_type": "execute_result"
    }
   ],
   "source": [
    "np.unique(trip_revised.tour)"
   ]
  },
  {
   "cell_type": "code",
   "execution_count": 91,
   "metadata": {},
   "outputs": [
    {
     "data": {
      "text/html": [
       "<div>\n",
       "<style scoped>\n",
       "    .dataframe tbody tr th:only-of-type {\n",
       "        vertical-align: middle;\n",
       "    }\n",
       "\n",
       "    .dataframe tbody tr th {\n",
       "        vertical-align: top;\n",
       "    }\n",
       "\n",
       "    .dataframe thead th {\n",
       "        text-align: right;\n",
       "    }\n",
       "</style>\n",
       "<table border=\"1\" class=\"dataframe\">\n",
       "  <thead>\n",
       "    <tr style=\"text-align: right;\">\n",
       "      <th></th>\n",
       "      <th>hhno</th>\n",
       "      <th>pno</th>\n",
       "      <th>otaz</th>\n",
       "      <th>dtaz</th>\n",
       "      <th>deptm</th>\n",
       "      <th>arrtm</th>\n",
       "      <th>travtime</th>\n",
       "      <th>day</th>\n",
       "      <th>tour</th>\n",
       "    </tr>\n",
       "  </thead>\n",
       "  <tbody>\n",
       "    <tr>\n",
       "      <th>162</th>\n",
       "      <td>2</td>\n",
       "      <td>1</td>\n",
       "      <td>3591</td>\n",
       "      <td>610</td>\n",
       "      <td>351</td>\n",
       "      <td>415</td>\n",
       "      <td>64</td>\n",
       "      <td>1</td>\n",
       "      <td>1</td>\n",
       "    </tr>\n",
       "    <tr>\n",
       "      <th>163</th>\n",
       "      <td>2</td>\n",
       "      <td>1</td>\n",
       "      <td>610</td>\n",
       "      <td>537</td>\n",
       "      <td>729</td>\n",
       "      <td>737</td>\n",
       "      <td>8</td>\n",
       "      <td>1</td>\n",
       "      <td>1</td>\n",
       "    </tr>\n",
       "    <tr>\n",
       "      <th>164</th>\n",
       "      <td>2</td>\n",
       "      <td>1</td>\n",
       "      <td>537</td>\n",
       "      <td>3591</td>\n",
       "      <td>928</td>\n",
       "      <td>993</td>\n",
       "      <td>65</td>\n",
       "      <td>1</td>\n",
       "      <td>1</td>\n",
       "    </tr>\n",
       "    <tr>\n",
       "      <th>165</th>\n",
       "      <td>2</td>\n",
       "      <td>1</td>\n",
       "      <td>3591</td>\n",
       "      <td>610</td>\n",
       "      <td>1053</td>\n",
       "      <td>1129</td>\n",
       "      <td>76</td>\n",
       "      <td>1</td>\n",
       "      <td>2</td>\n",
       "    </tr>\n",
       "    <tr>\n",
       "      <th>166</th>\n",
       "      <td>2</td>\n",
       "      <td>1</td>\n",
       "      <td>610</td>\n",
       "      <td>3591</td>\n",
       "      <td>1376</td>\n",
       "      <td>18</td>\n",
       "      <td>82</td>\n",
       "      <td>1</td>\n",
       "      <td>2</td>\n",
       "    </tr>\n",
       "    <tr>\n",
       "      <th>...</th>\n",
       "      <td>...</td>\n",
       "      <td>...</td>\n",
       "      <td>...</td>\n",
       "      <td>...</td>\n",
       "      <td>...</td>\n",
       "      <td>...</td>\n",
       "      <td>...</td>\n",
       "      <td>...</td>\n",
       "      <td>...</td>\n",
       "    </tr>\n",
       "    <tr>\n",
       "      <th>16271236</th>\n",
       "      <td>1605248</td>\n",
       "      <td>3</td>\n",
       "      <td>578</td>\n",
       "      <td>2199</td>\n",
       "      <td>1032</td>\n",
       "      <td>1135</td>\n",
       "      <td>103</td>\n",
       "      <td>1</td>\n",
       "      <td>1</td>\n",
       "    </tr>\n",
       "    <tr>\n",
       "      <th>16259247</th>\n",
       "      <td>1605252</td>\n",
       "      <td>3</td>\n",
       "      <td>1519</td>\n",
       "      <td>627</td>\n",
       "      <td>870</td>\n",
       "      <td>890</td>\n",
       "      <td>20</td>\n",
       "      <td>1</td>\n",
       "      <td>4</td>\n",
       "    </tr>\n",
       "    <tr>\n",
       "      <th>16259248</th>\n",
       "      <td>1605252</td>\n",
       "      <td>3</td>\n",
       "      <td>627</td>\n",
       "      <td>1519</td>\n",
       "      <td>913</td>\n",
       "      <td>938</td>\n",
       "      <td>25</td>\n",
       "      <td>1</td>\n",
       "      <td>4</td>\n",
       "    </tr>\n",
       "    <tr>\n",
       "      <th>16280359</th>\n",
       "      <td>1605262</td>\n",
       "      <td>1</td>\n",
       "      <td>2199</td>\n",
       "      <td>435</td>\n",
       "      <td>521</td>\n",
       "      <td>604</td>\n",
       "      <td>83</td>\n",
       "      <td>1</td>\n",
       "      <td>1</td>\n",
       "    </tr>\n",
       "    <tr>\n",
       "      <th>16280360</th>\n",
       "      <td>1605262</td>\n",
       "      <td>1</td>\n",
       "      <td>435</td>\n",
       "      <td>2193</td>\n",
       "      <td>963</td>\n",
       "      <td>1053</td>\n",
       "      <td>90</td>\n",
       "      <td>1</td>\n",
       "      <td>1</td>\n",
       "    </tr>\n",
       "  </tbody>\n",
       "</table>\n",
       "<p>1459959 rows × 9 columns</p>\n",
       "</div>"
      ],
      "text/plain": [
       "             hhno  pno  otaz  dtaz  deptm  arrtm  travtime  day  tour\n",
       "162             2    1  3591   610    351    415        64    1     1\n",
       "163             2    1   610   537    729    737         8    1     1\n",
       "164             2    1   537  3591    928    993        65    1     1\n",
       "165             2    1  3591   610   1053   1129        76    1     2\n",
       "166             2    1   610  3591   1376     18        82    1     2\n",
       "...           ...  ...   ...   ...    ...    ...       ...  ...   ...\n",
       "16271236  1605248    3   578  2199   1032   1135       103    1     1\n",
       "16259247  1605252    3  1519   627    870    890        20    1     4\n",
       "16259248  1605252    3   627  1519    913    938        25    1     4\n",
       "16280359  1605262    1  2199   435    521    604        83    1     1\n",
       "16280360  1605262    1   435  2193    963   1053        90    1     1\n",
       "\n",
       "[1459959 rows x 9 columns]"
      ]
     },
     "execution_count": 91,
     "metadata": {},
     "output_type": "execute_result"
    }
   ],
   "source": [
    "trip_revised[['hhno','pno','otaz', 'dtaz','deptm','arrtm','travtime','day','tour']]"
   ]
  },
  {
   "cell_type": "code",
   "execution_count": 92,
   "metadata": {},
   "outputs": [],
   "source": [
    "trip_revised['tmdiff'] = trip_revised['arrtm'] - trip_revised['deptm']"
   ]
  },
  {
   "cell_type": "code",
   "execution_count": 93,
   "metadata": {},
   "outputs": [],
   "source": [
    "trip_revised['diffvstravel'] = (trip_revised['tmdiff']==trip_revised['travtime'])\n",
    "\n",
    "revised_val = lambda x: 1 if x==True else 0\n",
    "trip_revised['diffvstravel'] = trip_revised['diffvstravel'].apply(revised_val)"
   ]
  },
  {
   "cell_type": "code",
   "execution_count": 94,
   "metadata": {},
   "outputs": [],
   "source": [
    "trips = trip_revised[['hhno','pno','otaz', 'dtaz','deptm','arrtm','travtime','tmdiff','diffvstravel','day','tour', 'mode']]"
   ]
  },
  {
   "cell_type": "code",
   "execution_count": 95,
   "metadata": {},
   "outputs": [
    {
     "name": "stderr",
     "output_type": "stream",
     "text": [
      "C:\\Users\\29700\\AppData\\Local\\Temp\\ipykernel_11556\\1995806919.py:18: SettingWithCopyWarning: \n",
      "A value is trying to be set on a copy of a slice from a DataFrame.\n",
      "Try using .loc[row_indexer,col_indexer] = value instead\n",
      "\n",
      "See the caveats in the documentation: https://pandas.pydata.org/pandas-docs/stable/user_guide/indexing.html#returning-a-view-versus-a-copy\n",
      "  trips['sumo_deptm'] = sumo_departure_time\n"
     ]
    }
   ],
   "source": [
    "def get_departtime(deptm, arrtm):\n",
    "    #check departure time format\n",
    "    #in minutes or hours*100+minutes\n",
    "    de_index = deptm%100\n",
    "    ar_index = arrtm%100\n",
    "    if de_index < 60 and ar_index<60:\n",
    "        #convert to seconds\n",
    "        return(deptm//100*3600+de_index*60)\n",
    "    else:\n",
    "        return(deptm//60*3600+deptm%60*60)\n",
    "    \n",
    "de_ar_time = trips[['deptm', 'arrtm']].values\n",
    "sumo_departure_time = []\n",
    "for t in de_ar_time:\n",
    "    det, art = t\n",
    "    sumo_departure_time.append(get_departtime(det, art))\n",
    "    \n",
    "trips['sumo_deptm'] = sumo_departure_time\n",
    "#convert depart time \n",
    "trips = trips.sort_values(by=['sumo_deptm'])"
   ]
  },
  {
   "cell_type": "code",
   "execution_count": 96,
   "metadata": {},
   "outputs": [
    {
     "name": "stdout",
     "output_type": "stream",
     "text": [
      "# of taz both in downtown Seattle\n",
      "929072\n",
      "total trips we have\n",
      "1459959\n"
     ]
    }
   ],
   "source": [
    "selected_taz_index =  lambda x: 0 if x in selected_taz else 1\n",
    "\n",
    "ori_index = trips.otaz.apply(selected_taz_index).values\n",
    "dest_index = trips.dtaz.apply(selected_taz_index).values\n",
    "taz_index = ori_index+dest_index\n",
    "\n",
    "print('# of taz both in downtown Seattle')\n",
    "print(np.count_nonzero(taz_index))\n",
    "print('total trips we have')\n",
    "print(len(taz_index))\n",
    "trips['taz_index'] = taz_index\n",
    "\n",
    "#current input for sumo downtown Seattle\n",
    "'''print('# of taz both in downtown Seattle')\n",
    "print(np.count_nonzero(taz_index))\n",
    "print('total trips we have')\n",
    "print(len(taz_index))\n",
    "trips['taz_index'] = taz_index'''\n",
    "\n",
    "del(ori_index)\n",
    "del(dest_index)\n",
    "del(taz_index)"
   ]
  },
  {
   "cell_type": "code",
   "execution_count": 98,
   "metadata": {},
   "outputs": [],
   "source": [
    "trips['personid'] = trips.hhno.astype('str')+'_'+trips.pno.astype('str')"
   ]
  },
  {
   "cell_type": "code",
   "execution_count": 102,
   "metadata": {},
   "outputs": [],
   "source": [
    "trips = trips.sort_values(by=['hhno','pno'])"
   ]
  },
  {
   "cell_type": "code",
   "execution_count": 116,
   "metadata": {},
   "outputs": [],
   "source": [
    "home_index = lambda x: 1 if x in selected_taz else 2"
   ]
  },
  {
   "cell_type": "code",
   "execution_count": 117,
   "metadata": {},
   "outputs": [],
   "source": [
    "person['home_indt'] = person['zone_id'].apply(home_index)"
   ]
  },
  {
   "cell_type": "code",
   "execution_count": 118,
   "metadata": {},
   "outputs": [
    {
     "data": {
      "text/html": [
       "<div>\n",
       "<style scoped>\n",
       "    .dataframe tbody tr th:only-of-type {\n",
       "        vertical-align: middle;\n",
       "    }\n",
       "\n",
       "    .dataframe tbody tr th {\n",
       "        vertical-align: top;\n",
       "    }\n",
       "\n",
       "    .dataframe thead th {\n",
       "        text-align: right;\n",
       "    }\n",
       "</style>\n",
       "<table border=\"1\" class=\"dataframe\">\n",
       "  <thead>\n",
       "    <tr style=\"text-align: right;\">\n",
       "      <th></th>\n",
       "      <th>hhno</th>\n",
       "      <th>id</th>\n",
       "      <th>pagey</th>\n",
       "      <th>pdiary</th>\n",
       "      <th>pgend</th>\n",
       "      <th>pno</th>\n",
       "      <th>ppaidprk</th>\n",
       "      <th>pproxy</th>\n",
       "      <th>pptyp</th>\n",
       "      <th>psaudist</th>\n",
       "      <th>...</th>\n",
       "      <th>hhtaz</th>\n",
       "      <th>hhuni</th>\n",
       "      <th>hhvehs</th>\n",
       "      <th>hhwkrs</th>\n",
       "      <th>hownrent</th>\n",
       "      <th>hrestype</th>\n",
       "      <th>samptype</th>\n",
       "      <th>zone_id</th>\n",
       "      <th>hhnopno_id</th>\n",
       "      <th>home_indt</th>\n",
       "    </tr>\n",
       "  </thead>\n",
       "  <tbody>\n",
       "    <tr>\n",
       "      <th>538886</th>\n",
       "      <td>232792</td>\n",
       "      <td>539066</td>\n",
       "      <td>70</td>\n",
       "      <td>-1</td>\n",
       "      <td>1</td>\n",
       "      <td>1</td>\n",
       "      <td>0</td>\n",
       "      <td>-1</td>\n",
       "      <td>2</td>\n",
       "      <td>-1</td>\n",
       "      <td>...</td>\n",
       "      <td>575</td>\n",
       "      <td>0</td>\n",
       "      <td>1</td>\n",
       "      <td>-1</td>\n",
       "      <td>1</td>\n",
       "      <td>3</td>\n",
       "      <td>-1</td>\n",
       "      <td>574</td>\n",
       "      <td>232792_1</td>\n",
       "      <td>1</td>\n",
       "    </tr>\n",
       "    <tr>\n",
       "      <th>543526</th>\n",
       "      <td>232793</td>\n",
       "      <td>539067</td>\n",
       "      <td>61</td>\n",
       "      <td>-1</td>\n",
       "      <td>2</td>\n",
       "      <td>1</td>\n",
       "      <td>0</td>\n",
       "      <td>-1</td>\n",
       "      <td>1</td>\n",
       "      <td>-1</td>\n",
       "      <td>...</td>\n",
       "      <td>574</td>\n",
       "      <td>0</td>\n",
       "      <td>0</td>\n",
       "      <td>-1</td>\n",
       "      <td>1</td>\n",
       "      <td>3</td>\n",
       "      <td>-1</td>\n",
       "      <td>573</td>\n",
       "      <td>232793_1</td>\n",
       "      <td>1</td>\n",
       "    </tr>\n",
       "    <tr>\n",
       "      <th>541115</th>\n",
       "      <td>232794</td>\n",
       "      <td>539068</td>\n",
       "      <td>61</td>\n",
       "      <td>-1</td>\n",
       "      <td>2</td>\n",
       "      <td>1</td>\n",
       "      <td>0</td>\n",
       "      <td>-1</td>\n",
       "      <td>1</td>\n",
       "      <td>-1</td>\n",
       "      <td>...</td>\n",
       "      <td>573</td>\n",
       "      <td>0</td>\n",
       "      <td>0</td>\n",
       "      <td>-1</td>\n",
       "      <td>1</td>\n",
       "      <td>2</td>\n",
       "      <td>-1</td>\n",
       "      <td>572</td>\n",
       "      <td>232794_1</td>\n",
       "      <td>1</td>\n",
       "    </tr>\n",
       "    <tr>\n",
       "      <th>541306</th>\n",
       "      <td>232796</td>\n",
       "      <td>539070</td>\n",
       "      <td>66</td>\n",
       "      <td>-1</td>\n",
       "      <td>2</td>\n",
       "      <td>1</td>\n",
       "      <td>0</td>\n",
       "      <td>-1</td>\n",
       "      <td>1</td>\n",
       "      <td>-1</td>\n",
       "      <td>...</td>\n",
       "      <td>575</td>\n",
       "      <td>0</td>\n",
       "      <td>1</td>\n",
       "      <td>-1</td>\n",
       "      <td>1</td>\n",
       "      <td>3</td>\n",
       "      <td>-1</td>\n",
       "      <td>574</td>\n",
       "      <td>232796_1</td>\n",
       "      <td>1</td>\n",
       "    </tr>\n",
       "    <tr>\n",
       "      <th>537954</th>\n",
       "      <td>232797</td>\n",
       "      <td>539071</td>\n",
       "      <td>66</td>\n",
       "      <td>-1</td>\n",
       "      <td>2</td>\n",
       "      <td>1</td>\n",
       "      <td>0</td>\n",
       "      <td>-1</td>\n",
       "      <td>1</td>\n",
       "      <td>-1</td>\n",
       "      <td>...</td>\n",
       "      <td>574</td>\n",
       "      <td>0</td>\n",
       "      <td>3</td>\n",
       "      <td>-1</td>\n",
       "      <td>1</td>\n",
       "      <td>3</td>\n",
       "      <td>-1</td>\n",
       "      <td>573</td>\n",
       "      <td>232797_1</td>\n",
       "      <td>1</td>\n",
       "    </tr>\n",
       "    <tr>\n",
       "      <th>...</th>\n",
       "      <td>...</td>\n",
       "      <td>...</td>\n",
       "      <td>...</td>\n",
       "      <td>...</td>\n",
       "      <td>...</td>\n",
       "      <td>...</td>\n",
       "      <td>...</td>\n",
       "      <td>...</td>\n",
       "      <td>...</td>\n",
       "      <td>...</td>\n",
       "      <td>...</td>\n",
       "      <td>...</td>\n",
       "      <td>...</td>\n",
       "      <td>...</td>\n",
       "      <td>...</td>\n",
       "      <td>...</td>\n",
       "      <td>...</td>\n",
       "      <td>...</td>\n",
       "      <td>...</td>\n",
       "      <td>...</td>\n",
       "      <td>...</td>\n",
       "    </tr>\n",
       "    <tr>\n",
       "      <th>4046020</th>\n",
       "      <td>1605238</td>\n",
       "      <td>4052996</td>\n",
       "      <td>27</td>\n",
       "      <td>-1</td>\n",
       "      <td>1</td>\n",
       "      <td>3</td>\n",
       "      <td>0</td>\n",
       "      <td>-1</td>\n",
       "      <td>1</td>\n",
       "      <td>-1</td>\n",
       "      <td>...</td>\n",
       "      <td>2199</td>\n",
       "      <td>0</td>\n",
       "      <td>1</td>\n",
       "      <td>-1</td>\n",
       "      <td>1</td>\n",
       "      <td>1</td>\n",
       "      <td>-1</td>\n",
       "      <td>2198</td>\n",
       "      <td>1605238_3</td>\n",
       "      <td>2</td>\n",
       "    </tr>\n",
       "    <tr>\n",
       "      <th>4041596</th>\n",
       "      <td>1605242</td>\n",
       "      <td>4053016</td>\n",
       "      <td>27</td>\n",
       "      <td>-1</td>\n",
       "      <td>1</td>\n",
       "      <td>3</td>\n",
       "      <td>1</td>\n",
       "      <td>-1</td>\n",
       "      <td>1</td>\n",
       "      <td>-1</td>\n",
       "      <td>...</td>\n",
       "      <td>2199</td>\n",
       "      <td>0</td>\n",
       "      <td>2</td>\n",
       "      <td>-1</td>\n",
       "      <td>1</td>\n",
       "      <td>1</td>\n",
       "      <td>-1</td>\n",
       "      <td>2198</td>\n",
       "      <td>1605242_3</td>\n",
       "      <td>2</td>\n",
       "    </tr>\n",
       "    <tr>\n",
       "      <th>4043724</th>\n",
       "      <td>1605248</td>\n",
       "      <td>4053046</td>\n",
       "      <td>27</td>\n",
       "      <td>-1</td>\n",
       "      <td>1</td>\n",
       "      <td>3</td>\n",
       "      <td>0</td>\n",
       "      <td>-1</td>\n",
       "      <td>1</td>\n",
       "      <td>-1</td>\n",
       "      <td>...</td>\n",
       "      <td>2199</td>\n",
       "      <td>0</td>\n",
       "      <td>2</td>\n",
       "      <td>-1</td>\n",
       "      <td>1</td>\n",
       "      <td>1</td>\n",
       "      <td>-1</td>\n",
       "      <td>2198</td>\n",
       "      <td>1605248_3</td>\n",
       "      <td>2</td>\n",
       "    </tr>\n",
       "    <tr>\n",
       "      <th>4040478</th>\n",
       "      <td>1605252</td>\n",
       "      <td>4053066</td>\n",
       "      <td>24</td>\n",
       "      <td>-1</td>\n",
       "      <td>1</td>\n",
       "      <td>3</td>\n",
       "      <td>1</td>\n",
       "      <td>-1</td>\n",
       "      <td>1</td>\n",
       "      <td>-1</td>\n",
       "      <td>...</td>\n",
       "      <td>2199</td>\n",
       "      <td>0</td>\n",
       "      <td>3</td>\n",
       "      <td>-1</td>\n",
       "      <td>1</td>\n",
       "      <td>1</td>\n",
       "      <td>-1</td>\n",
       "      <td>2198</td>\n",
       "      <td>1605252_3</td>\n",
       "      <td>2</td>\n",
       "    </tr>\n",
       "    <tr>\n",
       "      <th>4046153</th>\n",
       "      <td>1605262</td>\n",
       "      <td>4053128</td>\n",
       "      <td>53</td>\n",
       "      <td>-1</td>\n",
       "      <td>1</td>\n",
       "      <td>1</td>\n",
       "      <td>0</td>\n",
       "      <td>-1</td>\n",
       "      <td>1</td>\n",
       "      <td>-1</td>\n",
       "      <td>...</td>\n",
       "      <td>2199</td>\n",
       "      <td>1</td>\n",
       "      <td>4</td>\n",
       "      <td>-1</td>\n",
       "      <td>1</td>\n",
       "      <td>1</td>\n",
       "      <td>-1</td>\n",
       "      <td>2198</td>\n",
       "      <td>1605262_1</td>\n",
       "      <td>2</td>\n",
       "    </tr>\n",
       "  </tbody>\n",
       "</table>\n",
       "<p>444911 rows × 46 columns</p>\n",
       "</div>"
      ],
      "text/plain": [
       "            hhno       id  pagey  pdiary  pgend  pno  ppaidprk  pproxy  pptyp  \\\n",
       "538886    232792   539066     70      -1      1    1         0      -1      2   \n",
       "543526    232793   539067     61      -1      2    1         0      -1      1   \n",
       "541115    232794   539068     61      -1      2    1         0      -1      1   \n",
       "541306    232796   539070     66      -1      2    1         0      -1      1   \n",
       "537954    232797   539071     66      -1      2    1         0      -1      1   \n",
       "...          ...      ...    ...     ...    ...  ...       ...     ...    ...   \n",
       "4046020  1605238  4052996     27      -1      1    3         0      -1      1   \n",
       "4041596  1605242  4053016     27      -1      1    3         1      -1      1   \n",
       "4043724  1605248  4053046     27      -1      1    3         0      -1      1   \n",
       "4040478  1605252  4053066     24      -1      1    3         1      -1      1   \n",
       "4046153  1605262  4053128     53      -1      1    1         0      -1      1   \n",
       "\n",
       "         psaudist  ...  hhtaz  hhuni  hhvehs  hhwkrs  hownrent  hrestype  \\\n",
       "538886         -1  ...    575      0       1      -1         1         3   \n",
       "543526         -1  ...    574      0       0      -1         1         3   \n",
       "541115         -1  ...    573      0       0      -1         1         2   \n",
       "541306         -1  ...    575      0       1      -1         1         3   \n",
       "537954         -1  ...    574      0       3      -1         1         3   \n",
       "...           ...  ...    ...    ...     ...     ...       ...       ...   \n",
       "4046020        -1  ...   2199      0       1      -1         1         1   \n",
       "4041596        -1  ...   2199      0       2      -1         1         1   \n",
       "4043724        -1  ...   2199      0       2      -1         1         1   \n",
       "4040478        -1  ...   2199      0       3      -1         1         1   \n",
       "4046153        -1  ...   2199      1       4      -1         1         1   \n",
       "\n",
       "         samptype  zone_id  hhnopno_id  home_indt  \n",
       "538886         -1      574    232792_1          1  \n",
       "543526         -1      573    232793_1          1  \n",
       "541115         -1      572    232794_1          1  \n",
       "541306         -1      574    232796_1          1  \n",
       "537954         -1      573    232797_1          1  \n",
       "...           ...      ...         ...        ...  \n",
       "4046020        -1     2198   1605238_3          2  \n",
       "4041596        -1     2198   1605242_3          2  \n",
       "4043724        -1     2198   1605248_3          2  \n",
       "4040478        -1     2198   1605252_3          2  \n",
       "4046153        -1     2198   1605262_1          2  \n",
       "\n",
       "[444911 rows x 46 columns]"
      ]
     },
     "execution_count": 118,
     "metadata": {},
     "output_type": "execute_result"
    }
   ],
   "source": [
    "person.sort_values(by=['home_indt', 'hhno', 'pno'])"
   ]
  },
  {
   "cell_type": "code",
   "execution_count": 119,
   "metadata": {},
   "outputs": [],
   "source": [
    "person.to_csv('person_inorpass_dtSeattle_sim.csv')\n",
    "trips.to_csv('trips_inorpass_dtSeattle_sim.csv')"
   ]
  },
  {
   "cell_type": "code",
   "execution_count": null,
   "metadata": {},
   "outputs": [],
   "source": [
    "person_trip_counts = trips.groupby(by=['personid']).size().to_frame()\n",
    "person_trip_counts.reset_index(inplace=True)\n",
    "person_trip_counts.columns = ['personid','trip_counts']"
   ]
  },
  {
   "cell_type": "code",
   "execution_count": 54,
   "metadata": {},
   "outputs": [],
   "source": [
    "selected_person = person_trip_counts['personid'][person_trip_counts['trip_counts']==6].values[:100]"
   ]
  },
  {
   "cell_type": "code",
   "execution_count": 55,
   "metadata": {},
   "outputs": [],
   "source": [
    "trips[trips['personid'].isin(selected_person)].to_csv('trip_trip_counts6_top100.csv')"
   ]
  },
  {
   "cell_type": "code",
   "execution_count": 56,
   "metadata": {},
   "outputs": [
    {
     "data": {
      "text/html": [
       "<div>\n",
       "<style scoped>\n",
       "    .dataframe tbody tr th:only-of-type {\n",
       "        vertical-align: middle;\n",
       "    }\n",
       "\n",
       "    .dataframe tbody tr th {\n",
       "        vertical-align: top;\n",
       "    }\n",
       "\n",
       "    .dataframe thead th {\n",
       "        text-align: right;\n",
       "    }\n",
       "</style>\n",
       "<table border=\"1\" class=\"dataframe\">\n",
       "  <thead>\n",
       "    <tr style=\"text-align: right;\">\n",
       "      <th></th>\n",
       "      <th>hhno</th>\n",
       "      <th>pno</th>\n",
       "      <th>otaz</th>\n",
       "      <th>dtaz</th>\n",
       "      <th>deptm</th>\n",
       "      <th>arrtm</th>\n",
       "      <th>travtime</th>\n",
       "      <th>tmdiff</th>\n",
       "      <th>diffvstravel</th>\n",
       "      <th>day</th>\n",
       "      <th>tour</th>\n",
       "      <th>mode</th>\n",
       "      <th>sumo_deptm</th>\n",
       "      <th>taz_index</th>\n",
       "      <th>personid</th>\n",
       "    </tr>\n",
       "  </thead>\n",
       "  <tbody>\n",
       "    <tr>\n",
       "      <th>10200844</th>\n",
       "      <td>1000432</td>\n",
       "      <td>1</td>\n",
       "      <td>481</td>\n",
       "      <td>657</td>\n",
       "      <td>626</td>\n",
       "      <td>640</td>\n",
       "      <td>14</td>\n",
       "      <td>14</td>\n",
       "      <td>1</td>\n",
       "      <td>1</td>\n",
       "      <td>3</td>\n",
       "      <td>9</td>\n",
       "      <td>23160</td>\n",
       "      <td>1</td>\n",
       "      <td>1000432_1</td>\n",
       "    </tr>\n",
       "    <tr>\n",
       "      <th>10200848</th>\n",
       "      <td>1000432</td>\n",
       "      <td>1</td>\n",
       "      <td>584</td>\n",
       "      <td>657</td>\n",
       "      <td>1080</td>\n",
       "      <td>1093</td>\n",
       "      <td>13</td>\n",
       "      <td>13</td>\n",
       "      <td>1</td>\n",
       "      <td>1</td>\n",
       "      <td>5</td>\n",
       "      <td>4</td>\n",
       "      <td>64800</td>\n",
       "      <td>1</td>\n",
       "      <td>1000432_1</td>\n",
       "    </tr>\n",
       "    <tr>\n",
       "      <th>10200842</th>\n",
       "      <td>1000432</td>\n",
       "      <td>1</td>\n",
       "      <td>636</td>\n",
       "      <td>657</td>\n",
       "      <td>452</td>\n",
       "      <td>461</td>\n",
       "      <td>9</td>\n",
       "      <td>9</td>\n",
       "      <td>1</td>\n",
       "      <td>1</td>\n",
       "      <td>2</td>\n",
       "      <td>3</td>\n",
       "      <td>27120</td>\n",
       "      <td>1</td>\n",
       "      <td>1000432_1</td>\n",
       "    </tr>\n",
       "    <tr>\n",
       "      <th>10200843</th>\n",
       "      <td>1000432</td>\n",
       "      <td>1</td>\n",
       "      <td>657</td>\n",
       "      <td>481</td>\n",
       "      <td>586</td>\n",
       "      <td>600</td>\n",
       "      <td>14</td>\n",
       "      <td>14</td>\n",
       "      <td>1</td>\n",
       "      <td>1</td>\n",
       "      <td>3</td>\n",
       "      <td>9</td>\n",
       "      <td>35160</td>\n",
       "      <td>1</td>\n",
       "      <td>1000432_1</td>\n",
       "    </tr>\n",
       "    <tr>\n",
       "      <th>10200841</th>\n",
       "      <td>1000432</td>\n",
       "      <td>1</td>\n",
       "      <td>657</td>\n",
       "      <td>636</td>\n",
       "      <td>432</td>\n",
       "      <td>441</td>\n",
       "      <td>9</td>\n",
       "      <td>9</td>\n",
       "      <td>1</td>\n",
       "      <td>1</td>\n",
       "      <td>2</td>\n",
       "      <td>3</td>\n",
       "      <td>16320</td>\n",
       "      <td>1</td>\n",
       "      <td>1000432_1</td>\n",
       "    </tr>\n",
       "    <tr>\n",
       "      <th>...</th>\n",
       "      <td>...</td>\n",
       "      <td>...</td>\n",
       "      <td>...</td>\n",
       "      <td>...</td>\n",
       "      <td>...</td>\n",
       "      <td>...</td>\n",
       "      <td>...</td>\n",
       "      <td>...</td>\n",
       "      <td>...</td>\n",
       "      <td>...</td>\n",
       "      <td>...</td>\n",
       "      <td>...</td>\n",
       "      <td>...</td>\n",
       "      <td>...</td>\n",
       "      <td>...</td>\n",
       "    </tr>\n",
       "    <tr>\n",
       "      <th>1018290</th>\n",
       "      <td>103198</td>\n",
       "      <td>9</td>\n",
       "      <td>207</td>\n",
       "      <td>432</td>\n",
       "      <td>1301</td>\n",
       "      <td>1317</td>\n",
       "      <td>16</td>\n",
       "      <td>16</td>\n",
       "      <td>1</td>\n",
       "      <td>1</td>\n",
       "      <td>2</td>\n",
       "      <td>5</td>\n",
       "      <td>46860</td>\n",
       "      <td>1</td>\n",
       "      <td>103198_9</td>\n",
       "    </tr>\n",
       "    <tr>\n",
       "      <th>1018289</th>\n",
       "      <td>103198</td>\n",
       "      <td>9</td>\n",
       "      <td>210</td>\n",
       "      <td>432</td>\n",
       "      <td>1136</td>\n",
       "      <td>1155</td>\n",
       "      <td>19</td>\n",
       "      <td>19</td>\n",
       "      <td>1</td>\n",
       "      <td>1</td>\n",
       "      <td>3</td>\n",
       "      <td>5</td>\n",
       "      <td>41760</td>\n",
       "      <td>1</td>\n",
       "      <td>103198_9</td>\n",
       "    </tr>\n",
       "    <tr>\n",
       "      <th>1018287</th>\n",
       "      <td>103198</td>\n",
       "      <td>9</td>\n",
       "      <td>432</td>\n",
       "      <td>207</td>\n",
       "      <td>1256</td>\n",
       "      <td>1272</td>\n",
       "      <td>16</td>\n",
       "      <td>16</td>\n",
       "      <td>1</td>\n",
       "      <td>1</td>\n",
       "      <td>1</td>\n",
       "      <td>4</td>\n",
       "      <td>75360</td>\n",
       "      <td>1</td>\n",
       "      <td>103198_9</td>\n",
       "    </tr>\n",
       "    <tr>\n",
       "      <th>1018288</th>\n",
       "      <td>103198</td>\n",
       "      <td>9</td>\n",
       "      <td>432</td>\n",
       "      <td>210</td>\n",
       "      <td>1104</td>\n",
       "      <td>1124</td>\n",
       "      <td>20</td>\n",
       "      <td>20</td>\n",
       "      <td>1</td>\n",
       "      <td>1</td>\n",
       "      <td>3</td>\n",
       "      <td>5</td>\n",
       "      <td>39840</td>\n",
       "      <td>1</td>\n",
       "      <td>103198_9</td>\n",
       "    </tr>\n",
       "    <tr>\n",
       "      <th>1018291</th>\n",
       "      <td>103198</td>\n",
       "      <td>9</td>\n",
       "      <td>432</td>\n",
       "      <td>295</td>\n",
       "      <td>1369</td>\n",
       "      <td>1384</td>\n",
       "      <td>15</td>\n",
       "      <td>15</td>\n",
       "      <td>1</td>\n",
       "      <td>1</td>\n",
       "      <td>2</td>\n",
       "      <td>5</td>\n",
       "      <td>82140</td>\n",
       "      <td>1</td>\n",
       "      <td>103198_9</td>\n",
       "    </tr>\n",
       "  </tbody>\n",
       "</table>\n",
       "<p>600 rows × 15 columns</p>\n",
       "</div>"
      ],
      "text/plain": [
       "             hhno  pno  otaz  dtaz  deptm  arrtm  travtime  tmdiff  \\\n",
       "10200844  1000432    1   481   657    626    640        14      14   \n",
       "10200848  1000432    1   584   657   1080   1093        13      13   \n",
       "10200842  1000432    1   636   657    452    461         9       9   \n",
       "10200843  1000432    1   657   481    586    600        14      14   \n",
       "10200841  1000432    1   657   636    432    441         9       9   \n",
       "...           ...  ...   ...   ...    ...    ...       ...     ...   \n",
       "1018290    103198    9   207   432   1301   1317        16      16   \n",
       "1018289    103198    9   210   432   1136   1155        19      19   \n",
       "1018287    103198    9   432   207   1256   1272        16      16   \n",
       "1018288    103198    9   432   210   1104   1124        20      20   \n",
       "1018291    103198    9   432   295   1369   1384        15      15   \n",
       "\n",
       "          diffvstravel  day  tour  mode  sumo_deptm  taz_index   personid  \n",
       "10200844             1    1     3     9       23160          1  1000432_1  \n",
       "10200848             1    1     5     4       64800          1  1000432_1  \n",
       "10200842             1    1     2     3       27120          1  1000432_1  \n",
       "10200843             1    1     3     9       35160          1  1000432_1  \n",
       "10200841             1    1     2     3       16320          1  1000432_1  \n",
       "...                ...  ...   ...   ...         ...        ...        ...  \n",
       "1018290              1    1     2     5       46860          1   103198_9  \n",
       "1018289              1    1     3     5       41760          1   103198_9  \n",
       "1018287              1    1     1     4       75360          1   103198_9  \n",
       "1018288              1    1     3     5       39840          1   103198_9  \n",
       "1018291              1    1     2     5       82140          1   103198_9  \n",
       "\n",
       "[600 rows x 15 columns]"
      ]
     },
     "execution_count": 56,
     "metadata": {},
     "output_type": "execute_result"
    }
   ],
   "source": [
    "trips[trips['personid'].isin(selected_person)]"
   ]
  },
  {
   "cell_type": "code",
   "execution_count": null,
   "metadata": {},
   "outputs": [],
   "source": [
    "#trip input\n",
    "\n",
    "#route input"
   ]
  },
  {
   "cell_type": "code",
   "execution_count": 217,
   "metadata": {},
   "outputs": [],
   "source": [
    "with open('vehroute.txt', 'w') as file:\n",
    "    file.write('<?xml version=\"1.0\" encoding=\"UTF-8\"?>\\n')\n",
    "    file.write('<routes xmlns:xsi=\"http://www.w3.org/2001/XMLSchema-instance\" xsi:noNamespaceSchemaLocation=\"http://sumo.dlr.de/xsd/routes_file.xsd\">\\n')\n",
    "    file.write('<vType id=\"passenger\" vClass=\"passenger\" accel=\"3.2\" color=\"yellow\" decel=\"3.5\" length=\"4\" maxSpeed=\"200\" lcStrategic=\"2000\" lcSpeedGain=\"5\" lcCooperative=\"1\" lcSpeedGainLookahead=\"5\" minGap=\"1.5\" cc1=\"0.9\" cc2=\"4\" cc3=\"-8\" cc4=\"-0.1\" cc5=\"0.1\" cc6=\"11.44\" cc7=\"0.25\" cc8=\"3.5\" cc9=\"1.5\"/>\\n')\n",
    "    #<trip type=\"passenger\" id=\"5000_542_0:300.0:324.0\" depart=\"18000.0\" fromTaz=\"5000\" toTaz=\"542\" departLane=\"free\" departSpeed=\"max\" />\n",
    "    file.write('')\n",
    "    \n",
    "    file.write('</routes>')\n",
    "file.close()    "
   ]
  },
  {
   "cell_type": "code",
   "execution_count": 219,
   "metadata": {},
   "outputs": [],
   "source": [
    "with open('personroute.txt', 'w') as f:\n",
    "    f.write('<?xml version=\"1.0\" encoding=\"UTF-8\"?>\\n')\n",
    "    f.write('<routes xmlns:xsi=\"http://www.w3.org/2001/XMLSchema-instance\" xsi:noNamespaceSchemaLocation=\"http://sumo.dlr.de/xsd/routes_file.xsd\">\\n')\n",
    "    \n",
    "    #<person id=\"200\" depart=\"14401.01\" departPos=\"random\">\n",
    "    #    <walk from=\"490227753#2\" to=\"8111488#0\" arrivalPos=\"random\"/>\n",
    "    #</person>\n",
    "    f.write('</routes>')"
   ]
  },
  {
   "cell_type": "markdown",
   "metadata": {
    "pycharm": {
     "name": "#%%\n"
    }
   },
   "source": [
    "## App-based data check"
   ]
  },
  {
   "cell_type": "code",
   "execution_count": 8,
   "metadata": {},
   "outputs": [],
   "source": [
    "app_based_home = pd.read_csv('home_psrc_withtaz.csv')"
   ]
  },
  {
   "cell_type": "code",
   "execution_count": 120,
   "metadata": {},
   "outputs": [
    {
     "data": {
      "text/plain": [
       "[426,\n",
       " 427,\n",
       " 428,\n",
       " 429,\n",
       " 430,\n",
       " 431,\n",
       " 432,\n",
       " 433,\n",
       " 434,\n",
       " 435,\n",
       " 436,\n",
       " 437,\n",
       " 438,\n",
       " 439,\n",
       " 440,\n",
       " 441,\n",
       " 442,\n",
       " 443,\n",
       " 446,\n",
       " 447,\n",
       " 448,\n",
       " 450,\n",
       " 451,\n",
       " 452,\n",
       " 453,\n",
       " 454,\n",
       " 455,\n",
       " 456,\n",
       " 457,\n",
       " 458,\n",
       " 459,\n",
       " 460,\n",
       " 461,\n",
       " 462,\n",
       " 463,\n",
       " 464,\n",
       " 465,\n",
       " 466,\n",
       " 467,\n",
       " 468,\n",
       " 469,\n",
       " 470,\n",
       " 471,\n",
       " 472,\n",
       " 473,\n",
       " 474,\n",
       " 475,\n",
       " 476,\n",
       " 477,\n",
       " 479,\n",
       " 480,\n",
       " 481,\n",
       " 482,\n",
       " 483,\n",
       " 484,\n",
       " 485,\n",
       " 486,\n",
       " 487,\n",
       " 488,\n",
       " 489,\n",
       " 490,\n",
       " 491,\n",
       " 492,\n",
       " 493,\n",
       " 494,\n",
       " 495,\n",
       " 496,\n",
       " 497,\n",
       " 498,\n",
       " 499,\n",
       " 500,\n",
       " 501,\n",
       " 502,\n",
       " 503,\n",
       " 504,\n",
       " 505,\n",
       " 506,\n",
       " 507,\n",
       " 508,\n",
       " 509,\n",
       " 510,\n",
       " 511,\n",
       " 512,\n",
       " 513,\n",
       " 514,\n",
       " 515,\n",
       " 516,\n",
       " 517,\n",
       " 518,\n",
       " 519,\n",
       " 520,\n",
       " 521,\n",
       " 522,\n",
       " 523,\n",
       " 524,\n",
       " 525,\n",
       " 526,\n",
       " 527,\n",
       " 528,\n",
       " 529,\n",
       " 530,\n",
       " 531,\n",
       " 532,\n",
       " 533,\n",
       " 534,\n",
       " 535,\n",
       " 536,\n",
       " 537,\n",
       " 538,\n",
       " 539,\n",
       " 540,\n",
       " 541,\n",
       " 542,\n",
       " 543,\n",
       " 544,\n",
       " 545,\n",
       " 546,\n",
       " 547,\n",
       " 548,\n",
       " 549,\n",
       " 550,\n",
       " 551,\n",
       " 552,\n",
       " 553,\n",
       " 566,\n",
       " 567,\n",
       " 568,\n",
       " 569,\n",
       " 570,\n",
       " 571,\n",
       " 572,\n",
       " 573,\n",
       " 574,\n",
       " 575,\n",
       " 576,\n",
       " 577,\n",
       " 578,\n",
       " 579,\n",
       " 580,\n",
       " 581,\n",
       " 582,\n",
       " 583,\n",
       " 584,\n",
       " 604,\n",
       " 605,\n",
       " 606,\n",
       " 607,\n",
       " 608,\n",
       " 609,\n",
       " 610,\n",
       " 611,\n",
       " 612,\n",
       " 613,\n",
       " 614,\n",
       " 615,\n",
       " 627,\n",
       " 628,\n",
       " 629,\n",
       " 630,\n",
       " 631,\n",
       " 632,\n",
       " 634,\n",
       " 635,\n",
       " 636,\n",
       " 650,\n",
       " 651,\n",
       " 652,\n",
       " 653]"
      ]
     },
     "execution_count": 120,
     "metadata": {},
     "output_type": "execute_result"
    }
   ],
   "source": [
    "selected_taz"
   ]
  },
  {
   "cell_type": "code",
   "execution_count": 9,
   "metadata": {},
   "outputs": [],
   "source": [
    "#check the different taz\n",
    "app_based_taz = np.unique(app_based_home['TAZ'])\n",
    "psrc_sim_taz = np.unique(person['zone_id'])\n",
    "\n",
    "print(len(app_based_taz))\n",
    "print(len(psrc_sim_taz)\n",
    "      \n",
    "#through the checking, it is noticed that the psrc simulation data started at 0\n",
    "#while actual taz started at 1\n",
    "#thus we convert the actual taz, letting it start at 1\n",
    "app_based_taz -= 1"
   ]
  },
  {
   "cell_type": "code",
   "execution_count": 55,
   "metadata": {},
   "outputs": [],
   "source": [
    "#get the taz number that only in one of the data\n",
    "app_diff_sim = []\n",
    "sim_diff_app = []\n",
    "def get_diff_taz(check_arr, compare_arr, taz_lst):\n",
    "    for taz_id in check_arr:\n",
    "        if taz_id not in compare_arr:\n",
    "            taz_lst.append(taz_id)\n",
    "    taz_lst = np.array(taz_lst)\n",
    "    \n",
    "    #convert to actual taz id\n",
    "    taz_lst += 1\n",
    "    \n",
    "    return(taz_lst)\n",
    "\n",
    "app_diff_sim = get_diff_taz(app_based_taz, psrc_sim_taz, app_diff_sim)\n",
    "sim_diff_app = get_diff_taz(psrc_sim_taz, app_based_taz, sim_diff_app)\n",
    "\n",
    "#print(len(app_diff_sim)) = 230\n",
    "#print(len(sim_diff_app)) = 19\n",
    "\n",
    "# it is found tha app_diff_sim and sim_diff_app are not empty\n",
    "# thus we compare the data with taz\n",
    "\n",
    "#check with actual taz\n",
    "taz = gpd.read_file('taz2010_revised.shp')\n",
    "\n",
    "psrc_taz = np.unique(taz['TAZ'])\n",
    "psrc_taz -= 1 \n",
    "\n",
    "app_missed_taz = get_diff_taz(psrc_taz, app_based_taz, [])\n",
    "sim_missed_taz = get_diff_taz(psrc_taz, psrc_sim_taz, [])\n",
    "print(len(app_missed_taz))\n",
    "print(len(sim_missed_taz))\n",
    "\n",
    "#check psrc sim trip\n",
    "sim_trip_taz = list(np.unique(trips['otaz']))\n",
    "sim_trip_d_taz = list(np.unique(trips['dtaz']))\n",
    "for tazid in sim_trip_d_taz:\n",
    "    if tazid not in sim_trip_taz:\n",
    "        sim_trip_taz.append(tazid)\n",
    "        \n",
    "get_diff_taz(psrc_taz, sim_trip_taz, [])"
   ]
  },
  {
   "cell_type": "code",
   "execution_count": 67,
   "metadata": {},
   "outputs": [
    {
     "name": "stdout",
     "output_type": "stream",
     "text": [
      "3424\n"
     ]
    }
   ],
   "source": [
    "#it is found that even for trips, there might be missing taz (with no trips identified)\n",
    "#but the area is sensible using QGIS\n",
    "\n",
    "#psrc sim doesn't treat any taz with only hotels as home location\n",
    "#which is not true in comparison with app-inferred home based on the home identification\n",
    "#algorithm\n",
    "\n",
    "#select taz both locate in app-inferred home and psrc sim home\n",
    "crossed_taz = []\n",
    "for tazid in app_based_taz:\n",
    "    if tazid in psrc_sim_taz:\n",
    "        crossed_taz.append(tazid)\n",
    "        \n",
    "print(len(crossed_taz))\n",
    "#thus, we only focused on the crossed taz\n",
    "revised_crossed_taz = list(np.array(crossed_taz)+1)\n",
    "app_based_home_crossed = app_based_home[app_based_home['TAZ'].isin(revised_crossed_taz)]\n",
    "home_num_origin = len(app_based_home['newid'].values)\n",
    "crossed_home_num = len(app_based_home_crossed['newid'].values)\n",
    "print('original identified home num =', home_num_origin)\n",
    "print('crossed identified home num =', crossed_home_num)\n",
    "print('diff above =',home_num_origin-crossed_home_num)\n",
    "\n",
    "## result\n",
    "#original identified home num = 110880\n",
    "#crossed identified home num = 108662\n",
    "#diff above = 2218\n",
    "\n",
    "person_crossed = person[person['zone_id'].isin(crossed_taz)]\n",
    "persom_num_origin = len(person['id'].values)\n",
    "crossed_person_num = len(person_crossed['id'].values)\n",
    "print('original identified home num =', persom_num_origin)\n",
    "print('crossed identified home num =', crossed_person_num)\n",
    "print('diff above =', persom_num_origin-crossed_person_num)\n",
    "\n",
    "## result\n",
    "#original identified home num = 4053154\n",
    "#crossed identified home num = 4051164\n",
    "#diff above = 1990\n",
    "\n",
    "#save the missed id\n",
    "missed_app_id_home = app_based_home[~app_based_home.isin(revised_crossed_taz)]\n",
    "missed_app_id_home = missed_app_id_home['newid'].values\n",
    "\n",
    "missed_sim_id_home = person[~person['zone_id'].isin(crossed_taz)]\n",
    "missed_sim_id_home = person['id'].values\n",
    "\n",
    "#delete redundant data\n",
    "del(app_missed_taz)\n",
    "del(sim_missed_taz)\n",
    "del(app_diff_sim)\n",
    "del(sim_diff_app)\n",
    "del(app_based_home)\n",
    "del(person)"
   ]
  },
  {
   "cell_type": "code",
   "execution_count": 93,
   "metadata": {
    "scrolled": false
   },
   "outputs": [
    {
     "name": "stderr",
     "output_type": "stream",
     "text": [
      "C:\\Users\\29700\\AppData\\Local\\Temp\\ipykernel_20808\\187326765.py:2: SettingWithCopyWarning: \n",
      "A value is trying to be set on a copy of a slice from a DataFrame.\n",
      "Try using .loc[row_indexer,col_indexer] = value instead\n",
      "\n",
      "See the caveats in the documentation: https://pandas.pydata.org/pandas-docs/stable/user_guide/indexing.html#returning-a-view-versus-a-copy\n",
      "  person_crossed['TAZ'] = person_crossed['zone_id'] + 1\n"
     ]
    },
    {
     "data": {
      "text/html": [
       "<div>\n",
       "<style scoped>\n",
       "    .dataframe tbody tr th:only-of-type {\n",
       "        vertical-align: middle;\n",
       "    }\n",
       "\n",
       "    .dataframe tbody tr th {\n",
       "        vertical-align: top;\n",
       "    }\n",
       "\n",
       "    .dataframe thead th {\n",
       "        text-align: right;\n",
       "    }\n",
       "</style>\n",
       "<table border=\"1\" class=\"dataframe\">\n",
       "  <thead>\n",
       "    <tr style=\"text-align: right;\">\n",
       "      <th></th>\n",
       "      <th>hhno</th>\n",
       "      <th>id</th>\n",
       "      <th>pagey</th>\n",
       "      <th>pdiary</th>\n",
       "      <th>pgend</th>\n",
       "      <th>pno</th>\n",
       "      <th>ppaidprk</th>\n",
       "      <th>pproxy</th>\n",
       "      <th>pptyp</th>\n",
       "      <th>psaudist</th>\n",
       "      <th>...</th>\n",
       "      <th>hhsize</th>\n",
       "      <th>hhtaz</th>\n",
       "      <th>hhuni</th>\n",
       "      <th>hhvehs</th>\n",
       "      <th>hhwkrs</th>\n",
       "      <th>hownrent</th>\n",
       "      <th>hrestype</th>\n",
       "      <th>samptype</th>\n",
       "      <th>zone_id</th>\n",
       "      <th>TAZ</th>\n",
       "    </tr>\n",
       "  </thead>\n",
       "  <tbody>\n",
       "    <tr>\n",
       "      <th>0</th>\n",
       "      <td>1</td>\n",
       "      <td>1</td>\n",
       "      <td>69</td>\n",
       "      <td>-1</td>\n",
       "      <td>2</td>\n",
       "      <td>1</td>\n",
       "      <td>1</td>\n",
       "      <td>-1</td>\n",
       "      <td>1</td>\n",
       "      <td>-1</td>\n",
       "      <td>...</td>\n",
       "      <td>1</td>\n",
       "      <td>3594</td>\n",
       "      <td>0</td>\n",
       "      <td>1</td>\n",
       "      <td>-1</td>\n",
       "      <td>1</td>\n",
       "      <td>1</td>\n",
       "      <td>-1</td>\n",
       "      <td>3593</td>\n",
       "      <td>3594</td>\n",
       "    </tr>\n",
       "    <tr>\n",
       "      <th>1</th>\n",
       "      <td>16</td>\n",
       "      <td>16</td>\n",
       "      <td>65</td>\n",
       "      <td>-1</td>\n",
       "      <td>2</td>\n",
       "      <td>1</td>\n",
       "      <td>1</td>\n",
       "      <td>-1</td>\n",
       "      <td>3</td>\n",
       "      <td>-1</td>\n",
       "      <td>...</td>\n",
       "      <td>1</td>\n",
       "      <td>3594</td>\n",
       "      <td>0</td>\n",
       "      <td>1</td>\n",
       "      <td>-1</td>\n",
       "      <td>1</td>\n",
       "      <td>1</td>\n",
       "      <td>-1</td>\n",
       "      <td>3593</td>\n",
       "      <td>3594</td>\n",
       "    </tr>\n",
       "    <tr>\n",
       "      <th>2</th>\n",
       "      <td>8</td>\n",
       "      <td>8</td>\n",
       "      <td>52</td>\n",
       "      <td>-1</td>\n",
       "      <td>2</td>\n",
       "      <td>1</td>\n",
       "      <td>0</td>\n",
       "      <td>-1</td>\n",
       "      <td>1</td>\n",
       "      <td>-1</td>\n",
       "      <td>...</td>\n",
       "      <td>1</td>\n",
       "      <td>3592</td>\n",
       "      <td>0</td>\n",
       "      <td>1</td>\n",
       "      <td>-1</td>\n",
       "      <td>1</td>\n",
       "      <td>2</td>\n",
       "      <td>-1</td>\n",
       "      <td>3591</td>\n",
       "      <td>3592</td>\n",
       "    </tr>\n",
       "  </tbody>\n",
       "</table>\n",
       "<p>3 rows × 45 columns</p>\n",
       "</div>"
      ],
      "text/plain": [
       "   hhno  id  pagey  pdiary  pgend  pno  ppaidprk  pproxy  pptyp  psaudist  \\\n",
       "0     1   1     69      -1      2    1         1      -1      1        -1   \n",
       "1    16  16     65      -1      2    1         1      -1      3        -1   \n",
       "2     8   8     52      -1      2    1         0      -1      1        -1   \n",
       "\n",
       "   ...  hhsize  hhtaz  hhuni  hhvehs  hhwkrs  hownrent  hrestype  samptype  \\\n",
       "0  ...       1   3594      0       1      -1         1         1        -1   \n",
       "1  ...       1   3594      0       1      -1         1         1        -1   \n",
       "2  ...       1   3592      0       1      -1         1         2        -1   \n",
       "\n",
       "   zone_id   TAZ  \n",
       "0     3593  3594  \n",
       "1     3593  3594  \n",
       "2     3591  3592  \n",
       "\n",
       "[3 rows x 45 columns]"
      ]
     },
     "execution_count": 93,
     "metadata": {},
     "output_type": "execute_result"
    }
   ],
   "source": [
    "#revised data frame now become\n",
    "person_crossed['TAZ'] = person_crossed['zone_id'] + 1\n",
    "person_crossed.head(3)"
   ]
  },
  {
   "cell_type": "code",
   "execution_count": 92,
   "metadata": {
    "scrolled": true
   },
   "outputs": [
    {
     "name": "stderr",
     "output_type": "stream",
     "text": [
      "C:\\Users\\29700\\AppData\\Local\\Temp\\ipykernel_20808\\1478643089.py:1: SettingWithCopyWarning: \n",
      "A value is trying to be set on a copy of a slice from a DataFrame.\n",
      "Try using .loc[row_indexer,col_indexer] = value instead\n",
      "\n",
      "See the caveats in the documentation: https://pandas.pydata.org/pandas-docs/stable/user_guide/indexing.html#returning-a-view-versus-a-copy\n",
      "  app_based_home_crossed['zone_id'] = app_based_home_crossed['TAZ']-1\n"
     ]
    },
    {
     "data": {
      "text/html": [
       "<div>\n",
       "<style scoped>\n",
       "    .dataframe tbody tr th:only-of-type {\n",
       "        vertical-align: middle;\n",
       "    }\n",
       "\n",
       "    .dataframe tbody tr th {\n",
       "        vertical-align: top;\n",
       "    }\n",
       "\n",
       "    .dataframe thead th {\n",
       "        text-align: right;\n",
       "    }\n",
       "</style>\n",
       "<table border=\"1\" class=\"dataframe\">\n",
       "  <thead>\n",
       "    <tr style=\"text-align: right;\">\n",
       "      <th></th>\n",
       "      <th>Unnamed: 0</th>\n",
       "      <th>newid</th>\n",
       "      <th>lat</th>\n",
       "      <th>lon</th>\n",
       "      <th>geometry</th>\n",
       "      <th>index_right</th>\n",
       "      <th>TAZ</th>\n",
       "      <th>COUNTY_FIP</th>\n",
       "      <th>COUNTY_NM</th>\n",
       "      <th>Area</th>\n",
       "      <th>zone_id</th>\n",
       "    </tr>\n",
       "  </thead>\n",
       "  <tbody>\n",
       "    <tr>\n",
       "      <th>0</th>\n",
       "      <td>0</td>\n",
       "      <td>38343</td>\n",
       "      <td>47.596215</td>\n",
       "      <td>-121.979614</td>\n",
       "      <td>POINT (-121.979614333 47.5962145003)</td>\n",
       "      <td>1951</td>\n",
       "      <td>1952</td>\n",
       "      <td>33</td>\n",
       "      <td>King</td>\n",
       "      <td>2182469.507</td>\n",
       "      <td>1951</td>\n",
       "    </tr>\n",
       "    <tr>\n",
       "      <th>1</th>\n",
       "      <td>1</td>\n",
       "      <td>13824</td>\n",
       "      <td>47.836323</td>\n",
       "      <td>-122.296098</td>\n",
       "      <td>POINT (-122.296098429 47.8363228733)</td>\n",
       "      <td>2513</td>\n",
       "      <td>2514</td>\n",
       "      <td>61</td>\n",
       "      <td>Snohomish</td>\n",
       "      <td>513657.111</td>\n",
       "      <td>2513</td>\n",
       "    </tr>\n",
       "    <tr>\n",
       "      <th>2</th>\n",
       "      <td>2</td>\n",
       "      <td>18910</td>\n",
       "      <td>47.222268</td>\n",
       "      <td>-122.493760</td>\n",
       "      <td>POINT (-122.493760032 47.22226772560001)</td>\n",
       "      <td>2950</td>\n",
       "      <td>2951</td>\n",
       "      <td>53</td>\n",
       "      <td>Pierce</td>\n",
       "      <td>1276868.336</td>\n",
       "      <td>2950</td>\n",
       "    </tr>\n",
       "  </tbody>\n",
       "</table>\n",
       "</div>"
      ],
      "text/plain": [
       "   Unnamed: 0  newid        lat         lon  \\\n",
       "0           0  38343  47.596215 -121.979614   \n",
       "1           1  13824  47.836323 -122.296098   \n",
       "2           2  18910  47.222268 -122.493760   \n",
       "\n",
       "                                   geometry  index_right   TAZ  COUNTY_FIP  \\\n",
       "0      POINT (-121.979614333 47.5962145003)         1951  1952          33   \n",
       "1      POINT (-122.296098429 47.8363228733)         2513  2514          61   \n",
       "2  POINT (-122.493760032 47.22226772560001)         2950  2951          53   \n",
       "\n",
       "   COUNTY_NM         Area  zone_id  \n",
       "0       King  2182469.507     1951  \n",
       "1  Snohomish   513657.111     2513  \n",
       "2     Pierce  1276868.336     2950  "
      ]
     },
     "execution_count": 92,
     "metadata": {},
     "output_type": "execute_result"
    }
   ],
   "source": [
    "app_based_home_crossed['zone_id'] = app_based_home_crossed['TAZ']-1\n",
    "app_based_home_crossed.head(3)"
   ]
  },
  {
   "cell_type": "markdown",
   "metadata": {},
   "source": [
    "Findings\n",
    "\n",
    "* app-based data (not specifically focuses on the population)\n",
    "home identification covers people who are:\n",
    "    * workers who stayes up late at their work building\n",
    "    * non-residentials stays in hotels (\"hotel population\")\n",
    "\n",
    "* PSRC simulation data (missing the \"travel population\" and stays up late at work buildings)\n"
   ]
  },
  {
   "cell_type": "code",
   "execution_count": 49,
   "metadata": {},
   "outputs": [],
   "source": [
    "#compare the person info with the ACS estimates?\n",
    "#spatial join taz and census block group\n",
    "#since the taz and cbg are defined differently, the spatial join can be biased\n",
    "#especially for those taz crossed over one cbg.\n",
    "#we use the joined the information to check the total pop of PSRC simualtion, in\n",
    "#comparison with the ACS (in cbg level)"
   ]
  },
  {
   "cell_type": "code",
   "execution_count": 96,
   "metadata": {},
   "outputs": [
    {
     "data": {
      "text/plain": [
       "(4051164, 45)"
      ]
     },
     "execution_count": 96,
     "metadata": {},
     "output_type": "execute_result"
    }
   ],
   "source": [
    "person_crossed.shape"
   ]
  },
  {
   "cell_type": "code",
   "execution_count": 97,
   "metadata": {},
   "outputs": [
    {
     "data": {
      "text/plain": [
       "4051164"
      ]
     },
     "execution_count": 97,
     "metadata": {},
     "output_type": "execute_result"
    }
   ],
   "source": [
    "len(np.unique(person_crossed['id']))"
   ]
  },
  {
   "cell_type": "markdown",
   "metadata": {},
   "source": [
    "## Data aggregation"
   ]
  },
  {
   "cell_type": "code",
   "execution_count": 102,
   "metadata": {},
   "outputs": [
    {
     "name": "stdout",
     "output_type": "stream",
     "text": [
      "Index(['newid', 'lat', 'lon', 'geometry', 'index_right', 'TAZ', 'COUNTY_FIP',\n",
      "       'COUNTY_NM', 'Area', 'zone_id'],\n",
      "      dtype='object')\n"
     ]
    }
   ],
   "source": [
    "#aggregate the sum count/pop based on the app-based dt and psrc simulation dt\n",
    "#for app-based data, get the total count for each taz\n",
    "app_based_home_crossed = app_based_home_crossed.drop(columns = ['Unnamed: 0'])\n",
    "app_based_count = app_based_home_crossed.groupby(['TAZ']).size().to_frame()\n",
    "app_based_count.reset_index(inplace=True)\n",
    "app_based_count.columns = ['TAZ', 'appid_count']\n",
    "app_based_count = app_based_count.join(taz, lsuffix='TAZ', rsuffix='TAZ', how='left')\n",
    "#app_based_count = app_based_count.drop(columns = ['TAZTAZ'])\n",
    "app_based_count.columns = ['TAZ', 'appid_count', 'TAZ1', 'COUNTY_FIP', \\\n",
    "                           'COUNTY_NM', 'Area','geometry']\n",
    "app_based_count = app_based_count.drop(columns = ['TAZ1'])\n",
    "\n",
    "#get sum of person in each taz based on the psrc simulation data\n",
    "person_crossed_count = person_crossed.groupby('TAZ').size().to_frame()\n",
    "person_crossed_count.reset_index(inplace=True)\n",
    "person_crossed_count.columns = ['TAZ', 'psrc_sum']\n",
    "\n",
    "#join the two dataset\n",
    "app_based_count = app_based_count.join(person_crossed_count, lsuffix='TAZ', rsuffix='TAZ', how='left')\n",
    "#app_based_count = app_based_count.drop(columns = ['TAZTAZ'])\n",
    "\n",
    "#tide the data and deleter redundant data set\n",
    "app_based_count.columns = ['TAZ', 'appid_count', 'COUNTY_FIP', 'COUNTY_NM',\\\n",
    "                           'Area', 'geometry','TAZ1', 'psrc_sum']\n",
    "app_based_count.drop(columns=['TAZ1'])\n",
    "del(person_crossed_count)"
   ]
  },
  {
   "cell_type": "code",
   "execution_count": 407,
   "metadata": {},
   "outputs": [
    {
     "name": "stdout",
     "output_type": "stream",
     "text": [
      "KstestResult(statistic=0.9345794392523364, pvalue=0.0)\n",
      "MannwhitneyuResult(statistic=279469.0, pvalue=0.0)\n",
      "KstestResult(statistic=0.038843457943925234, pvalue=0.011406431404904918)\n",
      "MannwhitneyuResult(statistic=5791489.0, pvalue=0.38944280045125024)\n"
     ]
    },
    {
     "data": {
      "text/plain": [
       "(array([1768., 1145.,  346.,  102.,   44.,   11.,    4.,    2.,    0.,\n",
       "           2.]),\n",
       " array([1.0000e+00, 9.9540e+02, 1.9898e+03, 2.9842e+03, 3.9786e+03,\n",
       "        4.9730e+03, 5.9674e+03, 6.9618e+03, 7.9562e+03, 8.9506e+03,\n",
       "        9.9450e+03]),\n",
       " <BarContainer object of 10 artists>)"
      ]
     },
     "execution_count": 407,
     "metadata": {},
     "output_type": "execute_result"
    },
    {
     "data": {
      "image/png": "[encoded data removed]",
      "text/plain": [
       "<Figure size 432x288 with 2 Axes>"
      ]
     },
     "metadata": {
      "needs_background": "light"
     },
     "output_type": "display_data"
    }
   ],
   "source": [
    "#check the pop\n",
    "print(kstest(app_based_count['appid_count'].values, app_based_count['psrc_sum'].values))\n",
    "print(mannwhitneyu(app_based_count['appid_count'].values, app_based_count['psrc_sum'].values))\n",
    "#scaled\n",
    "print(kstest(app_based_count['appid_count'].values/(np.sum(app_based_count['appid_count'].values/np.sum(app_based_count['psrc_sum'].values))), app_based_count['psrc_sum'].values))\n",
    "print(mannwhitneyu(app_based_count['appid_count'].values/(np.sum(app_based_count['appid_count'].values/np.sum(app_based_count['psrc_sum'].values))), app_based_count['psrc_sum'].values))\n",
    "#both shown the data is not statistically similar (not scaled)\n",
    "#wilcoxon test shows the data pattern is similar\n",
    "\n",
    "fig, axs = plt.subplots(2)\n",
    "fig.suptitle('hist of the app-based count vs. psrc simulation pop')\n",
    "axs[0].hist(app_based_count['appid_count'].values)\n",
    "axs[1].hist(app_based_count['psrc_sum'].values)"
   ]
  },
  {
   "cell_type": "code",
   "execution_count": 187,
   "metadata": {},
   "outputs": [],
   "source": [
    "#check the pop with the ACS survey\n",
    "#taz_ct_join = "
   ]
  },
  {
   "cell_type": "markdown",
   "metadata": {},
   "source": [
    "## Explore the demographic factors\n",
    "### demographic factors\n",
    "(pptyp, pagey, pgend, hhincome, hhownrent, hhrestype)\\\n",
    "pptyp: person type\\\n",
    "1= full time worker, 2 =part time worker, 3=non-worker age 65+, 4 = other non-working adult, 5 = university student, 6 = grade school student/child age 16+, 7 = child age 5-15, 8 = child age 0-4. \n",
    "\n",
    "pagey: age in years\\\n",
    "age group: \n",
    "<18, 18-29, 30-49, 50-64, >65 (need to be decoded)\n",
    "\n",
    "pgend: Gender (1=male, 2=female, 9=missing data for estimation)\n",
    "\n",
    "hhincome: household income (The household annual income, in integer dollars. (A negative value is interpreted as missing data in DaySim estimation mode.)\n",
    "[Source](https://money.usnews.com/money/personal-finance/family-finance/articles/where-do-i-fall-in-the-american-economic-class-system#:~:text=A%20family%20earning%20between%20%2432%2C048,more%20than%20%24373%2C894%20are%20rich).\n",
    "\n",
    "| INCOME GROUP       | INCOME (2019, $) | \n",
    "| :---               | :---             |\n",
    "| Poor or near-poor  | 32,048 or less   |\n",
    "| Lower-middle class | 32,048 - 53,413  |\n",
    "| Middle class       | 53,413 - 106,827 |\n",
    "| Upper-middle class | 106,827 - 373,894|\n",
    "| Rich               | 373,894 and up   |\n",
    "\n",
    "hhownrent: Household own versus rent status. (This could be optional as input, as it is not currently used in the DaySim model code.) \n",
    "\n",
    "hhrestype: Household residence building type. (This could be optional as input, as it is not currently used in the DaySim model code.)  \n",
    "\n",
    "\n",
    "### detailed work/study type\n",
    "(pwtyp, pstyp, hhwkrs, hhvehs, hhftw, hhptw, hhret, hhoad, hhuni, hhhsc)\\\n",
    "pwtyp: Worker type (0=non-worker, 1=full time worker, 2=part time worker)\\\n",
    "pstyp: student type (0=non-student, 1=full time student, 2=part time student if known – part-time distinction not used in DaySim code)\\\n",
    "Hhwkrs: the number of workers in the household*\\\n",
    "Hhvehs: the number of auto in the household*\\\n",
    "Hhftw:The number of HH members with person type=full-time worker.   (This could be optional as input, as it is computed by DaySim.)\\\n",
    "Hhptw: The number of HH members with person type=part-time worker.   (This could be optional as input, as it is computed by DaySim.)\\\n",
    "Hhret: The number of HH members with person type=retired adult.   (This could be optional as input, as it is computed by DaySim.)\\\n",
    "hhoad: The number of HH members with person type=other non-working adult.   (This could be optional as input, as it is computed by DaySim.)\\\n",
    "hhuni:The number of HH members with person type=university student.   (This could be optional as input, as it is computed by DaySim.)\\\n",
    "hhhsc:The number of HH members with person type=grade school student age 16+.   (This could be optional as input, as it is computed by DaySim.)\n",
    "\n",
    "### travel based factors\n",
    "(pwautime, pwaudist, psautime, psaudist, puwmode, puwarrp, puwdepp, ptpass, ppaidprk)\n",
    "#### work\n",
    "pwautime: The 1-way peak auto travel time between the residence and usual work parcels (a real number of minutes, -1 if no usual work location. Could be optional as input, used as output for calibration.)\\\n",
    "pwaudist: The 1-way peak auto distance between the ...\\\n",
    "psautime: The 1-way peak auto travel time between the residence and usual school parcels (a real number of minutes, -1 if no usual school location. Could be optional as input, used as output for calibration.)\\\n",
    "psaudist: The 1-way peak auto travel distance between the residence and usual school parcels (a real number of miles, -1 if no usual school location. Could be optional as input, used as output for calibration.)\n",
    "\n",
    "#### mode\n",
    "puwmode: The usual mode used to work\n",
    "\n",
    "#### time\n",
    "puwarrp: The usual arrival period at work\\\n",
    "puwdepp: The usual departure period from work\\\n",
    "ptpass: Transit pass ownership (0=no, 1=yes. This is predicted by DaySim, so could be an optional input in application mode.)\\\n",
    "ppaidprk: Worker has to pay to park at work (0=no, 1=yes.   This is predicted by DaySim, so could be an optional input in application mode.)\n",
    "\n"
   ]
  },
  {
   "cell_type": "code",
   "execution_count": 163,
   "metadata": {},
   "outputs": [
    {
     "data": {
      "text/plain": [
       "Index(['hhno', 'id', 'pagey', 'pdiary', 'pgend', 'pno', 'ppaidprk', 'pproxy',\n",
       "       'pptyp', 'psaudist', 'psautime', 'psexpfac', 'pspcl', 'pstaz', 'pstyp',\n",
       "       'ptpass', 'puwarrp', 'puwdepp', 'puwmode', 'pwaudist', 'pwautime',\n",
       "       'pwpcl', 'pwtaz', 'pwtyp', 'fraction_with_jobs_outside', 'hh515',\n",
       "       'hhcu5', 'hhexpfac', 'hhftw', 'hhhsc', 'hhincome', 'hhoad', 'hhparcel',\n",
       "       'hhptw', 'hhret', 'hhsize', 'hhtaz', 'hhuni', 'hhvehs', 'hhwkrs',\n",
       "       'hownrent', 'hrestype', 'samptype', 'zone_id', 'TAZ'],\n",
       "      dtype='object')"
      ]
     },
     "execution_count": 163,
     "metadata": {},
     "output_type": "execute_result"
    }
   ],
   "source": [
    "person_crossed.columns"
   ]
  },
  {
   "cell_type": "code",
   "execution_count": 168,
   "metadata": {},
   "outputs": [
    {
     "data": {
      "text/plain": [
       "array([-6500, -5600, -5500, -5100, -5000, -4800, -4600, -4100, -3400,\n",
       "       -1900, -1600, -1500,  -800,  -100,    -1])"
      ]
     },
     "execution_count": 168,
     "metadata": {},
     "output_type": "execute_result"
    }
   ],
   "source": [
    "np.unique(person_crossed[['hhincome']][person_crossed['hhincome']<0])"
   ]
  },
  {
   "cell_type": "code",
   "execution_count": 184,
   "metadata": {},
   "outputs": [],
   "source": [
    "def get_dt_summary(dt, var_lst, ignore_count=True):\n",
    "    if ignore_count == True:\n",
    "        print(dt[var_lst].describe(include='all').iloc[1:][:])\n",
    "    else:\n",
    "        print(dt[var_lst].describe(include='all'))"
   ]
  },
  {
   "cell_type": "code",
   "execution_count": 186,
   "metadata": {
    "scrolled": true
   },
   "outputs": [
    {
     "name": "stdout",
     "output_type": "stream",
     "text": [
      "demo factors\n",
      "          pagey     pgend     pptyp      hhincome  hownrent  hrestype\n",
      "mean  39.144181  1.500166  3.263913  1.203617e+05  1.007967  1.392477\n",
      "std   22.254709  0.500407  2.378871  1.095984e+05  0.089329  0.713071\n",
      "min    0.000000 -1.000000  1.000000 -6.500000e+03  0.000000  0.000000\n",
      "25%   21.000000  1.000000  1.000000  5.300000e+04  1.000000  1.000000\n",
      "50%   39.000000  2.000000  3.000000  9.514000e+04  1.000000  1.000000\n",
      "75%   57.000000  2.000000  5.000000  1.482000e+05  1.000000  2.000000\n",
      "max   94.000000  2.000000  8.000000  1.294400e+06  2.000000  4.000000\n",
      "detailed work/study type\n",
      "         pwtyp     pstyp  hhwkrs    hhvehs     hhftw     hhptw      hhret  \\\n",
      "mean  0.580710  0.230636    -1.0  2.215872  1.196839  0.240616   0.287727   \n",
      "std   0.653298  0.421240     0.0  1.009684  0.849612  0.489733   0.707208   \n",
      "min   0.000000  0.000000    -1.0  0.000000  0.000000  0.000000   0.000000   \n",
      "25%   0.000000  0.000000    -1.0  2.000000  1.000000  0.000000   0.000000   \n",
      "50%   0.000000  0.000000    -1.0  2.000000  1.000000  0.000000   0.000000   \n",
      "75%   1.000000  0.000000    -1.0  3.000000  2.000000  0.000000   0.000000   \n",
      "max   2.000000  1.000000    -1.0  4.000000  7.000000  4.000000  16.000000   \n",
      "\n",
      "         hhoad     hhuni     hhhsc  \n",
      "mean  0.538553  0.161841  0.185639  \n",
      "std   0.748983  0.534654  0.472489  \n",
      "min   0.000000  0.000000  0.000000  \n",
      "25%   0.000000  0.000000  0.000000  \n",
      "50%   0.000000  0.000000  0.000000  \n",
      "75%   1.000000  0.000000  0.000000  \n",
      "max   8.000000  8.000000  5.000000  \n",
      "travel based factors\n",
      "        pwautime    pwaudist    psautime   psaudist  puwmode  puwarrp  \\\n",
      "mean   14.172966    4.738183    2.251563   0.088782     -1.0     -1.0   \n",
      "std    21.756898    8.990736    7.858628   2.979644      0.0      0.0   \n",
      "min    -1.000000   -1.000000   -1.000000  -1.000000     -1.0     -1.0   \n",
      "25%    -1.000000   -1.000000   -1.000000  -1.000000     -1.0     -1.0   \n",
      "50%    -1.000000   -1.000000   -1.000000  -1.000000     -1.0     -1.0   \n",
      "75%    24.000000    8.000000   -1.000000  -1.000000     -1.0     -1.0   \n",
      "max   199.000000  134.000000  199.000000  85.000000     -1.0     -1.0   \n",
      "\n",
      "      puwdepp    ptpass  ppaidprk  \n",
      "mean     -1.0  0.187461  0.617817  \n",
      "std       0.0  0.390281  0.485921  \n",
      "min      -1.0  0.000000  0.000000  \n",
      "25%      -1.0  0.000000  0.000000  \n",
      "50%      -1.0  0.000000  1.000000  \n",
      "75%      -1.0  0.000000  1.000000  \n",
      "max      -1.0  1.000000  1.000000  \n"
     ]
    }
   ],
   "source": [
    "print('demo factors')\n",
    "get_dt_summary(person_crossed,['pagey', 'pgend', 'pptyp', 'hhincome', 'hownrent', 'hrestype'])\n",
    "print('detailed work/study type')\n",
    "get_dt_summary(person_crossed,['pwtyp', 'pstyp', 'hhwkrs', 'hhvehs', 'hhftw', 'hhptw', 'hhret',\\\n",
    "                               'hhoad', 'hhuni', 'hhhsc'])\n",
    "print('travel based factors')\n",
    "get_dt_summary(person_crossed, ['pwautime', 'pwaudist', 'psautime', 'psaudist',\\\n",
    "                                'puwmode', 'puwarrp',  'puwdepp', 'ptpass', 'ppaidprk'])"
   ]
  },
  {
   "cell_type": "code",
   "execution_count": 205,
   "metadata": {},
   "outputs": [
    {
     "name": "stderr",
     "output_type": "stream",
     "text": [
      "C:\\Users\\29700\\AppData\\Local\\Temp\\ipykernel_20808\\3784239655.py:41: SettingWithCopyWarning: \n",
      "A value is trying to be set on a copy of a slice from a DataFrame.\n",
      "Try using .loc[row_indexer,col_indexer] = value instead\n",
      "\n",
      "See the caveats in the documentation: https://pandas.pydata.org/pandas-docs/stable/user_guide/indexing.html#returning-a-view-versus-a-copy\n",
      "  person_crossed['deage'] = person_crossed['pagey'].apply(lambda x: decode_age(x))\n",
      "C:\\Users\\29700\\AppData\\Local\\Temp\\ipykernel_20808\\3784239655.py:42: SettingWithCopyWarning: \n",
      "A value is trying to be set on a copy of a slice from a DataFrame.\n",
      "Try using .loc[row_indexer,col_indexer] = value instead\n",
      "\n",
      "See the caveats in the documentation: https://pandas.pydata.org/pandas-docs/stable/user_guide/indexing.html#returning-a-view-versus-a-copy\n",
      "  person_crossed['deincome'] = person_crossed['hhincome'].apply(lambda x: decode_income(x))\n"
     ]
    }
   ],
   "source": [
    "#decode the data\n",
    "#for age, pagey\n",
    "#<18, 18-29, 30-49, 50-64, >65\n",
    "def decode_age(age_var):\n",
    "    if age_var<18 and age_var>=0:\n",
    "        return(0)\n",
    "    elif age_var>=18 and age_var<=29:\n",
    "        return(1)\n",
    "    elif age_var>=30 and age_var<=49:\n",
    "        return(2)\n",
    "    elif age_var>=50 and age_var<=64:\n",
    "        return(3)\n",
    "    elif age_var>=65:\n",
    "        return(4)\n",
    "    else:\n",
    "        return('nan')\n",
    "    \n",
    "#for household income, hhincome\n",
    "#Poor or near-poor 32,048 or less\n",
    "#Lower-middle class 32,048 - 53,413\n",
    "#Middle class 53,413 - 106,827\n",
    "#Upper-middle class 106,827 - 373,894\n",
    "#Rich 373,894 and up\n",
    "def decode_income(income_var):\n",
    "    if income_var != -1:\n",
    "        if income_var<=0:\n",
    "            return(0)\n",
    "        elif income_var>0 and income_var<32048:\n",
    "            return(1)\n",
    "        elif income_var>=32048 and income_var<53413:\n",
    "            return(2)\n",
    "        elif income_var>=53413 and income_var<106827:\n",
    "            return(3)\n",
    "        elif income_var>=106827 and income_var<373894:\n",
    "            return(4)\n",
    "        else:\n",
    "            return(5)    \n",
    "    else:\n",
    "        return(-1)\n",
    "    \n",
    "def decode_income_3level(income_var):\n",
    "    if income_var != -1:\n",
    "        if income_var<=0:\n",
    "            return(1)\n",
    "        elif income_var>0 and income_var<32048:\n",
    "            return(1)\n",
    "        elif income_var>=32048 and income_var<53413:\n",
    "            return(1)\n",
    "        elif income_var>=53413 and income_var<106827:\n",
    "            return(2)\n",
    "        elif income_var>=106827 and income_var<373894:\n",
    "            return(2)\n",
    "        else:\n",
    "            return(3)    \n",
    "    else:\n",
    "        return(-1)\n",
    "    \n",
    "def decode_income_pew(income_var):\n",
    "    if income_var != -1:\n",
    "        if income_var<=0:\n",
    "            return(1)\n",
    "        elif income_var>0 and income_var<30000:\n",
    "            return(1)\n",
    "        elif income_var>=30000 and income_var<=49999:\n",
    "            return(2)\n",
    "        elif income_var>=50000 and income_var<=74999:\n",
    "            return(3)\n",
    "        elif income_var>=75000:\n",
    "            return(4)\n",
    "    else:\n",
    "        return(-1)\n",
    "    \n",
    "person_crossed['deage'] = person_crossed['pagey'].apply(lambda x: decode_age(x))\n",
    "person_crossed['deincome'] = person_crossed['hhincome'].apply(lambda x: decode_income(x))\n",
    "#a simple defination of income level\n",
    "person_crossed['deincome3'] = person_crossed['hhincome'].apply(lambda x: decode_income_3level(x))\n",
    "person_crossed['deincomepew'] = person_crossed['hhincome'].apply(lambda x: decode_income_pew(x))"
   ]
  },
  {
   "cell_type": "code",
   "execution_count": 383,
   "metadata": {
    "scrolled": true
   },
   "outputs": [
    {
     "name": "stdout",
     "output_type": "stream",
     "text": [
      "          deage\n",
      "count   4051164\n",
      "unique        5\n",
      "top           2\n",
      "freq    1084660\n",
      "deage\n",
      "0     862848\n",
      "1     640434\n",
      "2    1084660\n",
      "3     890907\n",
      "4     572315\n",
      "dtype: int64\n",
      "       deincome\n",
      "count   4051164\n",
      "unique        7\n",
      "top           4\n",
      "freq    1601249\n",
      "deincome\n",
      "-1       1306\n",
      " 0      24990\n",
      " 1     482551\n",
      " 2     518751\n",
      " 3    1254131\n",
      " 4    1601249\n",
      " 5     168186\n",
      "dtype: int64\n",
      "       deincome3\n",
      "count    4051164\n",
      "unique         4\n",
      "top            2\n",
      "freq     2855380\n",
      "deincome3\n",
      "-1       1306\n",
      " 1    1026292\n",
      " 2    2855380\n",
      " 3     168186\n",
      "dtype: int64\n",
      "       deincome\n",
      "count   1604598\n",
      "unique        7\n",
      "top           4\n",
      "freq     539838\n",
      "deincome\n",
      "-1       653\n",
      " 0     15474\n",
      " 1    263918\n",
      " 2    234905\n",
      " 3    495044\n",
      " 4    539838\n",
      " 5     54766\n",
      "dtype: int64\n",
      "count     1604598\n",
      "unique          3\n",
      "top             1\n",
      "freq      1589375\n",
      "Name: hownrent, dtype: object\n",
      "hownrent\n",
      "0         68\n",
      "1    1589375\n",
      "2      15155\n",
      "dtype: int64\n",
      "count     1604598\n",
      "unique          5\n",
      "top             1\n",
      "freq       972440\n",
      "Name: hrestype, dtype: object\n",
      "hrestype\n",
      "0     36389\n",
      "1    972440\n",
      "2    448627\n",
      "3    107958\n",
      "4     39184\n",
      "dtype: int64\n"
     ]
    }
   ],
   "source": [
    "print(person_crossed[['deage']].astype(str).describe())\n",
    "print(person_crossed.groupby(['deage']).size())\n",
    "\n",
    "print(person_crossed[['deincome']].astype(str).describe())\n",
    "print(person_crossed.groupby(['deincome']).size())\n",
    "\n",
    "print(person_crossed[['deincome3']].astype(str).describe())\n",
    "print(person_crossed.groupby(['deincome3']).size())\n",
    "\n",
    "#since for income, the unit is per household\n",
    "#thus we check the income level info in hh dt\n",
    "hh['deincome'] = hh['hhincome'].apply(lambda x: decode_income(x))\n",
    "hh_crossed = hh[hh['hhno'].isin(np.unique(person_crossed['hhno']))]\n",
    "print(hh_crossed[['deincome']].astype(str).describe())\n",
    "print(hh_crossed.groupby(['deincome']).size())\n",
    "\n",
    "print(hh_crossed['hownrent'].astype(str).describe())\n",
    "print(hh_crossed.groupby(['hownrent']).size())\n",
    "print(hh_crossed['hrestype'].astype(str).describe())\n",
    "print(hh_crossed.groupby(['hrestype']).size())"
   ]
  },
  {
   "cell_type": "markdown",
   "metadata": {},
   "source": [
    "### Findings from the data\n",
    "* for demographic features \n",
    "    * pgend and hhincome has missing values (val = -1)\n",
    "    * hhincome can be negative (mim = -6,500)\n",
    "    * age across from 0 to 94, the most pop in age group locates age in (30-49)\n",
    "    * missing value exists in income, the most pop in income group locates upper-middle class 106,827 - 373,894\n",
    "    * female pop approximately equals to male pop\n",
    "* for travel based features\n",
    "    * usual mode for person are mostly unknown, except transit pass ownership (ptpass) and paid for park (ppaidprk)\n",
    "* Missings\n",
    "    * missing values for number of workers in the household"
   ]
  },
  {
   "cell_type": "markdown",
   "metadata": {},
   "source": [
    "### Data processing"
   ]
  },
  {
   "cell_type": "code",
   "execution_count": 246,
   "metadata": {},
   "outputs": [
    {
     "data": {
      "text/plain": [
       "Index(['fraction_with_jobs_outside', 'hh515', 'hhcu5', 'hhexpfac', 'hhftw',\n",
       "       'hhhsc', 'hhincome', 'hhno', 'hhoad', 'hhparcel', 'hhptw', 'hhret',\n",
       "       'hhsize', 'hhtaz', 'hhuni', 'hhvehs', 'hhwkrs', 'hownrent', 'hrestype',\n",
       "       'samptype', 'zone_id', 'deincome'],\n",
       "      dtype='object')"
      ]
     },
     "execution_count": 246,
     "metadata": {},
     "output_type": "execute_result"
    }
   ],
   "source": [
    "hh_crossed.columns"
   ]
  },
  {
   "cell_type": "code",
   "execution_count": 245,
   "metadata": {},
   "outputs": [
    {
     "data": {
      "text/plain": [
       "Index(['hhno', 'id', 'pagey', 'pdiary', 'pgend', 'pno', 'ppaidprk', 'pproxy',\n",
       "       'pptyp', 'psaudist', 'psautime', 'psexpfac', 'pspcl', 'pstaz', 'pstyp',\n",
       "       'ptpass', 'puwarrp', 'puwdepp', 'puwmode', 'pwaudist', 'pwautime',\n",
       "       'pwpcl', 'pwtaz', 'pwtyp', 'fraction_with_jobs_outside', 'hh515',\n",
       "       'hhcu5', 'hhexpfac', 'hhftw', 'hhhsc', 'hhincome', 'hhoad', 'hhparcel',\n",
       "       'hhptw', 'hhret', 'hhsize', 'hhtaz', 'hhuni', 'hhvehs', 'hhwkrs',\n",
       "       'hownrent', 'hrestype', 'samptype', 'zone_id', 'TAZ', 'deage',\n",
       "       'deincome'],\n",
       "      dtype='object')"
      ]
     },
     "execution_count": 245,
     "metadata": {},
     "output_type": "execute_result"
    }
   ],
   "source": [
    "person_crossed.columns"
   ]
  },
  {
   "cell_type": "code",
   "execution_count": 306,
   "metadata": {},
   "outputs": [],
   "source": [
    "#person_crossed.groupby(['TAZ', 'deincome'])\n",
    "def rename_col(var_name, var_val):\n",
    "    colname_lst = []\n",
    "    for i in range(len(var_val)):\n",
    "        colname_lst.append(var_name+'_'+str(var_val[i]))\n",
    "    return(colname_lst)\n",
    "\n",
    "def tide_dt(dt, var_name):\n",
    "    var_val = np.unique(dt[var_name])\n",
    "    var_number = len(var_val)\n",
    "    var_df = dt.groupby(['TAZ', var_name]).size().unstack(fill_value=0)\n",
    "    colname = rename_col(var_name, var_val)\n",
    "    var_df.columns = colname\n",
    "    var_df.reset_index(inplace=True)\n",
    "    return(var_df)\n",
    "\n",
    "def join_dt(l_suf, r_suf, dt, joindt):\n",
    "    dt = dt.join(joindt, lsuffix=l_suf, rsuffix=r_suf, how='left')\n",
    "    dt = dt.drop(columns = ['TAZ'+r_suf])\n",
    "    return(dt)"
   ]
  },
  {
   "cell_type": "code",
   "execution_count": 307,
   "metadata": {},
   "outputs": [],
   "source": [
    "#sum all the factor in different groups\n",
    "def return_demo_var_sum(dt):\n",
    "    test_dt = tide_dt(dt, 'deage')\n",
    "    test_dtt_dt = join_dt('', '2', test_dt, tide_dt(dt, 'pgend'))\n",
    "    test_dt = join_dt('', '2', test_dt, tide_dt(dt, 'pptyp'))\n",
    "    test_dt = join_dt('', '2', test_dt, tide_dt(dt, 'deincome'))\n",
    "    test_dt = join_dt('', '2', test_dt, tide_dt(dt, 'hownrent'))\n",
    "    test_dt = join_dt('', '2', test_dt, tide_dt(dt, 'hrestype'))\n",
    "    print(test_dt.columns)\n",
    "    return(test_dt)"
   ]
  },
  {
   "cell_type": "code",
   "execution_count": 412,
   "metadata": {},
   "outputs": [
    {
     "name": "stdout",
     "output_type": "stream",
     "text": [
      "Index(['TAZ', 'deage_0', 'deage_1', 'deage_2', 'deage_3', 'deage_4', 'pptyp_1',\n",
      "       'pptyp_2', 'pptyp_3', 'pptyp_4', 'pptyp_5', 'pptyp_6', 'pptyp_7',\n",
      "       'pptyp_8', 'deincome_-1', 'deincome_0', 'deincome_1', 'deincome_2',\n",
      "       'deincome_3', 'deincome_4', 'deincome_5', 'hownrent_0', 'hownrent_1',\n",
      "       'hownrent_2', 'hrestype_0', 'hrestype_1', 'hrestype_2', 'hrestype_3',\n",
      "       'hrestype_4'],\n",
      "      dtype='object')\n"
     ]
    }
   ],
   "source": [
    "test_dt = return_demo_var_sum(person_crossed)"
   ]
  },
  {
   "cell_type": "code",
   "execution_count": 409,
   "metadata": {},
   "outputs": [
    {
     "name": "stdout",
     "output_type": "stream",
     "text": [
      "# of missings 1476\n",
      "% of missings 0.0003643397305070839\n"
     ]
    }
   ],
   "source": [
    "#check the missing values\n",
    "a = list(person_crossed['id'][person_crossed['pgend']==-1].values)\n",
    "b = list(person_crossed['id'][person_crossed['deincome']==-1].values)\n",
    "a.extend(b)\n",
    "print('# of missings', len(np.unique(a)))\n",
    "print('% of missings', len(np.unique(a))/len(np.unique(person_crossed['id'])))"
   ]
  },
  {
   "cell_type": "code",
   "execution_count": 384,
   "metadata": {},
   "outputs": [
    {
     "name": "stdout",
     "output_type": "stream",
     "text": [
      "[-1  1  2]\n",
      "[0 1 2 3 4]\n",
      "[-1  0  1  2  3  4  5]\n",
      "[-1  1  2  3]\n"
     ]
    }
   ],
   "source": [
    "#check variable groups\n",
    "print(np.unique(person_crossed['pgend']))\n",
    "print(np.unique(person_crossed['deage']))\n",
    "print(np.unique(person_crossed['deincome']))\n",
    "print(np.unique(person_crossed['deincome3']))"
   ]
  },
  {
   "cell_type": "code",
   "execution_count": 439,
   "metadata": {},
   "outputs": [],
   "source": [
    "#decode the group\n",
    "#age\n",
    "#gender\n",
    "#income (convert 2 3groups)\n",
    "#demo_col = ['pgend', 'deage', 'income']\n",
    "def assign_demo_num(dt, simplify_income):\n",
    "    #delete missing values\n",
    "    processed_dt = dt[(dt['pgend']!=-1) & (dt['deincome']!=-1)]\n",
    "    if simplify_income == True:\n",
    "        processed_dt['demo_level'] = (processed_dt['pgend']-1)*15 + \\\n",
    "        (processed_dt['deage'])*3 + (processed_dt['deincome3'])\n",
    "    else:\n",
    "        processed_dt['demo_level'] = (processed_dt['pgend']-1)*30 + \\\n",
    "        (processed_dt['deage'])*6 + (processed_dt['deincome'])\n",
    "    return(processed_dt)\n",
    "\n",
    "def save_dtforest(dt, joindt, savename, simplify_income=True, return_index=False):\n",
    "    processed_dt = assign_demo_num(dt, simplify_income)\n",
    "    processed_dt = tide_dt(processed_dt, 'demo_level')\n",
    "    processed_dt = join_dt('', '2', processed_dt, joindt)\n",
    "    processed_dt.drop(columns = 'TAZ1')\n",
    "    processed_dt.to_csv(savename)\n",
    "    if return_index == True:\n",
    "        return(processed_dt)"
   ]
  },
  {
   "cell_type": "code",
   "execution_count": null,
   "metadata": {},
   "outputs": [],
   "source": [
    "save_dtforest(person_crossed, app_based_count, 'demo_group_dt.csv', return_index=False)\n",
    "save_dtforest(person_crossed, app_based_count, 'demo_group_dt_fullinocme.csv', simplify_income=False, return_index=False)"
   ]
  },
  {
   "cell_type": "markdown",
   "metadata": {},
   "source": [
    "### Check if data can be clustered"
   ]
  },
  {
   "cell_type": "code",
   "execution_count": 183,
   "metadata": {},
   "outputs": [],
   "source": [
    "os.chdir('G:/My Drive/2021/Bias/PSRC_od_simulation_2018/')"
   ]
  },
  {
   "cell_type": "code",
   "execution_count": 185,
   "metadata": {},
   "outputs": [],
   "source": [
    "#from kneed import KneeLocator\n",
    "#from sklearn.datasets import make_blobs\n",
    "from sklearn.cluster import KMeans\n",
    "from sklearn.metrics import silhouette_score\n",
    "from sklearn.preprocessing import StandardScaler\n",
    "import jenkspy"
   ]
  },
  {
   "cell_type": "code",
   "execution_count": 9,
   "metadata": {
    "scrolled": true
   },
   "outputs": [
    {
     "name": "stdout",
     "output_type": "stream",
     "text": [
      "3424\n",
      "   TAZ  demo_level_1  demo_level_2  demo_level_3  demo_level_4  demo_level_5  \\\n",
      "0    1             2            96            15             0            16   \n",
      "1    2            38           165             2            19            61   \n",
      "2    3            39            46             0            82           155   \n",
      "\n",
      "   demo_level_6  demo_level_7  demo_level_8  demo_level_9  ...  demo_level_29  \\\n",
      "0             0             3            94            19  ...            106   \n",
      "1             4            32           206            19  ...             78   \n",
      "2             0            99           183             2  ...            107   \n",
      "\n",
      "   demo_level_30  appid_count  COUNTY_FIP  COUNTY_NM         Area  \\\n",
      "0              3           17          33       King  7117998.770   \n",
      "1              0           30          33       King   488714.265   \n",
      "2              0           66          33       King   503192.772   \n",
      "\n",
      "                                            geometry  TAZ1  psrc_sum  \\\n",
      "0  POLYGON ((-122.3609440013541 47.72733999996547...     1       980   \n",
      "1  POLYGON ((-122.3555520013541 47.72504799996551...     2      1720   \n",
      "2  POLYGON ((-122.3555720013543 47.7341289999656,...     3      2699   \n",
      "\n",
      "   ct_over_sum  \n",
      "0     0.017347  \n",
      "1     0.017442  \n",
      "2     0.024454  \n",
      "\n",
      "[3 rows x 39 columns]\n"
     ]
    }
   ],
   "source": [
    "#help(jenkspy.jenks_breaks)\n",
    "demo_group_dt = pd.read_csv('demo_group_dt.csv', index_col=0)\n",
    "print(len(demo_group_dt))\n",
    "demo_group_dt['ct_over_sum'] = (demo_group_dt['appid_count'])/(demo_group_dt['psrc_sum'])\n",
    "print(demo_group_dt.head(3))"
   ]
  },
  {
   "cell_type": "code",
   "execution_count": 278,
   "metadata": {},
   "outputs": [
    {
     "data": {
      "text/plain": [
       "3385"
      ]
     },
     "execution_count": 278,
     "metadata": {},
     "output_type": "execute_result"
    }
   ],
   "source": [
    "#data processing, delete rate > 1\n",
    "demo_group_dt = demo_group_dt.sort_values(by=['ct_over_sum'])\n",
    "demo_group_dt = demo_group_dt[demo_group_dt['ct_over_sum']<=1]\n",
    "len(demo_group_dt)"
   ]
  },
  {
   "cell_type": "code",
   "execution_count": 292,
   "metadata": {},
   "outputs": [
    {
     "data": {
      "text/html": [
       "<div>\n",
       "<style scoped>\n",
       "    .dataframe tbody tr th:only-of-type {\n",
       "        vertical-align: middle;\n",
       "    }\n",
       "\n",
       "    .dataframe tbody tr th {\n",
       "        vertical-align: top;\n",
       "    }\n",
       "\n",
       "    .dataframe thead th {\n",
       "        text-align: right;\n",
       "    }\n",
       "</style>\n",
       "<table border=\"1\" class=\"dataframe\">\n",
       "  <thead>\n",
       "    <tr style=\"text-align: right;\">\n",
       "      <th></th>\n",
       "      <th>TAZ</th>\n",
       "    </tr>\n",
       "  </thead>\n",
       "  <tbody>\n",
       "    <tr>\n",
       "      <th>582</th>\n",
       "      <td>627</td>\n",
       "    </tr>\n",
       "    <tr>\n",
       "      <th>602</th>\n",
       "      <td>659</td>\n",
       "    </tr>\n",
       "    <tr>\n",
       "      <th>1735</th>\n",
       "      <td>1895</td>\n",
       "    </tr>\n",
       "    <tr>\n",
       "      <th>1919</th>\n",
       "      <td>2081</td>\n",
       "    </tr>\n",
       "  </tbody>\n",
       "</table>\n",
       "</div>"
      ],
      "text/plain": [
       "       TAZ\n",
       "582    627\n",
       "602    659\n",
       "1735  1895\n",
       "1919  2081"
      ]
     },
     "execution_count": 292,
     "metadata": {},
     "output_type": "execute_result"
    }
   ],
   "source": [
    "#delete the count is only 1 and the % is smaller than 5%\n",
    "del_TAZs = demo_group_dt[['TAZ']][(demo_group_dt['ct_over_sum']<0.01) &\n",
    "                             (demo_group_dt['appid_count']<=5)]\n",
    "del_TAZs = del_TAZs.values.T[0]\n",
    "demo_group_dt = demo_group_dt[~demo_group_dt['TAZ'].isin(del_TAZs)]"
   ]
  },
  {
   "cell_type": "code",
   "execution_count": 296,
   "metadata": {},
   "outputs": [
    {
     "name": "stdout",
     "output_type": "stream",
     "text": [
      "[ 627  659 1895 1655  216  120  472 2691  614  496 1259  661 2253 2182\n",
      "  112 3392  378 2081 1747 2861 2831 1388  885 1758]\n"
     ]
    }
   ],
   "source": []
  },
  {
   "cell_type": "code",
   "execution_count": 299,
   "metadata": {},
   "outputs": [
    {
     "name": "stdout",
     "output_type": "stream",
     "text": [
      "num class=2 [0.0025974025974025974, 0.031818181818181815, 0.07954545454545454]\n",
      "num class=3 [0.0025974025974025974, 0.025466893039049237, 0.041189931350114416, 0.07954545454545454]\n",
      "num class=4 [0.0025974025974025974, 0.02226027397260274, 0.032359081419624215, 0.05, 0.07954545454545454]\n",
      "num class=5 [0.0025974025974025974, 0.02027027027027027, 0.027941176470588237, 0.03687315634218289, 0.053036126056879324, 0.07954545454545454]\n"
     ]
    }
   ],
   "source": [
    "for i in range(2, 6):\n",
    "    print('num class='+str(i), jenkspy.jenks_breaks(demo_group_dt_test['ct_over_sum'],\n",
    "                               n_classes=i))"
   ]
  },
  {
   "cell_type": "code",
   "execution_count": 302,
   "metadata": {},
   "outputs": [
    {
     "data": {
      "text/plain": [
       "rate_cut_jenk\n",
       "c1    3335\n",
       "c2      26\n",
       "dtype: int64"
      ]
     },
     "execution_count": 302,
     "metadata": {},
     "output_type": "execute_result"
    }
   ],
   "source": [
    "#get natural breaks\n",
    "#source: https://stackoverflow.com/questions/11513484/1d-number-array-clustering\n",
    "#source: https://pbpython.com/natural-breaks.html\n",
    "def get_labels(class_num):\n",
    "    labels = []\n",
    "    for i in range(class_num):\n",
    "        labels.append('c'+str(i+1))\n",
    "    return(labels)\n",
    "\n",
    "class_num = 2\n",
    "demo_group_dt['rate_cut_jenk'] = pd.cut(\n",
    "    demo_group_dt['ct_over_sum'],\n",
    "    bins=jenkspy.jenks_breaks(demo_group_dt['ct_over_sum'], n_classes=class_num),\n",
    "    labels=get_labels(class_num),\n",
    "    include_lowest=True)\n",
    "\n",
    "demo_group_dt.groupby(by=['rate_cut_jenk']).size()"
   ]
  },
  {
   "cell_type": "code",
   "execution_count": 304,
   "metadata": {},
   "outputs": [],
   "source": [
    "demo_group_dt = demo_group_dt[demo_group_dt['rate_cut_jenk']=='c1']"
   ]
  },
  {
   "cell_type": "markdown",
   "metadata": {},
   "source": [
    "### Revised the data and check the data rate\n",
    "the reason to check the data is that we found number of app-based id (estimated with home location) is larger than the PSRC simulation population at some TAZ"
   ]
  },
  {
   "cell_type": "markdown",
   "metadata": {},
   "source": [
    "#### delete part of the TAZ"
   ]
  },
  {
   "cell_type": "code",
   "execution_count": 68,
   "metadata": {},
   "outputs": [
    {
     "data": {
      "text/html": [
       "<div>\n",
       "<style scoped>\n",
       "    .dataframe tbody tr th:only-of-type {\n",
       "        vertical-align: middle;\n",
       "    }\n",
       "\n",
       "    .dataframe tbody tr th {\n",
       "        vertical-align: top;\n",
       "    }\n",
       "\n",
       "    .dataframe thead th {\n",
       "        text-align: right;\n",
       "    }\n",
       "</style>\n",
       "<table border=\"1\" class=\"dataframe\">\n",
       "  <thead>\n",
       "    <tr style=\"text-align: right;\">\n",
       "      <th></th>\n",
       "      <th>TAZ</th>\n",
       "      <th>sum_demo_rate</th>\n",
       "    </tr>\n",
       "  </thead>\n",
       "  <tbody>\n",
       "    <tr>\n",
       "      <th>886</th>\n",
       "      <td>983</td>\n",
       "      <td>41.6</td>\n",
       "    </tr>\n",
       "    <tr>\n",
       "      <th>1049</th>\n",
       "      <td>1167</td>\n",
       "      <td>29.0</td>\n",
       "    </tr>\n",
       "    <tr>\n",
       "      <th>2866</th>\n",
       "      <td>3124</td>\n",
       "      <td>19.5</td>\n",
       "    </tr>\n",
       "  </tbody>\n",
       "</table>\n",
       "</div>"
      ],
      "text/plain": [
       "       TAZ  sum_demo_rate\n",
       "886    983           41.6\n",
       "1049  1167           29.0\n",
       "2866  3124           19.5"
      ]
     },
     "execution_count": 68,
     "metadata": {},
     "output_type": "execute_result"
    }
   ],
   "source": [
    "os.chdir('G:/My Drive/2021/Bias/PSRC_od_simulation_2018')\n",
    "demo_group_dt = pd.read_csv('demo_group_dt.csv', index_col=0)\n",
    "\n",
    "#check the rate\n",
    "colname = list(demo_group_dt.columns)\n",
    "demo_group_dt['sumup_psrc_demo'] = np.sum(demo_group_dt[colname[1:31]], axis=1)\n",
    "demo_group_dt['sum_demo_rate'] = demo_group_dt['appid_count']/demo_group_dt['sumup_psrc_demo']\n",
    "\n",
    "demo_group_dt[['TAZ', 'sum_demo_rate']][demo_group_dt['sum_demo_rate']>0.1].sort_values(by=['sum_demo_rate'], ascending=False).head(3)"
   ]
  },
  {
   "cell_type": "code",
   "execution_count": 69,
   "metadata": {
    "scrolled": false
   },
   "outputs": [
    {
     "data": {
      "text/plain": [
       "count    3267.000000\n",
       "mean        0.027207\n",
       "std         0.009923\n",
       "min         0.002597\n",
       "25%         0.021143\n",
       "50%         0.025837\n",
       "75%         0.031445\n",
       "max         0.078571\n",
       "Name: sum_demo_rate, dtype: float64"
      ]
     },
     "execution_count": 69,
     "metadata": {},
     "output_type": "execute_result"
    }
   ],
   "source": [
    "#demo_group_dt[['TAZ','sum_demo_rate']][demo_group_dt['sum_demo_rate']>0.08].sort_values(by=['sum_demo_rate'], ascending=False)\n",
    "#through checking the data\n",
    "#it is found that all the rate which is larger than 0.1 mostly located at the working area,\n",
    "#the most highest rate (the top 2) all locates at the airport\n",
    "#thus we kept all the rate <0.08 as most of the areas are found locate in the residential area\n",
    "\n",
    "demo_group_dt = demo_group_dt[demo_group_dt['sum_demo_rate']<0.08]\n",
    "\n",
    "#tide dt shape\n",
    "#(3424, 40)\n",
    "\n",
    "#revised dt shape\n",
    "#(3267, 40)\n",
    "\n",
    "#about 4% of the tide dt are deleted\n",
    "\n",
    "demo_group_dt['sum_demo_rate'].describe()"
   ]
  },
  {
   "cell_type": "code",
   "execution_count": null,
   "metadata": {},
   "outputs": [],
   "source": [
    "demo_group_dt.to_csv('demo_group_dt_revised.csv')"
   ]
  },
  {
   "cell_type": "markdown",
   "metadata": {},
   "source": [
    "#### Revise the demographic group"
   ]
  },
  {
   "cell_type": "code",
   "execution_count": 377,
   "metadata": {},
   "outputs": [
    {
     "name": "stderr",
     "output_type": "stream",
     "text": [
      "C:\\Users\\29700\\AppData\\Local\\Temp\\ipykernel_5408\\1418746027.py:11: SettingWithCopyWarning: \n",
      "A value is trying to be set on a copy of a slice from a DataFrame.\n",
      "Try using .loc[row_indexer,col_indexer] = value instead\n",
      "\n",
      "See the caveats in the documentation: https://pandas.pydata.org/pandas-docs/stable/user_guide/indexing.html#returning-a-view-versus-a-copy\n",
      "  demo_group_dt[demo_new_col] = demo_group_dt[demo_col[i]]+demo_group_dt[demo_col[i+gender_interval]]\n"
     ]
    }
   ],
   "source": [
    "#delete the geneder parameter\n",
    "demo_group_dt.head(3)\n",
    "demo_col = demo_group_dt.columns[1:31]\n",
    "#Based on the demographic number defination\n",
    "#if we would like to ignore the gender, we can sum up the demo_group_1 and demo_group_16 as demo_new_group1 \n",
    "#since they are female and male group with the same age and income level\n",
    "gender_interval = 15\n",
    "for i in range(gender_interval):\n",
    "    demos = demo_col[i].split('_')\n",
    "    demo_new_col = demos[0]+demos[2]\n",
    "    demo_group_dt[demo_new_col] = demo_group_dt[demo_col[i]]+demo_group_dt[demo_col[i+gender_interval]]"
   ]
  },
  {
   "cell_type": "code",
   "execution_count": 309,
   "metadata": {},
   "outputs": [],
   "source": [
    "demo_group_dt.drop(columns=demo_col).to_csv('demo_group_dt_revised_no_gender_cut.csv')"
   ]
  },
  {
   "cell_type": "code",
   "execution_count": 310,
   "metadata": {},
   "outputs": [
    {
     "data": {
      "text/plain": [
       "['demo_level_7',\n",
       " 'demo_level_8',\n",
       " 'demo_level_9',\n",
       " 'demo_level_10',\n",
       " 'demo_level_11',\n",
       " 'demo_level_12',\n",
       " 'demo_level_22',\n",
       " 'demo_level_23',\n",
       " 'demo_level_24']"
      ]
     },
     "execution_count": 310,
     "metadata": {},
     "output_type": "execute_result"
    }
   ],
   "source": [
    "exclude_group"
   ]
  },
  {
   "cell_type": "code",
   "execution_count": 379,
   "metadata": {},
   "outputs": [
    {
     "data": {
      "text/plain": [
       "Index([         'TAZ', 'demo_level_1', 'demo_level_2', 'demo_level_3',\n",
       "       'demo_level_4', 'demo_level_5', 'demo_level_6', 'demo_level_7',\n",
       "       'demo_level_8', 'demo_level_9',\n",
       "       ...\n",
       "              'demo6',        'demo7',        'demo8',        'demo9',\n",
       "             'demo10',       'demo11',       'demo12',       'demo13',\n",
       "             'demo14',       'demo15'],\n",
       "      dtype='object', length=119)"
      ]
     },
     "execution_count": 379,
     "metadata": {},
     "output_type": "execute_result"
    }
   ],
   "source": [
    "demo_group_dt.columns"
   ]
  },
  {
   "cell_type": "code",
   "execution_count": 380,
   "metadata": {},
   "outputs": [
    {
     "name": "stderr",
     "output_type": "stream",
     "text": [
      "C:\\Users\\29700\\AppData\\Local\\Temp\\ipykernel_5408\\200866601.py:16: SettingWithCopyWarning: \n",
      "A value is trying to be set on a copy of a slice from a DataFrame.\n",
      "Try using .loc[row_indexer,col_indexer] = value instead\n",
      "\n",
      "See the caveats in the documentation: https://pandas.pydata.org/pandas-docs/stable/user_guide/indexing.html#returning-a-view-versus-a-copy\n",
      "  demo_group_dt_revisedage[revised_age_group[i]] = demo_group_dt['demo_level_'+str(num)]+demo_group_dt['demo_level_'+str(num+3)]\n"
     ]
    }
   ],
   "source": [
    "#squeeze the age into four levels\n",
    "#previous level\n",
    "#<18, 18-29, 30-49, 50-64, >65\n",
    "#current level (since the smartphone ownership shows similar % in the group 18-29 and 30-49)\n",
    "#<18, 18-49, 50-64, >65\n",
    "dt_colname = demo_group_dt.columns\n",
    "demo_group_dt_revisedage = demo_group_dt[['TAZ','COUNTY_NM', 'Area','psrc_sum','appid_count']]\n",
    "revised_age_group = ['demo_level_4', 'demo_level_5', 'demo_level_6', 'demo_level_7', 'demo_level_8', 'demo_level_9',\n",
    "                    'demo_level_19', 'demo_level_20','demo_level_21', 'demo_level_22', 'demo_level_23', 'demo_level_24']\n",
    "\n",
    "exclude_group = []\n",
    "for i in range(len(revised_age_group)-3):\n",
    "    num = int(revised_age_group[i].split('_')[-1])\n",
    "    exclude_group.append('demo_level_'+str(num+3))\n",
    "    if revised_age_group[i] not in exclude_group:\n",
    "        demo_group_dt_revisedage[revised_age_group[i]] = demo_group_dt['demo_level_'+str(num)]+demo_group_dt['demo_level_'+str(num+3)]        "
   ]
  },
  {
   "cell_type": "code",
   "execution_count": 381,
   "metadata": {},
   "outputs": [
    {
     "name": "stderr",
     "output_type": "stream",
     "text": [
      "C:\\Users\\29700\\anaconda3\\lib\\site-packages\\pandas\\core\\frame.py:3065: SettingWithCopyWarning: \n",
      "A value is trying to be set on a copy of a slice from a DataFrame.\n",
      "Try using .loc[row_indexer,col_indexer] = value instead\n",
      "\n",
      "See the caveats in the documentation: https://pandas.pydata.org/pandas-docs/stable/user_guide/indexing.html#returning-a-view-versus-a-copy\n",
      "  self[k1] = value[k2]\n"
     ]
    }
   ],
   "source": [
    "#revised_num = [4,5,6,7,8,9,19,20,21,22,23,24]\n",
    "demo_group_dt_revisedage.columns = ['TAZ','COUNTY_NM', 'Area','psrc_sum','appid_count', 'demo_level_4', 'demo_level_5',\n",
    "                                    'demo_level_6', 'demo_level_16', 'demo_level_17', 'demo_level_18']\n",
    "demo_group_dt_revisedage[['demo_level_1', 'demo_level_2','demo_level_3']] = demo_group_dt[['demo_level_1', 'demo_level_2','demo_level_3']]\n",
    "demo_group_dt_revisedage[['demo_level_7', 'demo_level_8','demo_level_9',\n",
    "                         'demo_level_10', 'demo_level_11','demo_level_12',\n",
    "                         'demo_level_13', 'demo_level_14','demo_level_15']] = demo_group_dt[['demo_level_10', 'demo_level_11','demo_level_12',\n",
    "                                                                                            'demo_level_13', 'demo_level_14','demo_level_15',\n",
    "                                                                                            'demo_level_16', 'demo_level_17','demo_level_18']]\n",
    "demo_group_dt_revisedage[['demo_level_19', 'demo_level_20','demo_level_21',\n",
    "                         'demo_level_22', 'demo_level_23','demo_level_24']] = demo_group_dt[['demo_level_25', 'demo_level_26','demo_level_27',\n",
    "                                                                                            'demo_level_28', 'demo_level_29','demo_level_30']]     "
   ]
  },
  {
   "cell_type": "code",
   "execution_count": 384,
   "metadata": {
    "scrolled": true
   },
   "outputs": [],
   "source": [
    "demo_group_dt_revisedage.columns=[98, 99, 100, 101, 102, 4, 5, 6, 16, 17, 18, 1, 2, 3, 7, 8, 9, 10, 11, 12, 13, 14, 15, 19, \n",
    "                                  20, 21, 22, 23, 24]\n",
    "demo_group_dt_revisedage = demo_group_dt_revisedage.sort_index(ascending = True, axis = 1)\n",
    "demo_group_dt_revisedage.columns = [1, 2, 3, 4, 5, 6, 7, 8, 9, 10, 11, 12, 13, 14, 15, 16, 17,\n",
    "                                   18, 19, 20, 21, 22, 23, 24, 'TAZ','COUNTY_NM', 'Area','psrc_sum','appid_count']"
   ]
  },
  {
   "cell_type": "code",
   "execution_count": 385,
   "metadata": {},
   "outputs": [
    {
     "data": {
      "text/html": [
       "<div>\n",
       "<style scoped>\n",
       "    .dataframe tbody tr th:only-of-type {\n",
       "        vertical-align: middle;\n",
       "    }\n",
       "\n",
       "    .dataframe tbody tr th {\n",
       "        vertical-align: top;\n",
       "    }\n",
       "\n",
       "    .dataframe thead th {\n",
       "        text-align: right;\n",
       "    }\n",
       "</style>\n",
       "<table border=\"1\" class=\"dataframe\">\n",
       "  <thead>\n",
       "    <tr style=\"text-align: right;\">\n",
       "      <th></th>\n",
       "      <th>1</th>\n",
       "      <th>2</th>\n",
       "      <th>3</th>\n",
       "      <th>4</th>\n",
       "      <th>5</th>\n",
       "      <th>6</th>\n",
       "      <th>7</th>\n",
       "      <th>8</th>\n",
       "      <th>9</th>\n",
       "      <th>10</th>\n",
       "      <th>...</th>\n",
       "      <th>20</th>\n",
       "      <th>21</th>\n",
       "      <th>22</th>\n",
       "      <th>23</th>\n",
       "      <th>24</th>\n",
       "      <th>TAZ</th>\n",
       "      <th>COUNTY_NM</th>\n",
       "      <th>Area</th>\n",
       "      <th>psrc_sum</th>\n",
       "      <th>appid_count</th>\n",
       "    </tr>\n",
       "  </thead>\n",
       "  <tbody>\n",
       "    <tr>\n",
       "      <th>0</th>\n",
       "      <td>2</td>\n",
       "      <td>96</td>\n",
       "      <td>15</td>\n",
       "      <td>3</td>\n",
       "      <td>110</td>\n",
       "      <td>19</td>\n",
       "      <td>10</td>\n",
       "      <td>124</td>\n",
       "      <td>14</td>\n",
       "      <td>9</td>\n",
       "      <td>...</td>\n",
       "      <td>122</td>\n",
       "      <td>18</td>\n",
       "      <td>14</td>\n",
       "      <td>106</td>\n",
       "      <td>3</td>\n",
       "      <td>1</td>\n",
       "      <td>King</td>\n",
       "      <td>7117998.770</td>\n",
       "      <td>980</td>\n",
       "      <td>17</td>\n",
       "    </tr>\n",
       "    <tr>\n",
       "      <th>1</th>\n",
       "      <td>38</td>\n",
       "      <td>165</td>\n",
       "      <td>2</td>\n",
       "      <td>51</td>\n",
       "      <td>267</td>\n",
       "      <td>23</td>\n",
       "      <td>56</td>\n",
       "      <td>76</td>\n",
       "      <td>4</td>\n",
       "      <td>40</td>\n",
       "      <td>...</td>\n",
       "      <td>109</td>\n",
       "      <td>6</td>\n",
       "      <td>105</td>\n",
       "      <td>78</td>\n",
       "      <td>0</td>\n",
       "      <td>2</td>\n",
       "      <td>King</td>\n",
       "      <td>488714.265</td>\n",
       "      <td>1720</td>\n",
       "      <td>30</td>\n",
       "    </tr>\n",
       "    <tr>\n",
       "      <th>2</th>\n",
       "      <td>39</td>\n",
       "      <td>46</td>\n",
       "      <td>0</td>\n",
       "      <td>181</td>\n",
       "      <td>338</td>\n",
       "      <td>2</td>\n",
       "      <td>160</td>\n",
       "      <td>65</td>\n",
       "      <td>1</td>\n",
       "      <td>131</td>\n",
       "      <td>...</td>\n",
       "      <td>117</td>\n",
       "      <td>1</td>\n",
       "      <td>405</td>\n",
       "      <td>107</td>\n",
       "      <td>0</td>\n",
       "      <td>3</td>\n",
       "      <td>King</td>\n",
       "      <td>503192.772</td>\n",
       "      <td>2699</td>\n",
       "      <td>66</td>\n",
       "    </tr>\n",
       "  </tbody>\n",
       "</table>\n",
       "<p>3 rows × 29 columns</p>\n",
       "</div>"
      ],
      "text/plain": [
       "    1    2   3    4    5   6    7    8   9   10  ...   20  21   22   23  24  \\\n",
       "0   2   96  15    3  110  19   10  124  14    9  ...  122  18   14  106   3   \n",
       "1  38  165   2   51  267  23   56   76   4   40  ...  109   6  105   78   0   \n",
       "2  39   46   0  181  338   2  160   65   1  131  ...  117   1  405  107   0   \n",
       "\n",
       "   TAZ  COUNTY_NM         Area  psrc_sum  appid_count  \n",
       "0    1       King  7117998.770       980           17  \n",
       "1    2       King   488714.265      1720           30  \n",
       "2    3       King   503192.772      2699           66  \n",
       "\n",
       "[3 rows x 29 columns]"
      ]
     },
     "execution_count": 385,
     "metadata": {},
     "output_type": "execute_result"
    }
   ],
   "source": [
    "demo_group_dt_revisedage.head(3)"
   ]
  },
  {
   "cell_type": "code",
   "execution_count": 386,
   "metadata": {},
   "outputs": [
    {
     "name": "stderr",
     "output_type": "stream",
     "text": [
      "C:\\Users\\29700\\AppData\\Local\\Temp\\ipykernel_5408\\3019540070.py:2: SettingWithCopyWarning: \n",
      "A value is trying to be set on a copy of a slice from a DataFrame.\n",
      "Try using .loc[row_indexer,col_indexer] = value instead\n",
      "\n",
      "See the caveats in the documentation: https://pandas.pydata.org/pandas-docs/stable/user_guide/indexing.html#returning-a-view-versus-a-copy\n",
      "  demo_group_dt['demo_age_'+str(i+1)] = demo_group_dt_revisedage[i+1]\n"
     ]
    }
   ],
   "source": [
    "#rerun the demo group process based on the land use home\n",
    "for i in range(24):\n",
    "    demo_group_dt['demo_age_'+str(i+1)] = demo_group_dt_revisedage[i+1]\n",
    "demo_group_dt.to_csv('demo_group_dt_land_.csv')"
   ]
  },
  {
   "cell_type": "code",
   "execution_count": 318,
   "metadata": {},
   "outputs": [],
   "source": [
    "demo_group_dt_revisedage.to_csv('demo_group_dt_revised_age_cut.csv')"
   ]
  },
  {
   "cell_type": "code",
   "execution_count": 391,
   "metadata": {},
   "outputs": [
    {
     "data": {
      "text/plain": [
       "(2889, 143)"
      ]
     },
     "execution_count": 391,
     "metadata": {},
     "output_type": "execute_result"
    }
   ],
   "source": [
    "demo_group_dt.shape"
   ]
  },
  {
   "cell_type": "markdown",
   "metadata": {},
   "source": [
    "## Add land use info\n",
    "* [data source](https://github.com/psrc/soundcast/releases/tag/v3.0.1_RTP)\n",
    "* [data info](https://github.com/psrc/soundcast/wiki/lutype_lookup)\n",
    "* [land use info](https://github.com/psrc/soundcast/wiki/Inputs#land-use)"
   ]
  },
  {
   "cell_type": "code",
   "execution_count": null,
   "metadata": {},
   "outputs": [],
   "source": [
    "import csv"
   ]
  },
  {
   "cell_type": "code",
   "execution_count": 210,
   "metadata": {},
   "outputs": [],
   "source": [
    "os.chdir(\"G:/My Drive/2021/Bias/PSRC_od_simulation_2018/\")\n",
    "\n",
    "demo_group_dt = pd.read_csv('demo_group_dt.csv', index_col=0)\n",
    "demo_group_dt.head(3)\n",
    "\n",
    "#check the rate\n",
    "colname = list(demo_group_dt.columns)\n",
    "demo_group_dt['sumup_psrc_demo'] = np.sum(demo_group_dt[colname[1:31]], axis=1)\n",
    "demo_group_dt['sum_demo_rate'] = demo_group_dt['appid_count']/demo_group_dt['sumup_psrc_demo']\n",
    "\n",
    "#demo_group_dt[['TAZ', 'sum_demo_rate']][demo_group_dt['sum_demo_rate']>0.1].sort_values(by=['sum_demo_rate'], ascending=False).head(3)\n"
   ]
  },
  {
   "cell_type": "code",
   "execution_count": 30,
   "metadata": {},
   "outputs": [],
   "source": [
    "land_use = pd.read_csv('v3.0.0_2018_2050/landuse/2018/v3.0_RTP/parcels_urbansim.txt',\n",
    "                      sep=\" \")"
   ]
  },
  {
   "cell_type": "code",
   "execution_count": 419,
   "metadata": {},
   "outputs": [],
   "source": [
    "#land_use['lutype_p'].describe()\n",
    "#lutype_p --> NA"
   ]
  },
  {
   "cell_type": "code",
   "execution_count": 218,
   "metadata": {},
   "outputs": [
    {
     "name": "stdout",
     "output_type": "stream",
     "text": [
      "3424\n",
      "(3424, 40)\n",
      "(1302434, 29)\n"
     ]
    }
   ],
   "source": [
    "#check the data format\n",
    "print(len(np.unique(demo_group_dt['TAZ'])))\n",
    "print(demo_group_dt.shape)\n",
    "print(land_use.shape)"
   ]
  },
  {
   "cell_type": "code",
   "execution_count": 396,
   "metadata": {},
   "outputs": [
    {
     "data": {
      "text/plain": [
       "array([ 0,  1,  2,  3,  4,  5,  6,  7,  8,  9, 10, 11, 12, 13, 14, 15, 17,\n",
       "       18, 19, 20, 21, 22, 23, 24, 25, 26, 27, 28, 29, 30], dtype=int64)"
      ]
     },
     "execution_count": 396,
     "metadata": {},
     "output_type": "execute_result"
    }
   ],
   "source": [
    "np.unique(land_use['lutype_p'])"
   ]
  },
  {
   "cell_type": "code",
   "execution_count": 219,
   "metadata": {},
   "outputs": [],
   "source": [
    "#land use var processing\n",
    "land_use_describe = land_use[['taz_p', 'lutype_p']].groupby(['taz_p','lutype_p']).size().unstack(fill_value=0)\n",
    "land_use_describe.reset_index(inplace=True)\n",
    "\n",
    "#other var processing (all related number of people ...)\n",
    "land_use_sum = land_use.drop(columns=['lutype_p','parcelid','xcoord_p', 'ycoord_p','ppricdyp', 'pprichrp']).groupby(['taz_p']).sum()\n",
    "land_use_sum.reset_index(inplace=True)\n",
    "#land_use_sum.drop()\n",
    "\n",
    "#price var processing\n",
    "land_use_p = land_use[['taz_p', 'ppricdyp', 'pprichrp']].groupby('taz_p').mean()\n",
    "land_use_p.reset_index(inplace=True)\n",
    "\n",
    "#only focus on the land use var with max val\n",
    "land_use_var = land_use[['taz_p', 'lutype_p']].groupby(['taz_p','lutype_p']).size().to_frame()\n",
    "land_use_var.reset_index(inplace=True)\n",
    "land_use_var.columns = ['taz_p', 'lutype_p', 'count']\n",
    "idx = land_use_var.groupby('taz_p')['count'].transform(max) == land_use_var['count']\n",
    "land_use_var = land_use_var[idx]"
   ]
  },
  {
   "cell_type": "code",
   "execution_count": 220,
   "metadata": {},
   "outputs": [],
   "source": [
    "demo_group_dt = pd.merge(demo_group_dt, land_use_describe, left_on=\"TAZ\", \n",
    "                        right_on=\"taz_p\", how='left')\n",
    "demo_group_dt = pd.merge(demo_group_dt, land_use_sum, left_on=\"TAZ\", \n",
    "                        right_on=\"taz_p\", how='left')\n",
    "demo_group_dt = pd.merge(demo_group_dt, land_use_p, left_on=\"TAZ\", \n",
    "                        right_on=\"taz_p\", how='left')\n",
    "del(land_use_describe)\n",
    "del(land_use_sum)\n",
    "del(land_use_p)"
   ]
  },
  {
   "cell_type": "code",
   "execution_count": 236,
   "metadata": {},
   "outputs": [
    {
     "data": {
      "text/html": [
       "<div>\n",
       "<style scoped>\n",
       "    .dataframe tbody tr th:only-of-type {\n",
       "        vertical-align: middle;\n",
       "    }\n",
       "\n",
       "    .dataframe tbody tr th {\n",
       "        vertical-align: top;\n",
       "    }\n",
       "\n",
       "    .dataframe thead th {\n",
       "        text-align: right;\n",
       "    }\n",
       "</style>\n",
       "<table border=\"1\" class=\"dataframe\">\n",
       "  <thead>\n",
       "    <tr style=\"text-align: right;\">\n",
       "      <th></th>\n",
       "      <th>taz_p</th>\n",
       "      <th>lutype_p</th>\n",
       "      <th>count</th>\n",
       "    </tr>\n",
       "  </thead>\n",
       "  <tbody>\n",
       "    <tr>\n",
       "      <th>845</th>\n",
       "      <td>105</td>\n",
       "      <td>7</td>\n",
       "      <td>5</td>\n",
       "    </tr>\n",
       "    <tr>\n",
       "      <th>846</th>\n",
       "      <td>105</td>\n",
       "      <td>14</td>\n",
       "      <td>5</td>\n",
       "    </tr>\n",
       "    <tr>\n",
       "      <th>2076</th>\n",
       "      <td>290</td>\n",
       "      <td>2</td>\n",
       "      <td>1</td>\n",
       "    </tr>\n",
       "    <tr>\n",
       "      <th>2077</th>\n",
       "      <td>290</td>\n",
       "      <td>30</td>\n",
       "      <td>1</td>\n",
       "    </tr>\n",
       "    <tr>\n",
       "      <th>2145</th>\n",
       "      <td>301</td>\n",
       "      <td>23</td>\n",
       "      <td>3</td>\n",
       "    </tr>\n",
       "    <tr>\n",
       "      <th>...</th>\n",
       "      <td>...</td>\n",
       "      <td>...</td>\n",
       "      <td>...</td>\n",
       "    </tr>\n",
       "    <tr>\n",
       "      <th>28825</th>\n",
       "      <td>3355</td>\n",
       "      <td>19</td>\n",
       "      <td>1</td>\n",
       "    </tr>\n",
       "    <tr>\n",
       "      <th>31032</th>\n",
       "      <td>3530</td>\n",
       "      <td>3</td>\n",
       "      <td>11</td>\n",
       "    </tr>\n",
       "    <tr>\n",
       "      <th>31040</th>\n",
       "      <td>3530</td>\n",
       "      <td>26</td>\n",
       "      <td>11</td>\n",
       "    </tr>\n",
       "    <tr>\n",
       "      <th>31984</th>\n",
       "      <td>3623</td>\n",
       "      <td>3</td>\n",
       "      <td>35</td>\n",
       "    </tr>\n",
       "    <tr>\n",
       "      <th>31987</th>\n",
       "      <td>3623</td>\n",
       "      <td>20</td>\n",
       "      <td>35</td>\n",
       "    </tr>\n",
       "  </tbody>\n",
       "</table>\n",
       "<p>169 rows × 3 columns</p>\n",
       "</div>"
      ],
      "text/plain": [
       "       taz_p  lutype_p  count\n",
       "845      105         7      5\n",
       "846      105        14      5\n",
       "2076     290         2      1\n",
       "2077     290        30      1\n",
       "2145     301        23      3\n",
       "...      ...       ...    ...\n",
       "28825   3355        19      1\n",
       "31032   3530         3     11\n",
       "31040   3530        26     11\n",
       "31984   3623         3     35\n",
       "31987   3623        20     35\n",
       "\n",
       "[169 rows x 3 columns]"
      ]
     },
     "execution_count": 236,
     "metadata": {},
     "output_type": "execute_result"
    }
   ],
   "source": [
    "land_var_check = land_use_var.groupby(['taz_p']).size().to_frame()\n",
    "land_var_check.reset_index(inplace=True)\n",
    "vartazlarger2 = np.unique(land_var_check[['taz_p']][land_var_check[0]>1])\n",
    "land_use_var[land_use_var['taz_p'].isin(vartazlarger2)]\n",
    "del(land_var_check)"
   ]
  },
  {
   "cell_type": "code",
   "execution_count": 274,
   "metadata": {},
   "outputs": [],
   "source": [
    "home_index = [13, 14, 15, 24]\n",
    "demo_group_dt['land_use_h_sum'] = np.sum(demo_group_dt[home_index].values, axis=1)"
   ]
  },
  {
   "cell_type": "code",
   "execution_count": 275,
   "metadata": {},
   "outputs": [
    {
     "data": {
      "text/html": [
       "<div>\n",
       "<style scoped>\n",
       "    .dataframe tbody tr th:only-of-type {\n",
       "        vertical-align: middle;\n",
       "    }\n",
       "\n",
       "    .dataframe tbody tr th {\n",
       "        vertical-align: top;\n",
       "    }\n",
       "\n",
       "    .dataframe thead th {\n",
       "        text-align: right;\n",
       "    }\n",
       "</style>\n",
       "<table border=\"1\" class=\"dataframe\">\n",
       "  <thead>\n",
       "    <tr style=\"text-align: right;\">\n",
       "      <th></th>\n",
       "      <th>TAZ</th>\n",
       "      <th>demo_level_1</th>\n",
       "      <th>demo_level_2</th>\n",
       "      <th>demo_level_3</th>\n",
       "      <th>demo_level_4</th>\n",
       "      <th>demo_level_5</th>\n",
       "      <th>demo_level_6</th>\n",
       "      <th>demo_level_7</th>\n",
       "      <th>demo_level_8</th>\n",
       "      <th>demo_level_9</th>\n",
       "      <th>...</th>\n",
       "      <th>sqft_p</th>\n",
       "      <th>stugrd_p</th>\n",
       "      <th>stuhgh_p</th>\n",
       "      <th>stuuni_p</th>\n",
       "      <th>taz_p_x</th>\n",
       "      <th>ppricdyp</th>\n",
       "      <th>pprichrp</th>\n",
       "      <th>taz_p_y</th>\n",
       "      <th>lutype_p</th>\n",
       "      <th>land_use_h_sum</th>\n",
       "    </tr>\n",
       "  </thead>\n",
       "  <tbody>\n",
       "    <tr>\n",
       "      <th>0</th>\n",
       "      <td>1</td>\n",
       "      <td>2</td>\n",
       "      <td>96</td>\n",
       "      <td>15</td>\n",
       "      <td>0</td>\n",
       "      <td>16</td>\n",
       "      <td>0</td>\n",
       "      <td>3</td>\n",
       "      <td>94</td>\n",
       "      <td>19</td>\n",
       "      <td>...</td>\n",
       "      <td>11638290</td>\n",
       "      <td>0</td>\n",
       "      <td>0</td>\n",
       "      <td>0</td>\n",
       "      <td>1</td>\n",
       "      <td>0.0</td>\n",
       "      <td>0.0</td>\n",
       "      <td>1</td>\n",
       "      <td>24</td>\n",
       "      <td>391</td>\n",
       "    </tr>\n",
       "    <tr>\n",
       "      <th>1</th>\n",
       "      <td>2</td>\n",
       "      <td>38</td>\n",
       "      <td>165</td>\n",
       "      <td>2</td>\n",
       "      <td>19</td>\n",
       "      <td>61</td>\n",
       "      <td>4</td>\n",
       "      <td>32</td>\n",
       "      <td>206</td>\n",
       "      <td>19</td>\n",
       "      <td>...</td>\n",
       "      <td>3948357</td>\n",
       "      <td>0</td>\n",
       "      <td>0</td>\n",
       "      <td>0</td>\n",
       "      <td>2</td>\n",
       "      <td>0.0</td>\n",
       "      <td>0.0</td>\n",
       "      <td>2</td>\n",
       "      <td>24</td>\n",
       "      <td>392</td>\n",
       "    </tr>\n",
       "    <tr>\n",
       "      <th>2</th>\n",
       "      <td>3</td>\n",
       "      <td>39</td>\n",
       "      <td>46</td>\n",
       "      <td>0</td>\n",
       "      <td>82</td>\n",
       "      <td>155</td>\n",
       "      <td>0</td>\n",
       "      <td>99</td>\n",
       "      <td>183</td>\n",
       "      <td>2</td>\n",
       "      <td>...</td>\n",
       "      <td>3914003</td>\n",
       "      <td>0</td>\n",
       "      <td>0</td>\n",
       "      <td>0</td>\n",
       "      <td>3</td>\n",
       "      <td>0.0</td>\n",
       "      <td>0.0</td>\n",
       "      <td>3</td>\n",
       "      <td>24</td>\n",
       "      <td>271</td>\n",
       "    </tr>\n",
       "    <tr>\n",
       "      <th>3</th>\n",
       "      <td>4</td>\n",
       "      <td>29</td>\n",
       "      <td>20</td>\n",
       "      <td>0</td>\n",
       "      <td>89</td>\n",
       "      <td>102</td>\n",
       "      <td>0</td>\n",
       "      <td>85</td>\n",
       "      <td>114</td>\n",
       "      <td>3</td>\n",
       "      <td>...</td>\n",
       "      <td>3153505</td>\n",
       "      <td>503</td>\n",
       "      <td>0</td>\n",
       "      <td>0</td>\n",
       "      <td>4</td>\n",
       "      <td>0.0</td>\n",
       "      <td>0.0</td>\n",
       "      <td>4</td>\n",
       "      <td>24</td>\n",
       "      <td>90</td>\n",
       "    </tr>\n",
       "    <tr>\n",
       "      <th>4</th>\n",
       "      <td>5</td>\n",
       "      <td>17</td>\n",
       "      <td>40</td>\n",
       "      <td>3</td>\n",
       "      <td>21</td>\n",
       "      <td>78</td>\n",
       "      <td>1</td>\n",
       "      <td>16</td>\n",
       "      <td>94</td>\n",
       "      <td>4</td>\n",
       "      <td>...</td>\n",
       "      <td>1709457</td>\n",
       "      <td>0</td>\n",
       "      <td>0</td>\n",
       "      <td>0</td>\n",
       "      <td>5</td>\n",
       "      <td>0.0</td>\n",
       "      <td>0.0</td>\n",
       "      <td>5</td>\n",
       "      <td>24</td>\n",
       "      <td>204</td>\n",
       "    </tr>\n",
       "    <tr>\n",
       "      <th>...</th>\n",
       "      <td>...</td>\n",
       "      <td>...</td>\n",
       "      <td>...</td>\n",
       "      <td>...</td>\n",
       "      <td>...</td>\n",
       "      <td>...</td>\n",
       "      <td>...</td>\n",
       "      <td>...</td>\n",
       "      <td>...</td>\n",
       "      <td>...</td>\n",
       "      <td>...</td>\n",
       "      <td>...</td>\n",
       "      <td>...</td>\n",
       "      <td>...</td>\n",
       "      <td>...</td>\n",
       "      <td>...</td>\n",
       "      <td>...</td>\n",
       "      <td>...</td>\n",
       "      <td>...</td>\n",
       "      <td>...</td>\n",
       "      <td>...</td>\n",
       "    </tr>\n",
       "    <tr>\n",
       "      <th>3476</th>\n",
       "      <td>3696</td>\n",
       "      <td>15</td>\n",
       "      <td>115</td>\n",
       "      <td>11</td>\n",
       "      <td>17</td>\n",
       "      <td>18</td>\n",
       "      <td>1</td>\n",
       "      <td>6</td>\n",
       "      <td>95</td>\n",
       "      <td>0</td>\n",
       "      <td>...</td>\n",
       "      <td>22558815</td>\n",
       "      <td>41</td>\n",
       "      <td>0</td>\n",
       "      <td>0</td>\n",
       "      <td>3696</td>\n",
       "      <td>0.0</td>\n",
       "      <td>0.0</td>\n",
       "      <td>3696</td>\n",
       "      <td>24</td>\n",
       "      <td>329</td>\n",
       "    </tr>\n",
       "    <tr>\n",
       "      <th>3477</th>\n",
       "      <td>3697</td>\n",
       "      <td>27</td>\n",
       "      <td>120</td>\n",
       "      <td>14</td>\n",
       "      <td>12</td>\n",
       "      <td>33</td>\n",
       "      <td>1</td>\n",
       "      <td>15</td>\n",
       "      <td>135</td>\n",
       "      <td>0</td>\n",
       "      <td>...</td>\n",
       "      <td>40954997</td>\n",
       "      <td>0</td>\n",
       "      <td>0</td>\n",
       "      <td>0</td>\n",
       "      <td>3697</td>\n",
       "      <td>0.0</td>\n",
       "      <td>0.0</td>\n",
       "      <td>3697</td>\n",
       "      <td>24</td>\n",
       "      <td>632</td>\n",
       "    </tr>\n",
       "    <tr>\n",
       "      <th>3478</th>\n",
       "      <td>3698</td>\n",
       "      <td>23</td>\n",
       "      <td>69</td>\n",
       "      <td>5</td>\n",
       "      <td>8</td>\n",
       "      <td>15</td>\n",
       "      <td>0</td>\n",
       "      <td>7</td>\n",
       "      <td>68</td>\n",
       "      <td>0</td>\n",
       "      <td>...</td>\n",
       "      <td>13046357</td>\n",
       "      <td>90</td>\n",
       "      <td>0</td>\n",
       "      <td>0</td>\n",
       "      <td>3698</td>\n",
       "      <td>0.0</td>\n",
       "      <td>0.0</td>\n",
       "      <td>3698</td>\n",
       "      <td>24</td>\n",
       "      <td>296</td>\n",
       "    </tr>\n",
       "    <tr>\n",
       "      <th>3479</th>\n",
       "      <td>3699</td>\n",
       "      <td>14</td>\n",
       "      <td>160</td>\n",
       "      <td>17</td>\n",
       "      <td>8</td>\n",
       "      <td>100</td>\n",
       "      <td>0</td>\n",
       "      <td>9</td>\n",
       "      <td>155</td>\n",
       "      <td>0</td>\n",
       "      <td>...</td>\n",
       "      <td>51501063</td>\n",
       "      <td>326</td>\n",
       "      <td>0</td>\n",
       "      <td>0</td>\n",
       "      <td>3699</td>\n",
       "      <td>0.0</td>\n",
       "      <td>0.0</td>\n",
       "      <td>3699</td>\n",
       "      <td>24</td>\n",
       "      <td>659</td>\n",
       "    </tr>\n",
       "    <tr>\n",
       "      <th>3480</th>\n",
       "      <td>3700</td>\n",
       "      <td>20</td>\n",
       "      <td>112</td>\n",
       "      <td>12</td>\n",
       "      <td>6</td>\n",
       "      <td>33</td>\n",
       "      <td>1</td>\n",
       "      <td>6</td>\n",
       "      <td>118</td>\n",
       "      <td>0</td>\n",
       "      <td>...</td>\n",
       "      <td>45104165</td>\n",
       "      <td>0</td>\n",
       "      <td>0</td>\n",
       "      <td>0</td>\n",
       "      <td>3700</td>\n",
       "      <td>0.0</td>\n",
       "      <td>0.0</td>\n",
       "      <td>3700</td>\n",
       "      <td>24</td>\n",
       "      <td>486</td>\n",
       "    </tr>\n",
       "  </tbody>\n",
       "</table>\n",
       "<p>3481 rows × 100 columns</p>\n",
       "</div>"
      ],
      "text/plain": [
       "       TAZ  demo_level_1  demo_level_2  demo_level_3  demo_level_4  \\\n",
       "0        1             2            96            15             0   \n",
       "1        2            38           165             2            19   \n",
       "2        3            39            46             0            82   \n",
       "3        4            29            20             0            89   \n",
       "4        5            17            40             3            21   \n",
       "...    ...           ...           ...           ...           ...   \n",
       "3476  3696            15           115            11            17   \n",
       "3477  3697            27           120            14            12   \n",
       "3478  3698            23            69             5             8   \n",
       "3479  3699            14           160            17             8   \n",
       "3480  3700            20           112            12             6   \n",
       "\n",
       "      demo_level_5  demo_level_6  demo_level_7  demo_level_8  demo_level_9  \\\n",
       "0               16             0             3            94            19   \n",
       "1               61             4            32           206            19   \n",
       "2              155             0            99           183             2   \n",
       "3              102             0            85           114             3   \n",
       "4               78             1            16            94             4   \n",
       "...            ...           ...           ...           ...           ...   \n",
       "3476            18             1             6            95             0   \n",
       "3477            33             1            15           135             0   \n",
       "3478            15             0             7            68             0   \n",
       "3479           100             0             9           155             0   \n",
       "3480            33             1             6           118             0   \n",
       "\n",
       "      ...    sqft_p  stugrd_p  stuhgh_p  stuuni_p  taz_p_x  ppricdyp  \\\n",
       "0     ...  11638290         0         0         0        1       0.0   \n",
       "1     ...   3948357         0         0         0        2       0.0   \n",
       "2     ...   3914003         0         0         0        3       0.0   \n",
       "3     ...   3153505       503         0         0        4       0.0   \n",
       "4     ...   1709457         0         0         0        5       0.0   \n",
       "...   ...       ...       ...       ...       ...      ...       ...   \n",
       "3476  ...  22558815        41         0         0     3696       0.0   \n",
       "3477  ...  40954997         0         0         0     3697       0.0   \n",
       "3478  ...  13046357        90         0         0     3698       0.0   \n",
       "3479  ...  51501063       326         0         0     3699       0.0   \n",
       "3480  ...  45104165         0         0         0     3700       0.0   \n",
       "\n",
       "      pprichrp  taz_p_y  lutype_p  land_use_h_sum  \n",
       "0          0.0        1        24             391  \n",
       "1          0.0        2        24             392  \n",
       "2          0.0        3        24             271  \n",
       "3          0.0        4        24              90  \n",
       "4          0.0        5        24             204  \n",
       "...        ...      ...       ...             ...  \n",
       "3476       0.0     3696        24             329  \n",
       "3477       0.0     3697        24             632  \n",
       "3478       0.0     3698        24             296  \n",
       "3479       0.0     3699        24             659  \n",
       "3480       0.0     3700        24             486  \n",
       "\n",
       "[3481 rows x 100 columns]"
      ]
     },
     "execution_count": 275,
     "metadata": {},
     "output_type": "execute_result"
    }
   ],
   "source": [
    "demo_group_dt"
   ]
  },
  {
   "cell_type": "code",
   "execution_count": 237,
   "metadata": {},
   "outputs": [],
   "source": [
    "demo_group_dt = pd.merge(demo_group_dt, land_use_var[['taz_p','lutype_p']],\n",
    "                         left_on=\"TAZ\", \n",
    "                        right_on=\"taz_p\", how='left')\n",
    "#land_use_var.groupby(['lutype_p']).size().to_frame()"
   ]
  },
  {
   "cell_type": "code",
   "execution_count": 92,
   "metadata": {},
   "outputs": [],
   "source": [
    "demo_group_dt.to_csv('demo_group_dt_landuse.csv')"
   ]
  },
  {
   "cell_type": "code",
   "execution_count": 121,
   "metadata": {},
   "outputs": [],
   "source": [
    "#select the location which mainly focused on residential\n",
    "demo_group_dt[(demo_group_dt['lutype_p'].isin([8, 13, 14, 15, 24]))&(\n",
    "    demo_group_dt['sum_demo_rate']<=0.1)].to_csv('demo_group_dt_landuse_revised.csv')"
   ]
  },
  {
   "cell_type": "code",
   "execution_count": 178,
   "metadata": {},
   "outputs": [],
   "source": [
    "#demo_group_dt.columns"
   ]
  },
  {
   "cell_type": "code",
   "execution_count": 159,
   "metadata": {},
   "outputs": [],
   "source": [
    "from scipy.stats import kstest\n",
    "from scipy.stats import wilcoxon\n",
    "from scipy.stats import mannwhitneyu\n",
    "\n",
    "from sklearn.preprocessing import StandardScaler\n",
    "from sklearn.preprocessing import MinMaxScaler"
   ]
  },
  {
   "cell_type": "code",
   "execution_count": 161,
   "metadata": {},
   "outputs": [],
   "source": [
    "def get_test_result(test_func, dt1, dt2):\n",
    "    stats, p_val = test_func(dt1, dt2)\n",
    "    return(stats, p_val)"
   ]
  },
  {
   "cell_type": "code",
   "execution_count": 187,
   "metadata": {
    "scrolled": true
   },
   "outputs": [
    {
     "name": "stdout",
     "output_type": "stream",
     "text": [
      "0.1570836224759502\n",
      "stats distribution is similar wilconxwith land use var2\n",
      "0.39339547827612753\n",
      "stats distribution is similar wilconxwith land use var3\n",
      "0.21320559341901058\n",
      "stats distribution is similar wilconxwith land use var10\n",
      "0.06668307549530461\n",
      "stats distribution is similar wilconxwith land use var14\n",
      "0.12752582273147847\n",
      "stats distribution is similar mannwhitneyuwith land use var14\n",
      "0.7763166290396541\n",
      "stats distribution is similar wilconxwith land use var18\n",
      "0.22342045002509825\n",
      "stats distribution is similar wilconxwith land use var20\n",
      "0.16688250323215315\n",
      "stats distribution is similar wilconxwith land use var21\n",
      "0.16722435066482866\n",
      "stats distribution is similar wilconxwith land use var22\n",
      "0.6469783072992763\n",
      "stats distribution is similar mannwhitneyuwith land use var24\n",
      "0.7579379821193744\n",
      "stats distribution is similar wilconxwith land use var28\n",
      "0.18530543755670903\n",
      "stats distribution is similar wilconxwith land use var30\n"
     ]
    }
   ],
   "source": [
    "scaler = StandardScaler()\n",
    "for i in range(31):\n",
    "    if i != 16:\n",
    "        scaling_dt = scaler.fit_transform(demo_group_dt[['appid_count', i]])\n",
    "        dt1 = scaling_dt.T[0]\n",
    "        dt2 = scaling_dt.T[1]\n",
    "        \n",
    "        ks_stats, ks_p = get_test_result(kstest, dt1, dt2)\n",
    "        wilcoxon_stats, wilcoxon_p = get_test_result(wilcoxon, dt1, dt2)\n",
    "        mannwhitneyu_stats, mannwhitneyu_p = get_test_result(mannwhitneyu, dt1, dt2)\n",
    "        \n",
    "        p_val = [ks_p, wilcoxon_p, mannwhitneyu_p]\n",
    "        \n",
    "        stats_label = ['kstest', 'wilconx', 'mannwhitneyu']\n",
    "        for j in range(len(p_val)):\n",
    "            if p_val[j] > 0.05:\n",
    "                print(p_val[j])\n",
    "                print('stats distribution is similar '+stats_label[j]+\n",
    "                      'with land use var'+str(i))\n",
    "\n",
    "##seems no land use var shows statistically similar         "
   ]
  },
  {
   "cell_type": "code",
   "execution_count": 277,
   "metadata": {},
   "outputs": [
    {
     "name": "stdout",
     "output_type": "stream",
     "text": [
      "0.918820007709957\n",
      "stats distribution is similar mannwhitneyu psrc_sum\n",
      "0.8707860526609149\n",
      "stats distribution is similar mannwhitneyu land_use_h_sum\n"
     ]
    }
   ],
   "source": [
    "scaling_dt = scaler.fit_transform(demo_group_dt[['appid_count', 'psrc_sum']])\n",
    "dt1 = scaling_dt.T[0]\n",
    "dt2 = scaling_dt.T[1]\n",
    "\n",
    "ks_stats, ks_p = get_test_result(kstest, dt1, dt2)\n",
    "wilcoxon_stats, wilcoxon_p = get_test_result(wilcoxon, dt1, dt2)\n",
    "mannwhitneyu_stats, mannwhitneyu_p = get_test_result(mannwhitneyu, dt1, dt2)\n",
    "\n",
    "p_val = [ks_p, wilcoxon_p, mannwhitneyu_p]\n",
    "\n",
    "stats_label = ['kstest', 'wilconx', 'mannwhitneyu']\n",
    "for j in range(len(p_val)):\n",
    "    if p_val[j] > 0.05:\n",
    "        print(p_val[j])\n",
    "        print('stats distribution is similar '+stats_label[j]+' psrc_sum')\n",
    "        \n",
    "scaling_dt = scaler.fit_transform(demo_group_dt[['appid_count', 'land_use_h_sum']])\n",
    "dt1 = scaling_dt.T[0]\n",
    "dt2 = scaling_dt.T[1]\n",
    "\n",
    "ks_stats, ks_p = get_test_result(kstest, dt1, dt2)\n",
    "wilcoxon_stats, wilcoxon_p = get_test_result(wilcoxon, dt1, dt2)\n",
    "mannwhitneyu_stats, mannwhitneyu_p = get_test_result(mannwhitneyu, dt1, dt2)\n",
    "\n",
    "p_val = [ks_p, wilcoxon_p, mannwhitneyu_p]\n",
    "\n",
    "stats_label = ['kstest', 'wilconx', 'mannwhitneyu']\n",
    "for j in range(len(p_val)):\n",
    "    if p_val[j] > 0.05:\n",
    "        print(p_val[j])\n",
    "        print('stats distribution is similar '+stats_label[j]+' land_use_h_sum')"
   ]
  },
  {
   "cell_type": "code",
   "execution_count": null,
   "metadata": {},
   "outputs": [],
   "source": [
    "demo_group_dt_house_landuse = demo_group_dt[demo_group_dt['lutype_p'].isin(home_index)]\n",
    "\n",
    "ct_test = demo_group_dt_house_landuse.groupby(['TAZ']).size().to_frame()\n",
    "ct_test.reset_index(inplace=True)\n",
    "ct_test[ct_test[0]>1]\n",
    "print('repeated taz ', ct_test[['TAZ']][ct_test[0]>1].values[0][0])\n",
    "del(ct_test)\n",
    "\n",
    "land_use_var[land_use_var['taz_p']==1667]"
   ]
  },
  {
   "cell_type": "code",
   "execution_count": 308,
   "metadata": {},
   "outputs": [],
   "source": [
    "#check if the home sum is the largest\n",
    "tazs = land_use_var['taz_p'].values\n",
    "land_use_h_val = demo_group_dt['land_use_h_sum'].values \n",
    "land_use_h_sum = []\n",
    "for i in tazs:\n",
    "    try:\n",
    "        val_index = np.where(TAZs == i)[0][0]\n",
    "        land_use_h_sum.append(land_use_h_val[val_index])\n",
    "    except:\n",
    "        land_use_h_sum.append(1e6)\n",
    "land_use_var['home_sum'] = land_use_h_sum\n",
    "\n",
    "False in (land_use_var['home_sum']>land_use_var['count'])\n",
    "#the answer is yes"
   ]
  },
  {
   "cell_type": "code",
   "execution_count": 312,
   "metadata": {},
   "outputs": [],
   "source": [
    "demo_group_dt['land_home_rate'] = demo_group_dt['appid_count']/demo_group_dt['land_use_h_sum']"
   ]
  },
  {
   "cell_type": "code",
   "execution_count": 330,
   "metadata": {},
   "outputs": [
    {
     "name": "stdout",
     "output_type": "stream",
     "text": [
      "# of non home rates > 0.1: 47\n"
     ]
    }
   ],
   "source": [
    "non_home_rates = demo_group_dt[['sum_demo_rate']][(demo_group_dt['land_use_h_sum']==0)].values.T[0]\n",
    "print('# of non home rates > 0.1:', \n",
    "      str(len(np.where(non_home_rates>0.1)[0])))"
   ]
  },
  {
   "cell_type": "code",
   "execution_count": 353,
   "metadata": {},
   "outputs": [],
   "source": [
    "demo_group_dt = demo_group_dt[(demo_group_dt['lutype_p'].isin(home_index))&(demo_group_dt['land_home_rate']<1)]"
   ]
  },
  {
   "cell_type": "code",
   "execution_count": 446,
   "metadata": {},
   "outputs": [
    {
     "name": "stdout",
     "output_type": "stream",
     "text": [
      "num class=2 [0.0031545741324921135, 0.06818181818181818, 0.2631578947368421]\n",
      "num class=3 [0.0031545741324921135, 0.03009259259259259, 0.09090909090909091, 0.2631578947368421]\n",
      "num class=4 [0.0031545741324921135, 0.027989821882951654, 0.05472636815920398, 0.13934426229508196, 0.2631578947368421]\n",
      "num class=5 [0.0031545741324921135, 0.02381947346427079, 0.034970857618651124, 0.06231454005934718, 0.13934426229508196, 0.2631578947368421]\n",
      "num class=6 [0.0031545741324921135, 0.02242152466367713, 0.03199308257674016, 0.04985618408437201, 0.09090909090909091, 0.1686746987951807, 0.2631578947368421]\n"
     ]
    }
   ],
   "source": [
    "for i in range(2, 7):\n",
    "    print('num class='+str(i), jenkspy.jenks_breaks(demo_group_dt['sum_demo_rate'],\n",
    "                               n_classes=i))"
   ]
  },
  {
   "cell_type": "code",
   "execution_count": 361,
   "metadata": {},
   "outputs": [
    {
     "name": "stdout",
     "output_type": "stream",
     "text": [
      "num class=2 [0.0031545741324921135, 0.06818181818181818, 0.2631578947368421]\n",
      "num class=3 [0.0031545741324921135, 0.03009259259259259, 0.09090909090909091, 0.2631578947368421]\n",
      "num class=4 [0.0031545741324921135, 0.027989821882951654, 0.05472636815920398, 0.13934426229508196, 0.2631578947368421]\n",
      "num class=5 [0.0031545741324921135, 0.02381947346427079, 0.034970857618651124, 0.06231454005934718, 0.13934426229508196, 0.2631578947368421]\n",
      "rate_cut_jenkc3\n",
      "c1    2042\n",
      "c2     832\n",
      "c3      15\n",
      "dtype: int64\n",
      "rate_cut_jenkc2\n",
      "c1    2857\n",
      "c2      32\n",
      "dtype: int64\n"
     ]
    },
    {
     "name": "stderr",
     "output_type": "stream",
     "text": [
      "C:\\Users\\29700\\AppData\\Local\\Temp\\ipykernel_5408\\4197713587.py:16: SettingWithCopyWarning: \n",
      "A value is trying to be set on a copy of a slice from a DataFrame.\n",
      "Try using .loc[row_indexer,col_indexer] = value instead\n",
      "\n",
      "See the caveats in the documentation: https://pandas.pydata.org/pandas-docs/stable/user_guide/indexing.html#returning-a-view-versus-a-copy\n",
      "  demo_group_dt['rate_cut_jenkc3'] = pd.cut(\n",
      "C:\\Users\\29700\\AppData\\Local\\Temp\\ipykernel_5408\\4197713587.py:25: SettingWithCopyWarning: \n",
      "A value is trying to be set on a copy of a slice from a DataFrame.\n",
      "Try using .loc[row_indexer,col_indexer] = value instead\n",
      "\n",
      "See the caveats in the documentation: https://pandas.pydata.org/pandas-docs/stable/user_guide/indexing.html#returning-a-view-versus-a-copy\n",
      "  demo_group_dt['rate_cut_jenkc2'] = pd.cut(\n"
     ]
    }
   ],
   "source": [
    "for i in range(2, 6):\n",
    "    print('num class='+str(i), jenkspy.jenks_breaks(demo_group_dt['sum_demo_rate'],\n",
    "                               n_classes=i))\n",
    "    \n",
    "\n",
    "#get natural breaks\n",
    "#source: https://stackoverflow.com/questions/11513484/1d-number-array-clustering\n",
    "#source: https://pbpython.com/natural-breaks.html\n",
    "def get_labels(class_num):\n",
    "    labels = []\n",
    "    for i in range(class_num):\n",
    "        labels.append('c'+str(i+1))\n",
    "    return(labels)\n",
    "\n",
    "class_num = 3\n",
    "demo_group_dt['rate_cut_jenkc3'] = pd.cut(\n",
    "    demo_group_dt['sum_demo_rate'],\n",
    "    bins=jenkspy.jenks_breaks(demo_group_dt['sum_demo_rate'], n_classes=class_num),\n",
    "    labels=get_labels(class_num),\n",
    "    include_lowest=True)\n",
    "\n",
    "print(demo_group_dt.groupby(by=['rate_cut_jenkc3']).size())\n",
    "\n",
    "class_num = 2\n",
    "demo_group_dt['rate_cut_jenkc2'] = pd.cut(\n",
    "    demo_group_dt['sum_demo_rate'],\n",
    "    bins=jenkspy.jenks_breaks(demo_group_dt['sum_demo_rate'], n_classes=class_num),\n",
    "    labels=get_labels(class_num),\n",
    "    include_lowest=True)\n",
    "\n",
    "print(demo_group_dt.groupby(by=['rate_cut_jenkc2']).size())\n",
    "\n",
    "class_num = 4\n",
    "demo_group_dt['rate_cut_jenkc4'] = pd.cut(\n",
    "    demo_group_dt['sum_demo_rate'],\n",
    "    bins=jenkspy.jenks_breaks(demo_group_dt['sum_demo_rate'], n_classes=class_num),\n",
    "    labels=get_labels(class_num),\n",
    "    include_lowest=True)\n",
    "\n",
    "print(demo_group_dt.groupby(by=['rate_cut_jenkc4']).size())\n",
    "\n",
    "\n",
    "class_num = 5\n",
    "demo_group_dt['rate_cut_jenkc5'] = pd.cut(\n",
    "    demo_group_dt['sum_demo_rate'],\n",
    "    bins=jenkspy.jenks_breaks(demo_group_dt['sum_demo_rate'], n_classes=class_num),\n",
    "    labels=get_labels(class_num),\n",
    "    include_lowest=True)\n",
    "\n",
    "print(demo_group_dt.groupby(by=['rate_cut_jenkc5']).size())\n",
    "\n",
    "class_num = 6\n",
    "demo_group_dt['rate_cut_jenkc6'] = pd.cut(\n",
    "    demo_group_dt['sum_demo_rate'],\n",
    "    bins=jenkspy.jenks_breaks(demo_group_dt['sum_demo_rate'], n_classes=class_num),\n",
    "    labels=get_labels(class_num),\n",
    "    include_lowest=True)\n",
    "\n",
    "print(demo_group_dt.groupby(by=['rate_cut_jenkc6']).size())"
   ]
  },
  {
   "cell_type": "code",
   "execution_count": 445,
   "metadata": {},
   "outputs": [
    {
     "name": "stdout",
     "output_type": "stream",
     "text": [
      "rate_cut_jenkc6\n",
      "c1     884\n",
      "c2    1365\n",
      "c3     562\n",
      "c4      63\n",
      "c5      12\n",
      "c6       3\n",
      "dtype: int64\n"
     ]
    }
   ],
   "source": []
  },
  {
   "cell_type": "code",
   "execution_count": 375,
   "metadata": {
    "scrolled": true
   },
   "outputs": [
    {
     "name": "stdout",
     "output_type": "stream",
     "text": [
      "0.6981230077951368\n",
      "stats distribution is similar wilconxwith land use varempedu_p\n",
      "0.243272773602494\n",
      "stats distribution is similar wilconxwith land use varempfoo_p\n",
      "0.11147542609975888\n",
      "stats distribution is similar wilconxwith land use varempoth_p\n",
      "0.09662309285034955\n",
      "stats distribution is similar wilconxwith land use varempret_p\n",
      "0.2995612668394415\n",
      "stats distribution is similar wilconxwith land use varemptot_p\n",
      "0.05527304238205892\n",
      "stats distribution is similar wilconxwith land use varhh_p\n",
      "0.9545411175316814\n",
      "stats distribution is similar mannwhitneyuwith land use varhh_p\n",
      "0.11554561216301658\n",
      "stats distribution is similar wilconxwith land use varnparks\n",
      "0.8386019190516789\n",
      "stats distribution is similar mannwhitneyuwith land use varsfunits\n",
      "0.6990585432018661\n",
      "stats distribution is similar wilconxwith land use varstugrd_p\n",
      "0.8322259013899617\n",
      "stats distribution is similar mannwhitneyuwith land use varstugrd_p\n",
      "0.5872299540628199\n",
      "stats distribution is similar wilconxwith land use varstuhgh_p\n"
     ]
    }
   ],
   "source": [
    "colnames = list(demo_group_dt.columns)[72:-10]\n",
    "for i in colnames:\n",
    "    scaling_dt = scaler.fit_transform(demo_group_dt[['appid_count', i]])\n",
    "    dt1 = scaling_dt.T[0]\n",
    "    dt2 = scaling_dt.T[1]\n",
    "\n",
    "    ks_stats, ks_p = get_test_result(kstest, dt1, dt2)\n",
    "    wilcoxon_stats, wilcoxon_p = get_test_result(wilcoxon, dt1, dt2)\n",
    "    mannwhitneyu_stats, mannwhitneyu_p = get_test_result(mannwhitneyu, dt1, dt2)\n",
    "\n",
    "    p_val = [ks_p, wilcoxon_p, mannwhitneyu_p]\n",
    "\n",
    "    stats_label = ['kstest', 'wilconx', 'mannwhitneyu']\n",
    "    for j in range(len(p_val)):\n",
    "        if p_val[j] > 0.05:\n",
    "            print(p_val[j])\n",
    "            print('stats distribution is similar '+stats_label[j]+\n",
    "                  'with land use var'+i)"
   ]
  },
  {
   "cell_type": "code",
   "execution_count": 449,
   "metadata": {},
   "outputs": [
    {
     "name": "stdout",
     "output_type": "stream",
     "text": [
      "(2857, 145)\n",
      "(2874, 145)\n",
      "(2828, 145)\n",
      "(2884, 145)\n",
      "(1727, 145)\n",
      "(2848, 145)\n",
      "(1990, 145)\n",
      "(2874, 145)\n"
     ]
    }
   ],
   "source": [
    "#num class=2 #[0.0031545741324921135, 0.06818181818181818, 0.2631578947368421]\n",
    "#num class=3 #[0.0031545741324921135, 0.03009259259259259, 0.09090909090909091, 0.2631578947368421]\n",
    "#num class=4 #[0.0031545741324921135, 0.027989821882951654, 0.05472636815920398, 0.13934426229508196, 0.2631578947368421]\n",
    "#num class=5 #[0.0031545741324921135, 0.02381947346427079, 0.034970857618651124, 0.06231454005934718, 0.13934426229508196, 0.2631578947368421]\n",
    "#num class=6 [0.0031545741324921135, 0.02242152466367713, 0.03199308257674016, 0.04985618408437201, 0.09090909090909091, 0.1686746987951807, 0.2631578947368421]\n",
    "print(demo_group_dt[demo_group_dt['rate_cut_jenkc2']=='c1'].shape)\n",
    "print(demo_group_dt[demo_group_dt['rate_cut_jenkc3'].isin(['c1','c2'])].shape)\n",
    "print(demo_group_dt[demo_group_dt['rate_cut_jenkc4'].isin(['c1','c2'])].shape)\n",
    "print(demo_group_dt[demo_group_dt['rate_cut_jenkc4'].isin(['c1', 'c2', 'c3'])].shape)\n",
    "print(demo_group_dt[demo_group_dt['rate_cut_jenkc5'].isin(['c2', 'c3'])].shape)\n",
    "print(demo_group_dt[demo_group_dt['rate_cut_jenkc5'].isin(['c1', 'c2', 'c3'])].shape)\n",
    "print(demo_group_dt[demo_group_dt['rate_cut_jenkc6'].isin(['c2', 'c3', 'c4'])].shape)\n",
    "print(demo_group_dt[demo_group_dt['rate_cut_jenkc6'].isin(['c1', 'c2', 'c3', 'c4'])].shape)"
   ]
  },
  {
   "cell_type": "code",
   "execution_count": 448,
   "metadata": {},
   "outputs": [],
   "source": [
    "demo_group_dt.to_csv('demo_group_dt_land_use_hm.csv')"
   ]
  },
  {
   "cell_type": "code",
   "execution_count": 440,
   "metadata": {},
   "outputs": [
    {
     "data": {
      "image/png": "[encoded data removed]",
      "text/plain": [
       "<Figure size 864x576 with 1 Axes>"
      ]
     },
     "metadata": {
      "needs_background": "light"
     },
     "output_type": "display_data"
    }
   ],
   "source": [
    "#plot the data\n",
    "plt.figure(figsize=(12,8))\n",
    "plot_label = []\n",
    "plot_label.append('appid_count')\n",
    "plt.plot(demo_group_dt['appid_count']) \n",
    "range_lst = [8, 13, 14, 15, 24]\n",
    "for i in range_lst:\n",
    "    if i!= 16:\n",
    "        plt.plot(demo_group_dt[i]) \n",
    "        plot_label.append(i)\n",
    "\n",
    "plt.legend(plot_label)\n",
    "plt.show()"
   ]
  },
  {
   "cell_type": "code",
   "execution_count": 3,
   "metadata": {},
   "outputs": [
    {
     "data": {
      "text/plain": [
       "'fig = plt.figure()\\nax = fig.add_subplot(111)\\n\\nA = -0.75, -0.25, 0, 0.25, 0.5, 0.75, 1.0\\nB = 0.73, 0.97, 1.0, 0.97, 0.88, 0.73, 0.54\\n\\nax.plot(A,B)\\nfor xy in zip(A, B):                                       # <--\\n    ax.annotate(\\'(%s, %s)\\' % xy, xy=xy, textcoords=\\'data\\') # <--\\n\\nax.grid()\\nplt.show()\\n\\n# X and Y data\\nnumberofemp_A = [13, 200, 250, 300, 350, 400]\\nnumberofemp_B = [10, 100, 150, 200, 250, 800]\\nyear = [2011, 2012, 2013, 2014, 2015, 2016]\\n\\n# plot a line chart\\nplt.plot(year, numberofemp_A, marker=\\'D\\', mfc=\\'green\\', mec=\\'yellow\\',ms=\\'7\\')\\nplt.plot(year, numberofemp_B, marker=\\'o\\', mfc=\\'red\\', mec=\\'green\\',ms=\\'7\\')\\n\\n# set label name of x-axis title\\nplt.xlabel(\"Year\")\\n\\n# set label name of x-axis title\\nplt.ylabel(\"Number of Employees\")\\n\\n# set label name of chart title\\nplt.title(\"Number of Employee V/s Year Growth\")\\n\\nplt.legend([\\'numberofemp_A\\',\\'numberofemp_B\\'])\\nplt.show()'"
      ]
     },
     "execution_count": 3,
     "metadata": {},
     "output_type": "execute_result"
    }
   ],
   "source": [
    "#plot reference\n",
    "'''fig = plt.figure()\n",
    "ax = fig.add_subplot(111)\n",
    "\n",
    "A = -0.75, -0.25, 0, 0.25, 0.5, 0.75, 1.0\n",
    "B = 0.73, 0.97, 1.0, 0.97, 0.88, 0.73, 0.54\n",
    "\n",
    "ax.plot(A,B)\n",
    "for xy in zip(A, B):                                       # <--\n",
    "    ax.annotate('(%s, %s)' % xy, xy=xy, textcoords='data') # <--\n",
    "\n",
    "ax.grid()\n",
    "plt.show()\n",
    "\n",
    "# X and Y data\n",
    "numberofemp_A = [13, 200, 250, 300, 350, 400]\n",
    "numberofemp_B = [10, 100, 150, 200, 250, 800]\n",
    "year = [2011, 2012, 2013, 2014, 2015, 2016]\n",
    "\n",
    "# plot a line chart\n",
    "plt.plot(year, numberofemp_A, marker='D', mfc='green', mec='yellow',ms='7')\n",
    "plt.plot(year, numberofemp_B, marker='o', mfc='red', mec='green',ms='7')\n",
    "\n",
    "# set label name of x-axis title\n",
    "plt.xlabel(\"Year\")\n",
    "\n",
    "# set label name of x-axis title\n",
    "plt.ylabel(\"Number of Employees\")\n",
    "\n",
    "# set label name of chart title\n",
    "plt.title(\"Number of Employee V/s Year Growth\")\n",
    "\n",
    "plt.legend(['numberofemp_A','numberofemp_B'])\n",
    "plt.show()'''"
   ]
  },
  {
   "cell_type": "markdown",
   "metadata": {},
   "source": [
    "### BI estimation results check"
   ]
  },
  {
   "cell_type": "code",
   "execution_count": 1,
   "metadata": {},
   "outputs": [],
   "source": [
    "#conducted statistical test\n",
    "#non-parametrix statistical hypothesis test  \n",
    "from scipy.stats import ks_2samp\n",
    "from scipy.stats import mannwhitneyu\n",
    "import scipy.stats as stats"
   ]
  },
  {
   "cell_type": "code",
   "execution_count": 486,
   "metadata": {
    "scrolled": true
   },
   "outputs": [
    {
     "data": {
      "text/plain": [
       "['to Yiran read h5.ipynb',\n",
       " 'daysim_outputs.h5',\n",
       " 'daysim_outputs_scenario_pessimistic.h5',\n",
       " 'Daysim Input Data File Documentation.docx',\n",
       " 'Documentation of DaySim changes to handle AVs and paid ride share mode.docx',\n",
       " 'DaySim kiss and ride implementation notes.docx',\n",
       " 'Daysim model variable descriptions.xlsx',\n",
       " 'Daysim2.1 Users Guide.xlsx',\n",
       " \"DaySim Developer's Guide.docx\",\n",
       " 'DaySim Standard Technical Documentation.docx',\n",
       " 'taz2010region.zip',\n",
       " 'taz2010.shx',\n",
       " 'taz2010.dbf',\n",
       " 'taz2010.prj',\n",
       " 'taz2010.sbn',\n",
       " 'taz2010.sbx',\n",
       " 'taz2010.shp',\n",
       " 'taz2010.shp.xml',\n",
       " 'taz2010_revised.shp',\n",
       " 'taz2010_revised.shx',\n",
       " 'taz2010_revised.dbf',\n",
       " 'taz2010_revised.cpg',\n",
       " 'taz2010_revised.prj',\n",
       " 'taz2010_revised.qpj',\n",
       " 'home_psrc_withtaz.csv',\n",
       " 'missing_taz_check.qgz',\n",
       " 'taz2010_joinedctcb.shp',\n",
       " 'taz2010_joinedctcb.shx',\n",
       " 'taz2010_joinedctcb.dbf',\n",
       " 'taz2010_joinedctcb.cpg',\n",
       " 'taz2010_joinedctcb.prj',\n",
       " 'taz2010_joinedctcb.qpj',\n",
       " 'ACS_2017_count_dt.csv',\n",
       " 'demo_group_dt_fullinocme.csv',\n",
       " 'demo_group_dt.csv',\n",
       " 'demo_group_dt_revised.csv',\n",
       " 'demo_group_dt_revised_no_gender.csv',\n",
       " 'demo_group_dt_revised_age.csv',\n",
       " 'census_tract_psrc.shp',\n",
       " 'census_tract_psrc.shx',\n",
       " 'census_tract_psrc.dbf',\n",
       " 'census_tract_psrc.cpg',\n",
       " 'census_tract_psrc.prj',\n",
       " 'census_tract_psrc.qpj',\n",
       " 'psrc_ct.shp',\n",
       " 'psrc_ct.shx',\n",
       " 'psrc_ct.dbf',\n",
       " 'psrc_ct.cpg',\n",
       " 'psrc_ct.prj',\n",
       " 'psrc_ct.qpj',\n",
       " 'home_psrc_ct.csv',\n",
       " '~$Daysim2.1 Users Guide.xlsx',\n",
       " 'demo_group_dt_cut.csv',\n",
       " 'demo_group_dt_revised_no_gender_cut.csv',\n",
       " 'demo_group_dt_revised_age_cut.csv',\n",
       " 'v3.0.0_2018_2050.zip',\n",
       " 'v3.0.0_2018_2050',\n",
       " 'model_stage1_v1.R',\n",
       " 'model_stage1_v1_psrc_sim2018_revised_nogender.R',\n",
       " 'model_stage1_v1_psrc_sim2018_revised_age.R',\n",
       " 'model_stage1_v1_psrc_sim2018.R',\n",
       " 'model_stage1_v1_ct.R',\n",
       " 'poisson_stage1_v1_ct.stan',\n",
       " 'poisson_stage1_v1_ct.rds',\n",
       " 'poisson_stage1_v1.stan',\n",
       " 'poisson_log_stage1_v1_ct.stan',\n",
       " 'poisson_log_stage1_v1_ct.rds',\n",
       " 'poisson_log_stage1_v1.stan',\n",
       " 'negative_binomial_log.stan',\n",
       " 'negative_binomial.stan',\n",
       " 'demo_group_dt_landuse.csv',\n",
       " 'demo_group_dt_landuse_revised.csv',\n",
       " '.Rhistory',\n",
       " 'demo_group_dt_land_use_hm.csv',\n",
       " 'poisson_log_stage1_v1_noprior.stan',\n",
       " 'poisson_stage1_v1_noprior.stan',\n",
       " 'result_v1_all.csv',\n",
       " 'traceplot_all.png',\n",
       " 'para_plot_all.png',\n",
       " 'pois_y_density_all.png',\n",
       " 'pois_y_hist_all.png',\n",
       " 'test_plt.jpeg',\n",
       " 'fit_poiv1_alldensy.jpg',\n",
       " 'fit_poiv1_allpara.jpg',\n",
       " 'fit_poiv1_alltrace.jpg',\n",
       " 'fit_poiv1_allhisty.jpg',\n",
       " 'poisson_stage1_v1.rds',\n",
       " 'fit_result_agec6.csv',\n",
       " 'traceplot_age_c6.png',\n",
       " 'para_plot_agec6.png',\n",
       " 'ydens_agec6.png',\n",
       " 'yhist_agec6.png',\n",
       " 'fit_result_age.csv',\n",
       " 'traceplot_age.png',\n",
       " 'para_age.png',\n",
       " 'yhist_age.png',\n",
       " 'ydens_age.png',\n",
       " 'GoogleDriveSetup.exe',\n",
       " 'model_stage1_v1_psrc_sim2018_cur2022.R',\n",
       " 'poisson_stage1_v1_noprior_2022.stan',\n",
       " 'fit_result_no_prior.csv',\n",
       " 'trace_plot_noprior.png',\n",
       " 'para_np_prior.png',\n",
       " 'yhist_noprior.png',\n",
       " 'ydens_noprior.png']"
      ]
     },
     "execution_count": 486,
     "metadata": {},
     "output_type": "execute_result"
    }
   ],
   "source": [
    "os.listdir()"
   ]
  },
  {
   "cell_type": "code",
   "execution_count": null,
   "metadata": {},
   "outputs": [],
   "source": [
    "BI_est_result_noprior = pd.read_csv('result_v1_all..csv', nrows=31)"
   ]
  },
  {
   "cell_type": "code",
   "execution_count": 4,
   "metadata": {},
   "outputs": [],
   "source": [
    "BI_est_result_all = pd.read_csv('result_v1_all.csv', nrows=31)\n",
    "BI_est_result_age = pd.read_csv('fit_result_age.csv', nrows=16)\n",
    "BI_est_result_age_c6 = pd.read_csv('fit_result_agec6.csv', nrows=16)\n",
    "\n",
    "demo_group_dt_landuse_hm = pd.read_csv('demo_group_dt_land_use_hm.csv', index_col=0)\n",
    "\n",
    "#select part of the data\n",
    "demo_group_dt_landuse_hm = demo_group_dt_landuse_hm[['TAZ', 'demo_level_1', 'demo_level_2', 'demo_level_3','demo_level_4', \n",
    "                                                    'demo_level_5', 'demo_level_6', 'demo_level_7','demo_level_8', \n",
    "                                                    'demo_level_9', 'demo_level_10', 'demo_level_11','demo_level_12', \n",
    "                                                    'demo_level_13', 'demo_level_14', 'demo_level_15','demo_level_16',\n",
    "                                                    'demo_level_17', 'demo_level_18', 'demo_level_19','demo_level_20', \n",
    "                                                    'demo_level_21', 'demo_level_22', 'demo_level_23','demo_level_24', \n",
    "                                                    'demo_level_25', 'demo_level_26', 'demo_level_27','demo_level_28', \n",
    "                                                    'demo_level_29', 'demo_level_30', 'appid_count','psrc_sum','sumup_psrc_demo', \n",
    "                                                    'sum_demo_rate','demo1', 'demo2', 'demo3','demo4', 'demo5', \n",
    "                                                    'demo6', 'demo7', 'demo8', 'demo9', 'demo10','demo11', 'demo12', \n",
    "                                                    'demo13', 'demo14', 'demo15', 'demo_age_1','demo_age_2', 'demo_age_3', \n",
    "                                                    'demo_age_4', 'demo_age_5','demo_age_6', 'demo_age_7', 'demo_age_8', \n",
    "                                                    'demo_age_9','demo_age_10', 'demo_age_11', 'demo_age_12', 'demo_age_13',\n",
    "                                                    'demo_age_14', 'demo_age_15', 'demo_age_16', 'demo_age_17','demo_age_18', \n",
    "                                                    'demo_age_19', 'demo_age_20', 'demo_age_21','demo_age_22', 'demo_age_23',\n",
    "                                                    'demo_age_24', 'rate_cut_jenkc4', 'rate_cut_jenkc5', 'rate_cut_jenkc6']]"
   ]
  },
  {
   "cell_type": "code",
   "execution_count": 483,
   "metadata": {},
   "outputs": [
    {
     "data": {
      "text/html": [
       "<div>\n",
       "<style scoped>\n",
       "    .dataframe tbody tr th:only-of-type {\n",
       "        vertical-align: middle;\n",
       "    }\n",
       "\n",
       "    .dataframe tbody tr th {\n",
       "        vertical-align: top;\n",
       "    }\n",
       "\n",
       "    .dataframe thead th {\n",
       "        text-align: right;\n",
       "    }\n",
       "</style>\n",
       "<table border=\"1\" class=\"dataframe\">\n",
       "  <thead>\n",
       "    <tr style=\"text-align: right;\">\n",
       "      <th></th>\n",
       "      <th>Unnamed: 0</th>\n",
       "      <th>mean</th>\n",
       "      <th>se_mean</th>\n",
       "      <th>sd</th>\n",
       "      <th>2.5%</th>\n",
       "      <th>25%</th>\n",
       "      <th>50%</th>\n",
       "      <th>75%</th>\n",
       "      <th>97.5%</th>\n",
       "      <th>n_eff</th>\n",
       "      <th>Rhat</th>\n",
       "    </tr>\n",
       "  </thead>\n",
       "  <tbody>\n",
       "    <tr>\n",
       "      <th>0</th>\n",
       "      <td>P[1]</td>\n",
       "      <td>0.369809</td>\n",
       "      <td>0.000498</td>\n",
       "      <td>0.072827</td>\n",
       "      <td>0.226244</td>\n",
       "      <td>0.321246</td>\n",
       "      <td>0.369444</td>\n",
       "      <td>0.418603</td>\n",
       "      <td>0.513042</td>\n",
       "      <td>21421.374076</td>\n",
       "      <td>0.999886</td>\n",
       "    </tr>\n",
       "    <tr>\n",
       "      <th>1</th>\n",
       "      <td>P[2]</td>\n",
       "      <td>0.651380</td>\n",
       "      <td>0.000463</td>\n",
       "      <td>0.062731</td>\n",
       "      <td>0.528933</td>\n",
       "      <td>0.608888</td>\n",
       "      <td>0.651325</td>\n",
       "      <td>0.693666</td>\n",
       "      <td>0.775123</td>\n",
       "      <td>18367.061934</td>\n",
       "      <td>0.999988</td>\n",
       "    </tr>\n",
       "    <tr>\n",
       "      <th>2</th>\n",
       "      <td>P[3]</td>\n",
       "      <td>0.166268</td>\n",
       "      <td>0.000645</td>\n",
       "      <td>0.084525</td>\n",
       "      <td>0.018985</td>\n",
       "      <td>0.103976</td>\n",
       "      <td>0.162297</td>\n",
       "      <td>0.223153</td>\n",
       "      <td>0.341626</td>\n",
       "      <td>17157.030458</td>\n",
       "      <td>1.000349</td>\n",
       "    </tr>\n",
       "    <tr>\n",
       "      <th>3</th>\n",
       "      <td>P[4]</td>\n",
       "      <td>0.626261</td>\n",
       "      <td>0.000548</td>\n",
       "      <td>0.081777</td>\n",
       "      <td>0.465704</td>\n",
       "      <td>0.571623</td>\n",
       "      <td>0.626554</td>\n",
       "      <td>0.680406</td>\n",
       "      <td>0.786688</td>\n",
       "      <td>22257.899477</td>\n",
       "      <td>0.999882</td>\n",
       "    </tr>\n",
       "    <tr>\n",
       "      <th>4</th>\n",
       "      <td>P[5]</td>\n",
       "      <td>0.667228</td>\n",
       "      <td>0.000504</td>\n",
       "      <td>0.067396</td>\n",
       "      <td>0.533775</td>\n",
       "      <td>0.622223</td>\n",
       "      <td>0.667069</td>\n",
       "      <td>0.711964</td>\n",
       "      <td>0.798726</td>\n",
       "      <td>17855.335749</td>\n",
       "      <td>0.999962</td>\n",
       "    </tr>\n",
       "    <tr>\n",
       "      <th>5</th>\n",
       "      <td>P[6]</td>\n",
       "      <td>0.800513</td>\n",
       "      <td>0.000734</td>\n",
       "      <td>0.093679</td>\n",
       "      <td>0.609116</td>\n",
       "      <td>0.736112</td>\n",
       "      <td>0.803207</td>\n",
       "      <td>0.868989</td>\n",
       "      <td>0.970947</td>\n",
       "      <td>16279.580149</td>\n",
       "      <td>0.999914</td>\n",
       "    </tr>\n",
       "    <tr>\n",
       "      <th>6</th>\n",
       "      <td>P[7]</td>\n",
       "      <td>0.479366</td>\n",
       "      <td>0.000582</td>\n",
       "      <td>0.085540</td>\n",
       "      <td>0.313929</td>\n",
       "      <td>0.420197</td>\n",
       "      <td>0.478594</td>\n",
       "      <td>0.536455</td>\n",
       "      <td>0.648983</td>\n",
       "      <td>21617.269216</td>\n",
       "      <td>0.999928</td>\n",
       "    </tr>\n",
       "    <tr>\n",
       "      <th>7</th>\n",
       "      <td>P[8]</td>\n",
       "      <td>0.378384</td>\n",
       "      <td>0.000499</td>\n",
       "      <td>0.068792</td>\n",
       "      <td>0.244048</td>\n",
       "      <td>0.331985</td>\n",
       "      <td>0.377749</td>\n",
       "      <td>0.424382</td>\n",
       "      <td>0.514739</td>\n",
       "      <td>18985.825503</td>\n",
       "      <td>0.999798</td>\n",
       "    </tr>\n",
       "    <tr>\n",
       "      <th>8</th>\n",
       "      <td>P[9]</td>\n",
       "      <td>0.482422</td>\n",
       "      <td>0.000606</td>\n",
       "      <td>0.096733</td>\n",
       "      <td>0.292105</td>\n",
       "      <td>0.417347</td>\n",
       "      <td>0.481834</td>\n",
       "      <td>0.548570</td>\n",
       "      <td>0.670579</td>\n",
       "      <td>25505.170730</td>\n",
       "      <td>1.000102</td>\n",
       "    </tr>\n",
       "    <tr>\n",
       "      <th>9</th>\n",
       "      <td>P[10]</td>\n",
       "      <td>0.507689</td>\n",
       "      <td>0.000593</td>\n",
       "      <td>0.089136</td>\n",
       "      <td>0.333206</td>\n",
       "      <td>0.447522</td>\n",
       "      <td>0.507342</td>\n",
       "      <td>0.567966</td>\n",
       "      <td>0.683422</td>\n",
       "      <td>22609.451386</td>\n",
       "      <td>1.000099</td>\n",
       "    </tr>\n",
       "    <tr>\n",
       "      <th>10</th>\n",
       "      <td>P[11]</td>\n",
       "      <td>0.804264</td>\n",
       "      <td>0.000613</td>\n",
       "      <td>0.073386</td>\n",
       "      <td>0.657950</td>\n",
       "      <td>0.755084</td>\n",
       "      <td>0.804995</td>\n",
       "      <td>0.854531</td>\n",
       "      <td>0.947200</td>\n",
       "      <td>14337.359891</td>\n",
       "      <td>1.000110</td>\n",
       "    </tr>\n",
       "    <tr>\n",
       "      <th>11</th>\n",
       "      <td>P[12]</td>\n",
       "      <td>0.594640</td>\n",
       "      <td>0.000611</td>\n",
       "      <td>0.093686</td>\n",
       "      <td>0.411224</td>\n",
       "      <td>0.531835</td>\n",
       "      <td>0.594654</td>\n",
       "      <td>0.657723</td>\n",
       "      <td>0.778172</td>\n",
       "      <td>23499.132547</td>\n",
       "      <td>0.999989</td>\n",
       "    </tr>\n",
       "    <tr>\n",
       "      <th>12</th>\n",
       "      <td>P[13]</td>\n",
       "      <td>0.536626</td>\n",
       "      <td>0.000584</td>\n",
       "      <td>0.089879</td>\n",
       "      <td>0.362969</td>\n",
       "      <td>0.475240</td>\n",
       "      <td>0.536983</td>\n",
       "      <td>0.597411</td>\n",
       "      <td>0.711013</td>\n",
       "      <td>23652.329008</td>\n",
       "      <td>0.999881</td>\n",
       "    </tr>\n",
       "    <tr>\n",
       "      <th>13</th>\n",
       "      <td>P[14]</td>\n",
       "      <td>0.825255</td>\n",
       "      <td>0.000601</td>\n",
       "      <td>0.074896</td>\n",
       "      <td>0.675974</td>\n",
       "      <td>0.774157</td>\n",
       "      <td>0.826717</td>\n",
       "      <td>0.877680</td>\n",
       "      <td>0.967500</td>\n",
       "      <td>15516.722002</td>\n",
       "      <td>1.000133</td>\n",
       "    </tr>\n",
       "    <tr>\n",
       "      <th>14</th>\n",
       "      <td>P[15]</td>\n",
       "      <td>0.414652</td>\n",
       "      <td>0.000599</td>\n",
       "      <td>0.098378</td>\n",
       "      <td>0.220376</td>\n",
       "      <td>0.348952</td>\n",
       "      <td>0.414599</td>\n",
       "      <td>0.480580</td>\n",
       "      <td>0.607012</td>\n",
       "      <td>26989.173638</td>\n",
       "      <td>0.999825</td>\n",
       "    </tr>\n",
       "    <tr>\n",
       "      <th>15</th>\n",
       "      <td>P[16]</td>\n",
       "      <td>0.555088</td>\n",
       "      <td>0.000531</td>\n",
       "      <td>0.076163</td>\n",
       "      <td>0.404363</td>\n",
       "      <td>0.504006</td>\n",
       "      <td>0.555414</td>\n",
       "      <td>0.606469</td>\n",
       "      <td>0.702508</td>\n",
       "      <td>20547.577411</td>\n",
       "      <td>0.999813</td>\n",
       "    </tr>\n",
       "    <tr>\n",
       "      <th>16</th>\n",
       "      <td>P[17]</td>\n",
       "      <td>0.776101</td>\n",
       "      <td>0.000476</td>\n",
       "      <td>0.061924</td>\n",
       "      <td>0.653702</td>\n",
       "      <td>0.733933</td>\n",
       "      <td>0.776465</td>\n",
       "      <td>0.817601</td>\n",
       "      <td>0.897734</td>\n",
       "      <td>16896.096761</td>\n",
       "      <td>0.999858</td>\n",
       "    </tr>\n",
       "    <tr>\n",
       "      <th>17</th>\n",
       "      <td>P[18]</td>\n",
       "      <td>0.287252</td>\n",
       "      <td>0.000589</td>\n",
       "      <td>0.093913</td>\n",
       "      <td>0.105110</td>\n",
       "      <td>0.223524</td>\n",
       "      <td>0.286366</td>\n",
       "      <td>0.350459</td>\n",
       "      <td>0.474469</td>\n",
       "      <td>25441.028812</td>\n",
       "      <td>0.999843</td>\n",
       "    </tr>\n",
       "    <tr>\n",
       "      <th>18</th>\n",
       "      <td>P[19]</td>\n",
       "      <td>0.528183</td>\n",
       "      <td>0.000539</td>\n",
       "      <td>0.078295</td>\n",
       "      <td>0.375522</td>\n",
       "      <td>0.474790</td>\n",
       "      <td>0.528188</td>\n",
       "      <td>0.580931</td>\n",
       "      <td>0.682092</td>\n",
       "      <td>21129.194853</td>\n",
       "      <td>0.999785</td>\n",
       "    </tr>\n",
       "    <tr>\n",
       "      <th>19</th>\n",
       "      <td>P[20]</td>\n",
       "      <td>0.539196</td>\n",
       "      <td>0.000489</td>\n",
       "      <td>0.071787</td>\n",
       "      <td>0.398178</td>\n",
       "      <td>0.490823</td>\n",
       "      <td>0.538841</td>\n",
       "      <td>0.588053</td>\n",
       "      <td>0.678965</td>\n",
       "      <td>21524.944570</td>\n",
       "      <td>0.999916</td>\n",
       "    </tr>\n",
       "    <tr>\n",
       "      <th>20</th>\n",
       "      <td>P[21]</td>\n",
       "      <td>0.731767</td>\n",
       "      <td>0.000660</td>\n",
       "      <td>0.097526</td>\n",
       "      <td>0.539553</td>\n",
       "      <td>0.666007</td>\n",
       "      <td>0.732611</td>\n",
       "      <td>0.798257</td>\n",
       "      <td>0.921424</td>\n",
       "      <td>21825.681680</td>\n",
       "      <td>0.999977</td>\n",
       "    </tr>\n",
       "    <tr>\n",
       "      <th>21</th>\n",
       "      <td>P[22]</td>\n",
       "      <td>0.472744</td>\n",
       "      <td>0.000592</td>\n",
       "      <td>0.087116</td>\n",
       "      <td>0.301749</td>\n",
       "      <td>0.413784</td>\n",
       "      <td>0.472100</td>\n",
       "      <td>0.531537</td>\n",
       "      <td>0.644312</td>\n",
       "      <td>21653.987339</td>\n",
       "      <td>0.999905</td>\n",
       "    </tr>\n",
       "    <tr>\n",
       "      <th>22</th>\n",
       "      <td>P[23]</td>\n",
       "      <td>0.297030</td>\n",
       "      <td>0.000527</td>\n",
       "      <td>0.075116</td>\n",
       "      <td>0.151583</td>\n",
       "      <td>0.246325</td>\n",
       "      <td>0.297093</td>\n",
       "      <td>0.347316</td>\n",
       "      <td>0.447029</td>\n",
       "      <td>20335.252867</td>\n",
       "      <td>0.999913</td>\n",
       "    </tr>\n",
       "    <tr>\n",
       "      <th>23</th>\n",
       "      <td>P[24]</td>\n",
       "      <td>0.436756</td>\n",
       "      <td>0.000639</td>\n",
       "      <td>0.095057</td>\n",
       "      <td>0.252518</td>\n",
       "      <td>0.371470</td>\n",
       "      <td>0.436366</td>\n",
       "      <td>0.502329</td>\n",
       "      <td>0.621688</td>\n",
       "      <td>22158.970683</td>\n",
       "      <td>0.999835</td>\n",
       "    </tr>\n",
       "    <tr>\n",
       "      <th>24</th>\n",
       "      <td>P[25]</td>\n",
       "      <td>0.597705</td>\n",
       "      <td>0.000592</td>\n",
       "      <td>0.087516</td>\n",
       "      <td>0.427011</td>\n",
       "      <td>0.538697</td>\n",
       "      <td>0.597207</td>\n",
       "      <td>0.655490</td>\n",
       "      <td>0.770166</td>\n",
       "      <td>21819.062475</td>\n",
       "      <td>0.999855</td>\n",
       "    </tr>\n",
       "    <tr>\n",
       "      <th>25</th>\n",
       "      <td>P[26]</td>\n",
       "      <td>0.602550</td>\n",
       "      <td>0.000606</td>\n",
       "      <td>0.077092</td>\n",
       "      <td>0.449717</td>\n",
       "      <td>0.551362</td>\n",
       "      <td>0.602270</td>\n",
       "      <td>0.654639</td>\n",
       "      <td>0.753628</td>\n",
       "      <td>16165.779221</td>\n",
       "      <td>1.000151</td>\n",
       "    </tr>\n",
       "    <tr>\n",
       "      <th>26</th>\n",
       "      <td>P[27]</td>\n",
       "      <td>0.577501</td>\n",
       "      <td>0.000628</td>\n",
       "      <td>0.096714</td>\n",
       "      <td>0.385834</td>\n",
       "      <td>0.512792</td>\n",
       "      <td>0.577498</td>\n",
       "      <td>0.644279</td>\n",
       "      <td>0.766708</td>\n",
       "      <td>23754.653057</td>\n",
       "      <td>0.999831</td>\n",
       "    </tr>\n",
       "    <tr>\n",
       "      <th>27</th>\n",
       "      <td>P[28]</td>\n",
       "      <td>0.507674</td>\n",
       "      <td>0.000535</td>\n",
       "      <td>0.075912</td>\n",
       "      <td>0.359138</td>\n",
       "      <td>0.456307</td>\n",
       "      <td>0.506883</td>\n",
       "      <td>0.558264</td>\n",
       "      <td>0.658458</td>\n",
       "      <td>20103.172539</td>\n",
       "      <td>1.000005</td>\n",
       "    </tr>\n",
       "    <tr>\n",
       "      <th>28</th>\n",
       "      <td>P[29]</td>\n",
       "      <td>0.414119</td>\n",
       "      <td>0.000635</td>\n",
       "      <td>0.080898</td>\n",
       "      <td>0.258946</td>\n",
       "      <td>0.358789</td>\n",
       "      <td>0.414096</td>\n",
       "      <td>0.468819</td>\n",
       "      <td>0.572010</td>\n",
       "      <td>16209.913576</td>\n",
       "      <td>1.000187</td>\n",
       "    </tr>\n",
       "    <tr>\n",
       "      <th>29</th>\n",
       "      <td>P[30]</td>\n",
       "      <td>0.507933</td>\n",
       "      <td>0.000596</td>\n",
       "      <td>0.098090</td>\n",
       "      <td>0.315886</td>\n",
       "      <td>0.442298</td>\n",
       "      <td>0.506970</td>\n",
       "      <td>0.572623</td>\n",
       "      <td>0.700904</td>\n",
       "      <td>27053.570724</td>\n",
       "      <td>1.000127</td>\n",
       "    </tr>\n",
       "    <tr>\n",
       "      <th>30</th>\n",
       "      <td>r</td>\n",
       "      <td>0.047247</td>\n",
       "      <td>0.000020</td>\n",
       "      <td>0.001856</td>\n",
       "      <td>0.043821</td>\n",
       "      <td>0.045956</td>\n",
       "      <td>0.047177</td>\n",
       "      <td>0.048470</td>\n",
       "      <td>0.051128</td>\n",
       "      <td>8625.324936</td>\n",
       "      <td>1.000027</td>\n",
       "    </tr>\n",
       "  </tbody>\n",
       "</table>\n",
       "</div>"
      ],
      "text/plain": [
       "   Unnamed: 0      mean   se_mean        sd      2.5%       25%       50%  \\\n",
       "0        P[1]  0.369809  0.000498  0.072827  0.226244  0.321246  0.369444   \n",
       "1        P[2]  0.651380  0.000463  0.062731  0.528933  0.608888  0.651325   \n",
       "2        P[3]  0.166268  0.000645  0.084525  0.018985  0.103976  0.162297   \n",
       "3        P[4]  0.626261  0.000548  0.081777  0.465704  0.571623  0.626554   \n",
       "4        P[5]  0.667228  0.000504  0.067396  0.533775  0.622223  0.667069   \n",
       "5        P[6]  0.800513  0.000734  0.093679  0.609116  0.736112  0.803207   \n",
       "6        P[7]  0.479366  0.000582  0.085540  0.313929  0.420197  0.478594   \n",
       "7        P[8]  0.378384  0.000499  0.068792  0.244048  0.331985  0.377749   \n",
       "8        P[9]  0.482422  0.000606  0.096733  0.292105  0.417347  0.481834   \n",
       "9       P[10]  0.507689  0.000593  0.089136  0.333206  0.447522  0.507342   \n",
       "10      P[11]  0.804264  0.000613  0.073386  0.657950  0.755084  0.804995   \n",
       "11      P[12]  0.594640  0.000611  0.093686  0.411224  0.531835  0.594654   \n",
       "12      P[13]  0.536626  0.000584  0.089879  0.362969  0.475240  0.536983   \n",
       "13      P[14]  0.825255  0.000601  0.074896  0.675974  0.774157  0.826717   \n",
       "14      P[15]  0.414652  0.000599  0.098378  0.220376  0.348952  0.414599   \n",
       "15      P[16]  0.555088  0.000531  0.076163  0.404363  0.504006  0.555414   \n",
       "16      P[17]  0.776101  0.000476  0.061924  0.653702  0.733933  0.776465   \n",
       "17      P[18]  0.287252  0.000589  0.093913  0.105110  0.223524  0.286366   \n",
       "18      P[19]  0.528183  0.000539  0.078295  0.375522  0.474790  0.528188   \n",
       "19      P[20]  0.539196  0.000489  0.071787  0.398178  0.490823  0.538841   \n",
       "20      P[21]  0.731767  0.000660  0.097526  0.539553  0.666007  0.732611   \n",
       "21      P[22]  0.472744  0.000592  0.087116  0.301749  0.413784  0.472100   \n",
       "22      P[23]  0.297030  0.000527  0.075116  0.151583  0.246325  0.297093   \n",
       "23      P[24]  0.436756  0.000639  0.095057  0.252518  0.371470  0.436366   \n",
       "24      P[25]  0.597705  0.000592  0.087516  0.427011  0.538697  0.597207   \n",
       "25      P[26]  0.602550  0.000606  0.077092  0.449717  0.551362  0.602270   \n",
       "26      P[27]  0.577501  0.000628  0.096714  0.385834  0.512792  0.577498   \n",
       "27      P[28]  0.507674  0.000535  0.075912  0.359138  0.456307  0.506883   \n",
       "28      P[29]  0.414119  0.000635  0.080898  0.258946  0.358789  0.414096   \n",
       "29      P[30]  0.507933  0.000596  0.098090  0.315886  0.442298  0.506970   \n",
       "30          r  0.047247  0.000020  0.001856  0.043821  0.045956  0.047177   \n",
       "\n",
       "         75%     97.5%         n_eff      Rhat  \n",
       "0   0.418603  0.513042  21421.374076  0.999886  \n",
       "1   0.693666  0.775123  18367.061934  0.999988  \n",
       "2   0.223153  0.341626  17157.030458  1.000349  \n",
       "3   0.680406  0.786688  22257.899477  0.999882  \n",
       "4   0.711964  0.798726  17855.335749  0.999962  \n",
       "5   0.868989  0.970947  16279.580149  0.999914  \n",
       "6   0.536455  0.648983  21617.269216  0.999928  \n",
       "7   0.424382  0.514739  18985.825503  0.999798  \n",
       "8   0.548570  0.670579  25505.170730  1.000102  \n",
       "9   0.567966  0.683422  22609.451386  1.000099  \n",
       "10  0.854531  0.947200  14337.359891  1.000110  \n",
       "11  0.657723  0.778172  23499.132547  0.999989  \n",
       "12  0.597411  0.711013  23652.329008  0.999881  \n",
       "13  0.877680  0.967500  15516.722002  1.000133  \n",
       "14  0.480580  0.607012  26989.173638  0.999825  \n",
       "15  0.606469  0.702508  20547.577411  0.999813  \n",
       "16  0.817601  0.897734  16896.096761  0.999858  \n",
       "17  0.350459  0.474469  25441.028812  0.999843  \n",
       "18  0.580931  0.682092  21129.194853  0.999785  \n",
       "19  0.588053  0.678965  21524.944570  0.999916  \n",
       "20  0.798257  0.921424  21825.681680  0.999977  \n",
       "21  0.531537  0.644312  21653.987339  0.999905  \n",
       "22  0.347316  0.447029  20335.252867  0.999913  \n",
       "23  0.502329  0.621688  22158.970683  0.999835  \n",
       "24  0.655490  0.770166  21819.062475  0.999855  \n",
       "25  0.654639  0.753628  16165.779221  1.000151  \n",
       "26  0.644279  0.766708  23754.653057  0.999831  \n",
       "27  0.558264  0.658458  20103.172539  1.000005  \n",
       "28  0.468819  0.572010  16209.913576  1.000187  \n",
       "29  0.572623  0.700904  27053.570724  1.000127  \n",
       "30  0.048470  0.051128   8625.324936  1.000027  "
      ]
     },
     "execution_count": 483,
     "metadata": {},
     "output_type": "execute_result"
    }
   ],
   "source": [
    "BI_est_result_all"
   ]
  },
  {
   "cell_type": "code",
   "execution_count": 5,
   "metadata": {},
   "outputs": [],
   "source": [
    "#defined functions\n",
    "def get_colname(selected_colnames):\n",
    "    per_names = []\n",
    "    for i in selected_colnames:\n",
    "        per_names.append(i+'_per')\n",
    "    return(per_names)\n",
    "\n",
    "def get_per(demo_dt, selected_colnames, sum_col):\n",
    "    per_names = get_colname(selected_colnames)\n",
    "    for i in range(len(selected_colnames)):\n",
    "        demo_dt[per_names[i]] = demo_dt[selected_colnames[i]]/demo_dt[sum_col]  \n",
    "        \n",
    "#input = demo_dt, selected_col, bi_est, est_sum_col\n",
    "def get_est_per(demo_dt, selected_col, bi_est, est_sum_col):\n",
    "    new_est = []\n",
    "    for i in range(len(bi_est)):\n",
    "        new_col = selected_col[i]+'_est'\n",
    "        new_est.append(new_col)\n",
    "        demo_dt[new_col] = demo_dt[selected_col[i]]*bi_est[i] \n",
    "    demo_dt[est_sum_col] = np.sum(demo_dt[new_est], axis=1)\n",
    "    get_per(demo_dt, new_est, est_sum_col)\n",
    "    \n",
    "def get_data_mean(demo_dt, selected_col):\n",
    "    mean_val = list(demo_dt[selected_col].describe().T[['mean']].values.T)\n",
    "    return(mean_val)\n",
    "\n",
    "def get_test(est, act):\n",
    "    print(ks_2samp(est, act))\n",
    "    print(mannwhitneyu(est, act))\n",
    "\n",
    "def check_negative(est, cur):\n",
    "    if False in ((cur-est)>0):\n",
    "        print('warning, pop exists est > cur')\n",
    "        \n",
    "def get_index(labels, indexes):\n",
    "    selected_demo = []\n",
    "    for i in indexes:\n",
    "        selected_demo.append(labels[i])\n",
    "    return(selected_demo)\n",
    "\n",
    "def demo_est_diff(est, cur, demo_label):\n",
    "    diff = cur - est\n",
    "    positive_index = np.where(diff>0)[0]\n",
    "    negative_index = np.where(diff<0)[0]\n",
    "    print('under estimated demo group')\n",
    "    print(get_index(demo_label, positive_index))\n",
    "    print('over estimated demo group')\n",
    "    print(get_index(demo_label, negative_index))"
   ]
  },
  {
   "cell_type": "code",
   "execution_count": 6,
   "metadata": {},
   "outputs": [],
   "source": [
    "colnames = demo_group_dt_landuse_hm.columns\n",
    "\n",
    "get_per(demo_group_dt_landuse_hm, colnames[1:31], 'sumup_psrc_demo')\n",
    "get_per(demo_group_dt_landuse_hm, colnames[35: 50], 'sumup_psrc_demo')\n",
    "\n",
    "get_est_per(demo_group_dt_landuse_hm, colnames[1:31], list(BI_est_result_all['mean'].values)[:-1], 'estsumall')\n",
    "get_est_per(demo_group_dt_landuse_hm, colnames[35:50], list(BI_est_result_age['mean'].values)[:-1], 'estsumage')\n",
    "\n",
    "colnames = np.array(demo_group_dt_landuse_hm.columns)"
   ]
  },
  {
   "cell_type": "code",
   "execution_count": 7,
   "metadata": {},
   "outputs": [],
   "source": [
    "mean_val = get_data_mean(demo_group_dt_landuse_hm, colnames[77:122])\n",
    "\n",
    "est_per_all = get_data_mean(demo_group_dt_landuse_hm, colnames[153:183])\n",
    "est_per_age = get_data_mean(demo_group_dt_landuse_hm, colnames[199:214])\n",
    "\n",
    "cur_pop = get_data_mean(demo_group_dt_landuse_hm, colnames[1:31])[0]\n",
    "cur_pop_age = get_data_mean(demo_group_dt_landuse_hm, colnames[35:50])[0]\n",
    "\n",
    "est_all = get_data_mean(demo_group_dt_landuse_hm, colnames[122:152])[0]\n",
    "est_age = get_data_mean(demo_group_dt_landuse_hm, colnames[183:198])[0]"
   ]
  },
  {
   "cell_type": "code",
   "execution_count": 9,
   "metadata": {
    "scrolled": true
   },
   "outputs": [
    {
     "name": "stdout",
     "output_type": "stream",
     "text": [
      "0.0400505743358902\n",
      "0.044021390572449005\n"
     ]
    },
    {
     "data": {
      "image/png": "[encoded data removed]",
      "text/plain": [
       "<Figure size 432x288 with 1 Axes>"
      ]
     },
     "metadata": {
      "needs_background": "light"
     },
     "output_type": "display_data"
    },
    {
     "data": {
      "image/png": "[encoded data removed]",
      "text/plain": [
       "<Figure size 432x288 with 1 Axes>"
      ]
     },
     "metadata": {
      "needs_background": "light"
     },
     "output_type": "display_data"
    }
   ],
   "source": [
    "#Notice that for the estimation\n",
    "#we estimate that given the demographic group population\n",
    "#the percentage of the pop using/owning smartphones\n",
    "x_val = list(range(1, 16)) \n",
    "\n",
    "fig = plt.figure()\n",
    "ax1 = plt.subplot(111)\n",
    "\n",
    "ax1.set_title('estimate percentage of demographic groups exclude ages')\n",
    "ax1.plot(x_val, list(BI_est_result_age['mean'].values)[:15],\n",
    "         label= 'demo_group exclude ages')\n",
    "ax1.plot(x_val, list(BI_est_result_age_c6['mean'].values)[:15],\n",
    "         label='demo group exclude ages cut pop (c6)')\n",
    "ax1.plot(x_val, list(BI_est_result_all['mean'].values)[:15], label='demo group male')\n",
    "ax1.plot(x_val, list(BI_est_result_all['mean'].values)[15:30], label='demo group female')\n",
    "ax1.plot(x_val, mean_val[0][30:], label='PSRC simulation')\n",
    "ax1.set_xlabel('# of demo group')\n",
    "\n",
    "ax1.legend(bbox_to_anchor=(1.1, 1.05))\n",
    "ax1.grid()\n",
    "\n",
    "print(BI_est_result_age['mean'].values[-1])\n",
    "print(BI_est_result_age_c6['mean'].values[-1])\n",
    "######################################################################\n",
    "\n",
    "fig = plt.figure()\n",
    "ax2 = plt.subplot(111)\n",
    "x_val = list(range(1, 31))\n",
    "ax2.set_title('estimate percentage of demographic groups')\n",
    "ax2.plot(x_val, list(BI_est_result_all['mean'].values)[:30], label='estimate per')\n",
    "ax2.plot(x_val, mean_val[0][:30], label='actual per')\n",
    "ax2.set_xlabel('# of demo group')\n",
    "ax2.legend(bbox_to_anchor=(1.35, 1.05))\n",
    "ax2.grid()\n",
    "#######################################################################\n"
   ]
  },
  {
   "cell_type": "code",
   "execution_count": 10,
   "metadata": {
    "scrolled": true
   },
   "outputs": [
    {
     "data": {
      "image/png": "[encoded data removed]",
      "text/plain": [
       "<Figure size 432x288 with 1 Axes>"
      ]
     },
     "metadata": {
      "needs_background": "light"
     },
     "output_type": "display_data"
    },
    {
     "data": {
      "image/png": "[encoded data removed]",
      "text/plain": [
       "<Figure size 432x288 with 1 Axes>"
      ]
     },
     "metadata": {
      "needs_background": "light"
     },
     "output_type": "display_data"
    },
    {
     "data": {
      "image/png": "[encoded data removed]",
      "text/plain": [
       "<Figure size 432x288 with 1 Axes>"
      ]
     },
     "metadata": {
      "needs_background": "light"
     },
     "output_type": "display_data"
    },
    {
     "data": {
      "image/png": "[encoded data removed]",
      "text/plain": [
       "<Figure size 432x288 with 1 Axes>"
      ]
     },
     "metadata": {
      "needs_background": "light"
     },
     "output_type": "display_data"
    }
   ],
   "source": [
    "fig = plt.figure()\n",
    "ax1 = plt.subplot(111)\n",
    "x_val = list(range(1, 16))\n",
    "ax1.set_title('estimated percentage of demographic groups vs. actual per (exclude age group)')\n",
    "ax1.plot(x_val, est_per_age[0], label='estimated per over est pop')\n",
    "ax1.plot(x_val, mean_val[0][30:], label='actual per')\n",
    "ax1.set_xlabel('# of demo group')\n",
    "ax1.legend(bbox_to_anchor=(1.55, 1))\n",
    "ax1.grid()\n",
    "\n",
    "fig = plt.figure()\n",
    "ax2 = plt.subplot(111)\n",
    "x_val = list(range(1, 31))\n",
    "ax2.set_title('estimated percentage of demographic groups vs. actual per')\n",
    "ax2.plot(x_val, est_per_all[0], label='estimated per ove est pop')\n",
    "ax2.plot(x_val, mean_val[0][:30], label='actual per')\n",
    "ax2.set_xlabel('# of demo group')\n",
    "ax2.legend(bbox_to_anchor=(1.55, 1))\n",
    "ax2.grid()\n",
    "\n",
    "fig = plt.figure()\n",
    "ax3 = plt.subplot(111)\n",
    "x_val = list(range(1, 16))\n",
    "ax3.set_title('estimated demographic groups vs. actual pop (exclude age group)')\n",
    "ax3.plot(x_val, est_age, label='estimated pop ')\n",
    "ax3.plot(x_val, cur_pop_age, label='actual pop')\n",
    "ax3.set_xlabel('# of demo group')\n",
    "ax3.legend(bbox_to_anchor=(1.55, 1))\n",
    "ax3.grid()\n",
    "\n",
    "fig = plt.figure()\n",
    "ax4 = plt.subplot(111)\n",
    "x_val = list(range(1, 31))\n",
    "ax4.set_title('estimated demographic groups vs. actual pop')\n",
    "ax4.plot(x_val, est_all, label='estimated pop')\n",
    "ax4.plot(x_val, cur_pop, label='actual pop')\n",
    "ax4.set_xlabel('# of demo group')\n",
    "ax4.legend(bbox_to_anchor=(1.55, 1))\n",
    "ax4.grid()"
   ]
  },
  {
   "cell_type": "code",
   "execution_count": 11,
   "metadata": {},
   "outputs": [],
   "source": [
    "age_level = ['<18', '18-29', '30-49', '50-64', '>65']\n",
    "income_level = ['low income', 'medium income', 'high income']\n",
    "gender_level = ['male', 'female']\n",
    "\n",
    "demo_label = []\n",
    "for g in gender_level:\n",
    "    for a in age_level:\n",
    "        for i in income_level:\n",
    "            demo_label.append(g+','+i+','+a)\n",
    "            \n",
    "demo_label_age = []\n",
    "for a in age_level:\n",
    "    for i in income_level:\n",
    "        demo_label_age.append(i+','+a)"
   ]
  },
  {
   "cell_type": "code",
   "execution_count": 12,
   "metadata": {},
   "outputs": [
    {
     "name": "stdout",
     "output_type": "stream",
     "text": [
      "under estimated demo group\n",
      "['male,low income,<18', 'male,high income,<18', 'male,low income,30-49', 'male,medium income,30-49', 'male,high income,30-49', 'male,low income,50-64', 'male,low income,>65', 'male,high income,>65', 'female,high income,<18', 'female,low income,18-29', 'female,medium income,18-29', 'female,low income,30-49', 'female,medium income,30-49', 'female,high income,30-49', 'female,low income,>65', 'female,medium income,>65', 'female,high income,>65']\n",
      "over estimated demo group\n",
      "['male,medium income,<18', 'male,low income,18-29', 'male,medium income,18-29', 'male,high income,18-29', 'male,medium income,50-64', 'male,high income,50-64', 'male,medium income,>65', 'female,low income,<18', 'female,medium income,<18', 'female,high income,18-29', 'female,low income,50-64', 'female,medium income,50-64', 'female,high income,50-64']\n",
      "under estimated demo group\n",
      "['low income,<18', 'high income,<18', 'low income,30-49', 'medium income,30-49', 'high income,30-49', 'low income,>65', 'high income,>65']\n",
      "over estimated demo group\n",
      "['medium income,<18', 'low income,18-29', 'medium income,18-29', 'high income,18-29', 'low income,50-64', 'medium income,50-64', 'high income,50-64', 'medium income,>65']\n"
     ]
    }
   ],
   "source": [
    "#check if any estimated population larger than the actual pop\n",
    "check_negative(est_age, cur_pop_age)\n",
    "check_negative(est_all, cur_pop)\n",
    "\n",
    "#just a reference since we use the mean values\n",
    "demo_est_diff(est_per_all[0], mean_val[0][:30], demo_label)\n",
    "demo_est_diff(est_per_age[0], mean_val[0][30:], demo_label_age)"
   ]
  },
  {
   "cell_type": "code",
   "execution_count": 13,
   "metadata": {},
   "outputs": [
    {
     "name": "stdout",
     "output_type": "stream",
     "text": [
      "KstestResult(statistic=0.3333333333333333, pvalue=0.3855465198257425)\n",
      "MannwhitneyuResult(statistic=83.0, pvalue=0.22902896662469463)\n",
      "KstestResult(statistic=0.36666666666666664, pvalue=0.034580084963334506)\n",
      "MannwhitneyuResult(statistic=316.0, pvalue=0.048413499464813624)\n"
     ]
    }
   ],
   "source": [
    "get_test(est_age, cur_pop_age)\n",
    "get_test(est_all, cur_pop)"
   ]
  },
  {
   "cell_type": "markdown",
   "metadata": {},
   "source": [
    "#### simulation based on variance"
   ]
  },
  {
   "cell_type": "code",
   "execution_count": 14,
   "metadata": {},
   "outputs": [],
   "source": [
    "def generate_val(mean, sd, min_val, max_val, random_num):\n",
    "    #np.random.seed(123)\n",
    "    dist = stats.truncnorm((min_val - mean) / sd, (max_val - mean) / sd, loc=mean, scale=sd)\n",
    "    values = dist.rvs(random_num)\n",
    "    return(np.mean(values))\n",
    "\n",
    "def get_valbydt(demo_dt, selected_col, random_num):\n",
    "    sum_dt = demo_dt[selected_col].describe().T\n",
    "    avg_val = sum_dt['mean'].values\n",
    "    sd_val = sum_dt['std'].values\n",
    "    min_val = sum_dt['min'].values\n",
    "    max_val = sum_dt['max'].values\n",
    "    sim_val = []\n",
    "    for i in range(len(avg_val)):\n",
    "        sim_val.append(generate_val(avg_val[i], sd_val[i], min_val[i], max_val[i], random_num))\n",
    "    return(sim_val)"
   ]
  },
  {
   "cell_type": "code",
   "execution_count": 15,
   "metadata": {
    "scrolled": true
   },
   "outputs": [
    {
     "data": {
      "image/png": "[encoded data removed]",
      "text/plain": [
       "<Figure size 432x288 with 1 Axes>"
      ]
     },
     "metadata": {
      "needs_background": "light"
     },
     "output_type": "display_data"
    },
    {
     "data": {
      "image/png": "[encoded data removed]",
      "text/plain": [
       "<Figure size 432x288 with 1 Axes>"
      ]
     },
     "metadata": {
      "needs_background": "light"
     },
     "output_type": "display_data"
    },
    {
     "data": {
      "image/png": "[encoded data removed]",
      "text/plain": [
       "<Figure size 432x288 with 1 Axes>"
      ]
     },
     "metadata": {
      "needs_background": "light"
     },
     "output_type": "display_data"
    },
    {
     "data": {
      "image/png": "[encoded data removed]",
      "text/plain": [
       "<Figure size 432x288 with 1 Axes>"
      ]
     },
     "metadata": {
      "needs_background": "light"
     },
     "output_type": "display_data"
    }
   ],
   "source": [
    "sim_num = 10000\n",
    "test_pop = get_valbydt(demo_group_dt_landuse_hm, colnames[1:31], sim_num)\n",
    "test_pop_age = get_valbydt(demo_group_dt_landuse_hm, colnames[35:50], sim_num)\n",
    "test_estpop_all = get_valbydt(demo_group_dt_landuse_hm, colnames[122:152], sim_num)\n",
    "test_estpop_age = get_valbydt(demo_group_dt_landuse_hm, colnames[183:198], sim_num)\n",
    "\n",
    "test_per = get_valbydt(demo_group_dt_landuse_hm, colnames[77:122], sim_num)\n",
    "test_est_per_all = get_valbydt(demo_group_dt_landuse_hm, colnames[153:183], sim_num)\n",
    "test_est_per_age = get_valbydt(demo_group_dt_landuse_hm, colnames[199:214], sim_num)\n",
    "\n",
    "#test_est_per_age\n",
    "\n",
    "fig = plt.figure()\n",
    "ax1 = plt.subplot(111)\n",
    "\n",
    "x_val = list(range(1, 16)) \n",
    "ax1.set_title('estimate vs. PSRC data of demographic groups % (exclude ages) based on random simulation')\n",
    "ax1.plot(x_val, test_per[-15:],  label= 'exclude ages, PSRC')\n",
    "ax1.plot(x_val, test_per[:15], label='demo group male, PSRC')\n",
    "ax1.plot(x_val, test_per[15:-15], label='demo group female, PSRC')\n",
    "ax1.plot(x_val, test_est_per_age, label='exclude ages, est')\n",
    "ax1.plot(x_val, test_est_per_all[:15], label='demo group male, est')\n",
    "ax1.plot(x_val, test_est_per_all[15:], label='demo group female, est')\n",
    "ax1.set_xlabel('# of demographic group')\n",
    "ax1.set_ylabel('% of demographic group among all pop')\n",
    "ax1.legend(bbox_to_anchor=(1.1, 1))\n",
    "ax1.grid()\n",
    "\n",
    "######################################################################\n",
    "\n",
    "fig = plt.figure()\n",
    "ax2 = plt.subplot(111)\n",
    "x_val = list(range(1, 31))\n",
    "ax2.set_title('estimate vs. PSRC data of demographic groups % based on random simulation')\n",
    "ax2.plot(x_val, test_per[:30], label='act per, PSRC')\n",
    "ax2.plot(x_val, test_est_per_all, label='est per')\n",
    "ax2.set_xlabel('# of demographic group')\n",
    "ax2.set_ylabel('% of demographic group among all pop')\n",
    "ax2.legend(bbox_to_anchor=(1.35, 1))\n",
    "ax2.grid()\n",
    "\n",
    "fig = plt.figure()\n",
    "ax3 = plt.subplot(111)\n",
    "x_val = list(range(1, 16))\n",
    "ax3.set_title('estimated vs. PSRC pop of demographic groups(exclude age group), random simulation')\n",
    "ax3.plot(x_val, test_pop_age, label='actual pop')\n",
    "ax3.plot(x_val, test_estpop_age, label='estimated pop ')\n",
    "ax3.set_xlabel('# of demographic group')\n",
    "ax3.set_ylabel('estimated pop of each demographic group')\n",
    "ax3.legend(bbox_to_anchor=(1.55, 1))\n",
    "ax3.grid()\n",
    "\n",
    "fig = plt.figure()\n",
    "ax4 = plt.subplot(111)\n",
    "x_val = list(range(1, 31))\n",
    "ax4.set_title('estimated vs. PSRC pop of demographic groups, random simulation')\n",
    "ax4.plot(x_val, test_estpop_all, label='estimated pop')\n",
    "ax4.plot(x_val, test_pop, label='actual pop')\n",
    "ax4.set_xlabel('# of demographic group')\n",
    "ax4.set_ylabel('estimated pop of each demographic group')\n",
    "ax4.legend(bbox_to_anchor=(1.55, 1))\n",
    "ax4.grid()"
   ]
  },
  {
   "cell_type": "code",
   "execution_count": 16,
   "metadata": {},
   "outputs": [
    {
     "name": "stdout",
     "output_type": "stream",
     "text": [
      "KstestResult(statistic=0.3333333333333333, pvalue=0.3855465198257425)\n",
      "MannwhitneyuResult(statistic=81.0, pvalue=0.1985058531538877)\n",
      "KstestResult(statistic=0.36666666666666664, pvalue=0.034580084963334506)\n",
      "MannwhitneyuResult(statistic=304.0, pvalue=0.03146563257725609)\n"
     ]
    }
   ],
   "source": [
    "get_test(test_estpop_age, test_pop_age)\n",
    "get_test(test_estpop_all, test_pop)"
   ]
  },
  {
   "cell_type": "code",
   "execution_count": 477,
   "metadata": {},
   "outputs": [
    {
     "name": "stdout",
     "output_type": "stream",
     "text": [
      "under estimated demo group\n",
      "['low income,<18', 'high income,<18', 'low income,30-49', 'medium income,30-49', 'high income,30-49', 'low income,>65', 'high income,>65']\n",
      "over estimated demo group\n",
      "['medium income,<18', 'low income,18-29', 'medium income,18-29', 'high income,18-29', 'low income,50-64', 'medium income,50-64', 'high income,50-64', 'medium income,>65']\n",
      "under estimated demo group\n",
      "['male,low income,<18', 'male,high income,<18', 'male,low income,30-49', 'male,medium income,30-49', 'male,high income,30-49', 'male,low income,50-64', 'male,low income,>65', 'male,high income,>65', 'female,high income,<18', 'female,low income,18-29', 'female,medium income,18-29', 'female,low income,30-49', 'female,medium income,30-49', 'female,high income,30-49', 'female,low income,>65', 'female,medium income,>65', 'female,high income,>65']\n",
      "over estimated demo group\n",
      "['male,medium income,<18', 'male,low income,18-29', 'male,medium income,18-29', 'male,high income,18-29', 'male,medium income,50-64', 'male,high income,50-64', 'male,medium income,>65', 'female,low income,<18', 'female,medium income,<18', 'female,high income,18-29', 'female,low income,50-64', 'female,medium income,50-64', 'female,high income,50-64']\n"
     ]
    }
   ],
   "source": [
    "#check if any estimated population larger than the actual pop\n",
    "check_negative(np.array(test_estpop_age), np.array(test_pop_age))\n",
    "check_negative(np.array(test_estpop_all), np.array(test_pop))\n",
    "\n",
    "#just a reference since we use the mean values\n",
    "demo_est_diff(np.array(test_est_per_age), np.array(test_per[-15:]), demo_label_age)\n",
    "demo_est_diff(np.array(test_est_per_all), np.array(test_per[:30]), demo_label)"
   ]
  },
  {
   "cell_type": "markdown",
   "metadata": {},
   "source": [
    "## Draft code\n",
    "### draft code for SUMO Seattle TAZ extract"
   ]
  },
  {
   "cell_type": "code",
   "execution_count": null,
   "metadata": {},
   "outputs": [],
   "source": [
    "#draft code for downtown Seattle TAZ extract\n",
    "\n",
    "#get downtown Seattle taz\n",
    "#transfer sumo xml\n",
    "input_taz_sumo_file = 'G:/Shared drives/SUMO Seattle Simulation Model/Seattle Network/Bigger Seattle\\Traffic signal\\test\\test_network_with_transit_n_veh_ped'\n",
    "tree = ET.parse('')\n",
    "root = tree.getroot()\n",
    "\n",
    "#get traffic signal info\n",
    "sumo_signal_info = {}\n",
    "sumoids = list(available_id['sumoid'])\n",
    "sumo_network_ids = []\n",
    "for connection in root.findall('connection'):\n",
    "    #get the tlLogic_ids\n",
    "    tlLogic_ids = connection.get('tl')\n",
    "    if tlLogic_ids not in sumo_network_ids:\n",
    "        sumo_network_ids.append(tlLogic_ids)\n",
    "    if tlLogic_ids in sumoids:\n",
    "        if tlLogic_ids not in sumo_signal_info:\n",
    "            sumo_signal_info[tlLogic_ids] = {}\n",
    "        connection_index = connection.get('linkIndex')\n",
    "        sumo_signal_info[tlLogic_ids][connection_index] = {}\n",
    "        sumo_signal_info[tlLogic_ids][connection_index]['dir'] = connection.get('dir')\n",
    "        sumo_signal_info[tlLogic_ids][connection_index]['fromEdge'] = connection.get('from')\n",
    "        sumo_signal_info[tlLogic_ids][connection_index]['fromLane'] = connection.get('fromLane')\n",
    "        sumo_signal_info[tlLogic_ids][connection_index]['toEdge'] = connection.get('to')\n",
    "        sumo_signal_info[tlLogic_ids][connection_index]['toLane'] = connection.get('toLane')\n",
    "#sort index\n",
    "for sumoid in sumo_signal_info:\n",
    "    sumo_signal_info[sumoid] = sortindexnum(sumoid)"
   ]
  },
  {
   "cell_type": "markdown",
   "metadata": {},
   "source": []
  },
  {
   "cell_type": "markdown",
   "metadata": {},
   "source": [
    "### **Write the scenario back to h5 file**"
   ]
  },
  {
   "cell_type": "code",
   "execution_count": 20,
   "metadata": {
    "pycharm": {
     "name": "#%%\n"
    }
   },
   "outputs": [
    {
     "name": "stdout",
     "output_type": "stream",
     "text": [
      "Added to h5 container: Trip\n",
      "Added to h5 container: Tour\n",
      "Added to h5 container: Person\n",
      "Added to h5 container: PersonDay\n",
      "Added to h5 container: Household\n",
      "Added to h5 container: HouseholdDay\n"
     ]
    }
   ],
   "source": [
    "# save modified tables back to (a new) h5 file\n",
    "def df_to_h5(h5, df, group_name):\n",
    "\n",
    "    f = h5py.File(h5, 'r+')\n",
    "    grp = f.create_group(group_name)\n",
    "\n",
    "    for column in df.columns:\n",
    "        if column in ['travdist','travcost','travtime','trexpfac',\n",
    "        'tautotime','tautocost','tautodist','toexpfac','hdexpfac'\n",
    "        'pwautime','pwaudist', 'psautime','psaudist','psexpfac',\n",
    "        'pdexpfac', 'hhexpfac'\n",
    "        ]:\n",
    "            grp.create_dataset(column, data=list(df[column].astype('float64')))\n",
    "        else:\n",
    "            grp.create_dataset(column, data=list(df[column].astype('int32')))\n",
    "\n",
    "    print(\"Added to h5 container: \" + str(group_name))\n",
    "\n",
    "    f.close()\n",
    "    \n",
    "# output_path = r'\\\\modelstation3\\c$\\Workspace\\sc_new_emp_SCEN3_2018'\n",
    "# Write out scenarios\n",
    "fname = 'daysim_outputs_scenario_pessimistic.h5'\n",
    "#output_dir = os.path.join(output_path,fname)\n",
    "output_dir = fname\n",
    "\n",
    "if os.path.isfile(output_dir):\n",
    "    os.remove(output_dir)\n",
    "f = h5py.File(output_dir, 'w')\n",
    "\n",
    "df_to_h5(output_dir, trips, \"Trip\")\n",
    "df_to_h5(output_dir, tours, \"Tour\")\n",
    "df_to_h5(output_dir, person, \"Person\")\n",
    "df_to_h5(output_dir, person_day, \"PersonDay\")\n",
    "df_to_h5(output_dir, hh, \"Household\")\n",
    "df_to_h5(output_dir, hh_day, \"HouseholdDay\")\n",
    "\n",
    "# trips\n",
    "f.close()"
   ]
  },
  {
   "cell_type": "code",
   "execution_count": null,
   "metadata": {
    "pycharm": {
     "name": "#%%\n"
    }
   },
   "outputs": [],
   "source": []
  }
 ],
 "metadata": {
  "colab": {
   "collapsed_sections": [],
   "name": "Codes_Short-term_Pessimistic_Scenario-July31.ipynb",
   "provenance": []
  },
  "kernelspec": {
   "display_name": "Python 3 (ipykernel)",
   "language": "python",
   "name": "python3"
  },
  "language_info": {
   "codemirror_mode": {
    "name": "ipython",
    "version": 3
   },
   "file_extension": ".py",
   "mimetype": "text/x-python",
   "name": "python",
   "nbconvert_exporter": "python",
   "pygments_lexer": "ipython3",
   "version": "3.8.5"
  }
 },
 "nbformat": 4,
 "nbformat_minor": 1
}
