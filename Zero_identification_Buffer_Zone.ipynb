{
 "cells": [
  {
   "cell_type": "code",
   "execution_count": 1,
   "metadata": {},
   "outputs": [],
   "source": [
    "#import osmnx as ox\n",
    "import numpy as np\n",
    "import pandas as pd\n",
    "import os\n",
    "#import networkx as nx\n",
    "from datetime import datetime\n",
    "import matplotlib.pyplot as plt\n",
    "import geopandas as gpd\n",
    "from datetime import datetime\n",
    "import ast\n",
    "\n",
    "#buffer join\n",
    "from shapely.geometry import LineString, Point, Polygon\n",
    "from shapely.ops import transform\n",
    "from shapely.ops import transform\n",
    "import pyproj"
   ]
  },
  {
   "cell_type": "code",
   "execution_count": 2,
   "metadata": {},
   "outputs": [],
   "source": [
    "zone_path = 'G:\\\\My Drive\\\\2020\\\\Bias\\\\data-processing\\\\spatial_check\\\\'"
   ]
  },
  {
   "cell_type": "code",
   "execution_count": 3,
   "metadata": {},
   "outputs": [],
   "source": [
    "roads = gpd.read_file(zone_path+'roads_Seattle_area.shp') #for census tract\n",
    "#gpd.read_file(zone_path+'roads_Seattle_area_taz.shp') #for census TAZ\n",
    "\n",
    "#get max speed limit for each road\n",
    "roads = roads[['GEOID10','SPEEDLIMIT']].groupby(by=['GEOID10']).max()\n",
    "roads.reset_index(inplace=True)\n",
    "#roads.head(3)\n",
    "\n",
    "#convert data to dict\n",
    "ct_speed = {}\n",
    "for i in range(roads.shape[0]):\n",
    "    ct_speed[roads['GEOID10'].iloc[i]] = roads['SPEEDLIMIT'].iloc[i]"
   ]
  },
  {
   "cell_type": "code",
   "execution_count": 4,
   "metadata": {},
   "outputs": [
    {
     "name": "stderr",
     "output_type": "stream",
     "text": [
      "C:\\Users\\29700\\AppData\\Local\\Temp\\ipykernel_12800\\2052657318.py:11: SettingWithCopyWarning: \n",
      "A value is trying to be set on a copy of a slice from a DataFrame.\n",
      "Try using .loc[row_indexer,col_indexer] = value instead\n",
      "\n",
      "See the caveats in the documentation: https://pandas.pydata.org/pandas-docs/stable/user_guide/indexing.html#returning-a-view-versus-a-copy\n",
      "  rt_file['dist_r'] = rt_file['time_diff']/60*rt_file['speedlimit']\n"
     ]
    }
   ],
   "source": [
    "ct_path = 'G:/My Drive/2021/Bias/census_tract_process/'\n",
    "taz_path = 'G:/My Drive/2021/Bias/SUMO_simulation/'\n",
    "\n",
    "#route_file_taz = pd.read_csv(taz_path+'route_fileTAZ04042017.csv', index_col=0)\n",
    "route_file = pd.read_csv(ct_path+'crossed_routes.csv', index_col=0)\n",
    "\n",
    "get_speed = lambda x: ct_speed[str(x)]\n",
    "route_file['speedlimit'] = route_file['ori_geo'].apply(get_speed)\n",
    "\n",
    "rt_file = route_file[['newid', 'ori_geo', 'time_diff', 'speedlimit']]\n",
    "rt_file['dist_r'] = rt_file['time_diff']/60*rt_file['speedlimit']"
   ]
  },
  {
   "cell_type": "code",
   "execution_count": 5,
   "metadata": {},
   "outputs": [
    {
     "data": {
      "text/html": [
       "<div>\n",
       "<style scoped>\n",
       "    .dataframe tbody tr th:only-of-type {\n",
       "        vertical-align: middle;\n",
       "    }\n",
       "\n",
       "    .dataframe tbody tr th {\n",
       "        vertical-align: top;\n",
       "    }\n",
       "\n",
       "    .dataframe thead th {\n",
       "        text-align: right;\n",
       "    }\n",
       "</style>\n",
       "<table border=\"1\" class=\"dataframe\">\n",
       "  <thead>\n",
       "    <tr style=\"text-align: right;\">\n",
       "      <th></th>\n",
       "      <th>index</th>\n",
       "      <th>Unnamed: 0.1</th>\n",
       "      <th>timestamp</th>\n",
       "      <th>lat</th>\n",
       "      <th>lon</th>\n",
       "      <th>accuracy</th>\n",
       "      <th>idtype</th>\n",
       "      <th>newid</th>\n",
       "      <th>d</th>\n",
       "      <th>hr</th>\n",
       "      <th>...</th>\n",
       "      <th>NAME10</th>\n",
       "      <th>NAMELSAD10</th>\n",
       "      <th>MTFCC10</th>\n",
       "      <th>FUNCSTAT10</th>\n",
       "      <th>ALAND10</th>\n",
       "      <th>AWATER10</th>\n",
       "      <th>INTPTLAT10</th>\n",
       "      <th>INTPTLON10</th>\n",
       "      <th>geoid</th>\n",
       "      <th>new_geos</th>\n",
       "    </tr>\n",
       "  </thead>\n",
       "  <tbody>\n",
       "    <tr>\n",
       "      <th>0</th>\n",
       "      <td>104</td>\n",
       "      <td>107</td>\n",
       "      <td>1491399907</td>\n",
       "      <td>47.606866</td>\n",
       "      <td>-122.335453</td>\n",
       "      <td>26</td>\n",
       "      <td>0</td>\n",
       "      <td>32</td>\n",
       "      <td>5</td>\n",
       "      <td>6</td>\n",
       "      <td>...</td>\n",
       "      <td>81.0</td>\n",
       "      <td>Census Tract 81</td>\n",
       "      <td>G5020</td>\n",
       "      <td>S</td>\n",
       "      <td>827795.0</td>\n",
       "      <td>368877.0</td>\n",
       "      <td>47.605874</td>\n",
       "      <td>-122.339342</td>\n",
       "      <td>53033008100</td>\n",
       "      <td>53033008100</td>\n",
       "    </tr>\n",
       "    <tr>\n",
       "      <th>1</th>\n",
       "      <td>105</td>\n",
       "      <td>108</td>\n",
       "      <td>1491400869</td>\n",
       "      <td>47.612296</td>\n",
       "      <td>-122.338055</td>\n",
       "      <td>21</td>\n",
       "      <td>0</td>\n",
       "      <td>32</td>\n",
       "      <td>5</td>\n",
       "      <td>7</td>\n",
       "      <td>...</td>\n",
       "      <td>81.0</td>\n",
       "      <td>Census Tract 81</td>\n",
       "      <td>G5020</td>\n",
       "      <td>S</td>\n",
       "      <td>827795.0</td>\n",
       "      <td>368877.0</td>\n",
       "      <td>47.605874</td>\n",
       "      <td>-122.339342</td>\n",
       "      <td>53033008100</td>\n",
       "      <td>53033007200</td>\n",
       "    </tr>\n",
       "    <tr>\n",
       "      <th>2</th>\n",
       "      <td>106</td>\n",
       "      <td>109</td>\n",
       "      <td>1491401389</td>\n",
       "      <td>47.612283</td>\n",
       "      <td>-122.337964</td>\n",
       "      <td>22</td>\n",
       "      <td>0</td>\n",
       "      <td>32</td>\n",
       "      <td>5</td>\n",
       "      <td>7</td>\n",
       "      <td>...</td>\n",
       "      <td>81.0</td>\n",
       "      <td>Census Tract 81</td>\n",
       "      <td>G5020</td>\n",
       "      <td>S</td>\n",
       "      <td>827795.0</td>\n",
       "      <td>368877.0</td>\n",
       "      <td>47.605874</td>\n",
       "      <td>-122.339342</td>\n",
       "      <td>53033008100</td>\n",
       "      <td>53033007200</td>\n",
       "    </tr>\n",
       "  </tbody>\n",
       "</table>\n",
       "<p>3 rows × 29 columns</p>\n",
       "</div>"
      ],
      "text/plain": [
       "   index  Unnamed: 0.1   timestamp        lat         lon  accuracy  idtype  \\\n",
       "0    104           107  1491399907  47.606866 -122.335453        26       0   \n",
       "1    105           108  1491400869  47.612296 -122.338055        21       0   \n",
       "2    106           109  1491401389  47.612283 -122.337964        22       0   \n",
       "\n",
       "   newid  d  hr  ...  NAME10       NAMELSAD10  MTFCC10 FUNCSTAT10   ALAND10  \\\n",
       "0     32  5   6  ...    81.0  Census Tract 81    G5020          S  827795.0   \n",
       "1     32  5   7  ...    81.0  Census Tract 81    G5020          S  827795.0   \n",
       "2     32  5   7  ...    81.0  Census Tract 81    G5020          S  827795.0   \n",
       "\n",
       "   AWATER10  INTPTLAT10  INTPTLON10        geoid     new_geos  \n",
       "0  368877.0   47.605874 -122.339342  53033008100  53033008100  \n",
       "1  368877.0   47.605874 -122.339342  53033008100  53033007200  \n",
       "2  368877.0   47.605874 -122.339342  53033008100  53033007200  \n",
       "\n",
       "[3 rows x 29 columns]"
      ]
     },
     "execution_count": 5,
     "metadata": {},
     "output_type": "execute_result"
    }
   ],
   "source": [
    "latlon_file = pd.read_csv('G:/My Drive/2021/Bias/census_tract_process/Seattle_latlon.csv', index_col=0)\n",
    "latlon_file.sort_values(by=['newid', 'timestamp'])\n",
    "latlon_file.head(3)"
   ]
  },
  {
   "cell_type": "code",
   "execution_count": 201,
   "metadata": {},
   "outputs": [],
   "source": [
    "#process time diff\n",
    "#timestamp difference = seconds\n",
    "#dt1 = datetime.fromtimestamp(latlon_file.timestamp[1])\n",
    "#dt2 = datetime.fromtimestamp(latlon_file.timestamp[2])\n",
    "\n",
    "#get sequential time\n",
    "latlon_file['timediff'] = latlon_file['timestamp'].shift(-1)\n",
    "#assign the next time for the last point of each identified id\n",
    "#get the last time within a day\n",
    "next_timestamp = int(datetime.strptime('2017/4/6/0/0/0', '%Y/%m/%d/%H/%M/%S').timestamp())\n",
    "\n",
    "time_diff_arr = latlon_file[['newid', 'timediff']].to_numpy()\n",
    "rows = 0\n",
    "for i in np.unique(latlon_file['newid']):\n",
    "    if rows == 0:\n",
    "        rows = time_diff_arr[time_diff_arr[:, 0]==i,].shape[0]-1\n",
    "        #print(rows)\n",
    "        time_diff_arr[rows, 1] = np.nan\n",
    "    else:\n",
    "        rows = rows+time_diff_arr[time_diff_arr[:, 0]==i,].shape[0]\n",
    "        time_diff_arr[rows, 1] = np.nan\n",
    "        \n",
    "latlon_file['timediff'] = time_diff_arr[:, 1]\n",
    "latlon_file['timediff'] =  latlon_file['timediff'] - latlon_file['timestamp']\n",
    "\n",
    "latlon_file['speedlimit'] = latlon_file['geoid'].apply(get_speed)\n",
    "#get distance (buffer r)\n",
    "latlon_file['dist_r'] = latlon_file['speedlimit']*(latlon_file['timediff']/3600)"
   ]
  },
  {
   "cell_type": "code",
   "execution_count": 210,
   "metadata": {},
   "outputs": [
    {
     "data": {
      "text/plain": [
       "Text(0.5, 1.0, 'Hist of distance gap between each sequential points of identities from app-based data')"
      ]
     },
     "execution_count": 210,
     "metadata": {},
     "output_type": "execute_result"
    },
    {
     "data": {
      "image/png": "[encoded data removed]",
      "text/plain": [
       "<Figure size 432x288 with 1 Axes>"
      ]
     },
     "metadata": {
      "needs_background": "light"
     },
     "output_type": "display_data"
    }
   ],
   "source": [
    "#latlon_file['dist_r'].describe()\n",
    "#check data\n",
    "#latlon_file[latlon_file['dist_r']==max(latlon_file['dist_r'])]\n",
    "\n",
    "#plot distance gap\n",
    "plt.hist(latlon_file['dist_r'].values)\n",
    "#plt.boxplot(latlon_file['dist_r'].values)\n",
    "plt.title('Hist of distance gap between each sequential points of identities from app-based data')"
   ]
  },
  {
   "cell_type": "code",
   "execution_count": 177,
   "metadata": {},
   "outputs": [],
   "source": [
    "def get_sec(DistinMile, Speed):\n",
    "    return(DistinMile/Speed*3600)"
   ]
  },
  {
   "cell_type": "code",
   "execution_count": 185,
   "metadata": {},
   "outputs": [
    {
     "data": {
      "text/plain": [
       "60.0"
      ]
     },
     "execution_count": 185,
     "metadata": {},
     "output_type": "execute_result"
    }
   ],
   "source": [
    "get_sec(1, 60)"
   ]
  },
  {
   "cell_type": "markdown",
   "metadata": {},
   "source": [
    "### Further step\n",
    "buffer zone in geopandas [(link)](https://geopandas.org/en/stable/docs/reference/api/geopandas.GeoSeries.buffer.html)"
   ]
  }
 ],
 "metadata": {
  "kernelspec": {
   "display_name": "Python 3 (ipykernel)",
   "language": "python",
   "name": "python3"
  },
  "language_info": {
   "codemirror_mode": {
    "name": "ipython",
    "version": 3
   },
   "file_extension": ".py",
   "mimetype": "text/x-python",
   "name": "python",
   "nbconvert_exporter": "python",
   "pygments_lexer": "ipython3",
   "version": "3.8.5"
  }
 },
 "nbformat": 4,
 "nbformat_minor": 4
}
