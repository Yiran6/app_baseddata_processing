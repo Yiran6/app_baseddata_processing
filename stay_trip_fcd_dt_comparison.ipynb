{
 "cells": [
  {
   "cell_type": "code",
   "execution_count": 5,
   "id": "9a714af4",
   "metadata": {},
   "outputs": [],
   "source": [
    "import os\n",
    "import numpy as np\n",
    "import pandas as pd\n",
    "import csv\n",
    "from datetime import datetime"
   ]
  },
  {
   "cell_type": "markdown",
   "id": "7fccc598",
   "metadata": {},
   "source": [
    "#stay label\n",
    "#labels for location\n",
    "#column name:\n",
    "#timestamp, newid, ID_Type, stay_lat, stay_lon, accuracy, stay_dur, stay_label, human_start_time\n",
    "#source: https://github.com/feilongwang92/fhwa2020/tree/master/Mobility%20analysis\n",
    "\n",
    "#test_stay = pd.read_csv(input_path+'stayonly_trip_identified_part_0.csv',header=None, sep='\\t')\n",
    "\n",
    "def get_cuebiq_trip_data(data_path):\n",
    "    get_year = lambda x: datetime.fromtimestamp(x).year\n",
    "    get_mes = lambda x: datetime.fromtimestamp(x).month\n",
    "    get_day = lambda x: datetime.fromtimestamp(x).day\n",
    "    get_weekday = lambda x: 1 if datetime.fromtimestamp(x).weekday() in [1,2,3] else 0\n",
    "    \n",
    "    test_stay = pd.read_csv(data_path, header=None, sep='\\t')\n",
    "    #drop columns not in used\n",
    "    test_stay.pop(2)\n",
    "    test_stay.pop(8)\n",
    "    test_stay['year'] = test_stay[0].apply(get_year)\n",
    "    test_stay['month'] = test_stay[0].apply(get_mes)\n",
    "    test_stay['day'] = test_stay[0].apply(get_day)\n",
    "    test_stay['weekday'] = test_stay[0].apply(get_weekday)\n",
    "\n",
    "    test_stay = test_stay[test_stay['month']==4]\n",
    "    test_stay = test_stay[test_stay['weekday']==1]\n",
    "    print(test_stay.shape)\n",
    "    if test_stay.shape[0]>0:\n",
    "        return(test_stay)\n",
    "    \n",
    "def get_agg_trip_data(stay_csv_lst, input_path):\n",
    "    index_ = 0 \n",
    "    for stay_csv in stay_csv_lst:\n",
    "        if index_ == 0:\n",
    "            stay_trips = get_cuebiq_trip_data(input_path+stay_csv)\n",
    "            index_ += 1\n",
    "        else:\n",
    "            stay_trips_cur = get_cuebiq_trip_data(input_path+stay_csv)\n",
    "            stay_trips = pd.concat([stay_trips, stay_trips_cur])\n",
    "    print(stay_trips.shape)\n",
    "    return(stay_trips)"
   ]
  },
  {
   "cell_type": "markdown",
   "id": "b3363fb8",
   "metadata": {},
   "source": [
    "#cuebiq stay trip generation\n",
    "input_path = 'G:/Shared drives/Thinklab with Tan/data/'\n",
    "stay_csv_lst = []\n",
    "for i in os.listdir(input_path):\n",
    "    if 'identified_part' in i and 'sample' not in i:\n",
    "        print(i)\n",
    "        stay_csv_lst.append(i)\n",
    "        \n",
    "stay_trips = get_agg_trip_data(stay_csv_lst, input_path)\n",
    "stay_trips.to_csv('G:/My Drive/2021/Bias/SUMO_simulation/appsim/cuebiq_stay_trip.csv')"
   ]
  },
  {
   "cell_type": "code",
   "execution_count": null,
   "id": "56a4f409",
   "metadata": {},
   "outputs": [],
   "source": []
  }
 ],
 "metadata": {
  "kernelspec": {
   "display_name": "Python 3",
   "language": "python",
   "name": "python3"
  },
  "language_info": {
   "codemirror_mode": {
    "name": "ipython",
    "version": 3
   },
   "file_extension": ".py",
   "mimetype": "text/x-python",
   "name": "python",
   "nbconvert_exporter": "python",
   "pygments_lexer": "ipython3",
   "version": "3.9.13"
  }
 },
 "nbformat": 4,
 "nbformat_minor": 5
}
