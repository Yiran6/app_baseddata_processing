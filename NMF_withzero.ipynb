{
 "cells": [
  {
   "cell_type": "markdown",
   "metadata": {},
   "source": [
    "### Packages needed"
   ]
  },
  {
   "cell_type": "code",
   "execution_count": 4,
   "metadata": {},
   "outputs": [],
   "source": [
    "import os\n",
    "import numpy as np\n",
    "import pandas as pd\n",
    "import geopandas as gpd\n",
    "import csv\n",
    "#import pandasql as ps\n",
    "import matplotlib.pyplot as plt\n",
    "#import shapefile as shp\n",
    "import seaborn as sns\n",
    "import random\n",
    "import time\n",
    "from sklearn.model_selection import train_test_split\n",
    "#import pysal as ps\n",
    "import scipy\n",
    "\n",
    "#import torch\n",
    "#import torch.nn as nn\n",
    "#import torch.nn.parallel\n",
    "#import torch.optim as optim\n",
    "#import torch.utils.data\n",
    "\n",
    "#from torch.nn import functional\n",
    "#from torch.autograd import Variable\n",
    "\n",
    "import statistics\n",
    "\n",
    "#temporal pattern clustering\n",
    "from tslearn.clustering import TimeSeriesKMeans, silhouette_score\n",
    "from tslearn.utils import to_time_series_dataset\n",
    "from sklearn import metrics\n",
    "\n",
    "#!pip install dtaidistance\n",
    "#!pip install plotly\n",
    "#!pip install tslearn\n",
    "#source https://dtaidistance.readthedocs.io/en/latest/usage/dtw.html\n",
    "#from dtaidistance import dtw\n",
    "#from dtaidistance import dtw_visualisation as dtwvis\n",
    "\n",
    "from scipy.cluster.hierarchy import fcluster\n",
    "from scipy.stats import chisquare\n",
    "from scipy.stats import wasserstein_distance\n",
    "\n",
    "#regression model\n",
    "from patsy import dmatrices\n",
    "import statsmodels.api as sm\n",
    "\n",
    "from datetime import datetime\n",
    "\n",
    "#from pysal.model import spreg\n",
    "#from pysal.lib import weights\n",
    "#from pysal.explore import esda\n",
    "\n",
    "#calculate the demographic bias \n",
    "#use wasserstein_distance\n",
    "from scipy.stats import wasserstein_distance\n",
    "\n",
    "#path = 'C:/Users/29700/Downloads/RecSys-Workshop/tutorials/'\n",
    "#os.chdir(path)\n",
    "#import utilities as utl\n",
    "\n",
    "from scipy.sparse import csr_matrix\n",
    "from scipy.sparse.linalg import svds\n",
    "from sklearn.metrics import mean_squared_error\n",
    "from sklearn.metrics import r2_score\n",
    "from sklearn.metrics import mean_squared_error as mae\n",
    "from datetime import datetime\n",
    "import time\n",
    "from sklearn.decomposition import NMF\n",
    "\n",
    "import time\n",
    "import scipy.sparse\n",
    "from scipy.stats import entropy\n",
    "from sys import exit\n",
    "\n",
    "import itertools\n",
    "from itertools import permutations\n",
    "\n",
    "import xml.etree.ElementTree as ET\n",
    "\n",
    "import geopandas as gpd\n",
    "\n",
    "import copy \n",
    "\n",
    "import json\n",
    "\n",
    "#binary factorization\n",
    "import nimfa\n",
    "\n",
    "from sklearn.decomposition import NMF\n",
    "import scipy.sparse as sparse\n",
    "import implicit\n",
    "\n",
    "#extract number from str\n",
    "import re"
   ]
  },
  {
   "cell_type": "code",
   "execution_count": 3,
   "metadata": {},
   "outputs": [],
   "source": [
    "#!pip install pysal"
   ]
  },
  {
   "cell_type": "code",
   "execution_count": 2,
   "metadata": {},
   "outputs": [],
   "source": [
    "#!pip install Cython\n",
    "#!pip install Cython --install-option=\"--no-cython-compile\"\n",
    "#%load_ext cython\n",
    "#from setuptools import setup\n",
    "#from Cython.Build import cythonize"
   ]
  },
  {
   "cell_type": "markdown",
   "metadata": {},
   "source": [
    "### data processing"
   ]
  },
  {
   "cell_type": "code",
   "execution_count": 5,
   "metadata": {},
   "outputs": [],
   "source": [
    "#defined functions\n",
    "def get_time_variationbyzone(data, taz, time_loc, plot_index):\n",
    "    data_taz = data[data['taz']==taz]\n",
    "    data_taz = data_taz.sort_values(by=['hr', 'min'])\n",
    "    data_taz = data_taz.groupby(by=['hr', 'min']).sum()\n",
    "    \n",
    "    data_taz.reset_index(inplace=True)\n",
    "    data_taz = data_taz[['hr','min','sum']]\n",
    "    #data_taz\n",
    "    obs_sum = np.zeros((len(time_loc)))\n",
    "    hr_ = data_taz['hr'].values\n",
    "    min_ = data_taz['min'].values\n",
    "    sum_val = data_taz['sum'].values\n",
    "    \n",
    "    for i in range(len(hr_)):\n",
    "        obs_sum[time_loc[str(hr_[i])+'_'+str(min_[i])]] = sum_val[i]\n",
    "    #use obs/max(obs) instead of obs/sum(obs) \n",
    "    obs_per = obs_sum/(np.max(obs_sum))\n",
    "    \n",
    "    if plot_index == True:\n",
    "        fig = plt.figure(taz)\n",
    "        plt.plot(obs_sum)\n",
    "    return(obs_per)\n",
    "\n",
    "def get_sim_obs_ts(fcd_out, taz_time_per, avg_per, return_sim=True):\n",
    "    taz_ = fcd_out['taz'].values\n",
    "    time_5 = fcd_out['time_5'].values\n",
    "    per_ts = []\n",
    "    for i in range(len(taz_)):\n",
    "        if taz_[i] in taz_time_per:\n",
    "            per_ts.append(taz_time_per[taz_[i]][time_5[i]])\n",
    "        else:\n",
    "            per_ts.append(avg_per[time_5[i]])\n",
    "    if return_sim == True:\n",
    "        sim_obs_ts = [] \n",
    "        for i in range(len(per_ts)):\n",
    "            sim_obs_ts.append(np.random.binomial(1, per_ts[i], 1)[0])\n",
    "        return(sim_obs_ts)\n",
    "    else:\n",
    "        return(per_ts)\n",
    "    \n",
    "\n",
    "#convert dt to matrix\n",
    "def read_fcd(fcd_dt_path, app_based_data):\n",
    "    fcd_out = pd.read_csv(fcd_dt_path, header=None)\n",
    "    fcd_out.columns = ['id', 'taz', 'time']\n",
    "    fcd_out.taz = fcd_out.taz.astype('int')\n",
    "    \n",
    "    \n",
    "    revise_dt = lambda x: x.split('-')[0] if '-' in x else x\n",
    "    get_sample_index = lambda x: x.split('-')[2] if '-' in x else 3\n",
    "    fcd_out['reids'] = fcd_out['id'].apply(revise_dt)\n",
    "    fcd_out['sample_index'] = (fcd_out['id'].apply(get_sample_index)).astype(int)\n",
    "    \n",
    "    fcd_out['time'] = fcd_out['time'].astype('int')\n",
    "    fcd_out['hr'] = (fcd_out['time'].values/3600).astype(int)\n",
    "    fcd_out['minus'] = ((fcd_out['time'].values- fcd_out['hr'].values*3600)/60).astype(int)\n",
    "    fcd_out['time_30'] = (fcd_out['time']/30).astype(int)\n",
    "    fcd_out['time_5'] = (fcd_out['time']/300).astype(int)\n",
    "    \n",
    "    print('num id', len(np.unique(fcd_out.reids)))\n",
    "\n",
    "    #fcd_out.sort_values(by=['time', 'taz'])\n",
    "    fcd_out['tl_id'] = fcd_out['taz'].astype(str)+'_'+(fcd_out['time_5']).astype(str)\n",
    "\n",
    "    time_ = np.unique((fcd_out['time']/300).astype(int))\n",
    "    \n",
    "    if app_based_data == True:\n",
    "        #sample index 0: non app-based samples, 1: app=based samples, 3: transit\n",
    "        #fcd_out.groupby(by=['sample_index']).size()\n",
    "        #sample_index 0    1714901, 1     572267, 3     180802\n",
    "        return(fcd_out[fcd_out['sample_index']!=0])\n",
    "    else:\n",
    "        return(fcd_out)\n",
    "    \n",
    "def getfcdnorigindt(fcd_out, savepath, \n",
    "                    data_obs, time_loc, taz_time_per, avg_per, \n",
    "                    save_index):\n",
    "    #get one day data (use 5 min as the time interval)\n",
    "    #fcd_out = fcd_out[fcd_out['time_5']<288]\n",
    "    newuser_ = {}\n",
    "    index_ = 0\n",
    "    for i in np.unique(fcd_out.reids):\n",
    "        newuser_[i] = index_\n",
    "        index_ += 1    \n",
    "    ## fcd output processing\n",
    "    #delete the data exceeds the 24-hr daily period\n",
    "    #fcd_out = fcd_out[~fcd_out['time'].isin([86400, 86700])]\n",
    "    fcd_out.time = fcd_out.time.astype('int')\n",
    "\n",
    "    obs = data_obs.groupby(by=['time']).size().values\n",
    "    obs_per = obs/max(obs)\n",
    "\n",
    "    sample_ct = lambda x: np.random.binomial(1, obs_per[x], 1)[0]\n",
    "\n",
    "    fcd_out['sim_obs'] = fcd_out['time_5'].apply(sample_ct)\n",
    "\n",
    "    fcd_out['tl_id'] = fcd_out['taz'].astype(str)+'_'+((fcd_out['time']/300).astype(int)).astype(str)\n",
    "    \n",
    "    sim_obs = get_sim_obs_ts(fcd_out, taz_time_per, avg_per, True)\n",
    "    fcd_out['sim_obs_ts'] = sim_obs\n",
    "\n",
    "    #simulated observations based on time variation\n",
    "    print('sim based on time', \n",
    "          np.count_nonzero(fcd_out['sim_obs'])/fcd_out.shape[0])\n",
    "\n",
    "    #simulated observations based on time and spatial variation\n",
    "    print('sim based on time and spatial',\n",
    "          np.count_nonzero(fcd_out['sim_obs_ts'])/fcd_out.shape[0])\n",
    "    \n",
    "    return(fcd_out)\n",
    "\n",
    "#fcd_out = read_fcd(fcd_dt_path, app_based_data)\n",
    "def run_sim(csv_path, fcd_out, savepath, save_index=False, plot_index=True):\n",
    "    data_obs = pd.read_csv(csv_path, header=0)\n",
    "    print('app based data', data_obs.head(3))\n",
    "    \n",
    "    newids = np.unique(data_obs.newid)\n",
    "    newid_ = {}\n",
    "    index_ = 0\n",
    "    for i in range(len(newids)):\n",
    "        newid_[newids[i]] = index_\n",
    "        index_ += 1\n",
    "        \n",
    "    get_hr = lambda x: x.split(':')[0]\n",
    "    get_min = lambda x: x.split(':')[1]\n",
    "\n",
    "    hr_ = np.unique(data_obs['time'].astype(str).apply(get_hr).astype(int))\n",
    "    min_ = np.unique(data_obs['time'].astype(str).apply(get_min).astype(int))\n",
    "    taz_ = np.unique(data_obs['taz'])\n",
    "\n",
    "    data_obs['hr'] = data_obs['time'].astype(str).apply(get_hr).astype(int)\n",
    "    data_obs['min'] = data_obs['time'].astype(str).apply(get_min).astype(int)\n",
    "    \n",
    "    index_ = 0\n",
    "    lt_loc = {}\n",
    "    for taz in taz_:\n",
    "        for h in hr_:\n",
    "            for m in min_:\n",
    "                lt_loc['4_'+str(h)+'_'+str(m)+'_'+str(taz)] = index_\n",
    "                index_ += 1\n",
    "    obs_mx = np.zeros((len(newid_), len(lt_loc)))\n",
    "\n",
    "    newid_col = data_obs.newid.values\n",
    "    key_col = data_obs.key.values\n",
    "    ct_col = data_obs['sum'].values\n",
    "\n",
    "    for i in range(len(newid_col)):\n",
    "        obs_mx[newid_[newid_col[i]]][lt_loc[key_col[i]]] = 1\n",
    "\n",
    "    total_ct = np.sum(obs_mx, axis=0)\n",
    "    #get ct based on taz and time\n",
    "    total_ct = total_ct.reshape(1, total_ct.shape[0])\n",
    "    total_ct_conver = np.hsplit(total_ct, len(taz_))\n",
    "    max_num = np.max(np.array(total_ct_conver), axis=2)\n",
    "    \n",
    "    if plot_index == True:\n",
    "        plt.plot(data_obs.groupby(by=['time']).size().values)\n",
    "        \n",
    "    time_loc = {}\n",
    "    index_ = 0\n",
    "    for hr in hr_:\n",
    "        for miuts in min_:\n",
    "            time_loc[str(hr)+'_'+str(miuts)] = index_\n",
    "            index_ += 1\n",
    "\n",
    "    taz_time_per = {}\n",
    "    avg_per = 0\n",
    "    index_ = 0 \n",
    "    for taz_id in taz_:\n",
    "        taz_time_per[taz_id] = get_time_variationbyzone(data_obs, taz_id, time_loc, plot_index)\n",
    "        if index_ == 0:\n",
    "            avg_per = taz_time_per[taz_id]\n",
    "        else:\n",
    "            avg_per = avg_per + taz_time_per[taz_id]\n",
    "        index_ += 1\n",
    "        \n",
    "    avg_per = avg_per/np.max(avg_per)\n",
    "    if plot_index == True:\n",
    "        fig = plt.figure(1)\n",
    "        plt.plot(avg_per)\n",
    "        \n",
    "    \n",
    "    fcd_out = getfcdnorigindt(fcd_out, savepath, data_obs, time_loc, taz_time_per, avg_per, save_index=False)\n",
    "    \n",
    "    fcd_out['obs'] = 1\n",
    "    #simulation compare\n",
    "    print('sim_t vs sim_ts', mean_squared_error(fcd_out.sim_obs, fcd_out.sim_obs_ts, squared=False))\n",
    "    print('obs vs sim_ts', mean_squared_error(fcd_out.obs, fcd_out.sim_obs_ts, squared=False))\n",
    "    print('obs vs sim_t', mean_squared_error(fcd_out.obs, fcd_out.sim_obs, squared=False))\n",
    "    \n",
    "    return(fcd_out)   \n",
    "\n",
    "\n",
    "def get_pred_timedict(num_taz, time_interval):\n",
    "    pred_time_loc = {}\n",
    "    for t in range(time_interval):\n",
    "        select_time_loc = get_timeloc(num_taz, time_interval, t)\n",
    "        pred_time_loc[t] = select_time_loc\n",
    "    return(pred_time_loc)\n",
    "\n",
    "def get_maxvalnindex(WHpert):\n",
    "    max_val = np.max(WHpert, axis=1)\n",
    "    max_index = np.argmax(WHpert, axis=1)\n",
    "    return(max_val, max_index)\n",
    "\n",
    "def get_pred_dt(WH_pred, time_interval):\n",
    "    num_taz = int(WH_pred.shape[1]/time_interval)\n",
    "    #print('num taz', num_taz)\n",
    "    pred_time_dic = get_pred_timedict(num_taz, time_interval)\n",
    "    for t in pred_time_dic:\n",
    "        pred_val = WH_pred[:, pred_time_dic[t]]\n",
    "        if t == 0:\n",
    "            max_val, max_index = get_maxvalnindex(pred_val)\n",
    "        else:\n",
    "            max_val_cur, max_index_cur = get_maxvalnindex(pred_val)\n",
    "            max_val = np.vstack((max_val, max_val_cur))\n",
    "            max_index = np.vstack((max_index, max_index_cur))\n",
    "    return(max_val.T, max_index.T)  \n",
    "\n",
    "\n",
    "def get_simdt(fcd_out, sim_col, newuser_, loc_time):\n",
    "    sim_dt = np.zeros((len(newuser_), len(loc_time)))\n",
    "    fcd_obs = fcd_out[['reids', 'tl_id', 'sim_obs']].groupby(by=['reids', 'tl_id']).sum()\n",
    "    fcd_obs.reset_index(inplace=True) \n",
    "    ids_ = fcd_obs['reids'].values\n",
    "    tl_id_ = fcd_obs['tl_id'].values\n",
    "    sim_obs = fcd_obs['sim_obs'].values\n",
    "    for i in range(len(ids_)):\n",
    "        sim_dt[newuser_[ids_[i]]][loc_time[tl_id_[i]]] = sim_obs[i]\n",
    "    return(sim_dt)\n",
    "\n",
    "def fit_dt(fcd_out, sim_col, newuser_, loc_time, k_val): \n",
    "    sim_dt = get_simdt(fcd_out, sim_col, newuser_, loc_time)\n",
    "    #predict data based on time\n",
    "    model = NMF(n_components=k_val, init='random', random_state=0)\n",
    "    W = model.fit_transform(sim_dt)\n",
    "    H = model.components_\n",
    "    return(np.dot(W, H))\n",
    "\n",
    "def get_index_lst(i, num_taz, num_time):\n",
    "    return(list(np.arange(i, (num_time-1)*num_taz+i, num_time)))\n",
    "\n",
    "#sep_dict = {'mor':[6, 9]\n",
    "#            'noon':[9, 17]\n",
    "#            'eve':[17, 20]}\n",
    "def sep_indexdetime(num_taz, num_time, time_interval):\n",
    "    sep_time = {'mor':[],\n",
    "               'noon':[],\n",
    "               'eve':[],\n",
    "               'other':[]}\n",
    "    for i in range(num_time):\n",
    "        if i>=6*time_interval and i < 9*time_interval:\n",
    "            sep_time['mor'].extend(get_index_lst(i, num_taz, num_time))\n",
    "        elif i >= 9*time_interval and i < 17*time_interval:\n",
    "            sep_time['noon'].extend(get_index_lst(i, num_taz, num_time))\n",
    "        elif i>17*time_interval and i <20*time_interval:\n",
    "            sep_time['eve'].extend(get_index_lst(i, num_taz, num_time))\n",
    "        else:\n",
    "            sep_time['other'].extend(get_index_lst(i, num_taz, num_time))\n",
    "            \n",
    "    for key in sep_time:\n",
    "        sep_time[key] = sorted(sep_time[key])\n",
    "    return(sep_time)\n",
    "\n",
    "def fit_dtbytime(sim_dt, num_taz, num_time, time_interval, k_val, save_name):\n",
    "    time_dict = sep_indexdetime(num_taz, num_time, time_interval)\n",
    "    for ky in time_dict:\n",
    "        #print(ky)\n",
    "        input_dt = sim_dt[:, time_dict[ky]]\n",
    "        model = NMF(n_components=k_val, init='random', random_state=0)\n",
    "        W = model.fit_transform(sim_dt)\n",
    "        H = model.components_\n",
    "        WH = np.dot(W, H)\n",
    "        WH_max, WH_index = get_pred_dt_time(WH, 288)\n",
    "        pd.DataFrame(WH_max).to_csv('WH_max_'+ky+'_'+save_name+'.csv')\n",
    "        pd.DataFrame(WH_index).to_csv('WH_index'+ky+'_'+save_name+'.csv')\n",
    "\n",
    "def del_transit_oneobs(fcd_out):\n",
    "    fcd_transit = fcd_out[fcd_out['sample_index']==3]\n",
    "    fcd_transit = fcd_transit.groupby(by=['id']).size().to_frame()\n",
    "    fcd_transit.reset_index(inplace=True)\n",
    "    fcd_transit_ids = fcd_transit[['id']][fcd_transit[0]==1].values.flatten()\n",
    "    #print(fcd_transit_ids)\n",
    "    print('# o ftransit line with only one obs deleted', len(fcd_transit_ids))\n",
    "    return(fcd_out[~fcd_out['id'].isin(fcd_transit_ids)])\n",
    "\n",
    "def get_test_dt(fcd_out, selected_ids):\n",
    "    fcd_test = (fcd_out[fcd_out['reids'].isin(selected_ids)]).sort_values(by=['reids', 'time_30'])\n",
    "    fcd_test['od_taz'] = fcd_test['otaz'].astype(str)+'_'+fcd_test['dtaz'].astype(str)\n",
    "    fcd_test = fcd_test.sort_values(by=['reids', 'time_30'])\n",
    "    return(fcd_test)\n",
    "\n",
    "def get_other_stay_od(fcd_ids):\n",
    "    fcd_ids['otaz'] = fcd_ids['taz']\n",
    "    fcd_ids['dtaz'] = fcd_ids[['taz']].shift(periods=-1, fill_value=fcd_ids['otaz'].values[-1])\n",
    "    fcd_ids['od_taz'] = fcd_ids['otaz'].astype(str)+'_'+fcd_ids['dtaz'].astype(str)\n",
    "    return(fcd_ids)\n",
    "\n",
    "def get_stay_val(fcd_test, ids, other_index):\n",
    "    fcd_ids = fcd_test[fcd_test['reids']==ids]\n",
    "    if other_index == True:\n",
    "        fcd_ids = get_other_stay_od(fcd_ids)\n",
    "\n",
    "    fcd_index = fcd_ids.groupby(by=['od_taz', 'otaz','dtaz','time_5_new'], sort=False).size().to_frame()\n",
    "    fcd_index.reset_index(inplace=True)\n",
    "    fcd_index = fcd_index.sort_values(by=['time_5_new'])\n",
    "\n",
    "    fcd_index['time_diff'] = fcd_index[['time_5_new']] - (fcd_index[['time_5_new']].shift(periods=1, fill_value=0))\n",
    "    fcd_index['time_diff_index'] = fcd_index['time_diff']>1\n",
    "\n",
    "    start_t = 0\n",
    "    time_ = []\n",
    "    taz_ = []\n",
    "    first_index = False\n",
    "\n",
    "    for i in range(fcd_index.shape[0]):\n",
    "        #handle special condition, when the first index = 1\n",
    "        if i == 0 and fcd_index.iloc[i, 5] == 1:\n",
    "            first_index = True\n",
    "        if fcd_index.iloc[i, 6] == True or first_index==True:\n",
    "            add_time = np.arange(start_t, fcd_index.iloc[i, 3])\n",
    "            time_.extend(add_time)\n",
    "            taz_.extend(np.repeat(fcd_index.iloc[i, 1], len(add_time)))\n",
    "\n",
    "        start_t = fcd_index.iloc[i, 3]+1\n",
    "\n",
    "    if start_t-1 < 287:\n",
    "        add_time = np.arange(start_t, 288)\n",
    "        time_.extend(add_time)\n",
    "        taz_.extend(np.repeat(fcd_index.iloc[i, 2], len(add_time)))\n",
    "        \n",
    "    return(np.vstack((np.repeat(ids, len(time_)), time_, taz_)))\n",
    "\n",
    "def get_stays_mx(fcd_dt, selected_ids, other_index=False):\n",
    "    fcd_test = get_test_dt(fcd_dt, selected_ids)\n",
    "    index_ = 0\n",
    "    for ids in np.unique(fcd_test['reids']):\n",
    "        if index_ == 0:\n",
    "            add_stay = get_stay_val(fcd_test, ids, other_index)\n",
    "            index_ = 1\n",
    "        else:\n",
    "            add_stay_cur = get_stay_val(fcd_test, ids, other_index)\n",
    "            add_stay = np.hstack((add_stay, add_stay_cur))\n",
    "            \n",
    "    return(add_stay.T)\n",
    "\n",
    "#check add stay function\n",
    "def add_stay_check(add_stay, selected_ids, fcd_out):\n",
    "    #get fcd trip num based on the time\n",
    "    fcd_trip_num = (fcd_out.sort_values(by=['reids', 'time_30'])).groupby(by=['reids', 'time_5'], sort=False).size().to_frame()\n",
    "    fcd_trip_num.reset_index(inplace=True)\n",
    "    fcd_trip_num = fcd_trip_num.groupby(by=['reids'], sort=False).size().to_frame()\n",
    "    fcd_trip_num.reset_index(inplace=True)\n",
    "    \n",
    "    test = pd.DataFrame(add_stay)\n",
    "    test.columns = ['reids', 'taz', 'time_5']\n",
    "    test = test.groupby(by=['reids']).size().to_frame()\n",
    "    test.columns = ['stay_num']\n",
    "    test = test.join((fcd_trip_num[fcd_trip_num['reids'].isin(selected_ids)]).set_index('reids'))\n",
    "    test.reset_index(inplace=True)\n",
    "    test = test[~(test['reids'].isin(stays_[0].values))]\n",
    "    test.columns = ['reids','stay_num', 'trip_num']\n",
    "    test['total'] = test['stay_num']+test['trip_num']\n",
    "    print(test['total'].describe())\n",
    "    return(test[test['total']!=288])\n",
    "\n",
    "#add ids with stays only\n",
    "#time = np.range(0, 288)\n",
    "def get_stays(stays_dt):\n",
    "    for i in range(stays_dt.shape[0]):\n",
    "        ids = stays_dt.iloc[i, 0]\n",
    "        taz = stays_dt.iloc[i, 1]\n",
    "        if i == 0 :\n",
    "            stays = np.vstack((np.repeat(ids, 288),\n",
    "                               np.arange(0, 288),\n",
    "                               np.repeat(taz, 288)))\n",
    "        else:\n",
    "            stays = np.hstack((stays, np.vstack((np.repeat(ids, 288),\n",
    "                                                 np.arange(0, 288),\n",
    "                                                 np.repeat(taz, 288)))))\n",
    "        \n",
    "    return(stays.T)\n",
    "\n",
    "def add_index(index_val, stay_mx):\n",
    "    add_index = np.repeat(index_val, stay_mx.shape[0]).reshape(stay_mx.shape[0], 1)\n",
    "    return(np.hstack((stay_mx, add_index)))\n",
    "\n",
    "def join_dt(add_mx, colname, index_val):\n",
    "    add_mx = add_index(index_val, add_mx)\n",
    "    join_dt = pd.DataFrame(add_mx)\n",
    "    join_dt.columns = colname\n",
    "    return(join_dt)\n",
    "    \n",
    "\n",
    "#colname = ['reids', 'time_5', 'taz'], indexcol = 'col_index'\n",
    "def get_filled_dt(stay, add_stay, add_stay_other, fcd_out, colname, indexcol):\n",
    "    #add index to distinguish the filled dt\n",
    "    fcd_dt = fcd_out[colname]\n",
    "    fcd_dt[indexcol] = 3\n",
    "    colname.append(indexcol)\n",
    "    \n",
    "    #add add stays\n",
    "    fcd_dt = pd.concat([fcd_dt, join_dt(add_stay, colname, 0)])\n",
    "    #add add other stays\n",
    "    fcd_dt = pd.concat([fcd_dt, join_dt(add_stay_other, colname, 1)])\n",
    "    #add stays only\n",
    "    fcd_dt = pd.concat([fcd_dt, join_dt(stay, colname, 2)])\n",
    "    \n",
    "    return(fcd_dt.sort_values(by=['reids', 'time_5_new']))\n",
    "\n",
    "def conver2mx(test_taz_time, taz_dict):\n",
    "    time_len = len(np.unique(test_taz_time['minut_5']))\n",
    "    taz_len = len(taz_dict)\n",
    "    output_mx = np.zeros((taz_len, time_len))\n",
    "    taz_val = test_taz_time.taz.values\n",
    "    time_val = test_taz_time.minut_5.values\n",
    "    num_val = test_taz_time[0].values \n",
    "    for i in range(test_taz_time.shape[0]):\n",
    "        output_mx[taz_val[i]][time_val[i]] = num_val[i]\n",
    "    return(output_mx)\n",
    "\n",
    "def cal_time_taz_per(test_taz, test_taz_time, taz_dict):\n",
    "    output_per = conver2mx(test_taz_time, taz_dict)\n",
    "    print(output_per.shape)\n",
    "    taz_ = test_taz_.taz.values\n",
    "    num_ids = test_taz_[0].values\n",
    "    \n",
    "    missing_taz = []\n",
    "    for i in range(output_per.shape[0]):\n",
    "        if i in taz_:\n",
    "            output_per[i, :] = output_per[i, :]/(num_ids[np.where(taz_==167)[0][0]])\n",
    "        else:\n",
    "            missing_taz.append(i)\n",
    "    print('# of missing tazs', len(missing_taz))\n",
    "    #add average data to the tazs without data info\n",
    "    mean_per = np.sum(output_per, axis=0)/(len(taz_)-len(missing_taz))\n",
    "    for i in missing_taz:\n",
    "        output_per[i,:] = mean_per\n",
    "    return(output_per)\n",
    "\n",
    "#######\n",
    "#get the simulated observed data\n",
    "def check_fcd_dt(fcd_dt):\n",
    "    fcd_colname = fcd_dt.columns\n",
    "    id_dict = {}\n",
    "    index_ = 0\n",
    "    for i in np.unique(fcd_dt['reids']):\n",
    "        if i not in id_dict:\n",
    "            id_dict[i] = index_\n",
    "            index_ += 1\n",
    "\n",
    "    get_id_index = lambda x: id_dict[x]        \n",
    "    fcd_dt['id_index']= fcd_dt['reids'].apply(get_id_index)\n",
    "    if 'ts_index' not in fcd_colname:\n",
    "        fcd_dt['ts_index'] = fcd_dt['taz_index']*288 + fcd_dt['time_5_new']\n",
    "    return(fcd_dt)\n",
    "\n",
    "#get the simulated observed data\n",
    "def getinput_mx(fcd_dt, sim_col):\n",
    "    fcd_val = fcd_dt[fcd_dt[sim_col] == 1]\n",
    "    fcd_val = check_fcd_dt(fcd_val)\n",
    "    #fcd_dt['ts_index'] = fcd_dt['taz_index']*288+fcd_dt['time_5_new'] \n",
    "\n",
    "    fcd_val = check_fcd_dt(fcd_val)\n",
    "    input_mx = np.zeros((len(np.unique(fcd_val['reids'])),\n",
    "                         len(np.unique(fcd_val['time_5_new']))*len(np.unique(fcd_val['taz_index']))))\n",
    "   # print(input_mx.shape)\n",
    "    \n",
    "    vals = fcd_val[sim_col].values\n",
    "    rows = fcd_val['id_index'].values\n",
    "    cols = fcd_val['ts_index'].values\n",
    "    for i in range(len(vals)):\n",
    "        input_mx[rows[i], cols[i]] = vals[i]        \n",
    "    return(input_mx)\n",
    "\n",
    "def fit_dt01(fcd_dt, sim_col, k_val): \n",
    "    sim_dt = getinput_mx(fcd_dt, sim_col)\n",
    "    #predict data based on time\n",
    "    #for 0 and 1\n",
    "    model = NMF(n_components=k_val, init='random', \n",
    "                random_state=0, solver='cd', \n",
    "                beta_loss='binary_reconstruction')\n",
    "    \n",
    "    W = model.fit_transform(sim_dt)\n",
    "    H = model.components_\n",
    "    return(np.dot(W, H))\n",
    "\n",
    "def fit_dtbytime_stay01(fcd_dt, sim_col, time_interval, k_val, save_name):\n",
    "    fcd_val = fcd_dt[fcd_dt[sim_col] == 1]\n",
    "    num_taz = len(np.unique(fcd_dt['taz_index']))\n",
    "    num_time = len(np.unique(fcd_dt['time_5_new']))\n",
    "    sim_dt = getinput_mx(fcd_dt, sim_col)\n",
    "    \n",
    "    time_dict = sep_indexdetime(num_taz, num_time, time_interval)\n",
    "    for ky in time_dict:\n",
    "        #print(ky)\n",
    "        input_dt = sim_dt[:, time_dict[ky]]\n",
    "        model = NMF(n_components=k_val, init='random', \n",
    "                    random_state=0, solver='cd', \n",
    "                    beta_loss='binary_reconstruction')\n",
    "        W = model.fit_transform(sim_dt)\n",
    "        H = model.components_\n",
    "        WH = np.dot(W, H)\n",
    "        WH_max, WH_index = get_pred_dt_time(WH, 288)\n",
    "        pd.DataFrame(WH_max).to_csv('WH_max_stay_'+ky+'_'+save_name+'.csv')\n",
    "        pd.DataFrame(WH_index).to_csv('WH_index_stay_'+ky+'_'+save_name+'.csv')\n",
    "    print('predtion based on time done')\n",
    "\n",
    "def fit_dt(fcd_dt, sim_col, k_val): \n",
    "    sim_dt = getinput_mx(fcd_dt, sim_col)\n",
    "    #predict data based on time\n",
    "    #for 0 and 1\n",
    "    model = NMF(n_components=k_val, init='random', random_state=0)\n",
    "    \n",
    "    W = model.fit_transform(sim_dt)\n",
    "    H = model.components_\n",
    "    return(np.dot(W, H))\n",
    "\n",
    "def fit_dtbytime_stay(fcd_dt, sim_col, time_interval, k_val, save_name):\n",
    "    fcd_val = fcd_dt[fcd_dt[sim_col] == 1]\n",
    "    num_taz = len(np.unique(fcd_dt['taz_index']))\n",
    "    num_time = len(np.unique(fcd_dt['time_5_new']))\n",
    "    sim_dt = getinput_mx(fcd_dt, sim_col)\n",
    "    \n",
    "    time_dict = sep_indexdetime(num_taz, num_time, time_interval)\n",
    "    for ky in time_dict:\n",
    "        #print(ky)\n",
    "        input_dt = sim_dt[:, time_dict[ky]]\n",
    "        model = NMF(n_components=k_val, init='random', random_state=0)\n",
    "        W = model.fit_transform(sim_dt)\n",
    "        H = model.components_\n",
    "        WH = np.dot(W, H)\n",
    "        WH_max, WH_index = get_pred_dt(WH, 288)\n",
    "        pd.DataFrame(WH_max).to_csv('WH_max_stay_'+ky+'_'+save_name+'.csv')\n",
    "        pd.DataFrame(WH_index).to_csv('WH_index_stay_'+ky+'_'+save_name+'.csv')\n",
    "    print('predtion based on time done')\n",
    "\n",
    "#get time loc\n",
    "#time_interval = 288\n",
    "#num_taz = int(WH_ts.shape[1]/time_interval)\n",
    "\n",
    "def get_timeloc(num_taz, time_interval, t):\n",
    "    select_time_loc = []\n",
    "    for i in range(num_taz):\n",
    "        select_time_loc.append(time_interval*i+t)\n",
    "    return(select_time_loc)\n",
    "\n",
    "def get_pred_timedict(num_taz, time_interval):\n",
    "    pred_time_loc = {}\n",
    "    for t in range(time_interval):\n",
    "        select_time_loc = get_timeloc(num_taz, time_interval, t)\n",
    "        pred_time_loc[t] = select_time_loc\n",
    "    return(pred_time_loc)\n",
    "\n",
    "def get_maxvalnindex(WHpert):\n",
    "    max_val = np.max(WHpert, axis=1)\n",
    "    max_index = np.argmax(WHpert, axis=1)\n",
    "    return(max_val, max_index)\n",
    "\n",
    "\n",
    "def get_pred_dt_time(WH_pred, time_interval):\n",
    "    num_taz = int(WH_pred.shape[1]/time_interval)\n",
    "    print('num taz', num_taz)\n",
    "    pred_time_dic = get_pred_timedict(num_taz, time_interval)\n",
    "    for t in pred_time_dic:\n",
    "        pred_val = WH_pred[:, pred_time_dic[t]]\n",
    "        if t == 0:\n",
    "            max_val, max_index = get_maxvalnindex(pred_val)\n",
    "        else:\n",
    "            max_val_cur, max_index_cur = get_maxvalnindex(pred_val)\n",
    "            max_val = np.vstack((max_val, max_val_cur))\n",
    "            max_index = np.vstack((max_index, max_index_cur))\n",
    "    return(max_val.T, max_index.T)  \n",
    "\n",
    "def get_pred_timedict(num_taz, time_interval):\n",
    "    pred_time_loc = {}\n",
    "    for t in range(time_interval):\n",
    "        select_time_loc = get_timeloc(num_taz, time_interval, t)\n",
    "        pred_time_loc[t] = select_time_loc\n",
    "    return(pred_time_loc)\n",
    "\n",
    "def convert_timedic2mx(time_dict):\n",
    "    #dataDict = {'device1':(1,1,0,1), 'device2':(0,1,0,1), 'device3':(1,0,0,1)}\n",
    "    #orderedNames = ['device1','device2','device3']\n",
    "    times = list(time_dict.keys())\n",
    "    dataMatrix = np.array([time_dict[i] for i in times])\n",
    "    return(dataMatrix)\n",
    "\n",
    "def get_missing_rate(time_index_mx, input_mx_indi):\n",
    "    indi_m = input_mx_indi[time_index_mx]\n",
    "    return(np.count_nonzero(np.sum(indi_m,axis=1))/(indi_m.shape[0]))\n",
    "\n",
    "def check_missings(fcd_dt, sim_col, time_interval, plot_idx=True):\n",
    "    input_mx = getinput_mx(fcd_dt, sim_col)\n",
    "    num_taz = int(input_mx.shape[1]/time_interval)\n",
    "    #print('num taz', num_taz)\n",
    "    time_dic = get_pred_timedict(num_taz, time_interval)\n",
    "    time_mx = convert_timedic2mx(time_dic)\n",
    "    missing_rate = []\n",
    "    for i in range(input_mx.shape[0]):\n",
    "        missing_rate.append(get_missing_rate(time_mx, input_mx[i,]))\n",
    "        #print(missing_rate)\n",
    "    if plot_idx == True:\n",
    "        plt.hist(missing_rate)\n",
    "        plt.title('hist of non-missing rate')\n",
    "        plt.xlabel('non-missing rate')\n",
    "        plt.ylabel('# of ids')\n",
    "        print(max(missing_rate))\n",
    "        print(min(missing_rate))\n",
    "    return(np.array(missing_rate))"
   ]
  },
  {
   "cell_type": "code",
   "execution_count": 7,
   "metadata": {},
   "outputs": [],
   "source": [
    "input_path = 'G:/My Drive/2021/Bias/SUMO_simulation/appsim/'\n",
    "os.chdir(input_path)"
   ]
  },
  {
   "cell_type": "code",
   "execution_count": 8,
   "metadata": {},
   "outputs": [],
   "source": [
    "#fcd_dt = pd.read_csv('fcd_dt_ht_with_stay_Seadt.csv', index_col=0)\n",
    "#fcd_dt = pd.read_csv('fcd_dt_all_with_stay_Seadt.csv', index_col=0)\n",
    "\n",
    "fcd_dt = pd.read_csv('fcd_dt_ht_with_stay_Seadt.csv', index_col=0)\n",
    "#fcd_dt = pd.read_csv('fcd_dt_all_with_stay_Seadt.csv', index_col=0)\n",
    "fcd_dt = check_fcd_dt(fcd_dt)\n",
    "fcd_dt['all'] = 1\n",
    "\n",
    "#conduct missingness simulation\n",
    "#based on time variation (manipulated)\n",
    "'''original time = [0.18410042, 0.08786611, 0.15899582, 0.12552301, 0.12552301,\n",
    "       0.09623431, 0.09205021, 0.10041841, 0.09205021, 0.11297071,\n",
    "       0.07112971, 0.12552301, 0.12133891, 0.09205021, 0.09205021,\n",
    "       0.09623431, 0.09205021, 0.07949791, 0.07531381, 0.07112971,\n",
    "       0.05439331, 0.09623431, 0.06694561, 0.09623431, 0.06276151,\n",
    "       0.06694561, 0.12552301, 0.07531381, 0.08368201, 0.09623431,\n",
    "       0.10460251, 0.11297071, 0.12133891, 0.09205021, 0.11715481,\n",
    "       0.08786611, 0.10041841, 0.10878661, 0.07531381, 0.10878661,\n",
    "       0.09205021, 0.07112971, 0.12133891, 0.07531381, 0.05857741,\n",
    "       0.05020921, 0.09205021, 0.06276151, 0.12133891, 0.11715481,\n",
    "       0.09623431, 0.07112971, 0.10041841, 0.07949791, 0.07949791,\n",
    "       0.08368201, 0.11715481, 0.11297071, 0.10460251, 0.14644351,\n",
    "       0.12552301, 0.08786611, 0.08368201, 0.12970711, 0.13389121,\n",
    "       0.09205021, 0.11715481, 0.12970711, 0.11297071, 0.22175732,\n",
    "       0.22175732, 0.21338912, 0.17573222, 0.22175732, 0.23849372,\n",
    "       0.27196653, 0.32635983, 0.32635983, 0.34309623, 0.34728033,\n",
    "       0.30125523, 0.38075314, 0.35146444, 0.37238494, 0.38493724,\n",
    "       0.35564854, 0.43514644, 0.44769874, 0.56903766, 0.51882845,\n",
    "       0.55230126, 0.52301255, 0.60251046, 0.68200837, 0.64435146,\n",
    "       0.68200837, 0.68619247, 0.75313808, 0.76150628, 0.71966527,\n",
    "       0.84100418, 0.74058577, 0.84518828, 0.82426778, 0.74476987,\n",
    "       0.79079498, 0.66945607, 0.70711297, 0.84937238, 0.78242678,\n",
    "       0.70711297, 0.82008368, 0.74895397, 0.70292887, 0.70292887,\n",
    "       0.78661088, 0.64016736, 0.81589958, 0.69456067, 0.68619247,\n",
    "       0.68619247, 0.73640167, 0.59414226, 0.67364017, 0.64853556,\n",
    "       0.68619247, 0.72384937, 0.60669456, 0.62343096, 0.73221757,\n",
    "       0.72803347, 0.61506276, 0.72803347, 0.67364017, 0.66108787,\n",
    "       0.56066946, 0.71548117, 0.66527197, 0.64435146, 0.74895397,\n",
    "       0.76569038, 0.74058577, 0.68619247, 0.78242678, 0.74895397,\n",
    "       0.79916318, 0.75313808, 0.73640167, 0.92050209, 0.89958159,\n",
    "       0.88702929, 0.80753138, 0.83682008, 0.73221757, 0.76150628,\n",
    "       0.76569038, 0.79497908, 0.69456067, 0.90794979, 0.73221757,\n",
    "       0.76569038, 0.73640167, 0.75313808, 0.74058577, 0.64016736,\n",
    "       0.84100418, 0.69456067, 0.66527197, 0.85355649, 0.70292887,\n",
    "       0.78661088, 0.66108787, 0.67782427, 0.71129707, 0.66527197,\n",
    "       0.75732218, 0.74058577, 0.77405858, 0.62343096, 0.62343096,\n",
    "       0.77824268, 0.66527197, 0.84100418, 0.70711297, 0.78242678,\n",
    "       0.76150628, 0.72803347, 0.71548117, 0.69456067, 0.79079498,\n",
    "       0.61924686, 0.67364017, 0.72384937, 0.84100418, 0.80334728,\n",
    "       0.76569038, 0.81171548, 0.76987448, 0.79079498, 0.88284519,\n",
    "       0.82845188, 0.81589958, 0.85355649, 0.83263598, 0.77824268,\n",
    "       0.87029289, 0.73640167, 1.        , 0.87029289, 0.75732218,\n",
    "       0.82845188, 0.83263598, 0.87866109, 0.71548117, 0.86610879,\n",
    "       0.80753138, 0.76569038, 0.56903766, 0.64853556, 0.75732218,\n",
    "       0.67364017, 0.52301255, 0.50627615, 0.53138075, 0.53974895,\n",
    "       0.60251046, 0.50209205, 0.48535565, 0.49790795, 0.41841004,\n",
    "       0.42259414, 0.40167364, 0.37656904, 0.37656904, 0.42677824,\n",
    "       0.40585774, 0.35146444, 0.33054393, 0.33054393, 0.31380753,\n",
    "       0.32635983, 0.29288703, 0.27615063, 0.31380753, 0.32217573,\n",
    "       0.30962343, 0.29288703, 0.31799163, 0.22175732, 0.29707113,\n",
    "       0.28033473, 0.32635983, 0.29707113, 0.28870293, 0.28451883,\n",
    "       0.22175732, 0.20083682, 0.26359833, 0.25941423, 0.23430962,\n",
    "       0.27196653, 0.21757322, 0.20502092, 0.25104603, 0.23430962,\n",
    "       0.14644351, 0.22175732, 0.12970711, 0.25104603, 0.15062762,\n",
    "       0.23430962, 0.17991632, 0.17991632, 0.24267782, 0.16317992,\n",
    "       0.19665272, 0.17573222, 0.21338912, 0.18410042, 0.10878661,\n",
    "       0.10460251, 0.11715481, 0.12133891, 0.18410042, 0.13389121,\n",
    "       0.12133891, 0.10460251, 0.10460251]'''\n",
    "#current time_per = \n",
    "#time_per_manip = time_per.copy()\n",
    "#time_per_manip[np.where(time_per>0.9)] = 1\n",
    "#time_per_manip[np.where(time_per<0.9)] += 0.1 \n",
    "time_per_manip=[0.28410042, 0.18786611, 0.25899582, 0.22552301, 0.22552301,\n",
    "       0.19623431, 0.19205021, 0.20041841, 0.19205021, 0.21297071,\n",
    "       0.17112971, 0.22552301, 0.22133891, 0.19205021, 0.19205021,\n",
    "       0.19623431, 0.19205021, 0.17949791, 0.17531381, 0.17112971,\n",
    "       0.15439331, 0.19623431, 0.16694561, 0.19623431, 0.16276151,\n",
    "       0.16694561, 0.22552301, 0.17531381, 0.18368201, 0.19623431,\n",
    "       0.20460251, 0.21297071, 0.22133891, 0.19205021, 0.21715481,\n",
    "       0.18786611, 0.20041841, 0.20878661, 0.17531381, 0.20878661,\n",
    "       0.19205021, 0.17112971, 0.22133891, 0.17531381, 0.15857741,\n",
    "       0.15020921, 0.19205021, 0.16276151, 0.22133891, 0.21715481,\n",
    "       0.19623431, 0.17112971, 0.20041841, 0.17949791, 0.17949791,\n",
    "       0.18368201, 0.21715481, 0.21297071, 0.20460251, 0.24644351,\n",
    "       0.22552301, 0.18786611, 0.18368201, 0.22970711, 0.23389121,\n",
    "       0.19205021, 0.21715481, 0.22970711, 0.21297071, 0.32175732,\n",
    "       0.32175732, 0.31338912, 0.27573222, 0.32175732, 0.33849372,\n",
    "       0.37196653, 0.42635983, 0.42635983, 0.44309623, 0.44728033,\n",
    "       0.40125523, 0.48075314, 0.45146444, 0.47238494, 0.48493724,\n",
    "       0.45564854, 0.53514644, 0.54769874, 0.66903766, 0.61882845,\n",
    "       0.65230126, 0.62301255, 0.70251046, 0.78200837, 0.74435146,\n",
    "       0.78200837, 0.78619247, 0.85313808, 0.86150628, 0.81966527,\n",
    "       0.94100418, 0.84058577, 0.94518828, 0.92426778, 0.84476987,\n",
    "       0.89079498, 0.76945607, 0.80711297, 0.94937238, 0.88242678,\n",
    "       0.80711297, 0.92008368, 0.84895397, 0.80292887, 0.80292887,\n",
    "       0.88661088, 0.74016736, 0.91589958, 0.79456067, 0.78619247,\n",
    "       0.78619247, 0.83640167, 0.69414226, 0.77364017, 0.74853556,\n",
    "       0.78619247, 0.82384937, 0.70669456, 0.72343096, 0.83221757,\n",
    "       0.82803347, 0.71506276, 0.82803347, 0.77364017, 0.76108787,\n",
    "       0.66066946, 0.81548117, 0.76527197, 0.74435146, 0.84895397,\n",
    "       0.86569038, 0.84058577, 0.78619247, 0.88242678, 0.84895397,\n",
    "       0.89916318, 0.85313808, 0.83640167, 1.        , 0.99958159,\n",
    "       0.98702929, 0.90753138, 0.93682008, 0.83221757, 0.86150628,\n",
    "       0.86569038, 0.89497908, 0.79456067, 1.        , 0.83221757,\n",
    "       0.86569038, 0.83640167, 0.85313808, 0.84058577, 0.74016736,\n",
    "       0.94100418, 0.79456067, 0.76527197, 0.95355649, 0.80292887,\n",
    "       0.88661088, 0.76108787, 0.77782427, 0.81129707, 0.76527197,\n",
    "       0.85732218, 0.84058577, 0.87405858, 0.72343096, 0.72343096,\n",
    "       0.87824268, 0.76527197, 0.94100418, 0.80711297, 0.88242678,\n",
    "       0.86150628, 0.82803347, 0.81548117, 0.79456067, 0.89079498,\n",
    "       0.71924686, 0.77364017, 0.82384937, 0.94100418, 0.90334728,\n",
    "       0.86569038, 0.91171548, 0.86987448, 0.89079498, 0.98284519,\n",
    "       0.92845188, 0.91589958, 0.95355649, 0.93263598, 0.87824268,\n",
    "       0.97029289, 0.83640167, 1.        , 0.97029289, 0.85732218,\n",
    "       0.92845188, 0.93263598, 0.97866109, 0.81548117, 0.96610879,\n",
    "       0.90753138, 0.86569038, 0.66903766, 0.74853556, 0.85732218,\n",
    "       0.77364017, 0.62301255, 0.60627615, 0.63138075, 0.63974895,\n",
    "       0.70251046, 0.60209205, 0.58535565, 0.59790795, 0.51841004,\n",
    "       0.52259414, 0.50167364, 0.47656904, 0.47656904, 0.52677824,\n",
    "       0.50585774, 0.45146444, 0.43054393, 0.43054393, 0.41380753,\n",
    "       0.42635983, 0.39288703, 0.37615063, 0.41380753, 0.42217573,\n",
    "       0.40962343, 0.39288703, 0.41799163, 0.32175732, 0.39707113,\n",
    "       0.38033473, 0.42635983, 0.39707113, 0.38870293, 0.38451883,\n",
    "       0.32175732, 0.30083682, 0.36359833, 0.35941423, 0.33430962,\n",
    "       0.37196653, 0.31757322, 0.30502092, 0.35104603, 0.33430962,\n",
    "       0.24644351, 0.32175732, 0.22970711, 0.35104603, 0.25062762,\n",
    "       0.33430962, 0.27991632, 0.27991632, 0.34267782, 0.26317992,\n",
    "       0.29665272, 0.27573222, 0.31338912, 0.28410042, 0.20878661,\n",
    "       0.20460251, 0.21715481, 0.22133891, 0.28410042, 0.23389121,\n",
    "       0.22133891, 0.20460251, 0.20460251]\n",
    "\n",
    "def get_bernoulli_sample(prob):\n",
    "    return(np.random.binomial(1, prob, 1)[0])\n",
    "\n",
    "def sim_based_t(fcd_dt, time_per, colname):\n",
    "    get_time_sim = lambda x: get_bernoulli_sample(time_per[x])\n",
    "    fcd_dt[colname] = fcd_dt['time_5_new'].apply(get_time_sim)\n",
    "    return(fcd_dt)\n",
    "\n",
    "fcd_dt = sim_based_t(fcd_dt, time_per_manip, 'sim_t2')"
   ]
  },
  {
   "cell_type": "markdown",
   "metadata": {},
   "source": [
    "### collaborative filtering \n",
    "\n",
    "One important thing to keep in mind is that in an approach based purely on collaborative filtering, the similarity is not calculated using factors like the age of users, genre of the movie, or any other data about users or items. It is calculated only on the basis of the rating (explicit or implicit) a user gives to an item. For example, two users can be considered similar if they give the same ratings to ten movies despite there being a big difference in their age.\n",
    "\n",
    "Source: https://realpython.com/build-recommendation-engine-collaborative-filtering/"
   ]
  },
  {
   "cell_type": "code",
   "execution_count": 5,
   "metadata": {},
   "outputs": [],
   "source": [
    "#example of NMF\n",
    "X = np.array([[1, 1], [2, 1], [3, 1.2], [4, 1], [5, 0.8], [6, 1]])\n",
    "model = NMF(n_components=2, init='random', random_state=0)\n",
    "W = model.fit_transform(X)\n",
    "H = model.components_"
   ]
  },
  {
   "cell_type": "markdown",
   "metadata": {},
   "source": [
    "#### functions for CF method"
   ]
  },
  {
   "cell_type": "code",
   "execution_count": 4,
   "metadata": {},
   "outputs": [],
   "source": [
    "def CF(test_dt, num_of_latent_factors, scaled):\n",
    "    #use matrice without the id index\n",
    "    test_sparse_matrix = csr_matrix(test_dt[:, 1:])\n",
    "    #The number of factors to factor the user-item matrix.\n",
    "    #Performs matrix factorization of the original user item matrix\n",
    "    U, sigma, Vt = svds(test_sparse_matrix, k = num_of_latent_factors)\n",
    "    sigma = np.diag(sigma)\n",
    "    predicted = np.dot(np.dot(U, sigma), Vt)\n",
    "    if scaled==True:\n",
    "        predicted_norm = ((predicted - predicted.min())/(predicted.max()-predicted.min()))*5\n",
    "        return(predicted_norm)\n",
    "    else:\n",
    "        return(predicted)\n",
    "    \n",
    "def cal_rmse(test_dt, pred_dt, single_id = False, withids=True):\n",
    "    if single_id == True:\n",
    "        if withids == False:\n",
    "            return(mean_squared_error(test_dt, pred_dt, squared=False))\n",
    "        else:\n",
    "            return(mean_squared_error(test_dt[1:], pred_dt, squared=False))\n",
    "    elif withids == False:\n",
    "        return(mean_squared_error(test_dt, pred_dt, squared=False))\n",
    "    else:\n",
    "        return(mean_squared_error(test_dt[:, 1:], pred_dt, squared=False))\n",
    "    \n",
    "def cal_mae(test_dt, pred_dt, withids=False, single_id = False):\n",
    "    if single_id == True:\n",
    "        if withids == False:\n",
    "            return(mae(test_dt, pred_dt))\n",
    "        else:\n",
    "            return(mae(test_dt[1:], pred_dt))\n",
    "    elif withids == False:\n",
    "        return(mae(test_dt, pred_dt))\n",
    "    else:\n",
    "        return(mae(test_dt[:, 1:], pred_dt))\n",
    "\n",
    "def cal_r2(test_dt, pred_dt, single_id = False):\n",
    "    if single_id == True:\n",
    "        return(r2_score(test_dt[1:], pred_dt))\n",
    "    else:\n",
    "        return(r2_score(test_dt[:, 1:], pred_dt))\n",
    "    \n",
    "\n",
    "def get_best_svd(test_matrix, scaled=True):\n",
    "    rmse_result = []\n",
    "    #test_lf=test latent factors\n",
    "    test_lf = list(range(2, 101))\n",
    "    best_lf_rmse = 0\n",
    "    test_rmse = 1\n",
    "    best_pred_dt_rmse = 0\n",
    "    rmse_dict = {}\n",
    "    for num_lf in test_lf:\n",
    "        pred_dt = CF(test_matrix, num_lf, scaled)\n",
    "        rmse = cal_rmse(test_matrix, pred_dt)\n",
    "        rmse_dict[num_lf] = rmse\n",
    "        if rmse < test_rmse:\n",
    "            test_rmse = rmse\n",
    "            best_lf_rmse = num_lf\n",
    "            best_pred_dt_rmse = pred_dt\n",
    "            \n",
    "    #rmse_result.append(rmse)\n",
    "    print('based on rmse', test_rmse, best_lf_rmse)\n",
    "    return(best_pred_dt_rmse, best_lf_rmse, rmse_dict)\n",
    "\n",
    "def NMF_est(test_matrix, num_lf, reg_l, a):\n",
    "    #use nndsvd for sparseness\n",
    "    model = NMF(n_components=num_lf, init='nndsvd', max_iter=1000, l1_ratio=reg_l, alpha=a)\n",
    "    W = model.fit_transform(test_matrix[:, 1:])\n",
    "    H = model.components_\n",
    "    return(np.matmul(W, H))      \n",
    "\n",
    "#example of NMF\n",
    "def NMF_est_with_zeros(test_matrix, num_lf, reg_l, a, Zero_index):\n",
    "    #start = time.time()\n",
    "    model = NMF(n_components=num_lf, init='nndsvd', max_iter=5000, l1_ratio=reg_l, alpha=a)\n",
    "    W = model.fit_transform(test_matrix[:, 1:])\n",
    "    H = model.components_\n",
    "    WH = np.dot(W, H)\n",
    "    Zero_est = np.multiply(WH, Zero_index)\n",
    "    Zeros = np.zeros(WH.shape) \n",
    "    Zeros_diff = Zero_est - Zeros\n",
    "    zero_val = np.linalg.norm(Zeros_diff)\n",
    "    return(WH, zero_val)\n",
    "    \n",
    "def get_best_NMF(test_matrix):\n",
    "    #test\n",
    "    test_lf = list(range(2, 19))\n",
    "    l1 = np.round(0.05*np.array(list(range(20))),2)\n",
    "    alpha_para = np.round(0.05*np.array(list(range(20))),2)\n",
    "    best_lf_rmse = 0\n",
    "    best_lf_mae = 0\n",
    "    test_rmse = 1\n",
    "    test_mae = 1\n",
    "    \n",
    "    best_pred_dt_rmse = 0\n",
    "    best_pred_dt_mae = 0\n",
    "    best_regl_rmse = 0\n",
    "    best_regl_mae = 0\n",
    "    \n",
    "    best_alpha_rmse = 0\n",
    "    best_alpha_mae = 0\n",
    "    rmse_dict = {}\n",
    "    mae_dict = {}\n",
    "    for num_lf in test_lf:\n",
    "        for reg_l in l1:\n",
    "            for a in alpha_para:\n",
    "                pred_dt = NMF_est(test_matrix, num_lf, reg_l, a)\n",
    "                rmse = cal_rmse(test_matrix, pred_dt)\n",
    "                rmse_dict['k='+str(num_lf)+', lambda='+str(reg_l)+', alpha='+str(a)] = round(rmse,9)\n",
    "                mae_ = cal_mae(test_matrix, pred_dt)\n",
    "                mae_dict['k='+str(num_lf)+', lambda='+str(reg_l)+', alpha='+str(a)] = round(mae_,9)\n",
    "                if rmse < test_rmse:\n",
    "                    test_rmse = rmse\n",
    "                    best_lf_rmse = num_lf\n",
    "                    best_pred_dt_rmse = pred_dt\n",
    "                    best_regl_rmse = reg_l\n",
    "                    best_alpha_rmse = a\n",
    "                if mae_ < test_mae:\n",
    "                    test_mae = mae_\n",
    "                    best_lf_mae = num_lf\n",
    "                    best_regl_mae = reg_l\n",
    "                    best_pred_dt_mae = pred_dt  \n",
    "                    best_alpha_mae = a\n",
    "            \n",
    "        #rmse_result.append(rmse)\n",
    "    print('based on rmse: '+'best val='+str(round(test_rmse,9))+', best k='+str(best_lf_rmse)+', best lambda='+str(best_regl_rmse)+', best alpha='+str(best_alpha_rmse))\n",
    "    print('based on mae: '+'best val='+str(round(test_mae,9))+', best k='+str(best_lf_mae)+', best lambda='+str(best_regl_mae)+', best alpha='+str(best_alpha_mae))\n",
    "    return(best_pred_dt_rmse, best_pred_dt_mae, rmse_dict, mae_dict)\n",
    "\n",
    "def get_best_NMFwzero(test_matrix, Zero_index):\n",
    "    #test\n",
    "    test_lf = list(range(2, 19))\n",
    "    l1 = np.round(0.1*np.array(list(range(10))),2)\n",
    "    alpha_para = np.round(0.1*np.array(list(range(10))),2)\n",
    "    zero_w = [0.1, 0.3, 0.5]\n",
    "    #best_lf_rmse = 0\n",
    "    #test_rmse = 100\n",
    "    #best_pred_dt_rmse = 0\n",
    "    #best_regl_rmse = 0\n",
    "    #best_alpha_rmse = 0\n",
    "    rmse_dict = {}\n",
    "    zero_score = {}\n",
    "    rmse_w0 = {}\n",
    "    \n",
    "    #best_lf_mae = 0\n",
    "    #test_mae = 100\n",
    "    #best_pred_dt_mae = 0\n",
    "    #best_regl_mae = 0\n",
    "    #best_alpha_mae = 0\n",
    "    mae_dict = {}\n",
    "    mae_w0 = {}\n",
    "    \n",
    "    for num_lf in test_lf:\n",
    "        for reg_l in l1:\n",
    "            for a in alpha_para:\n",
    "                dict_keys = 'k='+str(num_lf)+', lambda='+str(reg_l)+', alpha='+str(a)\n",
    "                start = time.time()\n",
    "                pred_dt, zero_constriant = NMF_est_with_zeros(test_matrix, num_lf, reg_l, a, Zero_index)\n",
    "                end = time.time()\n",
    "                print(dict_keys)\n",
    "                print(f'running time={end-start}')\n",
    "\n",
    "                rmse_dict[dict_keys]= round(cal_rmse(test_matrix, pred_dt),9)\n",
    "                mae_dict[dict_keys] = round(cal_mae(test_matrix, pred_dt),9)\n",
    "                for w0 in zero_w:\n",
    "                    dict_keys_0 = dict_keys+', w0='+str(w0)\n",
    "                    zero_score[dict_keys_0] = w0*zero_constriant\n",
    "                    rmse_w0[dict_keys_0] = rmse_dict[dict_keys]+zero_score[dict_keys_0]\n",
    "                    mae_w0[dict_keys_0] = mae_dict[dict_keys]+zero_score[dict_keys_0]\n",
    "    #            if rmse < test_rmse:\n",
    "    #                test_rmse = rmse\n",
    "    #                best_lf_rmse = num_lf\n",
    "    #                best_pred_dt_rmse = pred_dt\n",
    "    #                best_regl_rmse = reg_l\n",
    "    #                best_alpha_rmse = a\n",
    "    #            if mae < test_mae:\n",
    "    #                test_mae = mae\n",
    "    #                best_lf_mae = num_lf\n",
    "    #                best_regl_mae = reg_l\n",
    "    #                best_pred_dt_mae = pred_dt\n",
    "    #                best_alpha_mae = a\n",
    "            \n",
    "        #rmse_result.append(rmse)\n",
    "    #print('based on rmse: '+'best val='+str(round(test_rmse,9))+', best k='+str(best_lf_rmse)+', best lambda='+str(best_regl_rmse)+', best alpha='+str(best_alpha_rmse))\n",
    "    #print('based on mae: '+'best val='+str(round(test_mae,9))+', best k='+str(best_lf_mae)+', best lambda='+str(best_regl_mae)+', best alpha='+str(best_alpha_mae))\n",
    "    return(rmse_dict, zero_score, mae_dict, rmse_w0, mae_w0)\n",
    "\n",
    "\n",
    "#post data processing\n",
    "#Functions\n",
    "#for the ods at the same location\n",
    "#the other location at the same time should be 0\n",
    "#time_diff <= 10 min\n",
    "\n",
    "#for the ods at different location\n",
    "#the other location which not belongs to the route or neatby od should be 0\n",
    "#time_diff <= 20 min\n",
    "\n",
    "#get 0 value\n",
    "\n",
    "#besides,if appears in one place already, the location will not appear in the other census tract\n",
    "def extract_od(dt, sameod = True):\n",
    "    if sameod == True:\n",
    "        test_dt = dt[(dt['od_euqal']==1) & (dt['time_diff']<=10)]\n",
    "    else:\n",
    "        test_dt = dt[(dt['od_euqal']==0) & (dt['time_diff']<=20)]\n",
    "    return(test_dt)\n",
    "\n",
    "def convert2stid(hr, minut_5, census):\n",
    "    return(str(census)+'_'+str(hr)+'_'+str(minut_5))\n",
    "\n",
    "def process_dt4convert(shr, ehr, smin, emin):\n",
    "    if ehr-shr<0:\n",
    "        print('data error')\n",
    "        return(None)\n",
    "    if ehr-shr == 0:\n",
    "        if emin-smin == 0:\n",
    "            return([shr], [smin])\n",
    "        elif emin-smin <0:\n",
    "            print('data error')\n",
    "            return(None)\n",
    "        else:\n",
    "            interval = int((emin-smin)/5)\n",
    "            min_lst = [smin]\n",
    "            hr_lst = [shr]\n",
    "            if interval > 1:\n",
    "                for i in range(interval):\n",
    "                    min_lst.append(int(smin+5*(i+1)))\n",
    "                    hr_lst.append(shr)\n",
    "            else:\n",
    "                min_lst.append(emin)\n",
    "                hr_lst.append(shr)\n",
    "            return(hr_lst, min_lst)\n",
    "    else:\n",
    "        if emin+60-smin == 0:\n",
    "            return([shr], [smin]) \n",
    "        else:\n",
    "            interval = int((emin+60-smin)/5)    \n",
    "            hr_lst = [shr]\n",
    "            min_lst = [smin]\n",
    "            if interval > 1:\n",
    "                for i in range(interval):\n",
    "                    if smin+(i+1)*5 >= 60:\n",
    "                        min_lst.append(smin+(i+1)*5-60)\n",
    "                        hr_lst.append(ehr)\n",
    "                    else:\n",
    "                        min_lst.append(smin+(i+1)*5)\n",
    "                        hr_lst.append(shr)\n",
    "            else:             \n",
    "                min_lst.append(emin)\n",
    "                hr_lst.append(ehr)\n",
    "            return(hr_lst, min_lst) \n",
    "        \n",
    "def add_zero_loc(shr, ehr, s5min, e5min, nocrossedcts, zero_loclst):\n",
    "    for i in range(len(shr)):\n",
    "        hr, minut = process_dt4convert(shr[i], ehr[i], s5min[i], e5min[i])\n",
    "        for j in nocrossedcts[i]:\n",
    "            for k in range(len(hr)):\n",
    "                loc_timeids = convert2stid(hr[k], minut[k], j)\n",
    "                if loc_timeids not in zero_loclst:\n",
    "                    zero_loclst.append(loc_timeids)\n",
    "    return(zero_loclst)\n",
    "\n",
    "def get_nocrossed_stids(dt, zero_loc_time):\n",
    "    dt = dt.sort_values(by=['newid'])\n",
    "    newids = np.unique(dt['newid'])\n",
    "    \n",
    "    for ids in newids:\n",
    "        if ids not in zero_loc_time:\n",
    "            zero_loc_time[ids] = []\n",
    "        #get start and end hr\n",
    "        s_hr = list(dt['s_hr'][dt['newid']==ids].values)\n",
    "        e_hr = list(dt['e_hr'][dt['newid']==ids].values)\n",
    "        s_5min = list(dt['s_minut_5'][dt['newid']==ids].values)\n",
    "        e_5min = list(dt['e_minut_5'][dt['newid']==ids].values)\n",
    "        no_crossed_cts = list(dt['no_crossedcts'][dt['newid']==ids].values)\n",
    "        \n",
    "        zero_loc_time[ids] = add_zero_loc(s_hr, e_hr, s_5min, e_5min, no_crossed_cts, zero_loc_time[ids])\n",
    "    return(zero_loc_time)\n",
    "\n",
    "def getzero_info(dt):\n",
    "    zero_loc_time = {}\n",
    "    dt1 = extract_od(dt, sameod = True)\n",
    "    dt2 = extract_od(dt, sameod = False)\n",
    "    zero_loc_time = get_nocrossed_stids(dt1, zero_loc_time)\n",
    "    zero_loc_time = get_nocrossed_stids(dt2, zero_loc_time)\n",
    "    return(zero_loc_time)\n",
    "\n",
    "def get_revised_matrix(pred_matrix, zero_loc_time):\n",
    "    for ids in zero_loc_time:\n",
    "        for loct_time in zero_loc_time[ids]:\n",
    "            pred_matrix[newids_map[ids]][locts_map[loct_time]] = 0\n",
    "    return(pred_matrix)\n",
    "\n",
    "def convert_missingids(time_lst, ids, time_spatial_ids, location_ids):\n",
    "    for t in time_lst:\n",
    "        hr = (Seattle_latlon['hr'][(Seattle_latlon['newid']==ids) & (Seattle_latlon['timestamp']==t)]).values[0]\n",
    "        minut = (Seattle_latlon['minut_5'][(Seattle_latlon['newid']==ids) & (Seattle_latlon['timestamp']==t)]).values[0]\n",
    "        geoid = (Seattle_latlon[location_ids][(Seattle_latlon['newid']==ids) & (Seattle_latlon['timestamp']==t)]).values[0]\n",
    "        newgeo = (Seattle_latlon['new_geos'][(Seattle_latlon['newid']==ids) & (Seattle_latlon['timestamp']==t)]).values[0]\n",
    "        geos = list(np.unique([geoid, newgeo]))\n",
    "        if 0 in geos:\n",
    "            geos.remove(0)\n",
    "        #get no observed census_t\n",
    "        diff_ct = list(set(census_t) ^ set(geos))\n",
    "        for geo_id in diff_ct:\n",
    "            time_spatial_id = convert2stid(hr, minut, geo_id)\n",
    "            if time_spatial_id not in time_spatial_ids:\n",
    "                time_spatial_ids.append(time_spatial_id)\n",
    "    return(time_spatial_ids)"
   ]
  },
  {
   "cell_type": "markdown",
   "metadata": {},
   "source": [
    "#### Create zero index"
   ]
  },
  {
   "cell_type": "code",
   "execution_count": 14,
   "metadata": {},
   "outputs": [],
   "source": [
    "tazs_ = pd.read_csv('taz_with_ct_nb.csv')\n",
    "tazs_ = tazs_[['TAZ', 'Area', 'taz2010_revised_nb','taz2010_revised_nb_touch']]\n",
    "tazs_ = tazs_.drop_duplicates()"
   ]
  },
  {
   "cell_type": "code",
   "execution_count": 8,
   "metadata": {},
   "outputs": [
    {
     "name": "stdout",
     "output_type": "stream",
     "text": [
      "# of ids with shortest path:  5955\n",
      "# of identified ids:  7767\n",
      "# of missing ids without shortest path:  1812\n",
      "worst data accuracy:  200\n"
     ]
    },
    {
     "data": {
      "image/png": "[encoded data removed]",
      "text/plain": [
       "<Figure size 432x288 with 1 Axes>"
      ]
     },
     "metadata": {
      "needs_background": "light"
     },
     "output_type": "display_data"
    },
    {
     "data": {
      "image/png": "[encoded data removed]",
      "text/plain": [
       "<Figure size 432x288 with 1 Axes>"
      ]
     },
     "metadata": {
      "needs_background": "light"
     },
     "output_type": "display_data"
    }
   ],
   "source": [
    "#convert data with estimated shortest path info\n",
    "file_path = 'G:/My Drive/2021/Bias/census_tract_process/crossed_routes.csv'\n",
    "crossed_rt = pd.read_csv(file_path)\n",
    "\n",
    "get_hr = lambda x: datetime.fromtimestamp(x).hour\n",
    "get_minute = lambda x: datetime.fromtimestamp(x).minute\n",
    "crossed_rt['s_hr'] = crossed_rt['start_time'].apply(get_hr).values\n",
    "crossed_rt['e_hr'] = crossed_rt['end_time'].apply(get_hr).values\n",
    "crossed_rt['s_min'] = crossed_rt['start_time'].apply(get_minute).values\n",
    "crossed_rt['e_min'] = crossed_rt['end_time'].apply(get_minute).values\n",
    "\n",
    "to5min = lambda x: int(x/5)*5\n",
    "crossed_rt['s_minut_5'] = crossed_rt['s_min'].apply(to5min)\n",
    "crossed_rt['e_minut_5'] = crossed_rt['e_min'].apply(to5min)\n",
    "\n",
    "get_timeloct_id = lambda x: str(x)+'_'\n",
    "remove_last_symbol = lambda x: x[:-1]\n",
    "crossed_rt['ori_st'] = (crossed_rt['new_ori'].apply(get_timeloct_id)+\\\n",
    "crossed_rt['s_hr'].apply(get_timeloct_id)+\\\n",
    "crossed_rt['s_minut_5'].apply(get_timeloct_id)).apply(remove_last_symbol)\n",
    "\n",
    "crossed_rt['dest_st'] = (crossed_rt['new_dest'].apply(get_timeloct_id)+\\\n",
    "crossed_rt['e_hr'].apply(get_timeloct_id)+\\\n",
    "crossed_rt['e_minut_5'].apply(get_timeloct_id)).apply(remove_last_symbol)\n",
    "\n",
    "crossed_rt = crossed_rt[crossed_rt.columns[5:]]\n",
    "crossed_rt.columns\n",
    "\n",
    "\n",
    "### sparse svd\n",
    "#predsvd_rmse_s, lfsvd_rmse_s, rmse_svd_s = get_best_svd(test_matrice_scaled_reverse, False)\n",
    "#predsvd_rmse, lfsvd_rmse, rmse_svd = get_best_svd(test_matrice_reverse, False)\n",
    "\n",
    "#nmf_rmse_dict, nmf_zero_score, nmf_mae_dict, nmf_rmse_w0, nmf_mae_w0 = get_best_NMFwzero(test_matrice_reverse, Zero_index)\n",
    "\n",
    "\n",
    "#get neighborhood census tract info\n",
    "os.chdir('G:/My Drive/2021/Bias/census_tract_process')\n",
    "pathfile = 'G:/My Drive/2021/Bias/census_tract_process/'\n",
    "Seattle_ct = pd.read_csv(pathfile+'Seattle_ct.csv')\n",
    "Seattle_ct.columns\n",
    "Seattle_ct = Seattle_ct[['GEOID10','Nb_interse', 'nb_count', 'nb_touch', 'nb_bf_5', 'nb_bf10', \\\n",
    "                         'nb_bf100','nb_bf1mi','Area', 'Distance m','Distance_1', 'field_1', 'index']]\n",
    "\n",
    "#check time difference change for each individual\n",
    "newids = list(newids_map.keys())\n",
    "a = 0\n",
    "index = 0\n",
    "for ids in newids:\n",
    "    if a <= index:\n",
    "        test_dt = crossed_rt[['time_diff', 'travel_time','s_hr','e_hr','od_euqal']][crossed_rt['newid'] == ids]\n",
    "        test_dt = test_dt.sort_values(by=['time_diff'])\n",
    "        plt.figure(a)\n",
    "        x = list(test_dt['s_hr'].values)\n",
    "        y = list(test_dt['time_diff'].values)\n",
    "        plt.plot(x,y,'o')\n",
    "        plt.title('time difference between each time segement for ids = '+str(ids))\n",
    "        a += 1\n",
    "        \n",
    "test_dt = crossed_rt[['s_hr', 'time_diff', 'travel_time']][crossed_rt['od_euqal']==0].sort_values(by=['s_hr', 'time_diff'])\n",
    "plt.figure(0)\n",
    "plt.plot(list(test_dt['s_hr'].values), list(test_dt['time_diff'].values),'o')\n",
    "plt.title('time difference across day')\n",
    "plt.figure(1)\n",
    "plt.plot(list(test_dt['s_hr'].values), list(test_dt['travel_time'].values),'ro')\n",
    "plt.title('travel time across day (estimated based on shortest path)')\n",
    "\n",
    "#keep previous census tract\n",
    "ori_geo = crossed_rt['ori_geo'].values\n",
    "dest_geo = crossed_rt['dest_geo'].values\n",
    "no_crossed_ct = crossed_rt['no_crossed_ct'].values\n",
    "no_crossed_cts = []\n",
    "for i in range(len(ori_geo)):\n",
    "    no_crossed = no_crossed_ct[i].strip('[]').split(', ')\n",
    "    if str(ori_geo[i]) in no_crossed:\n",
    "        no_crossed.remove(str(ori_geo[i]))\n",
    "    if str(dest_geo[i]) in no_crossed:\n",
    "        no_crossed.remove(str(dest_geo[i]))\n",
    "    no_crossed_cts.append(no_crossed)\n",
    "\n",
    "del(ori_geo)\n",
    "del(dest_geo)\n",
    "del(no_crossed_ct)\n",
    "\n",
    "crossed_rt['no_crossedcts'] = no_crossed_cts\n",
    "crossed_rt = crossed_rt.sort_values(by=['newid','time_diff','s_hr'])\n",
    "\n",
    "\n",
    "#we found missing valeues after we processing the data\n",
    "#latlon_path = 'G:/My Drive/2021/Bias/data-processing/'\n",
    "Seattle_latlon = pd.read_csv('Seattle_latlon.csv', index_col=0)\n",
    "\n",
    "selected_colname = list(Seattle_latlon.columns)\n",
    "selected_colname.remove('Unnamed: 0.1')\n",
    "Seattle_latlon = Seattle_latlon[selected_colname]\n",
    "Seattle_latlon['minut_5'] = (Seattle_latlon['minut'].apply(to5min)).values\n",
    "#through the checking, it is found there are individuals missing after the shortest path algorithm\n",
    "ids_in_dt = list(np.unique(crossed_rt['newid']))\n",
    "diff = set(newids)^set(ids_in_dt)\n",
    "\n",
    "print('# of ids with shortest path: ', len(ids_in_dt))\n",
    "print('# of identified ids: ', len(newids_map.keys()))\n",
    "print('# of missing ids without shortest path: ', len(diff))\n",
    "\n",
    "#check the missed data in detail\n",
    "\n",
    "crossed_rt = crossed_rt.sort_values(by=['newid','start_time'])\n",
    "crossed_rt.reset_index(inplace=True)\n",
    "crossed_rt.head(3)\n",
    "\n",
    "newids = np.unique(crossed_rt['newid'])\n",
    "kept_data_start = {}\n",
    "kept_data_end = {}\n",
    "for ids in newids:\n",
    "    kept_data_start[ids] = list(crossed_rt['start_time'][crossed_rt['newid']==ids].values)\n",
    "    kept_data_end[ids] = list(crossed_rt['end_time'][crossed_rt['newid']==ids].values)\n",
    "    \n",
    "#get missing trips\n",
    "#missing ids with missing data\n",
    "newids = np.unique(crossed_rt['newid'])\n",
    "newids_all = list(newids_map.keys())\n",
    "missing_ids = {}\n",
    "for ids in newids_all:\n",
    "    missing_ids[ids] = []\n",
    "    time_data = list(Seattle_latlon['timestamp'][Seattle_latlon['newid']==ids].values)\n",
    "    if ids not in newids:\n",
    "        missing_ids[ids] = time_data\n",
    "    else:    \n",
    "        for time in time_data:\n",
    "            if time not in kept_data_end[ids] and time not in kept_data_start[ids]:\n",
    "                missing_ids[ids].append(time)\n",
    "                \n",
    "missing_pairs = {}\n",
    "for ids in newids:\n",
    "    missing_pairs[ids] = {'o':[],'d':[]}\n",
    "    cur_odpairs = crossed_rt[['start_time', 'end_time']][crossed_rt['newid']==ids].values\n",
    "    time_data = list(Seattle_latlon['timestamp'][Seattle_latlon['newid']==ids].values)\n",
    "    for i in range(len(time_data)):\n",
    "        if i < len(time_data)-1:\n",
    "            od_pairs = []\n",
    "            od_pairs.append(time_data[i]) \n",
    "            od_pairs.append(time_data[i+1])\n",
    "            if od_pairs not in cur_odpairs:\n",
    "                missing_pairs[ids]['o'].append(od_pairs[0])\n",
    "                missing_pairs[ids]['d'].append(od_pairs[1]) \n",
    "                \n",
    "                \n",
    "print('worst data accuracy: ', np.max(Seattle_latlon['accuracy']))\n",
    "\n",
    "census_t = list(np.unique(Seattle_latlon['GEOID10']))\n",
    "\n",
    "zero_loc_time = {}\n",
    "for ids in missing_ids:\n",
    "    if ids not in zero_loc_time:\n",
    "        zero_loc_time[ids] = []\n",
    "    zero_loc_time[ids] = convert_missingids(missing_ids[ids], ids, zero_loc_time[ids])\n",
    "    \n",
    "# create the zero index matrix\n",
    "Zero_index = np.zeros(test_matrice_reverse[:, 1:].shape)\n",
    "for row in zero_loc_time:\n",
    "    for col in zero_loc_time[row]:\n",
    "        Zero_index[newids_map[row]][locts_map[col]] = 1"
   ]
  },
  {
   "cell_type": "code",
   "execution_count": 5,
   "metadata": {},
   "outputs": [],
   "source": [
    "import numbers\n",
    "import scipy.sparse as sp\n",
    "import warnings\n",
    "from math import sqrt\n",
    "import time\n",
    "\n",
    "from sklearn.decomposition._cdnmf_fast import _update_cdnmf_fast #not able to be revised, visual studio version not matched\n",
    "from sklearn._config import config_context\n",
    "from sklearn.base import BaseEstimator, TransformerMixin\n",
    "from sklearn.exceptions import ConvergenceWarning\n",
    "from sklearn.utils import check_random_state, check_array\n",
    "from sklearn.utils.extmath import randomized_svd, safe_sparse_dot, squared_norm\n",
    "from sklearn.utils.validation import check_is_fitted, check_non_negative\n",
    "#code reference https://github.com/scikit-learn/scikit-learn/blob/7e1e6d09bcc2eaeba98f7e737aac2ac782f0e5f1/sklearn/decomposition/_nmf.py"
   ]
  },
  {
   "cell_type": "code",
   "execution_count": 2,
   "metadata": {},
   "outputs": [
    {
     "ename": "NameError",
     "evalue": "name 'TransformerMixin' is not defined",
     "output_type": "error",
     "traceback": [
      "\u001b[1;31m---------------------------------------------------------------------------\u001b[0m",
      "\u001b[1;31mNameError\u001b[0m                                 Traceback (most recent call last)",
      "Input \u001b[1;32mIn [2]\u001b[0m, in \u001b[0;36m<cell line: 974>\u001b[1;34m()\u001b[0m\n\u001b[0;32m    969\u001b[0m     mae_ \u001b[38;5;241m=\u001b[39m cal_mae(test, est, withids\u001b[38;5;241m=\u001b[39m\u001b[38;5;28;01mFalse\u001b[39;00m)\n\u001b[0;32m    971\u001b[0m     \u001b[38;5;28;01mreturn\u001b[39;00m(rmse_, mae_)  \n\u001b[1;32m--> 974\u001b[0m \u001b[38;5;28;01mclass\u001b[39;00m \u001b[38;5;21;01mNMF_w0\u001b[39;00m(\u001b[43mTransformerMixin\u001b[49m, BaseEstimator):\n\u001b[0;32m    975\u001b[0m     \u001b[38;5;124;03m\"\"\"Non-Negative Matrix Factorization (NMF).\u001b[39;00m\n\u001b[0;32m    976\u001b[0m \u001b[38;5;124;03m    Find two non-negative matrices (W, H) whose product approximates the non-\u001b[39;00m\n\u001b[0;32m    977\u001b[0m \u001b[38;5;124;03m    negative matrix X. This factorization can be used for example for\u001b[39;00m\n\u001b[0;32m    978\u001b[0m \u001b[38;5;124;03m    dimensionality reduction, source separation or topic extraction.\u001b[39;00m\n\u001b[0;32m    979\u001b[0m \u001b[38;5;124;03m    The objective function is:\u001b[39;00m\n\u001b[0;32m    980\u001b[0m \u001b[38;5;124;03m    \"\"\"\u001b[39;00m\n\u001b[0;32m    982\u001b[0m     \u001b[38;5;28;01mdef\u001b[39;00m \u001b[38;5;21m__init__\u001b[39m(\n\u001b[0;32m    983\u001b[0m         \u001b[38;5;28mself\u001b[39m,\n\u001b[0;32m    984\u001b[0m         n_components\u001b[38;5;241m=\u001b[39m\u001b[38;5;28;01mNone\u001b[39;00m,\n\u001b[1;32m   (...)\u001b[0m\n\u001b[0;32m    999\u001b[0m         zero_weight\u001b[38;5;241m=\u001b[39m\u001b[38;5;241m0.0\u001b[39m,\n\u001b[0;32m   1000\u001b[0m     ):\n",
      "\u001b[1;31mNameError\u001b[0m: name 'TransformerMixin' is not defined"
     ]
    }
   ],
   "source": [
    "EPSILON = np.finfo(np.float32).eps\n",
    "\n",
    "def norm(x):\n",
    "    return sqrt(squared_norm(x))\n",
    "\n",
    "\n",
    "def trace_dot(X, Y):\n",
    "    return np.dot(X.ravel(), Y.ravel())\n",
    "\n",
    "\n",
    "def _check_init(A, shape, whom):\n",
    "    A = check_array(A)\n",
    "    if np.shape(A) != shape:\n",
    "        raise ValueError(\n",
    "            \"Array with wrong shape passed to %s. Expected %s, but got %s \"\n",
    "            % (whom, shape, np.shape(A))\n",
    "        )\n",
    "    check_non_negative(A, whom)\n",
    "    if np.max(A) == 0:\n",
    "        raise ValueError(\"Array passed to %s is full of zeros.\" % whom)\n",
    "        \n",
    "def _beta_divergence(X, W, H, beta, square_root=False):\n",
    "    beta = _beta_loss_to_float(beta)\n",
    "\n",
    "    # The method can be called with scalars\n",
    "    if not sp.issparse(X):\n",
    "        X = np.atleast_2d(X)\n",
    "    W = np.atleast_2d(W)\n",
    "    H = np.atleast_2d(H)\n",
    "\n",
    "    # Frobenius norm\n",
    "    if beta == 2:\n",
    "        # Avoid the creation of the dense np.dot(W, H) if X is sparse.\n",
    "        if sp.issparse(X):\n",
    "            norm_X = np.dot(X.data, X.data)\n",
    "            norm_WH = trace_dot(np.linalg.multi_dot([W.T, W, H]), H)\n",
    "            cross_prod = trace_dot((X * H.T), W)\n",
    "            res = (norm_X + norm_WH - 2.0 * cross_prod) / 2.0\n",
    "        else:\n",
    "            res = squared_norm(X - np.dot(W, H)) / 2.0\n",
    "\n",
    "        if square_root:\n",
    "            return np.sqrt(res * 2)\n",
    "        else:\n",
    "            return res\n",
    "\n",
    "    if sp.issparse(X):\n",
    "        # compute np.dot(W, H) only where X is nonzero\n",
    "        WH_data = _special_sparse_dot(W, H, X).data\n",
    "        X_data = X.data\n",
    "    else:\n",
    "        WH = np.dot(W, H)\n",
    "        WH_data = WH.ravel()\n",
    "        X_data = X.ravel()\n",
    "\n",
    "    # do not affect the zeros: here 0 ** (-1) = 0 and not infinity\n",
    "    indices = X_data > EPSILON\n",
    "    WH_data = WH_data[indices]\n",
    "    X_data = X_data[indices]\n",
    "\n",
    "    # used to avoid division by zero\n",
    "    WH_data[WH_data == 0] = EPSILON\n",
    "\n",
    "    # generalized Kullback-Leibler divergence\n",
    "    if beta == 1:\n",
    "        # fast and memory efficient computation of np.sum(np.dot(W, H))\n",
    "        sum_WH = np.dot(np.sum(W, axis=0), np.sum(H, axis=1))\n",
    "        # computes np.sum(X * log(X / WH)) only where X is nonzero\n",
    "        div = X_data / WH_data\n",
    "        res = np.dot(X_data, np.log(div))\n",
    "        # add full np.sum(np.dot(W, H)) - np.sum(X)\n",
    "        res += sum_WH - X_data.sum()\n",
    "\n",
    "    # Itakura-Saito divergence\n",
    "    elif beta == 0:\n",
    "        div = X_data / WH_data\n",
    "        res = np.sum(div) - np.product(X.shape) - np.sum(np.log(div))\n",
    "\n",
    "    # beta-divergence, beta not in (0, 1, 2)\n",
    "    else:\n",
    "        if sp.issparse(X):\n",
    "            # slow loop, but memory efficient computation of :\n",
    "            # np.sum(np.dot(W, H) ** beta)\n",
    "            sum_WH_beta = 0\n",
    "            for i in range(X.shape[1]):\n",
    "                sum_WH_beta += np.sum(np.dot(W, H[:, i]) ** beta)\n",
    "\n",
    "        else:\n",
    "            sum_WH_beta = np.sum(WH ** beta)\n",
    "\n",
    "        sum_X_WH = np.dot(X_data, WH_data ** (beta - 1))\n",
    "        res = (X_data ** beta).sum() - beta * sum_X_WH\n",
    "        res += sum_WH_beta * (beta - 1)\n",
    "        res /= beta * (beta - 1)\n",
    "\n",
    "    if square_root:\n",
    "        return np.sqrt(2 * res)\n",
    "    else:\n",
    "        return res\n",
    "\n",
    "\n",
    "def _special_sparse_dot(W, H, X):\n",
    "    if sp.issparse(X):\n",
    "        ii, jj = X.nonzero()\n",
    "        n_vals = ii.shape[0]\n",
    "        dot_vals = np.empty(n_vals)\n",
    "        n_components = W.shape[1]\n",
    "\n",
    "        batch_size = max(n_components, n_vals // n_components)\n",
    "        for start in range(0, n_vals, batch_size):\n",
    "            batch = slice(start, start + batch_size)\n",
    "            dot_vals[batch] = np.multiply(W[ii[batch], :], H.T[jj[batch], :]).sum(\n",
    "                axis=1\n",
    "            )\n",
    "\n",
    "        WH = sp.coo_matrix((dot_vals, (ii, jj)), shape=X.shape)\n",
    "        return WH.tocsr()\n",
    "    else:\n",
    "        return np.dot(W, H)\n",
    "\n",
    "\n",
    "def _compute_regularization(alpha, alpha_W, alpha_H, l1_ratio, regularization):\n",
    "    if alpha_W != 0 or alpha_H != \"same\":\n",
    "        # if alpha_W or alpha_H is not left to its default value we ignore alpha and\n",
    "        # regularization.\n",
    "        alpha_H = alpha_W if alpha_H == \"same\" else alpha_H\n",
    "        l1_reg_W = alpha_W * l1_ratio\n",
    "        l1_reg_H = alpha_H * l1_ratio\n",
    "        l2_reg_W = alpha_W * (1.0 - l1_ratio)\n",
    "        l2_reg_H = alpha_H * (1.0 - l1_ratio)\n",
    "    else:\n",
    "        # TODO remove in 1.2\n",
    "        l1_reg_W, l2_reg_W, l1_reg_H, l2_reg_H = 0.0, 0.0, 0.0, 0.0\n",
    "        if regularization in (\"both\", \"transformation\"):\n",
    "            l1_reg_W = alpha * l1_ratio\n",
    "            l2_reg_W = alpha * (1.0 - l1_ratio)\n",
    "        if regularization in (\"both\", \"components\"):\n",
    "            l1_reg_H = alpha * l1_ratio\n",
    "            l2_reg_H = alpha * (1.0 - l1_ratio)\n",
    "\n",
    "    return l1_reg_W, l1_reg_H, l2_reg_W, l2_reg_H\n",
    "\n",
    "\n",
    "def _beta_loss_to_float(beta_loss):\n",
    "    \"\"\"Convert string beta_loss to float.\"\"\"\n",
    "    allowed_beta_loss = {\"frobenius\": 2, \"kullback-leibler\": 1, \"itakura-saito\": 0}\n",
    "    if isinstance(beta_loss, str) and beta_loss in allowed_beta_loss:\n",
    "        beta_loss = allowed_beta_loss[beta_loss]\n",
    "\n",
    "    if not isinstance(beta_loss, numbers.Number):\n",
    "        raise ValueError(\n",
    "            \"Invalid beta_loss parameter: got %r instead of one of %r, or a float.\"\n",
    "            % (beta_loss, allowed_beta_loss.keys())\n",
    "        )\n",
    "    return beta_loss\n",
    "\n",
    "\n",
    "def _initialize_nmf(X, n_components, init=\"warn\", eps=1e-6, random_state=None):\n",
    "    \"\"\"Algorithms for NMF initialization.\n",
    "    Computes an initial guess for the non-negative\n",
    "    rank k matrix approximation for X: X = WH.\n",
    "    \"\"\"\n",
    "    if init == \"warn\":\n",
    "        warnings.warn(\n",
    "            \"The 'init' value, when 'init=None' and \"\n",
    "            \"n_components is less than n_samples and \"\n",
    "            \"n_features, will be changed from 'nndsvd' to \"\n",
    "            \"'nndsvda' in 1.1 (renaming of 0.26).\",\n",
    "            FutureWarning,\n",
    "        )\n",
    "        init = None\n",
    "\n",
    "    check_non_negative(X, \"NMF initialization\")\n",
    "    n_samples, n_features = X.shape\n",
    "\n",
    "    if (\n",
    "        init is not None\n",
    "        and init != \"random\"\n",
    "        and n_components > min(n_samples, n_features)\n",
    "    ):\n",
    "        raise ValueError(\n",
    "            \"init = '{}' can only be used when \"\n",
    "            \"n_components <= min(n_samples, n_features)\".format(init)\n",
    "        )\n",
    "\n",
    "    if init is None:\n",
    "        if n_components <= min(n_samples, n_features):\n",
    "            init = \"nndsvd\"\n",
    "        else:\n",
    "            init = \"random\"\n",
    "\n",
    "    # Random initialization\n",
    "    if init == \"random\":\n",
    "        avg = np.sqrt(X.mean() / n_components)\n",
    "        rng = check_random_state(random_state)\n",
    "        H = avg * rng.randn(n_components, n_features).astype(X.dtype, copy=False)\n",
    "        W = avg * rng.randn(n_samples, n_components).astype(X.dtype, copy=False)\n",
    "        np.abs(H, out=H)\n",
    "        np.abs(W, out=W)\n",
    "        return W, H\n",
    "\n",
    "    # NNDSVD initialization\n",
    "    U, S, V = randomized_svd(X, n_components, random_state=random_state)\n",
    "    W = np.zeros_like(U)\n",
    "    H = np.zeros_like(V)\n",
    "\n",
    "    # The leading singular triplet is non-negative\n",
    "    # so it can be used as is for initialization.\n",
    "    W[:, 0] = np.sqrt(S[0]) * np.abs(U[:, 0])\n",
    "    H[0, :] = np.sqrt(S[0]) * np.abs(V[0, :])\n",
    "\n",
    "    for j in range(1, n_components):\n",
    "        x, y = U[:, j], V[j, :]\n",
    "\n",
    "        # extract positive and negative parts of column vectors\n",
    "        x_p, y_p = np.maximum(x, 0), np.maximum(y, 0)\n",
    "        x_n, y_n = np.abs(np.minimum(x, 0)), np.abs(np.minimum(y, 0))\n",
    "\n",
    "        # and their norms\n",
    "        x_p_nrm, y_p_nrm = norm(x_p), norm(y_p)\n",
    "        x_n_nrm, y_n_nrm = norm(x_n), norm(y_n)\n",
    "\n",
    "        m_p, m_n = x_p_nrm * y_p_nrm, x_n_nrm * y_n_nrm\n",
    "\n",
    "        # choose update\n",
    "        if m_p > m_n:\n",
    "            u = x_p / x_p_nrm\n",
    "            v = y_p / y_p_nrm\n",
    "            sigma = m_p\n",
    "        else:\n",
    "            u = x_n / x_n_nrm\n",
    "            v = y_n / y_n_nrm\n",
    "            sigma = m_n\n",
    "\n",
    "        lbd = np.sqrt(S[j] * sigma)\n",
    "        W[:, j] = lbd * u\n",
    "        H[j, :] = lbd * v\n",
    "\n",
    "    W[W < eps] = 0\n",
    "    H[H < eps] = 0\n",
    "\n",
    "    if init == \"nndsvd\":\n",
    "        pass\n",
    "    elif init == \"nndsvda\":\n",
    "        avg = X.mean()\n",
    "        W[W == 0] = avg\n",
    "        H[H == 0] = avg\n",
    "    elif init == \"nndsvdar\":\n",
    "        rng = check_random_state(random_state)\n",
    "        avg = X.mean()\n",
    "        W[W == 0] = abs(avg * rng.randn(len(W[W == 0])) / 100)\n",
    "        H[H == 0] = abs(avg * rng.randn(len(H[H == 0])) / 100)\n",
    "    else:\n",
    "        raise ValueError(\n",
    "            \"Invalid init parameter: got %r instead of one of %r\"\n",
    "            % (init, (None, \"random\", \"nndsvd\", \"nndsvda\", \"nndsvdar\"))\n",
    "        )\n",
    "\n",
    "    return W, H\n",
    "\n",
    "\n",
    "def _update_coordinate_descent(X, W, Ht, l1_reg, l2_reg, shuffle, random_state):\n",
    "    \"\"\"Helper function for _fit_coordinate_descent.\n",
    "    Update W to minimize the objective function, iterating once over all\n",
    "    coordinates. By symmetry, to update H, one can call\n",
    "    _update_coordinate_descent(X.T, Ht, W, ...).\n",
    "    \"\"\"\n",
    "    n_components = Ht.shape[1]\n",
    "\n",
    "    HHt = np.dot(Ht.T, Ht)\n",
    "    XHt = safe_sparse_dot(X, Ht)\n",
    "\n",
    "    # L2 regularization corresponds to increase of the diagonal of HHt\n",
    "    if l2_reg != 0.0:\n",
    "        # adds l2_reg only on the diagonal\n",
    "        HHt.flat[:: n_components + 1] += l2_reg\n",
    "    # L1 regularization corresponds to decrease of each element of XHt\n",
    "    if l1_reg != 0.0:\n",
    "        XHt -= l1_reg\n",
    "\n",
    "    if shuffle:\n",
    "        permutation = random_state.permutation(n_components)\n",
    "    else:\n",
    "        permutation = np.arange(n_components)\n",
    "    # The following seems to be required on 64-bit Windows w/ Python 3.5.\n",
    "    permutation = np.asarray(permutation, dtype=np.intp)\n",
    "    return _update_cdnmf_fast(W, HHt, XHt, permutation)\n",
    "\n",
    "\n",
    "def _fit_coordinate_descent(\n",
    "    X,\n",
    "    W,\n",
    "    H,\n",
    "    tol=1e-4,\n",
    "    max_iter=200,\n",
    "    l1_reg_W=0,\n",
    "    l1_reg_H=0,\n",
    "    l2_reg_W=0,\n",
    "    l2_reg_H=0,\n",
    "    update_H=True,\n",
    "    verbose=0,\n",
    "    shuffle=False,\n",
    "    random_state=None,\n",
    "):\n",
    "    \"\"\"Compute Non-negative Matrix Factorization (NMF) with Coordinate Descent\n",
    "    The objective function is minimized with an alternating minimization of W\n",
    "    and H. Each minimization is done with a cyclic (up to a permutation of the\n",
    "    features) Coordinate Descent.\n",
    "    \"\"\"\n",
    "    # so W and Ht are both in C order in memory\n",
    "    Ht = check_array(H.T, order=\"C\")\n",
    "    X = check_array(X, accept_sparse=\"csr\")\n",
    "\n",
    "    rng = check_random_state(random_state)\n",
    "\n",
    "    for n_iter in range(1, max_iter + 1):\n",
    "        violation = 0.0\n",
    "\n",
    "        # Update W\n",
    "        violation += _update_coordinate_descent(\n",
    "            X, W, Ht, l1_reg_W, l2_reg_W, shuffle, rng\n",
    "        )\n",
    "        # Update H\n",
    "        if update_H:\n",
    "            violation += _update_coordinate_descent(\n",
    "                X.T, Ht, W, l1_reg_H, l2_reg_H, shuffle, rng\n",
    "            )\n",
    "\n",
    "        if n_iter == 1:\n",
    "            violation_init = violation\n",
    "\n",
    "        if violation_init == 0:\n",
    "            break\n",
    "\n",
    "        if verbose:\n",
    "            print(\"violation:\", violation / violation_init)\n",
    "\n",
    "        if violation / violation_init <= tol:\n",
    "            if verbose:\n",
    "                print(\"Converged at iteration\", n_iter + 1)\n",
    "            break\n",
    "    #print(violation)\n",
    "\n",
    "    return W, Ht.T, n_iter\n",
    "\n",
    "\n",
    "def _multiplicative_update_w(\n",
    "    X,\n",
    "    W,\n",
    "    H,\n",
    "    beta_loss,\n",
    "    l1_reg_W,\n",
    "    l2_reg_W,\n",
    "    gamma,\n",
    "    H_sum=None,\n",
    "    HHt=None,\n",
    "    XHt=None,\n",
    "    update_H=True,\n",
    "):\n",
    "    \"\"\"Update W in Multiplicative Update NMF.\"\"\"\n",
    "    if beta_loss == 2:\n",
    "        # Numerator\n",
    "        if XHt is None:\n",
    "            XHt = safe_sparse_dot(X, H.T)\n",
    "        if update_H:\n",
    "            # avoid a copy of XHt, which will be re-computed (update_H=True)\n",
    "            numerator = XHt\n",
    "        else:\n",
    "            # preserve the XHt, which is not re-computed (update_H=False)\n",
    "            numerator = XHt.copy()\n",
    "\n",
    "        # Denominator\n",
    "        if HHt is None:\n",
    "            HHt = np.dot(H, H.T)\n",
    "        denominator = np.dot(W, HHt)\n",
    "\n",
    "    else:\n",
    "        # Numerator\n",
    "        # if X is sparse, compute WH only where X is non zero\n",
    "        WH_safe_X = _special_sparse_dot(W, H, X)\n",
    "        if sp.issparse(X):\n",
    "            WH_safe_X_data = WH_safe_X.data\n",
    "            X_data = X.data\n",
    "        else:\n",
    "            WH_safe_X_data = WH_safe_X\n",
    "            X_data = X\n",
    "            # copy used in the Denominator\n",
    "            WH = WH_safe_X.copy()\n",
    "            if beta_loss - 1.0 < 0:\n",
    "                WH[WH == 0] = EPSILON\n",
    "\n",
    "        # to avoid taking a negative power of zero\n",
    "        if beta_loss - 2.0 < 0:\n",
    "            WH_safe_X_data[WH_safe_X_data == 0] = EPSILON\n",
    "\n",
    "        if beta_loss == 1:\n",
    "            np.divide(X_data, WH_safe_X_data, out=WH_safe_X_data)\n",
    "        elif beta_loss == 0:\n",
    "            # speeds up computation time\n",
    "            # refer to /numpy/numpy/issues/9363\n",
    "            WH_safe_X_data **= -1\n",
    "            WH_safe_X_data **= 2\n",
    "            # element-wise multiplication\n",
    "            WH_safe_X_data *= X_data\n",
    "        else:\n",
    "            WH_safe_X_data **= beta_loss - 2\n",
    "            # element-wise multiplication\n",
    "            WH_safe_X_data *= X_data\n",
    "\n",
    "        # here numerator = dot(X * (dot(W, H) ** (beta_loss - 2)), H.T)\n",
    "        numerator = safe_sparse_dot(WH_safe_X, H.T)\n",
    "\n",
    "        # Denominator\n",
    "        if beta_loss == 1:\n",
    "            if H_sum is None:\n",
    "                H_sum = np.sum(H, axis=1)  # shape(n_components, )\n",
    "            denominator = H_sum[np.newaxis, :]\n",
    "\n",
    "        else:\n",
    "            # computation of WHHt = dot(dot(W, H) ** beta_loss - 1, H.T)\n",
    "            if sp.issparse(X):\n",
    "                # memory efficient computation\n",
    "                # (compute row by row, avoiding the dense matrix WH)\n",
    "                WHHt = np.empty(W.shape)\n",
    "                for i in range(X.shape[0]):\n",
    "                    WHi = np.dot(W[i, :], H)\n",
    "                    if beta_loss - 1 < 0:\n",
    "                        WHi[WHi == 0] = EPSILON\n",
    "                    WHi **= beta_loss - 1\n",
    "                    WHHt[i, :] = np.dot(WHi, H.T)\n",
    "            else:\n",
    "                WH **= beta_loss - 1\n",
    "                WHHt = np.dot(WH, H.T)\n",
    "            denominator = WHHt\n",
    "\n",
    "    # Add L1 and L2 regularization\n",
    "    if l1_reg_W > 0:\n",
    "        denominator += l1_reg_W\n",
    "    if l2_reg_W > 0:\n",
    "        denominator = denominator + l2_reg_W * W\n",
    "    denominator[denominator == 0] = EPSILON\n",
    "\n",
    "    numerator /= denominator\n",
    "    delta_W = numerator\n",
    "\n",
    "    # gamma is in ]0, 1]\n",
    "    if gamma != 1:\n",
    "        delta_W **= gamma\n",
    "\n",
    "    return delta_W, H_sum, HHt, XHt\n",
    "\n",
    "\n",
    "def _multiplicative_update_h(X, W, H, beta_loss, l1_reg_H, l2_reg_H, gamma):\n",
    "    \"\"\"Update H in Multiplicative Update NMF.\"\"\"\n",
    "    if beta_loss == 2:\n",
    "        numerator = safe_sparse_dot(W.T, X)\n",
    "        denominator = np.linalg.multi_dot([W.T, W, H])\n",
    "\n",
    "    else:\n",
    "        # Numerator\n",
    "        WH_safe_X = _special_sparse_dot(W, H, X)\n",
    "        if sp.issparse(X):\n",
    "            WH_safe_X_data = WH_safe_X.data\n",
    "            X_data = X.data\n",
    "        else:\n",
    "            WH_safe_X_data = WH_safe_X\n",
    "            X_data = X\n",
    "            # copy used in the Denominator\n",
    "            WH = WH_safe_X.copy()\n",
    "            if beta_loss - 1.0 < 0:\n",
    "                WH[WH == 0] = EPSILON\n",
    "\n",
    "        # to avoid division by zero\n",
    "        if beta_loss - 2.0 < 0:\n",
    "            WH_safe_X_data[WH_safe_X_data == 0] = EPSILON\n",
    "\n",
    "        if beta_loss == 1:\n",
    "            np.divide(X_data, WH_safe_X_data, out=WH_safe_X_data)\n",
    "        elif beta_loss == 0:\n",
    "            # speeds up computation time\n",
    "            # refer to /numpy/numpy/issues/9363\n",
    "            WH_safe_X_data **= -1\n",
    "            WH_safe_X_data **= 2\n",
    "            # element-wise multiplication\n",
    "            WH_safe_X_data *= X_data\n",
    "        else:\n",
    "            WH_safe_X_data **= beta_loss - 2\n",
    "            # element-wise multiplication\n",
    "            WH_safe_X_data *= X_data\n",
    "\n",
    "        # here numerator = dot(W.T, (dot(W, H) ** (beta_loss - 2)) * X)\n",
    "        numerator = safe_sparse_dot(W.T, WH_safe_X)\n",
    "\n",
    "        # Denominator\n",
    "        if beta_loss == 1:\n",
    "            W_sum = np.sum(W, axis=0)  # shape(n_components, )\n",
    "            W_sum[W_sum == 0] = 1.0\n",
    "            denominator = W_sum[:, np.newaxis]\n",
    "\n",
    "        # beta_loss not in (1, 2)\n",
    "        else:\n",
    "            # computation of WtWH = dot(W.T, dot(W, H) ** beta_loss - 1)\n",
    "            if sp.issparse(X):\n",
    "                # memory efficient computation\n",
    "                # (compute column by column, avoiding the dense matrix WH)\n",
    "                WtWH = np.empty(H.shape)\n",
    "                for i in range(X.shape[1]):\n",
    "                    WHi = np.dot(W, H[:, i])\n",
    "                    if beta_loss - 1 < 0:\n",
    "                        WHi[WHi == 0] = EPSILON\n",
    "                    WHi **= beta_loss - 1\n",
    "                    WtWH[:, i] = np.dot(W.T, WHi)\n",
    "            else:\n",
    "                WH **= beta_loss - 1\n",
    "                WtWH = np.dot(W.T, WH)\n",
    "            denominator = WtWH\n",
    "\n",
    "    # Add L1 and L2 regularization\n",
    "    if l1_reg_H > 0:\n",
    "        denominator += l1_reg_H\n",
    "    if l2_reg_H > 0:\n",
    "        denominator = denominator + l2_reg_H * H\n",
    "    denominator[denominator == 0] = EPSILON\n",
    "\n",
    "    numerator /= denominator\n",
    "    delta_H = numerator\n",
    "\n",
    "    # gamma is in ]0, 1]\n",
    "    if gamma != 1:\n",
    "        delta_H **= gamma\n",
    "\n",
    "    return delta_H\n",
    "\n",
    "\n",
    "def _fit_multiplicative_update(\n",
    "    X,\n",
    "    W,\n",
    "    H,\n",
    "    beta_loss=\"frobenius\",\n",
    "    max_iter=200,\n",
    "    tol=1e-4,\n",
    "    l1_reg_W=0,\n",
    "    l1_reg_H=0,\n",
    "    l2_reg_W=0,\n",
    "    l2_reg_H=0,\n",
    "    update_H=True,\n",
    "    verbose=0,\n",
    "):\n",
    "    \"\"\"Compute Non-negative Matrix Factorization with Multiplicative Update.\n",
    "    The objective function is _beta_divergence(X, WH) and is minimized with an\n",
    "    alternating minimization of W and H. Each minimization is done with a\n",
    "    Multiplicative Update.\n",
    "    \n",
    "    \"\"\"\n",
    "    start_time = time.time()\n",
    "\n",
    "    beta_loss = _beta_loss_to_float(beta_loss)\n",
    "\n",
    "    # gamma for Maximization-Minimization (MM) algorithm [Fevotte 2011]\n",
    "    if beta_loss < 1:\n",
    "        gamma = 1.0 / (2.0 - beta_loss)\n",
    "    elif beta_loss > 2:\n",
    "        gamma = 1.0 / (beta_loss - 1.0)\n",
    "    else:\n",
    "        gamma = 1.0\n",
    "\n",
    "    # used for the convergence criterion\n",
    "    error_at_init = _beta_divergence(X, W, H, beta_loss, square_root=True)\n",
    "    previous_error = error_at_init\n",
    "\n",
    "    H_sum, HHt, XHt = None, None, None\n",
    "    for n_iter in range(1, max_iter + 1):\n",
    "        # update W\n",
    "        # H_sum, HHt and XHt are saved and reused if not update_H\n",
    "        delta_W, H_sum, HHt, XHt = _multiplicative_update_w(\n",
    "            X, W, H, beta_loss, l1_reg_W, l2_reg_W, gamma, H_sum, HHt, XHt, update_H\n",
    "        )\n",
    "        W *= delta_W\n",
    "\n",
    "        # necessary for stability with beta_loss < 1\n",
    "        if beta_loss < 1:\n",
    "            W[W < np.finfo(np.float64).eps] = 0.0\n",
    "\n",
    "        # update H\n",
    "        if update_H:\n",
    "            delta_H = _multiplicative_update_h(\n",
    "                X, W, H, beta_loss, l1_reg_H, l2_reg_H, gamma\n",
    "            )\n",
    "            H *= delta_H\n",
    "\n",
    "            # These values will be recomputed since H changed\n",
    "            H_sum, HHt, XHt = None, None, None\n",
    "\n",
    "            # necessary for stability with beta_loss < 1\n",
    "            if beta_loss <= 1:\n",
    "                H[H < np.finfo(np.float64).eps] = 0.0\n",
    "\n",
    "        # test convergence criterion every 10 iterations\n",
    "        if tol > 0 and n_iter % 10 == 0:\n",
    "            error = _beta_divergence(X, W, H, beta_loss, square_root=True)\n",
    "\n",
    "            if verbose:\n",
    "                iter_time = time.time()\n",
    "                print(\n",
    "                    \"Epoch %02d reached after %.3f seconds, error: %f\"\n",
    "                    % (n_iter, iter_time - start_time, error)\n",
    "                )\n",
    "\n",
    "            if (previous_error - error) / error_at_init < tol:\n",
    "                break\n",
    "            previous_error = error\n",
    "\n",
    "    # do not print if we have already printed in the convergence test\n",
    "    if verbose and (tol == 0 or n_iter % 10 != 0):\n",
    "        end_time = time.time()\n",
    "        print(\n",
    "            \"Epoch %02d reached after %.3f seconds.\" % (n_iter, end_time - start_time)\n",
    "        )\n",
    "\n",
    "    return W, H, n_iter\n",
    "\n",
    "\n",
    "def non_negative_factorization_w0(\n",
    "    X,\n",
    "    ZERO,\n",
    "    W=None,\n",
    "    H=None,\n",
    "    n_components=None,\n",
    "    *,\n",
    "    init=\"warn\",\n",
    "    update_H=True,\n",
    "    solver=\"cd\",\n",
    "    beta_loss=\"frobenius\",\n",
    "    tol=1e-4,\n",
    "    max_iter=200,\n",
    "    alpha=\"deprecated\",\n",
    "    alpha_W=0.0,\n",
    "    alpha_H=\"same\",\n",
    "    l1_ratio=0.0,\n",
    "    regularization=\"deprecated\",\n",
    "    random_state=None,\n",
    "    verbose=0,\n",
    "    shuffle=False,\n",
    "):\n",
    "    \"\"\"Compute Non-negative Matrix Factorization (NMF).\n",
    "    Find two non-negative matrices (W, H) whose product approximates the non-\n",
    "    negative matrix X. This factorization can be used for example for\n",
    "    dimensionality reduction, source separation or topic extraction.\n",
    "   \n",
    "    \"\"\"\n",
    "    X = check_array(X, accept_sparse=(\"csr\", \"csc\"), dtype=[np.float64, np.float32])\n",
    "    \n",
    "    if type(ZERO) != int:\n",
    "        zero_reg = ZEROS\n",
    "    else:\n",
    "        zero_reg = 0\n",
    "    \n",
    "    est = NMF_w0(\n",
    "        n_components=n_components,\n",
    "        init=init,\n",
    "        solver=solver,\n",
    "        beta_loss=beta_loss,\n",
    "        tol=tol,\n",
    "        max_iter=max_iter,\n",
    "        random_state=random_state,\n",
    "        alpha=alpha,\n",
    "        alpha_W=alpha_W,\n",
    "        alpha_H=alpha_H,\n",
    "        l1_ratio=l1_ratio,\n",
    "        verbose=verbose,\n",
    "        shuffle=shuffle,\n",
    "        regularization=regularization,\n",
    "        zero_weight=zero_weight,\n",
    "    )\n",
    "\n",
    "    with config_context(assume_finite=True):\n",
    "        W, H, n_iter = est._fit_transform_w0(X, zero_reg, W=W, H=H, update_H=update_H)\n",
    "\n",
    "    return W, H, n_iter\n",
    "\n",
    "def check_nan(matrix, var):\n",
    "    if True in np.isnan(matrix):\n",
    "        print('nan in '+var)\n",
    "        return(1)\n",
    "    else:\n",
    "        pass\n",
    "\n",
    "def revise_nan(matrix):\n",
    "    matrix[np.isnan(matrix)==True] = 0\n",
    "    \n",
    "def check_inf(matrix, var):\n",
    "    if True in np.isinf(matrix):\n",
    "        print('inf in '+var)\n",
    "        return(1)\n",
    "    else:\n",
    "        pass\n",
    "    \n",
    "def check_non_zero(matrix, zero_index):\n",
    "    if np.count_nonzero(zero_index) == 0:\n",
    "        if np.count_nonzero(matrix) != 0:\n",
    "            print('Warning, zero matrix return non zero')\n",
    "\n",
    "def obj_loss_w0(\n",
    "    X, \n",
    "    zero_reg,\n",
    "    W, \n",
    "    H,\n",
    "    zero_weight,\n",
    "    l1_reg_W,\n",
    "    l1_reg_H,\n",
    "    l2_reg_W,\n",
    "    l2_reg_H,\n",
    "):\n",
    "    obj = 0.5*np.linalg.norm(X-np.dot(W, H))\n",
    "    if l1_reg_W != 0:\n",
    "        obj += l1_reg_W*np.linalg.norm(W.flatten(order=\"F\"), 1)\n",
    "    else:\n",
    "        pass\n",
    "        \n",
    "    if l1_reg_H != 0:\n",
    "        obj += l1_reg_H*np.linalg.norm(H.flatten(order=\"F\"), 1)\n",
    "    else:\n",
    "        pass\n",
    "        \n",
    "    if l2_reg_W != 0:\n",
    "        obj += l2_reg_W*np.linalg.norm(W)\n",
    "    else:\n",
    "        pass\n",
    "        \n",
    "    if l2_reg_H != 0:\n",
    "        obj += l2_reg_H*np.linalg.norm(H)\n",
    "    else:\n",
    "        pass\n",
    "        \n",
    "    if zero_weight != 0:\n",
    "        obj += zero_weight*np.linalg.norm((np.multiply(np.dot(W, H), zero_reg)-np.zeros(X.shape)))\n",
    "    else:\n",
    "        pass\n",
    "        \n",
    "    return(obj)\n",
    "\n",
    "def _gradient_update_w(\n",
    "    X,\n",
    "    zero_reg,\n",
    "    W,\n",
    "    H,\n",
    "    l1_reg_W,\n",
    "    l2_reg_W,\n",
    "    zero_weight=0.0,\n",
    "    HHt=None,\n",
    "    XHt=None,\n",
    "    update_H=True,\n",
    "):\n",
    "    \"\"\"Update W in Multiplicative Update NMF.\"\"\"\n",
    "    #print('X', X.shape)\n",
    "    #print('zero index', zero_reg.shape)\n",
    "    #print('W', W.shape)\n",
    "    #print('H', H.shape)\n",
    "    if type(zero_reg) != int:\n",
    "        zero_matrix = np.zeros(X.shape)\n",
    "        \n",
    "    # Numerator\n",
    "    if XHt is None:\n",
    "        XHt = safe_sparse_dot(X, H.T)\n",
    "    #if update_H:\n",
    "        # avoid a copy of XHt, which will be re-computed (update_H=True)\n",
    "     #   numerator = XHt\n",
    "    #else:\n",
    "        # preserve the XHt, which is not re-computed (update_H=False)\n",
    "    \n",
    "    numerator = XHt.copy()\n",
    "    #n_components = W.shape[1]\n",
    "    \n",
    "    # Denominator\n",
    "    if HHt is None:\n",
    "        HHt = np.dot(H, H.T)\n",
    "\n",
    "    #Notice no need to add this since zero multiple anything would be zero still\n",
    "    #if zero_weight != 0 and type(zero_reg) != int:\n",
    "     #   numerator += zero_weight*np.dot(np.multiply(zero_matrix, zero_reg), H.T)\n",
    "     #   check_non_zero(zero_weight*np.dot(np.multiply(zero_matrix, zero_reg), H.T), zero_reg)\n",
    "        #check_nan(np.dot(np.multiply(zero_matrix, zero_reg), H.T),'numerator WHL')\n",
    "        #check_inf(np.dot(np.multiply(zero_matrix, zero_reg), H.T),'numerator WHL')\n",
    "\n",
    "    #if l2_reg_W != 0:\n",
    "    #    numerator -= 2*l2_reg_W*np.dot(W, (np.dot(W.T, W)-np.identity(np.dot(W.T, W).shape[0])))\n",
    "        #print('W, ', reg_constriant)\n",
    "        #print(numerator)\n",
    "        #del(WtW)\n",
    "        #del(reg_constriant)\n",
    "        #check_nan(numerator,'numerator l2')\n",
    "        #check_inf(numerator,'numerator l2')\n",
    "\n",
    "    #if l1_reg_W != 0:\n",
    "    #    numerator -= l1_reg_W\n",
    "        #check_nan(numerator, 'numerator l1')\n",
    "        #check_inf(numerator, 'numerator l1')\n",
    "    \n",
    "    denominator = np.dot(W, HHt)\n",
    "    if zero_weight != 0 and type(zero_reg) != int:\n",
    "        denominator += zero_weight*np.dot(np.multiply(np.dot(W, H), zero_reg), H.T)\n",
    "        check_non_zero(np.dot(np.multiply(np.dot(W, H), zero_reg), H.T), zero_reg)\n",
    "    \n",
    "    if l1_reg_W > 0:\n",
    "        denominator += l1_reg_W\n",
    "    if l2_reg_W > 0:\n",
    "        denominator = denominator + l2_reg_W * W\n",
    "        \n",
    "    #revise_nan(denominator)\n",
    "    denominator[denominator == 0] = EPSILON\n",
    "    #check_inf(numerator, 'denominator')\n",
    "    \n",
    "    numerator /= denominator\n",
    "    delta_W = numerator\n",
    "    \n",
    "    return delta_W, HHt, XHt\n",
    "\n",
    "\n",
    "def _gradient_update_h(X, zero_reg, W, H, l1_reg_H, l2_reg_H, zero_weight):\n",
    "    #print(zero_weight)\n",
    "    \n",
    "    numerator = np.dot(W.T, X).copy()\n",
    "    #revise_nan(numerator)\n",
    "    #n_components = W.shape[1]\n",
    "\n",
    "    if type(zero_reg) != int:\n",
    "        zero_matrix = np.zeros(X.shape)\n",
    "    \n",
    "    #zero matrix multiply anything would be zero, thus no need to add this part\n",
    "    #if zero_weight != 0 and type(zero_reg) != int:\n",
    "     #   numerator += zero_weight*np.dot(W.T, np.multiply(zero_matrix, zero_reg))\n",
    "     #   check_non_zero(np.dot(W.T, np.multiply(zero_matrix, zero_reg)), zero_reg)\n",
    "    \n",
    "    #if l2_reg_H != 0:    \n",
    "     #   numerator -= 2*l2_reg_H*np.dot(H, (np.dot(H.T, H)-np.identity(np.dot(H.T, H).shape[0])))\n",
    "        #print('H, ', reg_constriant)\n",
    "        #print(numerator)\n",
    "        #del(HtH)\n",
    "        #del(reg_constriant)\n",
    "     #   check_nan(numerator,'l2')\n",
    "     #   check_inf(numerator,'l2')\n",
    "\n",
    "    #if l1_reg_H != 0:\n",
    "    #    numerator -= l1_reg_H\n",
    "    #    check_nan(numerator, 'l1')\n",
    "    #    check_inf(numerator, 'l1')\n",
    "    \n",
    "    # Add L1 and L2 regularization\n",
    "   # check_nan(W.T,'W.T')\n",
    "   # check_nan(W,'W')\n",
    "   # check_nan(H,'H')\n",
    "    \n",
    "   # check_inf(W.T,'W.T')\n",
    "   # check_inf(W,'W')\n",
    "   # check_inf(H,'H')\n",
    "    \n",
    "    denominator = np.linalg.multi_dot([W.T, W, H])\n",
    "    if zero_weight != 0 and type(zero_reg) != int:\n",
    "        denominator += zero_weight*np.dot(W.T,np.multiply(np.dot(W, H), zero_reg))\n",
    "        check_non_zero(np.dot(W.T,np.multiply(np.dot(W, H), zero_reg)), zero_reg)\n",
    "\n",
    "    if l1_reg_H > 0:\n",
    "        denominator += l1_reg_H\n",
    "    if l2_reg_H > 0:\n",
    "        denominator = denominator + l2_reg_H * H\n",
    "    denominator[denominator == 0] = EPSILON\n",
    "    \n",
    "   # check_nan(denominator,'denominator')\n",
    "   # check_inf(denominator,'denominator')\n",
    "    numerator /= denominator\n",
    "    delta_H = numerator\n",
    "    \n",
    "   # check_nan(numerator,'numerator')\n",
    "   # check_nan(delta_H,'delta H')\n",
    "    \n",
    "   # check_inf(numerator,'numerator')\n",
    "   # check_inf(delta_H,'delta H')\n",
    "    return delta_H\n",
    "\n",
    "  \n",
    "def _fit_gradient_descent_w0(\n",
    "    X,\n",
    "    zero_reg,\n",
    "    W,\n",
    "    H,\n",
    "    tol=1e-4,\n",
    "    max_iter=200,\n",
    "    zero_weight=0.0,\n",
    "    l1_reg_W=0,\n",
    "    l1_reg_H=0,\n",
    "    l2_reg_W=0,\n",
    "    l2_reg_H=0,\n",
    "    update_H=True,\n",
    "    random_state=None,\n",
    "):\n",
    "    # used for the convergence criterion\n",
    "    error_at_init = obj_loss_w0(\n",
    "    X, \n",
    "    zero_reg,\n",
    "    W, \n",
    "    H,\n",
    "    zero_weight,\n",
    "    l1_reg_W,\n",
    "    l1_reg_H,\n",
    "    l2_reg_W,\n",
    "    l2_reg_H,)\n",
    "\n",
    "    #previous_error = error_at_init\n",
    "    #current_error = 0\n",
    "    \n",
    "    HHt, XHt = None, None\n",
    "    for n_iter in range(1, max_iter + 1):\n",
    "        # update W\n",
    "        # H_sum, HHt and XHt are saved and reused if not update_H\n",
    "        \n",
    "        #print('iter='+str(n_iter)+' W')\n",
    "        \n",
    "        delta_W, HHt, XHt = _gradient_update_w(\n",
    "            X, zero_reg, W, H, l1_reg_W, l2_reg_W, zero_weight, HHt, XHt, update_H\n",
    "        )\n",
    "        \n",
    "        W *= delta_W\n",
    "        #check_nan(delta_W, 'update result delta W')\n",
    "        #check_nan(W, 'update result W')\n",
    "        \n",
    "        # update H\n",
    "        if update_H:\n",
    "            #print('iter='+str(n_iter)+' H')\n",
    "            delta_H = _gradient_update_h(\n",
    "                X, zero_reg, W, H, l1_reg_H, l2_reg_H, zero_weight\n",
    "            )\n",
    "            H *= delta_H\n",
    "            #check_nan(delta_H, 'update result delta H')\n",
    "            #check_nan(H, 'update result H')\n",
    "            \n",
    "            # These values will be recomputed since H changed\n",
    "            HHt, XHt = None, None\n",
    "            \n",
    "            #if tol > 0 and n_iter % 10 == 0:\n",
    "            #    current_error = obj_loss_w0(X, zero_reg, W, H, zero_weight, l1_reg_W, l1_reg_H, l2_reg_W, l2_reg_H)\n",
    "\n",
    "            #if (previous_error - current_error) / error_at_init < tol:\n",
    "            #    break\n",
    "            \n",
    "            #previous_error = current_error\n",
    "    \n",
    "    return W, H, n_iter\n",
    "\n",
    "def zero_est_eval(est_matrix, zero_index, print_non_zero=False):\n",
    "    zero_est = np.count_nonzero(np.round(np.multiply(np.round(est_matrix,0), zero_index),0))\n",
    "    zero_est_index = 1 - zero_est/np.count_nonzero(zero_index)\n",
    "    if print_non_zero == True:\n",
    "        print(zero_est)\n",
    "        return(zero_est, zero_est_index)\n",
    "    else:\n",
    "        return(zero_est_index)\n",
    "\n",
    "def non_zero_est_eval(test_matrix, est_matrix, zero_index, withid=False):\n",
    "    #delete estimated zeros\n",
    "    if withid == True:\n",
    "        test = test_matrix[:, 1:].copy() \n",
    "    else:\n",
    "        test = test_matrix.copy()\n",
    "        \n",
    "    test = test - np.multiply(test, zero_index)\n",
    "    est = est_matrix.copy()\n",
    "    est = np.round(est - np.multiply(est, zero_index),0)\n",
    "    rmse_ = cal_rmse(test, est, withids=False)\n",
    "    mae_ = cal_mae(test, est, withids=False)\n",
    "    \n",
    "    return(rmse_, mae_)  \n",
    "\n",
    "\n",
    "class NMF_w0(TransformerMixin, BaseEstimator):\n",
    "    \"\"\"Non-Negative Matrix Factorization (NMF).\n",
    "    Find two non-negative matrices (W, H) whose product approximates the non-\n",
    "    negative matrix X. This factorization can be used for example for\n",
    "    dimensionality reduction, source separation or topic extraction.\n",
    "    The objective function is:\n",
    "    \"\"\"\n",
    "\n",
    "    def __init__(\n",
    "        self,\n",
    "        n_components=None,\n",
    "        *,\n",
    "        init=\"warn\",\n",
    "        solver=\"cd\",\n",
    "        beta_loss=\"frobenius\",\n",
    "        tol=1e-4,\n",
    "        max_iter=200,\n",
    "        random_state=None,\n",
    "        alpha=\"deprecated\",\n",
    "        alpha_W=0.0,\n",
    "        alpha_H=\"same\",\n",
    "        l1_ratio=0.0,\n",
    "        verbose=0,\n",
    "        shuffle=False,\n",
    "        regularization=\"deprecated\",\n",
    "        zero_weight=0.0,\n",
    "    ):\n",
    "        self.n_components = n_components\n",
    "        self.init = init\n",
    "        self.solver = solver\n",
    "        self.beta_loss = beta_loss\n",
    "        self.tol = tol\n",
    "        self.max_iter = max_iter\n",
    "        self.random_state = random_state\n",
    "        self.alpha = alpha\n",
    "        self.alpha_W = alpha_W\n",
    "        self.alpha_H = alpha_H\n",
    "        self.l1_ratio = l1_ratio\n",
    "        self.verbose = verbose\n",
    "        self.shuffle = shuffle\n",
    "        self.regularization = regularization\n",
    "        self.zero_weight = zero_weight\n",
    "\n",
    "    def _more_tags(self):\n",
    "        return {\"requires_positive_X\": True}\n",
    "\n",
    "    def _check_params(self, X):\n",
    "        # n_components\n",
    "        self._n_components = self.n_components\n",
    "        if self._n_components is None:\n",
    "            self._n_components = X.shape[1]\n",
    "        if (\n",
    "            not isinstance(self._n_components, numbers.Integral)\n",
    "            or self._n_components <= 0\n",
    "        ):\n",
    "            raise ValueError(\n",
    "                \"Number of components must be a positive integer; got \"\n",
    "                f\"(n_components={self._n_components!r})\"\n",
    "            )\n",
    "\n",
    "        # max_iter\n",
    "        if not isinstance(self.max_iter, numbers.Integral) or self.max_iter < 0:\n",
    "            raise ValueError(\n",
    "                \"Maximum number of iterations must be a positive \"\n",
    "                f\"integer; got (max_iter={self.max_iter!r})\"\n",
    "            )\n",
    "\n",
    "        # tol\n",
    "        if not isinstance(self.tol, numbers.Number) or self.tol < 0:\n",
    "            raise ValueError(\n",
    "                \"Tolerance for stopping criteria must be positive; got \"\n",
    "                f\"(tol={self.tol!r})\"\n",
    "            )\n",
    "\n",
    "        # beta_loss\n",
    "        self._beta_loss = _beta_loss_to_float(self.beta_loss)\n",
    "        \n",
    "        #obj_loss\n",
    "\n",
    "        # solver\n",
    "        allowed_solver = (\"cd\", \"mu\", \"zero\")\n",
    "        if self.solver not in allowed_solver:\n",
    "            raise ValueError(\n",
    "                f\"Invalid solver parameter: got {self.solver!r} instead of one of \"\n",
    "                f\"{allowed_solver}\"\n",
    "            )\n",
    "        if self.solver != \"mu\" and self.beta_loss not in (2, \"frobenius\"):\n",
    "            # 'mu' is the only solver that handles other beta losses than 'frobenius'\n",
    "            raise ValueError(\n",
    "                f\"Invalid beta_loss parameter: solver {self.solver!r} does not handle \"\n",
    "                f\"beta_loss = {self.beta_loss!r}\"\n",
    "            )\n",
    "        if self.solver == \"mu\" and self.init == \"nndsvd\":\n",
    "            warnings.warn(\n",
    "                \"The multiplicative update ('mu') solver cannot update \"\n",
    "                \"zeros present in the initialization, and so leads to \"\n",
    "                \"poorer results when used jointly with init='nndsvd'. \"\n",
    "                \"You may try init='nndsvda' or init='nndsvdar' instead.\",\n",
    "                UserWarning,\n",
    "            )\n",
    "\n",
    "        # alpha and regularization are deprecated in favor of alpha_W and alpha_H\n",
    "        # TODO clean up in 1.2\n",
    "        if self.alpha != \"deprecated\":\n",
    "            warnings.warn(\n",
    "                \"`alpha` was deprecated in version 1.0 and will be removed \"\n",
    "                \"in 1.2. Use `alpha_W` and `alpha_H` instead\",\n",
    "                FutureWarning,\n",
    "            )\n",
    "            alpha = self.alpha\n",
    "        else:\n",
    "            alpha = 0.0            \n",
    "\n",
    "        if self.regularization != \"deprecated\":\n",
    "            warnings.warn(\n",
    "                \"`regularization` was deprecated in version 1.0 and will be \"\n",
    "                \"removed in 1.2. Use `alpha_W` and `alpha_H` instead\",\n",
    "                FutureWarning,\n",
    "            )\n",
    "            allowed_regularization = (\"both\", \"components\", \"transformation\", None)\n",
    "            if self.regularization not in allowed_regularization:\n",
    "                raise ValueError(\n",
    "                    f\"Invalid regularization parameter: got {self.regularization!r} \"\n",
    "                    f\"instead of one of {allowed_regularization}\"\n",
    "                )\n",
    "            regularization = self.regularization\n",
    "        else:\n",
    "            regularization = \"both\"\n",
    "\n",
    "        (\n",
    "            self._l1_reg_W,\n",
    "            self._l1_reg_H,\n",
    "            self._l2_reg_W,\n",
    "            self._l2_reg_H,\n",
    "        ) = _compute_regularization(\n",
    "            alpha, self.alpha_W, self.alpha_H, self.l1_ratio, regularization\n",
    "        )\n",
    "\n",
    "        return self\n",
    "\n",
    "    def _check_w_h(self, X, zero_reg, W, H, update_H):\n",
    "        # check W and H, or initialize them\n",
    "        n_samples, n_features = X.shape\n",
    "        if self.init == \"custom\" and update_H:\n",
    "            _check_init(H, (self._n_components, n_features), \"NMF (input H)\")\n",
    "            _check_init(W, (n_samples, self._n_components), \"NMF (input W)\")\n",
    "            if H.dtype != X.dtype or W.dtype != X.dtype:\n",
    "                raise TypeError(\n",
    "                    \"H and W should have the same dtype as X. Got \"\n",
    "                    \"H.dtype = {} and W.dtype = {}.\".format(H.dtype, W.dtype)\n",
    "                )\n",
    "        elif not update_H:\n",
    "            _check_init(H, (self._n_components, n_features), \"NMF (input H)\")\n",
    "            if H.dtype != X.dtype:\n",
    "                raise TypeError(\n",
    "                    \"H should have the same dtype as X. Got H.dtype = {}.\".format(\n",
    "                        H.dtype\n",
    "                    )\n",
    "                )\n",
    "            # 'mu' solver should not be initialized by zeros\n",
    "            if self.solver == \"mu\" or type(zero_reg) != int:\n",
    "                avg = np.sqrt(X.mean() / self._n_components)\n",
    "                W = np.full((n_samples, self._n_components), avg, dtype=X.dtype)\n",
    "            else:\n",
    "                W = np.zeros((n_samples, self._n_components), dtype=X.dtype)\n",
    "        else:\n",
    "            W, H = _initialize_nmf(\n",
    "                X, self._n_components, init=self.init, random_state=self.random_state\n",
    "            )\n",
    "        return W, H\n",
    "\n",
    "    def _scale_regularization(self, X):\n",
    "        n_samples, n_features = X.shape\n",
    "        if self.alpha_W != 0 or self.alpha_H != \"same\":\n",
    "            # if alpha_W or alpha_H is not left to its default value we ignore alpha\n",
    "            # and regularization, and we scale the regularization terms.\n",
    "            l1_reg_W = n_features * self._l1_reg_W\n",
    "            l1_reg_H = n_samples * self._l1_reg_H\n",
    "            l2_reg_W = n_features * self._l2_reg_W\n",
    "            l2_reg_H = n_samples * self._l2_reg_H\n",
    "       # elif self.alpha != 0:\n",
    "       #     l1_reg_W = n_features * self._l1_reg_W\n",
    "       #     l1_reg_H = n_samples * self._l1_reg_H\n",
    "       #     l2_reg_W = n_features * self._l2_reg_W\n",
    "       #     l2_reg_H = n_samples * self._l2_reg_H\n",
    "        else:\n",
    "            # Otherwise we keep the old behavior with no scaling\n",
    "            # TODO remove in 1.2\n",
    "            l1_reg_W = self._l1_reg_W\n",
    "            l1_reg_H = self._l1_reg_H\n",
    "            l2_reg_W = self._l2_reg_W\n",
    "            l2_reg_H = self._l2_reg_H\n",
    "\n",
    "        return l1_reg_W, l1_reg_H, l2_reg_W, l2_reg_H\n",
    "\n",
    "    def fit_transform_w0(self, X, zero_reg, y=None, W=None, H=None):\n",
    "        \"\"\"Learn a NMF model for the data X and returns the transformed data.\n",
    "        This is more efficient than calling fit followed by transform.\n",
    "        \"\"\"\n",
    "        X = self._validate_data(\n",
    "            X, accept_sparse=(\"csr\", \"csc\"), dtype=[np.float64, np.float32]\n",
    "        )\n",
    "\n",
    "        with config_context(assume_finite=True):\n",
    "            W, H, n_iter = self._fit_transform_w0(X, zero_reg, W=W, H=H)\n",
    "\n",
    "        self.reconstruction_err_ = _beta_divergence(\n",
    "            X, W, H, self._beta_loss, square_root=True\n",
    "        )\n",
    "\n",
    "        self.n_components_ = H.shape[0]\n",
    "        self.components_ = H\n",
    "        self.n_iter_ = n_iter\n",
    "\n",
    "        return W\n",
    "    \n",
    "    # w0 = with zero\n",
    "    def _fit_transform_w0(self, X, zero_reg, y=None, W=None, H=None, update_H=True):\n",
    "        \"\"\"Learn a NMF model for the data X and returns the transformed data.\n",
    "        \"\"\"\n",
    "        check_non_negative(X, \"NMF (input X)\")\n",
    "\n",
    "        # check parameters\n",
    "        self._check_params(X)\n",
    "\n",
    "        if X.min() == 0 and self._beta_loss <= 0:\n",
    "            raise ValueError(\n",
    "                \"When beta_loss <= 0 and X contains zeros, \"\n",
    "                \"the solver may diverge. Please add small values \"\n",
    "                \"to X, or use a positive beta_loss.\"\n",
    "            )\n",
    "\n",
    "        # initialize or check W and H\n",
    "        W, H = self._check_w_h(X, zero_reg, W, H, update_H)\n",
    "\n",
    "        # scale the regularization terms\n",
    "        l1_reg_W, l1_reg_H, l2_reg_W, l2_reg_H = self._scale_regularization(X)\n",
    "        \n",
    "        #print(l1_reg_W, l1_reg_H, l2_reg_W, l2_reg_H)\n",
    "        \n",
    "       # print(zero_reg)\n",
    "       # if type(zero_reg) == int: #keep the original method when not considering the zero matrix\n",
    "        if type(zero_reg) != int or self.solver == \"zero\":  \n",
    "            #print('apply zero od method')\n",
    "            W, H, n_iter = _fit_gradient_descent_w0(\n",
    "                X,\n",
    "                zero_reg,\n",
    "                W,\n",
    "                H,                \n",
    "                self.tol,\n",
    "                self.max_iter,\n",
    "                self.zero_weight,\n",
    "                l1_reg_W,\n",
    "                l1_reg_H,\n",
    "                l2_reg_W,\n",
    "                l2_reg_H,                \n",
    "            )\n",
    "        elif self.solver == \"cd\":\n",
    "            print('apply cd')\n",
    "            W, H, n_iter = _fit_coordinate_descent(\n",
    "                X,\n",
    "                W,\n",
    "                H,\n",
    "                self.tol,\n",
    "                self.max_iter,\n",
    "                l1_reg_W,\n",
    "                l1_reg_H,\n",
    "                l2_reg_W,\n",
    "                l2_reg_H,\n",
    "                update_H=update_H,\n",
    "                verbose=self.verbose,\n",
    "                shuffle=self.shuffle,\n",
    "                random_state=self.random_state,\n",
    "            )\n",
    "        elif self.solver == \"mu\":\n",
    "            print('apply mu')\n",
    "            W, H, n_iter = _fit_multiplicative_update(\n",
    "                X,\n",
    "                W,\n",
    "                H,\n",
    "                self._beta_loss,\n",
    "                self.max_iter,\n",
    "                self.tol,\n",
    "                l1_reg_W,\n",
    "                l1_reg_H,\n",
    "                l2_reg_W,\n",
    "                l2_reg_H,\n",
    "                update_H=update_H,\n",
    "                verbose=self.verbose,\n",
    "            )\n",
    "    #else: #add the zero constriants\n",
    "        else:\n",
    "            raise ValueError(\"Invalid solver parameter '%s'.\" % self.solver)\n",
    "\n",
    "        '''if n_iter == self.max_iter and self.tol > 0:\n",
    "            warnings.warn(\n",
    "                \"Maximum number of iterations %d reached. Increase \"\n",
    "                \"it to improve convergence.\"\n",
    "                % self.max_iter,\n",
    "                ConvergenceWarning,\n",
    "            )'''\n",
    "\n",
    "        return W, H, n_iter\n",
    "\n",
    "    def fit(self, X, y=None, **params):\n",
    "        \"\"\"Learn a NMF model for the data X.\n",
    "        \"\"\"\n",
    "        self.fit_transform_w0(X, **params)\n",
    "        return self\n",
    "\n",
    "    def transform(self, X):\n",
    "        \"\"\"Transform the data X according to the fitted NMF model.\n",
    "        \"\"\"\n",
    "        check_is_fitted(self)\n",
    "        X = self._validate_data(\n",
    "            X, accept_sparse=(\"csr\", \"csc\"), dtype=[np.float64, np.float32], reset=False\n",
    "        )\n",
    "\n",
    "        with config_context(assume_finite=True):\n",
    "            W, *_ = self._fit_transform_w0(X, zero_reg, H=self.components_, update_H=False)\n",
    "\n",
    "        return W\n",
    "\n",
    "    def inverse_transform(self, W):\n",
    "        \"\"\"Transform data back to its original space.\n",
    "        \"\"\"\n",
    "        check_is_fitted(self)\n",
    "        return np.dot(W, self.components_)\n",
    "\n"
   ]
  },
  {
   "cell_type": "markdown",
   "metadata": {},
   "source": [
    "### Simple test"
   ]
  },
  {
   "cell_type": "code",
   "execution_count": 19,
   "metadata": {
    "scrolled": true
   },
   "outputs": [
    {
     "ename": "NameError",
     "evalue": "name 'X' is not defined",
     "output_type": "error",
     "traceback": [
      "\u001b[1;31m---------------------------------------------------------------------------\u001b[0m",
      "\u001b[1;31mNameError\u001b[0m                                 Traceback (most recent call last)",
      "\u001b[1;32m<ipython-input-19-f2abafe9b708>\u001b[0m in \u001b[0;36m<module>\u001b[1;34m\u001b[0m\n\u001b[0;32m      1\u001b[0m \u001b[1;31m## simple test\u001b[0m\u001b[1;33m\u001b[0m\u001b[1;33m\u001b[0m\u001b[1;33m\u001b[0m\u001b[0m\n\u001b[1;32m----> 2\u001b[1;33m \u001b[0mzero_test\u001b[0m \u001b[1;33m=\u001b[0m \u001b[0mnp\u001b[0m\u001b[1;33m.\u001b[0m\u001b[0mzeros\u001b[0m\u001b[1;33m(\u001b[0m\u001b[0mX\u001b[0m\u001b[1;33m.\u001b[0m\u001b[0mshape\u001b[0m\u001b[1;33m)\u001b[0m\u001b[1;33m\u001b[0m\u001b[1;33m\u001b[0m\u001b[0m\n\u001b[0m\u001b[0;32m      3\u001b[0m \u001b[0mzero_test\u001b[0m\u001b[1;33m[\u001b[0m\u001b[1;36m0\u001b[0m\u001b[1;33m]\u001b[0m \u001b[1;33m+=\u001b[0m \u001b[1;36m1\u001b[0m\u001b[1;33m\u001b[0m\u001b[1;33m\u001b[0m\u001b[0m\n\u001b[0;32m      4\u001b[0m \u001b[0mzero_test\u001b[0m\u001b[1;33m[\u001b[0m\u001b[1;36m1\u001b[0m\u001b[1;33m]\u001b[0m\u001b[1;33m[\u001b[0m\u001b[1;36m0\u001b[0m\u001b[1;33m]\u001b[0m \u001b[1;33m=\u001b[0m \u001b[1;36m1\u001b[0m\u001b[1;33m\u001b[0m\u001b[1;33m\u001b[0m\u001b[0m\n\u001b[0;32m      5\u001b[0m \u001b[1;33m\u001b[0m\u001b[0m\n",
      "\u001b[1;31mNameError\u001b[0m: name 'X' is not defined"
     ]
    }
   ],
   "source": [
    "## simple test\n",
    "zero_test = np.zeros(X.shape)\n",
    "zero_test[0] += 1\n",
    "zero_test[1][0] = 1\n",
    "\n",
    "#model = NMF_w0(n_components=18, init='nndsvd', zero_weight=0.1, max_iter=10, alpha=0.1, l1_ratio=0.1, random_state=42)\n",
    "#W = model.fit_transform_w0(test_matrice_reverse[:, 1:], Zero_index)\n",
    "#model = NMF_w0(n_components=2, alpha=0.1, max_iter=1000, l1_ratio=0.1, zero_weight=zero_w, solver=\"zero\", random_state=42)\n",
    "#W = model.fit_transform_w0(X, zero_test)\n",
    "#H = model.components_\n",
    "#WH = np.dot(W, H)\n",
    "#print(cal_rmse(X, WH))\n",
    "#print(cal_rmse(X, WH, withids=False))\n",
    "#print(X)\n",
    "#print(WH)\n",
    "\n",
    "def add_val2lst(val, lst):\n",
    "    if init == True:\n",
    "        lst = []\n",
    "    lst.append(val)\n",
    "    return(lst)\n",
    "\n",
    "zero_val = []\n",
    "rmse_val = []\n",
    "mae_val = []\n",
    "\n",
    "print(zero_test)\n",
    "print(X)\n",
    "\n",
    "for zero_w in 0.1*np.array(list(range(10))):\n",
    "    model = NMF_w0(n_components=2, alpha=0.1, max_iter=1000, l1_ratio=0.1, zero_weight=zero_w, solver=\"zero\", random_state=42)\n",
    "    W = model.fit_transform_w0(X, zero_test)\n",
    "    H = model.components_\n",
    "    WH = np.dot(W, H)\n",
    "    \n",
    "    print(WH)\n",
    "    zero_val.append(zero_est_eval(WH, zero_test))\n",
    "    rmse_test, mae_test = (non_zero_est_eval(X, WH, zero_test))\n",
    "    rmse_val.append(rmse_test)\n",
    "    mae_val.append(mae_test)\n",
    "\n",
    "plt.figure(1)\n",
    "plt.plot(rmse_val)\n",
    "plt.ylabel(\"rmse\")\n",
    "\n",
    "plt.figure(2)\n",
    "plt.plot(mae_val)\n",
    "plt.ylabel(\"mae\")\n",
    "#notice that the results of model without zero index is the same for solver='zero' and solver='mu' (test verified)"
   ]
  },
  {
   "cell_type": "code",
   "execution_count": 7,
   "metadata": {},
   "outputs": [],
   "source": [
    "#save matrice\n",
    "#np.savetxt('test_matrice_reverse.csv', test_matrice_reverse, delimiter=\",\")\n",
    "#np.savetxt('Zero_index.csv', Zero_index, delimiter=\",\")\n",
    "\n",
    "#read the test matrice and data\n",
    "test_matrice_reverse = pd.read_csv('test_matrice_reverse.csv', header=None).to_numpy()\n",
    "Zero_index = pd.read_csv('Zero_index.csv', header=None).to_numpy()"
   ]
  },
  {
   "cell_type": "code",
   "execution_count": null,
   "metadata": {},
   "outputs": [],
   "source": [
    "#read land use data\n",
    "def read_dict(filepath):\n",
    "    with open(filepath) as f:\n",
    "        data = f.read()\n",
    "    dict_data = ast.literal_eval(data)\n",
    "    return(dict_data)\n",
    "\n",
    "def convert_dict(index_dict):\n",
    "    convertdict = {}\n",
    "    for keys in index_dict:\n",
    "        convertdict[index_dict[keys]] = keys\n",
    "    return(convertdict)\n",
    "\n",
    "\n",
    "row_index = read_dict('row_index.txt')\n",
    "col_index = read_dict('col_index.txt')\n",
    "\n",
    "user_index = convert_dict(row_index)\n",
    "item_index = convert_dict(col_index)\n",
    "\n",
    "Seattle_01obs = pd.read_csv('obs01_landuse.csv', header=None).to_numpy()\n",
    "Seattle_obs = pd.read_csv('obs_landuse.csv', header=None).to_numpy()\n",
    "Zero_index = pd.read_csv('zero_index_landuse.csv', header=None).to_numpy()"
   ]
  },
  {
   "cell_type": "code",
   "execution_count": 8,
   "metadata": {},
   "outputs": [],
   "source": [
    "'''#sensitive test\n",
    "test_lf = list(range(2, 50))\n",
    "\n",
    "#for num_lf in test_lf:\n",
    "#    for reg_l in l1:\n",
    "#        for a in alpha_para:\n",
    "def create_ss_dict(dict_):\n",
    "    keys = ['zero', 'non_zero_num', 'rmse', 'mae']\n",
    "    for i in keys:\n",
    "        dict_[i] = []\n",
    "    return(dict_)\n",
    "\n",
    "def assign_val(ss_dict, val_lst):\n",
    "    lst_range = len(val_lst)\n",
    "    keys = list(ss_dict.keys())\n",
    "    for i in range(lst_range):\n",
    "        ss_dict[keys[i]].append(val_lst[i])\n",
    "    return(ss_dict)\n",
    "      \n",
    "#plot zero index, non zero num, rmse, mae\n",
    "def plot_est_result(dict_, x_range, x_label):\n",
    "    keys = list(dict_.keys())\n",
    "    \n",
    "    for i in range(2):\n",
    "        fig, (ax1, ax2) = plt.subplots(1, 2, figsize=(13, 3))\n",
    "        ax1.plot(x_range, ss_k[keys[2*i]])\n",
    "        ax2.plot(x_range, ss_k[keys[2*i+1]])\n",
    "        for ax in ax1, ax2:\n",
    "            ax.grid(True)\n",
    "\n",
    "        ax1.set_ylabel(keys[2*i])\n",
    "        ax2.set_ylabel(keys[2*i+1])\n",
    "        ax1.set_xlabel(x_label)\n",
    "        ax2.set_xlabel(x_label)\n",
    "\n",
    "def compare_plot(lst1, lst2, label1, label2, xrange, xlabel, ylabel):\n",
    "    fig, (ax1, ax2, ax3) = plt.subplots(1, 3, figsize=(15, 3))\n",
    "    ax1.plot(xrange, lst1)\n",
    "    ax2.plot(xrange, lst2)\n",
    "    ax3.plot(xrange, lst1, label = label1)\n",
    "    ax3.plot(xrange, lst2, label = label2)\n",
    "    ax3.legend()\n",
    "    \n",
    "    for ax in ax1, ax2, ax3:\n",
    "        ax.grid(True)\n",
    "\n",
    "    ax1.set_title(label1)\n",
    "    ax2.set_title(label2)\n",
    "    ax3.set_title(label1 + ' vs. ' + label2)\n",
    "    ax1.set_xlabel(xlabel)\n",
    "    ax2.set_xlabel(xlabel)\n",
    "    ax2.set_xlabel(xlabel)\n",
    "    ax1.set_ylabel(ylabel)\n",
    "      \n",
    "\n",
    "def cal_diff_per(lst_combine):\n",
    "    lst1, lst2 = lst_combine[0], lst_combine[1]\n",
    "    per = list((np.array(lst1) - np.array(lst2))/(np.array(lst1)))\n",
    "    return(per)\n",
    "\n",
    "def plot_two_fig(lst1, lst2, label1, label2, xrange, xlabel):\n",
    "    fig, (ax1, ax2) = plt.subplots(1, 2, figsize=(13, 3))\n",
    "    ax1.plot(xrange, lst1)\n",
    "    ax2.plot(xrange, lst2)\n",
    "    \n",
    "    for ax in ax1, ax2, ax3:\n",
    "        ax.grid(True)\n",
    "        \n",
    "    ax1.set_ylabel(label1)\n",
    "    ax2.set_ylabel(label2)\n",
    "    ax1.set_xlabel(xlabel)\n",
    "    ax2.set_xlabel(xlabel)\n",
    "    \n",
    "\n",
    "def difference_plot(zero, non_zero_num, rmse, mae, xrange, xlabel):\n",
    "    keys = ['zero', 'non_zero_num', 'rmse', 'mae']\n",
    "    \n",
    "    per_zero = cal_diff_per(zero)\n",
    "    print(per_zero)\n",
    "    per_non_zero_num = cal_diff_per(non_zero_num)\n",
    "    per_rmse = cal_diff_per(rmse)\n",
    "    per_mae = cal_diff_per(mae)\n",
    "    \n",
    "    plot_two_fig(per_zero, per_non_zero_num, keys[0], keys[1], xrange, xlabel)\n",
    "    plot_two_fig(per_rmse, per_mae, keys[2], keys[3], xrange, xlabel)\n",
    "'''        "
   ]
  },
  {
   "cell_type": "code",
   "execution_count": null,
   "metadata": {},
   "outputs": [],
   "source": [
    "'''\n",
    "#done in laptop\n",
    "#sensitive test for k    \n",
    "ss_k = create_ss_dict({})\n",
    "for k in test_lf:\n",
    "    dict_keys = 'k='+str(k)+', lambda=0, alpha=0, w0=0.1'\n",
    "    start = time.time()\n",
    "    model = NMF_w0(n_components=k, alpha=0, max_iter=1000, l1_ratio=0, random_state=42, zero_weight=0.1, init='nndsvd')\n",
    "    W = model.fit_transform_w0(test_matrice_reverse[:, 1:], Zero_index)\n",
    "    H = model.components_\n",
    "    WH = np.dot(W, H)\n",
    "    end = time.time()\n",
    "    print(dict_keys)\n",
    "    print(f'running time={end-start}')\n",
    "    print(cal_rmse(test_matrice_reverse, WH))\n",
    "    print(cal_rmse(test_matrice_reverse, np.round(WH, 0)))\n",
    "    \n",
    "    non_zero_num, zero_index  = zero_est_eval(WH, Zero_index, print_non_zero=True)\n",
    "    rmse_, mae_ = non_zero_est_eval(test_matrice_reverse, WH, Zero_index, withid=True)\n",
    "    \n",
    "    ss_k = assign_val(ss_k, [zero_index, non_zero_num, rmse_, mae_])\n",
    "    \n",
    "#plot_result(ss_k)\n",
    "\n",
    "ss_k_wo0 = create_ss_dict({})\n",
    "for k in test_lf:\n",
    "    dict_keys = 'k='+str(k)+', lambda=0, alpha=0, w0=0'\n",
    "    start = time.time()\n",
    "    model = NMF_w0(n_components=k, alpha=0, max_iter=1000, l1_ratio=0, random_state=42, \\\n",
    "                   zero_weight=0, init='nndsvd', solver='zero')\n",
    "    W = model.fit_transform_w0(test_matrice_reverse[:, 1:], 0)\n",
    "    H = model.components_\n",
    "    WH = np.dot(W, H)\n",
    "    end = time.time()\n",
    "    print(dict_keys)\n",
    "    print(f'running time={end-start}')\n",
    "    print(cal_rmse(test_matrice_reverse, WH))\n",
    "    print(cal_rmse(test_matrice_reverse, np.round(WH, 0)))\n",
    "    \n",
    "    non_zero_num, zero_index  = zero_est_eval(WH, Zero_index, print_non_zero=True)\n",
    "    rmse_, mae_ = non_zero_est_eval(test_matrice_reverse, WH, Zero_index, withid=True)\n",
    "    \n",
    "    ss_k_wo0 = assign_val(ss_k_wo0, [zero_index, non_zero_num, rmse_, mae_])\n",
    "    \n",
    "#plot_result(ss_k_wo0)\n",
    "\n",
    "#create csv to save model results\n",
    "os.chdir('G:/My Drive/2021/Bias')\n",
    "with open('nmf_est_result.txt', 'w') as f:\n",
    "    f.write('model_with_zero, k, l1_ratio, alpha_w, alpha_h, zero_weight, max_iter, random_state, rmse, mae, zero_per, non_zero_num\\n')\n",
    "    rows = len(ss_k['zero'])\n",
    "    dict_keys = list(ss_k.keys())\n",
    "    \n",
    "    for i in range(rows):\n",
    "        writelines = '1,'+str(i+2)+',0,0,0,0.1,1000,42,'\n",
    "        a = 0\n",
    "        for dic_key in dict_keys:\n",
    "            if a == 3:\n",
    "                writelines = writelines+str(ss_k[dic_key][i])\n",
    "                writelines = writelines+'\\n'\n",
    "            else:\n",
    "                writelines = writelines+str(ss_k[dic_key][i])+','\n",
    "            a += 1\n",
    "        f.write(writelines)\n",
    "            \n",
    "#def save2text(pathfile, savename, write_content)\n",
    "\n",
    "with open('nmf_est_result.txt', 'a') as f:\n",
    "    rows = len(ss_k_wo0['zero'])\n",
    "    dict_keys = list(ss_k_wo0.keys())\n",
    "    \n",
    "    for i in range(rows):\n",
    "        writelines = '0,'+str(i+2)+',0,0,0,0,1000,42,'\n",
    "        a = 0\n",
    "        for dic_key in dict_keys:\n",
    "            if a == 3:\n",
    "                writelines = writelines+str(ss_k_wo0[dic_key][i])\n",
    "                writelines = writelines+'\\n'\n",
    "            else:\n",
    "                writelines = writelines+str(ss_k_wo0[dic_key][i])+','\n",
    "            a += 1\n",
    "        f.write(writelines)\n",
    "\n",
    "f.close()\n",
    "        '''"
   ]
  },
  {
   "cell_type": "code",
   "execution_count": null,
   "metadata": {},
   "outputs": [],
   "source": [
    "'''#plot test\n",
    "compare_plot(ss_k['non_zero_num'], ss_k_wo0['non_zero_num'], 'with zero index',\\\n",
    "             'w.o. index', range(2, 19), 'number of latent factor (k)', '# of missing estimated zeros')\n",
    "\n",
    "difference_plot([ss_k_wo0['zero'],ss_k['zero']],\n",
    "                [ss_k_wo0['non_zero_num'], ss_k['non_zero_num']],\n",
    "                [ss_k_wo0['rmse'], ss_k['rmse']],\n",
    "                [ss_k_wo0['mae'], ss_k['mae']],\n",
    "                range(2,19),\n",
    "                '# of latent factors (k)')\n",
    "\n",
    "#initialization\n",
    "cur_dict_keys = []\n",
    "for k in range(2, 19):\n",
    "    dict_key = 'zero_index='+'1, '+'k='+str(k)+', lambda=0.0, alpha_w=0.0, alpha_h=0.0, w0=0.1, max_iter=1000, random_state=42'\n",
    "    cur_dict_keys.append(dict_key)\n",
    "    dict_key = 'zero_index='+'0, '+'k='+str(k)+', lambda=0.0, alpha=0.0, w0=0.0, max_iter=1000, random_state=42'\n",
    "    cur_dict_keys.append(dict_key)\n",
    "    \n",
    "    \n",
    "#initialization\n",
    "cur_dict_keys = []\n",
    "for k in range(2, 19):\n",
    "    dict_key = 'zero_index='+'1, '+'k='+str(k)+', lambda=0.0, alpha_w=0.0, alpha_h=0.0, w0=0.1, max_iter=1000, random_state=42'\n",
    "    cur_dict_keys.append(dict_key)\n",
    "    dict_key = 'zero_index='+'0, '+'k='+str(k)+', lambda=0.0, alpha=0.0, w0=0.0, max_iter=1000, random_state=42'\n",
    "    cur_dict_keys.append(dict_key)\n",
    "    \n",
    "a = previous_resul.to_numpy()\n",
    "a = a[:, :8]\n",
    "np.isnan(np.nan)\n",
    "\n",
    "#get all value\n",
    "cur_dict_keys = []\n",
    "\n",
    "def create_dict_key(val_lst):\n",
    "    dict_key = ''\n",
    "    dict_key = dict_key + 'zero_index='+str(int(val_lst[0]))+', '\n",
    "    dict_key = dict_key + 'k='+str(int(val_lst[1]))+', '\n",
    "    dict_key = dict_key + 'lambda='+str(val_lst[2])+', '\n",
    "    if np.isnan(val_lst[3]) == True:\n",
    "        dict_key = dict_key + 'alpha_w='+str(val_lst[4])+', '\n",
    "    else:\n",
    "        dict_key = dict_key + 'alpha_w='+str(val_lst[3])+', '\n",
    "    dict_key = dict_key + 'alpha_h='+str(int(val_lst[4]))+', '\n",
    "    dict_key = dict_key + 'w0='+str(val_lst[5])+', '\n",
    "    dict_key = dict_key + 'max_iter='+str(int(val_lst[6]))+', '\n",
    "    dict_key = dict_key + 'random_state='+str(int(val_lst[7]))\n",
    "    return(dict_key)\n",
    "                                                                                                           \n",
    "def get_cur_dict_key(cur_dict_keys):\n",
    "    previous_resul = pd.read_csv('nmf_est_result_cur.csv')\n",
    "    param_val = previous_resul.to_numpy()\n",
    "    param_val = param_val[:, :8]\n",
    "    \n",
    "    for val in param_val:\n",
    "        dict_key = create_dict_key(val)\n",
    "        if dict_key not in cur_dict_keys:\n",
    "            cur_dict_keys.append(dict_key)\n",
    "    return(cur_dict_keys)\n",
    "    \n",
    "cur_dict_keys = get_cur_dict_key(cur_dict_keys)'''"
   ]
  },
  {
   "cell_type": "code",
   "execution_count": 9,
   "metadata": {},
   "outputs": [],
   "source": [
    "#parameter order\n",
    "#zero index, k, lambda, alpha_w, alpha_h, w0, max_iter, random_state\n",
    "params = ['zero_index', 'k', 'lambda', 'alpha_w', 'alpha_h', 'w0', 'max_iter', 'random_state']\n",
    "def create_test_param_dict(parameter_lst, params):\n",
    "    keys = list(range(8))\n",
    "    parameter_dicts = {}\n",
    "    for i in keys:\n",
    "        parameter_dicts[params[i]] = parameter_lst[i]\n",
    "    return(parameter_dicts)\n",
    "\n",
    "def get_dict_keys(param_list, params, single_alpha):\n",
    "    int_para = [0, 1, 6, 7]\n",
    "    dict_keys = ''\n",
    "    if len(param_list) != len(params):\n",
    "        print('Error, wrong input paramter format, length not match')\n",
    "    num_param = len(param_list)\n",
    "    if single_alpha == False:\n",
    "        for i in range(len(param_list)):\n",
    "            if i != num_param-1:\n",
    "                if i not in int_para:\n",
    "                    dict_keys = dict_keys+params[i]+'='+str(param_list[i])+', '\n",
    "                else:\n",
    "                    dict_keys = dict_keys+params[i]+'='+str(int(param_list[i]))+', '\n",
    "            else:\n",
    "                dict_keys = dict_keys+params[i]+'='+str(int(param_list[i]))\n",
    "    else:\n",
    "        for i in range(len(param_list)):\n",
    "            if i != num_param-1:\n",
    "                if i not in int_para and i != 3:\n",
    "                    dict_keys = dict_keys+params[i]+'='+str(param_list[i])+', '\n",
    "                elif i == 3:\n",
    "                    dict_keys = dict_keys+params[i]+'='+'NA'+', '\n",
    "                else:\n",
    "                    dict_keys = dict_keys+params[i]+'='+str(int(param_list[i]))+', '\n",
    "            else:\n",
    "                dict_keys = dict_keys+params[i]+'='+str(int(param_list[i]))\n",
    "    return(dict_keys)\n",
    "            \n",
    "def writelines(paramlst, pathfile,single_alpha=False):\n",
    "    num_param = len(paramlst)\n",
    "    lines = ''\n",
    "    if single_alpha == False:\n",
    "        for i in range(num_param):\n",
    "            if i < num_param-1:\n",
    "                lines = lines + str(paramlst[i]) + ','\n",
    "            else:\n",
    "                lines = lines + str(paramlst[i]) + '\\n'\n",
    "    else:\n",
    "        for i in range(num_param):\n",
    "            if i < num_param-1 and i != 3:\n",
    "                lines = lines + str(paramlst[i]) + ','\n",
    "            elif i == 3:\n",
    "                lines = lines + 'NA,'\n",
    "            else:\n",
    "                lines = lines + str(paramlst[i]) + '\\n'\n",
    "    with open(pathfile, 'a') as f:\n",
    "        f.write(lines)  \n",
    "    f.close()\n",
    "        \n",
    "def model_estimation(param_arr, test_matrice, zero_matrice, dict_keys, single_alpha = False):\n",
    "    #['zero_index', 'k', 'lambda', 'alpha_w', 'alpha_h', 'w0', 'max_iter', 'random_state']\n",
    "    print(param_arr)\n",
    "    if type(param_arr) != list:\n",
    "        param_list = param_arr.tolist()\n",
    "    else:\n",
    "        param_list = param_arr.copy()\n",
    "    print(param_list)\n",
    "    zero_index, k, l1, a_w, a_h, w0, iter_num, rand_seed = param_list\n",
    "    start = time.time()\n",
    "    if single_alpha == False:\n",
    "        if int(zero_index) == 0:\n",
    "            model = NMF_w0(n_components=int(k), alpha_W=a_w, alpha_H=a_h, max_iter=int(iter_num),\\\n",
    "                           l1_ratio=l1, random_state=int(rand_seed), zero_weight=w0, \\\n",
    "                           init='nndsvd', solver=\"zero\")\n",
    "            W = model.fit_transform_w0(test_matrice[:,1:], 0)\n",
    "        else:\n",
    "            model = NMF_w0(n_components=int(k), alpha_W=a_w, alpha_H=a_h, max_iter=int(iter_num),\\\n",
    "                           l1_ratio=l1, random_state=int(rand_seed), zero_weight=w0, \\\n",
    "                           init='nndsvd', solver=\"zero\")\n",
    "            W = model.fit_transform_w0(test_matrice[:,1:], zero_matrice)\n",
    "    else:\n",
    "        if int(zero_index) == 0:\n",
    "            model = NMF_w0(n_components=int(k), alpha=a_h, max_iter=int(iter_num),\\\n",
    "                           l1_ratio=l1, random_state=int(rand_seed), zero_weight=w0, \\\n",
    "                           init='nndsvd', solver=\"zero\")\n",
    "            W = model.fit_transform_w0(test_matrice[:,1:], 0)\n",
    "        else:\n",
    "            model = NMF_w0(n_components=int(k), alpha=a_h, max_iter=int(iter_num),\\\n",
    "                           l1_ratio=l1, random_state=int(rand_seed), zero_weight=w0, \\\n",
    "                           init='nndsvd', solver=\"zero\")\n",
    "            W = model.fit_transform_w0(test_matrice[:,1:], zero_matrice)\n",
    "    H = model.components_\n",
    "    WH = np.dot(W, H)\n",
    "    end = time.time()\n",
    "    run_time = end-start\n",
    "    print(dict_keys)\n",
    "    print(f'running time={end-start}')\n",
    "    #print(cal_rmse(test_matrice_reverse, WH))\n",
    "    #print(cal_rmse(test_matrice_reverse, np.round(WH, 0)))\n",
    "    if True in np.isnan(WH):\n",
    "        return(param_list)\n",
    "    else:\n",
    "        zero_index, non_zero_num = zero_est_eval(WH, zero_matrice, print_non_zero=True)\n",
    "        rmse_, mae_ = non_zero_est_eval(test_matrice, WH, zero_matrice, withid=True)\n",
    "\n",
    "    #print(param_list)\n",
    "    #print(rmse_, mae_, zero_index, non_zero_num)\n",
    "    \n",
    "    #rmse, mae, zero_per, non_zero_num\n",
    "    param_list.append(zero_index)\n",
    "    param_list.append(non_zero_num)\n",
    "    param_list.append(rmse_)\n",
    "    param_list.append(mae_)\n",
    "    param_list.append(run_time)\n",
    "    #print(type(param_list))\n",
    "    \n",
    "    return(param_list)\n",
    "    \n",
    "        \n",
    "def param_group_separate(test_parameter, \n",
    "                         params, \n",
    "                         test_parameters_dict,  \n",
    "                         para_val, \n",
    "                         print_index=True):\n",
    "    \n",
    "    if len(test_parameter) > 0:\n",
    "        combined_para_lst = []\n",
    "        #test parameter separately\n",
    "        for para in test_parameter:\n",
    "            para_index = params.index(para)\n",
    "            for vals in test_parameters_dict[para]:\n",
    "                para_update = para_val.copy()\n",
    "                para_update[para_index] = vals\n",
    "                combined_para_lst.append(para_update)\n",
    "        single_para = False\n",
    "    else:\n",
    "        combined_para_lst = para_val\n",
    "        single_para = True\n",
    "    if print_index == True:\n",
    "        print(combined_para_lst)\n",
    "    return(combined_para_lst, single_para)\n",
    "\n",
    "def combine_2paras(lst1, lst2):\n",
    "    unique_combinations = [] \n",
    "    permut = itertools.permutations(lst1, len(lst2))\n",
    "\n",
    "    for comb in permut:\n",
    "        zipped = zip(comb, lst2)\n",
    "        unique_combinations.extend(list(zipped))\n",
    "    return(list(set(unique_combinations)))\n",
    "\n",
    "def get_repeat_num(val_len, index_num, divide_num, repeat_array):\n",
    "    val_repeat = val_len.copy()\n",
    "    val_repeat.pop(index_num)\n",
    "    \n",
    "    repeat_num = 1\n",
    "    for num in val_repeat:\n",
    "        repeat_num *= num\n",
    "            \n",
    "    new_arr = np.tile(np.repeat(repeat_array, repeat_num/divide_num), divide_num)\n",
    "    \n",
    "    divide_num *= val_len[index_num]\n",
    "    return(new_arr, divide_num)\n",
    "\n",
    "def param_combined(test_parameter, params, test_parameters_dict, para_val, print_index): \n",
    "    test_para_loc = []\n",
    "    for test_para in test_parameter:\n",
    "        index_loc = params.index(test_para)\n",
    "        test_para_loc.append(index_loc)\n",
    "\n",
    "        #get the index loc of each parameter\n",
    "    num_test_para = len(test_para_loc)\n",
    "    test_val = []\n",
    "    for i in test_para_loc:\n",
    "        test_val.append(test_parameters_dict[params[i]])\n",
    "\n",
    "    #check length of the parameter\n",
    "    val_len = []\n",
    "    repeat_len = {}\n",
    "    total_val = 1\n",
    "    for i in range(num_test_para):\n",
    "        num_var = len(test_val[i])\n",
    "        val_len.append(num_var)\n",
    "        total_val = total_val*num_var\n",
    "\n",
    "    input_para = np.tile(para_val, (total_val, 1))\n",
    "    input_para = input_para.astype(float)\n",
    "\n",
    "    val_num = {}\n",
    "\n",
    "    divide_num = 1\n",
    "    for i in range(num_test_para):\n",
    "        val_num[test_para_loc[i]], divide_num = get_repeat_num(val_len, i, divide_num, test_val[i])\n",
    "\n",
    "    for i in range(num_test_para):\n",
    "        input_para[:, test_para_loc[i]] = val_num[test_para_loc[i]]\n",
    "    if print_index == True:\n",
    "        print(input_para)\n",
    "    \n",
    "    single_para = False\n",
    "    return(input_para, single_para)\n",
    "\n",
    "def convert2lst(combined_set):\n",
    "    revise_vals = combined_set\n",
    "    #print(type(revise_vals[0]))\n",
    "    \n",
    "    if type(revise_vals[0]) is tuple:\n",
    "        print('more than two eles applied')\n",
    "        combined_lst = []\n",
    "        while type(revise_vals[0]) not in [int, float]:\n",
    "            combined_lst.insert(0, revise_vals[-1])\n",
    "            revise_vals = revise_vals[0]\n",
    "        combined_lst.insert(0, revise_vals)\n",
    "    else:\n",
    "        combined_lst = list(combined_set)\n",
    "    return(combined_lst)\n",
    "\n",
    "\n",
    "    combined_lst = []\n",
    "    for ele in combined_p:\n",
    "        para_cur = para_val.copy()\n",
    "        for i in range(len(test_para_convert)):\n",
    "            para_cur[test_para_convert[i]] = ele[i]\n",
    "        combined_lst.append(para_cur)\n",
    "        \n",
    "    singla_para = False\n",
    "    \n",
    "    if print_index == True:\n",
    "        print(combined_lst)\n",
    "    \n",
    "    return(combined_lst, singla_para)\n",
    "\n",
    "def parameter_test(test_parameters_dict, \n",
    "                   params,\n",
    "                   cur_dict_keys,\n",
    "                   test_matrice, \n",
    "                   zero_matrice, \n",
    "                   savepath, \n",
    "                   combine_index = False,\n",
    "                   print_index = True,\n",
    "                   single_alpha = False):\n",
    "    #get test param\n",
    "    num_params = len(params)\n",
    "    test_parameter = []\n",
    "\n",
    "    #get and confirm the tested parameters\n",
    "    for para_name in test_parameters_dict:\n",
    "        if type(test_parameters_dict[para_name]) not in [int, float]:\n",
    "            print('test paramters: '+para_name)\n",
    "            test_parameter.append(para_name)\n",
    "        \n",
    "    #combine the parameter together\n",
    "    para_val = []\n",
    "    for i in range(num_params):\n",
    "        if params[i] in test_parameter:\n",
    "            para_val.append(0)\n",
    "        else:\n",
    "            para_val.append(test_parameters_dict[params[i]])\n",
    "    #print(test_parameter)\n",
    "    \n",
    "    if combine_index == False:\n",
    "        combined_para_lst, single_para = param_group_separate(test_parameter, params, \n",
    "                                                              test_parameters_dict, para_val, \n",
    "                                                              print_index)\n",
    "    else:\n",
    "        print(test_parameter)\n",
    "        combined_para_lst, single_para = param_combined(test_parameter, params, \n",
    "                                                        test_parameters_dict, para_val, \n",
    "                                                        print_index)\n",
    "                 \n",
    "    if single_para == False:\n",
    "        for param_list in combined_para_lst:\n",
    "            #print(param_list)\n",
    "            dict_keys = get_dict_keys(param_list, params, single_alpha)\n",
    "            if dict_keys not in cur_dict_keys:\n",
    "                cur_dict_keys.append(dict_keys)\n",
    "                input_list = param_list.copy()\n",
    "                output_list = model_estimation(input_list, test_matrice, zero_matrice, dict_keys, single_alpha)\n",
    "                writelines(output_list, savepath, single_alpha)\n",
    "    else:\n",
    "        dict_keys = get_dict_keys(combined_para_lst, params, single_alpha)\n",
    "        if dict_keys not in cur_dict_keys:\n",
    "            cur_dict_keys.append(dict_keys)\n",
    "            input_list = combined_para_lst.copy()\n",
    "            output_list = model_estimation(input_list, test_matrice, zero_matrice, dict_keys, single_alpha)\n",
    "            print(output_list)\n",
    "            writelines(output_list, savepath, single_alpha)"
   ]
  },
  {
   "cell_type": "code",
   "execution_count": 55,
   "metadata": {},
   "outputs": [],
   "source": [
    "#cur_dict_keys[-1]\n",
    "#cur_dict_keys = cur_dict_keys[:-1]"
   ]
  },
  {
   "cell_type": "code",
   "execution_count": 11,
   "metadata": {},
   "outputs": [],
   "source": [
    "l1 = np.round(0.1*np.array(list(range(10))),2)\n",
    "alpha_para = np.round(0.1*np.array(list(range(10))),2)\n",
    "zero_w = np.round(0.1*np.array(list(range(1,20))),2)\n",
    "test_lf = list(range(2, 101))\n",
    "#alpha_para"
   ]
  },
  {
   "cell_type": "code",
   "execution_count": null,
   "metadata": {},
   "outputs": [],
   "source": [
    "cur_dict_keys = []\n",
    "['zero_index', 'k', 'lambda', 'alpha_w', 'alpha_h', 'w0', 'max_iter', 'random_state']\n",
    "w0_test_dict = create_test_param_dict([1, test_lf, 0, 0, 0, 0.1, 1000, 42], params)\n",
    "\n",
    "parameter_test(w0_test_dict, params, \n",
    "               cur_dict_keys, test_matrice_reverse, \n",
    "               Zero_index, 'nmf_est_result.txt', \n",
    "               combine_index = True,\n",
    "               print_index = False)"
   ]
  },
  {
   "cell_type": "code",
   "execution_count": null,
   "metadata": {},
   "outputs": [],
   "source": [
    "l_test_dict = create_test_param_dict([1, [9, 10], l1, 0, 0, zero_w, 1000, 42], params)\n",
    "\n",
    "parameter_test(l_test_dict, params, \n",
    "               cur_dict_keys, test_matrice_reverse, \n",
    "               Zero_index, 'nmf_est_result.txt', \n",
    "               combine_index = True,\n",
    "               print_index = False)"
   ]
  },
  {
   "cell_type": "code",
   "execution_count": 75,
   "metadata": {},
   "outputs": [
    {
     "name": "stdout",
     "output_type": "stream",
     "text": [
      "test paramters: k\n",
      "test paramters: alpha_w\n",
      "test paramters: alpha_h\n",
      "['k', 'alpha_w', 'alpha_h']\n",
      "[1.0e+00 9.0e+00 1.0e-01 0.0e+00 0.0e+00 1.0e-01 1.0e+03 4.2e+01]\n",
      "[1.0, 9.0, 0.1, 0.0, 0.0, 0.1, 1000.0, 42.0]\n"
     ]
    },
    {
     "name": "stderr",
     "output_type": "stream",
     "text": [
      "C:\\Users\\guoqq17\\anaconda3\\lib\\site-packages\\ipykernel_launcher.py:1081: FutureWarning: `alpha` was deprecated in version 1.0 and will be removed in 1.2. Use `alpha_W` and `alpha_H` instead\n"
     ]
    },
    {
     "name": "stdout",
     "output_type": "stream",
     "text": [
      "zero_index=1, k=9, lambda=0.1, alpha_w=NA, alpha_h=0.0, w0=0.1, max_iter=1000, random_state=42\n",
      "running time=2007.9036984443665\n",
      "617\n",
      "[1.0e+00 9.0e+00 1.0e-01 0.0e+00 1.0e-01 1.0e-01 1.0e+03 4.2e+01]\n",
      "[1.0, 9.0, 0.1, 0.0, 0.1, 0.1, 1000.0, 42.0]\n"
     ]
    },
    {
     "name": "stderr",
     "output_type": "stream",
     "text": [
      "C:\\Users\\guoqq17\\anaconda3\\lib\\site-packages\\ipykernel_launcher.py:1081: FutureWarning: `alpha` was deprecated in version 1.0 and will be removed in 1.2. Use `alpha_W` and `alpha_H` instead\n"
     ]
    },
    {
     "name": "stdout",
     "output_type": "stream",
     "text": [
      "zero_index=1, k=9, lambda=0.1, alpha_w=NA, alpha_h=0.1, w0=0.1, max_iter=1000, random_state=42\n",
      "running time=1719.3135039806366\n",
      "613\n",
      "[1.0e+00 9.0e+00 1.0e-01 0.0e+00 2.0e-01 1.0e-01 1.0e+03 4.2e+01]\n",
      "[1.0, 9.0, 0.1, 0.0, 0.2, 0.1, 1000.0, 42.0]\n"
     ]
    },
    {
     "name": "stderr",
     "output_type": "stream",
     "text": [
      "C:\\Users\\guoqq17\\anaconda3\\lib\\site-packages\\ipykernel_launcher.py:1081: FutureWarning: `alpha` was deprecated in version 1.0 and will be removed in 1.2. Use `alpha_W` and `alpha_H` instead\n"
     ]
    },
    {
     "name": "stdout",
     "output_type": "stream",
     "text": [
      "zero_index=1, k=9, lambda=0.1, alpha_w=NA, alpha_h=0.2, w0=0.1, max_iter=1000, random_state=42\n",
      "running time=1704.9622611999512\n",
      "611\n",
      "[1.0e+00 9.0e+00 1.0e-01 0.0e+00 3.0e-01 1.0e-01 1.0e+03 4.2e+01]\n",
      "[1.0, 9.0, 0.1, 0.0, 0.3, 0.1, 1000.0, 42.0]\n"
     ]
    },
    {
     "name": "stderr",
     "output_type": "stream",
     "text": [
      "C:\\Users\\guoqq17\\anaconda3\\lib\\site-packages\\ipykernel_launcher.py:1081: FutureWarning: `alpha` was deprecated in version 1.0 and will be removed in 1.2. Use `alpha_W` and `alpha_H` instead\n"
     ]
    },
    {
     "name": "stdout",
     "output_type": "stream",
     "text": [
      "zero_index=1, k=9, lambda=0.1, alpha_w=NA, alpha_h=0.3, w0=0.1, max_iter=1000, random_state=42\n",
      "running time=1702.869369506836\n",
      "607\n",
      "[1.0e+00 9.0e+00 1.0e-01 0.0e+00 4.0e-01 1.0e-01 1.0e+03 4.2e+01]\n",
      "[1.0, 9.0, 0.1, 0.0, 0.4, 0.1, 1000.0, 42.0]\n"
     ]
    },
    {
     "name": "stderr",
     "output_type": "stream",
     "text": [
      "C:\\Users\\guoqq17\\anaconda3\\lib\\site-packages\\ipykernel_launcher.py:1081: FutureWarning: `alpha` was deprecated in version 1.0 and will be removed in 1.2. Use `alpha_W` and `alpha_H` instead\n"
     ]
    },
    {
     "name": "stdout",
     "output_type": "stream",
     "text": [
      "zero_index=1, k=9, lambda=0.1, alpha_w=NA, alpha_h=0.4, w0=0.1, max_iter=1000, random_state=42\n",
      "running time=1703.5159747600555\n",
      "605\n",
      "[1.0e+00 9.0e+00 1.0e-01 0.0e+00 5.0e-01 1.0e-01 1.0e+03 4.2e+01]\n",
      "[1.0, 9.0, 0.1, 0.0, 0.5, 0.1, 1000.0, 42.0]\n"
     ]
    },
    {
     "name": "stderr",
     "output_type": "stream",
     "text": [
      "C:\\Users\\guoqq17\\anaconda3\\lib\\site-packages\\ipykernel_launcher.py:1081: FutureWarning: `alpha` was deprecated in version 1.0 and will be removed in 1.2. Use `alpha_W` and `alpha_H` instead\n"
     ]
    },
    {
     "name": "stdout",
     "output_type": "stream",
     "text": [
      "zero_index=1, k=9, lambda=0.1, alpha_w=NA, alpha_h=0.5, w0=0.1, max_iter=1000, random_state=42\n",
      "running time=1696.5696609020233\n",
      "603\n",
      "[1.0e+00 9.0e+00 1.0e-01 0.0e+00 6.0e-01 1.0e-01 1.0e+03 4.2e+01]\n",
      "[1.0, 9.0, 0.1, 0.0, 0.6, 0.1, 1000.0, 42.0]\n"
     ]
    },
    {
     "name": "stderr",
     "output_type": "stream",
     "text": [
      "C:\\Users\\guoqq17\\anaconda3\\lib\\site-packages\\ipykernel_launcher.py:1081: FutureWarning: `alpha` was deprecated in version 1.0 and will be removed in 1.2. Use `alpha_W` and `alpha_H` instead\n"
     ]
    },
    {
     "name": "stdout",
     "output_type": "stream",
     "text": [
      "zero_index=1, k=9, lambda=0.1, alpha_w=NA, alpha_h=0.6, w0=0.1, max_iter=1000, random_state=42\n",
      "running time=1743.4413990974426\n",
      "601\n",
      "[1.0e+00 9.0e+00 1.0e-01 0.0e+00 7.0e-01 1.0e-01 1.0e+03 4.2e+01]\n",
      "[1.0, 9.0, 0.1, 0.0, 0.7, 0.1, 1000.0, 42.0]\n"
     ]
    },
    {
     "name": "stderr",
     "output_type": "stream",
     "text": [
      "C:\\Users\\guoqq17\\anaconda3\\lib\\site-packages\\ipykernel_launcher.py:1081: FutureWarning: `alpha` was deprecated in version 1.0 and will be removed in 1.2. Use `alpha_W` and `alpha_H` instead\n"
     ]
    },
    {
     "name": "stdout",
     "output_type": "stream",
     "text": [
      "zero_index=1, k=9, lambda=0.1, alpha_w=NA, alpha_h=0.7, w0=0.1, max_iter=1000, random_state=42\n",
      "running time=1727.3280942440033\n",
      "601\n",
      "[1.0e+00 9.0e+00 1.0e-01 0.0e+00 8.0e-01 1.0e-01 1.0e+03 4.2e+01]\n",
      "[1.0, 9.0, 0.1, 0.0, 0.8, 0.1, 1000.0, 42.0]\n"
     ]
    },
    {
     "name": "stderr",
     "output_type": "stream",
     "text": [
      "C:\\Users\\guoqq17\\anaconda3\\lib\\site-packages\\ipykernel_launcher.py:1081: FutureWarning: `alpha` was deprecated in version 1.0 and will be removed in 1.2. Use `alpha_W` and `alpha_H` instead\n"
     ]
    },
    {
     "name": "stdout",
     "output_type": "stream",
     "text": [
      "zero_index=1, k=9, lambda=0.1, alpha_w=NA, alpha_h=0.8, w0=0.1, max_iter=1000, random_state=42\n",
      "running time=1705.1872465610504\n",
      "598\n",
      "[1.0e+00 9.0e+00 1.0e-01 0.0e+00 9.0e-01 1.0e-01 1.0e+03 4.2e+01]\n",
      "[1.0, 9.0, 0.1, 0.0, 0.9, 0.1, 1000.0, 42.0]\n"
     ]
    },
    {
     "name": "stderr",
     "output_type": "stream",
     "text": [
      "C:\\Users\\guoqq17\\anaconda3\\lib\\site-packages\\ipykernel_launcher.py:1081: FutureWarning: `alpha` was deprecated in version 1.0 and will be removed in 1.2. Use `alpha_W` and `alpha_H` instead\n"
     ]
    },
    {
     "name": "stdout",
     "output_type": "stream",
     "text": [
      "zero_index=1, k=9, lambda=0.1, alpha_w=NA, alpha_h=0.9, w0=0.1, max_iter=1000, random_state=42\n",
      "running time=1679.2617197036743\n",
      "595\n",
      "[1.0e+00 1.0e+01 1.0e-01 0.0e+00 0.0e+00 1.0e-01 1.0e+03 4.2e+01]\n",
      "[1.0, 10.0, 0.1, 0.0, 0.0, 0.1, 1000.0, 42.0]\n"
     ]
    },
    {
     "name": "stderr",
     "output_type": "stream",
     "text": [
      "C:\\Users\\guoqq17\\anaconda3\\lib\\site-packages\\ipykernel_launcher.py:1081: FutureWarning: `alpha` was deprecated in version 1.0 and will be removed in 1.2. Use `alpha_W` and `alpha_H` instead\n"
     ]
    },
    {
     "name": "stdout",
     "output_type": "stream",
     "text": [
      "zero_index=1, k=10, lambda=0.1, alpha_w=NA, alpha_h=0.0, w0=0.1, max_iter=1000, random_state=42\n",
      "running time=1669.2274663448334\n",
      "249\n",
      "[1.0e+00 1.0e+01 1.0e-01 0.0e+00 1.0e-01 1.0e-01 1.0e+03 4.2e+01]\n",
      "[1.0, 10.0, 0.1, 0.0, 0.1, 0.1, 1000.0, 42.0]\n"
     ]
    },
    {
     "name": "stderr",
     "output_type": "stream",
     "text": [
      "C:\\Users\\guoqq17\\anaconda3\\lib\\site-packages\\ipykernel_launcher.py:1081: FutureWarning: `alpha` was deprecated in version 1.0 and will be removed in 1.2. Use `alpha_W` and `alpha_H` instead\n"
     ]
    },
    {
     "name": "stdout",
     "output_type": "stream",
     "text": [
      "zero_index=1, k=10, lambda=0.1, alpha_w=NA, alpha_h=0.1, w0=0.1, max_iter=1000, random_state=42\n",
      "running time=1675.1884570121765\n",
      "248\n",
      "[1.0e+00 1.0e+01 1.0e-01 0.0e+00 2.0e-01 1.0e-01 1.0e+03 4.2e+01]\n",
      "[1.0, 10.0, 0.1, 0.0, 0.2, 0.1, 1000.0, 42.0]\n"
     ]
    },
    {
     "name": "stderr",
     "output_type": "stream",
     "text": [
      "C:\\Users\\guoqq17\\anaconda3\\lib\\site-packages\\ipykernel_launcher.py:1081: FutureWarning: `alpha` was deprecated in version 1.0 and will be removed in 1.2. Use `alpha_W` and `alpha_H` instead\n"
     ]
    },
    {
     "name": "stdout",
     "output_type": "stream",
     "text": [
      "zero_index=1, k=10, lambda=0.1, alpha_w=NA, alpha_h=0.2, w0=0.1, max_iter=1000, random_state=42\n",
      "running time=1686.6226601600647\n",
      "248\n",
      "[1.0e+00 1.0e+01 1.0e-01 0.0e+00 3.0e-01 1.0e-01 1.0e+03 4.2e+01]\n",
      "[1.0, 10.0, 0.1, 0.0, 0.3, 0.1, 1000.0, 42.0]\n"
     ]
    },
    {
     "name": "stderr",
     "output_type": "stream",
     "text": [
      "C:\\Users\\guoqq17\\anaconda3\\lib\\site-packages\\ipykernel_launcher.py:1081: FutureWarning: `alpha` was deprecated in version 1.0 and will be removed in 1.2. Use `alpha_W` and `alpha_H` instead\n"
     ]
    },
    {
     "name": "stdout",
     "output_type": "stream",
     "text": [
      "zero_index=1, k=10, lambda=0.1, alpha_w=NA, alpha_h=0.3, w0=0.1, max_iter=1000, random_state=42\n",
      "running time=1676.77188205719\n",
      "247\n",
      "[1.0e+00 1.0e+01 1.0e-01 0.0e+00 4.0e-01 1.0e-01 1.0e+03 4.2e+01]\n",
      "[1.0, 10.0, 0.1, 0.0, 0.4, 0.1, 1000.0, 42.0]\n"
     ]
    },
    {
     "name": "stderr",
     "output_type": "stream",
     "text": [
      "C:\\Users\\guoqq17\\anaconda3\\lib\\site-packages\\ipykernel_launcher.py:1081: FutureWarning: `alpha` was deprecated in version 1.0 and will be removed in 1.2. Use `alpha_W` and `alpha_H` instead\n"
     ]
    },
    {
     "name": "stdout",
     "output_type": "stream",
     "text": [
      "zero_index=1, k=10, lambda=0.1, alpha_w=NA, alpha_h=0.4, w0=0.1, max_iter=1000, random_state=42\n",
      "running time=1671.464002609253\n",
      "247\n",
      "[1.0e+00 1.0e+01 1.0e-01 0.0e+00 5.0e-01 1.0e-01 1.0e+03 4.2e+01]\n",
      "[1.0, 10.0, 0.1, 0.0, 0.5, 0.1, 1000.0, 42.0]\n"
     ]
    },
    {
     "name": "stderr",
     "output_type": "stream",
     "text": [
      "C:\\Users\\guoqq17\\anaconda3\\lib\\site-packages\\ipykernel_launcher.py:1081: FutureWarning: `alpha` was deprecated in version 1.0 and will be removed in 1.2. Use `alpha_W` and `alpha_H` instead\n"
     ]
    },
    {
     "name": "stdout",
     "output_type": "stream",
     "text": [
      "zero_index=1, k=10, lambda=0.1, alpha_w=NA, alpha_h=0.5, w0=0.1, max_iter=1000, random_state=42\n",
      "running time=1670.7298967838287\n",
      "247\n",
      "[1.0e+00 1.0e+01 1.0e-01 0.0e+00 6.0e-01 1.0e-01 1.0e+03 4.2e+01]\n",
      "[1.0, 10.0, 0.1, 0.0, 0.6, 0.1, 1000.0, 42.0]\n"
     ]
    },
    {
     "name": "stderr",
     "output_type": "stream",
     "text": [
      "C:\\Users\\guoqq17\\anaconda3\\lib\\site-packages\\ipykernel_launcher.py:1081: FutureWarning: `alpha` was deprecated in version 1.0 and will be removed in 1.2. Use `alpha_W` and `alpha_H` instead\n"
     ]
    },
    {
     "name": "stdout",
     "output_type": "stream",
     "text": [
      "zero_index=1, k=10, lambda=0.1, alpha_w=NA, alpha_h=0.6, w0=0.1, max_iter=1000, random_state=42\n",
      "running time=1673.2674038410187\n",
      "247\n",
      "[1.0e+00 1.0e+01 1.0e-01 0.0e+00 7.0e-01 1.0e-01 1.0e+03 4.2e+01]\n",
      "[1.0, 10.0, 0.1, 0.0, 0.7, 0.1, 1000.0, 42.0]\n"
     ]
    },
    {
     "name": "stderr",
     "output_type": "stream",
     "text": [
      "C:\\Users\\guoqq17\\anaconda3\\lib\\site-packages\\ipykernel_launcher.py:1081: FutureWarning: `alpha` was deprecated in version 1.0 and will be removed in 1.2. Use `alpha_W` and `alpha_H` instead\n"
     ]
    },
    {
     "name": "stdout",
     "output_type": "stream",
     "text": [
      "zero_index=1, k=10, lambda=0.1, alpha_w=NA, alpha_h=0.7, w0=0.1, max_iter=1000, random_state=42\n",
      "running time=1667.4469616413116\n",
      "245\n",
      "[1.0e+00 1.0e+01 1.0e-01 0.0e+00 8.0e-01 1.0e-01 1.0e+03 4.2e+01]\n",
      "[1.0, 10.0, 0.1, 0.0, 0.8, 0.1, 1000.0, 42.0]\n"
     ]
    },
    {
     "name": "stderr",
     "output_type": "stream",
     "text": [
      "C:\\Users\\guoqq17\\anaconda3\\lib\\site-packages\\ipykernel_launcher.py:1081: FutureWarning: `alpha` was deprecated in version 1.0 and will be removed in 1.2. Use `alpha_W` and `alpha_H` instead\n"
     ]
    },
    {
     "name": "stdout",
     "output_type": "stream",
     "text": [
      "zero_index=1, k=10, lambda=0.1, alpha_w=NA, alpha_h=0.8, w0=0.1, max_iter=1000, random_state=42\n",
      "running time=1671.9513757228851\n",
      "245\n",
      "[1.0e+00 1.0e+01 1.0e-01 0.0e+00 9.0e-01 1.0e-01 1.0e+03 4.2e+01]\n",
      "[1.0, 10.0, 0.1, 0.0, 0.9, 0.1, 1000.0, 42.0]\n"
     ]
    },
    {
     "name": "stderr",
     "output_type": "stream",
     "text": [
      "C:\\Users\\guoqq17\\anaconda3\\lib\\site-packages\\ipykernel_launcher.py:1081: FutureWarning: `alpha` was deprecated in version 1.0 and will be removed in 1.2. Use `alpha_W` and `alpha_H` instead\n"
     ]
    },
    {
     "name": "stdout",
     "output_type": "stream",
     "text": [
      "zero_index=1, k=10, lambda=0.1, alpha_w=NA, alpha_h=0.9, w0=0.1, max_iter=1000, random_state=42\n",
      "running time=1670.0058152675629\n",
      "244\n",
      "test paramters: k\n",
      "test paramters: alpha_w\n",
      "test paramters: alpha_h\n",
      "['k', 'alpha_w', 'alpha_h']\n",
      "[0.0e+00 9.0e+00 1.0e-01 0.0e+00 0.0e+00 0.0e+00 1.0e+03 4.2e+01]\n",
      "[0.0, 9.0, 0.1, 0.0, 0.0, 0.0, 1000.0, 42.0]\n"
     ]
    },
    {
     "name": "stderr",
     "output_type": "stream",
     "text": [
      "C:\\Users\\guoqq17\\anaconda3\\lib\\site-packages\\ipykernel_launcher.py:1081: FutureWarning: `alpha` was deprecated in version 1.0 and will be removed in 1.2. Use `alpha_W` and `alpha_H` instead\n"
     ]
    },
    {
     "name": "stdout",
     "output_type": "stream",
     "text": [
      "zero_index=0, k=9, lambda=0.1, alpha_w=NA, alpha_h=0.0, w0=0.0, max_iter=1000, random_state=42\n",
      "running time=24.830163717269897\n",
      "680\n",
      "[0.0e+00 9.0e+00 1.0e-01 0.0e+00 1.0e-01 0.0e+00 1.0e+03 4.2e+01]\n",
      "[0.0, 9.0, 0.1, 0.0, 0.1, 0.0, 1000.0, 42.0]\n"
     ]
    },
    {
     "name": "stderr",
     "output_type": "stream",
     "text": [
      "C:\\Users\\guoqq17\\anaconda3\\lib\\site-packages\\ipykernel_launcher.py:1081: FutureWarning: `alpha` was deprecated in version 1.0 and will be removed in 1.2. Use `alpha_W` and `alpha_H` instead\n"
     ]
    },
    {
     "name": "stdout",
     "output_type": "stream",
     "text": [
      "zero_index=0, k=9, lambda=0.1, alpha_w=NA, alpha_h=0.1, w0=0.0, max_iter=1000, random_state=42\n",
      "running time=24.962780714035034\n",
      "678\n",
      "[0.0e+00 9.0e+00 1.0e-01 0.0e+00 2.0e-01 0.0e+00 1.0e+03 4.2e+01]\n",
      "[0.0, 9.0, 0.1, 0.0, 0.2, 0.0, 1000.0, 42.0]\n"
     ]
    },
    {
     "name": "stderr",
     "output_type": "stream",
     "text": [
      "C:\\Users\\guoqq17\\anaconda3\\lib\\site-packages\\ipykernel_launcher.py:1081: FutureWarning: `alpha` was deprecated in version 1.0 and will be removed in 1.2. Use `alpha_W` and `alpha_H` instead\n"
     ]
    },
    {
     "name": "stdout",
     "output_type": "stream",
     "text": [
      "zero_index=0, k=9, lambda=0.1, alpha_w=NA, alpha_h=0.2, w0=0.0, max_iter=1000, random_state=42\n",
      "running time=24.78756356239319\n",
      "678\n",
      "[0.0e+00 9.0e+00 1.0e-01 0.0e+00 3.0e-01 0.0e+00 1.0e+03 4.2e+01]\n",
      "[0.0, 9.0, 0.1, 0.0, 0.3, 0.0, 1000.0, 42.0]\n"
     ]
    },
    {
     "name": "stderr",
     "output_type": "stream",
     "text": [
      "C:\\Users\\guoqq17\\anaconda3\\lib\\site-packages\\ipykernel_launcher.py:1081: FutureWarning: `alpha` was deprecated in version 1.0 and will be removed in 1.2. Use `alpha_W` and `alpha_H` instead\n"
     ]
    },
    {
     "name": "stdout",
     "output_type": "stream",
     "text": [
      "zero_index=0, k=9, lambda=0.1, alpha_w=NA, alpha_h=0.3, w0=0.0, max_iter=1000, random_state=42\n",
      "running time=25.101053476333618\n",
      "677\n",
      "[0.0e+00 9.0e+00 1.0e-01 0.0e+00 4.0e-01 0.0e+00 1.0e+03 4.2e+01]\n",
      "[0.0, 9.0, 0.1, 0.0, 0.4, 0.0, 1000.0, 42.0]\n"
     ]
    },
    {
     "name": "stderr",
     "output_type": "stream",
     "text": [
      "C:\\Users\\guoqq17\\anaconda3\\lib\\site-packages\\ipykernel_launcher.py:1081: FutureWarning: `alpha` was deprecated in version 1.0 and will be removed in 1.2. Use `alpha_W` and `alpha_H` instead\n"
     ]
    },
    {
     "name": "stdout",
     "output_type": "stream",
     "text": [
      "zero_index=0, k=9, lambda=0.1, alpha_w=NA, alpha_h=0.4, w0=0.0, max_iter=1000, random_state=42\n",
      "running time=25.1982524394989\n",
      "673\n",
      "[0.0e+00 9.0e+00 1.0e-01 0.0e+00 5.0e-01 0.0e+00 1.0e+03 4.2e+01]\n",
      "[0.0, 9.0, 0.1, 0.0, 0.5, 0.0, 1000.0, 42.0]\n"
     ]
    },
    {
     "name": "stderr",
     "output_type": "stream",
     "text": [
      "C:\\Users\\guoqq17\\anaconda3\\lib\\site-packages\\ipykernel_launcher.py:1081: FutureWarning: `alpha` was deprecated in version 1.0 and will be removed in 1.2. Use `alpha_W` and `alpha_H` instead\n"
     ]
    },
    {
     "name": "stdout",
     "output_type": "stream",
     "text": [
      "zero_index=0, k=9, lambda=0.1, alpha_w=NA, alpha_h=0.5, w0=0.0, max_iter=1000, random_state=42\n",
      "running time=24.925073385238647\n",
      "672\n",
      "[0.0e+00 9.0e+00 1.0e-01 0.0e+00 6.0e-01 0.0e+00 1.0e+03 4.2e+01]\n",
      "[0.0, 9.0, 0.1, 0.0, 0.6, 0.0, 1000.0, 42.0]\n"
     ]
    },
    {
     "name": "stderr",
     "output_type": "stream",
     "text": [
      "C:\\Users\\guoqq17\\anaconda3\\lib\\site-packages\\ipykernel_launcher.py:1081: FutureWarning: `alpha` was deprecated in version 1.0 and will be removed in 1.2. Use `alpha_W` and `alpha_H` instead\n"
     ]
    },
    {
     "name": "stdout",
     "output_type": "stream",
     "text": [
      "zero_index=0, k=9, lambda=0.1, alpha_w=NA, alpha_h=0.6, w0=0.0, max_iter=1000, random_state=42\n",
      "running time=24.750947952270508\n",
      "672\n",
      "[0.0e+00 9.0e+00 1.0e-01 0.0e+00 7.0e-01 0.0e+00 1.0e+03 4.2e+01]\n",
      "[0.0, 9.0, 0.1, 0.0, 0.7, 0.0, 1000.0, 42.0]\n"
     ]
    },
    {
     "name": "stderr",
     "output_type": "stream",
     "text": [
      "C:\\Users\\guoqq17\\anaconda3\\lib\\site-packages\\ipykernel_launcher.py:1081: FutureWarning: `alpha` was deprecated in version 1.0 and will be removed in 1.2. Use `alpha_W` and `alpha_H` instead\n"
     ]
    },
    {
     "name": "stdout",
     "output_type": "stream",
     "text": [
      "zero_index=0, k=9, lambda=0.1, alpha_w=NA, alpha_h=0.7, w0=0.0, max_iter=1000, random_state=42\n",
      "running time=25.14576292037964\n",
      "669\n",
      "[0.0e+00 9.0e+00 1.0e-01 0.0e+00 8.0e-01 0.0e+00 1.0e+03 4.2e+01]\n",
      "[0.0, 9.0, 0.1, 0.0, 0.8, 0.0, 1000.0, 42.0]\n"
     ]
    },
    {
     "name": "stderr",
     "output_type": "stream",
     "text": [
      "C:\\Users\\guoqq17\\anaconda3\\lib\\site-packages\\ipykernel_launcher.py:1081: FutureWarning: `alpha` was deprecated in version 1.0 and will be removed in 1.2. Use `alpha_W` and `alpha_H` instead\n"
     ]
    },
    {
     "name": "stdout",
     "output_type": "stream",
     "text": [
      "zero_index=0, k=9, lambda=0.1, alpha_w=NA, alpha_h=0.8, w0=0.0, max_iter=1000, random_state=42\n",
      "running time=24.899685382843018\n",
      "664\n",
      "[0.0e+00 9.0e+00 1.0e-01 0.0e+00 9.0e-01 0.0e+00 1.0e+03 4.2e+01]\n",
      "[0.0, 9.0, 0.1, 0.0, 0.9, 0.0, 1000.0, 42.0]\n"
     ]
    },
    {
     "name": "stderr",
     "output_type": "stream",
     "text": [
      "C:\\Users\\guoqq17\\anaconda3\\lib\\site-packages\\ipykernel_launcher.py:1081: FutureWarning: `alpha` was deprecated in version 1.0 and will be removed in 1.2. Use `alpha_W` and `alpha_H` instead\n"
     ]
    },
    {
     "name": "stdout",
     "output_type": "stream",
     "text": [
      "zero_index=0, k=9, lambda=0.1, alpha_w=NA, alpha_h=0.9, w0=0.0, max_iter=1000, random_state=42\n",
      "running time=26.503790855407715\n",
      "664\n",
      "[0.0e+00 1.0e+01 1.0e-01 0.0e+00 0.0e+00 0.0e+00 1.0e+03 4.2e+01]\n",
      "[0.0, 10.0, 0.1, 0.0, 0.0, 0.0, 1000.0, 42.0]\n"
     ]
    },
    {
     "name": "stderr",
     "output_type": "stream",
     "text": [
      "C:\\Users\\guoqq17\\anaconda3\\lib\\site-packages\\ipykernel_launcher.py:1081: FutureWarning: `alpha` was deprecated in version 1.0 and will be removed in 1.2. Use `alpha_W` and `alpha_H` instead\n"
     ]
    },
    {
     "name": "stdout",
     "output_type": "stream",
     "text": [
      "zero_index=0, k=10, lambda=0.1, alpha_w=NA, alpha_h=0.0, w0=0.0, max_iter=1000, random_state=42\n",
      "running time=25.051746368408203\n",
      "263\n",
      "[0.0e+00 1.0e+01 1.0e-01 0.0e+00 1.0e-01 0.0e+00 1.0e+03 4.2e+01]\n",
      "[0.0, 10.0, 0.1, 0.0, 0.1, 0.0, 1000.0, 42.0]\n"
     ]
    },
    {
     "name": "stderr",
     "output_type": "stream",
     "text": [
      "C:\\Users\\guoqq17\\anaconda3\\lib\\site-packages\\ipykernel_launcher.py:1081: FutureWarning: `alpha` was deprecated in version 1.0 and will be removed in 1.2. Use `alpha_W` and `alpha_H` instead\n"
     ]
    },
    {
     "name": "stdout",
     "output_type": "stream",
     "text": [
      "zero_index=0, k=10, lambda=0.1, alpha_w=NA, alpha_h=0.1, w0=0.0, max_iter=1000, random_state=42\n",
      "running time=25.723159074783325\n",
      "262\n",
      "[0.0e+00 1.0e+01 1.0e-01 0.0e+00 2.0e-01 0.0e+00 1.0e+03 4.2e+01]\n",
      "[0.0, 10.0, 0.1, 0.0, 0.2, 0.0, 1000.0, 42.0]\n"
     ]
    },
    {
     "name": "stderr",
     "output_type": "stream",
     "text": [
      "C:\\Users\\guoqq17\\anaconda3\\lib\\site-packages\\ipykernel_launcher.py:1081: FutureWarning: `alpha` was deprecated in version 1.0 and will be removed in 1.2. Use `alpha_W` and `alpha_H` instead\n"
     ]
    },
    {
     "name": "stdout",
     "output_type": "stream",
     "text": [
      "zero_index=0, k=10, lambda=0.1, alpha_w=NA, alpha_h=0.2, w0=0.0, max_iter=1000, random_state=42\n",
      "running time=26.752450704574585\n",
      "261\n",
      "[0.0e+00 1.0e+01 1.0e-01 0.0e+00 3.0e-01 0.0e+00 1.0e+03 4.2e+01]\n",
      "[0.0, 10.0, 0.1, 0.0, 0.3, 0.0, 1000.0, 42.0]\n"
     ]
    },
    {
     "name": "stderr",
     "output_type": "stream",
     "text": [
      "C:\\Users\\guoqq17\\anaconda3\\lib\\site-packages\\ipykernel_launcher.py:1081: FutureWarning: `alpha` was deprecated in version 1.0 and will be removed in 1.2. Use `alpha_W` and `alpha_H` instead\n"
     ]
    },
    {
     "name": "stdout",
     "output_type": "stream",
     "text": [
      "zero_index=0, k=10, lambda=0.1, alpha_w=NA, alpha_h=0.3, w0=0.0, max_iter=1000, random_state=42\n",
      "running time=25.692384958267212\n",
      "261\n",
      "[0.0e+00 1.0e+01 1.0e-01 0.0e+00 4.0e-01 0.0e+00 1.0e+03 4.2e+01]\n",
      "[0.0, 10.0, 0.1, 0.0, 0.4, 0.0, 1000.0, 42.0]\n"
     ]
    },
    {
     "name": "stderr",
     "output_type": "stream",
     "text": [
      "C:\\Users\\guoqq17\\anaconda3\\lib\\site-packages\\ipykernel_launcher.py:1081: FutureWarning: `alpha` was deprecated in version 1.0 and will be removed in 1.2. Use `alpha_W` and `alpha_H` instead\n"
     ]
    },
    {
     "name": "stdout",
     "output_type": "stream",
     "text": [
      "zero_index=0, k=10, lambda=0.1, alpha_w=NA, alpha_h=0.4, w0=0.0, max_iter=1000, random_state=42\n",
      "running time=25.59882164001465\n",
      "260\n",
      "[0.0e+00 1.0e+01 1.0e-01 0.0e+00 5.0e-01 0.0e+00 1.0e+03 4.2e+01]\n",
      "[0.0, 10.0, 0.1, 0.0, 0.5, 0.0, 1000.0, 42.0]\n"
     ]
    },
    {
     "name": "stderr",
     "output_type": "stream",
     "text": [
      "C:\\Users\\guoqq17\\anaconda3\\lib\\site-packages\\ipykernel_launcher.py:1081: FutureWarning: `alpha` was deprecated in version 1.0 and will be removed in 1.2. Use `alpha_W` and `alpha_H` instead\n"
     ]
    },
    {
     "name": "stdout",
     "output_type": "stream",
     "text": [
      "zero_index=0, k=10, lambda=0.1, alpha_w=NA, alpha_h=0.5, w0=0.0, max_iter=1000, random_state=42\n",
      "running time=25.738381385803223\n",
      "260\n",
      "[0.0e+00 1.0e+01 1.0e-01 0.0e+00 6.0e-01 0.0e+00 1.0e+03 4.2e+01]\n",
      "[0.0, 10.0, 0.1, 0.0, 0.6, 0.0, 1000.0, 42.0]\n"
     ]
    },
    {
     "name": "stderr",
     "output_type": "stream",
     "text": [
      "C:\\Users\\guoqq17\\anaconda3\\lib\\site-packages\\ipykernel_launcher.py:1081: FutureWarning: `alpha` was deprecated in version 1.0 and will be removed in 1.2. Use `alpha_W` and `alpha_H` instead\n"
     ]
    },
    {
     "name": "stdout",
     "output_type": "stream",
     "text": [
      "zero_index=0, k=10, lambda=0.1, alpha_w=NA, alpha_h=0.6, w0=0.0, max_iter=1000, random_state=42\n",
      "running time=25.744954586029053\n",
      "258\n",
      "[0.0e+00 1.0e+01 1.0e-01 0.0e+00 7.0e-01 0.0e+00 1.0e+03 4.2e+01]\n",
      "[0.0, 10.0, 0.1, 0.0, 0.7, 0.0, 1000.0, 42.0]\n"
     ]
    },
    {
     "name": "stderr",
     "output_type": "stream",
     "text": [
      "C:\\Users\\guoqq17\\anaconda3\\lib\\site-packages\\ipykernel_launcher.py:1081: FutureWarning: `alpha` was deprecated in version 1.0 and will be removed in 1.2. Use `alpha_W` and `alpha_H` instead\n"
     ]
    },
    {
     "name": "stdout",
     "output_type": "stream",
     "text": [
      "zero_index=0, k=10, lambda=0.1, alpha_w=NA, alpha_h=0.7, w0=0.0, max_iter=1000, random_state=42\n",
      "running time=26.053169012069702\n",
      "257\n",
      "[0.0e+00 1.0e+01 1.0e-01 0.0e+00 8.0e-01 0.0e+00 1.0e+03 4.2e+01]\n",
      "[0.0, 10.0, 0.1, 0.0, 0.8, 0.0, 1000.0, 42.0]\n"
     ]
    },
    {
     "name": "stderr",
     "output_type": "stream",
     "text": [
      "C:\\Users\\guoqq17\\anaconda3\\lib\\site-packages\\ipykernel_launcher.py:1081: FutureWarning: `alpha` was deprecated in version 1.0 and will be removed in 1.2. Use `alpha_W` and `alpha_H` instead\n"
     ]
    },
    {
     "name": "stdout",
     "output_type": "stream",
     "text": [
      "zero_index=0, k=10, lambda=0.1, alpha_w=NA, alpha_h=0.8, w0=0.0, max_iter=1000, random_state=42\n",
      "running time=25.7692711353302\n",
      "257\n",
      "[0.0e+00 1.0e+01 1.0e-01 0.0e+00 9.0e-01 0.0e+00 1.0e+03 4.2e+01]\n",
      "[0.0, 10.0, 0.1, 0.0, 0.9, 0.0, 1000.0, 42.0]\n"
     ]
    },
    {
     "name": "stderr",
     "output_type": "stream",
     "text": [
      "C:\\Users\\guoqq17\\anaconda3\\lib\\site-packages\\ipykernel_launcher.py:1081: FutureWarning: `alpha` was deprecated in version 1.0 and will be removed in 1.2. Use `alpha_W` and `alpha_H` instead\n"
     ]
    },
    {
     "name": "stdout",
     "output_type": "stream",
     "text": [
      "zero_index=0, k=10, lambda=0.1, alpha_w=NA, alpha_h=0.9, w0=0.0, max_iter=1000, random_state=42\n",
      "running time=25.840879917144775\n",
      "256\n"
     ]
    }
   ],
   "source": [
    "alpha_test_dict = create_test_param_dict([1, [9, 10], 0.1, alpha_para, alpha_para, 0.1, 1000, 42], params)\n",
    "\n",
    "parameter_test(alpha_test_dict, params, \n",
    "               cur_dict_keys, test_matrice_reverse, \n",
    "               Zero_index, 'nmf_est_result.txt', \n",
    "               combine_index = True,\n",
    "               print_index = False,\n",
    "               single_alpha=True)\n",
    "\n",
    "alpha_test_dict_wo0 = create_test_param_dict([0, [9, 10], 0.1, alpha_para, alpha_para, 0, 1000, 42], params)\n",
    "\n",
    "parameter_test(alpha_test_dict_wo0, params, \n",
    "               cur_dict_keys, test_matrice_reverse, \n",
    "               Zero_index, 'nmf_est_result.txt', \n",
    "               combine_index = True,\n",
    "               print_index = False,\n",
    "               single_alpha=True)"
   ]
  },
  {
   "cell_type": "code",
   "execution_count": 29,
   "metadata": {},
   "outputs": [],
   "source": [
    "k_val =np.array(list(range(2,101)))"
   ]
  },
  {
   "cell_type": "code",
   "execution_count": 30,
   "metadata": {},
   "outputs": [],
   "source": [
    "alpha_test_dict_k1 = create_test_param_dict([1, k_val, 0.1, 0.1, 0.1, zero_w, 1000, 42], params)"
   ]
  },
  {
   "cell_type": "code",
   "execution_count": 32,
   "metadata": {},
   "outputs": [],
   "source": [
    "alpha_test_dict_k2 = create_test_param_dict([0, k_val, 0.1, 0.1, 0.1, 0, 1000, 42], params)"
   ]
  },
  {
   "cell_type": "code",
   "execution_count": null,
   "metadata": {},
   "outputs": [
    {
     "name": "stdout",
     "output_type": "stream",
     "text": [
      "test paramters: k\n",
      "test paramters: w0\n",
      "['k', 'w0']\n",
      "[1.0e+00 2.0e+00 1.0e-01 1.0e-01 1.0e-01 1.0e-01 1.0e+03 4.2e+01]\n",
      "[1.0, 2.0, 0.1, 0.1, 0.1, 0.1, 1000.0, 42.0]\n"
     ]
    },
    {
     "name": "stderr",
     "output_type": "stream",
     "text": [
      "C:\\Users\\guoqq17\\anaconda3\\lib\\site-packages\\ipykernel_launcher.py:1081: FutureWarning: `alpha` was deprecated in version 1.0 and will be removed in 1.2. Use `alpha_W` and `alpha_H` instead\n"
     ]
    },
    {
     "name": "stdout",
     "output_type": "stream",
     "text": [
      "zero_index=1, k=2, lambda=0.1, alpha_w=NA, alpha_h=0.1, w0=0.1, max_iter=1000, random_state=42\n",
      "running time=1598.3923242092133\n",
      "104\n",
      "[1.0e+00 2.0e+00 1.0e-01 1.0e-01 1.0e-01 2.0e-01 1.0e+03 4.2e+01]\n",
      "[1.0, 2.0, 0.1, 0.1, 0.1, 0.2, 1000.0, 42.0]\n"
     ]
    },
    {
     "name": "stderr",
     "output_type": "stream",
     "text": [
      "C:\\Users\\guoqq17\\anaconda3\\lib\\site-packages\\ipykernel_launcher.py:1081: FutureWarning: `alpha` was deprecated in version 1.0 and will be removed in 1.2. Use `alpha_W` and `alpha_H` instead\n"
     ]
    },
    {
     "name": "stdout",
     "output_type": "stream",
     "text": [
      "zero_index=1, k=2, lambda=0.1, alpha_w=NA, alpha_h=0.1, w0=0.2, max_iter=1000, random_state=42\n",
      "running time=1598.4193232059479\n",
      "100\n",
      "[1.0e+00 2.0e+00 1.0e-01 1.0e-01 1.0e-01 3.0e-01 1.0e+03 4.2e+01]\n",
      "[1.0, 2.0, 0.1, 0.1, 0.1, 0.3, 1000.0, 42.0]\n"
     ]
    },
    {
     "name": "stderr",
     "output_type": "stream",
     "text": [
      "C:\\Users\\guoqq17\\anaconda3\\lib\\site-packages\\ipykernel_launcher.py:1081: FutureWarning: `alpha` was deprecated in version 1.0 and will be removed in 1.2. Use `alpha_W` and `alpha_H` instead\n"
     ]
    },
    {
     "name": "stdout",
     "output_type": "stream",
     "text": [
      "zero_index=1, k=2, lambda=0.1, alpha_w=NA, alpha_h=0.1, w0=0.3, max_iter=1000, random_state=42\n",
      "running time=1601.9850234985352\n",
      "98\n",
      "[1.0e+00 2.0e+00 1.0e-01 1.0e-01 1.0e-01 4.0e-01 1.0e+03 4.2e+01]\n",
      "[1.0, 2.0, 0.1, 0.1, 0.1, 0.4, 1000.0, 42.0]\n"
     ]
    },
    {
     "name": "stderr",
     "output_type": "stream",
     "text": [
      "C:\\Users\\guoqq17\\anaconda3\\lib\\site-packages\\ipykernel_launcher.py:1081: FutureWarning: `alpha` was deprecated in version 1.0 and will be removed in 1.2. Use `alpha_W` and `alpha_H` instead\n"
     ]
    },
    {
     "name": "stdout",
     "output_type": "stream",
     "text": [
      "zero_index=1, k=2, lambda=0.1, alpha_w=NA, alpha_h=0.1, w0=0.4, max_iter=1000, random_state=42\n",
      "running time=1596.3004922866821\n",
      "97\n",
      "[1.0e+00 2.0e+00 1.0e-01 1.0e-01 1.0e-01 5.0e-01 1.0e+03 4.2e+01]\n",
      "[1.0, 2.0, 0.1, 0.1, 0.1, 0.5, 1000.0, 42.0]\n"
     ]
    },
    {
     "name": "stderr",
     "output_type": "stream",
     "text": [
      "C:\\Users\\guoqq17\\anaconda3\\lib\\site-packages\\ipykernel_launcher.py:1081: FutureWarning: `alpha` was deprecated in version 1.0 and will be removed in 1.2. Use `alpha_W` and `alpha_H` instead\n"
     ]
    },
    {
     "name": "stdout",
     "output_type": "stream",
     "text": [
      "zero_index=1, k=2, lambda=0.1, alpha_w=NA, alpha_h=0.1, w0=0.5, max_iter=1000, random_state=42\n",
      "running time=1602.404224872589\n",
      "93\n",
      "[1.0e+00 2.0e+00 1.0e-01 1.0e-01 1.0e-01 6.0e-01 1.0e+03 4.2e+01]\n",
      "[1.0, 2.0, 0.1, 0.1, 0.1, 0.6, 1000.0, 42.0]\n"
     ]
    },
    {
     "name": "stderr",
     "output_type": "stream",
     "text": [
      "C:\\Users\\guoqq17\\anaconda3\\lib\\site-packages\\ipykernel_launcher.py:1081: FutureWarning: `alpha` was deprecated in version 1.0 and will be removed in 1.2. Use `alpha_W` and `alpha_H` instead\n"
     ]
    },
    {
     "name": "stdout",
     "output_type": "stream",
     "text": [
      "zero_index=1, k=2, lambda=0.1, alpha_w=NA, alpha_h=0.1, w0=0.6, max_iter=1000, random_state=42\n",
      "running time=1600.4088101387024\n",
      "91\n",
      "[1.0e+00 2.0e+00 1.0e-01 1.0e-01 1.0e-01 7.0e-01 1.0e+03 4.2e+01]\n",
      "[1.0, 2.0, 0.1, 0.1, 0.1, 0.7, 1000.0, 42.0]\n"
     ]
    },
    {
     "name": "stderr",
     "output_type": "stream",
     "text": [
      "C:\\Users\\guoqq17\\anaconda3\\lib\\site-packages\\ipykernel_launcher.py:1081: FutureWarning: `alpha` was deprecated in version 1.0 and will be removed in 1.2. Use `alpha_W` and `alpha_H` instead\n"
     ]
    },
    {
     "name": "stdout",
     "output_type": "stream",
     "text": [
      "zero_index=1, k=2, lambda=0.1, alpha_w=NA, alpha_h=0.1, w0=0.7, max_iter=1000, random_state=42\n",
      "running time=1598.486587524414\n",
      "90\n",
      "[1.0e+00 2.0e+00 1.0e-01 1.0e-01 1.0e-01 8.0e-01 1.0e+03 4.2e+01]\n",
      "[1.0, 2.0, 0.1, 0.1, 0.1, 0.8, 1000.0, 42.0]\n"
     ]
    },
    {
     "name": "stderr",
     "output_type": "stream",
     "text": [
      "C:\\Users\\guoqq17\\anaconda3\\lib\\site-packages\\ipykernel_launcher.py:1081: FutureWarning: `alpha` was deprecated in version 1.0 and will be removed in 1.2. Use `alpha_W` and `alpha_H` instead\n"
     ]
    },
    {
     "name": "stdout",
     "output_type": "stream",
     "text": [
      "zero_index=1, k=2, lambda=0.1, alpha_w=NA, alpha_h=0.1, w0=0.8, max_iter=1000, random_state=42\n",
      "running time=1599.543871641159\n",
      "87\n",
      "[1.0e+00 2.0e+00 1.0e-01 1.0e-01 1.0e-01 9.0e-01 1.0e+03 4.2e+01]\n",
      "[1.0, 2.0, 0.1, 0.1, 0.1, 0.9, 1000.0, 42.0]\n"
     ]
    },
    {
     "name": "stderr",
     "output_type": "stream",
     "text": [
      "C:\\Users\\guoqq17\\anaconda3\\lib\\site-packages\\ipykernel_launcher.py:1081: FutureWarning: `alpha` was deprecated in version 1.0 and will be removed in 1.2. Use `alpha_W` and `alpha_H` instead\n"
     ]
    },
    {
     "name": "stdout",
     "output_type": "stream",
     "text": [
      "zero_index=1, k=2, lambda=0.1, alpha_w=NA, alpha_h=0.1, w0=0.9, max_iter=1000, random_state=42\n",
      "running time=1598.5144295692444\n",
      "87\n",
      "[1.0e+00 2.0e+00 1.0e-01 1.0e-01 1.0e-01 1.0e+00 1.0e+03 4.2e+01]\n",
      "[1.0, 2.0, 0.1, 0.1, 0.1, 1.0, 1000.0, 42.0]\n"
     ]
    },
    {
     "name": "stderr",
     "output_type": "stream",
     "text": [
      "C:\\Users\\guoqq17\\anaconda3\\lib\\site-packages\\ipykernel_launcher.py:1081: FutureWarning: `alpha` was deprecated in version 1.0 and will be removed in 1.2. Use `alpha_W` and `alpha_H` instead\n"
     ]
    },
    {
     "name": "stdout",
     "output_type": "stream",
     "text": [
      "zero_index=1, k=2, lambda=0.1, alpha_w=NA, alpha_h=0.1, w0=1.0, max_iter=1000, random_state=42\n",
      "running time=1596.253628730774\n",
      "87\n",
      "[1.0e+00 3.0e+00 1.0e-01 1.0e-01 1.0e-01 1.0e-01 1.0e+03 4.2e+01]\n",
      "[1.0, 3.0, 0.1, 0.1, 0.1, 0.1, 1000.0, 42.0]\n"
     ]
    },
    {
     "name": "stderr",
     "output_type": "stream",
     "text": [
      "C:\\Users\\guoqq17\\anaconda3\\lib\\site-packages\\ipykernel_launcher.py:1081: FutureWarning: `alpha` was deprecated in version 1.0 and will be removed in 1.2. Use `alpha_W` and `alpha_H` instead\n"
     ]
    },
    {
     "name": "stdout",
     "output_type": "stream",
     "text": [
      "zero_index=1, k=3, lambda=0.1, alpha_w=NA, alpha_h=0.1, w0=0.1, max_iter=1000, random_state=42\n",
      "running time=1603.0043823719025\n",
      "505\n",
      "[1.0e+00 3.0e+00 1.0e-01 1.0e-01 1.0e-01 2.0e-01 1.0e+03 4.2e+01]\n",
      "[1.0, 3.0, 0.1, 0.1, 0.1, 0.2, 1000.0, 42.0]\n"
     ]
    },
    {
     "name": "stderr",
     "output_type": "stream",
     "text": [
      "C:\\Users\\guoqq17\\anaconda3\\lib\\site-packages\\ipykernel_launcher.py:1081: FutureWarning: `alpha` was deprecated in version 1.0 and will be removed in 1.2. Use `alpha_W` and `alpha_H` instead\n"
     ]
    },
    {
     "name": "stdout",
     "output_type": "stream",
     "text": [
      "zero_index=1, k=3, lambda=0.1, alpha_w=NA, alpha_h=0.1, w0=0.2, max_iter=1000, random_state=42\n",
      "running time=1609.9363899230957\n",
      "466\n",
      "[1.0e+00 3.0e+00 1.0e-01 1.0e-01 1.0e-01 3.0e-01 1.0e+03 4.2e+01]\n",
      "[1.0, 3.0, 0.1, 0.1, 0.1, 0.3, 1000.0, 42.0]\n"
     ]
    },
    {
     "name": "stderr",
     "output_type": "stream",
     "text": [
      "C:\\Users\\guoqq17\\anaconda3\\lib\\site-packages\\ipykernel_launcher.py:1081: FutureWarning: `alpha` was deprecated in version 1.0 and will be removed in 1.2. Use `alpha_W` and `alpha_H` instead\n"
     ]
    },
    {
     "name": "stdout",
     "output_type": "stream",
     "text": [
      "zero_index=1, k=3, lambda=0.1, alpha_w=NA, alpha_h=0.1, w0=0.3, max_iter=1000, random_state=42\n",
      "running time=1599.1648137569427\n",
      "422\n",
      "[1.0e+00 3.0e+00 1.0e-01 1.0e-01 1.0e-01 4.0e-01 1.0e+03 4.2e+01]\n",
      "[1.0, 3.0, 0.1, 0.1, 0.1, 0.4, 1000.0, 42.0]\n"
     ]
    },
    {
     "name": "stderr",
     "output_type": "stream",
     "text": [
      "C:\\Users\\guoqq17\\anaconda3\\lib\\site-packages\\ipykernel_launcher.py:1081: FutureWarning: `alpha` was deprecated in version 1.0 and will be removed in 1.2. Use `alpha_W` and `alpha_H` instead\n"
     ]
    },
    {
     "name": "stdout",
     "output_type": "stream",
     "text": [
      "zero_index=1, k=3, lambda=0.1, alpha_w=NA, alpha_h=0.1, w0=0.4, max_iter=1000, random_state=42\n",
      "running time=1601.7704439163208\n",
      "380\n",
      "[1.0e+00 3.0e+00 1.0e-01 1.0e-01 1.0e-01 5.0e-01 1.0e+03 4.2e+01]\n",
      "[1.0, 3.0, 0.1, 0.1, 0.1, 0.5, 1000.0, 42.0]\n"
     ]
    },
    {
     "name": "stderr",
     "output_type": "stream",
     "text": [
      "C:\\Users\\guoqq17\\anaconda3\\lib\\site-packages\\ipykernel_launcher.py:1081: FutureWarning: `alpha` was deprecated in version 1.0 and will be removed in 1.2. Use `alpha_W` and `alpha_H` instead\n"
     ]
    },
    {
     "name": "stdout",
     "output_type": "stream",
     "text": [
      "zero_index=1, k=3, lambda=0.1, alpha_w=NA, alpha_h=0.1, w0=0.5, max_iter=1000, random_state=42\n",
      "running time=1602.0001962184906\n",
      "363\n",
      "[1.0e+00 3.0e+00 1.0e-01 1.0e-01 1.0e-01 6.0e-01 1.0e+03 4.2e+01]\n",
      "[1.0, 3.0, 0.1, 0.1, 0.1, 0.6, 1000.0, 42.0]\n"
     ]
    },
    {
     "name": "stderr",
     "output_type": "stream",
     "text": [
      "C:\\Users\\guoqq17\\anaconda3\\lib\\site-packages\\ipykernel_launcher.py:1081: FutureWarning: `alpha` was deprecated in version 1.0 and will be removed in 1.2. Use `alpha_W` and `alpha_H` instead\n"
     ]
    },
    {
     "name": "stdout",
     "output_type": "stream",
     "text": [
      "zero_index=1, k=3, lambda=0.1, alpha_w=NA, alpha_h=0.1, w0=0.6, max_iter=1000, random_state=42\n",
      "running time=1601.2182323932648\n",
      "333\n",
      "[1.0e+00 3.0e+00 1.0e-01 1.0e-01 1.0e-01 7.0e-01 1.0e+03 4.2e+01]\n",
      "[1.0, 3.0, 0.1, 0.1, 0.1, 0.7, 1000.0, 42.0]\n"
     ]
    },
    {
     "name": "stderr",
     "output_type": "stream",
     "text": [
      "C:\\Users\\guoqq17\\anaconda3\\lib\\site-packages\\ipykernel_launcher.py:1081: FutureWarning: `alpha` was deprecated in version 1.0 and will be removed in 1.2. Use `alpha_W` and `alpha_H` instead\n"
     ]
    },
    {
     "name": "stdout",
     "output_type": "stream",
     "text": [
      "zero_index=1, k=3, lambda=0.1, alpha_w=NA, alpha_h=0.1, w0=0.7, max_iter=1000, random_state=42\n",
      "running time=1600.3485996723175\n",
      "302\n",
      "[1.0e+00 3.0e+00 1.0e-01 1.0e-01 1.0e-01 8.0e-01 1.0e+03 4.2e+01]\n",
      "[1.0, 3.0, 0.1, 0.1, 0.1, 0.8, 1000.0, 42.0]\n"
     ]
    },
    {
     "name": "stderr",
     "output_type": "stream",
     "text": [
      "C:\\Users\\guoqq17\\anaconda3\\lib\\site-packages\\ipykernel_launcher.py:1081: FutureWarning: `alpha` was deprecated in version 1.0 and will be removed in 1.2. Use `alpha_W` and `alpha_H` instead\n"
     ]
    },
    {
     "name": "stdout",
     "output_type": "stream",
     "text": [
      "zero_index=1, k=3, lambda=0.1, alpha_w=NA, alpha_h=0.1, w0=0.8, max_iter=1000, random_state=42\n",
      "running time=1597.3403990268707\n",
      "271\n",
      "[1.0e+00 3.0e+00 1.0e-01 1.0e-01 1.0e-01 9.0e-01 1.0e+03 4.2e+01]\n",
      "[1.0, 3.0, 0.1, 0.1, 0.1, 0.9, 1000.0, 42.0]\n"
     ]
    },
    {
     "name": "stderr",
     "output_type": "stream",
     "text": [
      "C:\\Users\\guoqq17\\anaconda3\\lib\\site-packages\\ipykernel_launcher.py:1081: FutureWarning: `alpha` was deprecated in version 1.0 and will be removed in 1.2. Use `alpha_W` and `alpha_H` instead\n"
     ]
    },
    {
     "name": "stdout",
     "output_type": "stream",
     "text": [
      "zero_index=1, k=3, lambda=0.1, alpha_w=NA, alpha_h=0.1, w0=0.9, max_iter=1000, random_state=42\n",
      "running time=1604.736894607544\n",
      "252\n",
      "[1.0e+00 3.0e+00 1.0e-01 1.0e-01 1.0e-01 1.0e+00 1.0e+03 4.2e+01]\n",
      "[1.0, 3.0, 0.1, 0.1, 0.1, 1.0, 1000.0, 42.0]\n"
     ]
    },
    {
     "name": "stderr",
     "output_type": "stream",
     "text": [
      "C:\\Users\\guoqq17\\anaconda3\\lib\\site-packages\\ipykernel_launcher.py:1081: FutureWarning: `alpha` was deprecated in version 1.0 and will be removed in 1.2. Use `alpha_W` and `alpha_H` instead\n"
     ]
    },
    {
     "name": "stdout",
     "output_type": "stream",
     "text": [
      "zero_index=1, k=3, lambda=0.1, alpha_w=NA, alpha_h=0.1, w0=1.0, max_iter=1000, random_state=42\n",
      "running time=1603.8945775032043\n",
      "236\n",
      "[1.0e+00 4.0e+00 1.0e-01 1.0e-01 1.0e-01 1.0e-01 1.0e+03 4.2e+01]\n",
      "[1.0, 4.0, 0.1, 0.1, 0.1, 0.1, 1000.0, 42.0]\n"
     ]
    },
    {
     "name": "stderr",
     "output_type": "stream",
     "text": [
      "C:\\Users\\guoqq17\\anaconda3\\lib\\site-packages\\ipykernel_launcher.py:1081: FutureWarning: `alpha` was deprecated in version 1.0 and will be removed in 1.2. Use `alpha_W` and `alpha_H` instead\n"
     ]
    },
    {
     "name": "stdout",
     "output_type": "stream",
     "text": [
      "zero_index=1, k=4, lambda=0.1, alpha_w=NA, alpha_h=0.1, w0=0.1, max_iter=1000, random_state=42\n",
      "running time=1842.780210018158\n",
      "539\n",
      "[1.0e+00 4.0e+00 1.0e-01 1.0e-01 1.0e-01 2.0e-01 1.0e+03 4.2e+01]\n",
      "[1.0, 4.0, 0.1, 0.1, 0.1, 0.2, 1000.0, 42.0]\n"
     ]
    },
    {
     "name": "stderr",
     "output_type": "stream",
     "text": [
      "C:\\Users\\guoqq17\\anaconda3\\lib\\site-packages\\ipykernel_launcher.py:1081: FutureWarning: `alpha` was deprecated in version 1.0 and will be removed in 1.2. Use `alpha_W` and `alpha_H` instead\n"
     ]
    },
    {
     "name": "stdout",
     "output_type": "stream",
     "text": [
      "zero_index=1, k=4, lambda=0.1, alpha_w=NA, alpha_h=0.1, w0=0.2, max_iter=1000, random_state=42\n",
      "running time=1760.6463294029236\n",
      "498\n",
      "[1.0e+00 4.0e+00 1.0e-01 1.0e-01 1.0e-01 3.0e-01 1.0e+03 4.2e+01]\n",
      "[1.0, 4.0, 0.1, 0.1, 0.1, 0.3, 1000.0, 42.0]\n"
     ]
    },
    {
     "name": "stderr",
     "output_type": "stream",
     "text": [
      "C:\\Users\\guoqq17\\anaconda3\\lib\\site-packages\\ipykernel_launcher.py:1081: FutureWarning: `alpha` was deprecated in version 1.0 and will be removed in 1.2. Use `alpha_W` and `alpha_H` instead\n"
     ]
    },
    {
     "name": "stdout",
     "output_type": "stream",
     "text": [
      "zero_index=1, k=4, lambda=0.1, alpha_w=NA, alpha_h=0.1, w0=0.3, max_iter=1000, random_state=42\n",
      "running time=1761.2350072860718\n",
      "441\n",
      "[1.0e+00 4.0e+00 1.0e-01 1.0e-01 1.0e-01 4.0e-01 1.0e+03 4.2e+01]\n",
      "[1.0, 4.0, 0.1, 0.1, 0.1, 0.4, 1000.0, 42.0]\n"
     ]
    },
    {
     "name": "stderr",
     "output_type": "stream",
     "text": [
      "C:\\Users\\guoqq17\\anaconda3\\lib\\site-packages\\ipykernel_launcher.py:1081: FutureWarning: `alpha` was deprecated in version 1.0 and will be removed in 1.2. Use `alpha_W` and `alpha_H` instead\n"
     ]
    },
    {
     "name": "stdout",
     "output_type": "stream",
     "text": [
      "zero_index=1, k=4, lambda=0.1, alpha_w=NA, alpha_h=0.1, w0=0.4, max_iter=1000, random_state=42\n",
      "running time=1896.910970211029\n",
      "397\n",
      "[1.0e+00 4.0e+00 1.0e-01 1.0e-01 1.0e-01 5.0e-01 1.0e+03 4.2e+01]\n",
      "[1.0, 4.0, 0.1, 0.1, 0.1, 0.5, 1000.0, 42.0]\n"
     ]
    },
    {
     "name": "stderr",
     "output_type": "stream",
     "text": [
      "C:\\Users\\guoqq17\\anaconda3\\lib\\site-packages\\ipykernel_launcher.py:1081: FutureWarning: `alpha` was deprecated in version 1.0 and will be removed in 1.2. Use `alpha_W` and `alpha_H` instead\n"
     ]
    },
    {
     "name": "stdout",
     "output_type": "stream",
     "text": [
      "zero_index=1, k=4, lambda=0.1, alpha_w=NA, alpha_h=0.1, w0=0.5, max_iter=1000, random_state=42\n",
      "running time=1852.9616923332214\n",
      "361\n",
      "[1.0e+00 4.0e+00 1.0e-01 1.0e-01 1.0e-01 6.0e-01 1.0e+03 4.2e+01]\n",
      "[1.0, 4.0, 0.1, 0.1, 0.1, 0.6, 1000.0, 42.0]\n"
     ]
    },
    {
     "name": "stderr",
     "output_type": "stream",
     "text": [
      "C:\\Users\\guoqq17\\anaconda3\\lib\\site-packages\\ipykernel_launcher.py:1081: FutureWarning: `alpha` was deprecated in version 1.0 and will be removed in 1.2. Use `alpha_W` and `alpha_H` instead\n"
     ]
    },
    {
     "name": "stdout",
     "output_type": "stream",
     "text": [
      "zero_index=1, k=4, lambda=0.1, alpha_w=NA, alpha_h=0.1, w0=0.6, max_iter=1000, random_state=42\n",
      "running time=1838.8162956237793\n",
      "331\n",
      "[1.0e+00 4.0e+00 1.0e-01 1.0e-01 1.0e-01 7.0e-01 1.0e+03 4.2e+01]\n",
      "[1.0, 4.0, 0.1, 0.1, 0.1, 0.7, 1000.0, 42.0]\n"
     ]
    },
    {
     "name": "stderr",
     "output_type": "stream",
     "text": [
      "C:\\Users\\guoqq17\\anaconda3\\lib\\site-packages\\ipykernel_launcher.py:1081: FutureWarning: `alpha` was deprecated in version 1.0 and will be removed in 1.2. Use `alpha_W` and `alpha_H` instead\n"
     ]
    },
    {
     "name": "stdout",
     "output_type": "stream",
     "text": [
      "zero_index=1, k=4, lambda=0.1, alpha_w=NA, alpha_h=0.1, w0=0.7, max_iter=1000, random_state=42\n",
      "running time=1954.1377911567688\n",
      "285\n",
      "[1.0e+00 4.0e+00 1.0e-01 1.0e-01 1.0e-01 8.0e-01 1.0e+03 4.2e+01]\n",
      "[1.0, 4.0, 0.1, 0.1, 0.1, 0.8, 1000.0, 42.0]\n"
     ]
    },
    {
     "name": "stderr",
     "output_type": "stream",
     "text": [
      "C:\\Users\\guoqq17\\anaconda3\\lib\\site-packages\\ipykernel_launcher.py:1081: FutureWarning: `alpha` was deprecated in version 1.0 and will be removed in 1.2. Use `alpha_W` and `alpha_H` instead\n"
     ]
    },
    {
     "name": "stdout",
     "output_type": "stream",
     "text": [
      "zero_index=1, k=4, lambda=0.1, alpha_w=NA, alpha_h=0.1, w0=0.8, max_iter=1000, random_state=42\n",
      "running time=1970.039463043213\n",
      "253\n",
      "[1.0e+00 4.0e+00 1.0e-01 1.0e-01 1.0e-01 9.0e-01 1.0e+03 4.2e+01]\n",
      "[1.0, 4.0, 0.1, 0.1, 0.1, 0.9, 1000.0, 42.0]\n"
     ]
    },
    {
     "name": "stderr",
     "output_type": "stream",
     "text": [
      "C:\\Users\\guoqq17\\anaconda3\\lib\\site-packages\\ipykernel_launcher.py:1081: FutureWarning: `alpha` was deprecated in version 1.0 and will be removed in 1.2. Use `alpha_W` and `alpha_H` instead\n"
     ]
    },
    {
     "name": "stdout",
     "output_type": "stream",
     "text": [
      "zero_index=1, k=4, lambda=0.1, alpha_w=NA, alpha_h=0.1, w0=0.9, max_iter=1000, random_state=42\n",
      "running time=1940.5364365577698\n",
      "232\n",
      "[1.0e+00 4.0e+00 1.0e-01 1.0e-01 1.0e-01 1.0e+00 1.0e+03 4.2e+01]\n",
      "[1.0, 4.0, 0.1, 0.1, 0.1, 1.0, 1000.0, 42.0]\n"
     ]
    },
    {
     "name": "stderr",
     "output_type": "stream",
     "text": [
      "C:\\Users\\guoqq17\\anaconda3\\lib\\site-packages\\ipykernel_launcher.py:1081: FutureWarning: `alpha` was deprecated in version 1.0 and will be removed in 1.2. Use `alpha_W` and `alpha_H` instead\n"
     ]
    },
    {
     "name": "stdout",
     "output_type": "stream",
     "text": [
      "zero_index=1, k=4, lambda=0.1, alpha_w=NA, alpha_h=0.1, w0=1.0, max_iter=1000, random_state=42\n",
      "running time=1933.7974231243134\n",
      "214\n",
      "[1.0e+00 5.0e+00 1.0e-01 1.0e-01 1.0e-01 1.0e-01 1.0e+03 4.2e+01]\n",
      "[1.0, 5.0, 0.1, 0.1, 0.1, 0.1, 1000.0, 42.0]\n"
     ]
    },
    {
     "name": "stderr",
     "output_type": "stream",
     "text": [
      "C:\\Users\\guoqq17\\anaconda3\\lib\\site-packages\\ipykernel_launcher.py:1081: FutureWarning: `alpha` was deprecated in version 1.0 and will be removed in 1.2. Use `alpha_W` and `alpha_H` instead\n"
     ]
    },
    {
     "name": "stdout",
     "output_type": "stream",
     "text": [
      "zero_index=1, k=5, lambda=0.1, alpha_w=NA, alpha_h=0.1, w0=0.1, max_iter=1000, random_state=42\n",
      "running time=1930.6231126785278\n",
      "575\n",
      "[1.0e+00 5.0e+00 1.0e-01 1.0e-01 1.0e-01 2.0e-01 1.0e+03 4.2e+01]\n",
      "[1.0, 5.0, 0.1, 0.1, 0.1, 0.2, 1000.0, 42.0]\n"
     ]
    },
    {
     "name": "stderr",
     "output_type": "stream",
     "text": [
      "C:\\Users\\guoqq17\\anaconda3\\lib\\site-packages\\ipykernel_launcher.py:1081: FutureWarning: `alpha` was deprecated in version 1.0 and will be removed in 1.2. Use `alpha_W` and `alpha_H` instead\n"
     ]
    },
    {
     "name": "stdout",
     "output_type": "stream",
     "text": [
      "zero_index=1, k=5, lambda=0.1, alpha_w=NA, alpha_h=0.1, w0=0.2, max_iter=1000, random_state=42\n",
      "running time=1905.3364293575287\n",
      "518\n",
      "[1.0e+00 5.0e+00 1.0e-01 1.0e-01 1.0e-01 3.0e-01 1.0e+03 4.2e+01]\n",
      "[1.0, 5.0, 0.1, 0.1, 0.1, 0.3, 1000.0, 42.0]\n"
     ]
    },
    {
     "name": "stderr",
     "output_type": "stream",
     "text": [
      "C:\\Users\\guoqq17\\anaconda3\\lib\\site-packages\\ipykernel_launcher.py:1081: FutureWarning: `alpha` was deprecated in version 1.0 and will be removed in 1.2. Use `alpha_W` and `alpha_H` instead\n"
     ]
    },
    {
     "name": "stdout",
     "output_type": "stream",
     "text": [
      "zero_index=1, k=5, lambda=0.1, alpha_w=NA, alpha_h=0.1, w0=0.3, max_iter=1000, random_state=42\n",
      "running time=1912.5990107059479\n",
      "473\n",
      "[1.0e+00 5.0e+00 1.0e-01 1.0e-01 1.0e-01 4.0e-01 1.0e+03 4.2e+01]\n",
      "[1.0, 5.0, 0.1, 0.1, 0.1, 0.4, 1000.0, 42.0]\n"
     ]
    },
    {
     "name": "stderr",
     "output_type": "stream",
     "text": [
      "C:\\Users\\guoqq17\\anaconda3\\lib\\site-packages\\ipykernel_launcher.py:1081: FutureWarning: `alpha` was deprecated in version 1.0 and will be removed in 1.2. Use `alpha_W` and `alpha_H` instead\n"
     ]
    },
    {
     "name": "stdout",
     "output_type": "stream",
     "text": [
      "zero_index=1, k=5, lambda=0.1, alpha_w=NA, alpha_h=0.1, w0=0.4, max_iter=1000, random_state=42\n",
      "running time=1906.71710729599\n",
      "420\n",
      "[1.0e+00 5.0e+00 1.0e-01 1.0e-01 1.0e-01 5.0e-01 1.0e+03 4.2e+01]\n",
      "[1.0, 5.0, 0.1, 0.1, 0.1, 0.5, 1000.0, 42.0]\n"
     ]
    },
    {
     "name": "stderr",
     "output_type": "stream",
     "text": [
      "C:\\Users\\guoqq17\\anaconda3\\lib\\site-packages\\ipykernel_launcher.py:1081: FutureWarning: `alpha` was deprecated in version 1.0 and will be removed in 1.2. Use `alpha_W` and `alpha_H` instead\n"
     ]
    },
    {
     "name": "stdout",
     "output_type": "stream",
     "text": [
      "zero_index=1, k=5, lambda=0.1, alpha_w=NA, alpha_h=0.1, w0=0.5, max_iter=1000, random_state=42\n",
      "running time=1920.2468860149384\n",
      "378\n",
      "[1.0e+00 5.0e+00 1.0e-01 1.0e-01 1.0e-01 6.0e-01 1.0e+03 4.2e+01]\n",
      "[1.0, 5.0, 0.1, 0.1, 0.1, 0.6, 1000.0, 42.0]\n"
     ]
    },
    {
     "name": "stderr",
     "output_type": "stream",
     "text": [
      "C:\\Users\\guoqq17\\anaconda3\\lib\\site-packages\\ipykernel_launcher.py:1081: FutureWarning: `alpha` was deprecated in version 1.0 and will be removed in 1.2. Use `alpha_W` and `alpha_H` instead\n"
     ]
    },
    {
     "name": "stdout",
     "output_type": "stream",
     "text": [
      "zero_index=1, k=5, lambda=0.1, alpha_w=NA, alpha_h=0.1, w0=0.6, max_iter=1000, random_state=42\n",
      "running time=1898.9870524406433\n",
      "342\n",
      "[1.0e+00 5.0e+00 1.0e-01 1.0e-01 1.0e-01 7.0e-01 1.0e+03 4.2e+01]\n",
      "[1.0, 5.0, 0.1, 0.1, 0.1, 0.7, 1000.0, 42.0]\n"
     ]
    },
    {
     "name": "stderr",
     "output_type": "stream",
     "text": [
      "C:\\Users\\guoqq17\\anaconda3\\lib\\site-packages\\ipykernel_launcher.py:1081: FutureWarning: `alpha` was deprecated in version 1.0 and will be removed in 1.2. Use `alpha_W` and `alpha_H` instead\n"
     ]
    },
    {
     "name": "stdout",
     "output_type": "stream",
     "text": [
      "zero_index=1, k=5, lambda=0.1, alpha_w=NA, alpha_h=0.1, w0=0.7, max_iter=1000, random_state=42\n",
      "running time=1894.9174273014069\n",
      "300\n",
      "[1.0e+00 5.0e+00 1.0e-01 1.0e-01 1.0e-01 8.0e-01 1.0e+03 4.2e+01]\n",
      "[1.0, 5.0, 0.1, 0.1, 0.1, 0.8, 1000.0, 42.0]\n"
     ]
    },
    {
     "name": "stderr",
     "output_type": "stream",
     "text": [
      "C:\\Users\\guoqq17\\anaconda3\\lib\\site-packages\\ipykernel_launcher.py:1081: FutureWarning: `alpha` was deprecated in version 1.0 and will be removed in 1.2. Use `alpha_W` and `alpha_H` instead\n"
     ]
    },
    {
     "name": "stdout",
     "output_type": "stream",
     "text": [
      "zero_index=1, k=5, lambda=0.1, alpha_w=NA, alpha_h=0.1, w0=0.8, max_iter=1000, random_state=42\n",
      "running time=1892.5787510871887\n",
      "261\n",
      "[1.0e+00 5.0e+00 1.0e-01 1.0e-01 1.0e-01 9.0e-01 1.0e+03 4.2e+01]\n",
      "[1.0, 5.0, 0.1, 0.1, 0.1, 0.9, 1000.0, 42.0]\n"
     ]
    },
    {
     "name": "stderr",
     "output_type": "stream",
     "text": [
      "C:\\Users\\guoqq17\\anaconda3\\lib\\site-packages\\ipykernel_launcher.py:1081: FutureWarning: `alpha` was deprecated in version 1.0 and will be removed in 1.2. Use `alpha_W` and `alpha_H` instead\n"
     ]
    },
    {
     "name": "stdout",
     "output_type": "stream",
     "text": [
      "zero_index=1, k=5, lambda=0.1, alpha_w=NA, alpha_h=0.1, w0=0.9, max_iter=1000, random_state=42\n",
      "running time=1906.0713150501251\n",
      "238\n",
      "[1.0e+00 5.0e+00 1.0e-01 1.0e-01 1.0e-01 1.0e+00 1.0e+03 4.2e+01]\n",
      "[1.0, 5.0, 0.1, 0.1, 0.1, 1.0, 1000.0, 42.0]\n"
     ]
    },
    {
     "name": "stderr",
     "output_type": "stream",
     "text": [
      "C:\\Users\\guoqq17\\anaconda3\\lib\\site-packages\\ipykernel_launcher.py:1081: FutureWarning: `alpha` was deprecated in version 1.0 and will be removed in 1.2. Use `alpha_W` and `alpha_H` instead\n"
     ]
    },
    {
     "name": "stdout",
     "output_type": "stream",
     "text": [
      "zero_index=1, k=5, lambda=0.1, alpha_w=NA, alpha_h=0.1, w0=1.0, max_iter=1000, random_state=42\n",
      "running time=1831.4834084510803\n",
      "218\n",
      "[1.0e+00 6.0e+00 1.0e-01 1.0e-01 1.0e-01 1.0e-01 1.0e+03 4.2e+01]\n",
      "[1.0, 6.0, 0.1, 0.1, 0.1, 0.1, 1000.0, 42.0]\n"
     ]
    },
    {
     "name": "stderr",
     "output_type": "stream",
     "text": [
      "C:\\Users\\guoqq17\\anaconda3\\lib\\site-packages\\ipykernel_launcher.py:1081: FutureWarning: `alpha` was deprecated in version 1.0 and will be removed in 1.2. Use `alpha_W` and `alpha_H` instead\n"
     ]
    },
    {
     "name": "stdout",
     "output_type": "stream",
     "text": [
      "zero_index=1, k=6, lambda=0.1, alpha_w=NA, alpha_h=0.1, w0=0.1, max_iter=1000, random_state=42\n",
      "running time=1797.4026155471802\n",
      "591\n",
      "[1.0e+00 6.0e+00 1.0e-01 1.0e-01 1.0e-01 2.0e-01 1.0e+03 4.2e+01]\n",
      "[1.0, 6.0, 0.1, 0.1, 0.1, 0.2, 1000.0, 42.0]\n"
     ]
    },
    {
     "name": "stderr",
     "output_type": "stream",
     "text": [
      "C:\\Users\\guoqq17\\anaconda3\\lib\\site-packages\\ipykernel_launcher.py:1081: FutureWarning: `alpha` was deprecated in version 1.0 and will be removed in 1.2. Use `alpha_W` and `alpha_H` instead\n"
     ]
    },
    {
     "name": "stdout",
     "output_type": "stream",
     "text": [
      "zero_index=1, k=6, lambda=0.1, alpha_w=NA, alpha_h=0.1, w0=0.2, max_iter=1000, random_state=42\n",
      "running time=1722.4652345180511\n",
      "527\n",
      "[1.0e+00 6.0e+00 1.0e-01 1.0e-01 1.0e-01 3.0e-01 1.0e+03 4.2e+01]\n",
      "[1.0, 6.0, 0.1, 0.1, 0.1, 0.3, 1000.0, 42.0]\n"
     ]
    },
    {
     "name": "stderr",
     "output_type": "stream",
     "text": [
      "C:\\Users\\guoqq17\\anaconda3\\lib\\site-packages\\ipykernel_launcher.py:1081: FutureWarning: `alpha` was deprecated in version 1.0 and will be removed in 1.2. Use `alpha_W` and `alpha_H` instead\n"
     ]
    },
    {
     "name": "stdout",
     "output_type": "stream",
     "text": [
      "zero_index=1, k=6, lambda=0.1, alpha_w=NA, alpha_h=0.1, w0=0.3, max_iter=1000, random_state=42\n",
      "running time=1707.294865846634\n",
      "465\n",
      "[1.0e+00 6.0e+00 1.0e-01 1.0e-01 1.0e-01 4.0e-01 1.0e+03 4.2e+01]\n",
      "[1.0, 6.0, 0.1, 0.1, 0.1, 0.4, 1000.0, 42.0]\n"
     ]
    },
    {
     "name": "stderr",
     "output_type": "stream",
     "text": [
      "C:\\Users\\guoqq17\\anaconda3\\lib\\site-packages\\ipykernel_launcher.py:1081: FutureWarning: `alpha` was deprecated in version 1.0 and will be removed in 1.2. Use `alpha_W` and `alpha_H` instead\n"
     ]
    },
    {
     "name": "stdout",
     "output_type": "stream",
     "text": [
      "zero_index=1, k=6, lambda=0.1, alpha_w=NA, alpha_h=0.1, w0=0.4, max_iter=1000, random_state=42\n",
      "running time=1721.714370727539\n",
      "407\n",
      "[1.0e+00 6.0e+00 1.0e-01 1.0e-01 1.0e-01 5.0e-01 1.0e+03 4.2e+01]\n",
      "[1.0, 6.0, 0.1, 0.1, 0.1, 0.5, 1000.0, 42.0]\n"
     ]
    },
    {
     "name": "stderr",
     "output_type": "stream",
     "text": [
      "C:\\Users\\guoqq17\\anaconda3\\lib\\site-packages\\ipykernel_launcher.py:1081: FutureWarning: `alpha` was deprecated in version 1.0 and will be removed in 1.2. Use `alpha_W` and `alpha_H` instead\n"
     ]
    },
    {
     "name": "stdout",
     "output_type": "stream",
     "text": [
      "zero_index=1, k=6, lambda=0.1, alpha_w=NA, alpha_h=0.1, w0=0.5, max_iter=1000, random_state=42\n",
      "running time=1708.8695228099823\n",
      "351\n",
      "[1.0e+00 6.0e+00 1.0e-01 1.0e-01 1.0e-01 6.0e-01 1.0e+03 4.2e+01]\n",
      "[1.0, 6.0, 0.1, 0.1, 0.1, 0.6, 1000.0, 42.0]\n"
     ]
    },
    {
     "name": "stderr",
     "output_type": "stream",
     "text": [
      "C:\\Users\\guoqq17\\anaconda3\\lib\\site-packages\\ipykernel_launcher.py:1081: FutureWarning: `alpha` was deprecated in version 1.0 and will be removed in 1.2. Use `alpha_W` and `alpha_H` instead\n"
     ]
    },
    {
     "name": "stdout",
     "output_type": "stream",
     "text": [
      "zero_index=1, k=6, lambda=0.1, alpha_w=NA, alpha_h=0.1, w0=0.6, max_iter=1000, random_state=42\n",
      "running time=1709.4408180713654\n",
      "315\n",
      "[1.0e+00 6.0e+00 1.0e-01 1.0e-01 1.0e-01 7.0e-01 1.0e+03 4.2e+01]\n",
      "[1.0, 6.0, 0.1, 0.1, 0.1, 0.7, 1000.0, 42.0]\n"
     ]
    },
    {
     "name": "stderr",
     "output_type": "stream",
     "text": [
      "C:\\Users\\guoqq17\\anaconda3\\lib\\site-packages\\ipykernel_launcher.py:1081: FutureWarning: `alpha` was deprecated in version 1.0 and will be removed in 1.2. Use `alpha_W` and `alpha_H` instead\n"
     ]
    },
    {
     "name": "stdout",
     "output_type": "stream",
     "text": [
      "zero_index=1, k=6, lambda=0.1, alpha_w=NA, alpha_h=0.1, w0=0.7, max_iter=1000, random_state=42\n",
      "running time=1722.9194860458374\n",
      "269\n",
      "[1.0e+00 6.0e+00 1.0e-01 1.0e-01 1.0e-01 8.0e-01 1.0e+03 4.2e+01]\n",
      "[1.0, 6.0, 0.1, 0.1, 0.1, 0.8, 1000.0, 42.0]\n"
     ]
    },
    {
     "name": "stderr",
     "output_type": "stream",
     "text": [
      "C:\\Users\\guoqq17\\anaconda3\\lib\\site-packages\\ipykernel_launcher.py:1081: FutureWarning: `alpha` was deprecated in version 1.0 and will be removed in 1.2. Use `alpha_W` and `alpha_H` instead\n"
     ]
    },
    {
     "name": "stdout",
     "output_type": "stream",
     "text": [
      "zero_index=1, k=6, lambda=0.1, alpha_w=NA, alpha_h=0.1, w0=0.8, max_iter=1000, random_state=42\n",
      "running time=1711.9374601840973\n",
      "238\n",
      "[1.0e+00 6.0e+00 1.0e-01 1.0e-01 1.0e-01 9.0e-01 1.0e+03 4.2e+01]\n",
      "[1.0, 6.0, 0.1, 0.1, 0.1, 0.9, 1000.0, 42.0]\n"
     ]
    },
    {
     "name": "stderr",
     "output_type": "stream",
     "text": [
      "C:\\Users\\guoqq17\\anaconda3\\lib\\site-packages\\ipykernel_launcher.py:1081: FutureWarning: `alpha` was deprecated in version 1.0 and will be removed in 1.2. Use `alpha_W` and `alpha_H` instead\n"
     ]
    },
    {
     "name": "stdout",
     "output_type": "stream",
     "text": [
      "zero_index=1, k=6, lambda=0.1, alpha_w=NA, alpha_h=0.1, w0=0.9, max_iter=1000, random_state=42\n",
      "running time=1709.4158124923706\n",
      "216\n",
      "[1.0e+00 6.0e+00 1.0e-01 1.0e-01 1.0e-01 1.0e+00 1.0e+03 4.2e+01]\n",
      "[1.0, 6.0, 0.1, 0.1, 0.1, 1.0, 1000.0, 42.0]\n"
     ]
    },
    {
     "name": "stderr",
     "output_type": "stream",
     "text": [
      "C:\\Users\\guoqq17\\anaconda3\\lib\\site-packages\\ipykernel_launcher.py:1081: FutureWarning: `alpha` was deprecated in version 1.0 and will be removed in 1.2. Use `alpha_W` and `alpha_H` instead\n"
     ]
    },
    {
     "name": "stdout",
     "output_type": "stream",
     "text": [
      "zero_index=1, k=6, lambda=0.1, alpha_w=NA, alpha_h=0.1, w0=1.0, max_iter=1000, random_state=42\n",
      "running time=2290.055324077606\n",
      "197\n",
      "[1.0e+00 7.0e+00 1.0e-01 1.0e-01 1.0e-01 1.0e-01 1.0e+03 4.2e+01]\n",
      "[1.0, 7.0, 0.1, 0.1, 0.1, 0.1, 1000.0, 42.0]\n"
     ]
    },
    {
     "name": "stderr",
     "output_type": "stream",
     "text": [
      "C:\\Users\\guoqq17\\anaconda3\\lib\\site-packages\\ipykernel_launcher.py:1081: FutureWarning: `alpha` was deprecated in version 1.0 and will be removed in 1.2. Use `alpha_W` and `alpha_H` instead\n"
     ]
    },
    {
     "name": "stdout",
     "output_type": "stream",
     "text": [
      "zero_index=1, k=7, lambda=0.1, alpha_w=NA, alpha_h=0.1, w0=0.1, max_iter=1000, random_state=42\n",
      "running time=1999.8196649551392\n",
      "590\n",
      "[1.0e+00 7.0e+00 1.0e-01 1.0e-01 1.0e-01 2.0e-01 1.0e+03 4.2e+01]\n",
      "[1.0, 7.0, 0.1, 0.1, 0.1, 0.2, 1000.0, 42.0]\n"
     ]
    },
    {
     "name": "stderr",
     "output_type": "stream",
     "text": [
      "C:\\Users\\guoqq17\\anaconda3\\lib\\site-packages\\ipykernel_launcher.py:1081: FutureWarning: `alpha` was deprecated in version 1.0 and will be removed in 1.2. Use `alpha_W` and `alpha_H` instead\n"
     ]
    },
    {
     "name": "stdout",
     "output_type": "stream",
     "text": [
      "zero_index=1, k=7, lambda=0.1, alpha_w=NA, alpha_h=0.1, w0=0.2, max_iter=1000, random_state=42\n",
      "running time=1777.175797700882\n",
      "527\n",
      "[1.0e+00 7.0e+00 1.0e-01 1.0e-01 1.0e-01 3.0e-01 1.0e+03 4.2e+01]\n",
      "[1.0, 7.0, 0.1, 0.1, 0.1, 0.3, 1000.0, 42.0]\n"
     ]
    },
    {
     "name": "stderr",
     "output_type": "stream",
     "text": [
      "C:\\Users\\guoqq17\\anaconda3\\lib\\site-packages\\ipykernel_launcher.py:1081: FutureWarning: `alpha` was deprecated in version 1.0 and will be removed in 1.2. Use `alpha_W` and `alpha_H` instead\n"
     ]
    },
    {
     "name": "stdout",
     "output_type": "stream",
     "text": [
      "zero_index=1, k=7, lambda=0.1, alpha_w=NA, alpha_h=0.1, w0=0.3, max_iter=1000, random_state=42\n",
      "running time=1774.1598086357117\n",
      "464\n",
      "[1.0e+00 7.0e+00 1.0e-01 1.0e-01 1.0e-01 4.0e-01 1.0e+03 4.2e+01]\n",
      "[1.0, 7.0, 0.1, 0.1, 0.1, 0.4, 1000.0, 42.0]\n"
     ]
    },
    {
     "name": "stderr",
     "output_type": "stream",
     "text": [
      "C:\\Users\\guoqq17\\anaconda3\\lib\\site-packages\\ipykernel_launcher.py:1081: FutureWarning: `alpha` was deprecated in version 1.0 and will be removed in 1.2. Use `alpha_W` and `alpha_H` instead\n"
     ]
    },
    {
     "name": "stdout",
     "output_type": "stream",
     "text": [
      "zero_index=1, k=7, lambda=0.1, alpha_w=NA, alpha_h=0.1, w0=0.4, max_iter=1000, random_state=42\n",
      "running time=1767.0340089797974\n",
      "404\n",
      "[1.0e+00 7.0e+00 1.0e-01 1.0e-01 1.0e-01 5.0e-01 1.0e+03 4.2e+01]\n",
      "[1.0, 7.0, 0.1, 0.1, 0.1, 0.5, 1000.0, 42.0]\n"
     ]
    },
    {
     "name": "stderr",
     "output_type": "stream",
     "text": [
      "C:\\Users\\guoqq17\\anaconda3\\lib\\site-packages\\ipykernel_launcher.py:1081: FutureWarning: `alpha` was deprecated in version 1.0 and will be removed in 1.2. Use `alpha_W` and `alpha_H` instead\n"
     ]
    },
    {
     "name": "stdout",
     "output_type": "stream",
     "text": [
      "zero_index=1, k=7, lambda=0.1, alpha_w=NA, alpha_h=0.1, w0=0.5, max_iter=1000, random_state=42\n",
      "running time=1769.700530052185\n",
      "356\n",
      "[1.0e+00 7.0e+00 1.0e-01 1.0e-01 1.0e-01 6.0e-01 1.0e+03 4.2e+01]\n",
      "[1.0, 7.0, 0.1, 0.1, 0.1, 0.6, 1000.0, 42.0]\n"
     ]
    },
    {
     "name": "stderr",
     "output_type": "stream",
     "text": [
      "C:\\Users\\guoqq17\\anaconda3\\lib\\site-packages\\ipykernel_launcher.py:1081: FutureWarning: `alpha` was deprecated in version 1.0 and will be removed in 1.2. Use `alpha_W` and `alpha_H` instead\n"
     ]
    },
    {
     "name": "stdout",
     "output_type": "stream",
     "text": [
      "zero_index=1, k=7, lambda=0.1, alpha_w=NA, alpha_h=0.1, w0=0.6, max_iter=1000, random_state=42\n",
      "running time=1766.2612464427948\n",
      "324\n",
      "[1.0e+00 7.0e+00 1.0e-01 1.0e-01 1.0e-01 7.0e-01 1.0e+03 4.2e+01]\n",
      "[1.0, 7.0, 0.1, 0.1, 0.1, 0.7, 1000.0, 42.0]\n"
     ]
    },
    {
     "name": "stderr",
     "output_type": "stream",
     "text": [
      "C:\\Users\\guoqq17\\anaconda3\\lib\\site-packages\\ipykernel_launcher.py:1081: FutureWarning: `alpha` was deprecated in version 1.0 and will be removed in 1.2. Use `alpha_W` and `alpha_H` instead\n"
     ]
    },
    {
     "name": "stdout",
     "output_type": "stream",
     "text": [
      "zero_index=1, k=7, lambda=0.1, alpha_w=NA, alpha_h=0.1, w0=0.7, max_iter=1000, random_state=42\n",
      "running time=1761.4126806259155\n",
      "272\n",
      "[1.0e+00 7.0e+00 1.0e-01 1.0e-01 1.0e-01 8.0e-01 1.0e+03 4.2e+01]\n",
      "[1.0, 7.0, 0.1, 0.1, 0.1, 0.8, 1000.0, 42.0]\n"
     ]
    },
    {
     "name": "stderr",
     "output_type": "stream",
     "text": [
      "C:\\Users\\guoqq17\\anaconda3\\lib\\site-packages\\ipykernel_launcher.py:1081: FutureWarning: `alpha` was deprecated in version 1.0 and will be removed in 1.2. Use `alpha_W` and `alpha_H` instead\n"
     ]
    },
    {
     "name": "stdout",
     "output_type": "stream",
     "text": [
      "zero_index=1, k=7, lambda=0.1, alpha_w=NA, alpha_h=0.1, w0=0.8, max_iter=1000, random_state=42\n",
      "running time=1762.8377766609192\n",
      "245\n",
      "[1.0e+00 7.0e+00 1.0e-01 1.0e-01 1.0e-01 9.0e-01 1.0e+03 4.2e+01]\n",
      "[1.0, 7.0, 0.1, 0.1, 0.1, 0.9, 1000.0, 42.0]\n"
     ]
    },
    {
     "name": "stderr",
     "output_type": "stream",
     "text": [
      "C:\\Users\\guoqq17\\anaconda3\\lib\\site-packages\\ipykernel_launcher.py:1081: FutureWarning: `alpha` was deprecated in version 1.0 and will be removed in 1.2. Use `alpha_W` and `alpha_H` instead\n"
     ]
    },
    {
     "name": "stdout",
     "output_type": "stream",
     "text": [
      "zero_index=1, k=7, lambda=0.1, alpha_w=NA, alpha_h=0.1, w0=0.9, max_iter=1000, random_state=42\n",
      "running time=1756.6566643714905\n",
      "223\n",
      "[1.0e+00 7.0e+00 1.0e-01 1.0e-01 1.0e-01 1.0e+00 1.0e+03 4.2e+01]\n",
      "[1.0, 7.0, 0.1, 0.1, 0.1, 1.0, 1000.0, 42.0]\n"
     ]
    },
    {
     "name": "stderr",
     "output_type": "stream",
     "text": [
      "C:\\Users\\guoqq17\\anaconda3\\lib\\site-packages\\ipykernel_launcher.py:1081: FutureWarning: `alpha` was deprecated in version 1.0 and will be removed in 1.2. Use `alpha_W` and `alpha_H` instead\n"
     ]
    },
    {
     "name": "stdout",
     "output_type": "stream",
     "text": [
      "zero_index=1, k=7, lambda=0.1, alpha_w=NA, alpha_h=0.1, w0=1.0, max_iter=1000, random_state=42\n",
      "running time=1754.1735439300537\n",
      "200\n",
      "[1.0e+00 8.0e+00 1.0e-01 1.0e-01 1.0e-01 1.0e-01 1.0e+03 4.2e+01]\n",
      "[1.0, 8.0, 0.1, 0.1, 0.1, 0.1, 1000.0, 42.0]\n"
     ]
    },
    {
     "name": "stderr",
     "output_type": "stream",
     "text": [
      "C:\\Users\\guoqq17\\anaconda3\\lib\\site-packages\\ipykernel_launcher.py:1081: FutureWarning: `alpha` was deprecated in version 1.0 and will be removed in 1.2. Use `alpha_W` and `alpha_H` instead\n"
     ]
    },
    {
     "name": "stdout",
     "output_type": "stream",
     "text": [
      "zero_index=1, k=8, lambda=0.1, alpha_w=NA, alpha_h=0.1, w0=0.1, max_iter=1000, random_state=42\n",
      "running time=1742.9211049079895\n",
      "594\n",
      "[1.0e+00 8.0e+00 1.0e-01 1.0e-01 1.0e-01 2.0e-01 1.0e+03 4.2e+01]\n",
      "[1.0, 8.0, 0.1, 0.1, 0.1, 0.2, 1000.0, 42.0]\n"
     ]
    },
    {
     "name": "stderr",
     "output_type": "stream",
     "text": [
      "C:\\Users\\guoqq17\\anaconda3\\lib\\site-packages\\ipykernel_launcher.py:1081: FutureWarning: `alpha` was deprecated in version 1.0 and will be removed in 1.2. Use `alpha_W` and `alpha_H` instead\n"
     ]
    },
    {
     "name": "stdout",
     "output_type": "stream",
     "text": [
      "zero_index=1, k=8, lambda=0.1, alpha_w=NA, alpha_h=0.1, w0=0.2, max_iter=1000, random_state=42\n",
      "running time=1713.9289371967316\n",
      "530\n",
      "[1.0e+00 8.0e+00 1.0e-01 1.0e-01 1.0e-01 3.0e-01 1.0e+03 4.2e+01]\n",
      "[1.0, 8.0, 0.1, 0.1, 0.1, 0.3, 1000.0, 42.0]\n"
     ]
    },
    {
     "name": "stderr",
     "output_type": "stream",
     "text": [
      "C:\\Users\\guoqq17\\anaconda3\\lib\\site-packages\\ipykernel_launcher.py:1081: FutureWarning: `alpha` was deprecated in version 1.0 and will be removed in 1.2. Use `alpha_W` and `alpha_H` instead\n"
     ]
    },
    {
     "name": "stdout",
     "output_type": "stream",
     "text": [
      "zero_index=1, k=8, lambda=0.1, alpha_w=NA, alpha_h=0.1, w0=0.3, max_iter=1000, random_state=42\n",
      "running time=1732.9117186069489\n",
      "466\n",
      "[1.0e+00 8.0e+00 1.0e-01 1.0e-01 1.0e-01 4.0e-01 1.0e+03 4.2e+01]\n",
      "[1.0, 8.0, 0.1, 0.1, 0.1, 0.4, 1000.0, 42.0]\n"
     ]
    },
    {
     "name": "stderr",
     "output_type": "stream",
     "text": [
      "C:\\Users\\guoqq17\\anaconda3\\lib\\site-packages\\ipykernel_launcher.py:1081: FutureWarning: `alpha` was deprecated in version 1.0 and will be removed in 1.2. Use `alpha_W` and `alpha_H` instead\n"
     ]
    },
    {
     "name": "stdout",
     "output_type": "stream",
     "text": [
      "zero_index=1, k=8, lambda=0.1, alpha_w=NA, alpha_h=0.1, w0=0.4, max_iter=1000, random_state=42\n",
      "running time=1710.1373023986816\n",
      "406\n",
      "[1.0e+00 8.0e+00 1.0e-01 1.0e-01 1.0e-01 5.0e-01 1.0e+03 4.2e+01]\n",
      "[1.0, 8.0, 0.1, 0.1, 0.1, 0.5, 1000.0, 42.0]\n"
     ]
    },
    {
     "name": "stderr",
     "output_type": "stream",
     "text": [
      "C:\\Users\\guoqq17\\anaconda3\\lib\\site-packages\\ipykernel_launcher.py:1081: FutureWarning: `alpha` was deprecated in version 1.0 and will be removed in 1.2. Use `alpha_W` and `alpha_H` instead\n"
     ]
    },
    {
     "name": "stdout",
     "output_type": "stream",
     "text": [
      "zero_index=1, k=8, lambda=0.1, alpha_w=NA, alpha_h=0.1, w0=0.5, max_iter=1000, random_state=42\n",
      "running time=1731.0165548324585\n",
      "355\n",
      "[1.0e+00 8.0e+00 1.0e-01 1.0e-01 1.0e-01 6.0e-01 1.0e+03 4.2e+01]\n",
      "[1.0, 8.0, 0.1, 0.1, 0.1, 0.6, 1000.0, 42.0]\n"
     ]
    },
    {
     "name": "stderr",
     "output_type": "stream",
     "text": [
      "C:\\Users\\guoqq17\\anaconda3\\lib\\site-packages\\ipykernel_launcher.py:1081: FutureWarning: `alpha` was deprecated in version 1.0 and will be removed in 1.2. Use `alpha_W` and `alpha_H` instead\n"
     ]
    },
    {
     "name": "stdout",
     "output_type": "stream",
     "text": [
      "zero_index=1, k=8, lambda=0.1, alpha_w=NA, alpha_h=0.1, w0=0.6, max_iter=1000, random_state=42\n",
      "running time=1726.2286758422852\n",
      "325\n",
      "[1.0e+00 8.0e+00 1.0e-01 1.0e-01 1.0e-01 7.0e-01 1.0e+03 4.2e+01]\n",
      "[1.0, 8.0, 0.1, 0.1, 0.1, 0.7, 1000.0, 42.0]\n"
     ]
    },
    {
     "name": "stderr",
     "output_type": "stream",
     "text": [
      "C:\\Users\\guoqq17\\anaconda3\\lib\\site-packages\\ipykernel_launcher.py:1081: FutureWarning: `alpha` was deprecated in version 1.0 and will be removed in 1.2. Use `alpha_W` and `alpha_H` instead\n"
     ]
    },
    {
     "name": "stdout",
     "output_type": "stream",
     "text": [
      "zero_index=1, k=8, lambda=0.1, alpha_w=NA, alpha_h=0.1, w0=0.7, max_iter=1000, random_state=42\n",
      "running time=1728.8885278701782\n",
      "274\n",
      "[1.0e+00 8.0e+00 1.0e-01 1.0e-01 1.0e-01 8.0e-01 1.0e+03 4.2e+01]\n",
      "[1.0, 8.0, 0.1, 0.1, 0.1, 0.8, 1000.0, 42.0]\n"
     ]
    },
    {
     "name": "stderr",
     "output_type": "stream",
     "text": [
      "C:\\Users\\guoqq17\\anaconda3\\lib\\site-packages\\ipykernel_launcher.py:1081: FutureWarning: `alpha` was deprecated in version 1.0 and will be removed in 1.2. Use `alpha_W` and `alpha_H` instead\n"
     ]
    },
    {
     "name": "stdout",
     "output_type": "stream",
     "text": [
      "zero_index=1, k=8, lambda=0.1, alpha_w=NA, alpha_h=0.1, w0=0.8, max_iter=1000, random_state=42\n",
      "running time=1734.020975112915\n",
      "246\n",
      "[1.0e+00 8.0e+00 1.0e-01 1.0e-01 1.0e-01 9.0e-01 1.0e+03 4.2e+01]\n",
      "[1.0, 8.0, 0.1, 0.1, 0.1, 0.9, 1000.0, 42.0]\n"
     ]
    },
    {
     "name": "stderr",
     "output_type": "stream",
     "text": [
      "C:\\Users\\guoqq17\\anaconda3\\lib\\site-packages\\ipykernel_launcher.py:1081: FutureWarning: `alpha` was deprecated in version 1.0 and will be removed in 1.2. Use `alpha_W` and `alpha_H` instead\n"
     ]
    },
    {
     "name": "stdout",
     "output_type": "stream",
     "text": [
      "zero_index=1, k=8, lambda=0.1, alpha_w=NA, alpha_h=0.1, w0=0.9, max_iter=1000, random_state=42\n",
      "running time=1712.749852180481\n",
      "224\n",
      "[1.0e+00 8.0e+00 1.0e-01 1.0e-01 1.0e-01 1.0e+00 1.0e+03 4.2e+01]\n",
      "[1.0, 8.0, 0.1, 0.1, 0.1, 1.0, 1000.0, 42.0]\n"
     ]
    },
    {
     "name": "stderr",
     "output_type": "stream",
     "text": [
      "C:\\Users\\guoqq17\\anaconda3\\lib\\site-packages\\ipykernel_launcher.py:1081: FutureWarning: `alpha` was deprecated in version 1.0 and will be removed in 1.2. Use `alpha_W` and `alpha_H` instead\n"
     ]
    },
    {
     "name": "stdout",
     "output_type": "stream",
     "text": [
      "zero_index=1, k=8, lambda=0.1, alpha_w=NA, alpha_h=0.1, w0=1.0, max_iter=1000, random_state=42\n",
      "running time=1728.0895447731018\n",
      "200\n",
      "[1.0e+00 9.0e+00 1.0e-01 1.0e-01 1.0e-01 1.0e-01 1.0e+03 4.2e+01]\n",
      "[1.0, 9.0, 0.1, 0.1, 0.1, 0.1, 1000.0, 42.0]\n"
     ]
    },
    {
     "name": "stderr",
     "output_type": "stream",
     "text": [
      "C:\\Users\\guoqq17\\anaconda3\\lib\\site-packages\\ipykernel_launcher.py:1081: FutureWarning: `alpha` was deprecated in version 1.0 and will be removed in 1.2. Use `alpha_W` and `alpha_H` instead\n"
     ]
    },
    {
     "name": "stdout",
     "output_type": "stream",
     "text": [
      "zero_index=1, k=9, lambda=0.1, alpha_w=NA, alpha_h=0.1, w0=0.1, max_iter=1000, random_state=42\n",
      "running time=1721.665179491043\n",
      "613\n",
      "[1.0e+00 9.0e+00 1.0e-01 1.0e-01 1.0e-01 2.0e-01 1.0e+03 4.2e+01]\n",
      "[1.0, 9.0, 0.1, 0.1, 0.1, 0.2, 1000.0, 42.0]\n"
     ]
    },
    {
     "name": "stderr",
     "output_type": "stream",
     "text": [
      "C:\\Users\\guoqq17\\anaconda3\\lib\\site-packages\\ipykernel_launcher.py:1081: FutureWarning: `alpha` was deprecated in version 1.0 and will be removed in 1.2. Use `alpha_W` and `alpha_H` instead\n"
     ]
    },
    {
     "name": "stdout",
     "output_type": "stream",
     "text": [
      "zero_index=1, k=9, lambda=0.1, alpha_w=NA, alpha_h=0.1, w0=0.2, max_iter=1000, random_state=42\n",
      "running time=1711.8639347553253\n",
      "544\n",
      "[1.0e+00 9.0e+00 1.0e-01 1.0e-01 1.0e-01 3.0e-01 1.0e+03 4.2e+01]\n",
      "[1.0, 9.0, 0.1, 0.1, 0.1, 0.3, 1000.0, 42.0]\n"
     ]
    },
    {
     "name": "stderr",
     "output_type": "stream",
     "text": [
      "C:\\Users\\guoqq17\\anaconda3\\lib\\site-packages\\ipykernel_launcher.py:1081: FutureWarning: `alpha` was deprecated in version 1.0 and will be removed in 1.2. Use `alpha_W` and `alpha_H` instead\n"
     ]
    },
    {
     "name": "stdout",
     "output_type": "stream",
     "text": [
      "zero_index=1, k=9, lambda=0.1, alpha_w=NA, alpha_h=0.1, w0=0.3, max_iter=1000, random_state=42\n",
      "running time=1724.918441772461\n",
      "488\n",
      "[1.0e+00 9.0e+00 1.0e-01 1.0e-01 1.0e-01 4.0e-01 1.0e+03 4.2e+01]\n",
      "[1.0, 9.0, 0.1, 0.1, 0.1, 0.4, 1000.0, 42.0]\n"
     ]
    },
    {
     "name": "stderr",
     "output_type": "stream",
     "text": [
      "C:\\Users\\guoqq17\\anaconda3\\lib\\site-packages\\ipykernel_launcher.py:1081: FutureWarning: `alpha` was deprecated in version 1.0 and will be removed in 1.2. Use `alpha_W` and `alpha_H` instead\n"
     ]
    },
    {
     "name": "stdout",
     "output_type": "stream",
     "text": [
      "zero_index=1, k=9, lambda=0.1, alpha_w=NA, alpha_h=0.1, w0=0.4, max_iter=1000, random_state=42\n",
      "running time=1720.3481976985931\n",
      "418\n",
      "[1.0e+00 9.0e+00 1.0e-01 1.0e-01 1.0e-01 5.0e-01 1.0e+03 4.2e+01]\n",
      "[1.0, 9.0, 0.1, 0.1, 0.1, 0.5, 1000.0, 42.0]\n"
     ]
    },
    {
     "name": "stderr",
     "output_type": "stream",
     "text": [
      "C:\\Users\\guoqq17\\anaconda3\\lib\\site-packages\\ipykernel_launcher.py:1081: FutureWarning: `alpha` was deprecated in version 1.0 and will be removed in 1.2. Use `alpha_W` and `alpha_H` instead\n"
     ]
    },
    {
     "name": "stdout",
     "output_type": "stream",
     "text": [
      "zero_index=1, k=9, lambda=0.1, alpha_w=NA, alpha_h=0.1, w0=0.5, max_iter=1000, random_state=42\n",
      "running time=1715.7966792583466\n",
      "366\n",
      "[1.0e+00 9.0e+00 1.0e-01 1.0e-01 1.0e-01 6.0e-01 1.0e+03 4.2e+01]\n",
      "[1.0, 9.0, 0.1, 0.1, 0.1, 0.6, 1000.0, 42.0]\n"
     ]
    },
    {
     "name": "stderr",
     "output_type": "stream",
     "text": [
      "C:\\Users\\guoqq17\\anaconda3\\lib\\site-packages\\ipykernel_launcher.py:1081: FutureWarning: `alpha` was deprecated in version 1.0 and will be removed in 1.2. Use `alpha_W` and `alpha_H` instead\n"
     ]
    },
    {
     "name": "stdout",
     "output_type": "stream",
     "text": [
      "zero_index=1, k=9, lambda=0.1, alpha_w=NA, alpha_h=0.1, w0=0.6, max_iter=1000, random_state=42\n",
      "running time=1727.414822101593\n",
      "324\n",
      "[1.0e+00 9.0e+00 1.0e-01 1.0e-01 1.0e-01 7.0e-01 1.0e+03 4.2e+01]\n",
      "[1.0, 9.0, 0.1, 0.1, 0.1, 0.7, 1000.0, 42.0]\n"
     ]
    },
    {
     "name": "stderr",
     "output_type": "stream",
     "text": [
      "C:\\Users\\guoqq17\\anaconda3\\lib\\site-packages\\ipykernel_launcher.py:1081: FutureWarning: `alpha` was deprecated in version 1.0 and will be removed in 1.2. Use `alpha_W` and `alpha_H` instead\n"
     ]
    },
    {
     "name": "stdout",
     "output_type": "stream",
     "text": [
      "zero_index=1, k=9, lambda=0.1, alpha_w=NA, alpha_h=0.1, w0=0.7, max_iter=1000, random_state=42\n",
      "running time=1725.5364980697632\n",
      "276\n",
      "[1.0e+00 9.0e+00 1.0e-01 1.0e-01 1.0e-01 8.0e-01 1.0e+03 4.2e+01]\n",
      "[1.0, 9.0, 0.1, 0.1, 0.1, 0.8, 1000.0, 42.0]\n"
     ]
    },
    {
     "name": "stderr",
     "output_type": "stream",
     "text": [
      "C:\\Users\\guoqq17\\anaconda3\\lib\\site-packages\\ipykernel_launcher.py:1081: FutureWarning: `alpha` was deprecated in version 1.0 and will be removed in 1.2. Use `alpha_W` and `alpha_H` instead\n"
     ]
    },
    {
     "name": "stdout",
     "output_type": "stream",
     "text": [
      "zero_index=1, k=9, lambda=0.1, alpha_w=NA, alpha_h=0.1, w0=0.8, max_iter=1000, random_state=42\n",
      "running time=1713.8119888305664\n",
      "244\n",
      "[1.0e+00 9.0e+00 1.0e-01 1.0e-01 1.0e-01 9.0e-01 1.0e+03 4.2e+01]\n",
      "[1.0, 9.0, 0.1, 0.1, 0.1, 0.9, 1000.0, 42.0]\n"
     ]
    },
    {
     "name": "stderr",
     "output_type": "stream",
     "text": [
      "C:\\Users\\guoqq17\\anaconda3\\lib\\site-packages\\ipykernel_launcher.py:1081: FutureWarning: `alpha` was deprecated in version 1.0 and will be removed in 1.2. Use `alpha_W` and `alpha_H` instead\n"
     ]
    },
    {
     "name": "stdout",
     "output_type": "stream",
     "text": [
      "zero_index=1, k=9, lambda=0.1, alpha_w=NA, alpha_h=0.1, w0=0.9, max_iter=1000, random_state=42\n",
      "running time=2303.6499586105347\n",
      "226\n",
      "[1.0e+00 9.0e+00 1.0e-01 1.0e-01 1.0e-01 1.0e+00 1.0e+03 4.2e+01]\n",
      "[1.0, 9.0, 0.1, 0.1, 0.1, 1.0, 1000.0, 42.0]\n"
     ]
    },
    {
     "name": "stderr",
     "output_type": "stream",
     "text": [
      "C:\\Users\\guoqq17\\anaconda3\\lib\\site-packages\\ipykernel_launcher.py:1081: FutureWarning: `alpha` was deprecated in version 1.0 and will be removed in 1.2. Use `alpha_W` and `alpha_H` instead\n"
     ]
    },
    {
     "name": "stdout",
     "output_type": "stream",
     "text": [
      "zero_index=1, k=9, lambda=0.1, alpha_w=NA, alpha_h=0.1, w0=1.0, max_iter=1000, random_state=42\n",
      "running time=1981.1536860466003\n",
      "206\n",
      "[1.0e+00 1.0e+01 1.0e-01 1.0e-01 1.0e-01 1.0e-01 1.0e+03 4.2e+01]\n",
      "[1.0, 10.0, 0.1, 0.1, 0.1, 0.1, 1000.0, 42.0]\n"
     ]
    },
    {
     "name": "stderr",
     "output_type": "stream",
     "text": [
      "C:\\Users\\guoqq17\\anaconda3\\lib\\site-packages\\ipykernel_launcher.py:1081: FutureWarning: `alpha` was deprecated in version 1.0 and will be removed in 1.2. Use `alpha_W` and `alpha_H` instead\n"
     ]
    },
    {
     "name": "stdout",
     "output_type": "stream",
     "text": [
      "zero_index=1, k=10, lambda=0.1, alpha_w=NA, alpha_h=0.1, w0=0.1, max_iter=1000, random_state=42\n",
      "running time=1782.107486486435\n",
      "248\n",
      "[1.0e+00 1.0e+01 1.0e-01 1.0e-01 1.0e-01 2.0e-01 1.0e+03 4.2e+01]\n",
      "[1.0, 10.0, 0.1, 0.1, 0.1, 0.2, 1000.0, 42.0]\n"
     ]
    },
    {
     "name": "stderr",
     "output_type": "stream",
     "text": [
      "C:\\Users\\guoqq17\\anaconda3\\lib\\site-packages\\ipykernel_launcher.py:1081: FutureWarning: `alpha` was deprecated in version 1.0 and will be removed in 1.2. Use `alpha_W` and `alpha_H` instead\n"
     ]
    },
    {
     "name": "stdout",
     "output_type": "stream",
     "text": [
      "zero_index=1, k=10, lambda=0.1, alpha_w=NA, alpha_h=0.1, w0=0.2, max_iter=1000, random_state=42\n",
      "running time=1795.6870076656342\n",
      "235\n",
      "[1.0e+00 1.0e+01 1.0e-01 1.0e-01 1.0e-01 3.0e-01 1.0e+03 4.2e+01]\n",
      "[1.0, 10.0, 0.1, 0.1, 0.1, 0.3, 1000.0, 42.0]\n"
     ]
    },
    {
     "name": "stderr",
     "output_type": "stream",
     "text": [
      "C:\\Users\\guoqq17\\anaconda3\\lib\\site-packages\\ipykernel_launcher.py:1081: FutureWarning: `alpha` was deprecated in version 1.0 and will be removed in 1.2. Use `alpha_W` and `alpha_H` instead\n"
     ]
    },
    {
     "name": "stdout",
     "output_type": "stream",
     "text": [
      "zero_index=1, k=10, lambda=0.1, alpha_w=NA, alpha_h=0.1, w0=0.3, max_iter=1000, random_state=42\n",
      "running time=1768.9469361305237\n",
      "221\n",
      "[1.0e+00 1.0e+01 1.0e-01 1.0e-01 1.0e-01 4.0e-01 1.0e+03 4.2e+01]\n",
      "[1.0, 10.0, 0.1, 0.1, 0.1, 0.4, 1000.0, 42.0]\n"
     ]
    },
    {
     "name": "stderr",
     "output_type": "stream",
     "text": [
      "C:\\Users\\guoqq17\\anaconda3\\lib\\site-packages\\ipykernel_launcher.py:1081: FutureWarning: `alpha` was deprecated in version 1.0 and will be removed in 1.2. Use `alpha_W` and `alpha_H` instead\n"
     ]
    },
    {
     "name": "stdout",
     "output_type": "stream",
     "text": [
      "zero_index=1, k=10, lambda=0.1, alpha_w=NA, alpha_h=0.1, w0=0.4, max_iter=1000, random_state=42\n",
      "running time=1779.3043122291565\n",
      "217\n",
      "[1.0e+00 1.0e+01 1.0e-01 1.0e-01 1.0e-01 5.0e-01 1.0e+03 4.2e+01]\n",
      "[1.0, 10.0, 0.1, 0.1, 0.1, 0.5, 1000.0, 42.0]\n"
     ]
    },
    {
     "name": "stderr",
     "output_type": "stream",
     "text": [
      "C:\\Users\\guoqq17\\anaconda3\\lib\\site-packages\\ipykernel_launcher.py:1081: FutureWarning: `alpha` was deprecated in version 1.0 and will be removed in 1.2. Use `alpha_W` and `alpha_H` instead\n"
     ]
    },
    {
     "name": "stdout",
     "output_type": "stream",
     "text": [
      "zero_index=1, k=10, lambda=0.1, alpha_w=NA, alpha_h=0.1, w0=0.5, max_iter=1000, random_state=42\n",
      "running time=1765.967435836792\n",
      "209\n",
      "[1.0e+00 1.0e+01 1.0e-01 1.0e-01 1.0e-01 6.0e-01 1.0e+03 4.2e+01]\n",
      "[1.0, 10.0, 0.1, 0.1, 0.1, 0.6, 1000.0, 42.0]\n"
     ]
    },
    {
     "name": "stderr",
     "output_type": "stream",
     "text": [
      "C:\\Users\\guoqq17\\anaconda3\\lib\\site-packages\\ipykernel_launcher.py:1081: FutureWarning: `alpha` was deprecated in version 1.0 and will be removed in 1.2. Use `alpha_W` and `alpha_H` instead\n"
     ]
    },
    {
     "name": "stdout",
     "output_type": "stream",
     "text": [
      "zero_index=1, k=10, lambda=0.1, alpha_w=NA, alpha_h=0.1, w0=0.6, max_iter=1000, random_state=42\n",
      "running time=1761.2346942424774\n",
      "200\n",
      "[1.0e+00 1.0e+01 1.0e-01 1.0e-01 1.0e-01 7.0e-01 1.0e+03 4.2e+01]\n",
      "[1.0, 10.0, 0.1, 0.1, 0.1, 0.7, 1000.0, 42.0]\n"
     ]
    },
    {
     "name": "stderr",
     "output_type": "stream",
     "text": [
      "C:\\Users\\guoqq17\\anaconda3\\lib\\site-packages\\ipykernel_launcher.py:1081: FutureWarning: `alpha` was deprecated in version 1.0 and will be removed in 1.2. Use `alpha_W` and `alpha_H` instead\n"
     ]
    },
    {
     "name": "stdout",
     "output_type": "stream",
     "text": [
      "zero_index=1, k=10, lambda=0.1, alpha_w=NA, alpha_h=0.1, w0=0.7, max_iter=1000, random_state=42\n",
      "running time=1756.1203203201294\n",
      "190\n",
      "[1.0e+00 1.0e+01 1.0e-01 1.0e-01 1.0e-01 8.0e-01 1.0e+03 4.2e+01]\n",
      "[1.0, 10.0, 0.1, 0.1, 0.1, 0.8, 1000.0, 42.0]\n"
     ]
    },
    {
     "name": "stderr",
     "output_type": "stream",
     "text": [
      "C:\\Users\\guoqq17\\anaconda3\\lib\\site-packages\\ipykernel_launcher.py:1081: FutureWarning: `alpha` was deprecated in version 1.0 and will be removed in 1.2. Use `alpha_W` and `alpha_H` instead\n"
     ]
    },
    {
     "name": "stdout",
     "output_type": "stream",
     "text": [
      "zero_index=1, k=10, lambda=0.1, alpha_w=NA, alpha_h=0.1, w0=0.8, max_iter=1000, random_state=42\n",
      "running time=1760.4698016643524\n",
      "174\n",
      "[1.0e+00 1.0e+01 1.0e-01 1.0e-01 1.0e-01 9.0e-01 1.0e+03 4.2e+01]\n",
      "[1.0, 10.0, 0.1, 0.1, 0.1, 0.9, 1000.0, 42.0]\n"
     ]
    },
    {
     "name": "stderr",
     "output_type": "stream",
     "text": [
      "C:\\Users\\guoqq17\\anaconda3\\lib\\site-packages\\ipykernel_launcher.py:1081: FutureWarning: `alpha` was deprecated in version 1.0 and will be removed in 1.2. Use `alpha_W` and `alpha_H` instead\n"
     ]
    },
    {
     "name": "stdout",
     "output_type": "stream",
     "text": [
      "zero_index=1, k=10, lambda=0.1, alpha_w=NA, alpha_h=0.1, w0=0.9, max_iter=1000, random_state=42\n",
      "running time=1756.7643337249756\n",
      "170\n",
      "[1.0e+00 1.0e+01 1.0e-01 1.0e-01 1.0e-01 1.0e+00 1.0e+03 4.2e+01]\n",
      "[1.0, 10.0, 0.1, 0.1, 0.1, 1.0, 1000.0, 42.0]\n"
     ]
    },
    {
     "name": "stderr",
     "output_type": "stream",
     "text": [
      "C:\\Users\\guoqq17\\anaconda3\\lib\\site-packages\\ipykernel_launcher.py:1081: FutureWarning: `alpha` was deprecated in version 1.0 and will be removed in 1.2. Use `alpha_W` and `alpha_H` instead\n"
     ]
    },
    {
     "name": "stdout",
     "output_type": "stream",
     "text": [
      "zero_index=1, k=10, lambda=0.1, alpha_w=NA, alpha_h=0.1, w0=1.0, max_iter=1000, random_state=42\n",
      "running time=1724.2390019893646\n",
      "163\n",
      "[1.0e+00 1.1e+01 1.0e-01 1.0e-01 1.0e-01 1.0e-01 1.0e+03 4.2e+01]\n",
      "[1.0, 11.0, 0.1, 0.1, 0.1, 0.1, 1000.0, 42.0]\n"
     ]
    },
    {
     "name": "stderr",
     "output_type": "stream",
     "text": [
      "C:\\Users\\guoqq17\\anaconda3\\lib\\site-packages\\ipykernel_launcher.py:1081: FutureWarning: `alpha` was deprecated in version 1.0 and will be removed in 1.2. Use `alpha_W` and `alpha_H` instead\n"
     ]
    },
    {
     "name": "stdout",
     "output_type": "stream",
     "text": [
      "zero_index=1, k=11, lambda=0.1, alpha_w=NA, alpha_h=0.1, w0=0.1, max_iter=1000, random_state=42\n",
      "running time=1727.2827055454254\n",
      "241\n",
      "[1.0e+00 1.1e+01 1.0e-01 1.0e-01 1.0e-01 2.0e-01 1.0e+03 4.2e+01]\n",
      "[1.0, 11.0, 0.1, 0.1, 0.1, 0.2, 1000.0, 42.0]\n"
     ]
    },
    {
     "name": "stderr",
     "output_type": "stream",
     "text": [
      "C:\\Users\\guoqq17\\anaconda3\\lib\\site-packages\\ipykernel_launcher.py:1081: FutureWarning: `alpha` was deprecated in version 1.0 and will be removed in 1.2. Use `alpha_W` and `alpha_H` instead\n"
     ]
    },
    {
     "name": "stdout",
     "output_type": "stream",
     "text": [
      "zero_index=1, k=11, lambda=0.1, alpha_w=NA, alpha_h=0.1, w0=0.2, max_iter=1000, random_state=42\n",
      "running time=1715.4610514640808\n",
      "227\n",
      "[1.0e+00 1.1e+01 1.0e-01 1.0e-01 1.0e-01 3.0e-01 1.0e+03 4.2e+01]\n",
      "[1.0, 11.0, 0.1, 0.1, 0.1, 0.3, 1000.0, 42.0]\n"
     ]
    },
    {
     "name": "stderr",
     "output_type": "stream",
     "text": [
      "C:\\Users\\guoqq17\\anaconda3\\lib\\site-packages\\ipykernel_launcher.py:1081: FutureWarning: `alpha` was deprecated in version 1.0 and will be removed in 1.2. Use `alpha_W` and `alpha_H` instead\n"
     ]
    },
    {
     "name": "stdout",
     "output_type": "stream",
     "text": [
      "zero_index=1, k=11, lambda=0.1, alpha_w=NA, alpha_h=0.1, w0=0.3, max_iter=1000, random_state=42\n",
      "running time=1739.38827085495\n",
      "218\n",
      "[1.0e+00 1.1e+01 1.0e-01 1.0e-01 1.0e-01 4.0e-01 1.0e+03 4.2e+01]\n",
      "[1.0, 11.0, 0.1, 0.1, 0.1, 0.4, 1000.0, 42.0]\n"
     ]
    },
    {
     "name": "stderr",
     "output_type": "stream",
     "text": [
      "C:\\Users\\guoqq17\\anaconda3\\lib\\site-packages\\ipykernel_launcher.py:1081: FutureWarning: `alpha` was deprecated in version 1.0 and will be removed in 1.2. Use `alpha_W` and `alpha_H` instead\n"
     ]
    },
    {
     "name": "stdout",
     "output_type": "stream",
     "text": [
      "zero_index=1, k=11, lambda=0.1, alpha_w=NA, alpha_h=0.1, w0=0.4, max_iter=1000, random_state=42\n",
      "running time=1722.5891437530518\n",
      "215\n",
      "[1.0e+00 1.1e+01 1.0e-01 1.0e-01 1.0e-01 5.0e-01 1.0e+03 4.2e+01]\n",
      "[1.0, 11.0, 0.1, 0.1, 0.1, 0.5, 1000.0, 42.0]\n"
     ]
    },
    {
     "name": "stderr",
     "output_type": "stream",
     "text": [
      "C:\\Users\\guoqq17\\anaconda3\\lib\\site-packages\\ipykernel_launcher.py:1081: FutureWarning: `alpha` was deprecated in version 1.0 and will be removed in 1.2. Use `alpha_W` and `alpha_H` instead\n"
     ]
    },
    {
     "name": "stdout",
     "output_type": "stream",
     "text": [
      "zero_index=1, k=11, lambda=0.1, alpha_w=NA, alpha_h=0.1, w0=0.5, max_iter=1000, random_state=42\n",
      "running time=1736.1460089683533\n",
      "203\n",
      "[1.0e+00 1.1e+01 1.0e-01 1.0e-01 1.0e-01 6.0e-01 1.0e+03 4.2e+01]\n",
      "[1.0, 11.0, 0.1, 0.1, 0.1, 0.6, 1000.0, 42.0]\n"
     ]
    },
    {
     "name": "stderr",
     "output_type": "stream",
     "text": [
      "C:\\Users\\guoqq17\\anaconda3\\lib\\site-packages\\ipykernel_launcher.py:1081: FutureWarning: `alpha` was deprecated in version 1.0 and will be removed in 1.2. Use `alpha_W` and `alpha_H` instead\n"
     ]
    },
    {
     "name": "stdout",
     "output_type": "stream",
     "text": [
      "zero_index=1, k=11, lambda=0.1, alpha_w=NA, alpha_h=0.1, w0=0.6, max_iter=1000, random_state=42\n",
      "running time=1735.995421886444\n",
      "199\n",
      "[1.0e+00 1.1e+01 1.0e-01 1.0e-01 1.0e-01 7.0e-01 1.0e+03 4.2e+01]\n",
      "[1.0, 11.0, 0.1, 0.1, 0.1, 0.7, 1000.0, 42.0]\n"
     ]
    },
    {
     "name": "stderr",
     "output_type": "stream",
     "text": [
      "C:\\Users\\guoqq17\\anaconda3\\lib\\site-packages\\ipykernel_launcher.py:1081: FutureWarning: `alpha` was deprecated in version 1.0 and will be removed in 1.2. Use `alpha_W` and `alpha_H` instead\n"
     ]
    },
    {
     "name": "stdout",
     "output_type": "stream",
     "text": [
      "zero_index=1, k=11, lambda=0.1, alpha_w=NA, alpha_h=0.1, w0=0.7, max_iter=1000, random_state=42\n",
      "running time=1726.3986899852753\n",
      "189\n",
      "[1.0e+00 1.1e+01 1.0e-01 1.0e-01 1.0e-01 8.0e-01 1.0e+03 4.2e+01]\n",
      "[1.0, 11.0, 0.1, 0.1, 0.1, 0.8, 1000.0, 42.0]\n"
     ]
    },
    {
     "name": "stderr",
     "output_type": "stream",
     "text": [
      "C:\\Users\\guoqq17\\anaconda3\\lib\\site-packages\\ipykernel_launcher.py:1081: FutureWarning: `alpha` was deprecated in version 1.0 and will be removed in 1.2. Use `alpha_W` and `alpha_H` instead\n"
     ]
    },
    {
     "name": "stdout",
     "output_type": "stream",
     "text": [
      "zero_index=1, k=11, lambda=0.1, alpha_w=NA, alpha_h=0.1, w0=0.8, max_iter=1000, random_state=42\n",
      "running time=1738.3830943107605\n",
      "182\n",
      "[1.0e+00 1.1e+01 1.0e-01 1.0e-01 1.0e-01 9.0e-01 1.0e+03 4.2e+01]\n",
      "[1.0, 11.0, 0.1, 0.1, 0.1, 0.9, 1000.0, 42.0]\n"
     ]
    },
    {
     "name": "stderr",
     "output_type": "stream",
     "text": [
      "C:\\Users\\guoqq17\\anaconda3\\lib\\site-packages\\ipykernel_launcher.py:1081: FutureWarning: `alpha` was deprecated in version 1.0 and will be removed in 1.2. Use `alpha_W` and `alpha_H` instead\n"
     ]
    },
    {
     "name": "stdout",
     "output_type": "stream",
     "text": [
      "zero_index=1, k=11, lambda=0.1, alpha_w=NA, alpha_h=0.1, w0=0.9, max_iter=1000, random_state=42\n",
      "running time=1735.1147875785828\n",
      "178\n",
      "[1.0e+00 1.1e+01 1.0e-01 1.0e-01 1.0e-01 1.0e+00 1.0e+03 4.2e+01]\n",
      "[1.0, 11.0, 0.1, 0.1, 0.1, 1.0, 1000.0, 42.0]\n"
     ]
    },
    {
     "name": "stderr",
     "output_type": "stream",
     "text": [
      "C:\\Users\\guoqq17\\anaconda3\\lib\\site-packages\\ipykernel_launcher.py:1081: FutureWarning: `alpha` was deprecated in version 1.0 and will be removed in 1.2. Use `alpha_W` and `alpha_H` instead\n"
     ]
    },
    {
     "name": "stdout",
     "output_type": "stream",
     "text": [
      "zero_index=1, k=11, lambda=0.1, alpha_w=NA, alpha_h=0.1, w0=1.0, max_iter=1000, random_state=42\n",
      "running time=1727.281389951706\n",
      "174\n",
      "[1.0e+00 1.2e+01 1.0e-01 1.0e-01 1.0e-01 1.0e-01 1.0e+03 4.2e+01]\n",
      "[1.0, 12.0, 0.1, 0.1, 0.1, 0.1, 1000.0, 42.0]\n"
     ]
    },
    {
     "name": "stderr",
     "output_type": "stream",
     "text": [
      "C:\\Users\\guoqq17\\anaconda3\\lib\\site-packages\\ipykernel_launcher.py:1081: FutureWarning: `alpha` was deprecated in version 1.0 and will be removed in 1.2. Use `alpha_W` and `alpha_H` instead\n"
     ]
    },
    {
     "name": "stdout",
     "output_type": "stream",
     "text": [
      "zero_index=1, k=12, lambda=0.1, alpha_w=NA, alpha_h=0.1, w0=0.1, max_iter=1000, random_state=42\n",
      "running time=1738.6854190826416\n",
      "258\n",
      "[1.0e+00 1.2e+01 1.0e-01 1.0e-01 1.0e-01 2.0e-01 1.0e+03 4.2e+01]\n",
      "[1.0, 12.0, 0.1, 0.1, 0.1, 0.2, 1000.0, 42.0]\n"
     ]
    },
    {
     "name": "stderr",
     "output_type": "stream",
     "text": [
      "C:\\Users\\guoqq17\\anaconda3\\lib\\site-packages\\ipykernel_launcher.py:1081: FutureWarning: `alpha` was deprecated in version 1.0 and will be removed in 1.2. Use `alpha_W` and `alpha_H` instead\n"
     ]
    },
    {
     "name": "stdout",
     "output_type": "stream",
     "text": [
      "zero_index=1, k=12, lambda=0.1, alpha_w=NA, alpha_h=0.1, w0=0.2, max_iter=1000, random_state=42\n",
      "running time=1732.1771309375763\n",
      "244\n",
      "[1.0e+00 1.2e+01 1.0e-01 1.0e-01 1.0e-01 3.0e-01 1.0e+03 4.2e+01]\n",
      "[1.0, 12.0, 0.1, 0.1, 0.1, 0.3, 1000.0, 42.0]\n"
     ]
    },
    {
     "name": "stderr",
     "output_type": "stream",
     "text": [
      "C:\\Users\\guoqq17\\anaconda3\\lib\\site-packages\\ipykernel_launcher.py:1081: FutureWarning: `alpha` was deprecated in version 1.0 and will be removed in 1.2. Use `alpha_W` and `alpha_H` instead\n"
     ]
    },
    {
     "name": "stdout",
     "output_type": "stream",
     "text": [
      "zero_index=1, k=12, lambda=0.1, alpha_w=NA, alpha_h=0.1, w0=0.3, max_iter=1000, random_state=42\n",
      "running time=1730.1468172073364\n",
      "235\n",
      "[1.0e+00 1.2e+01 1.0e-01 1.0e-01 1.0e-01 4.0e-01 1.0e+03 4.2e+01]\n",
      "[1.0, 12.0, 0.1, 0.1, 0.1, 0.4, 1000.0, 42.0]\n"
     ]
    },
    {
     "name": "stderr",
     "output_type": "stream",
     "text": [
      "C:\\Users\\guoqq17\\anaconda3\\lib\\site-packages\\ipykernel_launcher.py:1081: FutureWarning: `alpha` was deprecated in version 1.0 and will be removed in 1.2. Use `alpha_W` and `alpha_H` instead\n"
     ]
    },
    {
     "name": "stdout",
     "output_type": "stream",
     "text": [
      "zero_index=1, k=12, lambda=0.1, alpha_w=NA, alpha_h=0.1, w0=0.4, max_iter=1000, random_state=42\n",
      "running time=1738.466270685196\n",
      "226\n",
      "[1.0e+00 1.2e+01 1.0e-01 1.0e-01 1.0e-01 5.0e-01 1.0e+03 4.2e+01]\n",
      "[1.0, 12.0, 0.1, 0.1, 0.1, 0.5, 1000.0, 42.0]\n"
     ]
    },
    {
     "name": "stderr",
     "output_type": "stream",
     "text": [
      "C:\\Users\\guoqq17\\anaconda3\\lib\\site-packages\\ipykernel_launcher.py:1081: FutureWarning: `alpha` was deprecated in version 1.0 and will be removed in 1.2. Use `alpha_W` and `alpha_H` instead\n"
     ]
    },
    {
     "name": "stdout",
     "output_type": "stream",
     "text": [
      "zero_index=1, k=12, lambda=0.1, alpha_w=NA, alpha_h=0.1, w0=0.5, max_iter=1000, random_state=42\n",
      "running time=1735.443119764328\n",
      "214\n",
      "[1.0e+00 1.2e+01 1.0e-01 1.0e-01 1.0e-01 6.0e-01 1.0e+03 4.2e+01]\n",
      "[1.0, 12.0, 0.1, 0.1, 0.1, 0.6, 1000.0, 42.0]\n"
     ]
    },
    {
     "name": "stderr",
     "output_type": "stream",
     "text": [
      "C:\\Users\\guoqq17\\anaconda3\\lib\\site-packages\\ipykernel_launcher.py:1081: FutureWarning: `alpha` was deprecated in version 1.0 and will be removed in 1.2. Use `alpha_W` and `alpha_H` instead\n"
     ]
    },
    {
     "name": "stdout",
     "output_type": "stream",
     "text": [
      "zero_index=1, k=12, lambda=0.1, alpha_w=NA, alpha_h=0.1, w0=0.6, max_iter=1000, random_state=42\n",
      "running time=1727.1463618278503\n",
      "205\n",
      "[1.0e+00 1.2e+01 1.0e-01 1.0e-01 1.0e-01 7.0e-01 1.0e+03 4.2e+01]\n",
      "[1.0, 12.0, 0.1, 0.1, 0.1, 0.7, 1000.0, 42.0]\n"
     ]
    },
    {
     "name": "stderr",
     "output_type": "stream",
     "text": [
      "C:\\Users\\guoqq17\\anaconda3\\lib\\site-packages\\ipykernel_launcher.py:1081: FutureWarning: `alpha` was deprecated in version 1.0 and will be removed in 1.2. Use `alpha_W` and `alpha_H` instead\n"
     ]
    },
    {
     "name": "stdout",
     "output_type": "stream",
     "text": [
      "zero_index=1, k=12, lambda=0.1, alpha_w=NA, alpha_h=0.1, w0=0.7, max_iter=1000, random_state=42\n",
      "running time=2522.6462330818176\n",
      "196\n",
      "[1.0e+00 1.2e+01 1.0e-01 1.0e-01 1.0e-01 8.0e-01 1.0e+03 4.2e+01]\n",
      "[1.0, 12.0, 0.1, 0.1, 0.1, 0.8, 1000.0, 42.0]\n"
     ]
    },
    {
     "name": "stderr",
     "output_type": "stream",
     "text": [
      "C:\\Users\\guoqq17\\anaconda3\\lib\\site-packages\\ipykernel_launcher.py:1081: FutureWarning: `alpha` was deprecated in version 1.0 and will be removed in 1.2. Use `alpha_W` and `alpha_H` instead\n"
     ]
    },
    {
     "name": "stdout",
     "output_type": "stream",
     "text": [
      "zero_index=1, k=12, lambda=0.1, alpha_w=NA, alpha_h=0.1, w0=0.8, max_iter=1000, random_state=42\n",
      "running time=1780.9621431827545\n",
      "185\n",
      "[1.0e+00 1.2e+01 1.0e-01 1.0e-01 1.0e-01 9.0e-01 1.0e+03 4.2e+01]\n",
      "[1.0, 12.0, 0.1, 0.1, 0.1, 0.9, 1000.0, 42.0]\n"
     ]
    },
    {
     "name": "stderr",
     "output_type": "stream",
     "text": [
      "C:\\Users\\guoqq17\\anaconda3\\lib\\site-packages\\ipykernel_launcher.py:1081: FutureWarning: `alpha` was deprecated in version 1.0 and will be removed in 1.2. Use `alpha_W` and `alpha_H` instead\n"
     ]
    },
    {
     "name": "stdout",
     "output_type": "stream",
     "text": [
      "zero_index=1, k=12, lambda=0.1, alpha_w=NA, alpha_h=0.1, w0=0.9, max_iter=1000, random_state=42\n",
      "running time=1775.977187871933\n",
      "181\n",
      "[1.0e+00 1.2e+01 1.0e-01 1.0e-01 1.0e-01 1.0e+00 1.0e+03 4.2e+01]\n",
      "[1.0, 12.0, 0.1, 0.1, 0.1, 1.0, 1000.0, 42.0]\n"
     ]
    },
    {
     "name": "stderr",
     "output_type": "stream",
     "text": [
      "C:\\Users\\guoqq17\\anaconda3\\lib\\site-packages\\ipykernel_launcher.py:1081: FutureWarning: `alpha` was deprecated in version 1.0 and will be removed in 1.2. Use `alpha_W` and `alpha_H` instead\n"
     ]
    },
    {
     "name": "stdout",
     "output_type": "stream",
     "text": [
      "zero_index=1, k=12, lambda=0.1, alpha_w=NA, alpha_h=0.1, w0=1.0, max_iter=1000, random_state=42\n",
      "running time=1772.4070630073547\n",
      "176\n",
      "[1.0e+00 1.3e+01 1.0e-01 1.0e-01 1.0e-01 1.0e-01 1.0e+03 4.2e+01]\n",
      "[1.0, 13.0, 0.1, 0.1, 0.1, 0.1, 1000.0, 42.0]\n"
     ]
    },
    {
     "name": "stderr",
     "output_type": "stream",
     "text": [
      "C:\\Users\\guoqq17\\anaconda3\\lib\\site-packages\\ipykernel_launcher.py:1081: FutureWarning: `alpha` was deprecated in version 1.0 and will be removed in 1.2. Use `alpha_W` and `alpha_H` instead\n"
     ]
    },
    {
     "name": "stdout",
     "output_type": "stream",
     "text": [
      "zero_index=1, k=13, lambda=0.1, alpha_w=NA, alpha_h=0.1, w0=0.1, max_iter=1000, random_state=42\n",
      "running time=1768.1066229343414\n",
      "259\n",
      "[1.0e+00 1.3e+01 1.0e-01 1.0e-01 1.0e-01 2.0e-01 1.0e+03 4.2e+01]\n",
      "[1.0, 13.0, 0.1, 0.1, 0.1, 0.2, 1000.0, 42.0]\n"
     ]
    },
    {
     "name": "stderr",
     "output_type": "stream",
     "text": [
      "C:\\Users\\guoqq17\\anaconda3\\lib\\site-packages\\ipykernel_launcher.py:1081: FutureWarning: `alpha` was deprecated in version 1.0 and will be removed in 1.2. Use `alpha_W` and `alpha_H` instead\n"
     ]
    },
    {
     "name": "stdout",
     "output_type": "stream",
     "text": [
      "zero_index=1, k=13, lambda=0.1, alpha_w=NA, alpha_h=0.1, w0=0.2, max_iter=1000, random_state=42\n",
      "running time=1761.586477279663\n",
      "247\n",
      "[1.0e+00 1.3e+01 1.0e-01 1.0e-01 1.0e-01 3.0e-01 1.0e+03 4.2e+01]\n",
      "[1.0, 13.0, 0.1, 0.1, 0.1, 0.3, 1000.0, 42.0]\n"
     ]
    },
    {
     "name": "stderr",
     "output_type": "stream",
     "text": [
      "C:\\Users\\guoqq17\\anaconda3\\lib\\site-packages\\ipykernel_launcher.py:1081: FutureWarning: `alpha` was deprecated in version 1.0 and will be removed in 1.2. Use `alpha_W` and `alpha_H` instead\n"
     ]
    },
    {
     "name": "stdout",
     "output_type": "stream",
     "text": [
      "zero_index=1, k=13, lambda=0.1, alpha_w=NA, alpha_h=0.1, w0=0.3, max_iter=1000, random_state=42\n",
      "running time=1766.457796573639\n",
      "240\n",
      "[1.0e+00 1.3e+01 1.0e-01 1.0e-01 1.0e-01 4.0e-01 1.0e+03 4.2e+01]\n",
      "[1.0, 13.0, 0.1, 0.1, 0.1, 0.4, 1000.0, 42.0]\n"
     ]
    },
    {
     "name": "stderr",
     "output_type": "stream",
     "text": [
      "C:\\Users\\guoqq17\\anaconda3\\lib\\site-packages\\ipykernel_launcher.py:1081: FutureWarning: `alpha` was deprecated in version 1.0 and will be removed in 1.2. Use `alpha_W` and `alpha_H` instead\n"
     ]
    },
    {
     "name": "stdout",
     "output_type": "stream",
     "text": [
      "zero_index=1, k=13, lambda=0.1, alpha_w=NA, alpha_h=0.1, w0=0.4, max_iter=1000, random_state=42\n",
      "running time=1759.8522384166718\n",
      "232\n",
      "[1.0e+00 1.3e+01 1.0e-01 1.0e-01 1.0e-01 5.0e-01 1.0e+03 4.2e+01]\n",
      "[1.0, 13.0, 0.1, 0.1, 0.1, 0.5, 1000.0, 42.0]\n"
     ]
    },
    {
     "name": "stderr",
     "output_type": "stream",
     "text": [
      "C:\\Users\\guoqq17\\anaconda3\\lib\\site-packages\\ipykernel_launcher.py:1081: FutureWarning: `alpha` was deprecated in version 1.0 and will be removed in 1.2. Use `alpha_W` and `alpha_H` instead\n"
     ]
    },
    {
     "name": "stdout",
     "output_type": "stream",
     "text": [
      "zero_index=1, k=13, lambda=0.1, alpha_w=NA, alpha_h=0.1, w0=0.5, max_iter=1000, random_state=42\n",
      "running time=1759.8933718204498\n",
      "217\n",
      "[1.0e+00 1.3e+01 1.0e-01 1.0e-01 1.0e-01 6.0e-01 1.0e+03 4.2e+01]\n",
      "[1.0, 13.0, 0.1, 0.1, 0.1, 0.6, 1000.0, 42.0]\n"
     ]
    },
    {
     "name": "stderr",
     "output_type": "stream",
     "text": [
      "C:\\Users\\guoqq17\\anaconda3\\lib\\site-packages\\ipykernel_launcher.py:1081: FutureWarning: `alpha` was deprecated in version 1.0 and will be removed in 1.2. Use `alpha_W` and `alpha_H` instead\n"
     ]
    },
    {
     "name": "stdout",
     "output_type": "stream",
     "text": [
      "zero_index=1, k=13, lambda=0.1, alpha_w=NA, alpha_h=0.1, w0=0.6, max_iter=1000, random_state=42\n",
      "running time=1755.5326929092407\n",
      "208\n",
      "[1.0e+00 1.3e+01 1.0e-01 1.0e-01 1.0e-01 7.0e-01 1.0e+03 4.2e+01]\n",
      "[1.0, 13.0, 0.1, 0.1, 0.1, 0.7, 1000.0, 42.0]\n"
     ]
    },
    {
     "name": "stderr",
     "output_type": "stream",
     "text": [
      "C:\\Users\\guoqq17\\anaconda3\\lib\\site-packages\\ipykernel_launcher.py:1081: FutureWarning: `alpha` was deprecated in version 1.0 and will be removed in 1.2. Use `alpha_W` and `alpha_H` instead\n"
     ]
    },
    {
     "name": "stdout",
     "output_type": "stream",
     "text": [
      "zero_index=1, k=13, lambda=0.1, alpha_w=NA, alpha_h=0.1, w0=0.7, max_iter=1000, random_state=42\n",
      "running time=1770.2252869606018\n",
      "200\n",
      "[1.0e+00 1.3e+01 1.0e-01 1.0e-01 1.0e-01 8.0e-01 1.0e+03 4.2e+01]\n",
      "[1.0, 13.0, 0.1, 0.1, 0.1, 0.8, 1000.0, 42.0]\n"
     ]
    },
    {
     "name": "stderr",
     "output_type": "stream",
     "text": [
      "C:\\Users\\guoqq17\\anaconda3\\lib\\site-packages\\ipykernel_launcher.py:1081: FutureWarning: `alpha` was deprecated in version 1.0 and will be removed in 1.2. Use `alpha_W` and `alpha_H` instead\n"
     ]
    },
    {
     "name": "stdout",
     "output_type": "stream",
     "text": [
      "zero_index=1, k=13, lambda=0.1, alpha_w=NA, alpha_h=0.1, w0=0.8, max_iter=1000, random_state=42\n",
      "running time=1731.9970982074738\n",
      "192\n",
      "[1.0e+00 1.3e+01 1.0e-01 1.0e-01 1.0e-01 9.0e-01 1.0e+03 4.2e+01]\n",
      "[1.0, 13.0, 0.1, 0.1, 0.1, 0.9, 1000.0, 42.0]\n"
     ]
    },
    {
     "name": "stderr",
     "output_type": "stream",
     "text": [
      "C:\\Users\\guoqq17\\anaconda3\\lib\\site-packages\\ipykernel_launcher.py:1081: FutureWarning: `alpha` was deprecated in version 1.0 and will be removed in 1.2. Use `alpha_W` and `alpha_H` instead\n"
     ]
    },
    {
     "name": "stdout",
     "output_type": "stream",
     "text": [
      "zero_index=1, k=13, lambda=0.1, alpha_w=NA, alpha_h=0.1, w0=0.9, max_iter=1000, random_state=42\n",
      "running time=1726.663028717041\n",
      "185\n",
      "[1.0e+00 1.3e+01 1.0e-01 1.0e-01 1.0e-01 1.0e+00 1.0e+03 4.2e+01]\n",
      "[1.0, 13.0, 0.1, 0.1, 0.1, 1.0, 1000.0, 42.0]\n"
     ]
    },
    {
     "name": "stderr",
     "output_type": "stream",
     "text": [
      "C:\\Users\\guoqq17\\anaconda3\\lib\\site-packages\\ipykernel_launcher.py:1081: FutureWarning: `alpha` was deprecated in version 1.0 and will be removed in 1.2. Use `alpha_W` and `alpha_H` instead\n"
     ]
    },
    {
     "name": "stdout",
     "output_type": "stream",
     "text": [
      "zero_index=1, k=13, lambda=0.1, alpha_w=NA, alpha_h=0.1, w0=1.0, max_iter=1000, random_state=42\n",
      "running time=1728.266872882843\n",
      "183\n",
      "[1.0e+00 1.4e+01 1.0e-01 1.0e-01 1.0e-01 1.0e-01 1.0e+03 4.2e+01]\n",
      "[1.0, 14.0, 0.1, 0.1, 0.1, 0.1, 1000.0, 42.0]\n"
     ]
    },
    {
     "name": "stderr",
     "output_type": "stream",
     "text": [
      "C:\\Users\\guoqq17\\anaconda3\\lib\\site-packages\\ipykernel_launcher.py:1081: FutureWarning: `alpha` was deprecated in version 1.0 and will be removed in 1.2. Use `alpha_W` and `alpha_H` instead\n"
     ]
    },
    {
     "name": "stdout",
     "output_type": "stream",
     "text": [
      "zero_index=1, k=14, lambda=0.1, alpha_w=NA, alpha_h=0.1, w0=0.1, max_iter=1000, random_state=42\n",
      "running time=1731.75679063797\n",
      "257\n",
      "[1.0e+00 1.4e+01 1.0e-01 1.0e-01 1.0e-01 2.0e-01 1.0e+03 4.2e+01]\n",
      "[1.0, 14.0, 0.1, 0.1, 0.1, 0.2, 1000.0, 42.0]\n"
     ]
    },
    {
     "name": "stderr",
     "output_type": "stream",
     "text": [
      "C:\\Users\\guoqq17\\anaconda3\\lib\\site-packages\\ipykernel_launcher.py:1081: FutureWarning: `alpha` was deprecated in version 1.0 and will be removed in 1.2. Use `alpha_W` and `alpha_H` instead\n"
     ]
    },
    {
     "name": "stdout",
     "output_type": "stream",
     "text": [
      "zero_index=1, k=14, lambda=0.1, alpha_w=NA, alpha_h=0.1, w0=0.2, max_iter=1000, random_state=42\n",
      "running time=1717.946772813797\n",
      "247\n",
      "[1.0e+00 1.4e+01 1.0e-01 1.0e-01 1.0e-01 3.0e-01 1.0e+03 4.2e+01]\n",
      "[1.0, 14.0, 0.1, 0.1, 0.1, 0.3, 1000.0, 42.0]\n"
     ]
    },
    {
     "name": "stderr",
     "output_type": "stream",
     "text": [
      "C:\\Users\\guoqq17\\anaconda3\\lib\\site-packages\\ipykernel_launcher.py:1081: FutureWarning: `alpha` was deprecated in version 1.0 and will be removed in 1.2. Use `alpha_W` and `alpha_H` instead\n"
     ]
    },
    {
     "name": "stdout",
     "output_type": "stream",
     "text": [
      "zero_index=1, k=14, lambda=0.1, alpha_w=NA, alpha_h=0.1, w0=0.3, max_iter=1000, random_state=42\n",
      "running time=1731.3610169887543\n",
      "239\n",
      "[1.0e+00 1.4e+01 1.0e-01 1.0e-01 1.0e-01 4.0e-01 1.0e+03 4.2e+01]\n",
      "[1.0, 14.0, 0.1, 0.1, 0.1, 0.4, 1000.0, 42.0]\n"
     ]
    },
    {
     "name": "stderr",
     "output_type": "stream",
     "text": [
      "C:\\Users\\guoqq17\\anaconda3\\lib\\site-packages\\ipykernel_launcher.py:1081: FutureWarning: `alpha` was deprecated in version 1.0 and will be removed in 1.2. Use `alpha_W` and `alpha_H` instead\n"
     ]
    },
    {
     "name": "stdout",
     "output_type": "stream",
     "text": [
      "zero_index=1, k=14, lambda=0.1, alpha_w=NA, alpha_h=0.1, w0=0.4, max_iter=1000, random_state=42\n",
      "running time=1714.8988778591156\n",
      "233\n",
      "[1.0e+00 1.4e+01 1.0e-01 1.0e-01 1.0e-01 5.0e-01 1.0e+03 4.2e+01]\n",
      "[1.0, 14.0, 0.1, 0.1, 0.1, 0.5, 1000.0, 42.0]\n"
     ]
    },
    {
     "name": "stderr",
     "output_type": "stream",
     "text": [
      "C:\\Users\\guoqq17\\anaconda3\\lib\\site-packages\\ipykernel_launcher.py:1081: FutureWarning: `alpha` was deprecated in version 1.0 and will be removed in 1.2. Use `alpha_W` and `alpha_H` instead\n"
     ]
    },
    {
     "name": "stdout",
     "output_type": "stream",
     "text": [
      "zero_index=1, k=14, lambda=0.1, alpha_w=NA, alpha_h=0.1, w0=0.5, max_iter=1000, random_state=42\n",
      "running time=1734.1769790649414\n",
      "217\n",
      "[1.0e+00 1.4e+01 1.0e-01 1.0e-01 1.0e-01 6.0e-01 1.0e+03 4.2e+01]\n",
      "[1.0, 14.0, 0.1, 0.1, 0.1, 0.6, 1000.0, 42.0]\n"
     ]
    },
    {
     "name": "stderr",
     "output_type": "stream",
     "text": [
      "C:\\Users\\guoqq17\\anaconda3\\lib\\site-packages\\ipykernel_launcher.py:1081: FutureWarning: `alpha` was deprecated in version 1.0 and will be removed in 1.2. Use `alpha_W` and `alpha_H` instead\n"
     ]
    },
    {
     "name": "stdout",
     "output_type": "stream",
     "text": [
      "zero_index=1, k=14, lambda=0.1, alpha_w=NA, alpha_h=0.1, w0=0.6, max_iter=1000, random_state=42\n",
      "running time=1732.062519788742\n",
      "210\n",
      "[1.0e+00 1.4e+01 1.0e-01 1.0e-01 1.0e-01 7.0e-01 1.0e+03 4.2e+01]\n",
      "[1.0, 14.0, 0.1, 0.1, 0.1, 0.7, 1000.0, 42.0]\n"
     ]
    },
    {
     "name": "stderr",
     "output_type": "stream",
     "text": [
      "C:\\Users\\guoqq17\\anaconda3\\lib\\site-packages\\ipykernel_launcher.py:1081: FutureWarning: `alpha` was deprecated in version 1.0 and will be removed in 1.2. Use `alpha_W` and `alpha_H` instead\n"
     ]
    },
    {
     "name": "stdout",
     "output_type": "stream",
     "text": [
      "zero_index=1, k=14, lambda=0.1, alpha_w=NA, alpha_h=0.1, w0=0.7, max_iter=1000, random_state=42\n",
      "running time=1722.9749851226807\n",
      "200\n",
      "[1.0e+00 1.4e+01 1.0e-01 1.0e-01 1.0e-01 8.0e-01 1.0e+03 4.2e+01]\n",
      "[1.0, 14.0, 0.1, 0.1, 0.1, 0.8, 1000.0, 42.0]\n"
     ]
    },
    {
     "name": "stderr",
     "output_type": "stream",
     "text": [
      "C:\\Users\\guoqq17\\anaconda3\\lib\\site-packages\\ipykernel_launcher.py:1081: FutureWarning: `alpha` was deprecated in version 1.0 and will be removed in 1.2. Use `alpha_W` and `alpha_H` instead\n"
     ]
    },
    {
     "name": "stdout",
     "output_type": "stream",
     "text": [
      "zero_index=1, k=14, lambda=0.1, alpha_w=NA, alpha_h=0.1, w0=0.8, max_iter=1000, random_state=42\n",
      "running time=1733.676667690277\n",
      "190\n",
      "[1.0e+00 1.4e+01 1.0e-01 1.0e-01 1.0e-01 9.0e-01 1.0e+03 4.2e+01]\n",
      "[1.0, 14.0, 0.1, 0.1, 0.1, 0.9, 1000.0, 42.0]\n"
     ]
    },
    {
     "name": "stderr",
     "output_type": "stream",
     "text": [
      "C:\\Users\\guoqq17\\anaconda3\\lib\\site-packages\\ipykernel_launcher.py:1081: FutureWarning: `alpha` was deprecated in version 1.0 and will be removed in 1.2. Use `alpha_W` and `alpha_H` instead\n"
     ]
    },
    {
     "name": "stdout",
     "output_type": "stream",
     "text": [
      "zero_index=1, k=14, lambda=0.1, alpha_w=NA, alpha_h=0.1, w0=0.9, max_iter=1000, random_state=42\n",
      "running time=1727.0994608402252\n",
      "183\n",
      "[1.0e+00 1.4e+01 1.0e-01 1.0e-01 1.0e-01 1.0e+00 1.0e+03 4.2e+01]\n",
      "[1.0, 14.0, 0.1, 0.1, 0.1, 1.0, 1000.0, 42.0]\n"
     ]
    },
    {
     "name": "stderr",
     "output_type": "stream",
     "text": [
      "C:\\Users\\guoqq17\\anaconda3\\lib\\site-packages\\ipykernel_launcher.py:1081: FutureWarning: `alpha` was deprecated in version 1.0 and will be removed in 1.2. Use `alpha_W` and `alpha_H` instead\n"
     ]
    },
    {
     "name": "stdout",
     "output_type": "stream",
     "text": [
      "zero_index=1, k=14, lambda=0.1, alpha_w=NA, alpha_h=0.1, w0=1.0, max_iter=1000, random_state=42\n",
      "running time=1735.813591003418\n",
      "178\n",
      "[1.0e+00 1.5e+01 1.0e-01 1.0e-01 1.0e-01 1.0e-01 1.0e+03 4.2e+01]\n",
      "[1.0, 15.0, 0.1, 0.1, 0.1, 0.1, 1000.0, 42.0]\n"
     ]
    },
    {
     "name": "stderr",
     "output_type": "stream",
     "text": [
      "C:\\Users\\guoqq17\\anaconda3\\lib\\site-packages\\ipykernel_launcher.py:1081: FutureWarning: `alpha` was deprecated in version 1.0 and will be removed in 1.2. Use `alpha_W` and `alpha_H` instead\n"
     ]
    },
    {
     "name": "stdout",
     "output_type": "stream",
     "text": [
      "zero_index=1, k=15, lambda=0.1, alpha_w=NA, alpha_h=0.1, w0=0.1, max_iter=1000, random_state=42\n",
      "running time=1743.6622385978699\n",
      "280\n",
      "[1.0e+00 1.5e+01 1.0e-01 1.0e-01 1.0e-01 2.0e-01 1.0e+03 4.2e+01]\n",
      "[1.0, 15.0, 0.1, 0.1, 0.1, 0.2, 1000.0, 42.0]\n"
     ]
    },
    {
     "name": "stderr",
     "output_type": "stream",
     "text": [
      "C:\\Users\\guoqq17\\anaconda3\\lib\\site-packages\\ipykernel_launcher.py:1081: FutureWarning: `alpha` was deprecated in version 1.0 and will be removed in 1.2. Use `alpha_W` and `alpha_H` instead\n"
     ]
    },
    {
     "name": "stdout",
     "output_type": "stream",
     "text": [
      "zero_index=1, k=15, lambda=0.1, alpha_w=NA, alpha_h=0.1, w0=0.2, max_iter=1000, random_state=42\n",
      "running time=1734.4002401828766\n",
      "272\n",
      "[1.0e+00 1.5e+01 1.0e-01 1.0e-01 1.0e-01 3.0e-01 1.0e+03 4.2e+01]\n",
      "[1.0, 15.0, 0.1, 0.1, 0.1, 0.3, 1000.0, 42.0]\n"
     ]
    },
    {
     "name": "stderr",
     "output_type": "stream",
     "text": [
      "C:\\Users\\guoqq17\\anaconda3\\lib\\site-packages\\ipykernel_launcher.py:1081: FutureWarning: `alpha` was deprecated in version 1.0 and will be removed in 1.2. Use `alpha_W` and `alpha_H` instead\n"
     ]
    },
    {
     "name": "stdout",
     "output_type": "stream",
     "text": [
      "zero_index=1, k=15, lambda=0.1, alpha_w=NA, alpha_h=0.1, w0=0.3, max_iter=1000, random_state=42\n",
      "running time=1736.64497590065\n",
      "258\n",
      "[1.0e+00 1.5e+01 1.0e-01 1.0e-01 1.0e-01 4.0e-01 1.0e+03 4.2e+01]\n",
      "[1.0, 15.0, 0.1, 0.1, 0.1, 0.4, 1000.0, 42.0]\n"
     ]
    },
    {
     "name": "stderr",
     "output_type": "stream",
     "text": [
      "C:\\Users\\guoqq17\\anaconda3\\lib\\site-packages\\ipykernel_launcher.py:1081: FutureWarning: `alpha` was deprecated in version 1.0 and will be removed in 1.2. Use `alpha_W` and `alpha_H` instead\n"
     ]
    },
    {
     "name": "stdout",
     "output_type": "stream",
     "text": [
      "zero_index=1, k=15, lambda=0.1, alpha_w=NA, alpha_h=0.1, w0=0.4, max_iter=1000, random_state=42\n",
      "running time=1736.6243784427643\n",
      "249\n",
      "[1.0e+00 1.5e+01 1.0e-01 1.0e-01 1.0e-01 5.0e-01 1.0e+03 4.2e+01]\n",
      "[1.0, 15.0, 0.1, 0.1, 0.1, 0.5, 1000.0, 42.0]\n"
     ]
    },
    {
     "name": "stderr",
     "output_type": "stream",
     "text": [
      "C:\\Users\\guoqq17\\anaconda3\\lib\\site-packages\\ipykernel_launcher.py:1081: FutureWarning: `alpha` was deprecated in version 1.0 and will be removed in 1.2. Use `alpha_W` and `alpha_H` instead\n"
     ]
    },
    {
     "name": "stdout",
     "output_type": "stream",
     "text": [
      "zero_index=1, k=15, lambda=0.1, alpha_w=NA, alpha_h=0.1, w0=0.5, max_iter=1000, random_state=42\n",
      "running time=1725.558552980423\n",
      "240\n",
      "[1.0e+00 1.5e+01 1.0e-01 1.0e-01 1.0e-01 6.0e-01 1.0e+03 4.2e+01]\n",
      "[1.0, 15.0, 0.1, 0.1, 0.1, 0.6, 1000.0, 42.0]\n"
     ]
    },
    {
     "name": "stderr",
     "output_type": "stream",
     "text": [
      "C:\\Users\\guoqq17\\anaconda3\\lib\\site-packages\\ipykernel_launcher.py:1081: FutureWarning: `alpha` was deprecated in version 1.0 and will be removed in 1.2. Use `alpha_W` and `alpha_H` instead\n"
     ]
    },
    {
     "name": "stdout",
     "output_type": "stream",
     "text": [
      "zero_index=1, k=15, lambda=0.1, alpha_w=NA, alpha_h=0.1, w0=0.6, max_iter=1000, random_state=42\n",
      "running time=2527.1553807258606\n",
      "229\n",
      "[1.0e+00 1.5e+01 1.0e-01 1.0e-01 1.0e-01 7.0e-01 1.0e+03 4.2e+01]\n",
      "[1.0, 15.0, 0.1, 0.1, 0.1, 0.7, 1000.0, 42.0]\n"
     ]
    },
    {
     "name": "stderr",
     "output_type": "stream",
     "text": [
      "C:\\Users\\guoqq17\\anaconda3\\lib\\site-packages\\ipykernel_launcher.py:1081: FutureWarning: `alpha` was deprecated in version 1.0 and will be removed in 1.2. Use `alpha_W` and `alpha_H` instead\n"
     ]
    },
    {
     "name": "stdout",
     "output_type": "stream",
     "text": [
      "zero_index=1, k=15, lambda=0.1, alpha_w=NA, alpha_h=0.1, w0=0.7, max_iter=1000, random_state=42\n",
      "running time=1786.4139213562012\n",
      "218\n",
      "[1.0e+00 1.5e+01 1.0e-01 1.0e-01 1.0e-01 8.0e-01 1.0e+03 4.2e+01]\n",
      "[1.0, 15.0, 0.1, 0.1, 0.1, 0.8, 1000.0, 42.0]\n"
     ]
    },
    {
     "name": "stderr",
     "output_type": "stream",
     "text": [
      "C:\\Users\\guoqq17\\anaconda3\\lib\\site-packages\\ipykernel_launcher.py:1081: FutureWarning: `alpha` was deprecated in version 1.0 and will be removed in 1.2. Use `alpha_W` and `alpha_H` instead\n"
     ]
    },
    {
     "name": "stdout",
     "output_type": "stream",
     "text": [
      "zero_index=1, k=15, lambda=0.1, alpha_w=NA, alpha_h=0.1, w0=0.8, max_iter=1000, random_state=42\n",
      "running time=1780.5214097499847\n",
      "207\n",
      "[1.0e+00 1.5e+01 1.0e-01 1.0e-01 1.0e-01 9.0e-01 1.0e+03 4.2e+01]\n",
      "[1.0, 15.0, 0.1, 0.1, 0.1, 0.9, 1000.0, 42.0]\n"
     ]
    },
    {
     "name": "stderr",
     "output_type": "stream",
     "text": [
      "C:\\Users\\guoqq17\\anaconda3\\lib\\site-packages\\ipykernel_launcher.py:1081: FutureWarning: `alpha` was deprecated in version 1.0 and will be removed in 1.2. Use `alpha_W` and `alpha_H` instead\n"
     ]
    },
    {
     "name": "stdout",
     "output_type": "stream",
     "text": [
      "zero_index=1, k=15, lambda=0.1, alpha_w=NA, alpha_h=0.1, w0=0.9, max_iter=1000, random_state=42\n",
      "running time=1783.0656096935272\n",
      "200\n",
      "[1.0e+00 1.5e+01 1.0e-01 1.0e-01 1.0e-01 1.0e+00 1.0e+03 4.2e+01]\n",
      "[1.0, 15.0, 0.1, 0.1, 0.1, 1.0, 1000.0, 42.0]\n"
     ]
    },
    {
     "name": "stderr",
     "output_type": "stream",
     "text": [
      "C:\\Users\\guoqq17\\anaconda3\\lib\\site-packages\\ipykernel_launcher.py:1081: FutureWarning: `alpha` was deprecated in version 1.0 and will be removed in 1.2. Use `alpha_W` and `alpha_H` instead\n"
     ]
    },
    {
     "name": "stdout",
     "output_type": "stream",
     "text": [
      "zero_index=1, k=15, lambda=0.1, alpha_w=NA, alpha_h=0.1, w0=1.0, max_iter=1000, random_state=42\n",
      "running time=1778.1100568771362\n",
      "192\n",
      "[1.0e+00 1.6e+01 1.0e-01 1.0e-01 1.0e-01 1.0e-01 1.0e+03 4.2e+01]\n",
      "[1.0, 16.0, 0.1, 0.1, 0.1, 0.1, 1000.0, 42.0]\n"
     ]
    },
    {
     "name": "stderr",
     "output_type": "stream",
     "text": [
      "C:\\Users\\guoqq17\\anaconda3\\lib\\site-packages\\ipykernel_launcher.py:1081: FutureWarning: `alpha` was deprecated in version 1.0 and will be removed in 1.2. Use `alpha_W` and `alpha_H` instead\n"
     ]
    },
    {
     "name": "stdout",
     "output_type": "stream",
     "text": [
      "zero_index=1, k=16, lambda=0.1, alpha_w=NA, alpha_h=0.1, w0=0.1, max_iter=1000, random_state=42\n",
      "running time=1775.9122142791748\n",
      "288\n",
      "[1.0e+00 1.6e+01 1.0e-01 1.0e-01 1.0e-01 2.0e-01 1.0e+03 4.2e+01]\n",
      "[1.0, 16.0, 0.1, 0.1, 0.1, 0.2, 1000.0, 42.0]\n"
     ]
    },
    {
     "name": "stderr",
     "output_type": "stream",
     "text": [
      "C:\\Users\\guoqq17\\anaconda3\\lib\\site-packages\\ipykernel_launcher.py:1081: FutureWarning: `alpha` was deprecated in version 1.0 and will be removed in 1.2. Use `alpha_W` and `alpha_H` instead\n"
     ]
    },
    {
     "name": "stdout",
     "output_type": "stream",
     "text": [
      "zero_index=1, k=16, lambda=0.1, alpha_w=NA, alpha_h=0.1, w0=0.2, max_iter=1000, random_state=42\n",
      "running time=1774.932606935501\n",
      "281\n",
      "[1.0e+00 1.6e+01 1.0e-01 1.0e-01 1.0e-01 3.0e-01 1.0e+03 4.2e+01]\n",
      "[1.0, 16.0, 0.1, 0.1, 0.1, 0.3, 1000.0, 42.0]\n"
     ]
    },
    {
     "name": "stderr",
     "output_type": "stream",
     "text": [
      "C:\\Users\\guoqq17\\anaconda3\\lib\\site-packages\\ipykernel_launcher.py:1081: FutureWarning: `alpha` was deprecated in version 1.0 and will be removed in 1.2. Use `alpha_W` and `alpha_H` instead\n"
     ]
    },
    {
     "name": "stdout",
     "output_type": "stream",
     "text": [
      "zero_index=1, k=16, lambda=0.1, alpha_w=NA, alpha_h=0.1, w0=0.3, max_iter=1000, random_state=42\n",
      "running time=1770.09201836586\n",
      "270\n",
      "[1.0e+00 1.6e+01 1.0e-01 1.0e-01 1.0e-01 4.0e-01 1.0e+03 4.2e+01]\n",
      "[1.0, 16.0, 0.1, 0.1, 0.1, 0.4, 1000.0, 42.0]\n"
     ]
    },
    {
     "name": "stderr",
     "output_type": "stream",
     "text": [
      "C:\\Users\\guoqq17\\anaconda3\\lib\\site-packages\\ipykernel_launcher.py:1081: FutureWarning: `alpha` was deprecated in version 1.0 and will be removed in 1.2. Use `alpha_W` and `alpha_H` instead\n"
     ]
    },
    {
     "name": "stdout",
     "output_type": "stream",
     "text": [
      "zero_index=1, k=16, lambda=0.1, alpha_w=NA, alpha_h=0.1, w0=0.4, max_iter=1000, random_state=42\n",
      "running time=1770.2807149887085\n",
      "255\n",
      "[1.0e+00 1.6e+01 1.0e-01 1.0e-01 1.0e-01 5.0e-01 1.0e+03 4.2e+01]\n",
      "[1.0, 16.0, 0.1, 0.1, 0.1, 0.5, 1000.0, 42.0]\n"
     ]
    },
    {
     "name": "stderr",
     "output_type": "stream",
     "text": [
      "C:\\Users\\guoqq17\\anaconda3\\lib\\site-packages\\ipykernel_launcher.py:1081: FutureWarning: `alpha` was deprecated in version 1.0 and will be removed in 1.2. Use `alpha_W` and `alpha_H` instead\n"
     ]
    },
    {
     "name": "stdout",
     "output_type": "stream",
     "text": [
      "zero_index=1, k=16, lambda=0.1, alpha_w=NA, alpha_h=0.1, w0=0.5, max_iter=1000, random_state=42\n",
      "running time=1771.6094574928284\n",
      "248\n",
      "[1.0e+00 1.6e+01 1.0e-01 1.0e-01 1.0e-01 6.0e-01 1.0e+03 4.2e+01]\n",
      "[1.0, 16.0, 0.1, 0.1, 0.1, 0.6, 1000.0, 42.0]\n"
     ]
    },
    {
     "name": "stderr",
     "output_type": "stream",
     "text": [
      "C:\\Users\\guoqq17\\anaconda3\\lib\\site-packages\\ipykernel_launcher.py:1081: FutureWarning: `alpha` was deprecated in version 1.0 and will be removed in 1.2. Use `alpha_W` and `alpha_H` instead\n"
     ]
    },
    {
     "name": "stdout",
     "output_type": "stream",
     "text": [
      "zero_index=1, k=16, lambda=0.1, alpha_w=NA, alpha_h=0.1, w0=0.6, max_iter=1000, random_state=42\n",
      "running time=1761.8784828186035\n",
      "241\n",
      "[1.0e+00 1.6e+01 1.0e-01 1.0e-01 1.0e-01 7.0e-01 1.0e+03 4.2e+01]\n",
      "[1.0, 16.0, 0.1, 0.1, 0.1, 0.7, 1000.0, 42.0]\n"
     ]
    },
    {
     "name": "stderr",
     "output_type": "stream",
     "text": [
      "C:\\Users\\guoqq17\\anaconda3\\lib\\site-packages\\ipykernel_launcher.py:1081: FutureWarning: `alpha` was deprecated in version 1.0 and will be removed in 1.2. Use `alpha_W` and `alpha_H` instead\n"
     ]
    },
    {
     "name": "stdout",
     "output_type": "stream",
     "text": [
      "zero_index=1, k=16, lambda=0.1, alpha_w=NA, alpha_h=0.1, w0=0.7, max_iter=1000, random_state=42\n",
      "running time=1735.2822196483612\n",
      "232\n",
      "[1.0e+00 1.6e+01 1.0e-01 1.0e-01 1.0e-01 8.0e-01 1.0e+03 4.2e+01]\n",
      "[1.0, 16.0, 0.1, 0.1, 0.1, 0.8, 1000.0, 42.0]\n"
     ]
    },
    {
     "name": "stderr",
     "output_type": "stream",
     "text": [
      "C:\\Users\\guoqq17\\anaconda3\\lib\\site-packages\\ipykernel_launcher.py:1081: FutureWarning: `alpha` was deprecated in version 1.0 and will be removed in 1.2. Use `alpha_W` and `alpha_H` instead\n"
     ]
    },
    {
     "name": "stdout",
     "output_type": "stream",
     "text": [
      "zero_index=1, k=16, lambda=0.1, alpha_w=NA, alpha_h=0.1, w0=0.8, max_iter=1000, random_state=42\n",
      "running time=1735.7010867595673\n",
      "225\n",
      "[1.0e+00 1.6e+01 1.0e-01 1.0e-01 1.0e-01 9.0e-01 1.0e+03 4.2e+01]\n",
      "[1.0, 16.0, 0.1, 0.1, 0.1, 0.9, 1000.0, 42.0]\n"
     ]
    },
    {
     "name": "stderr",
     "output_type": "stream",
     "text": [
      "C:\\Users\\guoqq17\\anaconda3\\lib\\site-packages\\ipykernel_launcher.py:1081: FutureWarning: `alpha` was deprecated in version 1.0 and will be removed in 1.2. Use `alpha_W` and `alpha_H` instead\n"
     ]
    },
    {
     "name": "stdout",
     "output_type": "stream",
     "text": [
      "zero_index=1, k=16, lambda=0.1, alpha_w=NA, alpha_h=0.1, w0=0.9, max_iter=1000, random_state=42\n",
      "running time=1723.433079957962\n",
      "217\n",
      "[1.0e+00 1.6e+01 1.0e-01 1.0e-01 1.0e-01 1.0e+00 1.0e+03 4.2e+01]\n",
      "[1.0, 16.0, 0.1, 0.1, 0.1, 1.0, 1000.0, 42.0]\n"
     ]
    },
    {
     "name": "stderr",
     "output_type": "stream",
     "text": [
      "C:\\Users\\guoqq17\\anaconda3\\lib\\site-packages\\ipykernel_launcher.py:1081: FutureWarning: `alpha` was deprecated in version 1.0 and will be removed in 1.2. Use `alpha_W` and `alpha_H` instead\n"
     ]
    },
    {
     "name": "stdout",
     "output_type": "stream",
     "text": [
      "zero_index=1, k=16, lambda=0.1, alpha_w=NA, alpha_h=0.1, w0=1.0, max_iter=1000, random_state=42\n",
      "running time=1744.4709725379944\n",
      "209\n",
      "[1.0e+00 1.7e+01 1.0e-01 1.0e-01 1.0e-01 1.0e-01 1.0e+03 4.2e+01]\n",
      "[1.0, 17.0, 0.1, 0.1, 0.1, 0.1, 1000.0, 42.0]\n"
     ]
    },
    {
     "name": "stderr",
     "output_type": "stream",
     "text": [
      "C:\\Users\\guoqq17\\anaconda3\\lib\\site-packages\\ipykernel_launcher.py:1081: FutureWarning: `alpha` was deprecated in version 1.0 and will be removed in 1.2. Use `alpha_W` and `alpha_H` instead\n"
     ]
    },
    {
     "name": "stdout",
     "output_type": "stream",
     "text": [
      "zero_index=1, k=17, lambda=0.1, alpha_w=NA, alpha_h=0.1, w0=0.1, max_iter=1000, random_state=42\n",
      "running time=1734.8468565940857\n",
      "287\n",
      "[1.0e+00 1.7e+01 1.0e-01 1.0e-01 1.0e-01 2.0e-01 1.0e+03 4.2e+01]\n",
      "[1.0, 17.0, 0.1, 0.1, 0.1, 0.2, 1000.0, 42.0]\n"
     ]
    },
    {
     "name": "stderr",
     "output_type": "stream",
     "text": [
      "C:\\Users\\guoqq17\\anaconda3\\lib\\site-packages\\ipykernel_launcher.py:1081: FutureWarning: `alpha` was deprecated in version 1.0 and will be removed in 1.2. Use `alpha_W` and `alpha_H` instead\n"
     ]
    },
    {
     "name": "stdout",
     "output_type": "stream",
     "text": [
      "zero_index=1, k=17, lambda=0.1, alpha_w=NA, alpha_h=0.1, w0=0.2, max_iter=1000, random_state=42\n",
      "running time=1736.9751625061035\n",
      "279\n",
      "[1.0e+00 1.7e+01 1.0e-01 1.0e-01 1.0e-01 3.0e-01 1.0e+03 4.2e+01]\n",
      "[1.0, 17.0, 0.1, 0.1, 0.1, 0.3, 1000.0, 42.0]\n"
     ]
    },
    {
     "name": "stderr",
     "output_type": "stream",
     "text": [
      "C:\\Users\\guoqq17\\anaconda3\\lib\\site-packages\\ipykernel_launcher.py:1081: FutureWarning: `alpha` was deprecated in version 1.0 and will be removed in 1.2. Use `alpha_W` and `alpha_H` instead\n"
     ]
    },
    {
     "name": "stdout",
     "output_type": "stream",
     "text": [
      "zero_index=1, k=17, lambda=0.1, alpha_w=NA, alpha_h=0.1, w0=0.3, max_iter=1000, random_state=42\n",
      "running time=1746.8114478588104\n",
      "267\n",
      "[1.0e+00 1.7e+01 1.0e-01 1.0e-01 1.0e-01 4.0e-01 1.0e+03 4.2e+01]\n",
      "[1.0, 17.0, 0.1, 0.1, 0.1, 0.4, 1000.0, 42.0]\n"
     ]
    },
    {
     "name": "stderr",
     "output_type": "stream",
     "text": [
      "C:\\Users\\guoqq17\\anaconda3\\lib\\site-packages\\ipykernel_launcher.py:1081: FutureWarning: `alpha` was deprecated in version 1.0 and will be removed in 1.2. Use `alpha_W` and `alpha_H` instead\n"
     ]
    },
    {
     "name": "stdout",
     "output_type": "stream",
     "text": [
      "zero_index=1, k=17, lambda=0.1, alpha_w=NA, alpha_h=0.1, w0=0.4, max_iter=1000, random_state=42\n",
      "running time=1728.3868262767792\n",
      "258\n",
      "[1.0e+00 1.7e+01 1.0e-01 1.0e-01 1.0e-01 5.0e-01 1.0e+03 4.2e+01]\n",
      "[1.0, 17.0, 0.1, 0.1, 0.1, 0.5, 1000.0, 42.0]\n"
     ]
    },
    {
     "name": "stderr",
     "output_type": "stream",
     "text": [
      "C:\\Users\\guoqq17\\anaconda3\\lib\\site-packages\\ipykernel_launcher.py:1081: FutureWarning: `alpha` was deprecated in version 1.0 and will be removed in 1.2. Use `alpha_W` and `alpha_H` instead\n"
     ]
    },
    {
     "name": "stdout",
     "output_type": "stream",
     "text": [
      "zero_index=1, k=17, lambda=0.1, alpha_w=NA, alpha_h=0.1, w0=0.5, max_iter=1000, random_state=42\n",
      "running time=1742.8559985160828\n",
      "250\n",
      "[1.0e+00 1.7e+01 1.0e-01 1.0e-01 1.0e-01 6.0e-01 1.0e+03 4.2e+01]\n",
      "[1.0, 17.0, 0.1, 0.1, 0.1, 0.6, 1000.0, 42.0]\n"
     ]
    },
    {
     "name": "stderr",
     "output_type": "stream",
     "text": [
      "C:\\Users\\guoqq17\\anaconda3\\lib\\site-packages\\ipykernel_launcher.py:1081: FutureWarning: `alpha` was deprecated in version 1.0 and will be removed in 1.2. Use `alpha_W` and `alpha_H` instead\n"
     ]
    },
    {
     "name": "stdout",
     "output_type": "stream",
     "text": [
      "zero_index=1, k=17, lambda=0.1, alpha_w=NA, alpha_h=0.1, w0=0.6, max_iter=1000, random_state=42\n",
      "running time=1748.8944699764252\n",
      "242\n",
      "[1.0e+00 1.7e+01 1.0e-01 1.0e-01 1.0e-01 7.0e-01 1.0e+03 4.2e+01]\n",
      "[1.0, 17.0, 0.1, 0.1, 0.1, 0.7, 1000.0, 42.0]\n"
     ]
    },
    {
     "name": "stderr",
     "output_type": "stream",
     "text": [
      "C:\\Users\\guoqq17\\anaconda3\\lib\\site-packages\\ipykernel_launcher.py:1081: FutureWarning: `alpha` was deprecated in version 1.0 and will be removed in 1.2. Use `alpha_W` and `alpha_H` instead\n"
     ]
    },
    {
     "name": "stdout",
     "output_type": "stream",
     "text": [
      "zero_index=1, k=17, lambda=0.1, alpha_w=NA, alpha_h=0.1, w0=0.7, max_iter=1000, random_state=42\n",
      "running time=1731.7792105674744\n",
      "231\n",
      "[1.0e+00 1.7e+01 1.0e-01 1.0e-01 1.0e-01 8.0e-01 1.0e+03 4.2e+01]\n",
      "[1.0, 17.0, 0.1, 0.1, 0.1, 0.8, 1000.0, 42.0]\n"
     ]
    },
    {
     "name": "stderr",
     "output_type": "stream",
     "text": [
      "C:\\Users\\guoqq17\\anaconda3\\lib\\site-packages\\ipykernel_launcher.py:1081: FutureWarning: `alpha` was deprecated in version 1.0 and will be removed in 1.2. Use `alpha_W` and `alpha_H` instead\n"
     ]
    },
    {
     "name": "stdout",
     "output_type": "stream",
     "text": [
      "zero_index=1, k=17, lambda=0.1, alpha_w=NA, alpha_h=0.1, w0=0.8, max_iter=1000, random_state=42\n",
      "running time=1741.4800317287445\n",
      "223\n",
      "[1.0e+00 1.7e+01 1.0e-01 1.0e-01 1.0e-01 9.0e-01 1.0e+03 4.2e+01]\n",
      "[1.0, 17.0, 0.1, 0.1, 0.1, 0.9, 1000.0, 42.0]\n"
     ]
    },
    {
     "name": "stderr",
     "output_type": "stream",
     "text": [
      "C:\\Users\\guoqq17\\anaconda3\\lib\\site-packages\\ipykernel_launcher.py:1081: FutureWarning: `alpha` was deprecated in version 1.0 and will be removed in 1.2. Use `alpha_W` and `alpha_H` instead\n"
     ]
    },
    {
     "name": "stdout",
     "output_type": "stream",
     "text": [
      "zero_index=1, k=17, lambda=0.1, alpha_w=NA, alpha_h=0.1, w0=0.9, max_iter=1000, random_state=42\n",
      "running time=1742.1039309501648\n",
      "216\n",
      "[1.0e+00 1.7e+01 1.0e-01 1.0e-01 1.0e-01 1.0e+00 1.0e+03 4.2e+01]\n",
      "[1.0, 17.0, 0.1, 0.1, 0.1, 1.0, 1000.0, 42.0]\n"
     ]
    },
    {
     "name": "stderr",
     "output_type": "stream",
     "text": [
      "C:\\Users\\guoqq17\\anaconda3\\lib\\site-packages\\ipykernel_launcher.py:1081: FutureWarning: `alpha` was deprecated in version 1.0 and will be removed in 1.2. Use `alpha_W` and `alpha_H` instead\n"
     ]
    },
    {
     "name": "stdout",
     "output_type": "stream",
     "text": [
      "zero_index=1, k=17, lambda=0.1, alpha_w=NA, alpha_h=0.1, w0=1.0, max_iter=1000, random_state=42\n",
      "running time=1731.7903952598572\n",
      "207\n",
      "[1.0e+00 1.8e+01 1.0e-01 1.0e-01 1.0e-01 1.0e-01 1.0e+03 4.2e+01]\n",
      "[1.0, 18.0, 0.1, 0.1, 0.1, 0.1, 1000.0, 42.0]\n"
     ]
    },
    {
     "name": "stderr",
     "output_type": "stream",
     "text": [
      "C:\\Users\\guoqq17\\anaconda3\\lib\\site-packages\\ipykernel_launcher.py:1081: FutureWarning: `alpha` was deprecated in version 1.0 and will be removed in 1.2. Use `alpha_W` and `alpha_H` instead\n"
     ]
    },
    {
     "name": "stdout",
     "output_type": "stream",
     "text": [
      "zero_index=1, k=18, lambda=0.1, alpha_w=NA, alpha_h=0.1, w0=0.1, max_iter=1000, random_state=42\n",
      "running time=1742.4251844882965\n",
      "294\n",
      "[1.0e+00 1.8e+01 1.0e-01 1.0e-01 1.0e-01 2.0e-01 1.0e+03 4.2e+01]\n",
      "[1.0, 18.0, 0.1, 0.1, 0.1, 0.2, 1000.0, 42.0]\n"
     ]
    },
    {
     "name": "stderr",
     "output_type": "stream",
     "text": [
      "C:\\Users\\guoqq17\\anaconda3\\lib\\site-packages\\ipykernel_launcher.py:1081: FutureWarning: `alpha` was deprecated in version 1.0 and will be removed in 1.2. Use `alpha_W` and `alpha_H` instead\n"
     ]
    },
    {
     "name": "stdout",
     "output_type": "stream",
     "text": [
      "zero_index=1, k=18, lambda=0.1, alpha_w=NA, alpha_h=0.1, w0=0.2, max_iter=1000, random_state=42\n",
      "running time=1742.5316729545593\n",
      "284\n",
      "[1.0e+00 1.8e+01 1.0e-01 1.0e-01 1.0e-01 3.0e-01 1.0e+03 4.2e+01]\n",
      "[1.0, 18.0, 0.1, 0.1, 0.1, 0.3, 1000.0, 42.0]\n"
     ]
    },
    {
     "name": "stderr",
     "output_type": "stream",
     "text": [
      "C:\\Users\\guoqq17\\anaconda3\\lib\\site-packages\\ipykernel_launcher.py:1081: FutureWarning: `alpha` was deprecated in version 1.0 and will be removed in 1.2. Use `alpha_W` and `alpha_H` instead\n"
     ]
    },
    {
     "name": "stdout",
     "output_type": "stream",
     "text": [
      "zero_index=1, k=18, lambda=0.1, alpha_w=NA, alpha_h=0.1, w0=0.3, max_iter=1000, random_state=42\n",
      "running time=1732.1567134857178\n",
      "269\n",
      "[1.0e+00 1.8e+01 1.0e-01 1.0e-01 1.0e-01 4.0e-01 1.0e+03 4.2e+01]\n",
      "[1.0, 18.0, 0.1, 0.1, 0.1, 0.4, 1000.0, 42.0]\n"
     ]
    },
    {
     "name": "stderr",
     "output_type": "stream",
     "text": [
      "C:\\Users\\guoqq17\\anaconda3\\lib\\site-packages\\ipykernel_launcher.py:1081: FutureWarning: `alpha` was deprecated in version 1.0 and will be removed in 1.2. Use `alpha_W` and `alpha_H` instead\n"
     ]
    },
    {
     "name": "stdout",
     "output_type": "stream",
     "text": [
      "zero_index=1, k=18, lambda=0.1, alpha_w=NA, alpha_h=0.1, w0=0.4, max_iter=1000, random_state=42\n",
      "running time=2338.2443442344666\n",
      "259\n",
      "[1.0e+00 1.8e+01 1.0e-01 1.0e-01 1.0e-01 5.0e-01 1.0e+03 4.2e+01]\n",
      "[1.0, 18.0, 0.1, 0.1, 0.1, 0.5, 1000.0, 42.0]\n"
     ]
    },
    {
     "name": "stderr",
     "output_type": "stream",
     "text": [
      "C:\\Users\\guoqq17\\anaconda3\\lib\\site-packages\\ipykernel_launcher.py:1081: FutureWarning: `alpha` was deprecated in version 1.0 and will be removed in 1.2. Use `alpha_W` and `alpha_H` instead\n"
     ]
    },
    {
     "name": "stdout",
     "output_type": "stream",
     "text": [
      "zero_index=1, k=18, lambda=0.1, alpha_w=NA, alpha_h=0.1, w0=0.5, max_iter=1000, random_state=42\n",
      "running time=1971.5255880355835\n",
      "251\n",
      "[1.0e+00 1.8e+01 1.0e-01 1.0e-01 1.0e-01 6.0e-01 1.0e+03 4.2e+01]\n",
      "[1.0, 18.0, 0.1, 0.1, 0.1, 0.6, 1000.0, 42.0]\n"
     ]
    },
    {
     "name": "stderr",
     "output_type": "stream",
     "text": [
      "C:\\Users\\guoqq17\\anaconda3\\lib\\site-packages\\ipykernel_launcher.py:1081: FutureWarning: `alpha` was deprecated in version 1.0 and will be removed in 1.2. Use `alpha_W` and `alpha_H` instead\n"
     ]
    },
    {
     "name": "stdout",
     "output_type": "stream",
     "text": [
      "zero_index=1, k=18, lambda=0.1, alpha_w=NA, alpha_h=0.1, w0=0.6, max_iter=1000, random_state=42\n",
      "running time=1788.4610650539398\n",
      "240\n",
      "[1.0e+00 1.8e+01 1.0e-01 1.0e-01 1.0e-01 7.0e-01 1.0e+03 4.2e+01]\n",
      "[1.0, 18.0, 0.1, 0.1, 0.1, 0.7, 1000.0, 42.0]\n"
     ]
    },
    {
     "name": "stderr",
     "output_type": "stream",
     "text": [
      "C:\\Users\\guoqq17\\anaconda3\\lib\\site-packages\\ipykernel_launcher.py:1081: FutureWarning: `alpha` was deprecated in version 1.0 and will be removed in 1.2. Use `alpha_W` and `alpha_H` instead\n"
     ]
    },
    {
     "name": "stdout",
     "output_type": "stream",
     "text": [
      "zero_index=1, k=18, lambda=0.1, alpha_w=NA, alpha_h=0.1, w0=0.7, max_iter=1000, random_state=42\n",
      "running time=1790.3762257099152\n",
      "231\n",
      "[1.0e+00 1.8e+01 1.0e-01 1.0e-01 1.0e-01 8.0e-01 1.0e+03 4.2e+01]\n",
      "[1.0, 18.0, 0.1, 0.1, 0.1, 0.8, 1000.0, 42.0]\n"
     ]
    },
    {
     "name": "stderr",
     "output_type": "stream",
     "text": [
      "C:\\Users\\guoqq17\\anaconda3\\lib\\site-packages\\ipykernel_launcher.py:1081: FutureWarning: `alpha` was deprecated in version 1.0 and will be removed in 1.2. Use `alpha_W` and `alpha_H` instead\n"
     ]
    },
    {
     "name": "stdout",
     "output_type": "stream",
     "text": [
      "zero_index=1, k=18, lambda=0.1, alpha_w=NA, alpha_h=0.1, w0=0.8, max_iter=1000, random_state=42\n",
      "running time=1781.2073647975922\n",
      "225\n",
      "[1.0e+00 1.8e+01 1.0e-01 1.0e-01 1.0e-01 9.0e-01 1.0e+03 4.2e+01]\n",
      "[1.0, 18.0, 0.1, 0.1, 0.1, 0.9, 1000.0, 42.0]\n"
     ]
    },
    {
     "name": "stderr",
     "output_type": "stream",
     "text": [
      "C:\\Users\\guoqq17\\anaconda3\\lib\\site-packages\\ipykernel_launcher.py:1081: FutureWarning: `alpha` was deprecated in version 1.0 and will be removed in 1.2. Use `alpha_W` and `alpha_H` instead\n"
     ]
    },
    {
     "name": "stdout",
     "output_type": "stream",
     "text": [
      "zero_index=1, k=18, lambda=0.1, alpha_w=NA, alpha_h=0.1, w0=0.9, max_iter=1000, random_state=42\n",
      "running time=1780.8862071037292\n",
      "216\n",
      "[1.0e+00 1.8e+01 1.0e-01 1.0e-01 1.0e-01 1.0e+00 1.0e+03 4.2e+01]\n",
      "[1.0, 18.0, 0.1, 0.1, 0.1, 1.0, 1000.0, 42.0]\n"
     ]
    },
    {
     "name": "stderr",
     "output_type": "stream",
     "text": [
      "C:\\Users\\guoqq17\\anaconda3\\lib\\site-packages\\ipykernel_launcher.py:1081: FutureWarning: `alpha` was deprecated in version 1.0 and will be removed in 1.2. Use `alpha_W` and `alpha_H` instead\n"
     ]
    },
    {
     "name": "stdout",
     "output_type": "stream",
     "text": [
      "zero_index=1, k=18, lambda=0.1, alpha_w=NA, alpha_h=0.1, w0=1.0, max_iter=1000, random_state=42\n",
      "running time=1781.2504448890686\n",
      "207\n",
      "[1.0e+00 1.9e+01 1.0e-01 1.0e-01 1.0e-01 1.0e-01 1.0e+03 4.2e+01]\n",
      "[1.0, 19.0, 0.1, 0.1, 0.1, 0.1, 1000.0, 42.0]\n"
     ]
    },
    {
     "name": "stderr",
     "output_type": "stream",
     "text": [
      "C:\\Users\\guoqq17\\anaconda3\\lib\\site-packages\\ipykernel_launcher.py:1081: FutureWarning: `alpha` was deprecated in version 1.0 and will be removed in 1.2. Use `alpha_W` and `alpha_H` instead\n"
     ]
    },
    {
     "name": "stdout",
     "output_type": "stream",
     "text": [
      "zero_index=1, k=19, lambda=0.1, alpha_w=NA, alpha_h=0.1, w0=0.1, max_iter=1000, random_state=42\n",
      "running time=1783.0318212509155\n",
      "295\n",
      "[1.0e+00 1.9e+01 1.0e-01 1.0e-01 1.0e-01 2.0e-01 1.0e+03 4.2e+01]\n",
      "[1.0, 19.0, 0.1, 0.1, 0.1, 0.2, 1000.0, 42.0]\n"
     ]
    },
    {
     "name": "stderr",
     "output_type": "stream",
     "text": [
      "C:\\Users\\guoqq17\\anaconda3\\lib\\site-packages\\ipykernel_launcher.py:1081: FutureWarning: `alpha` was deprecated in version 1.0 and will be removed in 1.2. Use `alpha_W` and `alpha_H` instead\n"
     ]
    },
    {
     "name": "stdout",
     "output_type": "stream",
     "text": [
      "zero_index=1, k=19, lambda=0.1, alpha_w=NA, alpha_h=0.1, w0=0.2, max_iter=1000, random_state=42\n",
      "running time=1780.8487496376038\n",
      "282\n",
      "[1.0e+00 1.9e+01 1.0e-01 1.0e-01 1.0e-01 3.0e-01 1.0e+03 4.2e+01]\n",
      "[1.0, 19.0, 0.1, 0.1, 0.1, 0.3, 1000.0, 42.0]\n"
     ]
    },
    {
     "name": "stderr",
     "output_type": "stream",
     "text": [
      "C:\\Users\\guoqq17\\anaconda3\\lib\\site-packages\\ipykernel_launcher.py:1081: FutureWarning: `alpha` was deprecated in version 1.0 and will be removed in 1.2. Use `alpha_W` and `alpha_H` instead\n"
     ]
    },
    {
     "name": "stdout",
     "output_type": "stream",
     "text": [
      "zero_index=1, k=19, lambda=0.1, alpha_w=NA, alpha_h=0.1, w0=0.3, max_iter=1000, random_state=42\n",
      "running time=1768.971958398819\n",
      "267\n",
      "[1.0e+00 1.9e+01 1.0e-01 1.0e-01 1.0e-01 4.0e-01 1.0e+03 4.2e+01]\n",
      "[1.0, 19.0, 0.1, 0.1, 0.1, 0.4, 1000.0, 42.0]\n"
     ]
    },
    {
     "name": "stderr",
     "output_type": "stream",
     "text": [
      "C:\\Users\\guoqq17\\anaconda3\\lib\\site-packages\\ipykernel_launcher.py:1081: FutureWarning: `alpha` was deprecated in version 1.0 and will be removed in 1.2. Use `alpha_W` and `alpha_H` instead\n"
     ]
    },
    {
     "name": "stdout",
     "output_type": "stream",
     "text": [
      "zero_index=1, k=19, lambda=0.1, alpha_w=NA, alpha_h=0.1, w0=0.4, max_iter=1000, random_state=42\n",
      "running time=1767.5984592437744\n",
      "259\n",
      "[1.0e+00 1.9e+01 1.0e-01 1.0e-01 1.0e-01 5.0e-01 1.0e+03 4.2e+01]\n",
      "[1.0, 19.0, 0.1, 0.1, 0.1, 0.5, 1000.0, 42.0]\n"
     ]
    },
    {
     "name": "stderr",
     "output_type": "stream",
     "text": [
      "C:\\Users\\guoqq17\\anaconda3\\lib\\site-packages\\ipykernel_launcher.py:1081: FutureWarning: `alpha` was deprecated in version 1.0 and will be removed in 1.2. Use `alpha_W` and `alpha_H` instead\n"
     ]
    },
    {
     "name": "stdout",
     "output_type": "stream",
     "text": [
      "zero_index=1, k=19, lambda=0.1, alpha_w=NA, alpha_h=0.1, w0=0.5, max_iter=1000, random_state=42\n",
      "running time=1674.0670628547668\n",
      "251\n",
      "[1.0e+00 1.9e+01 1.0e-01 1.0e-01 1.0e-01 6.0e-01 1.0e+03 4.2e+01]\n",
      "[1.0, 19.0, 0.1, 0.1, 0.1, 0.6, 1000.0, 42.0]\n"
     ]
    },
    {
     "name": "stderr",
     "output_type": "stream",
     "text": [
      "C:\\Users\\guoqq17\\anaconda3\\lib\\site-packages\\ipykernel_launcher.py:1081: FutureWarning: `alpha` was deprecated in version 1.0 and will be removed in 1.2. Use `alpha_W` and `alpha_H` instead\n"
     ]
    },
    {
     "name": "stdout",
     "output_type": "stream",
     "text": [
      "zero_index=1, k=19, lambda=0.1, alpha_w=NA, alpha_h=0.1, w0=0.6, max_iter=1000, random_state=42\n",
      "running time=1652.437671661377\n",
      "241\n",
      "[1.0e+00 1.9e+01 1.0e-01 1.0e-01 1.0e-01 7.0e-01 1.0e+03 4.2e+01]\n",
      "[1.0, 19.0, 0.1, 0.1, 0.1, 0.7, 1000.0, 42.0]\n"
     ]
    },
    {
     "name": "stderr",
     "output_type": "stream",
     "text": [
      "C:\\Users\\guoqq17\\anaconda3\\lib\\site-packages\\ipykernel_launcher.py:1081: FutureWarning: `alpha` was deprecated in version 1.0 and will be removed in 1.2. Use `alpha_W` and `alpha_H` instead\n"
     ]
    },
    {
     "name": "stdout",
     "output_type": "stream",
     "text": [
      "zero_index=1, k=19, lambda=0.1, alpha_w=NA, alpha_h=0.1, w0=0.7, max_iter=1000, random_state=42\n",
      "running time=1651.036524772644\n",
      "233\n",
      "[1.0e+00 1.9e+01 1.0e-01 1.0e-01 1.0e-01 8.0e-01 1.0e+03 4.2e+01]\n",
      "[1.0, 19.0, 0.1, 0.1, 0.1, 0.8, 1000.0, 42.0]\n"
     ]
    },
    {
     "name": "stderr",
     "output_type": "stream",
     "text": [
      "C:\\Users\\guoqq17\\anaconda3\\lib\\site-packages\\ipykernel_launcher.py:1081: FutureWarning: `alpha` was deprecated in version 1.0 and will be removed in 1.2. Use `alpha_W` and `alpha_H` instead\n"
     ]
    },
    {
     "name": "stdout",
     "output_type": "stream",
     "text": [
      "zero_index=1, k=19, lambda=0.1, alpha_w=NA, alpha_h=0.1, w0=0.8, max_iter=1000, random_state=42\n",
      "running time=1642.7441837787628\n",
      "225\n",
      "[1.0e+00 1.9e+01 1.0e-01 1.0e-01 1.0e-01 9.0e-01 1.0e+03 4.2e+01]\n",
      "[1.0, 19.0, 0.1, 0.1, 0.1, 0.9, 1000.0, 42.0]\n"
     ]
    },
    {
     "name": "stderr",
     "output_type": "stream",
     "text": [
      "C:\\Users\\guoqq17\\anaconda3\\lib\\site-packages\\ipykernel_launcher.py:1081: FutureWarning: `alpha` was deprecated in version 1.0 and will be removed in 1.2. Use `alpha_W` and `alpha_H` instead\n"
     ]
    },
    {
     "name": "stdout",
     "output_type": "stream",
     "text": [
      "zero_index=1, k=19, lambda=0.1, alpha_w=NA, alpha_h=0.1, w0=0.9, max_iter=1000, random_state=42\n",
      "running time=1646.8478031158447\n",
      "216\n",
      "[1.0e+00 1.9e+01 1.0e-01 1.0e-01 1.0e-01 1.0e+00 1.0e+03 4.2e+01]\n",
      "[1.0, 19.0, 0.1, 0.1, 0.1, 1.0, 1000.0, 42.0]\n"
     ]
    },
    {
     "name": "stderr",
     "output_type": "stream",
     "text": [
      "C:\\Users\\guoqq17\\anaconda3\\lib\\site-packages\\ipykernel_launcher.py:1081: FutureWarning: `alpha` was deprecated in version 1.0 and will be removed in 1.2. Use `alpha_W` and `alpha_H` instead\n"
     ]
    },
    {
     "name": "stdout",
     "output_type": "stream",
     "text": [
      "zero_index=1, k=19, lambda=0.1, alpha_w=NA, alpha_h=0.1, w0=1.0, max_iter=1000, random_state=42\n",
      "running time=1642.9158313274384\n",
      "206\n",
      "[1.0e+00 2.0e+01 1.0e-01 1.0e-01 1.0e-01 1.0e-01 1.0e+03 4.2e+01]\n",
      "[1.0, 20.0, 0.1, 0.1, 0.1, 0.1, 1000.0, 42.0]\n"
     ]
    },
    {
     "name": "stderr",
     "output_type": "stream",
     "text": [
      "C:\\Users\\guoqq17\\anaconda3\\lib\\site-packages\\ipykernel_launcher.py:1081: FutureWarning: `alpha` was deprecated in version 1.0 and will be removed in 1.2. Use `alpha_W` and `alpha_H` instead\n"
     ]
    },
    {
     "name": "stdout",
     "output_type": "stream",
     "text": [
      "zero_index=1, k=20, lambda=0.1, alpha_w=NA, alpha_h=0.1, w0=0.1, max_iter=1000, random_state=42\n",
      "running time=1639.0741293430328\n",
      "289\n",
      "[1.0e+00 2.0e+01 1.0e-01 1.0e-01 1.0e-01 2.0e-01 1.0e+03 4.2e+01]\n",
      "[1.0, 20.0, 0.1, 0.1, 0.1, 0.2, 1000.0, 42.0]\n"
     ]
    },
    {
     "name": "stderr",
     "output_type": "stream",
     "text": [
      "C:\\Users\\guoqq17\\anaconda3\\lib\\site-packages\\ipykernel_launcher.py:1081: FutureWarning: `alpha` was deprecated in version 1.0 and will be removed in 1.2. Use `alpha_W` and `alpha_H` instead\n"
     ]
    },
    {
     "name": "stdout",
     "output_type": "stream",
     "text": [
      "zero_index=1, k=20, lambda=0.1, alpha_w=NA, alpha_h=0.1, w0=0.2, max_iter=1000, random_state=42\n",
      "running time=1637.703864812851\n",
      "277\n",
      "[1.0e+00 2.0e+01 1.0e-01 1.0e-01 1.0e-01 3.0e-01 1.0e+03 4.2e+01]\n",
      "[1.0, 20.0, 0.1, 0.1, 0.1, 0.3, 1000.0, 42.0]\n"
     ]
    },
    {
     "name": "stderr",
     "output_type": "stream",
     "text": [
      "C:\\Users\\guoqq17\\anaconda3\\lib\\site-packages\\ipykernel_launcher.py:1081: FutureWarning: `alpha` was deprecated in version 1.0 and will be removed in 1.2. Use `alpha_W` and `alpha_H` instead\n"
     ]
    },
    {
     "name": "stdout",
     "output_type": "stream",
     "text": [
      "zero_index=1, k=20, lambda=0.1, alpha_w=NA, alpha_h=0.1, w0=0.3, max_iter=1000, random_state=42\n",
      "running time=1641.0603687763214\n",
      "261\n",
      "[1.0e+00 2.0e+01 1.0e-01 1.0e-01 1.0e-01 4.0e-01 1.0e+03 4.2e+01]\n",
      "[1.0, 20.0, 0.1, 0.1, 0.1, 0.4, 1000.0, 42.0]\n"
     ]
    },
    {
     "name": "stderr",
     "output_type": "stream",
     "text": [
      "C:\\Users\\guoqq17\\anaconda3\\lib\\site-packages\\ipykernel_launcher.py:1081: FutureWarning: `alpha` was deprecated in version 1.0 and will be removed in 1.2. Use `alpha_W` and `alpha_H` instead\n"
     ]
    },
    {
     "name": "stdout",
     "output_type": "stream",
     "text": [
      "zero_index=1, k=20, lambda=0.1, alpha_w=NA, alpha_h=0.1, w0=0.4, max_iter=1000, random_state=42\n",
      "running time=1642.1712698936462\n",
      "253\n",
      "[1.0e+00 2.0e+01 1.0e-01 1.0e-01 1.0e-01 5.0e-01 1.0e+03 4.2e+01]\n",
      "[1.0, 20.0, 0.1, 0.1, 0.1, 0.5, 1000.0, 42.0]\n"
     ]
    },
    {
     "name": "stderr",
     "output_type": "stream",
     "text": [
      "C:\\Users\\guoqq17\\anaconda3\\lib\\site-packages\\ipykernel_launcher.py:1081: FutureWarning: `alpha` was deprecated in version 1.0 and will be removed in 1.2. Use `alpha_W` and `alpha_H` instead\n"
     ]
    },
    {
     "name": "stdout",
     "output_type": "stream",
     "text": [
      "zero_index=1, k=20, lambda=0.1, alpha_w=NA, alpha_h=0.1, w0=0.5, max_iter=1000, random_state=42\n",
      "running time=1638.8296048641205\n",
      "247\n",
      "[1.0e+00 2.0e+01 1.0e-01 1.0e-01 1.0e-01 6.0e-01 1.0e+03 4.2e+01]\n",
      "[1.0, 20.0, 0.1, 0.1, 0.1, 0.6, 1000.0, 42.0]\n"
     ]
    },
    {
     "name": "stderr",
     "output_type": "stream",
     "text": [
      "C:\\Users\\guoqq17\\anaconda3\\lib\\site-packages\\ipykernel_launcher.py:1081: FutureWarning: `alpha` was deprecated in version 1.0 and will be removed in 1.2. Use `alpha_W` and `alpha_H` instead\n"
     ]
    },
    {
     "name": "stdout",
     "output_type": "stream",
     "text": [
      "zero_index=1, k=20, lambda=0.1, alpha_w=NA, alpha_h=0.1, w0=0.6, max_iter=1000, random_state=42\n",
      "running time=1641.625480890274\n",
      "241\n",
      "[1.0e+00 2.0e+01 1.0e-01 1.0e-01 1.0e-01 7.0e-01 1.0e+03 4.2e+01]\n",
      "[1.0, 20.0, 0.1, 0.1, 0.1, 0.7, 1000.0, 42.0]\n"
     ]
    },
    {
     "name": "stderr",
     "output_type": "stream",
     "text": [
      "C:\\Users\\guoqq17\\anaconda3\\lib\\site-packages\\ipykernel_launcher.py:1081: FutureWarning: `alpha` was deprecated in version 1.0 and will be removed in 1.2. Use `alpha_W` and `alpha_H` instead\n"
     ]
    },
    {
     "name": "stdout",
     "output_type": "stream",
     "text": [
      "zero_index=1, k=20, lambda=0.1, alpha_w=NA, alpha_h=0.1, w0=0.7, max_iter=1000, random_state=42\n",
      "running time=1638.7609446048737\n",
      "235\n",
      "[1.0e+00 2.0e+01 1.0e-01 1.0e-01 1.0e-01 8.0e-01 1.0e+03 4.2e+01]\n",
      "[1.0, 20.0, 0.1, 0.1, 0.1, 0.8, 1000.0, 42.0]\n"
     ]
    },
    {
     "name": "stderr",
     "output_type": "stream",
     "text": [
      "C:\\Users\\guoqq17\\anaconda3\\lib\\site-packages\\ipykernel_launcher.py:1081: FutureWarning: `alpha` was deprecated in version 1.0 and will be removed in 1.2. Use `alpha_W` and `alpha_H` instead\n"
     ]
    },
    {
     "name": "stdout",
     "output_type": "stream",
     "text": [
      "zero_index=1, k=20, lambda=0.1, alpha_w=NA, alpha_h=0.1, w0=0.8, max_iter=1000, random_state=42\n",
      "running time=1642.8684430122375\n",
      "229\n",
      "[1.0e+00 2.0e+01 1.0e-01 1.0e-01 1.0e-01 9.0e-01 1.0e+03 4.2e+01]\n",
      "[1.0, 20.0, 0.1, 0.1, 0.1, 0.9, 1000.0, 42.0]\n"
     ]
    },
    {
     "name": "stderr",
     "output_type": "stream",
     "text": [
      "C:\\Users\\guoqq17\\anaconda3\\lib\\site-packages\\ipykernel_launcher.py:1081: FutureWarning: `alpha` was deprecated in version 1.0 and will be removed in 1.2. Use `alpha_W` and `alpha_H` instead\n"
     ]
    },
    {
     "name": "stdout",
     "output_type": "stream",
     "text": [
      "zero_index=1, k=20, lambda=0.1, alpha_w=NA, alpha_h=0.1, w0=0.9, max_iter=1000, random_state=42\n",
      "running time=1641.1637935638428\n",
      "219\n",
      "[1.0e+00 2.0e+01 1.0e-01 1.0e-01 1.0e-01 1.0e+00 1.0e+03 4.2e+01]\n",
      "[1.0, 20.0, 0.1, 0.1, 0.1, 1.0, 1000.0, 42.0]\n"
     ]
    },
    {
     "name": "stderr",
     "output_type": "stream",
     "text": [
      "C:\\Users\\guoqq17\\anaconda3\\lib\\site-packages\\ipykernel_launcher.py:1081: FutureWarning: `alpha` was deprecated in version 1.0 and will be removed in 1.2. Use `alpha_W` and `alpha_H` instead\n"
     ]
    },
    {
     "name": "stdout",
     "output_type": "stream",
     "text": [
      "zero_index=1, k=20, lambda=0.1, alpha_w=NA, alpha_h=0.1, w0=1.0, max_iter=1000, random_state=42\n",
      "running time=1648.340938091278\n",
      "210\n",
      "[1.0e+00 2.1e+01 1.0e-01 1.0e-01 1.0e-01 1.0e-01 1.0e+03 4.2e+01]\n",
      "[1.0, 21.0, 0.1, 0.1, 0.1, 0.1, 1000.0, 42.0]\n"
     ]
    },
    {
     "name": "stderr",
     "output_type": "stream",
     "text": [
      "C:\\Users\\guoqq17\\anaconda3\\lib\\site-packages\\ipykernel_launcher.py:1081: FutureWarning: `alpha` was deprecated in version 1.0 and will be removed in 1.2. Use `alpha_W` and `alpha_H` instead\n"
     ]
    },
    {
     "name": "stdout",
     "output_type": "stream",
     "text": [
      "zero_index=1, k=21, lambda=0.1, alpha_w=NA, alpha_h=0.1, w0=0.1, max_iter=1000, random_state=42\n",
      "running time=1644.6180438995361\n",
      "298\n",
      "[1.0e+00 2.1e+01 1.0e-01 1.0e-01 1.0e-01 2.0e-01 1.0e+03 4.2e+01]\n",
      "[1.0, 21.0, 0.1, 0.1, 0.1, 0.2, 1000.0, 42.0]\n"
     ]
    },
    {
     "name": "stderr",
     "output_type": "stream",
     "text": [
      "C:\\Users\\guoqq17\\anaconda3\\lib\\site-packages\\ipykernel_launcher.py:1081: FutureWarning: `alpha` was deprecated in version 1.0 and will be removed in 1.2. Use `alpha_W` and `alpha_H` instead\n"
     ]
    },
    {
     "name": "stdout",
     "output_type": "stream",
     "text": [
      "zero_index=1, k=21, lambda=0.1, alpha_w=NA, alpha_h=0.1, w0=0.2, max_iter=1000, random_state=42\n",
      "running time=1735.794049501419\n",
      "283\n",
      "[1.0e+00 2.1e+01 1.0e-01 1.0e-01 1.0e-01 3.0e-01 1.0e+03 4.2e+01]\n",
      "[1.0, 21.0, 0.1, 0.1, 0.1, 0.3, 1000.0, 42.0]\n"
     ]
    },
    {
     "name": "stderr",
     "output_type": "stream",
     "text": [
      "C:\\Users\\guoqq17\\anaconda3\\lib\\site-packages\\ipykernel_launcher.py:1081: FutureWarning: `alpha` was deprecated in version 1.0 and will be removed in 1.2. Use `alpha_W` and `alpha_H` instead\n"
     ]
    },
    {
     "name": "stdout",
     "output_type": "stream",
     "text": [
      "zero_index=1, k=21, lambda=0.1, alpha_w=NA, alpha_h=0.1, w0=0.3, max_iter=1000, random_state=42\n",
      "running time=1656.5800652503967\n",
      "268\n",
      "[1.0e+00 2.1e+01 1.0e-01 1.0e-01 1.0e-01 4.0e-01 1.0e+03 4.2e+01]\n",
      "[1.0, 21.0, 0.1, 0.1, 0.1, 0.4, 1000.0, 42.0]\n"
     ]
    },
    {
     "name": "stderr",
     "output_type": "stream",
     "text": [
      "C:\\Users\\guoqq17\\anaconda3\\lib\\site-packages\\ipykernel_launcher.py:1081: FutureWarning: `alpha` was deprecated in version 1.0 and will be removed in 1.2. Use `alpha_W` and `alpha_H` instead\n"
     ]
    },
    {
     "name": "stdout",
     "output_type": "stream",
     "text": [
      "zero_index=1, k=21, lambda=0.1, alpha_w=NA, alpha_h=0.1, w0=0.4, max_iter=1000, random_state=42\n",
      "running time=1644.1256947517395\n",
      "259\n",
      "[1.0e+00 2.1e+01 1.0e-01 1.0e-01 1.0e-01 5.0e-01 1.0e+03 4.2e+01]\n",
      "[1.0, 21.0, 0.1, 0.1, 0.1, 0.5, 1000.0, 42.0]\n"
     ]
    },
    {
     "name": "stderr",
     "output_type": "stream",
     "text": [
      "C:\\Users\\guoqq17\\anaconda3\\lib\\site-packages\\ipykernel_launcher.py:1081: FutureWarning: `alpha` was deprecated in version 1.0 and will be removed in 1.2. Use `alpha_W` and `alpha_H` instead\n"
     ]
    },
    {
     "name": "stdout",
     "output_type": "stream",
     "text": [
      "zero_index=1, k=21, lambda=0.1, alpha_w=NA, alpha_h=0.1, w0=0.5, max_iter=1000, random_state=42\n",
      "running time=1647.0880544185638\n",
      "251\n",
      "[1.0e+00 2.1e+01 1.0e-01 1.0e-01 1.0e-01 6.0e-01 1.0e+03 4.2e+01]\n",
      "[1.0, 21.0, 0.1, 0.1, 0.1, 0.6, 1000.0, 42.0]\n"
     ]
    },
    {
     "name": "stderr",
     "output_type": "stream",
     "text": [
      "C:\\Users\\guoqq17\\anaconda3\\lib\\site-packages\\ipykernel_launcher.py:1081: FutureWarning: `alpha` was deprecated in version 1.0 and will be removed in 1.2. Use `alpha_W` and `alpha_H` instead\n"
     ]
    },
    {
     "name": "stdout",
     "output_type": "stream",
     "text": [
      "zero_index=1, k=21, lambda=0.1, alpha_w=NA, alpha_h=0.1, w0=0.6, max_iter=1000, random_state=42\n",
      "running time=1644.123933315277\n",
      "246\n",
      "[1.0e+00 2.1e+01 1.0e-01 1.0e-01 1.0e-01 7.0e-01 1.0e+03 4.2e+01]\n",
      "[1.0, 21.0, 0.1, 0.1, 0.1, 0.7, 1000.0, 42.0]\n"
     ]
    },
    {
     "name": "stderr",
     "output_type": "stream",
     "text": [
      "C:\\Users\\guoqq17\\anaconda3\\lib\\site-packages\\ipykernel_launcher.py:1081: FutureWarning: `alpha` was deprecated in version 1.0 and will be removed in 1.2. Use `alpha_W` and `alpha_H` instead\n"
     ]
    },
    {
     "name": "stdout",
     "output_type": "stream",
     "text": [
      "zero_index=1, k=21, lambda=0.1, alpha_w=NA, alpha_h=0.1, w0=0.7, max_iter=1000, random_state=42\n",
      "running time=1644.0475466251373\n",
      "239\n",
      "[1.0e+00 2.1e+01 1.0e-01 1.0e-01 1.0e-01 8.0e-01 1.0e+03 4.2e+01]\n",
      "[1.0, 21.0, 0.1, 0.1, 0.1, 0.8, 1000.0, 42.0]\n"
     ]
    },
    {
     "name": "stderr",
     "output_type": "stream",
     "text": [
      "C:\\Users\\guoqq17\\anaconda3\\lib\\site-packages\\ipykernel_launcher.py:1081: FutureWarning: `alpha` was deprecated in version 1.0 and will be removed in 1.2. Use `alpha_W` and `alpha_H` instead\n"
     ]
    },
    {
     "name": "stdout",
     "output_type": "stream",
     "text": [
      "zero_index=1, k=21, lambda=0.1, alpha_w=NA, alpha_h=0.1, w0=0.8, max_iter=1000, random_state=42\n",
      "running time=1642.7105267047882\n",
      "234\n",
      "[1.0e+00 2.1e+01 1.0e-01 1.0e-01 1.0e-01 9.0e-01 1.0e+03 4.2e+01]\n",
      "[1.0, 21.0, 0.1, 0.1, 0.1, 0.9, 1000.0, 42.0]\n"
     ]
    },
    {
     "name": "stderr",
     "output_type": "stream",
     "text": [
      "C:\\Users\\guoqq17\\anaconda3\\lib\\site-packages\\ipykernel_launcher.py:1081: FutureWarning: `alpha` was deprecated in version 1.0 and will be removed in 1.2. Use `alpha_W` and `alpha_H` instead\n"
     ]
    },
    {
     "name": "stdout",
     "output_type": "stream",
     "text": [
      "zero_index=1, k=21, lambda=0.1, alpha_w=NA, alpha_h=0.1, w0=0.9, max_iter=1000, random_state=42\n",
      "running time=1646.8803114891052\n",
      "224\n",
      "[1.0e+00 2.1e+01 1.0e-01 1.0e-01 1.0e-01 1.0e+00 1.0e+03 4.2e+01]\n",
      "[1.0, 21.0, 0.1, 0.1, 0.1, 1.0, 1000.0, 42.0]\n"
     ]
    },
    {
     "name": "stderr",
     "output_type": "stream",
     "text": [
      "C:\\Users\\guoqq17\\anaconda3\\lib\\site-packages\\ipykernel_launcher.py:1081: FutureWarning: `alpha` was deprecated in version 1.0 and will be removed in 1.2. Use `alpha_W` and `alpha_H` instead\n"
     ]
    },
    {
     "name": "stdout",
     "output_type": "stream",
     "text": [
      "zero_index=1, k=21, lambda=0.1, alpha_w=NA, alpha_h=0.1, w0=1.0, max_iter=1000, random_state=42\n",
      "running time=1644.8007626533508\n",
      "217\n",
      "[1.0e+00 2.2e+01 1.0e-01 1.0e-01 1.0e-01 1.0e-01 1.0e+03 4.2e+01]\n",
      "[1.0, 22.0, 0.1, 0.1, 0.1, 0.1, 1000.0, 42.0]\n"
     ]
    },
    {
     "name": "stderr",
     "output_type": "stream",
     "text": [
      "C:\\Users\\guoqq17\\anaconda3\\lib\\site-packages\\ipykernel_launcher.py:1081: FutureWarning: `alpha` was deprecated in version 1.0 and will be removed in 1.2. Use `alpha_W` and `alpha_H` instead\n"
     ]
    },
    {
     "name": "stdout",
     "output_type": "stream",
     "text": [
      "zero_index=1, k=22, lambda=0.1, alpha_w=NA, alpha_h=0.1, w0=0.1, max_iter=1000, random_state=42\n",
      "running time=1648.6693947315216\n",
      "354\n",
      "[1.0e+00 2.2e+01 1.0e-01 1.0e-01 1.0e-01 2.0e-01 1.0e+03 4.2e+01]\n",
      "[1.0, 22.0, 0.1, 0.1, 0.1, 0.2, 1000.0, 42.0]\n"
     ]
    },
    {
     "name": "stderr",
     "output_type": "stream",
     "text": [
      "C:\\Users\\guoqq17\\anaconda3\\lib\\site-packages\\ipykernel_launcher.py:1081: FutureWarning: `alpha` was deprecated in version 1.0 and will be removed in 1.2. Use `alpha_W` and `alpha_H` instead\n"
     ]
    },
    {
     "name": "stdout",
     "output_type": "stream",
     "text": [
      "zero_index=1, k=22, lambda=0.1, alpha_w=NA, alpha_h=0.1, w0=0.2, max_iter=1000, random_state=42\n",
      "running time=1650.497719526291\n",
      "342\n",
      "[1.0e+00 2.2e+01 1.0e-01 1.0e-01 1.0e-01 3.0e-01 1.0e+03 4.2e+01]\n",
      "[1.0, 22.0, 0.1, 0.1, 0.1, 0.3, 1000.0, 42.0]\n"
     ]
    },
    {
     "name": "stderr",
     "output_type": "stream",
     "text": [
      "C:\\Users\\guoqq17\\anaconda3\\lib\\site-packages\\ipykernel_launcher.py:1081: FutureWarning: `alpha` was deprecated in version 1.0 and will be removed in 1.2. Use `alpha_W` and `alpha_H` instead\n"
     ]
    },
    {
     "name": "stdout",
     "output_type": "stream",
     "text": [
      "zero_index=1, k=22, lambda=0.1, alpha_w=NA, alpha_h=0.1, w0=0.3, max_iter=1000, random_state=42\n",
      "running time=1643.4803993701935\n",
      "328\n",
      "[1.0e+00 2.2e+01 1.0e-01 1.0e-01 1.0e-01 4.0e-01 1.0e+03 4.2e+01]\n",
      "[1.0, 22.0, 0.1, 0.1, 0.1, 0.4, 1000.0, 42.0]\n"
     ]
    },
    {
     "name": "stderr",
     "output_type": "stream",
     "text": [
      "C:\\Users\\guoqq17\\anaconda3\\lib\\site-packages\\ipykernel_launcher.py:1081: FutureWarning: `alpha` was deprecated in version 1.0 and will be removed in 1.2. Use `alpha_W` and `alpha_H` instead\n"
     ]
    },
    {
     "name": "stdout",
     "output_type": "stream",
     "text": [
      "zero_index=1, k=22, lambda=0.1, alpha_w=NA, alpha_h=0.1, w0=0.4, max_iter=1000, random_state=42\n",
      "running time=1649.2328407764435\n",
      "317\n",
      "[1.0e+00 2.2e+01 1.0e-01 1.0e-01 1.0e-01 5.0e-01 1.0e+03 4.2e+01]\n",
      "[1.0, 22.0, 0.1, 0.1, 0.1, 0.5, 1000.0, 42.0]\n"
     ]
    },
    {
     "name": "stderr",
     "output_type": "stream",
     "text": [
      "C:\\Users\\guoqq17\\anaconda3\\lib\\site-packages\\ipykernel_launcher.py:1081: FutureWarning: `alpha` was deprecated in version 1.0 and will be removed in 1.2. Use `alpha_W` and `alpha_H` instead\n"
     ]
    },
    {
     "name": "stdout",
     "output_type": "stream",
     "text": [
      "zero_index=1, k=22, lambda=0.1, alpha_w=NA, alpha_h=0.1, w0=0.5, max_iter=1000, random_state=42\n",
      "running time=1647.5694468021393\n",
      "314\n",
      "[1.0e+00 2.2e+01 1.0e-01 1.0e-01 1.0e-01 6.0e-01 1.0e+03 4.2e+01]\n",
      "[1.0, 22.0, 0.1, 0.1, 0.1, 0.6, 1000.0, 42.0]\n"
     ]
    },
    {
     "name": "stderr",
     "output_type": "stream",
     "text": [
      "C:\\Users\\guoqq17\\anaconda3\\lib\\site-packages\\ipykernel_launcher.py:1081: FutureWarning: `alpha` was deprecated in version 1.0 and will be removed in 1.2. Use `alpha_W` and `alpha_H` instead\n"
     ]
    },
    {
     "name": "stdout",
     "output_type": "stream",
     "text": [
      "zero_index=1, k=22, lambda=0.1, alpha_w=NA, alpha_h=0.1, w0=0.6, max_iter=1000, random_state=42\n",
      "running time=1648.090601682663\n",
      "306\n",
      "[1.0e+00 2.2e+01 1.0e-01 1.0e-01 1.0e-01 7.0e-01 1.0e+03 4.2e+01]\n",
      "[1.0, 22.0, 0.1, 0.1, 0.1, 0.7, 1000.0, 42.0]\n"
     ]
    },
    {
     "name": "stderr",
     "output_type": "stream",
     "text": [
      "C:\\Users\\guoqq17\\anaconda3\\lib\\site-packages\\ipykernel_launcher.py:1081: FutureWarning: `alpha` was deprecated in version 1.0 and will be removed in 1.2. Use `alpha_W` and `alpha_H` instead\n"
     ]
    },
    {
     "name": "stdout",
     "output_type": "stream",
     "text": [
      "zero_index=1, k=22, lambda=0.1, alpha_w=NA, alpha_h=0.1, w0=0.7, max_iter=1000, random_state=42\n",
      "running time=1643.2168669700623\n",
      "291\n",
      "[1.0e+00 2.2e+01 1.0e-01 1.0e-01 1.0e-01 8.0e-01 1.0e+03 4.2e+01]\n",
      "[1.0, 22.0, 0.1, 0.1, 0.1, 0.8, 1000.0, 42.0]\n"
     ]
    },
    {
     "name": "stderr",
     "output_type": "stream",
     "text": [
      "C:\\Users\\guoqq17\\anaconda3\\lib\\site-packages\\ipykernel_launcher.py:1081: FutureWarning: `alpha` was deprecated in version 1.0 and will be removed in 1.2. Use `alpha_W` and `alpha_H` instead\n"
     ]
    },
    {
     "name": "stdout",
     "output_type": "stream",
     "text": [
      "zero_index=1, k=22, lambda=0.1, alpha_w=NA, alpha_h=0.1, w0=0.8, max_iter=1000, random_state=42\n",
      "running time=1648.3003568649292\n",
      "281\n",
      "[1.0e+00 2.2e+01 1.0e-01 1.0e-01 1.0e-01 9.0e-01 1.0e+03 4.2e+01]\n",
      "[1.0, 22.0, 0.1, 0.1, 0.1, 0.9, 1000.0, 42.0]\n"
     ]
    },
    {
     "name": "stderr",
     "output_type": "stream",
     "text": [
      "C:\\Users\\guoqq17\\anaconda3\\lib\\site-packages\\ipykernel_launcher.py:1081: FutureWarning: `alpha` was deprecated in version 1.0 and will be removed in 1.2. Use `alpha_W` and `alpha_H` instead\n"
     ]
    },
    {
     "name": "stdout",
     "output_type": "stream",
     "text": [
      "zero_index=1, k=22, lambda=0.1, alpha_w=NA, alpha_h=0.1, w0=0.9, max_iter=1000, random_state=42\n",
      "running time=1646.1436650753021\n",
      "276\n",
      "[1.0e+00 2.2e+01 1.0e-01 1.0e-01 1.0e-01 1.0e+00 1.0e+03 4.2e+01]\n",
      "[1.0, 22.0, 0.1, 0.1, 0.1, 1.0, 1000.0, 42.0]\n"
     ]
    },
    {
     "name": "stderr",
     "output_type": "stream",
     "text": [
      "C:\\Users\\guoqq17\\anaconda3\\lib\\site-packages\\ipykernel_launcher.py:1081: FutureWarning: `alpha` was deprecated in version 1.0 and will be removed in 1.2. Use `alpha_W` and `alpha_H` instead\n"
     ]
    },
    {
     "name": "stdout",
     "output_type": "stream",
     "text": [
      "zero_index=1, k=22, lambda=0.1, alpha_w=NA, alpha_h=0.1, w0=1.0, max_iter=1000, random_state=42\n",
      "running time=1649.2044689655304\n",
      "265\n",
      "[1.0e+00 2.3e+01 1.0e-01 1.0e-01 1.0e-01 1.0e-01 1.0e+03 4.2e+01]\n",
      "[1.0, 23.0, 0.1, 0.1, 0.1, 0.1, 1000.0, 42.0]\n"
     ]
    },
    {
     "name": "stderr",
     "output_type": "stream",
     "text": [
      "C:\\Users\\guoqq17\\anaconda3\\lib\\site-packages\\ipykernel_launcher.py:1081: FutureWarning: `alpha` was deprecated in version 1.0 and will be removed in 1.2. Use `alpha_W` and `alpha_H` instead\n"
     ]
    },
    {
     "name": "stdout",
     "output_type": "stream",
     "text": [
      "zero_index=1, k=23, lambda=0.1, alpha_w=NA, alpha_h=0.1, w0=0.1, max_iter=1000, random_state=42\n",
      "running time=1650.866285085678\n",
      "329\n",
      "[1.0e+00 2.3e+01 1.0e-01 1.0e-01 1.0e-01 2.0e-01 1.0e+03 4.2e+01]\n",
      "[1.0, 23.0, 0.1, 0.1, 0.1, 0.2, 1000.0, 42.0]\n"
     ]
    },
    {
     "name": "stderr",
     "output_type": "stream",
     "text": [
      "C:\\Users\\guoqq17\\anaconda3\\lib\\site-packages\\ipykernel_launcher.py:1081: FutureWarning: `alpha` was deprecated in version 1.0 and will be removed in 1.2. Use `alpha_W` and `alpha_H` instead\n"
     ]
    },
    {
     "name": "stdout",
     "output_type": "stream",
     "text": [
      "zero_index=1, k=23, lambda=0.1, alpha_w=NA, alpha_h=0.1, w0=0.2, max_iter=1000, random_state=42\n",
      "running time=1650.5713651180267\n",
      "316\n",
      "[1.0e+00 2.3e+01 1.0e-01 1.0e-01 1.0e-01 3.0e-01 1.0e+03 4.2e+01]\n",
      "[1.0, 23.0, 0.1, 0.1, 0.1, 0.3, 1000.0, 42.0]\n"
     ]
    },
    {
     "name": "stderr",
     "output_type": "stream",
     "text": [
      "C:\\Users\\guoqq17\\anaconda3\\lib\\site-packages\\ipykernel_launcher.py:1081: FutureWarning: `alpha` was deprecated in version 1.0 and will be removed in 1.2. Use `alpha_W` and `alpha_H` instead\n"
     ]
    },
    {
     "name": "stdout",
     "output_type": "stream",
     "text": [
      "zero_index=1, k=23, lambda=0.1, alpha_w=NA, alpha_h=0.1, w0=0.3, max_iter=1000, random_state=42\n",
      "running time=1649.991337776184\n",
      "295\n",
      "[1.0e+00 2.3e+01 1.0e-01 1.0e-01 1.0e-01 4.0e-01 1.0e+03 4.2e+01]\n",
      "[1.0, 23.0, 0.1, 0.1, 0.1, 0.4, 1000.0, 42.0]\n"
     ]
    },
    {
     "name": "stderr",
     "output_type": "stream",
     "text": [
      "C:\\Users\\guoqq17\\anaconda3\\lib\\site-packages\\ipykernel_launcher.py:1081: FutureWarning: `alpha` was deprecated in version 1.0 and will be removed in 1.2. Use `alpha_W` and `alpha_H` instead\n"
     ]
    },
    {
     "name": "stdout",
     "output_type": "stream",
     "text": [
      "zero_index=1, k=23, lambda=0.1, alpha_w=NA, alpha_h=0.1, w0=0.4, max_iter=1000, random_state=42\n",
      "running time=1650.270931482315\n",
      "279\n",
      "[1.0e+00 2.3e+01 1.0e-01 1.0e-01 1.0e-01 5.0e-01 1.0e+03 4.2e+01]\n",
      "[1.0, 23.0, 0.1, 0.1, 0.1, 0.5, 1000.0, 42.0]\n"
     ]
    },
    {
     "name": "stderr",
     "output_type": "stream",
     "text": [
      "C:\\Users\\guoqq17\\anaconda3\\lib\\site-packages\\ipykernel_launcher.py:1081: FutureWarning: `alpha` was deprecated in version 1.0 and will be removed in 1.2. Use `alpha_W` and `alpha_H` instead\n"
     ]
    },
    {
     "name": "stdout",
     "output_type": "stream",
     "text": [
      "zero_index=1, k=23, lambda=0.1, alpha_w=NA, alpha_h=0.1, w0=0.5, max_iter=1000, random_state=42\n",
      "running time=1650.191778421402\n",
      "274\n",
      "[1.0e+00 2.3e+01 1.0e-01 1.0e-01 1.0e-01 6.0e-01 1.0e+03 4.2e+01]\n",
      "[1.0, 23.0, 0.1, 0.1, 0.1, 0.6, 1000.0, 42.0]\n"
     ]
    },
    {
     "name": "stderr",
     "output_type": "stream",
     "text": [
      "C:\\Users\\guoqq17\\anaconda3\\lib\\site-packages\\ipykernel_launcher.py:1081: FutureWarning: `alpha` was deprecated in version 1.0 and will be removed in 1.2. Use `alpha_W` and `alpha_H` instead\n"
     ]
    },
    {
     "name": "stdout",
     "output_type": "stream",
     "text": [
      "zero_index=1, k=23, lambda=0.1, alpha_w=NA, alpha_h=0.1, w0=0.6, max_iter=1000, random_state=42\n",
      "running time=1650.1007733345032\n",
      "269\n",
      "[1.0e+00 2.3e+01 1.0e-01 1.0e-01 1.0e-01 7.0e-01 1.0e+03 4.2e+01]\n",
      "[1.0, 23.0, 0.1, 0.1, 0.1, 0.7, 1000.0, 42.0]\n"
     ]
    },
    {
     "name": "stderr",
     "output_type": "stream",
     "text": [
      "C:\\Users\\guoqq17\\anaconda3\\lib\\site-packages\\ipykernel_launcher.py:1081: FutureWarning: `alpha` was deprecated in version 1.0 and will be removed in 1.2. Use `alpha_W` and `alpha_H` instead\n"
     ]
    },
    {
     "name": "stdout",
     "output_type": "stream",
     "text": [
      "zero_index=1, k=23, lambda=0.1, alpha_w=NA, alpha_h=0.1, w0=0.7, max_iter=1000, random_state=42\n",
      "running time=1647.5976440906525\n",
      "259\n",
      "[1.0e+00 2.3e+01 1.0e-01 1.0e-01 1.0e-01 8.0e-01 1.0e+03 4.2e+01]\n",
      "[1.0, 23.0, 0.1, 0.1, 0.1, 0.8, 1000.0, 42.0]\n"
     ]
    },
    {
     "name": "stderr",
     "output_type": "stream",
     "text": [
      "C:\\Users\\guoqq17\\anaconda3\\lib\\site-packages\\ipykernel_launcher.py:1081: FutureWarning: `alpha` was deprecated in version 1.0 and will be removed in 1.2. Use `alpha_W` and `alpha_H` instead\n"
     ]
    },
    {
     "name": "stdout",
     "output_type": "stream",
     "text": [
      "zero_index=1, k=23, lambda=0.1, alpha_w=NA, alpha_h=0.1, w0=0.8, max_iter=1000, random_state=42\n",
      "running time=1648.5453350543976\n",
      "254\n",
      "[1.0e+00 2.3e+01 1.0e-01 1.0e-01 1.0e-01 9.0e-01 1.0e+03 4.2e+01]\n",
      "[1.0, 23.0, 0.1, 0.1, 0.1, 0.9, 1000.0, 42.0]\n"
     ]
    },
    {
     "name": "stderr",
     "output_type": "stream",
     "text": [
      "C:\\Users\\guoqq17\\anaconda3\\lib\\site-packages\\ipykernel_launcher.py:1081: FutureWarning: `alpha` was deprecated in version 1.0 and will be removed in 1.2. Use `alpha_W` and `alpha_H` instead\n"
     ]
    },
    {
     "name": "stdout",
     "output_type": "stream",
     "text": [
      "zero_index=1, k=23, lambda=0.1, alpha_w=NA, alpha_h=0.1, w0=0.9, max_iter=1000, random_state=42\n",
      "running time=1651.322380065918\n",
      "248\n",
      "[1.0e+00 2.3e+01 1.0e-01 1.0e-01 1.0e-01 1.0e+00 1.0e+03 4.2e+01]\n",
      "[1.0, 23.0, 0.1, 0.1, 0.1, 1.0, 1000.0, 42.0]\n"
     ]
    },
    {
     "name": "stderr",
     "output_type": "stream",
     "text": [
      "C:\\Users\\guoqq17\\anaconda3\\lib\\site-packages\\ipykernel_launcher.py:1081: FutureWarning: `alpha` was deprecated in version 1.0 and will be removed in 1.2. Use `alpha_W` and `alpha_H` instead\n"
     ]
    },
    {
     "name": "stdout",
     "output_type": "stream",
     "text": [
      "zero_index=1, k=23, lambda=0.1, alpha_w=NA, alpha_h=0.1, w0=1.0, max_iter=1000, random_state=42\n",
      "running time=1647.540100812912\n",
      "237\n",
      "[1.0e+00 2.4e+01 1.0e-01 1.0e-01 1.0e-01 1.0e-01 1.0e+03 4.2e+01]\n",
      "[1.0, 24.0, 0.1, 0.1, 0.1, 0.1, 1000.0, 42.0]\n"
     ]
    },
    {
     "name": "stderr",
     "output_type": "stream",
     "text": [
      "C:\\Users\\guoqq17\\anaconda3\\lib\\site-packages\\ipykernel_launcher.py:1081: FutureWarning: `alpha` was deprecated in version 1.0 and will be removed in 1.2. Use `alpha_W` and `alpha_H` instead\n"
     ]
    },
    {
     "name": "stdout",
     "output_type": "stream",
     "text": [
      "zero_index=1, k=24, lambda=0.1, alpha_w=NA, alpha_h=0.1, w0=0.1, max_iter=1000, random_state=42\n",
      "running time=1649.282948255539\n",
      "327\n",
      "[1.0e+00 2.4e+01 1.0e-01 1.0e-01 1.0e-01 2.0e-01 1.0e+03 4.2e+01]\n",
      "[1.0, 24.0, 0.1, 0.1, 0.1, 0.2, 1000.0, 42.0]\n"
     ]
    },
    {
     "name": "stderr",
     "output_type": "stream",
     "text": [
      "C:\\Users\\guoqq17\\anaconda3\\lib\\site-packages\\ipykernel_launcher.py:1081: FutureWarning: `alpha` was deprecated in version 1.0 and will be removed in 1.2. Use `alpha_W` and `alpha_H` instead\n"
     ]
    },
    {
     "name": "stdout",
     "output_type": "stream",
     "text": [
      "zero_index=1, k=24, lambda=0.1, alpha_w=NA, alpha_h=0.1, w0=0.2, max_iter=1000, random_state=42\n",
      "running time=1647.339304447174\n",
      "313\n",
      "[1.0e+00 2.4e+01 1.0e-01 1.0e-01 1.0e-01 3.0e-01 1.0e+03 4.2e+01]\n",
      "[1.0, 24.0, 0.1, 0.1, 0.1, 0.3, 1000.0, 42.0]\n"
     ]
    },
    {
     "name": "stderr",
     "output_type": "stream",
     "text": [
      "C:\\Users\\guoqq17\\anaconda3\\lib\\site-packages\\ipykernel_launcher.py:1081: FutureWarning: `alpha` was deprecated in version 1.0 and will be removed in 1.2. Use `alpha_W` and `alpha_H` instead\n"
     ]
    },
    {
     "name": "stdout",
     "output_type": "stream",
     "text": [
      "zero_index=1, k=24, lambda=0.1, alpha_w=NA, alpha_h=0.1, w0=0.3, max_iter=1000, random_state=42\n",
      "running time=1650.82053732872\n",
      "294\n",
      "[1.0e+00 2.4e+01 1.0e-01 1.0e-01 1.0e-01 4.0e-01 1.0e+03 4.2e+01]\n",
      "[1.0, 24.0, 0.1, 0.1, 0.1, 0.4, 1000.0, 42.0]\n"
     ]
    },
    {
     "name": "stderr",
     "output_type": "stream",
     "text": [
      "C:\\Users\\guoqq17\\anaconda3\\lib\\site-packages\\ipykernel_launcher.py:1081: FutureWarning: `alpha` was deprecated in version 1.0 and will be removed in 1.2. Use `alpha_W` and `alpha_H` instead\n"
     ]
    },
    {
     "name": "stdout",
     "output_type": "stream",
     "text": [
      "zero_index=1, k=24, lambda=0.1, alpha_w=NA, alpha_h=0.1, w0=0.4, max_iter=1000, random_state=42\n",
      "running time=1645.9597561359406\n",
      "282\n",
      "[1.0e+00 2.4e+01 1.0e-01 1.0e-01 1.0e-01 5.0e-01 1.0e+03 4.2e+01]\n",
      "[1.0, 24.0, 0.1, 0.1, 0.1, 0.5, 1000.0, 42.0]\n"
     ]
    },
    {
     "name": "stderr",
     "output_type": "stream",
     "text": [
      "C:\\Users\\guoqq17\\anaconda3\\lib\\site-packages\\ipykernel_launcher.py:1081: FutureWarning: `alpha` was deprecated in version 1.0 and will be removed in 1.2. Use `alpha_W` and `alpha_H` instead\n"
     ]
    },
    {
     "name": "stdout",
     "output_type": "stream",
     "text": [
      "zero_index=1, k=24, lambda=0.1, alpha_w=NA, alpha_h=0.1, w0=0.5, max_iter=1000, random_state=42\n",
      "running time=1646.7523846626282\n",
      "276\n",
      "[1.0e+00 2.4e+01 1.0e-01 1.0e-01 1.0e-01 6.0e-01 1.0e+03 4.2e+01]\n",
      "[1.0, 24.0, 0.1, 0.1, 0.1, 0.6, 1000.0, 42.0]\n"
     ]
    },
    {
     "name": "stderr",
     "output_type": "stream",
     "text": [
      "C:\\Users\\guoqq17\\anaconda3\\lib\\site-packages\\ipykernel_launcher.py:1081: FutureWarning: `alpha` was deprecated in version 1.0 and will be removed in 1.2. Use `alpha_W` and `alpha_H` instead\n"
     ]
    },
    {
     "name": "stdout",
     "output_type": "stream",
     "text": [
      "zero_index=1, k=24, lambda=0.1, alpha_w=NA, alpha_h=0.1, w0=0.6, max_iter=1000, random_state=42\n",
      "running time=1650.4841930866241\n",
      "268\n",
      "[1.0e+00 2.4e+01 1.0e-01 1.0e-01 1.0e-01 7.0e-01 1.0e+03 4.2e+01]\n",
      "[1.0, 24.0, 0.1, 0.1, 0.1, 0.7, 1000.0, 42.0]\n"
     ]
    },
    {
     "name": "stderr",
     "output_type": "stream",
     "text": [
      "C:\\Users\\guoqq17\\anaconda3\\lib\\site-packages\\ipykernel_launcher.py:1081: FutureWarning: `alpha` was deprecated in version 1.0 and will be removed in 1.2. Use `alpha_W` and `alpha_H` instead\n"
     ]
    },
    {
     "name": "stdout",
     "output_type": "stream",
     "text": [
      "zero_index=1, k=24, lambda=0.1, alpha_w=NA, alpha_h=0.1, w0=0.7, max_iter=1000, random_state=42\n",
      "running time=1645.8953928947449\n",
      "261\n",
      "[1.0e+00 2.4e+01 1.0e-01 1.0e-01 1.0e-01 8.0e-01 1.0e+03 4.2e+01]\n",
      "[1.0, 24.0, 0.1, 0.1, 0.1, 0.8, 1000.0, 42.0]\n"
     ]
    },
    {
     "name": "stderr",
     "output_type": "stream",
     "text": [
      "C:\\Users\\guoqq17\\anaconda3\\lib\\site-packages\\ipykernel_launcher.py:1081: FutureWarning: `alpha` was deprecated in version 1.0 and will be removed in 1.2. Use `alpha_W` and `alpha_H` instead\n"
     ]
    },
    {
     "name": "stdout",
     "output_type": "stream",
     "text": [
      "zero_index=1, k=24, lambda=0.1, alpha_w=NA, alpha_h=0.1, w0=0.8, max_iter=1000, random_state=42\n",
      "running time=1646.5937614440918\n",
      "256\n",
      "[1.0e+00 2.4e+01 1.0e-01 1.0e-01 1.0e-01 9.0e-01 1.0e+03 4.2e+01]\n",
      "[1.0, 24.0, 0.1, 0.1, 0.1, 0.9, 1000.0, 42.0]\n"
     ]
    },
    {
     "name": "stderr",
     "output_type": "stream",
     "text": [
      "C:\\Users\\guoqq17\\anaconda3\\lib\\site-packages\\ipykernel_launcher.py:1081: FutureWarning: `alpha` was deprecated in version 1.0 and will be removed in 1.2. Use `alpha_W` and `alpha_H` instead\n"
     ]
    },
    {
     "name": "stdout",
     "output_type": "stream",
     "text": [
      "zero_index=1, k=24, lambda=0.1, alpha_w=NA, alpha_h=0.1, w0=0.9, max_iter=1000, random_state=42\n",
      "running time=1648.3628196716309\n",
      "250\n",
      "[1.0e+00 2.4e+01 1.0e-01 1.0e-01 1.0e-01 1.0e+00 1.0e+03 4.2e+01]\n",
      "[1.0, 24.0, 0.1, 0.1, 0.1, 1.0, 1000.0, 42.0]\n"
     ]
    },
    {
     "name": "stderr",
     "output_type": "stream",
     "text": [
      "C:\\Users\\guoqq17\\anaconda3\\lib\\site-packages\\ipykernel_launcher.py:1081: FutureWarning: `alpha` was deprecated in version 1.0 and will be removed in 1.2. Use `alpha_W` and `alpha_H` instead\n"
     ]
    },
    {
     "name": "stdout",
     "output_type": "stream",
     "text": [
      "zero_index=1, k=24, lambda=0.1, alpha_w=NA, alpha_h=0.1, w0=1.0, max_iter=1000, random_state=42\n",
      "running time=1650.9971709251404\n",
      "239\n",
      "[1.0e+00 2.5e+01 1.0e-01 1.0e-01 1.0e-01 1.0e-01 1.0e+03 4.2e+01]\n",
      "[1.0, 25.0, 0.1, 0.1, 0.1, 0.1, 1000.0, 42.0]\n"
     ]
    },
    {
     "name": "stderr",
     "output_type": "stream",
     "text": [
      "C:\\Users\\guoqq17\\anaconda3\\lib\\site-packages\\ipykernel_launcher.py:1081: FutureWarning: `alpha` was deprecated in version 1.0 and will be removed in 1.2. Use `alpha_W` and `alpha_H` instead\n"
     ]
    },
    {
     "name": "stdout",
     "output_type": "stream",
     "text": [
      "zero_index=1, k=25, lambda=0.1, alpha_w=NA, alpha_h=0.1, w0=0.1, max_iter=1000, random_state=42\n",
      "running time=1647.0304729938507\n",
      "326\n",
      "[1.0e+00 2.5e+01 1.0e-01 1.0e-01 1.0e-01 2.0e-01 1.0e+03 4.2e+01]\n",
      "[1.0, 25.0, 0.1, 0.1, 0.1, 0.2, 1000.0, 42.0]\n"
     ]
    },
    {
     "name": "stderr",
     "output_type": "stream",
     "text": [
      "C:\\Users\\guoqq17\\anaconda3\\lib\\site-packages\\ipykernel_launcher.py:1081: FutureWarning: `alpha` was deprecated in version 1.0 and will be removed in 1.2. Use `alpha_W` and `alpha_H` instead\n"
     ]
    },
    {
     "name": "stdout",
     "output_type": "stream",
     "text": [
      "zero_index=1, k=25, lambda=0.1, alpha_w=NA, alpha_h=0.1, w0=0.2, max_iter=1000, random_state=42\n",
      "running time=1661.459386587143\n",
      "309\n",
      "[1.0e+00 2.5e+01 1.0e-01 1.0e-01 1.0e-01 3.0e-01 1.0e+03 4.2e+01]\n",
      "[1.0, 25.0, 0.1, 0.1, 0.1, 0.3, 1000.0, 42.0]\n"
     ]
    },
    {
     "name": "stderr",
     "output_type": "stream",
     "text": [
      "C:\\Users\\guoqq17\\anaconda3\\lib\\site-packages\\ipykernel_launcher.py:1081: FutureWarning: `alpha` was deprecated in version 1.0 and will be removed in 1.2. Use `alpha_W` and `alpha_H` instead\n"
     ]
    },
    {
     "name": "stdout",
     "output_type": "stream",
     "text": [
      "zero_index=1, k=25, lambda=0.1, alpha_w=NA, alpha_h=0.1, w0=0.3, max_iter=1000, random_state=42\n",
      "running time=1661.104490995407\n",
      "293\n",
      "[1.0e+00 2.5e+01 1.0e-01 1.0e-01 1.0e-01 4.0e-01 1.0e+03 4.2e+01]\n",
      "[1.0, 25.0, 0.1, 0.1, 0.1, 0.4, 1000.0, 42.0]\n"
     ]
    },
    {
     "name": "stderr",
     "output_type": "stream",
     "text": [
      "C:\\Users\\guoqq17\\anaconda3\\lib\\site-packages\\ipykernel_launcher.py:1081: FutureWarning: `alpha` was deprecated in version 1.0 and will be removed in 1.2. Use `alpha_W` and `alpha_H` instead\n"
     ]
    },
    {
     "name": "stdout",
     "output_type": "stream",
     "text": [
      "zero_index=1, k=25, lambda=0.1, alpha_w=NA, alpha_h=0.1, w0=0.4, max_iter=1000, random_state=42\n",
      "running time=1648.5899004936218\n",
      "278\n",
      "[1.0e+00 2.5e+01 1.0e-01 1.0e-01 1.0e-01 5.0e-01 1.0e+03 4.2e+01]\n",
      "[1.0, 25.0, 0.1, 0.1, 0.1, 0.5, 1000.0, 42.0]\n"
     ]
    },
    {
     "name": "stderr",
     "output_type": "stream",
     "text": [
      "C:\\Users\\guoqq17\\anaconda3\\lib\\site-packages\\ipykernel_launcher.py:1081: FutureWarning: `alpha` was deprecated in version 1.0 and will be removed in 1.2. Use `alpha_W` and `alpha_H` instead\n"
     ]
    },
    {
     "name": "stdout",
     "output_type": "stream",
     "text": [
      "zero_index=1, k=25, lambda=0.1, alpha_w=NA, alpha_h=0.1, w0=0.5, max_iter=1000, random_state=42\n",
      "running time=1654.2000451087952\n",
      "274\n",
      "[1.0e+00 2.5e+01 1.0e-01 1.0e-01 1.0e-01 6.0e-01 1.0e+03 4.2e+01]\n",
      "[1.0, 25.0, 0.1, 0.1, 0.1, 0.6, 1000.0, 42.0]\n"
     ]
    },
    {
     "name": "stderr",
     "output_type": "stream",
     "text": [
      "C:\\Users\\guoqq17\\anaconda3\\lib\\site-packages\\ipykernel_launcher.py:1081: FutureWarning: `alpha` was deprecated in version 1.0 and will be removed in 1.2. Use `alpha_W` and `alpha_H` instead\n"
     ]
    },
    {
     "name": "stdout",
     "output_type": "stream",
     "text": [
      "zero_index=1, k=25, lambda=0.1, alpha_w=NA, alpha_h=0.1, w0=0.6, max_iter=1000, random_state=42\n",
      "running time=1650.2018556594849\n",
      "265\n",
      "[1.0e+00 2.5e+01 1.0e-01 1.0e-01 1.0e-01 7.0e-01 1.0e+03 4.2e+01]\n",
      "[1.0, 25.0, 0.1, 0.1, 0.1, 0.7, 1000.0, 42.0]\n"
     ]
    },
    {
     "name": "stderr",
     "output_type": "stream",
     "text": [
      "C:\\Users\\guoqq17\\anaconda3\\lib\\site-packages\\ipykernel_launcher.py:1081: FutureWarning: `alpha` was deprecated in version 1.0 and will be removed in 1.2. Use `alpha_W` and `alpha_H` instead\n"
     ]
    },
    {
     "name": "stdout",
     "output_type": "stream",
     "text": [
      "zero_index=1, k=25, lambda=0.1, alpha_w=NA, alpha_h=0.1, w0=0.7, max_iter=1000, random_state=42\n",
      "running time=1650.75789809227\n",
      "258\n",
      "[1.0e+00 2.5e+01 1.0e-01 1.0e-01 1.0e-01 8.0e-01 1.0e+03 4.2e+01]\n",
      "[1.0, 25.0, 0.1, 0.1, 0.1, 0.8, 1000.0, 42.0]\n"
     ]
    },
    {
     "name": "stderr",
     "output_type": "stream",
     "text": [
      "C:\\Users\\guoqq17\\anaconda3\\lib\\site-packages\\ipykernel_launcher.py:1081: FutureWarning: `alpha` was deprecated in version 1.0 and will be removed in 1.2. Use `alpha_W` and `alpha_H` instead\n"
     ]
    },
    {
     "name": "stdout",
     "output_type": "stream",
     "text": [
      "zero_index=1, k=25, lambda=0.1, alpha_w=NA, alpha_h=0.1, w0=0.8, max_iter=1000, random_state=42\n",
      "running time=1652.9607248306274\n",
      "253\n",
      "[1.0e+00 2.5e+01 1.0e-01 1.0e-01 1.0e-01 9.0e-01 1.0e+03 4.2e+01]\n",
      "[1.0, 25.0, 0.1, 0.1, 0.1, 0.9, 1000.0, 42.0]\n"
     ]
    },
    {
     "name": "stderr",
     "output_type": "stream",
     "text": [
      "C:\\Users\\guoqq17\\anaconda3\\lib\\site-packages\\ipykernel_launcher.py:1081: FutureWarning: `alpha` was deprecated in version 1.0 and will be removed in 1.2. Use `alpha_W` and `alpha_H` instead\n"
     ]
    },
    {
     "name": "stdout",
     "output_type": "stream",
     "text": [
      "zero_index=1, k=25, lambda=0.1, alpha_w=NA, alpha_h=0.1, w0=0.9, max_iter=1000, random_state=42\n",
      "running time=1654.0023002624512\n",
      "248\n",
      "[1.0e+00 2.5e+01 1.0e-01 1.0e-01 1.0e-01 1.0e+00 1.0e+03 4.2e+01]\n",
      "[1.0, 25.0, 0.1, 0.1, 0.1, 1.0, 1000.0, 42.0]\n"
     ]
    },
    {
     "name": "stderr",
     "output_type": "stream",
     "text": [
      "C:\\Users\\guoqq17\\anaconda3\\lib\\site-packages\\ipykernel_launcher.py:1081: FutureWarning: `alpha` was deprecated in version 1.0 and will be removed in 1.2. Use `alpha_W` and `alpha_H` instead\n"
     ]
    },
    {
     "name": "stdout",
     "output_type": "stream",
     "text": [
      "zero_index=1, k=25, lambda=0.1, alpha_w=NA, alpha_h=0.1, w0=1.0, max_iter=1000, random_state=42\n",
      "running time=1651.8477263450623\n",
      "238\n",
      "[1.0e+00 2.6e+01 1.0e-01 1.0e-01 1.0e-01 1.0e-01 1.0e+03 4.2e+01]\n",
      "[1.0, 26.0, 0.1, 0.1, 0.1, 0.1, 1000.0, 42.0]\n"
     ]
    },
    {
     "name": "stderr",
     "output_type": "stream",
     "text": [
      "C:\\Users\\guoqq17\\anaconda3\\lib\\site-packages\\ipykernel_launcher.py:1081: FutureWarning: `alpha` was deprecated in version 1.0 and will be removed in 1.2. Use `alpha_W` and `alpha_H` instead\n"
     ]
    },
    {
     "name": "stdout",
     "output_type": "stream",
     "text": [
      "zero_index=1, k=26, lambda=0.1, alpha_w=NA, alpha_h=0.1, w0=0.1, max_iter=1000, random_state=42\n",
      "running time=1655.8269684314728\n",
      "328\n",
      "[1.0e+00 2.6e+01 1.0e-01 1.0e-01 1.0e-01 2.0e-01 1.0e+03 4.2e+01]\n",
      "[1.0, 26.0, 0.1, 0.1, 0.1, 0.2, 1000.0, 42.0]\n"
     ]
    },
    {
     "name": "stderr",
     "output_type": "stream",
     "text": [
      "C:\\Users\\guoqq17\\anaconda3\\lib\\site-packages\\ipykernel_launcher.py:1081: FutureWarning: `alpha` was deprecated in version 1.0 and will be removed in 1.2. Use `alpha_W` and `alpha_H` instead\n"
     ]
    },
    {
     "name": "stdout",
     "output_type": "stream",
     "text": [
      "zero_index=1, k=26, lambda=0.1, alpha_w=NA, alpha_h=0.1, w0=0.2, max_iter=1000, random_state=42\n",
      "running time=1652.5018544197083\n",
      "312\n",
      "[1.0e+00 2.6e+01 1.0e-01 1.0e-01 1.0e-01 3.0e-01 1.0e+03 4.2e+01]\n",
      "[1.0, 26.0, 0.1, 0.1, 0.1, 0.3, 1000.0, 42.0]\n"
     ]
    },
    {
     "name": "stderr",
     "output_type": "stream",
     "text": [
      "C:\\Users\\guoqq17\\anaconda3\\lib\\site-packages\\ipykernel_launcher.py:1081: FutureWarning: `alpha` was deprecated in version 1.0 and will be removed in 1.2. Use `alpha_W` and `alpha_H` instead\n"
     ]
    },
    {
     "name": "stdout",
     "output_type": "stream",
     "text": [
      "zero_index=1, k=26, lambda=0.1, alpha_w=NA, alpha_h=0.1, w0=0.3, max_iter=1000, random_state=42\n",
      "running time=1653.1643998622894\n",
      "295\n",
      "[1.0e+00 2.6e+01 1.0e-01 1.0e-01 1.0e-01 4.0e-01 1.0e+03 4.2e+01]\n",
      "[1.0, 26.0, 0.1, 0.1, 0.1, 0.4, 1000.0, 42.0]\n"
     ]
    },
    {
     "name": "stderr",
     "output_type": "stream",
     "text": [
      "C:\\Users\\guoqq17\\anaconda3\\lib\\site-packages\\ipykernel_launcher.py:1081: FutureWarning: `alpha` was deprecated in version 1.0 and will be removed in 1.2. Use `alpha_W` and `alpha_H` instead\n"
     ]
    },
    {
     "name": "stdout",
     "output_type": "stream",
     "text": [
      "zero_index=1, k=26, lambda=0.1, alpha_w=NA, alpha_h=0.1, w0=0.4, max_iter=1000, random_state=42\n",
      "running time=1655.9792606830597\n",
      "280\n",
      "[1.0e+00 2.6e+01 1.0e-01 1.0e-01 1.0e-01 5.0e-01 1.0e+03 4.2e+01]\n",
      "[1.0, 26.0, 0.1, 0.1, 0.1, 0.5, 1000.0, 42.0]\n"
     ]
    },
    {
     "name": "stderr",
     "output_type": "stream",
     "text": [
      "C:\\Users\\guoqq17\\anaconda3\\lib\\site-packages\\ipykernel_launcher.py:1081: FutureWarning: `alpha` was deprecated in version 1.0 and will be removed in 1.2. Use `alpha_W` and `alpha_H` instead\n"
     ]
    },
    {
     "name": "stdout",
     "output_type": "stream",
     "text": [
      "zero_index=1, k=26, lambda=0.1, alpha_w=NA, alpha_h=0.1, w0=0.5, max_iter=1000, random_state=42\n",
      "running time=1656.3556084632874\n",
      "273\n",
      "[1.0e+00 2.6e+01 1.0e-01 1.0e-01 1.0e-01 6.0e-01 1.0e+03 4.2e+01]\n",
      "[1.0, 26.0, 0.1, 0.1, 0.1, 0.6, 1000.0, 42.0]\n"
     ]
    },
    {
     "name": "stderr",
     "output_type": "stream",
     "text": [
      "C:\\Users\\guoqq17\\anaconda3\\lib\\site-packages\\ipykernel_launcher.py:1081: FutureWarning: `alpha` was deprecated in version 1.0 and will be removed in 1.2. Use `alpha_W` and `alpha_H` instead\n"
     ]
    },
    {
     "name": "stdout",
     "output_type": "stream",
     "text": [
      "zero_index=1, k=26, lambda=0.1, alpha_w=NA, alpha_h=0.1, w0=0.6, max_iter=1000, random_state=42\n",
      "running time=1653.0374069213867\n",
      "262\n",
      "[1.0e+00 2.6e+01 1.0e-01 1.0e-01 1.0e-01 7.0e-01 1.0e+03 4.2e+01]\n",
      "[1.0, 26.0, 0.1, 0.1, 0.1, 0.7, 1000.0, 42.0]\n"
     ]
    },
    {
     "name": "stderr",
     "output_type": "stream",
     "text": [
      "C:\\Users\\guoqq17\\anaconda3\\lib\\site-packages\\ipykernel_launcher.py:1081: FutureWarning: `alpha` was deprecated in version 1.0 and will be removed in 1.2. Use `alpha_W` and `alpha_H` instead\n"
     ]
    },
    {
     "name": "stdout",
     "output_type": "stream",
     "text": [
      "zero_index=1, k=26, lambda=0.1, alpha_w=NA, alpha_h=0.1, w0=0.7, max_iter=1000, random_state=42\n",
      "running time=1654.3077881336212\n",
      "257\n",
      "[1.0e+00 2.6e+01 1.0e-01 1.0e-01 1.0e-01 8.0e-01 1.0e+03 4.2e+01]\n",
      "[1.0, 26.0, 0.1, 0.1, 0.1, 0.8, 1000.0, 42.0]\n"
     ]
    },
    {
     "name": "stderr",
     "output_type": "stream",
     "text": [
      "C:\\Users\\guoqq17\\anaconda3\\lib\\site-packages\\ipykernel_launcher.py:1081: FutureWarning: `alpha` was deprecated in version 1.0 and will be removed in 1.2. Use `alpha_W` and `alpha_H` instead\n"
     ]
    },
    {
     "name": "stdout",
     "output_type": "stream",
     "text": [
      "zero_index=1, k=26, lambda=0.1, alpha_w=NA, alpha_h=0.1, w0=0.8, max_iter=1000, random_state=42\n",
      "running time=1655.6966774463654\n",
      "251\n",
      "[1.0e+00 2.6e+01 1.0e-01 1.0e-01 1.0e-01 9.0e-01 1.0e+03 4.2e+01]\n",
      "[1.0, 26.0, 0.1, 0.1, 0.1, 0.9, 1000.0, 42.0]\n"
     ]
    },
    {
     "name": "stderr",
     "output_type": "stream",
     "text": [
      "C:\\Users\\guoqq17\\anaconda3\\lib\\site-packages\\ipykernel_launcher.py:1081: FutureWarning: `alpha` was deprecated in version 1.0 and will be removed in 1.2. Use `alpha_W` and `alpha_H` instead\n"
     ]
    },
    {
     "name": "stdout",
     "output_type": "stream",
     "text": [
      "zero_index=1, k=26, lambda=0.1, alpha_w=NA, alpha_h=0.1, w0=0.9, max_iter=1000, random_state=42\n",
      "running time=1652.2684891223907\n",
      "242\n",
      "[1.0e+00 2.6e+01 1.0e-01 1.0e-01 1.0e-01 1.0e+00 1.0e+03 4.2e+01]\n",
      "[1.0, 26.0, 0.1, 0.1, 0.1, 1.0, 1000.0, 42.0]\n"
     ]
    },
    {
     "name": "stderr",
     "output_type": "stream",
     "text": [
      "C:\\Users\\guoqq17\\anaconda3\\lib\\site-packages\\ipykernel_launcher.py:1081: FutureWarning: `alpha` was deprecated in version 1.0 and will be removed in 1.2. Use `alpha_W` and `alpha_H` instead\n"
     ]
    },
    {
     "name": "stdout",
     "output_type": "stream",
     "text": [
      "zero_index=1, k=26, lambda=0.1, alpha_w=NA, alpha_h=0.1, w0=1.0, max_iter=1000, random_state=42\n",
      "running time=1653.6108145713806\n",
      "230\n",
      "[1.0e+00 2.7e+01 1.0e-01 1.0e-01 1.0e-01 1.0e-01 1.0e+03 4.2e+01]\n",
      "[1.0, 27.0, 0.1, 0.1, 0.1, 0.1, 1000.0, 42.0]\n"
     ]
    },
    {
     "name": "stderr",
     "output_type": "stream",
     "text": [
      "C:\\Users\\guoqq17\\anaconda3\\lib\\site-packages\\ipykernel_launcher.py:1081: FutureWarning: `alpha` was deprecated in version 1.0 and will be removed in 1.2. Use `alpha_W` and `alpha_H` instead\n"
     ]
    },
    {
     "name": "stdout",
     "output_type": "stream",
     "text": [
      "zero_index=1, k=27, lambda=0.1, alpha_w=NA, alpha_h=0.1, w0=0.1, max_iter=1000, random_state=42\n",
      "running time=1655.503394126892\n",
      "318\n",
      "[1.0e+00 2.7e+01 1.0e-01 1.0e-01 1.0e-01 2.0e-01 1.0e+03 4.2e+01]\n",
      "[1.0, 27.0, 0.1, 0.1, 0.1, 0.2, 1000.0, 42.0]\n"
     ]
    },
    {
     "name": "stderr",
     "output_type": "stream",
     "text": [
      "C:\\Users\\guoqq17\\anaconda3\\lib\\site-packages\\ipykernel_launcher.py:1081: FutureWarning: `alpha` was deprecated in version 1.0 and will be removed in 1.2. Use `alpha_W` and `alpha_H` instead\n"
     ]
    },
    {
     "name": "stdout",
     "output_type": "stream",
     "text": [
      "zero_index=1, k=27, lambda=0.1, alpha_w=NA, alpha_h=0.1, w0=0.2, max_iter=1000, random_state=42\n",
      "running time=1658.3610708713531\n",
      "308\n",
      "[1.0e+00 2.7e+01 1.0e-01 1.0e-01 1.0e-01 3.0e-01 1.0e+03 4.2e+01]\n",
      "[1.0, 27.0, 0.1, 0.1, 0.1, 0.3, 1000.0, 42.0]\n"
     ]
    },
    {
     "name": "stderr",
     "output_type": "stream",
     "text": [
      "C:\\Users\\guoqq17\\anaconda3\\lib\\site-packages\\ipykernel_launcher.py:1081: FutureWarning: `alpha` was deprecated in version 1.0 and will be removed in 1.2. Use `alpha_W` and `alpha_H` instead\n"
     ]
    },
    {
     "name": "stdout",
     "output_type": "stream",
     "text": [
      "zero_index=1, k=27, lambda=0.1, alpha_w=NA, alpha_h=0.1, w0=0.3, max_iter=1000, random_state=42\n",
      "running time=1656.454481601715\n",
      "289\n",
      "[1.0e+00 2.7e+01 1.0e-01 1.0e-01 1.0e-01 4.0e-01 1.0e+03 4.2e+01]\n",
      "[1.0, 27.0, 0.1, 0.1, 0.1, 0.4, 1000.0, 42.0]\n"
     ]
    },
    {
     "name": "stderr",
     "output_type": "stream",
     "text": [
      "C:\\Users\\guoqq17\\anaconda3\\lib\\site-packages\\ipykernel_launcher.py:1081: FutureWarning: `alpha` was deprecated in version 1.0 and will be removed in 1.2. Use `alpha_W` and `alpha_H` instead\n"
     ]
    },
    {
     "name": "stdout",
     "output_type": "stream",
     "text": [
      "zero_index=1, k=27, lambda=0.1, alpha_w=NA, alpha_h=0.1, w0=0.4, max_iter=1000, random_state=42\n",
      "running time=1659.8901500701904\n",
      "274\n",
      "[1.0e+00 2.7e+01 1.0e-01 1.0e-01 1.0e-01 5.0e-01 1.0e+03 4.2e+01]\n",
      "[1.0, 27.0, 0.1, 0.1, 0.1, 0.5, 1000.0, 42.0]\n"
     ]
    },
    {
     "name": "stderr",
     "output_type": "stream",
     "text": [
      "C:\\Users\\guoqq17\\anaconda3\\lib\\site-packages\\ipykernel_launcher.py:1081: FutureWarning: `alpha` was deprecated in version 1.0 and will be removed in 1.2. Use `alpha_W` and `alpha_H` instead\n"
     ]
    },
    {
     "name": "stdout",
     "output_type": "stream",
     "text": [
      "zero_index=1, k=27, lambda=0.1, alpha_w=NA, alpha_h=0.1, w0=0.5, max_iter=1000, random_state=42\n",
      "running time=1658.6430277824402\n",
      "267\n",
      "[1.0e+00 2.7e+01 1.0e-01 1.0e-01 1.0e-01 6.0e-01 1.0e+03 4.2e+01]\n",
      "[1.0, 27.0, 0.1, 0.1, 0.1, 0.6, 1000.0, 42.0]\n"
     ]
    },
    {
     "name": "stderr",
     "output_type": "stream",
     "text": [
      "C:\\Users\\guoqq17\\anaconda3\\lib\\site-packages\\ipykernel_launcher.py:1081: FutureWarning: `alpha` was deprecated in version 1.0 and will be removed in 1.2. Use `alpha_W` and `alpha_H` instead\n"
     ]
    },
    {
     "name": "stdout",
     "output_type": "stream",
     "text": [
      "zero_index=1, k=27, lambda=0.1, alpha_w=NA, alpha_h=0.1, w0=0.6, max_iter=1000, random_state=42\n",
      "running time=1660.573891878128\n",
      "260\n",
      "[1.0e+00 2.7e+01 1.0e-01 1.0e-01 1.0e-01 7.0e-01 1.0e+03 4.2e+01]\n",
      "[1.0, 27.0, 0.1, 0.1, 0.1, 0.7, 1000.0, 42.0]\n"
     ]
    },
    {
     "name": "stderr",
     "output_type": "stream",
     "text": [
      "C:\\Users\\guoqq17\\anaconda3\\lib\\site-packages\\ipykernel_launcher.py:1081: FutureWarning: `alpha` was deprecated in version 1.0 and will be removed in 1.2. Use `alpha_W` and `alpha_H` instead\n"
     ]
    },
    {
     "name": "stdout",
     "output_type": "stream",
     "text": [
      "zero_index=1, k=27, lambda=0.1, alpha_w=NA, alpha_h=0.1, w0=0.7, max_iter=1000, random_state=42\n",
      "running time=1656.4526116847992\n",
      "249\n",
      "[1.0e+00 2.7e+01 1.0e-01 1.0e-01 1.0e-01 8.0e-01 1.0e+03 4.2e+01]\n",
      "[1.0, 27.0, 0.1, 0.1, 0.1, 0.8, 1000.0, 42.0]\n"
     ]
    },
    {
     "name": "stderr",
     "output_type": "stream",
     "text": [
      "C:\\Users\\guoqq17\\anaconda3\\lib\\site-packages\\ipykernel_launcher.py:1081: FutureWarning: `alpha` was deprecated in version 1.0 and will be removed in 1.2. Use `alpha_W` and `alpha_H` instead\n"
     ]
    },
    {
     "name": "stdout",
     "output_type": "stream",
     "text": [
      "zero_index=1, k=27, lambda=0.1, alpha_w=NA, alpha_h=0.1, w0=0.8, max_iter=1000, random_state=42\n",
      "running time=1661.1041190624237\n",
      "244\n",
      "[1.0e+00 2.7e+01 1.0e-01 1.0e-01 1.0e-01 9.0e-01 1.0e+03 4.2e+01]\n",
      "[1.0, 27.0, 0.1, 0.1, 0.1, 0.9, 1000.0, 42.0]\n"
     ]
    },
    {
     "name": "stderr",
     "output_type": "stream",
     "text": [
      "C:\\Users\\guoqq17\\anaconda3\\lib\\site-packages\\ipykernel_launcher.py:1081: FutureWarning: `alpha` was deprecated in version 1.0 and will be removed in 1.2. Use `alpha_W` and `alpha_H` instead\n"
     ]
    },
    {
     "name": "stdout",
     "output_type": "stream",
     "text": [
      "zero_index=1, k=27, lambda=0.1, alpha_w=NA, alpha_h=0.1, w0=0.9, max_iter=1000, random_state=42\n",
      "running time=1658.8296203613281\n",
      "237\n",
      "[1.0e+00 2.7e+01 1.0e-01 1.0e-01 1.0e-01 1.0e+00 1.0e+03 4.2e+01]\n",
      "[1.0, 27.0, 0.1, 0.1, 0.1, 1.0, 1000.0, 42.0]\n"
     ]
    },
    {
     "name": "stderr",
     "output_type": "stream",
     "text": [
      "C:\\Users\\guoqq17\\anaconda3\\lib\\site-packages\\ipykernel_launcher.py:1081: FutureWarning: `alpha` was deprecated in version 1.0 and will be removed in 1.2. Use `alpha_W` and `alpha_H` instead\n"
     ]
    },
    {
     "name": "stdout",
     "output_type": "stream",
     "text": [
      "zero_index=1, k=27, lambda=0.1, alpha_w=NA, alpha_h=0.1, w0=1.0, max_iter=1000, random_state=42\n",
      "running time=1654.8399703502655\n",
      "226\n",
      "[1.0e+00 2.8e+01 1.0e-01 1.0e-01 1.0e-01 1.0e-01 1.0e+03 4.2e+01]\n",
      "[1.0, 28.0, 0.1, 0.1, 0.1, 0.1, 1000.0, 42.0]\n"
     ]
    },
    {
     "name": "stderr",
     "output_type": "stream",
     "text": [
      "C:\\Users\\guoqq17\\anaconda3\\lib\\site-packages\\ipykernel_launcher.py:1081: FutureWarning: `alpha` was deprecated in version 1.0 and will be removed in 1.2. Use `alpha_W` and `alpha_H` instead\n"
     ]
    },
    {
     "name": "stdout",
     "output_type": "stream",
     "text": [
      "zero_index=1, k=28, lambda=0.1, alpha_w=NA, alpha_h=0.1, w0=0.1, max_iter=1000, random_state=42\n",
      "running time=1655.0949137210846\n",
      "334\n",
      "[1.0e+00 2.8e+01 1.0e-01 1.0e-01 1.0e-01 2.0e-01 1.0e+03 4.2e+01]\n",
      "[1.0, 28.0, 0.1, 0.1, 0.1, 0.2, 1000.0, 42.0]\n"
     ]
    },
    {
     "name": "stderr",
     "output_type": "stream",
     "text": [
      "C:\\Users\\guoqq17\\anaconda3\\lib\\site-packages\\ipykernel_launcher.py:1081: FutureWarning: `alpha` was deprecated in version 1.0 and will be removed in 1.2. Use `alpha_W` and `alpha_H` instead\n"
     ]
    },
    {
     "name": "stdout",
     "output_type": "stream",
     "text": [
      "zero_index=1, k=28, lambda=0.1, alpha_w=NA, alpha_h=0.1, w0=0.2, max_iter=1000, random_state=42\n",
      "running time=1657.9459481239319\n",
      "316\n",
      "[1.0e+00 2.8e+01 1.0e-01 1.0e-01 1.0e-01 3.0e-01 1.0e+03 4.2e+01]\n",
      "[1.0, 28.0, 0.1, 0.1, 0.1, 0.3, 1000.0, 42.0]\n"
     ]
    },
    {
     "name": "stderr",
     "output_type": "stream",
     "text": [
      "C:\\Users\\guoqq17\\anaconda3\\lib\\site-packages\\ipykernel_launcher.py:1081: FutureWarning: `alpha` was deprecated in version 1.0 and will be removed in 1.2. Use `alpha_W` and `alpha_H` instead\n"
     ]
    },
    {
     "name": "stdout",
     "output_type": "stream",
     "text": [
      "zero_index=1, k=28, lambda=0.1, alpha_w=NA, alpha_h=0.1, w0=0.3, max_iter=1000, random_state=42\n",
      "running time=1653.5271482467651\n",
      "297\n",
      "[1.0e+00 2.8e+01 1.0e-01 1.0e-01 1.0e-01 4.0e-01 1.0e+03 4.2e+01]\n",
      "[1.0, 28.0, 0.1, 0.1, 0.1, 0.4, 1000.0, 42.0]\n"
     ]
    },
    {
     "name": "stderr",
     "output_type": "stream",
     "text": [
      "C:\\Users\\guoqq17\\anaconda3\\lib\\site-packages\\ipykernel_launcher.py:1081: FutureWarning: `alpha` was deprecated in version 1.0 and will be removed in 1.2. Use `alpha_W` and `alpha_H` instead\n"
     ]
    },
    {
     "name": "stdout",
     "output_type": "stream",
     "text": [
      "zero_index=1, k=28, lambda=0.1, alpha_w=NA, alpha_h=0.1, w0=0.4, max_iter=1000, random_state=42\n",
      "running time=1658.6065382957458\n",
      "284\n",
      "[1.0e+00 2.8e+01 1.0e-01 1.0e-01 1.0e-01 5.0e-01 1.0e+03 4.2e+01]\n",
      "[1.0, 28.0, 0.1, 0.1, 0.1, 0.5, 1000.0, 42.0]\n"
     ]
    },
    {
     "name": "stderr",
     "output_type": "stream",
     "text": [
      "C:\\Users\\guoqq17\\anaconda3\\lib\\site-packages\\ipykernel_launcher.py:1081: FutureWarning: `alpha` was deprecated in version 1.0 and will be removed in 1.2. Use `alpha_W` and `alpha_H` instead\n"
     ]
    },
    {
     "name": "stdout",
     "output_type": "stream",
     "text": [
      "zero_index=1, k=28, lambda=0.1, alpha_w=NA, alpha_h=0.1, w0=0.5, max_iter=1000, random_state=42\n",
      "running time=1653.5609114170074\n",
      "279\n",
      "[1.0e+00 2.8e+01 1.0e-01 1.0e-01 1.0e-01 6.0e-01 1.0e+03 4.2e+01]\n",
      "[1.0, 28.0, 0.1, 0.1, 0.1, 0.6, 1000.0, 42.0]\n"
     ]
    },
    {
     "name": "stderr",
     "output_type": "stream",
     "text": [
      "C:\\Users\\guoqq17\\anaconda3\\lib\\site-packages\\ipykernel_launcher.py:1081: FutureWarning: `alpha` was deprecated in version 1.0 and will be removed in 1.2. Use `alpha_W` and `alpha_H` instead\n"
     ]
    },
    {
     "name": "stdout",
     "output_type": "stream",
     "text": [
      "zero_index=1, k=28, lambda=0.1, alpha_w=NA, alpha_h=0.1, w0=0.6, max_iter=1000, random_state=42\n",
      "running time=1657.844758272171\n",
      "268\n",
      "[1.0e+00 2.8e+01 1.0e-01 1.0e-01 1.0e-01 7.0e-01 1.0e+03 4.2e+01]\n",
      "[1.0, 28.0, 0.1, 0.1, 0.1, 0.7, 1000.0, 42.0]\n"
     ]
    },
    {
     "name": "stderr",
     "output_type": "stream",
     "text": [
      "C:\\Users\\guoqq17\\anaconda3\\lib\\site-packages\\ipykernel_launcher.py:1081: FutureWarning: `alpha` was deprecated in version 1.0 and will be removed in 1.2. Use `alpha_W` and `alpha_H` instead\n"
     ]
    },
    {
     "name": "stdout",
     "output_type": "stream",
     "text": [
      "zero_index=1, k=28, lambda=0.1, alpha_w=NA, alpha_h=0.1, w0=0.7, max_iter=1000, random_state=42\n",
      "running time=1655.1489946842194\n",
      "261\n",
      "[1.0e+00 2.8e+01 1.0e-01 1.0e-01 1.0e-01 8.0e-01 1.0e+03 4.2e+01]\n",
      "[1.0, 28.0, 0.1, 0.1, 0.1, 0.8, 1000.0, 42.0]\n"
     ]
    },
    {
     "name": "stderr",
     "output_type": "stream",
     "text": [
      "C:\\Users\\guoqq17\\anaconda3\\lib\\site-packages\\ipykernel_launcher.py:1081: FutureWarning: `alpha` was deprecated in version 1.0 and will be removed in 1.2. Use `alpha_W` and `alpha_H` instead\n"
     ]
    },
    {
     "name": "stdout",
     "output_type": "stream",
     "text": [
      "zero_index=1, k=28, lambda=0.1, alpha_w=NA, alpha_h=0.1, w0=0.8, max_iter=1000, random_state=42\n",
      "running time=1656.912071466446\n",
      "253\n",
      "[1.0e+00 2.8e+01 1.0e-01 1.0e-01 1.0e-01 9.0e-01 1.0e+03 4.2e+01]\n",
      "[1.0, 28.0, 0.1, 0.1, 0.1, 0.9, 1000.0, 42.0]\n"
     ]
    },
    {
     "name": "stderr",
     "output_type": "stream",
     "text": [
      "C:\\Users\\guoqq17\\anaconda3\\lib\\site-packages\\ipykernel_launcher.py:1081: FutureWarning: `alpha` was deprecated in version 1.0 and will be removed in 1.2. Use `alpha_W` and `alpha_H` instead\n"
     ]
    },
    {
     "name": "stdout",
     "output_type": "stream",
     "text": [
      "zero_index=1, k=28, lambda=0.1, alpha_w=NA, alpha_h=0.1, w0=0.9, max_iter=1000, random_state=42\n",
      "running time=1658.2383425235748\n",
      "247\n",
      "[1.0e+00 2.8e+01 1.0e-01 1.0e-01 1.0e-01 1.0e+00 1.0e+03 4.2e+01]\n",
      "[1.0, 28.0, 0.1, 0.1, 0.1, 1.0, 1000.0, 42.0]\n"
     ]
    },
    {
     "name": "stderr",
     "output_type": "stream",
     "text": [
      "C:\\Users\\guoqq17\\anaconda3\\lib\\site-packages\\ipykernel_launcher.py:1081: FutureWarning: `alpha` was deprecated in version 1.0 and will be removed in 1.2. Use `alpha_W` and `alpha_H` instead\n"
     ]
    },
    {
     "name": "stdout",
     "output_type": "stream",
     "text": [
      "zero_index=1, k=28, lambda=0.1, alpha_w=NA, alpha_h=0.1, w0=1.0, max_iter=1000, random_state=42\n",
      "running time=1663.5128490924835\n",
      "235\n",
      "[1.0e+00 2.9e+01 1.0e-01 1.0e-01 1.0e-01 1.0e-01 1.0e+03 4.2e+01]\n",
      "[1.0, 29.0, 0.1, 0.1, 0.1, 0.1, 1000.0, 42.0]\n"
     ]
    },
    {
     "name": "stderr",
     "output_type": "stream",
     "text": [
      "C:\\Users\\guoqq17\\anaconda3\\lib\\site-packages\\ipykernel_launcher.py:1081: FutureWarning: `alpha` was deprecated in version 1.0 and will be removed in 1.2. Use `alpha_W` and `alpha_H` instead\n"
     ]
    },
    {
     "name": "stdout",
     "output_type": "stream",
     "text": [
      "zero_index=1, k=29, lambda=0.1, alpha_w=NA, alpha_h=0.1, w0=0.1, max_iter=1000, random_state=42\n",
      "running time=1659.4372625350952\n",
      "345\n",
      "[1.0e+00 2.9e+01 1.0e-01 1.0e-01 1.0e-01 2.0e-01 1.0e+03 4.2e+01]\n",
      "[1.0, 29.0, 0.1, 0.1, 0.1, 0.2, 1000.0, 42.0]\n"
     ]
    },
    {
     "name": "stderr",
     "output_type": "stream",
     "text": [
      "C:\\Users\\guoqq17\\anaconda3\\lib\\site-packages\\ipykernel_launcher.py:1081: FutureWarning: `alpha` was deprecated in version 1.0 and will be removed in 1.2. Use `alpha_W` and `alpha_H` instead\n"
     ]
    },
    {
     "name": "stdout",
     "output_type": "stream",
     "text": [
      "zero_index=1, k=29, lambda=0.1, alpha_w=NA, alpha_h=0.1, w0=0.2, max_iter=1000, random_state=42\n",
      "running time=1658.8492939472198\n",
      "326\n",
      "[1.0e+00 2.9e+01 1.0e-01 1.0e-01 1.0e-01 3.0e-01 1.0e+03 4.2e+01]\n",
      "[1.0, 29.0, 0.1, 0.1, 0.1, 0.3, 1000.0, 42.0]\n"
     ]
    },
    {
     "name": "stderr",
     "output_type": "stream",
     "text": [
      "C:\\Users\\guoqq17\\anaconda3\\lib\\site-packages\\ipykernel_launcher.py:1081: FutureWarning: `alpha` was deprecated in version 1.0 and will be removed in 1.2. Use `alpha_W` and `alpha_H` instead\n"
     ]
    },
    {
     "name": "stdout",
     "output_type": "stream",
     "text": [
      "zero_index=1, k=29, lambda=0.1, alpha_w=NA, alpha_h=0.1, w0=0.3, max_iter=1000, random_state=42\n",
      "running time=1661.3778834342957\n",
      "307\n",
      "[1.0e+00 2.9e+01 1.0e-01 1.0e-01 1.0e-01 4.0e-01 1.0e+03 4.2e+01]\n",
      "[1.0, 29.0, 0.1, 0.1, 0.1, 0.4, 1000.0, 42.0]\n"
     ]
    },
    {
     "name": "stderr",
     "output_type": "stream",
     "text": [
      "C:\\Users\\guoqq17\\anaconda3\\lib\\site-packages\\ipykernel_launcher.py:1081: FutureWarning: `alpha` was deprecated in version 1.0 and will be removed in 1.2. Use `alpha_W` and `alpha_H` instead\n"
     ]
    },
    {
     "name": "stdout",
     "output_type": "stream",
     "text": [
      "zero_index=1, k=29, lambda=0.1, alpha_w=NA, alpha_h=0.1, w0=0.4, max_iter=1000, random_state=42\n",
      "running time=1658.4915082454681\n",
      "291\n",
      "[1.0e+00 2.9e+01 1.0e-01 1.0e-01 1.0e-01 5.0e-01 1.0e+03 4.2e+01]\n",
      "[1.0, 29.0, 0.1, 0.1, 0.1, 0.5, 1000.0, 42.0]\n"
     ]
    },
    {
     "name": "stderr",
     "output_type": "stream",
     "text": [
      "C:\\Users\\guoqq17\\anaconda3\\lib\\site-packages\\ipykernel_launcher.py:1081: FutureWarning: `alpha` was deprecated in version 1.0 and will be removed in 1.2. Use `alpha_W` and `alpha_H` instead\n"
     ]
    },
    {
     "name": "stdout",
     "output_type": "stream",
     "text": [
      "zero_index=1, k=29, lambda=0.1, alpha_w=NA, alpha_h=0.1, w0=0.5, max_iter=1000, random_state=42\n",
      "running time=1657.5120630264282\n",
      "287\n",
      "[1.0e+00 2.9e+01 1.0e-01 1.0e-01 1.0e-01 6.0e-01 1.0e+03 4.2e+01]\n",
      "[1.0, 29.0, 0.1, 0.1, 0.1, 0.6, 1000.0, 42.0]\n"
     ]
    },
    {
     "name": "stderr",
     "output_type": "stream",
     "text": [
      "C:\\Users\\guoqq17\\anaconda3\\lib\\site-packages\\ipykernel_launcher.py:1081: FutureWarning: `alpha` was deprecated in version 1.0 and will be removed in 1.2. Use `alpha_W` and `alpha_H` instead\n"
     ]
    },
    {
     "name": "stdout",
     "output_type": "stream",
     "text": [
      "zero_index=1, k=29, lambda=0.1, alpha_w=NA, alpha_h=0.1, w0=0.6, max_iter=1000, random_state=42\n",
      "running time=1660.4958634376526\n",
      "279\n",
      "[1.0e+00 2.9e+01 1.0e-01 1.0e-01 1.0e-01 7.0e-01 1.0e+03 4.2e+01]\n",
      "[1.0, 29.0, 0.1, 0.1, 0.1, 0.7, 1000.0, 42.0]\n"
     ]
    },
    {
     "name": "stderr",
     "output_type": "stream",
     "text": [
      "C:\\Users\\guoqq17\\anaconda3\\lib\\site-packages\\ipykernel_launcher.py:1081: FutureWarning: `alpha` was deprecated in version 1.0 and will be removed in 1.2. Use `alpha_W` and `alpha_H` instead\n"
     ]
    },
    {
     "name": "stdout",
     "output_type": "stream",
     "text": [
      "zero_index=1, k=29, lambda=0.1, alpha_w=NA, alpha_h=0.1, w0=0.7, max_iter=1000, random_state=42\n",
      "running time=1663.3826372623444\n",
      "257\n",
      "[1.0e+00 2.9e+01 1.0e-01 1.0e-01 1.0e-01 8.0e-01 1.0e+03 4.2e+01]\n",
      "[1.0, 29.0, 0.1, 0.1, 0.1, 0.8, 1000.0, 42.0]\n"
     ]
    },
    {
     "name": "stderr",
     "output_type": "stream",
     "text": [
      "C:\\Users\\guoqq17\\anaconda3\\lib\\site-packages\\ipykernel_launcher.py:1081: FutureWarning: `alpha` was deprecated in version 1.0 and will be removed in 1.2. Use `alpha_W` and `alpha_H` instead\n"
     ]
    },
    {
     "name": "stdout",
     "output_type": "stream",
     "text": [
      "zero_index=1, k=29, lambda=0.1, alpha_w=NA, alpha_h=0.1, w0=0.8, max_iter=1000, random_state=42\n",
      "running time=1659.164939403534\n",
      "252\n",
      "[1.0e+00 2.9e+01 1.0e-01 1.0e-01 1.0e-01 9.0e-01 1.0e+03 4.2e+01]\n",
      "[1.0, 29.0, 0.1, 0.1, 0.1, 0.9, 1000.0, 42.0]\n"
     ]
    },
    {
     "name": "stderr",
     "output_type": "stream",
     "text": [
      "C:\\Users\\guoqq17\\anaconda3\\lib\\site-packages\\ipykernel_launcher.py:1081: FutureWarning: `alpha` was deprecated in version 1.0 and will be removed in 1.2. Use `alpha_W` and `alpha_H` instead\n"
     ]
    },
    {
     "name": "stdout",
     "output_type": "stream",
     "text": [
      "zero_index=1, k=29, lambda=0.1, alpha_w=NA, alpha_h=0.1, w0=0.9, max_iter=1000, random_state=42\n",
      "running time=1661.044861316681\n",
      "268\n",
      "[1.0e+00 2.9e+01 1.0e-01 1.0e-01 1.0e-01 1.0e+00 1.0e+03 4.2e+01]\n",
      "[1.0, 29.0, 0.1, 0.1, 0.1, 1.0, 1000.0, 42.0]\n"
     ]
    },
    {
     "name": "stderr",
     "output_type": "stream",
     "text": [
      "C:\\Users\\guoqq17\\anaconda3\\lib\\site-packages\\ipykernel_launcher.py:1081: FutureWarning: `alpha` was deprecated in version 1.0 and will be removed in 1.2. Use `alpha_W` and `alpha_H` instead\n"
     ]
    },
    {
     "name": "stdout",
     "output_type": "stream",
     "text": [
      "zero_index=1, k=29, lambda=0.1, alpha_w=NA, alpha_h=0.1, w0=1.0, max_iter=1000, random_state=42\n",
      "running time=1660.3799579143524\n",
      "256\n",
      "[1.0e+00 3.0e+01 1.0e-01 1.0e-01 1.0e-01 1.0e-01 1.0e+03 4.2e+01]\n",
      "[1.0, 30.0, 0.1, 0.1, 0.1, 0.1, 1000.0, 42.0]\n"
     ]
    },
    {
     "name": "stderr",
     "output_type": "stream",
     "text": [
      "C:\\Users\\guoqq17\\anaconda3\\lib\\site-packages\\ipykernel_launcher.py:1081: FutureWarning: `alpha` was deprecated in version 1.0 and will be removed in 1.2. Use `alpha_W` and `alpha_H` instead\n"
     ]
    },
    {
     "name": "stdout",
     "output_type": "stream",
     "text": [
      "zero_index=1, k=30, lambda=0.1, alpha_w=NA, alpha_h=0.1, w0=0.1, max_iter=1000, random_state=42\n",
      "running time=1658.030589580536\n",
      "343\n",
      "[1.0e+00 3.0e+01 1.0e-01 1.0e-01 1.0e-01 2.0e-01 1.0e+03 4.2e+01]\n",
      "[1.0, 30.0, 0.1, 0.1, 0.1, 0.2, 1000.0, 42.0]\n"
     ]
    },
    {
     "name": "stderr",
     "output_type": "stream",
     "text": [
      "C:\\Users\\guoqq17\\anaconda3\\lib\\site-packages\\ipykernel_launcher.py:1081: FutureWarning: `alpha` was deprecated in version 1.0 and will be removed in 1.2. Use `alpha_W` and `alpha_H` instead\n"
     ]
    },
    {
     "name": "stdout",
     "output_type": "stream",
     "text": [
      "zero_index=1, k=30, lambda=0.1, alpha_w=NA, alpha_h=0.1, w0=0.2, max_iter=1000, random_state=42\n",
      "running time=1661.6952579021454\n",
      "326\n",
      "[1.0e+00 3.0e+01 1.0e-01 1.0e-01 1.0e-01 3.0e-01 1.0e+03 4.2e+01]\n",
      "[1.0, 30.0, 0.1, 0.1, 0.1, 0.3, 1000.0, 42.0]\n"
     ]
    },
    {
     "name": "stderr",
     "output_type": "stream",
     "text": [
      "C:\\Users\\guoqq17\\anaconda3\\lib\\site-packages\\ipykernel_launcher.py:1081: FutureWarning: `alpha` was deprecated in version 1.0 and will be removed in 1.2. Use `alpha_W` and `alpha_H` instead\n"
     ]
    },
    {
     "name": "stdout",
     "output_type": "stream",
     "text": [
      "zero_index=1, k=30, lambda=0.1, alpha_w=NA, alpha_h=0.1, w0=0.3, max_iter=1000, random_state=42\n",
      "running time=1661.9130790233612\n",
      "308\n",
      "[1.0e+00 3.0e+01 1.0e-01 1.0e-01 1.0e-01 4.0e-01 1.0e+03 4.2e+01]\n",
      "[1.0, 30.0, 0.1, 0.1, 0.1, 0.4, 1000.0, 42.0]\n"
     ]
    },
    {
     "name": "stderr",
     "output_type": "stream",
     "text": [
      "C:\\Users\\guoqq17\\anaconda3\\lib\\site-packages\\ipykernel_launcher.py:1081: FutureWarning: `alpha` was deprecated in version 1.0 and will be removed in 1.2. Use `alpha_W` and `alpha_H` instead\n"
     ]
    },
    {
     "name": "stdout",
     "output_type": "stream",
     "text": [
      "zero_index=1, k=30, lambda=0.1, alpha_w=NA, alpha_h=0.1, w0=0.4, max_iter=1000, random_state=42\n",
      "running time=1670.0927922725677\n",
      "293\n",
      "[1.0e+00 3.0e+01 1.0e-01 1.0e-01 1.0e-01 5.0e-01 1.0e+03 4.2e+01]\n",
      "[1.0, 30.0, 0.1, 0.1, 0.1, 0.5, 1000.0, 42.0]\n"
     ]
    },
    {
     "name": "stderr",
     "output_type": "stream",
     "text": [
      "C:\\Users\\guoqq17\\anaconda3\\lib\\site-packages\\ipykernel_launcher.py:1081: FutureWarning: `alpha` was deprecated in version 1.0 and will be removed in 1.2. Use `alpha_W` and `alpha_H` instead\n"
     ]
    },
    {
     "name": "stdout",
     "output_type": "stream",
     "text": [
      "zero_index=1, k=30, lambda=0.1, alpha_w=NA, alpha_h=0.1, w0=0.5, max_iter=1000, random_state=42\n",
      "running time=1662.4998497962952\n",
      "285\n",
      "[1.0e+00 3.0e+01 1.0e-01 1.0e-01 1.0e-01 6.0e-01 1.0e+03 4.2e+01]\n",
      "[1.0, 30.0, 0.1, 0.1, 0.1, 0.6, 1000.0, 42.0]\n"
     ]
    },
    {
     "name": "stderr",
     "output_type": "stream",
     "text": [
      "C:\\Users\\guoqq17\\anaconda3\\lib\\site-packages\\ipykernel_launcher.py:1081: FutureWarning: `alpha` was deprecated in version 1.0 and will be removed in 1.2. Use `alpha_W` and `alpha_H` instead\n"
     ]
    },
    {
     "name": "stdout",
     "output_type": "stream",
     "text": [
      "zero_index=1, k=30, lambda=0.1, alpha_w=NA, alpha_h=0.1, w0=0.6, max_iter=1000, random_state=42\n",
      "running time=1663.1861410140991\n",
      "278\n",
      "[1.0e+00 3.0e+01 1.0e-01 1.0e-01 1.0e-01 7.0e-01 1.0e+03 4.2e+01]\n",
      "[1.0, 30.0, 0.1, 0.1, 0.1, 0.7, 1000.0, 42.0]\n"
     ]
    },
    {
     "name": "stderr",
     "output_type": "stream",
     "text": [
      "C:\\Users\\guoqq17\\anaconda3\\lib\\site-packages\\ipykernel_launcher.py:1081: FutureWarning: `alpha` was deprecated in version 1.0 and will be removed in 1.2. Use `alpha_W` and `alpha_H` instead\n"
     ]
    },
    {
     "name": "stdout",
     "output_type": "stream",
     "text": [
      "zero_index=1, k=30, lambda=0.1, alpha_w=NA, alpha_h=0.1, w0=0.7, max_iter=1000, random_state=42\n",
      "running time=1659.961344718933\n",
      "271\n",
      "[1.0e+00 3.0e+01 1.0e-01 1.0e-01 1.0e-01 8.0e-01 1.0e+03 4.2e+01]\n",
      "[1.0, 30.0, 0.1, 0.1, 0.1, 0.8, 1000.0, 42.0]\n"
     ]
    },
    {
     "name": "stderr",
     "output_type": "stream",
     "text": [
      "C:\\Users\\guoqq17\\anaconda3\\lib\\site-packages\\ipykernel_launcher.py:1081: FutureWarning: `alpha` was deprecated in version 1.0 and will be removed in 1.2. Use `alpha_W` and `alpha_H` instead\n"
     ]
    },
    {
     "name": "stdout",
     "output_type": "stream",
     "text": [
      "zero_index=1, k=30, lambda=0.1, alpha_w=NA, alpha_h=0.1, w0=0.8, max_iter=1000, random_state=42\n",
      "running time=1662.0833065509796\n",
      "264\n",
      "[1.0e+00 3.0e+01 1.0e-01 1.0e-01 1.0e-01 9.0e-01 1.0e+03 4.2e+01]\n",
      "[1.0, 30.0, 0.1, 0.1, 0.1, 0.9, 1000.0, 42.0]\n"
     ]
    },
    {
     "name": "stderr",
     "output_type": "stream",
     "text": [
      "C:\\Users\\guoqq17\\anaconda3\\lib\\site-packages\\ipykernel_launcher.py:1081: FutureWarning: `alpha` was deprecated in version 1.0 and will be removed in 1.2. Use `alpha_W` and `alpha_H` instead\n"
     ]
    },
    {
     "name": "stdout",
     "output_type": "stream",
     "text": [
      "zero_index=1, k=30, lambda=0.1, alpha_w=NA, alpha_h=0.1, w0=0.9, max_iter=1000, random_state=42\n",
      "running time=1661.1515152454376\n",
      "257\n",
      "[1.0e+00 3.0e+01 1.0e-01 1.0e-01 1.0e-01 1.0e+00 1.0e+03 4.2e+01]\n",
      "[1.0, 30.0, 0.1, 0.1, 0.1, 1.0, 1000.0, 42.0]\n"
     ]
    },
    {
     "name": "stderr",
     "output_type": "stream",
     "text": [
      "C:\\Users\\guoqq17\\anaconda3\\lib\\site-packages\\ipykernel_launcher.py:1081: FutureWarning: `alpha` was deprecated in version 1.0 and will be removed in 1.2. Use `alpha_W` and `alpha_H` instead\n"
     ]
    },
    {
     "name": "stdout",
     "output_type": "stream",
     "text": [
      "zero_index=1, k=30, lambda=0.1, alpha_w=NA, alpha_h=0.1, w0=1.0, max_iter=1000, random_state=42\n",
      "running time=1659.930044412613\n",
      "245\n",
      "[1.0e+00 3.1e+01 1.0e-01 1.0e-01 1.0e-01 1.0e-01 1.0e+03 4.2e+01]\n",
      "[1.0, 31.0, 0.1, 0.1, 0.1, 0.1, 1000.0, 42.0]\n"
     ]
    },
    {
     "name": "stderr",
     "output_type": "stream",
     "text": [
      "C:\\Users\\guoqq17\\anaconda3\\lib\\site-packages\\ipykernel_launcher.py:1081: FutureWarning: `alpha` was deprecated in version 1.0 and will be removed in 1.2. Use `alpha_W` and `alpha_H` instead\n"
     ]
    },
    {
     "name": "stdout",
     "output_type": "stream",
     "text": [
      "zero_index=1, k=31, lambda=0.1, alpha_w=NA, alpha_h=0.1, w0=0.1, max_iter=1000, random_state=42\n",
      "running time=1665.7115952968597\n",
      "347\n",
      "[1.0e+00 3.1e+01 1.0e-01 1.0e-01 1.0e-01 2.0e-01 1.0e+03 4.2e+01]\n",
      "[1.0, 31.0, 0.1, 0.1, 0.1, 0.2, 1000.0, 42.0]\n"
     ]
    },
    {
     "name": "stderr",
     "output_type": "stream",
     "text": [
      "C:\\Users\\guoqq17\\anaconda3\\lib\\site-packages\\ipykernel_launcher.py:1081: FutureWarning: `alpha` was deprecated in version 1.0 and will be removed in 1.2. Use `alpha_W` and `alpha_H` instead\n"
     ]
    },
    {
     "name": "stdout",
     "output_type": "stream",
     "text": [
      "zero_index=1, k=31, lambda=0.1, alpha_w=NA, alpha_h=0.1, w0=0.2, max_iter=1000, random_state=42\n",
      "running time=1667.342283964157\n",
      "330\n",
      "[1.0e+00 3.1e+01 1.0e-01 1.0e-01 1.0e-01 3.0e-01 1.0e+03 4.2e+01]\n",
      "[1.0, 31.0, 0.1, 0.1, 0.1, 0.3, 1000.0, 42.0]\n"
     ]
    },
    {
     "name": "stderr",
     "output_type": "stream",
     "text": [
      "C:\\Users\\guoqq17\\anaconda3\\lib\\site-packages\\ipykernel_launcher.py:1081: FutureWarning: `alpha` was deprecated in version 1.0 and will be removed in 1.2. Use `alpha_W` and `alpha_H` instead\n"
     ]
    },
    {
     "name": "stdout",
     "output_type": "stream",
     "text": [
      "zero_index=1, k=31, lambda=0.1, alpha_w=NA, alpha_h=0.1, w0=0.3, max_iter=1000, random_state=42\n",
      "running time=1663.5489871501923\n",
      "309\n",
      "[1.0e+00 3.1e+01 1.0e-01 1.0e-01 1.0e-01 4.0e-01 1.0e+03 4.2e+01]\n",
      "[1.0, 31.0, 0.1, 0.1, 0.1, 0.4, 1000.0, 42.0]\n"
     ]
    },
    {
     "name": "stderr",
     "output_type": "stream",
     "text": [
      "C:\\Users\\guoqq17\\anaconda3\\lib\\site-packages\\ipykernel_launcher.py:1081: FutureWarning: `alpha` was deprecated in version 1.0 and will be removed in 1.2. Use `alpha_W` and `alpha_H` instead\n"
     ]
    },
    {
     "name": "stdout",
     "output_type": "stream",
     "text": [
      "zero_index=1, k=31, lambda=0.1, alpha_w=NA, alpha_h=0.1, w0=0.4, max_iter=1000, random_state=42\n",
      "running time=1664.1968007087708\n",
      "295\n",
      "[1.0e+00 3.1e+01 1.0e-01 1.0e-01 1.0e-01 5.0e-01 1.0e+03 4.2e+01]\n",
      "[1.0, 31.0, 0.1, 0.1, 0.1, 0.5, 1000.0, 42.0]\n"
     ]
    },
    {
     "name": "stderr",
     "output_type": "stream",
     "text": [
      "C:\\Users\\guoqq17\\anaconda3\\lib\\site-packages\\ipykernel_launcher.py:1081: FutureWarning: `alpha` was deprecated in version 1.0 and will be removed in 1.2. Use `alpha_W` and `alpha_H` instead\n"
     ]
    },
    {
     "name": "stdout",
     "output_type": "stream",
     "text": [
      "zero_index=1, k=31, lambda=0.1, alpha_w=NA, alpha_h=0.1, w0=0.5, max_iter=1000, random_state=42\n",
      "running time=1672.1405267715454\n",
      "289\n",
      "[1.0e+00 3.1e+01 1.0e-01 1.0e-01 1.0e-01 6.0e-01 1.0e+03 4.2e+01]\n",
      "[1.0, 31.0, 0.1, 0.1, 0.1, 0.6, 1000.0, 42.0]\n"
     ]
    },
    {
     "name": "stderr",
     "output_type": "stream",
     "text": [
      "C:\\Users\\guoqq17\\anaconda3\\lib\\site-packages\\ipykernel_launcher.py:1081: FutureWarning: `alpha` was deprecated in version 1.0 and will be removed in 1.2. Use `alpha_W` and `alpha_H` instead\n"
     ]
    },
    {
     "name": "stdout",
     "output_type": "stream",
     "text": [
      "zero_index=1, k=31, lambda=0.1, alpha_w=NA, alpha_h=0.1, w0=0.6, max_iter=1000, random_state=42\n",
      "running time=1662.1599571704865\n",
      "279\n",
      "[1.0e+00 3.1e+01 1.0e-01 1.0e-01 1.0e-01 7.0e-01 1.0e+03 4.2e+01]\n",
      "[1.0, 31.0, 0.1, 0.1, 0.1, 0.7, 1000.0, 42.0]\n"
     ]
    },
    {
     "name": "stderr",
     "output_type": "stream",
     "text": [
      "C:\\Users\\guoqq17\\anaconda3\\lib\\site-packages\\ipykernel_launcher.py:1081: FutureWarning: `alpha` was deprecated in version 1.0 and will be removed in 1.2. Use `alpha_W` and `alpha_H` instead\n"
     ]
    },
    {
     "name": "stdout",
     "output_type": "stream",
     "text": [
      "zero_index=1, k=31, lambda=0.1, alpha_w=NA, alpha_h=0.1, w0=0.7, max_iter=1000, random_state=42\n",
      "running time=1664.1059465408325\n",
      "271\n",
      "[1.0e+00 3.1e+01 1.0e-01 1.0e-01 1.0e-01 8.0e-01 1.0e+03 4.2e+01]\n",
      "[1.0, 31.0, 0.1, 0.1, 0.1, 0.8, 1000.0, 42.0]\n"
     ]
    },
    {
     "name": "stderr",
     "output_type": "stream",
     "text": [
      "C:\\Users\\guoqq17\\anaconda3\\lib\\site-packages\\ipykernel_launcher.py:1081: FutureWarning: `alpha` was deprecated in version 1.0 and will be removed in 1.2. Use `alpha_W` and `alpha_H` instead\n"
     ]
    },
    {
     "name": "stdout",
     "output_type": "stream",
     "text": [
      "zero_index=1, k=31, lambda=0.1, alpha_w=NA, alpha_h=0.1, w0=0.8, max_iter=1000, random_state=42\n",
      "running time=1663.0556433200836\n",
      "268\n",
      "[1.0e+00 3.1e+01 1.0e-01 1.0e-01 1.0e-01 9.0e-01 1.0e+03 4.2e+01]\n",
      "[1.0, 31.0, 0.1, 0.1, 0.1, 0.9, 1000.0, 42.0]\n"
     ]
    },
    {
     "name": "stderr",
     "output_type": "stream",
     "text": [
      "C:\\Users\\guoqq17\\anaconda3\\lib\\site-packages\\ipykernel_launcher.py:1081: FutureWarning: `alpha` was deprecated in version 1.0 and will be removed in 1.2. Use `alpha_W` and `alpha_H` instead\n"
     ]
    },
    {
     "name": "stdout",
     "output_type": "stream",
     "text": [
      "zero_index=1, k=31, lambda=0.1, alpha_w=NA, alpha_h=0.1, w0=0.9, max_iter=1000, random_state=42\n",
      "running time=1667.3152718544006\n",
      "260\n",
      "[1.0e+00 3.1e+01 1.0e-01 1.0e-01 1.0e-01 1.0e+00 1.0e+03 4.2e+01]\n",
      "[1.0, 31.0, 0.1, 0.1, 0.1, 1.0, 1000.0, 42.0]\n"
     ]
    },
    {
     "name": "stderr",
     "output_type": "stream",
     "text": [
      "C:\\Users\\guoqq17\\anaconda3\\lib\\site-packages\\ipykernel_launcher.py:1081: FutureWarning: `alpha` was deprecated in version 1.0 and will be removed in 1.2. Use `alpha_W` and `alpha_H` instead\n"
     ]
    },
    {
     "name": "stdout",
     "output_type": "stream",
     "text": [
      "zero_index=1, k=31, lambda=0.1, alpha_w=NA, alpha_h=0.1, w0=1.0, max_iter=1000, random_state=42\n",
      "running time=1664.5822522640228\n",
      "247\n",
      "[1.0e+00 3.2e+01 1.0e-01 1.0e-01 1.0e-01 1.0e-01 1.0e+03 4.2e+01]\n",
      "[1.0, 32.0, 0.1, 0.1, 0.1, 0.1, 1000.0, 42.0]\n"
     ]
    },
    {
     "name": "stderr",
     "output_type": "stream",
     "text": [
      "C:\\Users\\guoqq17\\anaconda3\\lib\\site-packages\\ipykernel_launcher.py:1081: FutureWarning: `alpha` was deprecated in version 1.0 and will be removed in 1.2. Use `alpha_W` and `alpha_H` instead\n"
     ]
    },
    {
     "name": "stdout",
     "output_type": "stream",
     "text": [
      "zero_index=1, k=32, lambda=0.1, alpha_w=NA, alpha_h=0.1, w0=0.1, max_iter=1000, random_state=42\n",
      "running time=1661.70317029953\n",
      "360\n",
      "[1.0e+00 3.2e+01 1.0e-01 1.0e-01 1.0e-01 2.0e-01 1.0e+03 4.2e+01]\n",
      "[1.0, 32.0, 0.1, 0.1, 0.1, 0.2, 1000.0, 42.0]\n"
     ]
    },
    {
     "name": "stderr",
     "output_type": "stream",
     "text": [
      "C:\\Users\\guoqq17\\anaconda3\\lib\\site-packages\\ipykernel_launcher.py:1081: FutureWarning: `alpha` was deprecated in version 1.0 and will be removed in 1.2. Use `alpha_W` and `alpha_H` instead\n"
     ]
    },
    {
     "name": "stdout",
     "output_type": "stream",
     "text": [
      "zero_index=1, k=32, lambda=0.1, alpha_w=NA, alpha_h=0.1, w0=0.2, max_iter=1000, random_state=42\n",
      "running time=1660.9944112300873\n",
      "338\n",
      "[1.0e+00 3.2e+01 1.0e-01 1.0e-01 1.0e-01 3.0e-01 1.0e+03 4.2e+01]\n",
      "[1.0, 32.0, 0.1, 0.1, 0.1, 0.3, 1000.0, 42.0]\n"
     ]
    },
    {
     "name": "stderr",
     "output_type": "stream",
     "text": [
      "C:\\Users\\guoqq17\\anaconda3\\lib\\site-packages\\ipykernel_launcher.py:1081: FutureWarning: `alpha` was deprecated in version 1.0 and will be removed in 1.2. Use `alpha_W` and `alpha_H` instead\n"
     ]
    },
    {
     "name": "stdout",
     "output_type": "stream",
     "text": [
      "zero_index=1, k=32, lambda=0.1, alpha_w=NA, alpha_h=0.1, w0=0.3, max_iter=1000, random_state=42\n",
      "running time=1661.0137639045715\n",
      "320\n",
      "[1.0e+00 3.2e+01 1.0e-01 1.0e-01 1.0e-01 4.0e-01 1.0e+03 4.2e+01]\n",
      "[1.0, 32.0, 0.1, 0.1, 0.1, 0.4, 1000.0, 42.0]\n"
     ]
    },
    {
     "name": "stderr",
     "output_type": "stream",
     "text": [
      "C:\\Users\\guoqq17\\anaconda3\\lib\\site-packages\\ipykernel_launcher.py:1081: FutureWarning: `alpha` was deprecated in version 1.0 and will be removed in 1.2. Use `alpha_W` and `alpha_H` instead\n"
     ]
    },
    {
     "name": "stdout",
     "output_type": "stream",
     "text": [
      "zero_index=1, k=32, lambda=0.1, alpha_w=NA, alpha_h=0.1, w0=0.4, max_iter=1000, random_state=42\n",
      "running time=1660.869381427765\n",
      "305\n",
      "[1.0e+00 3.2e+01 1.0e-01 1.0e-01 1.0e-01 5.0e-01 1.0e+03 4.2e+01]\n",
      "[1.0, 32.0, 0.1, 0.1, 0.1, 0.5, 1000.0, 42.0]\n"
     ]
    },
    {
     "name": "stderr",
     "output_type": "stream",
     "text": [
      "C:\\Users\\guoqq17\\anaconda3\\lib\\site-packages\\ipykernel_launcher.py:1081: FutureWarning: `alpha` was deprecated in version 1.0 and will be removed in 1.2. Use `alpha_W` and `alpha_H` instead\n"
     ]
    },
    {
     "name": "stdout",
     "output_type": "stream",
     "text": [
      "zero_index=1, k=32, lambda=0.1, alpha_w=NA, alpha_h=0.1, w0=0.5, max_iter=1000, random_state=42\n",
      "running time=1662.2760598659515\n",
      "299\n",
      "[1.0e+00 3.2e+01 1.0e-01 1.0e-01 1.0e-01 6.0e-01 1.0e+03 4.2e+01]\n",
      "[1.0, 32.0, 0.1, 0.1, 0.1, 0.6, 1000.0, 42.0]\n"
     ]
    },
    {
     "name": "stderr",
     "output_type": "stream",
     "text": [
      "C:\\Users\\guoqq17\\anaconda3\\lib\\site-packages\\ipykernel_launcher.py:1081: FutureWarning: `alpha` was deprecated in version 1.0 and will be removed in 1.2. Use `alpha_W` and `alpha_H` instead\n"
     ]
    },
    {
     "name": "stdout",
     "output_type": "stream",
     "text": [
      "zero_index=1, k=32, lambda=0.1, alpha_w=NA, alpha_h=0.1, w0=0.6, max_iter=1000, random_state=42\n",
      "running time=1662.9610381126404\n",
      "294\n",
      "[1.0e+00 3.2e+01 1.0e-01 1.0e-01 1.0e-01 7.0e-01 1.0e+03 4.2e+01]\n",
      "[1.0, 32.0, 0.1, 0.1, 0.1, 0.7, 1000.0, 42.0]\n"
     ]
    },
    {
     "name": "stderr",
     "output_type": "stream",
     "text": [
      "C:\\Users\\guoqq17\\anaconda3\\lib\\site-packages\\ipykernel_launcher.py:1081: FutureWarning: `alpha` was deprecated in version 1.0 and will be removed in 1.2. Use `alpha_W` and `alpha_H` instead\n"
     ]
    },
    {
     "name": "stdout",
     "output_type": "stream",
     "text": [
      "zero_index=1, k=32, lambda=0.1, alpha_w=NA, alpha_h=0.1, w0=0.7, max_iter=1000, random_state=42\n",
      "running time=1661.3155770301819\n",
      "284\n",
      "[1.0e+00 3.2e+01 1.0e-01 1.0e-01 1.0e-01 8.0e-01 1.0e+03 4.2e+01]\n",
      "[1.0, 32.0, 0.1, 0.1, 0.1, 0.8, 1000.0, 42.0]\n"
     ]
    },
    {
     "name": "stderr",
     "output_type": "stream",
     "text": [
      "C:\\Users\\guoqq17\\anaconda3\\lib\\site-packages\\ipykernel_launcher.py:1081: FutureWarning: `alpha` was deprecated in version 1.0 and will be removed in 1.2. Use `alpha_W` and `alpha_H` instead\n"
     ]
    },
    {
     "name": "stdout",
     "output_type": "stream",
     "text": [
      "zero_index=1, k=32, lambda=0.1, alpha_w=NA, alpha_h=0.1, w0=0.8, max_iter=1000, random_state=42\n",
      "running time=1663.5143866539001\n",
      "277\n",
      "[1.0e+00 3.2e+01 1.0e-01 1.0e-01 1.0e-01 9.0e-01 1.0e+03 4.2e+01]\n",
      "[1.0, 32.0, 0.1, 0.1, 0.1, 0.9, 1000.0, 42.0]\n"
     ]
    },
    {
     "name": "stderr",
     "output_type": "stream",
     "text": [
      "C:\\Users\\guoqq17\\anaconda3\\lib\\site-packages\\ipykernel_launcher.py:1081: FutureWarning: `alpha` was deprecated in version 1.0 and will be removed in 1.2. Use `alpha_W` and `alpha_H` instead\n"
     ]
    },
    {
     "name": "stdout",
     "output_type": "stream",
     "text": [
      "zero_index=1, k=32, lambda=0.1, alpha_w=NA, alpha_h=0.1, w0=0.9, max_iter=1000, random_state=42\n",
      "running time=1672.4741308689117\n",
      "270\n",
      "[1.0e+00 3.2e+01 1.0e-01 1.0e-01 1.0e-01 1.0e+00 1.0e+03 4.2e+01]\n",
      "[1.0, 32.0, 0.1, 0.1, 0.1, 1.0, 1000.0, 42.0]\n"
     ]
    },
    {
     "name": "stderr",
     "output_type": "stream",
     "text": [
      "C:\\Users\\guoqq17\\anaconda3\\lib\\site-packages\\ipykernel_launcher.py:1081: FutureWarning: `alpha` was deprecated in version 1.0 and will be removed in 1.2. Use `alpha_W` and `alpha_H` instead\n"
     ]
    },
    {
     "name": "stdout",
     "output_type": "stream",
     "text": [
      "zero_index=1, k=32, lambda=0.1, alpha_w=NA, alpha_h=0.1, w0=1.0, max_iter=1000, random_state=42\n",
      "running time=1661.4138159751892\n",
      "254\n",
      "[1.0e+00 3.3e+01 1.0e-01 1.0e-01 1.0e-01 1.0e-01 1.0e+03 4.2e+01]\n",
      "[1.0, 33.0, 0.1, 0.1, 0.1, 0.1, 1000.0, 42.0]\n"
     ]
    },
    {
     "name": "stderr",
     "output_type": "stream",
     "text": [
      "C:\\Users\\guoqq17\\anaconda3\\lib\\site-packages\\ipykernel_launcher.py:1081: FutureWarning: `alpha` was deprecated in version 1.0 and will be removed in 1.2. Use `alpha_W` and `alpha_H` instead\n"
     ]
    },
    {
     "name": "stdout",
     "output_type": "stream",
     "text": [
      "zero_index=1, k=33, lambda=0.1, alpha_w=NA, alpha_h=0.1, w0=0.1, max_iter=1000, random_state=42\n",
      "running time=1665.5314345359802\n",
      "341\n",
      "[1.0e+00 3.3e+01 1.0e-01 1.0e-01 1.0e-01 2.0e-01 1.0e+03 4.2e+01]\n",
      "[1.0, 33.0, 0.1, 0.1, 0.1, 0.2, 1000.0, 42.0]\n"
     ]
    },
    {
     "name": "stderr",
     "output_type": "stream",
     "text": [
      "C:\\Users\\guoqq17\\anaconda3\\lib\\site-packages\\ipykernel_launcher.py:1081: FutureWarning: `alpha` was deprecated in version 1.0 and will be removed in 1.2. Use `alpha_W` and `alpha_H` instead\n"
     ]
    },
    {
     "name": "stdout",
     "output_type": "stream",
     "text": [
      "zero_index=1, k=33, lambda=0.1, alpha_w=NA, alpha_h=0.1, w0=0.2, max_iter=1000, random_state=42\n",
      "running time=1667.3316686153412\n",
      "323\n",
      "[1.0e+00 3.3e+01 1.0e-01 1.0e-01 1.0e-01 3.0e-01 1.0e+03 4.2e+01]\n",
      "[1.0, 33.0, 0.1, 0.1, 0.1, 0.3, 1000.0, 42.0]\n"
     ]
    },
    {
     "name": "stderr",
     "output_type": "stream",
     "text": [
      "C:\\Users\\guoqq17\\anaconda3\\lib\\site-packages\\ipykernel_launcher.py:1081: FutureWarning: `alpha` was deprecated in version 1.0 and will be removed in 1.2. Use `alpha_W` and `alpha_H` instead\n"
     ]
    },
    {
     "name": "stdout",
     "output_type": "stream",
     "text": [
      "zero_index=1, k=33, lambda=0.1, alpha_w=NA, alpha_h=0.1, w0=0.3, max_iter=1000, random_state=42\n",
      "running time=1662.3078558444977\n",
      "304\n",
      "[1.0e+00 3.3e+01 1.0e-01 1.0e-01 1.0e-01 4.0e-01 1.0e+03 4.2e+01]\n",
      "[1.0, 33.0, 0.1, 0.1, 0.1, 0.4, 1000.0, 42.0]\n"
     ]
    },
    {
     "name": "stderr",
     "output_type": "stream",
     "text": [
      "C:\\Users\\guoqq17\\anaconda3\\lib\\site-packages\\ipykernel_launcher.py:1081: FutureWarning: `alpha` was deprecated in version 1.0 and will be removed in 1.2. Use `alpha_W` and `alpha_H` instead\n"
     ]
    },
    {
     "name": "stdout",
     "output_type": "stream",
     "text": [
      "zero_index=1, k=33, lambda=0.1, alpha_w=NA, alpha_h=0.1, w0=0.4, max_iter=1000, random_state=42\n",
      "running time=1661.9821190834045\n",
      "291\n",
      "[1.0e+00 3.3e+01 1.0e-01 1.0e-01 1.0e-01 5.0e-01 1.0e+03 4.2e+01]\n",
      "[1.0, 33.0, 0.1, 0.1, 0.1, 0.5, 1000.0, 42.0]\n"
     ]
    },
    {
     "name": "stderr",
     "output_type": "stream",
     "text": [
      "C:\\Users\\guoqq17\\anaconda3\\lib\\site-packages\\ipykernel_launcher.py:1081: FutureWarning: `alpha` was deprecated in version 1.0 and will be removed in 1.2. Use `alpha_W` and `alpha_H` instead\n"
     ]
    },
    {
     "name": "stdout",
     "output_type": "stream",
     "text": [
      "zero_index=1, k=33, lambda=0.1, alpha_w=NA, alpha_h=0.1, w0=0.5, max_iter=1000, random_state=42\n",
      "running time=1664.1843695640564\n",
      "280\n",
      "[1.0e+00 3.3e+01 1.0e-01 1.0e-01 1.0e-01 6.0e-01 1.0e+03 4.2e+01]\n",
      "[1.0, 33.0, 0.1, 0.1, 0.1, 0.6, 1000.0, 42.0]\n"
     ]
    },
    {
     "name": "stderr",
     "output_type": "stream",
     "text": [
      "C:\\Users\\guoqq17\\anaconda3\\lib\\site-packages\\ipykernel_launcher.py:1081: FutureWarning: `alpha` was deprecated in version 1.0 and will be removed in 1.2. Use `alpha_W` and `alpha_H` instead\n"
     ]
    },
    {
     "name": "stdout",
     "output_type": "stream",
     "text": [
      "zero_index=1, k=33, lambda=0.1, alpha_w=NA, alpha_h=0.1, w0=0.6, max_iter=1000, random_state=42\n",
      "running time=1663.4312574863434\n",
      "271\n",
      "[1.0e+00 3.3e+01 1.0e-01 1.0e-01 1.0e-01 7.0e-01 1.0e+03 4.2e+01]\n",
      "[1.0, 33.0, 0.1, 0.1, 0.1, 0.7, 1000.0, 42.0]\n"
     ]
    },
    {
     "name": "stderr",
     "output_type": "stream",
     "text": [
      "C:\\Users\\guoqq17\\anaconda3\\lib\\site-packages\\ipykernel_launcher.py:1081: FutureWarning: `alpha` was deprecated in version 1.0 and will be removed in 1.2. Use `alpha_W` and `alpha_H` instead\n"
     ]
    },
    {
     "name": "stdout",
     "output_type": "stream",
     "text": [
      "zero_index=1, k=33, lambda=0.1, alpha_w=NA, alpha_h=0.1, w0=0.7, max_iter=1000, random_state=42\n",
      "running time=1665.195264339447\n",
      "263\n",
      "[1.0e+00 3.3e+01 1.0e-01 1.0e-01 1.0e-01 8.0e-01 1.0e+03 4.2e+01]\n",
      "[1.0, 33.0, 0.1, 0.1, 0.1, 0.8, 1000.0, 42.0]\n"
     ]
    },
    {
     "name": "stderr",
     "output_type": "stream",
     "text": [
      "C:\\Users\\guoqq17\\anaconda3\\lib\\site-packages\\ipykernel_launcher.py:1081: FutureWarning: `alpha` was deprecated in version 1.0 and will be removed in 1.2. Use `alpha_W` and `alpha_H` instead\n"
     ]
    },
    {
     "name": "stdout",
     "output_type": "stream",
     "text": [
      "zero_index=1, k=33, lambda=0.1, alpha_w=NA, alpha_h=0.1, w0=0.8, max_iter=1000, random_state=42\n",
      "running time=1661.6114332675934\n",
      "257\n",
      "[1.0e+00 3.3e+01 1.0e-01 1.0e-01 1.0e-01 9.0e-01 1.0e+03 4.2e+01]\n",
      "[1.0, 33.0, 0.1, 0.1, 0.1, 0.9, 1000.0, 42.0]\n"
     ]
    },
    {
     "name": "stderr",
     "output_type": "stream",
     "text": [
      "C:\\Users\\guoqq17\\anaconda3\\lib\\site-packages\\ipykernel_launcher.py:1081: FutureWarning: `alpha` was deprecated in version 1.0 and will be removed in 1.2. Use `alpha_W` and `alpha_H` instead\n"
     ]
    },
    {
     "name": "stdout",
     "output_type": "stream",
     "text": [
      "zero_index=1, k=33, lambda=0.1, alpha_w=NA, alpha_h=0.1, w0=0.9, max_iter=1000, random_state=42\n",
      "running time=1663.2285690307617\n",
      "249\n",
      "[1.0e+00 3.3e+01 1.0e-01 1.0e-01 1.0e-01 1.0e+00 1.0e+03 4.2e+01]\n",
      "[1.0, 33.0, 0.1, 0.1, 0.1, 1.0, 1000.0, 42.0]\n"
     ]
    },
    {
     "name": "stderr",
     "output_type": "stream",
     "text": [
      "C:\\Users\\guoqq17\\anaconda3\\lib\\site-packages\\ipykernel_launcher.py:1081: FutureWarning: `alpha` was deprecated in version 1.0 and will be removed in 1.2. Use `alpha_W` and `alpha_H` instead\n"
     ]
    },
    {
     "name": "stdout",
     "output_type": "stream",
     "text": [
      "zero_index=1, k=33, lambda=0.1, alpha_w=NA, alpha_h=0.1, w0=1.0, max_iter=1000, random_state=42\n",
      "running time=1664.464616060257\n",
      "234\n",
      "[1.0e+00 3.4e+01 1.0e-01 1.0e-01 1.0e-01 1.0e-01 1.0e+03 4.2e+01]\n",
      "[1.0, 34.0, 0.1, 0.1, 0.1, 0.1, 1000.0, 42.0]\n"
     ]
    },
    {
     "name": "stderr",
     "output_type": "stream",
     "text": [
      "C:\\Users\\guoqq17\\anaconda3\\lib\\site-packages\\ipykernel_launcher.py:1081: FutureWarning: `alpha` was deprecated in version 1.0 and will be removed in 1.2. Use `alpha_W` and `alpha_H` instead\n"
     ]
    },
    {
     "name": "stdout",
     "output_type": "stream",
     "text": [
      "zero_index=1, k=34, lambda=0.1, alpha_w=NA, alpha_h=0.1, w0=0.1, max_iter=1000, random_state=42\n",
      "running time=1666.7599787712097\n",
      "353\n",
      "[1.0e+00 3.4e+01 1.0e-01 1.0e-01 1.0e-01 2.0e-01 1.0e+03 4.2e+01]\n",
      "[1.0, 34.0, 0.1, 0.1, 0.1, 0.2, 1000.0, 42.0]\n"
     ]
    },
    {
     "name": "stderr",
     "output_type": "stream",
     "text": [
      "C:\\Users\\guoqq17\\anaconda3\\lib\\site-packages\\ipykernel_launcher.py:1081: FutureWarning: `alpha` was deprecated in version 1.0 and will be removed in 1.2. Use `alpha_W` and `alpha_H` instead\n"
     ]
    },
    {
     "name": "stdout",
     "output_type": "stream",
     "text": [
      "zero_index=1, k=34, lambda=0.1, alpha_w=NA, alpha_h=0.1, w0=0.2, max_iter=1000, random_state=42\n",
      "running time=1666.37797498703\n",
      "329\n",
      "[1.0e+00 3.4e+01 1.0e-01 1.0e-01 1.0e-01 3.0e-01 1.0e+03 4.2e+01]\n",
      "[1.0, 34.0, 0.1, 0.1, 0.1, 0.3, 1000.0, 42.0]\n"
     ]
    },
    {
     "name": "stderr",
     "output_type": "stream",
     "text": [
      "C:\\Users\\guoqq17\\anaconda3\\lib\\site-packages\\ipykernel_launcher.py:1081: FutureWarning: `alpha` was deprecated in version 1.0 and will be removed in 1.2. Use `alpha_W` and `alpha_H` instead\n"
     ]
    },
    {
     "name": "stdout",
     "output_type": "stream",
     "text": [
      "zero_index=1, k=34, lambda=0.1, alpha_w=NA, alpha_h=0.1, w0=0.3, max_iter=1000, random_state=42\n",
      "running time=1669.9798500537872\n",
      "308\n",
      "[1.0e+00 3.4e+01 1.0e-01 1.0e-01 1.0e-01 4.0e-01 1.0e+03 4.2e+01]\n",
      "[1.0, 34.0, 0.1, 0.1, 0.1, 0.4, 1000.0, 42.0]\n"
     ]
    },
    {
     "name": "stderr",
     "output_type": "stream",
     "text": [
      "C:\\Users\\guoqq17\\anaconda3\\lib\\site-packages\\ipykernel_launcher.py:1081: FutureWarning: `alpha` was deprecated in version 1.0 and will be removed in 1.2. Use `alpha_W` and `alpha_H` instead\n"
     ]
    },
    {
     "name": "stdout",
     "output_type": "stream",
     "text": [
      "zero_index=1, k=34, lambda=0.1, alpha_w=NA, alpha_h=0.1, w0=0.4, max_iter=1000, random_state=42\n",
      "running time=1666.2858803272247\n",
      "294\n",
      "[1.0e+00 3.4e+01 1.0e-01 1.0e-01 1.0e-01 5.0e-01 1.0e+03 4.2e+01]\n",
      "[1.0, 34.0, 0.1, 0.1, 0.1, 0.5, 1000.0, 42.0]\n"
     ]
    },
    {
     "name": "stderr",
     "output_type": "stream",
     "text": [
      "C:\\Users\\guoqq17\\anaconda3\\lib\\site-packages\\ipykernel_launcher.py:1081: FutureWarning: `alpha` was deprecated in version 1.0 and will be removed in 1.2. Use `alpha_W` and `alpha_H` instead\n"
     ]
    },
    {
     "name": "stdout",
     "output_type": "stream",
     "text": [
      "zero_index=1, k=34, lambda=0.1, alpha_w=NA, alpha_h=0.1, w0=0.5, max_iter=1000, random_state=42\n",
      "running time=1666.739576101303\n",
      "289\n",
      "[1.0e+00 3.4e+01 1.0e-01 1.0e-01 1.0e-01 6.0e-01 1.0e+03 4.2e+01]\n",
      "[1.0, 34.0, 0.1, 0.1, 0.1, 0.6, 1000.0, 42.0]\n"
     ]
    },
    {
     "name": "stderr",
     "output_type": "stream",
     "text": [
      "C:\\Users\\guoqq17\\anaconda3\\lib\\site-packages\\ipykernel_launcher.py:1081: FutureWarning: `alpha` was deprecated in version 1.0 and will be removed in 1.2. Use `alpha_W` and `alpha_H` instead\n"
     ]
    },
    {
     "name": "stdout",
     "output_type": "stream",
     "text": [
      "zero_index=1, k=34, lambda=0.1, alpha_w=NA, alpha_h=0.1, w0=0.6, max_iter=1000, random_state=42\n",
      "running time=1668.0419363975525\n",
      "277\n",
      "[1.0e+00 3.4e+01 1.0e-01 1.0e-01 1.0e-01 7.0e-01 1.0e+03 4.2e+01]\n",
      "[1.0, 34.0, 0.1, 0.1, 0.1, 0.7, 1000.0, 42.0]\n"
     ]
    },
    {
     "name": "stderr",
     "output_type": "stream",
     "text": [
      "C:\\Users\\guoqq17\\anaconda3\\lib\\site-packages\\ipykernel_launcher.py:1081: FutureWarning: `alpha` was deprecated in version 1.0 and will be removed in 1.2. Use `alpha_W` and `alpha_H` instead\n"
     ]
    },
    {
     "name": "stdout",
     "output_type": "stream",
     "text": [
      "zero_index=1, k=34, lambda=0.1, alpha_w=NA, alpha_h=0.1, w0=0.7, max_iter=1000, random_state=42\n",
      "running time=1668.65309882164\n",
      "270\n",
      "[1.0e+00 3.4e+01 1.0e-01 1.0e-01 1.0e-01 8.0e-01 1.0e+03 4.2e+01]\n",
      "[1.0, 34.0, 0.1, 0.1, 0.1, 0.8, 1000.0, 42.0]\n"
     ]
    },
    {
     "name": "stderr",
     "output_type": "stream",
     "text": [
      "C:\\Users\\guoqq17\\anaconda3\\lib\\site-packages\\ipykernel_launcher.py:1081: FutureWarning: `alpha` was deprecated in version 1.0 and will be removed in 1.2. Use `alpha_W` and `alpha_H` instead\n"
     ]
    },
    {
     "name": "stdout",
     "output_type": "stream",
     "text": [
      "zero_index=1, k=34, lambda=0.1, alpha_w=NA, alpha_h=0.1, w0=0.8, max_iter=1000, random_state=42\n",
      "running time=1663.0254356861115\n",
      "261\n",
      "[1.0e+00 3.4e+01 1.0e-01 1.0e-01 1.0e-01 9.0e-01 1.0e+03 4.2e+01]\n",
      "[1.0, 34.0, 0.1, 0.1, 0.1, 0.9, 1000.0, 42.0]\n"
     ]
    },
    {
     "name": "stderr",
     "output_type": "stream",
     "text": [
      "C:\\Users\\guoqq17\\anaconda3\\lib\\site-packages\\ipykernel_launcher.py:1081: FutureWarning: `alpha` was deprecated in version 1.0 and will be removed in 1.2. Use `alpha_W` and `alpha_H` instead\n"
     ]
    },
    {
     "name": "stdout",
     "output_type": "stream",
     "text": [
      "zero_index=1, k=34, lambda=0.1, alpha_w=NA, alpha_h=0.1, w0=0.9, max_iter=1000, random_state=42\n",
      "running time=1667.2217299938202\n",
      "251\n",
      "[1.0e+00 3.4e+01 1.0e-01 1.0e-01 1.0e-01 1.0e+00 1.0e+03 4.2e+01]\n",
      "[1.0, 34.0, 0.1, 0.1, 0.1, 1.0, 1000.0, 42.0]\n"
     ]
    },
    {
     "name": "stderr",
     "output_type": "stream",
     "text": [
      "C:\\Users\\guoqq17\\anaconda3\\lib\\site-packages\\ipykernel_launcher.py:1081: FutureWarning: `alpha` was deprecated in version 1.0 and will be removed in 1.2. Use `alpha_W` and `alpha_H` instead\n"
     ]
    },
    {
     "name": "stdout",
     "output_type": "stream",
     "text": [
      "zero_index=1, k=34, lambda=0.1, alpha_w=NA, alpha_h=0.1, w0=1.0, max_iter=1000, random_state=42\n",
      "running time=1666.5197658538818\n",
      "241\n",
      "[1.0e+00 3.5e+01 1.0e-01 1.0e-01 1.0e-01 1.0e-01 1.0e+03 4.2e+01]\n",
      "[1.0, 35.0, 0.1, 0.1, 0.1, 0.1, 1000.0, 42.0]\n"
     ]
    },
    {
     "name": "stderr",
     "output_type": "stream",
     "text": [
      "C:\\Users\\guoqq17\\anaconda3\\lib\\site-packages\\ipykernel_launcher.py:1081: FutureWarning: `alpha` was deprecated in version 1.0 and will be removed in 1.2. Use `alpha_W` and `alpha_H` instead\n"
     ]
    },
    {
     "name": "stdout",
     "output_type": "stream",
     "text": [
      "zero_index=1, k=35, lambda=0.1, alpha_w=NA, alpha_h=0.1, w0=0.1, max_iter=1000, random_state=42\n",
      "running time=1669.4834582805634\n",
      "370\n",
      "[1.0e+00 3.5e+01 1.0e-01 1.0e-01 1.0e-01 2.0e-01 1.0e+03 4.2e+01]\n",
      "[1.0, 35.0, 0.1, 0.1, 0.1, 0.2, 1000.0, 42.0]\n"
     ]
    },
    {
     "name": "stderr",
     "output_type": "stream",
     "text": [
      "C:\\Users\\guoqq17\\anaconda3\\lib\\site-packages\\ipykernel_launcher.py:1081: FutureWarning: `alpha` was deprecated in version 1.0 and will be removed in 1.2. Use `alpha_W` and `alpha_H` instead\n"
     ]
    },
    {
     "name": "stdout",
     "output_type": "stream",
     "text": [
      "zero_index=1, k=35, lambda=0.1, alpha_w=NA, alpha_h=0.1, w0=0.2, max_iter=1000, random_state=42\n",
      "running time=1670.441145658493\n",
      "357\n",
      "[1.0e+00 3.5e+01 1.0e-01 1.0e-01 1.0e-01 3.0e-01 1.0e+03 4.2e+01]\n",
      "[1.0, 35.0, 0.1, 0.1, 0.1, 0.3, 1000.0, 42.0]\n"
     ]
    },
    {
     "name": "stderr",
     "output_type": "stream",
     "text": [
      "C:\\Users\\guoqq17\\anaconda3\\lib\\site-packages\\ipykernel_launcher.py:1081: FutureWarning: `alpha` was deprecated in version 1.0 and will be removed in 1.2. Use `alpha_W` and `alpha_H` instead\n"
     ]
    },
    {
     "name": "stdout",
     "output_type": "stream",
     "text": [
      "zero_index=1, k=35, lambda=0.1, alpha_w=NA, alpha_h=0.1, w0=0.3, max_iter=1000, random_state=42\n",
      "running time=1668.8305022716522\n",
      "331\n",
      "[1.0e+00 3.5e+01 1.0e-01 1.0e-01 1.0e-01 4.0e-01 1.0e+03 4.2e+01]\n",
      "[1.0, 35.0, 0.1, 0.1, 0.1, 0.4, 1000.0, 42.0]\n"
     ]
    },
    {
     "name": "stderr",
     "output_type": "stream",
     "text": [
      "C:\\Users\\guoqq17\\anaconda3\\lib\\site-packages\\ipykernel_launcher.py:1081: FutureWarning: `alpha` was deprecated in version 1.0 and will be removed in 1.2. Use `alpha_W` and `alpha_H` instead\n"
     ]
    },
    {
     "name": "stdout",
     "output_type": "stream",
     "text": [
      "zero_index=1, k=35, lambda=0.1, alpha_w=NA, alpha_h=0.1, w0=0.4, max_iter=1000, random_state=42\n",
      "running time=1680.2411806583405\n",
      "318\n",
      "[1.0e+00 3.5e+01 1.0e-01 1.0e-01 1.0e-01 5.0e-01 1.0e+03 4.2e+01]\n",
      "[1.0, 35.0, 0.1, 0.1, 0.1, 0.5, 1000.0, 42.0]\n"
     ]
    },
    {
     "name": "stderr",
     "output_type": "stream",
     "text": [
      "C:\\Users\\guoqq17\\anaconda3\\lib\\site-packages\\ipykernel_launcher.py:1081: FutureWarning: `alpha` was deprecated in version 1.0 and will be removed in 1.2. Use `alpha_W` and `alpha_H` instead\n"
     ]
    },
    {
     "name": "stdout",
     "output_type": "stream",
     "text": [
      "zero_index=1, k=35, lambda=0.1, alpha_w=NA, alpha_h=0.1, w0=0.5, max_iter=1000, random_state=42\n",
      "running time=1669.98677277565\n",
      "307\n",
      "[1.0e+00 3.5e+01 1.0e-01 1.0e-01 1.0e-01 6.0e-01 1.0e+03 4.2e+01]\n",
      "[1.0, 35.0, 0.1, 0.1, 0.1, 0.6, 1000.0, 42.0]\n"
     ]
    },
    {
     "name": "stderr",
     "output_type": "stream",
     "text": [
      "C:\\Users\\guoqq17\\anaconda3\\lib\\site-packages\\ipykernel_launcher.py:1081: FutureWarning: `alpha` was deprecated in version 1.0 and will be removed in 1.2. Use `alpha_W` and `alpha_H` instead\n"
     ]
    },
    {
     "name": "stdout",
     "output_type": "stream",
     "text": [
      "zero_index=1, k=35, lambda=0.1, alpha_w=NA, alpha_h=0.1, w0=0.6, max_iter=1000, random_state=42\n",
      "running time=1671.2012288570404\n",
      "297\n",
      "[1.0e+00 3.5e+01 1.0e-01 1.0e-01 1.0e-01 7.0e-01 1.0e+03 4.2e+01]\n",
      "[1.0, 35.0, 0.1, 0.1, 0.1, 0.7, 1000.0, 42.0]\n"
     ]
    },
    {
     "name": "stderr",
     "output_type": "stream",
     "text": [
      "C:\\Users\\guoqq17\\anaconda3\\lib\\site-packages\\ipykernel_launcher.py:1081: FutureWarning: `alpha` was deprecated in version 1.0 and will be removed in 1.2. Use `alpha_W` and `alpha_H` instead\n"
     ]
    },
    {
     "name": "stdout",
     "output_type": "stream",
     "text": [
      "zero_index=1, k=35, lambda=0.1, alpha_w=NA, alpha_h=0.1, w0=0.7, max_iter=1000, random_state=42\n",
      "running time=1667.5625522136688\n",
      "285\n",
      "[1.0e+00 3.5e+01 1.0e-01 1.0e-01 1.0e-01 8.0e-01 1.0e+03 4.2e+01]\n",
      "[1.0, 35.0, 0.1, 0.1, 0.1, 0.8, 1000.0, 42.0]\n"
     ]
    },
    {
     "name": "stderr",
     "output_type": "stream",
     "text": [
      "C:\\Users\\guoqq17\\anaconda3\\lib\\site-packages\\ipykernel_launcher.py:1081: FutureWarning: `alpha` was deprecated in version 1.0 and will be removed in 1.2. Use `alpha_W` and `alpha_H` instead\n"
     ]
    },
    {
     "name": "stdout",
     "output_type": "stream",
     "text": [
      "zero_index=1, k=35, lambda=0.1, alpha_w=NA, alpha_h=0.1, w0=0.8, max_iter=1000, random_state=42\n",
      "running time=1670.0997188091278\n",
      "277\n",
      "[1.0e+00 3.5e+01 1.0e-01 1.0e-01 1.0e-01 9.0e-01 1.0e+03 4.2e+01]\n",
      "[1.0, 35.0, 0.1, 0.1, 0.1, 0.9, 1000.0, 42.0]\n"
     ]
    },
    {
     "name": "stderr",
     "output_type": "stream",
     "text": [
      "C:\\Users\\guoqq17\\anaconda3\\lib\\site-packages\\ipykernel_launcher.py:1081: FutureWarning: `alpha` was deprecated in version 1.0 and will be removed in 1.2. Use `alpha_W` and `alpha_H` instead\n"
     ]
    },
    {
     "name": "stdout",
     "output_type": "stream",
     "text": [
      "zero_index=1, k=35, lambda=0.1, alpha_w=NA, alpha_h=0.1, w0=0.9, max_iter=1000, random_state=42\n",
      "running time=1669.2687938213348\n",
      "271\n",
      "[1.0e+00 3.5e+01 1.0e-01 1.0e-01 1.0e-01 1.0e+00 1.0e+03 4.2e+01]\n",
      "[1.0, 35.0, 0.1, 0.1, 0.1, 1.0, 1000.0, 42.0]\n"
     ]
    },
    {
     "name": "stderr",
     "output_type": "stream",
     "text": [
      "C:\\Users\\guoqq17\\anaconda3\\lib\\site-packages\\ipykernel_launcher.py:1081: FutureWarning: `alpha` was deprecated in version 1.0 and will be removed in 1.2. Use `alpha_W` and `alpha_H` instead\n"
     ]
    },
    {
     "name": "stdout",
     "output_type": "stream",
     "text": [
      "zero_index=1, k=35, lambda=0.1, alpha_w=NA, alpha_h=0.1, w0=1.0, max_iter=1000, random_state=42\n",
      "running time=1667.6973214149475\n",
      "258\n",
      "[1.0e+00 3.6e+01 1.0e-01 1.0e-01 1.0e-01 1.0e-01 1.0e+03 4.2e+01]\n",
      "[1.0, 36.0, 0.1, 0.1, 0.1, 0.1, 1000.0, 42.0]\n"
     ]
    },
    {
     "name": "stderr",
     "output_type": "stream",
     "text": [
      "C:\\Users\\guoqq17\\anaconda3\\lib\\site-packages\\ipykernel_launcher.py:1081: FutureWarning: `alpha` was deprecated in version 1.0 and will be removed in 1.2. Use `alpha_W` and `alpha_H` instead\n"
     ]
    },
    {
     "name": "stdout",
     "output_type": "stream",
     "text": [
      "zero_index=1, k=36, lambda=0.1, alpha_w=NA, alpha_h=0.1, w0=0.1, max_iter=1000, random_state=42\n",
      "running time=1663.880471944809\n",
      "368\n",
      "[1.0e+00 3.6e+01 1.0e-01 1.0e-01 1.0e-01 2.0e-01 1.0e+03 4.2e+01]\n",
      "[1.0, 36.0, 0.1, 0.1, 0.1, 0.2, 1000.0, 42.0]\n"
     ]
    },
    {
     "name": "stderr",
     "output_type": "stream",
     "text": [
      "C:\\Users\\guoqq17\\anaconda3\\lib\\site-packages\\ipykernel_launcher.py:1081: FutureWarning: `alpha` was deprecated in version 1.0 and will be removed in 1.2. Use `alpha_W` and `alpha_H` instead\n"
     ]
    },
    {
     "name": "stdout",
     "output_type": "stream",
     "text": [
      "zero_index=1, k=36, lambda=0.1, alpha_w=NA, alpha_h=0.1, w0=0.2, max_iter=1000, random_state=42\n",
      "running time=1666.8267676830292\n",
      "346\n",
      "[1.0e+00 3.6e+01 1.0e-01 1.0e-01 1.0e-01 3.0e-01 1.0e+03 4.2e+01]\n",
      "[1.0, 36.0, 0.1, 0.1, 0.1, 0.3, 1000.0, 42.0]\n"
     ]
    },
    {
     "name": "stderr",
     "output_type": "stream",
     "text": [
      "C:\\Users\\guoqq17\\anaconda3\\lib\\site-packages\\ipykernel_launcher.py:1081: FutureWarning: `alpha` was deprecated in version 1.0 and will be removed in 1.2. Use `alpha_W` and `alpha_H` instead\n"
     ]
    },
    {
     "name": "stdout",
     "output_type": "stream",
     "text": [
      "zero_index=1, k=36, lambda=0.1, alpha_w=NA, alpha_h=0.1, w0=0.3, max_iter=1000, random_state=42\n",
      "running time=1666.1610746383667\n",
      "329\n",
      "[1.0e+00 3.6e+01 1.0e-01 1.0e-01 1.0e-01 4.0e-01 1.0e+03 4.2e+01]\n",
      "[1.0, 36.0, 0.1, 0.1, 0.1, 0.4, 1000.0, 42.0]\n"
     ]
    },
    {
     "name": "stderr",
     "output_type": "stream",
     "text": [
      "C:\\Users\\guoqq17\\anaconda3\\lib\\site-packages\\ipykernel_launcher.py:1081: FutureWarning: `alpha` was deprecated in version 1.0 and will be removed in 1.2. Use `alpha_W` and `alpha_H` instead\n"
     ]
    },
    {
     "name": "stdout",
     "output_type": "stream",
     "text": [
      "zero_index=1, k=36, lambda=0.1, alpha_w=NA, alpha_h=0.1, w0=0.4, max_iter=1000, random_state=42\n",
      "running time=1665.1221389770508\n",
      "318\n",
      "[1.0e+00 3.6e+01 1.0e-01 1.0e-01 1.0e-01 5.0e-01 1.0e+03 4.2e+01]\n",
      "[1.0, 36.0, 0.1, 0.1, 0.1, 0.5, 1000.0, 42.0]\n"
     ]
    },
    {
     "name": "stderr",
     "output_type": "stream",
     "text": [
      "C:\\Users\\guoqq17\\anaconda3\\lib\\site-packages\\ipykernel_launcher.py:1081: FutureWarning: `alpha` was deprecated in version 1.0 and will be removed in 1.2. Use `alpha_W` and `alpha_H` instead\n"
     ]
    },
    {
     "name": "stdout",
     "output_type": "stream",
     "text": [
      "zero_index=1, k=36, lambda=0.1, alpha_w=NA, alpha_h=0.1, w0=0.5, max_iter=1000, random_state=42\n",
      "running time=1666.7311079502106\n",
      "307\n",
      "[1.0e+00 3.6e+01 1.0e-01 1.0e-01 1.0e-01 6.0e-01 1.0e+03 4.2e+01]\n",
      "[1.0, 36.0, 0.1, 0.1, 0.1, 0.6, 1000.0, 42.0]\n"
     ]
    },
    {
     "name": "stderr",
     "output_type": "stream",
     "text": [
      "C:\\Users\\guoqq17\\anaconda3\\lib\\site-packages\\ipykernel_launcher.py:1081: FutureWarning: `alpha` was deprecated in version 1.0 and will be removed in 1.2. Use `alpha_W` and `alpha_H` instead\n"
     ]
    },
    {
     "name": "stdout",
     "output_type": "stream",
     "text": [
      "zero_index=1, k=36, lambda=0.1, alpha_w=NA, alpha_h=0.1, w0=0.6, max_iter=1000, random_state=42\n",
      "running time=1666.6199061870575\n",
      "297\n",
      "[1.0e+00 3.6e+01 1.0e-01 1.0e-01 1.0e-01 7.0e-01 1.0e+03 4.2e+01]\n",
      "[1.0, 36.0, 0.1, 0.1, 0.1, 0.7, 1000.0, 42.0]\n"
     ]
    },
    {
     "name": "stderr",
     "output_type": "stream",
     "text": [
      "C:\\Users\\guoqq17\\anaconda3\\lib\\site-packages\\ipykernel_launcher.py:1081: FutureWarning: `alpha` was deprecated in version 1.0 and will be removed in 1.2. Use `alpha_W` and `alpha_H` instead\n"
     ]
    },
    {
     "name": "stdout",
     "output_type": "stream",
     "text": [
      "zero_index=1, k=36, lambda=0.1, alpha_w=NA, alpha_h=0.1, w0=0.7, max_iter=1000, random_state=42\n",
      "running time=1665.9185149669647\n",
      "286\n",
      "[1.0e+00 3.6e+01 1.0e-01 1.0e-01 1.0e-01 8.0e-01 1.0e+03 4.2e+01]\n",
      "[1.0, 36.0, 0.1, 0.1, 0.1, 0.8, 1000.0, 42.0]\n"
     ]
    },
    {
     "name": "stderr",
     "output_type": "stream",
     "text": [
      "C:\\Users\\guoqq17\\anaconda3\\lib\\site-packages\\ipykernel_launcher.py:1081: FutureWarning: `alpha` was deprecated in version 1.0 and will be removed in 1.2. Use `alpha_W` and `alpha_H` instead\n"
     ]
    },
    {
     "name": "stdout",
     "output_type": "stream",
     "text": [
      "zero_index=1, k=36, lambda=0.1, alpha_w=NA, alpha_h=0.1, w0=0.8, max_iter=1000, random_state=42\n",
      "running time=1671.5949792861938\n",
      "281\n",
      "[1.0e+00 3.6e+01 1.0e-01 1.0e-01 1.0e-01 9.0e-01 1.0e+03 4.2e+01]\n",
      "[1.0, 36.0, 0.1, 0.1, 0.1, 0.9, 1000.0, 42.0]\n"
     ]
    },
    {
     "name": "stderr",
     "output_type": "stream",
     "text": [
      "C:\\Users\\guoqq17\\anaconda3\\lib\\site-packages\\ipykernel_launcher.py:1081: FutureWarning: `alpha` was deprecated in version 1.0 and will be removed in 1.2. Use `alpha_W` and `alpha_H` instead\n"
     ]
    },
    {
     "name": "stdout",
     "output_type": "stream",
     "text": [
      "zero_index=1, k=36, lambda=0.1, alpha_w=NA, alpha_h=0.1, w0=0.9, max_iter=1000, random_state=42\n",
      "running time=1666.9053914546967\n",
      "274\n",
      "[1.0e+00 3.6e+01 1.0e-01 1.0e-01 1.0e-01 1.0e+00 1.0e+03 4.2e+01]\n",
      "[1.0, 36.0, 0.1, 0.1, 0.1, 1.0, 1000.0, 42.0]\n"
     ]
    },
    {
     "name": "stderr",
     "output_type": "stream",
     "text": [
      "C:\\Users\\guoqq17\\anaconda3\\lib\\site-packages\\ipykernel_launcher.py:1081: FutureWarning: `alpha` was deprecated in version 1.0 and will be removed in 1.2. Use `alpha_W` and `alpha_H` instead\n"
     ]
    },
    {
     "name": "stdout",
     "output_type": "stream",
     "text": [
      "zero_index=1, k=36, lambda=0.1, alpha_w=NA, alpha_h=0.1, w0=1.0, max_iter=1000, random_state=42\n",
      "running time=1667.0011322498322\n",
      "259\n",
      "[1.0e+00 3.7e+01 1.0e-01 1.0e-01 1.0e-01 1.0e-01 1.0e+03 4.2e+01]\n",
      "[1.0, 37.0, 0.1, 0.1, 0.1, 0.1, 1000.0, 42.0]\n"
     ]
    },
    {
     "name": "stderr",
     "output_type": "stream",
     "text": [
      "C:\\Users\\guoqq17\\anaconda3\\lib\\site-packages\\ipykernel_launcher.py:1081: FutureWarning: `alpha` was deprecated in version 1.0 and will be removed in 1.2. Use `alpha_W` and `alpha_H` instead\n"
     ]
    },
    {
     "name": "stdout",
     "output_type": "stream",
     "text": [
      "zero_index=1, k=37, lambda=0.1, alpha_w=NA, alpha_h=0.1, w0=0.1, max_iter=1000, random_state=42\n",
      "running time=1672.725960969925\n",
      "393\n",
      "[1.0e+00 3.7e+01 1.0e-01 1.0e-01 1.0e-01 2.0e-01 1.0e+03 4.2e+01]\n",
      "[1.0, 37.0, 0.1, 0.1, 0.1, 0.2, 1000.0, 42.0]\n"
     ]
    },
    {
     "name": "stderr",
     "output_type": "stream",
     "text": [
      "C:\\Users\\guoqq17\\anaconda3\\lib\\site-packages\\ipykernel_launcher.py:1081: FutureWarning: `alpha` was deprecated in version 1.0 and will be removed in 1.2. Use `alpha_W` and `alpha_H` instead\n"
     ]
    },
    {
     "name": "stdout",
     "output_type": "stream",
     "text": [
      "zero_index=1, k=37, lambda=0.1, alpha_w=NA, alpha_h=0.1, w0=0.2, max_iter=1000, random_state=42\n",
      "running time=1671.8364841938019\n",
      "395\n",
      "[1.0e+00 3.7e+01 1.0e-01 1.0e-01 1.0e-01 3.0e-01 1.0e+03 4.2e+01]\n",
      "[1.0, 37.0, 0.1, 0.1, 0.1, 0.3, 1000.0, 42.0]\n"
     ]
    },
    {
     "name": "stderr",
     "output_type": "stream",
     "text": [
      "C:\\Users\\guoqq17\\anaconda3\\lib\\site-packages\\ipykernel_launcher.py:1081: FutureWarning: `alpha` was deprecated in version 1.0 and will be removed in 1.2. Use `alpha_W` and `alpha_H` instead\n"
     ]
    },
    {
     "name": "stdout",
     "output_type": "stream",
     "text": [
      "zero_index=1, k=37, lambda=0.1, alpha_w=NA, alpha_h=0.1, w0=0.3, max_iter=1000, random_state=42\n",
      "running time=1670.8527448177338\n",
      "373\n",
      "[1.0e+00 3.7e+01 1.0e-01 1.0e-01 1.0e-01 4.0e-01 1.0e+03 4.2e+01]\n",
      "[1.0, 37.0, 0.1, 0.1, 0.1, 0.4, 1000.0, 42.0]\n"
     ]
    },
    {
     "name": "stderr",
     "output_type": "stream",
     "text": [
      "C:\\Users\\guoqq17\\anaconda3\\lib\\site-packages\\ipykernel_launcher.py:1081: FutureWarning: `alpha` was deprecated in version 1.0 and will be removed in 1.2. Use `alpha_W` and `alpha_H` instead\n"
     ]
    },
    {
     "name": "stdout",
     "output_type": "stream",
     "text": [
      "zero_index=1, k=37, lambda=0.1, alpha_w=NA, alpha_h=0.1, w0=0.4, max_iter=1000, random_state=42\n",
      "running time=1668.1001362800598\n",
      "347\n",
      "[1.0e+00 3.7e+01 1.0e-01 1.0e-01 1.0e-01 5.0e-01 1.0e+03 4.2e+01]\n",
      "[1.0, 37.0, 0.1, 0.1, 0.1, 0.5, 1000.0, 42.0]\n"
     ]
    },
    {
     "name": "stderr",
     "output_type": "stream",
     "text": [
      "C:\\Users\\guoqq17\\anaconda3\\lib\\site-packages\\ipykernel_launcher.py:1081: FutureWarning: `alpha` was deprecated in version 1.0 and will be removed in 1.2. Use `alpha_W` and `alpha_H` instead\n"
     ]
    },
    {
     "name": "stdout",
     "output_type": "stream",
     "text": [
      "zero_index=1, k=37, lambda=0.1, alpha_w=NA, alpha_h=0.1, w0=0.5, max_iter=1000, random_state=42\n",
      "running time=1672.23086476326\n",
      "337\n",
      "[1.0e+00 3.7e+01 1.0e-01 1.0e-01 1.0e-01 6.0e-01 1.0e+03 4.2e+01]\n",
      "[1.0, 37.0, 0.1, 0.1, 0.1, 0.6, 1000.0, 42.0]\n"
     ]
    },
    {
     "name": "stderr",
     "output_type": "stream",
     "text": [
      "C:\\Users\\guoqq17\\anaconda3\\lib\\site-packages\\ipykernel_launcher.py:1081: FutureWarning: `alpha` was deprecated in version 1.0 and will be removed in 1.2. Use `alpha_W` and `alpha_H` instead\n"
     ]
    },
    {
     "name": "stdout",
     "output_type": "stream",
     "text": [
      "zero_index=1, k=37, lambda=0.1, alpha_w=NA, alpha_h=0.1, w0=0.6, max_iter=1000, random_state=42\n",
      "running time=1669.8674800395966\n",
      "328\n",
      "[1.0e+00 3.7e+01 1.0e-01 1.0e-01 1.0e-01 7.0e-01 1.0e+03 4.2e+01]\n",
      "[1.0, 37.0, 0.1, 0.1, 0.1, 0.7, 1000.0, 42.0]\n"
     ]
    },
    {
     "name": "stderr",
     "output_type": "stream",
     "text": [
      "C:\\Users\\guoqq17\\anaconda3\\lib\\site-packages\\ipykernel_launcher.py:1081: FutureWarning: `alpha` was deprecated in version 1.0 and will be removed in 1.2. Use `alpha_W` and `alpha_H` instead\n"
     ]
    },
    {
     "name": "stdout",
     "output_type": "stream",
     "text": [
      "zero_index=1, k=37, lambda=0.1, alpha_w=NA, alpha_h=0.1, w0=0.7, max_iter=1000, random_state=42\n",
      "running time=1670.9762091636658\n",
      "317\n",
      "[1.0e+00 3.7e+01 1.0e-01 1.0e-01 1.0e-01 8.0e-01 1.0e+03 4.2e+01]\n",
      "[1.0, 37.0, 0.1, 0.1, 0.1, 0.8, 1000.0, 42.0]\n"
     ]
    },
    {
     "name": "stderr",
     "output_type": "stream",
     "text": [
      "C:\\Users\\guoqq17\\anaconda3\\lib\\site-packages\\ipykernel_launcher.py:1081: FutureWarning: `alpha` was deprecated in version 1.0 and will be removed in 1.2. Use `alpha_W` and `alpha_H` instead\n"
     ]
    },
    {
     "name": "stdout",
     "output_type": "stream",
     "text": [
      "zero_index=1, k=37, lambda=0.1, alpha_w=NA, alpha_h=0.1, w0=0.8, max_iter=1000, random_state=42\n",
      "running time=1672.9059598445892\n",
      "304\n",
      "[1.0e+00 3.7e+01 1.0e-01 1.0e-01 1.0e-01 9.0e-01 1.0e+03 4.2e+01]\n",
      "[1.0, 37.0, 0.1, 0.1, 0.1, 0.9, 1000.0, 42.0]\n"
     ]
    },
    {
     "name": "stderr",
     "output_type": "stream",
     "text": [
      "C:\\Users\\guoqq17\\anaconda3\\lib\\site-packages\\ipykernel_launcher.py:1081: FutureWarning: `alpha` was deprecated in version 1.0 and will be removed in 1.2. Use `alpha_W` and `alpha_H` instead\n"
     ]
    },
    {
     "name": "stdout",
     "output_type": "stream",
     "text": [
      "zero_index=1, k=37, lambda=0.1, alpha_w=NA, alpha_h=0.1, w0=0.9, max_iter=1000, random_state=42\n",
      "running time=1669.542296409607\n",
      "295\n",
      "[1.0e+00 3.7e+01 1.0e-01 1.0e-01 1.0e-01 1.0e+00 1.0e+03 4.2e+01]\n",
      "[1.0, 37.0, 0.1, 0.1, 0.1, 1.0, 1000.0, 42.0]\n"
     ]
    },
    {
     "name": "stderr",
     "output_type": "stream",
     "text": [
      "C:\\Users\\guoqq17\\anaconda3\\lib\\site-packages\\ipykernel_launcher.py:1081: FutureWarning: `alpha` was deprecated in version 1.0 and will be removed in 1.2. Use `alpha_W` and `alpha_H` instead\n"
     ]
    },
    {
     "name": "stdout",
     "output_type": "stream",
     "text": [
      "zero_index=1, k=37, lambda=0.1, alpha_w=NA, alpha_h=0.1, w0=1.0, max_iter=1000, random_state=42\n",
      "running time=1673.354330778122\n",
      "277\n",
      "[1.0e+00 3.8e+01 1.0e-01 1.0e-01 1.0e-01 1.0e-01 1.0e+03 4.2e+01]\n",
      "[1.0, 38.0, 0.1, 0.1, 0.1, 0.1, 1000.0, 42.0]\n"
     ]
    },
    {
     "name": "stderr",
     "output_type": "stream",
     "text": [
      "C:\\Users\\guoqq17\\anaconda3\\lib\\site-packages\\ipykernel_launcher.py:1081: FutureWarning: `alpha` was deprecated in version 1.0 and will be removed in 1.2. Use `alpha_W` and `alpha_H` instead\n"
     ]
    },
    {
     "name": "stdout",
     "output_type": "stream",
     "text": [
      "zero_index=1, k=38, lambda=0.1, alpha_w=NA, alpha_h=0.1, w0=0.1, max_iter=1000, random_state=42\n",
      "running time=1685.8700704574585\n",
      "384\n",
      "[1.0e+00 3.8e+01 1.0e-01 1.0e-01 1.0e-01 2.0e-01 1.0e+03 4.2e+01]\n",
      "[1.0, 38.0, 0.1, 0.1, 0.1, 0.2, 1000.0, 42.0]\n"
     ]
    },
    {
     "name": "stderr",
     "output_type": "stream",
     "text": [
      "C:\\Users\\guoqq17\\anaconda3\\lib\\site-packages\\ipykernel_launcher.py:1081: FutureWarning: `alpha` was deprecated in version 1.0 and will be removed in 1.2. Use `alpha_W` and `alpha_H` instead\n"
     ]
    },
    {
     "name": "stdout",
     "output_type": "stream",
     "text": [
      "zero_index=1, k=38, lambda=0.1, alpha_w=NA, alpha_h=0.1, w0=0.2, max_iter=1000, random_state=42\n",
      "running time=1676.629900932312\n",
      "364\n",
      "[1.0e+00 3.8e+01 1.0e-01 1.0e-01 1.0e-01 3.0e-01 1.0e+03 4.2e+01]\n",
      "[1.0, 38.0, 0.1, 0.1, 0.1, 0.3, 1000.0, 42.0]\n"
     ]
    },
    {
     "name": "stderr",
     "output_type": "stream",
     "text": [
      "C:\\Users\\guoqq17\\anaconda3\\lib\\site-packages\\ipykernel_launcher.py:1081: FutureWarning: `alpha` was deprecated in version 1.0 and will be removed in 1.2. Use `alpha_W` and `alpha_H` instead\n"
     ]
    },
    {
     "name": "stdout",
     "output_type": "stream",
     "text": [
      "zero_index=1, k=38, lambda=0.1, alpha_w=NA, alpha_h=0.1, w0=0.3, max_iter=1000, random_state=42\n",
      "running time=1676.5621502399445\n",
      "341\n",
      "[1.0e+00 3.8e+01 1.0e-01 1.0e-01 1.0e-01 4.0e-01 1.0e+03 4.2e+01]\n",
      "[1.0, 38.0, 0.1, 0.1, 0.1, 0.4, 1000.0, 42.0]\n"
     ]
    },
    {
     "name": "stderr",
     "output_type": "stream",
     "text": [
      "C:\\Users\\guoqq17\\anaconda3\\lib\\site-packages\\ipykernel_launcher.py:1081: FutureWarning: `alpha` was deprecated in version 1.0 and will be removed in 1.2. Use `alpha_W` and `alpha_H` instead\n"
     ]
    },
    {
     "name": "stdout",
     "output_type": "stream",
     "text": [
      "zero_index=1, k=38, lambda=0.1, alpha_w=NA, alpha_h=0.1, w0=0.4, max_iter=1000, random_state=42\n",
      "running time=1676.2991194725037\n",
      "327\n",
      "[1.0e+00 3.8e+01 1.0e-01 1.0e-01 1.0e-01 5.0e-01 1.0e+03 4.2e+01]\n",
      "[1.0, 38.0, 0.1, 0.1, 0.1, 0.5, 1000.0, 42.0]\n"
     ]
    },
    {
     "name": "stderr",
     "output_type": "stream",
     "text": [
      "C:\\Users\\guoqq17\\anaconda3\\lib\\site-packages\\ipykernel_launcher.py:1081: FutureWarning: `alpha` was deprecated in version 1.0 and will be removed in 1.2. Use `alpha_W` and `alpha_H` instead\n"
     ]
    },
    {
     "name": "stdout",
     "output_type": "stream",
     "text": [
      "zero_index=1, k=38, lambda=0.1, alpha_w=NA, alpha_h=0.1, w0=0.5, max_iter=1000, random_state=42\n",
      "running time=1673.7716870307922\n",
      "312\n",
      "[1.0e+00 3.8e+01 1.0e-01 1.0e-01 1.0e-01 6.0e-01 1.0e+03 4.2e+01]\n",
      "[1.0, 38.0, 0.1, 0.1, 0.1, 0.6, 1000.0, 42.0]\n"
     ]
    },
    {
     "name": "stderr",
     "output_type": "stream",
     "text": [
      "C:\\Users\\guoqq17\\anaconda3\\lib\\site-packages\\ipykernel_launcher.py:1081: FutureWarning: `alpha` was deprecated in version 1.0 and will be removed in 1.2. Use `alpha_W` and `alpha_H` instead\n"
     ]
    },
    {
     "name": "stdout",
     "output_type": "stream",
     "text": [
      "zero_index=1, k=38, lambda=0.1, alpha_w=NA, alpha_h=0.1, w0=0.6, max_iter=1000, random_state=42\n",
      "running time=1674.2035443782806\n",
      "307\n",
      "[1.0e+00 3.8e+01 1.0e-01 1.0e-01 1.0e-01 7.0e-01 1.0e+03 4.2e+01]\n",
      "[1.0, 38.0, 0.1, 0.1, 0.1, 0.7, 1000.0, 42.0]\n"
     ]
    },
    {
     "name": "stderr",
     "output_type": "stream",
     "text": [
      "C:\\Users\\guoqq17\\anaconda3\\lib\\site-packages\\ipykernel_launcher.py:1081: FutureWarning: `alpha` was deprecated in version 1.0 and will be removed in 1.2. Use `alpha_W` and `alpha_H` instead\n"
     ]
    },
    {
     "name": "stdout",
     "output_type": "stream",
     "text": [
      "zero_index=1, k=38, lambda=0.1, alpha_w=NA, alpha_h=0.1, w0=0.7, max_iter=1000, random_state=42\n",
      "running time=1676.9169552326202\n",
      "294\n",
      "[1.0e+00 3.8e+01 1.0e-01 1.0e-01 1.0e-01 8.0e-01 1.0e+03 4.2e+01]\n",
      "[1.0, 38.0, 0.1, 0.1, 0.1, 0.8, 1000.0, 42.0]\n"
     ]
    },
    {
     "name": "stderr",
     "output_type": "stream",
     "text": [
      "C:\\Users\\guoqq17\\anaconda3\\lib\\site-packages\\ipykernel_launcher.py:1081: FutureWarning: `alpha` was deprecated in version 1.0 and will be removed in 1.2. Use `alpha_W` and `alpha_H` instead\n"
     ]
    },
    {
     "name": "stdout",
     "output_type": "stream",
     "text": [
      "zero_index=1, k=38, lambda=0.1, alpha_w=NA, alpha_h=0.1, w0=0.8, max_iter=1000, random_state=42\n",
      "running time=1674.7324995994568\n",
      "291\n",
      "[1.0e+00 3.8e+01 1.0e-01 1.0e-01 1.0e-01 9.0e-01 1.0e+03 4.2e+01]\n",
      "[1.0, 38.0, 0.1, 0.1, 0.1, 0.9, 1000.0, 42.0]\n"
     ]
    },
    {
     "name": "stderr",
     "output_type": "stream",
     "text": [
      "C:\\Users\\guoqq17\\anaconda3\\lib\\site-packages\\ipykernel_launcher.py:1081: FutureWarning: `alpha` was deprecated in version 1.0 and will be removed in 1.2. Use `alpha_W` and `alpha_H` instead\n"
     ]
    },
    {
     "name": "stdout",
     "output_type": "stream",
     "text": [
      "zero_index=1, k=38, lambda=0.1, alpha_w=NA, alpha_h=0.1, w0=0.9, max_iter=1000, random_state=42\n",
      "running time=1675.3035175800323\n",
      "286\n",
      "[1.0e+00 3.8e+01 1.0e-01 1.0e-01 1.0e-01 1.0e+00 1.0e+03 4.2e+01]\n",
      "[1.0, 38.0, 0.1, 0.1, 0.1, 1.0, 1000.0, 42.0]\n"
     ]
    },
    {
     "name": "stderr",
     "output_type": "stream",
     "text": [
      "C:\\Users\\guoqq17\\anaconda3\\lib\\site-packages\\ipykernel_launcher.py:1081: FutureWarning: `alpha` was deprecated in version 1.0 and will be removed in 1.2. Use `alpha_W` and `alpha_H` instead\n"
     ]
    },
    {
     "name": "stdout",
     "output_type": "stream",
     "text": [
      "zero_index=1, k=38, lambda=0.1, alpha_w=NA, alpha_h=0.1, w0=1.0, max_iter=1000, random_state=42\n",
      "running time=1677.0555865764618\n",
      "271\n",
      "[1.0e+00 3.9e+01 1.0e-01 1.0e-01 1.0e-01 1.0e-01 1.0e+03 4.2e+01]\n",
      "[1.0, 39.0, 0.1, 0.1, 0.1, 0.1, 1000.0, 42.0]\n"
     ]
    },
    {
     "name": "stderr",
     "output_type": "stream",
     "text": [
      "C:\\Users\\guoqq17\\anaconda3\\lib\\site-packages\\ipykernel_launcher.py:1081: FutureWarning: `alpha` was deprecated in version 1.0 and will be removed in 1.2. Use `alpha_W` and `alpha_H` instead\n"
     ]
    },
    {
     "name": "stdout",
     "output_type": "stream",
     "text": [
      "zero_index=1, k=39, lambda=0.1, alpha_w=NA, alpha_h=0.1, w0=0.1, max_iter=1000, random_state=42\n",
      "running time=1679.9112610816956\n",
      "383\n",
      "[1.0e+00 3.9e+01 1.0e-01 1.0e-01 1.0e-01 2.0e-01 1.0e+03 4.2e+01]\n",
      "[1.0, 39.0, 0.1, 0.1, 0.1, 0.2, 1000.0, 42.0]\n"
     ]
    },
    {
     "name": "stderr",
     "output_type": "stream",
     "text": [
      "C:\\Users\\guoqq17\\anaconda3\\lib\\site-packages\\ipykernel_launcher.py:1081: FutureWarning: `alpha` was deprecated in version 1.0 and will be removed in 1.2. Use `alpha_W` and `alpha_H` instead\n"
     ]
    },
    {
     "name": "stdout",
     "output_type": "stream",
     "text": [
      "zero_index=1, k=39, lambda=0.1, alpha_w=NA, alpha_h=0.1, w0=0.2, max_iter=1000, random_state=42\n",
      "running time=1676.0337946414948\n",
      "366\n",
      "[1.0e+00 3.9e+01 1.0e-01 1.0e-01 1.0e-01 3.0e-01 1.0e+03 4.2e+01]\n",
      "[1.0, 39.0, 0.1, 0.1, 0.1, 0.3, 1000.0, 42.0]\n"
     ]
    },
    {
     "name": "stderr",
     "output_type": "stream",
     "text": [
      "C:\\Users\\guoqq17\\anaconda3\\lib\\site-packages\\ipykernel_launcher.py:1081: FutureWarning: `alpha` was deprecated in version 1.0 and will be removed in 1.2. Use `alpha_W` and `alpha_H` instead\n"
     ]
    },
    {
     "name": "stdout",
     "output_type": "stream",
     "text": [
      "zero_index=1, k=39, lambda=0.1, alpha_w=NA, alpha_h=0.1, w0=0.3, max_iter=1000, random_state=42\n",
      "running time=1681.4999997615814\n",
      "338\n",
      "[1.0e+00 3.9e+01 1.0e-01 1.0e-01 1.0e-01 4.0e-01 1.0e+03 4.2e+01]\n",
      "[1.0, 39.0, 0.1, 0.1, 0.1, 0.4, 1000.0, 42.0]\n"
     ]
    },
    {
     "name": "stderr",
     "output_type": "stream",
     "text": [
      "C:\\Users\\guoqq17\\anaconda3\\lib\\site-packages\\ipykernel_launcher.py:1081: FutureWarning: `alpha` was deprecated in version 1.0 and will be removed in 1.2. Use `alpha_W` and `alpha_H` instead\n"
     ]
    },
    {
     "name": "stdout",
     "output_type": "stream",
     "text": [
      "zero_index=1, k=39, lambda=0.1, alpha_w=NA, alpha_h=0.1, w0=0.4, max_iter=1000, random_state=42\n",
      "running time=1677.5452625751495\n",
      "322\n",
      "[1.0e+00 3.9e+01 1.0e-01 1.0e-01 1.0e-01 5.0e-01 1.0e+03 4.2e+01]\n",
      "[1.0, 39.0, 0.1, 0.1, 0.1, 0.5, 1000.0, 42.0]\n"
     ]
    },
    {
     "name": "stderr",
     "output_type": "stream",
     "text": [
      "C:\\Users\\guoqq17\\anaconda3\\lib\\site-packages\\ipykernel_launcher.py:1081: FutureWarning: `alpha` was deprecated in version 1.0 and will be removed in 1.2. Use `alpha_W` and `alpha_H` instead\n"
     ]
    },
    {
     "name": "stdout",
     "output_type": "stream",
     "text": [
      "zero_index=1, k=39, lambda=0.1, alpha_w=NA, alpha_h=0.1, w0=0.5, max_iter=1000, random_state=42\n",
      "running time=1678.3446559906006\n",
      "315\n",
      "[1.0e+00 3.9e+01 1.0e-01 1.0e-01 1.0e-01 6.0e-01 1.0e+03 4.2e+01]\n",
      "[1.0, 39.0, 0.1, 0.1, 0.1, 0.6, 1000.0, 42.0]\n"
     ]
    },
    {
     "name": "stderr",
     "output_type": "stream",
     "text": [
      "C:\\Users\\guoqq17\\anaconda3\\lib\\site-packages\\ipykernel_launcher.py:1081: FutureWarning: `alpha` was deprecated in version 1.0 and will be removed in 1.2. Use `alpha_W` and `alpha_H` instead\n"
     ]
    },
    {
     "name": "stdout",
     "output_type": "stream",
     "text": [
      "zero_index=1, k=39, lambda=0.1, alpha_w=NA, alpha_h=0.1, w0=0.6, max_iter=1000, random_state=42\n",
      "running time=1679.4298965930939\n",
      "303\n",
      "[1.0e+00 3.9e+01 1.0e-01 1.0e-01 1.0e-01 7.0e-01 1.0e+03 4.2e+01]\n",
      "[1.0, 39.0, 0.1, 0.1, 0.1, 0.7, 1000.0, 42.0]\n"
     ]
    },
    {
     "name": "stderr",
     "output_type": "stream",
     "text": [
      "C:\\Users\\guoqq17\\anaconda3\\lib\\site-packages\\ipykernel_launcher.py:1081: FutureWarning: `alpha` was deprecated in version 1.0 and will be removed in 1.2. Use `alpha_W` and `alpha_H` instead\n"
     ]
    },
    {
     "name": "stdout",
     "output_type": "stream",
     "text": [
      "zero_index=1, k=39, lambda=0.1, alpha_w=NA, alpha_h=0.1, w0=0.7, max_iter=1000, random_state=42\n",
      "running time=1679.039113521576\n",
      "292\n",
      "[1.0e+00 3.9e+01 1.0e-01 1.0e-01 1.0e-01 8.0e-01 1.0e+03 4.2e+01]\n",
      "[1.0, 39.0, 0.1, 0.1, 0.1, 0.8, 1000.0, 42.0]\n"
     ]
    },
    {
     "name": "stderr",
     "output_type": "stream",
     "text": [
      "C:\\Users\\guoqq17\\anaconda3\\lib\\site-packages\\ipykernel_launcher.py:1081: FutureWarning: `alpha` was deprecated in version 1.0 and will be removed in 1.2. Use `alpha_W` and `alpha_H` instead\n"
     ]
    },
    {
     "name": "stdout",
     "output_type": "stream",
     "text": [
      "zero_index=1, k=39, lambda=0.1, alpha_w=NA, alpha_h=0.1, w0=0.8, max_iter=1000, random_state=42\n",
      "running time=1677.175410270691\n",
      "286\n",
      "[1.0e+00 3.9e+01 1.0e-01 1.0e-01 1.0e-01 9.0e-01 1.0e+03 4.2e+01]\n",
      "[1.0, 39.0, 0.1, 0.1, 0.1, 0.9, 1000.0, 42.0]\n"
     ]
    },
    {
     "name": "stderr",
     "output_type": "stream",
     "text": [
      "C:\\Users\\guoqq17\\anaconda3\\lib\\site-packages\\ipykernel_launcher.py:1081: FutureWarning: `alpha` was deprecated in version 1.0 and will be removed in 1.2. Use `alpha_W` and `alpha_H` instead\n"
     ]
    },
    {
     "name": "stdout",
     "output_type": "stream",
     "text": [
      "zero_index=1, k=39, lambda=0.1, alpha_w=NA, alpha_h=0.1, w0=0.9, max_iter=1000, random_state=42\n",
      "running time=1679.4959585666656\n",
      "281\n",
      "[1.0e+00 3.9e+01 1.0e-01 1.0e-01 1.0e-01 1.0e+00 1.0e+03 4.2e+01]\n",
      "[1.0, 39.0, 0.1, 0.1, 0.1, 1.0, 1000.0, 42.0]\n"
     ]
    },
    {
     "name": "stderr",
     "output_type": "stream",
     "text": [
      "C:\\Users\\guoqq17\\anaconda3\\lib\\site-packages\\ipykernel_launcher.py:1081: FutureWarning: `alpha` was deprecated in version 1.0 and will be removed in 1.2. Use `alpha_W` and `alpha_H` instead\n"
     ]
    },
    {
     "name": "stdout",
     "output_type": "stream",
     "text": [
      "zero_index=1, k=39, lambda=0.1, alpha_w=NA, alpha_h=0.1, w0=1.0, max_iter=1000, random_state=42\n",
      "running time=1679.5950362682343\n",
      "269\n",
      "[1.0e+00 4.0e+01 1.0e-01 1.0e-01 1.0e-01 1.0e-01 1.0e+03 4.2e+01]\n",
      "[1.0, 40.0, 0.1, 0.1, 0.1, 0.1, 1000.0, 42.0]\n"
     ]
    },
    {
     "name": "stderr",
     "output_type": "stream",
     "text": [
      "C:\\Users\\guoqq17\\anaconda3\\lib\\site-packages\\ipykernel_launcher.py:1081: FutureWarning: `alpha` was deprecated in version 1.0 and will be removed in 1.2. Use `alpha_W` and `alpha_H` instead\n"
     ]
    },
    {
     "name": "stdout",
     "output_type": "stream",
     "text": [
      "zero_index=1, k=40, lambda=0.1, alpha_w=NA, alpha_h=0.1, w0=0.1, max_iter=1000, random_state=42\n",
      "running time=1676.7761023044586\n",
      "439\n",
      "[1.0e+00 4.0e+01 1.0e-01 1.0e-01 1.0e-01 2.0e-01 1.0e+03 4.2e+01]\n",
      "[1.0, 40.0, 0.1, 0.1, 0.1, 0.2, 1000.0, 42.0]\n"
     ]
    },
    {
     "name": "stderr",
     "output_type": "stream",
     "text": [
      "C:\\Users\\guoqq17\\anaconda3\\lib\\site-packages\\ipykernel_launcher.py:1081: FutureWarning: `alpha` was deprecated in version 1.0 and will be removed in 1.2. Use `alpha_W` and `alpha_H` instead\n"
     ]
    },
    {
     "name": "stdout",
     "output_type": "stream",
     "text": [
      "zero_index=1, k=40, lambda=0.1, alpha_w=NA, alpha_h=0.1, w0=0.2, max_iter=1000, random_state=42\n",
      "running time=1680.124517440796\n",
      "407\n",
      "[1.0e+00 4.0e+01 1.0e-01 1.0e-01 1.0e-01 3.0e-01 1.0e+03 4.2e+01]\n",
      "[1.0, 40.0, 0.1, 0.1, 0.1, 0.3, 1000.0, 42.0]\n"
     ]
    },
    {
     "name": "stderr",
     "output_type": "stream",
     "text": [
      "C:\\Users\\guoqq17\\anaconda3\\lib\\site-packages\\ipykernel_launcher.py:1081: FutureWarning: `alpha` was deprecated in version 1.0 and will be removed in 1.2. Use `alpha_W` and `alpha_H` instead\n"
     ]
    },
    {
     "name": "stdout",
     "output_type": "stream",
     "text": [
      "zero_index=1, k=40, lambda=0.1, alpha_w=NA, alpha_h=0.1, w0=0.3, max_iter=1000, random_state=42\n",
      "running time=1679.453988790512\n",
      "387\n",
      "[1.0e+00 4.0e+01 1.0e-01 1.0e-01 1.0e-01 4.0e-01 1.0e+03 4.2e+01]\n",
      "[1.0, 40.0, 0.1, 0.1, 0.1, 0.4, 1000.0, 42.0]\n"
     ]
    },
    {
     "name": "stderr",
     "output_type": "stream",
     "text": [
      "C:\\Users\\guoqq17\\anaconda3\\lib\\site-packages\\ipykernel_launcher.py:1081: FutureWarning: `alpha` was deprecated in version 1.0 and will be removed in 1.2. Use `alpha_W` and `alpha_H` instead\n"
     ]
    },
    {
     "name": "stdout",
     "output_type": "stream",
     "text": [
      "zero_index=1, k=40, lambda=0.1, alpha_w=NA, alpha_h=0.1, w0=0.4, max_iter=1000, random_state=42\n",
      "running time=1678.0515840053558\n",
      "367\n",
      "[1.0e+00 4.0e+01 1.0e-01 1.0e-01 1.0e-01 5.0e-01 1.0e+03 4.2e+01]\n",
      "[1.0, 40.0, 0.1, 0.1, 0.1, 0.5, 1000.0, 42.0]\n"
     ]
    },
    {
     "name": "stderr",
     "output_type": "stream",
     "text": [
      "C:\\Users\\guoqq17\\anaconda3\\lib\\site-packages\\ipykernel_launcher.py:1081: FutureWarning: `alpha` was deprecated in version 1.0 and will be removed in 1.2. Use `alpha_W` and `alpha_H` instead\n"
     ]
    },
    {
     "name": "stdout",
     "output_type": "stream",
     "text": [
      "zero_index=1, k=40, lambda=0.1, alpha_w=NA, alpha_h=0.1, w0=0.5, max_iter=1000, random_state=42\n",
      "running time=1678.611210346222\n",
      "352\n",
      "[1.0e+00 4.0e+01 1.0e-01 1.0e-01 1.0e-01 6.0e-01 1.0e+03 4.2e+01]\n",
      "[1.0, 40.0, 0.1, 0.1, 0.1, 0.6, 1000.0, 42.0]\n"
     ]
    },
    {
     "name": "stderr",
     "output_type": "stream",
     "text": [
      "C:\\Users\\guoqq17\\anaconda3\\lib\\site-packages\\ipykernel_launcher.py:1081: FutureWarning: `alpha` was deprecated in version 1.0 and will be removed in 1.2. Use `alpha_W` and `alpha_H` instead\n"
     ]
    },
    {
     "name": "stdout",
     "output_type": "stream",
     "text": [
      "zero_index=1, k=40, lambda=0.1, alpha_w=NA, alpha_h=0.1, w0=0.6, max_iter=1000, random_state=42\n",
      "running time=1688.8082392215729\n",
      "348\n",
      "[1.0e+00 4.0e+01 1.0e-01 1.0e-01 1.0e-01 7.0e-01 1.0e+03 4.2e+01]\n",
      "[1.0, 40.0, 0.1, 0.1, 0.1, 0.7, 1000.0, 42.0]\n"
     ]
    },
    {
     "name": "stderr",
     "output_type": "stream",
     "text": [
      "C:\\Users\\guoqq17\\anaconda3\\lib\\site-packages\\ipykernel_launcher.py:1081: FutureWarning: `alpha` was deprecated in version 1.0 and will be removed in 1.2. Use `alpha_W` and `alpha_H` instead\n"
     ]
    },
    {
     "name": "stdout",
     "output_type": "stream",
     "text": [
      "zero_index=1, k=40, lambda=0.1, alpha_w=NA, alpha_h=0.1, w0=0.7, max_iter=1000, random_state=42\n",
      "running time=1673.7384326457977\n",
      "334\n",
      "[1.0e+00 4.0e+01 1.0e-01 1.0e-01 1.0e-01 8.0e-01 1.0e+03 4.2e+01]\n",
      "[1.0, 40.0, 0.1, 0.1, 0.1, 0.8, 1000.0, 42.0]\n"
     ]
    },
    {
     "name": "stderr",
     "output_type": "stream",
     "text": [
      "C:\\Users\\guoqq17\\anaconda3\\lib\\site-packages\\ipykernel_launcher.py:1081: FutureWarning: `alpha` was deprecated in version 1.0 and will be removed in 1.2. Use `alpha_W` and `alpha_H` instead\n"
     ]
    },
    {
     "name": "stdout",
     "output_type": "stream",
     "text": [
      "zero_index=1, k=40, lambda=0.1, alpha_w=NA, alpha_h=0.1, w0=0.8, max_iter=1000, random_state=42\n",
      "running time=1686.4449408054352\n",
      "325\n",
      "[1.0e+00 4.0e+01 1.0e-01 1.0e-01 1.0e-01 9.0e-01 1.0e+03 4.2e+01]\n",
      "[1.0, 40.0, 0.1, 0.1, 0.1, 0.9, 1000.0, 42.0]\n"
     ]
    },
    {
     "name": "stderr",
     "output_type": "stream",
     "text": [
      "C:\\Users\\guoqq17\\anaconda3\\lib\\site-packages\\ipykernel_launcher.py:1081: FutureWarning: `alpha` was deprecated in version 1.0 and will be removed in 1.2. Use `alpha_W` and `alpha_H` instead\n"
     ]
    },
    {
     "name": "stdout",
     "output_type": "stream",
     "text": [
      "zero_index=1, k=40, lambda=0.1, alpha_w=NA, alpha_h=0.1, w0=0.9, max_iter=1000, random_state=42\n",
      "running time=1679.2371883392334\n",
      "317\n",
      "[1.0e+00 4.0e+01 1.0e-01 1.0e-01 1.0e-01 1.0e+00 1.0e+03 4.2e+01]\n",
      "[1.0, 40.0, 0.1, 0.1, 0.1, 1.0, 1000.0, 42.0]\n"
     ]
    },
    {
     "name": "stderr",
     "output_type": "stream",
     "text": [
      "C:\\Users\\guoqq17\\anaconda3\\lib\\site-packages\\ipykernel_launcher.py:1081: FutureWarning: `alpha` was deprecated in version 1.0 and will be removed in 1.2. Use `alpha_W` and `alpha_H` instead\n"
     ]
    },
    {
     "name": "stdout",
     "output_type": "stream",
     "text": [
      "zero_index=1, k=40, lambda=0.1, alpha_w=NA, alpha_h=0.1, w0=1.0, max_iter=1000, random_state=42\n",
      "running time=1679.602198600769\n",
      "306\n",
      "[1.0e+00 4.1e+01 1.0e-01 1.0e-01 1.0e-01 1.0e-01 1.0e+03 4.2e+01]\n",
      "[1.0, 41.0, 0.1, 0.1, 0.1, 0.1, 1000.0, 42.0]\n"
     ]
    },
    {
     "name": "stderr",
     "output_type": "stream",
     "text": [
      "C:\\Users\\guoqq17\\anaconda3\\lib\\site-packages\\ipykernel_launcher.py:1081: FutureWarning: `alpha` was deprecated in version 1.0 and will be removed in 1.2. Use `alpha_W` and `alpha_H` instead\n"
     ]
    },
    {
     "name": "stdout",
     "output_type": "stream",
     "text": [
      "zero_index=1, k=41, lambda=0.1, alpha_w=NA, alpha_h=0.1, w0=0.1, max_iter=1000, random_state=42\n",
      "running time=1680.9780988693237\n",
      "372\n",
      "[1.0e+00 4.1e+01 1.0e-01 1.0e-01 1.0e-01 2.0e-01 1.0e+03 4.2e+01]\n",
      "[1.0, 41.0, 0.1, 0.1, 0.1, 0.2, 1000.0, 42.0]\n"
     ]
    },
    {
     "name": "stderr",
     "output_type": "stream",
     "text": [
      "C:\\Users\\guoqq17\\anaconda3\\lib\\site-packages\\ipykernel_launcher.py:1081: FutureWarning: `alpha` was deprecated in version 1.0 and will be removed in 1.2. Use `alpha_W` and `alpha_H` instead\n"
     ]
    },
    {
     "name": "stdout",
     "output_type": "stream",
     "text": [
      "zero_index=1, k=41, lambda=0.1, alpha_w=NA, alpha_h=0.1, w0=0.2, max_iter=1000, random_state=42\n",
      "running time=1681.169114112854\n",
      "355\n",
      "[1.0e+00 4.1e+01 1.0e-01 1.0e-01 1.0e-01 3.0e-01 1.0e+03 4.2e+01]\n",
      "[1.0, 41.0, 0.1, 0.1, 0.1, 0.3, 1000.0, 42.0]\n"
     ]
    },
    {
     "name": "stderr",
     "output_type": "stream",
     "text": [
      "C:\\Users\\guoqq17\\anaconda3\\lib\\site-packages\\ipykernel_launcher.py:1081: FutureWarning: `alpha` was deprecated in version 1.0 and will be removed in 1.2. Use `alpha_W` and `alpha_H` instead\n"
     ]
    },
    {
     "name": "stdout",
     "output_type": "stream",
     "text": [
      "zero_index=1, k=41, lambda=0.1, alpha_w=NA, alpha_h=0.1, w0=0.3, max_iter=1000, random_state=42\n",
      "running time=1681.8252546787262\n",
      "333\n",
      "[1.0e+00 4.1e+01 1.0e-01 1.0e-01 1.0e-01 4.0e-01 1.0e+03 4.2e+01]\n",
      "[1.0, 41.0, 0.1, 0.1, 0.1, 0.4, 1000.0, 42.0]\n"
     ]
    },
    {
     "name": "stderr",
     "output_type": "stream",
     "text": [
      "C:\\Users\\guoqq17\\anaconda3\\lib\\site-packages\\ipykernel_launcher.py:1081: FutureWarning: `alpha` was deprecated in version 1.0 and will be removed in 1.2. Use `alpha_W` and `alpha_H` instead\n"
     ]
    },
    {
     "name": "stdout",
     "output_type": "stream",
     "text": [
      "zero_index=1, k=41, lambda=0.1, alpha_w=NA, alpha_h=0.1, w0=0.4, max_iter=1000, random_state=42\n",
      "running time=1679.1384303569794\n",
      "320\n",
      "[1.0e+00 4.1e+01 1.0e-01 1.0e-01 1.0e-01 5.0e-01 1.0e+03 4.2e+01]\n",
      "[1.0, 41.0, 0.1, 0.1, 0.1, 0.5, 1000.0, 42.0]\n"
     ]
    },
    {
     "name": "stderr",
     "output_type": "stream",
     "text": [
      "C:\\Users\\guoqq17\\anaconda3\\lib\\site-packages\\ipykernel_launcher.py:1081: FutureWarning: `alpha` was deprecated in version 1.0 and will be removed in 1.2. Use `alpha_W` and `alpha_H` instead\n"
     ]
    },
    {
     "name": "stdout",
     "output_type": "stream",
     "text": [
      "zero_index=1, k=41, lambda=0.1, alpha_w=NA, alpha_h=0.1, w0=0.5, max_iter=1000, random_state=42\n",
      "running time=1680.3437988758087\n",
      "306\n",
      "[1.0e+00 4.1e+01 1.0e-01 1.0e-01 1.0e-01 6.0e-01 1.0e+03 4.2e+01]\n",
      "[1.0, 41.0, 0.1, 0.1, 0.1, 0.6, 1000.0, 42.0]\n"
     ]
    },
    {
     "name": "stderr",
     "output_type": "stream",
     "text": [
      "C:\\Users\\guoqq17\\anaconda3\\lib\\site-packages\\ipykernel_launcher.py:1081: FutureWarning: `alpha` was deprecated in version 1.0 and will be removed in 1.2. Use `alpha_W` and `alpha_H` instead\n"
     ]
    },
    {
     "name": "stdout",
     "output_type": "stream",
     "text": [
      "zero_index=1, k=41, lambda=0.1, alpha_w=NA, alpha_h=0.1, w0=0.6, max_iter=1000, random_state=42\n",
      "running time=1677.8121609687805\n",
      "301\n",
      "[1.0e+00 4.1e+01 1.0e-01 1.0e-01 1.0e-01 7.0e-01 1.0e+03 4.2e+01]\n",
      "[1.0, 41.0, 0.1, 0.1, 0.1, 0.7, 1000.0, 42.0]\n"
     ]
    },
    {
     "name": "stderr",
     "output_type": "stream",
     "text": [
      "C:\\Users\\guoqq17\\anaconda3\\lib\\site-packages\\ipykernel_launcher.py:1081: FutureWarning: `alpha` was deprecated in version 1.0 and will be removed in 1.2. Use `alpha_W` and `alpha_H` instead\n"
     ]
    },
    {
     "name": "stdout",
     "output_type": "stream",
     "text": [
      "zero_index=1, k=41, lambda=0.1, alpha_w=NA, alpha_h=0.1, w0=0.7, max_iter=1000, random_state=42\n",
      "running time=1681.5115830898285\n",
      "287\n",
      "[1.0e+00 4.1e+01 1.0e-01 1.0e-01 1.0e-01 8.0e-01 1.0e+03 4.2e+01]\n",
      "[1.0, 41.0, 0.1, 0.1, 0.1, 0.8, 1000.0, 42.0]\n"
     ]
    },
    {
     "name": "stderr",
     "output_type": "stream",
     "text": [
      "C:\\Users\\guoqq17\\anaconda3\\lib\\site-packages\\ipykernel_launcher.py:1081: FutureWarning: `alpha` was deprecated in version 1.0 and will be removed in 1.2. Use `alpha_W` and `alpha_H` instead\n"
     ]
    },
    {
     "name": "stdout",
     "output_type": "stream",
     "text": [
      "zero_index=1, k=41, lambda=0.1, alpha_w=NA, alpha_h=0.1, w0=0.8, max_iter=1000, random_state=42\n",
      "running time=1684.0075209140778\n",
      "281\n",
      "[1.0e+00 4.1e+01 1.0e-01 1.0e-01 1.0e-01 9.0e-01 1.0e+03 4.2e+01]\n",
      "[1.0, 41.0, 0.1, 0.1, 0.1, 0.9, 1000.0, 42.0]\n"
     ]
    },
    {
     "name": "stderr",
     "output_type": "stream",
     "text": [
      "C:\\Users\\guoqq17\\anaconda3\\lib\\site-packages\\ipykernel_launcher.py:1081: FutureWarning: `alpha` was deprecated in version 1.0 and will be removed in 1.2. Use `alpha_W` and `alpha_H` instead\n"
     ]
    },
    {
     "name": "stdout",
     "output_type": "stream",
     "text": [
      "zero_index=1, k=41, lambda=0.1, alpha_w=NA, alpha_h=0.1, w0=0.9, max_iter=1000, random_state=42\n",
      "running time=1680.0600271224976\n",
      "274\n",
      "[1.0e+00 4.1e+01 1.0e-01 1.0e-01 1.0e-01 1.0e+00 1.0e+03 4.2e+01]\n",
      "[1.0, 41.0, 0.1, 0.1, 0.1, 1.0, 1000.0, 42.0]\n"
     ]
    },
    {
     "name": "stderr",
     "output_type": "stream",
     "text": [
      "C:\\Users\\guoqq17\\anaconda3\\lib\\site-packages\\ipykernel_launcher.py:1081: FutureWarning: `alpha` was deprecated in version 1.0 and will be removed in 1.2. Use `alpha_W` and `alpha_H` instead\n"
     ]
    },
    {
     "name": "stdout",
     "output_type": "stream",
     "text": [
      "zero_index=1, k=41, lambda=0.1, alpha_w=NA, alpha_h=0.1, w0=1.0, max_iter=1000, random_state=42\n",
      "running time=1682.4912600517273\n",
      "263\n",
      "[1.0e+00 4.2e+01 1.0e-01 1.0e-01 1.0e-01 1.0e-01 1.0e+03 4.2e+01]\n",
      "[1.0, 42.0, 0.1, 0.1, 0.1, 0.1, 1000.0, 42.0]\n"
     ]
    },
    {
     "name": "stderr",
     "output_type": "stream",
     "text": [
      "C:\\Users\\guoqq17\\anaconda3\\lib\\site-packages\\ipykernel_launcher.py:1081: FutureWarning: `alpha` was deprecated in version 1.0 and will be removed in 1.2. Use `alpha_W` and `alpha_H` instead\n"
     ]
    },
    {
     "name": "stdout",
     "output_type": "stream",
     "text": [
      "zero_index=1, k=42, lambda=0.1, alpha_w=NA, alpha_h=0.1, w0=0.1, max_iter=1000, random_state=42\n",
      "running time=1683.2114374637604\n",
      "388\n",
      "[1.0e+00 4.2e+01 1.0e-01 1.0e-01 1.0e-01 2.0e-01 1.0e+03 4.2e+01]\n",
      "[1.0, 42.0, 0.1, 0.1, 0.1, 0.2, 1000.0, 42.0]\n"
     ]
    },
    {
     "name": "stderr",
     "output_type": "stream",
     "text": [
      "C:\\Users\\guoqq17\\anaconda3\\lib\\site-packages\\ipykernel_launcher.py:1081: FutureWarning: `alpha` was deprecated in version 1.0 and will be removed in 1.2. Use `alpha_W` and `alpha_H` instead\n"
     ]
    },
    {
     "name": "stdout",
     "output_type": "stream",
     "text": [
      "zero_index=1, k=42, lambda=0.1, alpha_w=NA, alpha_h=0.1, w0=0.2, max_iter=1000, random_state=42\n",
      "running time=1686.1031966209412\n",
      "369\n",
      "[1.0e+00 4.2e+01 1.0e-01 1.0e-01 1.0e-01 3.0e-01 1.0e+03 4.2e+01]\n",
      "[1.0, 42.0, 0.1, 0.1, 0.1, 0.3, 1000.0, 42.0]\n"
     ]
    },
    {
     "name": "stderr",
     "output_type": "stream",
     "text": [
      "C:\\Users\\guoqq17\\anaconda3\\lib\\site-packages\\ipykernel_launcher.py:1081: FutureWarning: `alpha` was deprecated in version 1.0 and will be removed in 1.2. Use `alpha_W` and `alpha_H` instead\n"
     ]
    },
    {
     "name": "stdout",
     "output_type": "stream",
     "text": [
      "zero_index=1, k=42, lambda=0.1, alpha_w=NA, alpha_h=0.1, w0=0.3, max_iter=1000, random_state=42\n",
      "running time=1685.9269287586212\n",
      "349\n",
      "[1.0e+00 4.2e+01 1.0e-01 1.0e-01 1.0e-01 4.0e-01 1.0e+03 4.2e+01]\n",
      "[1.0, 42.0, 0.1, 0.1, 0.1, 0.4, 1000.0, 42.0]\n"
     ]
    },
    {
     "name": "stderr",
     "output_type": "stream",
     "text": [
      "C:\\Users\\guoqq17\\anaconda3\\lib\\site-packages\\ipykernel_launcher.py:1081: FutureWarning: `alpha` was deprecated in version 1.0 and will be removed in 1.2. Use `alpha_W` and `alpha_H` instead\n"
     ]
    },
    {
     "name": "stdout",
     "output_type": "stream",
     "text": [
      "zero_index=1, k=42, lambda=0.1, alpha_w=NA, alpha_h=0.1, w0=0.4, max_iter=1000, random_state=42\n",
      "running time=1687.1142950057983\n",
      "330\n",
      "[1.0e+00 4.2e+01 1.0e-01 1.0e-01 1.0e-01 5.0e-01 1.0e+03 4.2e+01]\n",
      "[1.0, 42.0, 0.1, 0.1, 0.1, 0.5, 1000.0, 42.0]\n"
     ]
    },
    {
     "name": "stderr",
     "output_type": "stream",
     "text": [
      "C:\\Users\\guoqq17\\anaconda3\\lib\\site-packages\\ipykernel_launcher.py:1081: FutureWarning: `alpha` was deprecated in version 1.0 and will be removed in 1.2. Use `alpha_W` and `alpha_H` instead\n"
     ]
    },
    {
     "name": "stdout",
     "output_type": "stream",
     "text": [
      "zero_index=1, k=42, lambda=0.1, alpha_w=NA, alpha_h=0.1, w0=0.5, max_iter=1000, random_state=42\n",
      "running time=1684.7908248901367\n",
      "316\n",
      "[1.0e+00 4.2e+01 1.0e-01 1.0e-01 1.0e-01 6.0e-01 1.0e+03 4.2e+01]\n",
      "[1.0, 42.0, 0.1, 0.1, 0.1, 0.6, 1000.0, 42.0]\n"
     ]
    },
    {
     "name": "stderr",
     "output_type": "stream",
     "text": [
      "C:\\Users\\guoqq17\\anaconda3\\lib\\site-packages\\ipykernel_launcher.py:1081: FutureWarning: `alpha` was deprecated in version 1.0 and will be removed in 1.2. Use `alpha_W` and `alpha_H` instead\n"
     ]
    },
    {
     "name": "stdout",
     "output_type": "stream",
     "text": [
      "zero_index=1, k=42, lambda=0.1, alpha_w=NA, alpha_h=0.1, w0=0.6, max_iter=1000, random_state=42\n",
      "running time=1694.3406858444214\n",
      "309\n",
      "[1.0e+00 4.2e+01 1.0e-01 1.0e-01 1.0e-01 7.0e-01 1.0e+03 4.2e+01]\n",
      "[1.0, 42.0, 0.1, 0.1, 0.1, 0.7, 1000.0, 42.0]\n"
     ]
    },
    {
     "name": "stderr",
     "output_type": "stream",
     "text": [
      "C:\\Users\\guoqq17\\anaconda3\\lib\\site-packages\\ipykernel_launcher.py:1081: FutureWarning: `alpha` was deprecated in version 1.0 and will be removed in 1.2. Use `alpha_W` and `alpha_H` instead\n"
     ]
    },
    {
     "name": "stdout",
     "output_type": "stream",
     "text": [
      "zero_index=1, k=42, lambda=0.1, alpha_w=NA, alpha_h=0.1, w0=0.7, max_iter=1000, random_state=42\n",
      "running time=1686.046807050705\n",
      "299\n",
      "[1.0e+00 4.2e+01 1.0e-01 1.0e-01 1.0e-01 8.0e-01 1.0e+03 4.2e+01]\n",
      "[1.0, 42.0, 0.1, 0.1, 0.1, 0.8, 1000.0, 42.0]\n"
     ]
    },
    {
     "name": "stderr",
     "output_type": "stream",
     "text": [
      "C:\\Users\\guoqq17\\anaconda3\\lib\\site-packages\\ipykernel_launcher.py:1081: FutureWarning: `alpha` was deprecated in version 1.0 and will be removed in 1.2. Use `alpha_W` and `alpha_H` instead\n"
     ]
    },
    {
     "name": "stdout",
     "output_type": "stream",
     "text": [
      "zero_index=1, k=42, lambda=0.1, alpha_w=NA, alpha_h=0.1, w0=0.8, max_iter=1000, random_state=42\n",
      "running time=1685.3180568218231\n",
      "289\n",
      "[1.0e+00 4.2e+01 1.0e-01 1.0e-01 1.0e-01 9.0e-01 1.0e+03 4.2e+01]\n",
      "[1.0, 42.0, 0.1, 0.1, 0.1, 0.9, 1000.0, 42.0]\n"
     ]
    },
    {
     "name": "stderr",
     "output_type": "stream",
     "text": [
      "C:\\Users\\guoqq17\\anaconda3\\lib\\site-packages\\ipykernel_launcher.py:1081: FutureWarning: `alpha` was deprecated in version 1.0 and will be removed in 1.2. Use `alpha_W` and `alpha_H` instead\n"
     ]
    },
    {
     "name": "stdout",
     "output_type": "stream",
     "text": [
      "zero_index=1, k=42, lambda=0.1, alpha_w=NA, alpha_h=0.1, w0=0.9, max_iter=1000, random_state=42\n",
      "running time=1685.9087309837341\n",
      "276\n",
      "[1.0e+00 4.2e+01 1.0e-01 1.0e-01 1.0e-01 1.0e+00 1.0e+03 4.2e+01]\n",
      "[1.0, 42.0, 0.1, 0.1, 0.1, 1.0, 1000.0, 42.0]\n"
     ]
    },
    {
     "name": "stderr",
     "output_type": "stream",
     "text": [
      "C:\\Users\\guoqq17\\anaconda3\\lib\\site-packages\\ipykernel_launcher.py:1081: FutureWarning: `alpha` was deprecated in version 1.0 and will be removed in 1.2. Use `alpha_W` and `alpha_H` instead\n"
     ]
    },
    {
     "name": "stdout",
     "output_type": "stream",
     "text": [
      "zero_index=1, k=42, lambda=0.1, alpha_w=NA, alpha_h=0.1, w0=1.0, max_iter=1000, random_state=42\n",
      "running time=1685.4188270568848\n",
      "266\n",
      "[1.0e+00 4.3e+01 1.0e-01 1.0e-01 1.0e-01 1.0e-01 1.0e+03 4.2e+01]\n",
      "[1.0, 43.0, 0.1, 0.1, 0.1, 0.1, 1000.0, 42.0]\n"
     ]
    },
    {
     "name": "stderr",
     "output_type": "stream",
     "text": [
      "C:\\Users\\guoqq17\\anaconda3\\lib\\site-packages\\ipykernel_launcher.py:1081: FutureWarning: `alpha` was deprecated in version 1.0 and will be removed in 1.2. Use `alpha_W` and `alpha_H` instead\n"
     ]
    },
    {
     "name": "stdout",
     "output_type": "stream",
     "text": [
      "zero_index=1, k=43, lambda=0.1, alpha_w=NA, alpha_h=0.1, w0=0.1, max_iter=1000, random_state=42\n",
      "running time=1692.2590885162354\n",
      "422\n",
      "[1.0e+00 4.3e+01 1.0e-01 1.0e-01 1.0e-01 2.0e-01 1.0e+03 4.2e+01]\n",
      "[1.0, 43.0, 0.1, 0.1, 0.1, 0.2, 1000.0, 42.0]\n"
     ]
    },
    {
     "name": "stderr",
     "output_type": "stream",
     "text": [
      "C:\\Users\\guoqq17\\anaconda3\\lib\\site-packages\\ipykernel_launcher.py:1081: FutureWarning: `alpha` was deprecated in version 1.0 and will be removed in 1.2. Use `alpha_W` and `alpha_H` instead\n"
     ]
    },
    {
     "name": "stdout",
     "output_type": "stream",
     "text": [
      "zero_index=1, k=43, lambda=0.1, alpha_w=NA, alpha_h=0.1, w0=0.2, max_iter=1000, random_state=42\n",
      "running time=1689.857483625412\n",
      "397\n",
      "[1.0e+00 4.3e+01 1.0e-01 1.0e-01 1.0e-01 3.0e-01 1.0e+03 4.2e+01]\n",
      "[1.0, 43.0, 0.1, 0.1, 0.1, 0.3, 1000.0, 42.0]\n"
     ]
    },
    {
     "name": "stderr",
     "output_type": "stream",
     "text": [
      "C:\\Users\\guoqq17\\anaconda3\\lib\\site-packages\\ipykernel_launcher.py:1081: FutureWarning: `alpha` was deprecated in version 1.0 and will be removed in 1.2. Use `alpha_W` and `alpha_H` instead\n"
     ]
    },
    {
     "name": "stdout",
     "output_type": "stream",
     "text": [
      "zero_index=1, k=43, lambda=0.1, alpha_w=NA, alpha_h=0.1, w0=0.3, max_iter=1000, random_state=42\n",
      "running time=1691.280217409134\n",
      "379\n",
      "[1.0e+00 4.3e+01 1.0e-01 1.0e-01 1.0e-01 4.0e-01 1.0e+03 4.2e+01]\n",
      "[1.0, 43.0, 0.1, 0.1, 0.1, 0.4, 1000.0, 42.0]\n"
     ]
    },
    {
     "name": "stderr",
     "output_type": "stream",
     "text": [
      "C:\\Users\\guoqq17\\anaconda3\\lib\\site-packages\\ipykernel_launcher.py:1081: FutureWarning: `alpha` was deprecated in version 1.0 and will be removed in 1.2. Use `alpha_W` and `alpha_H` instead\n"
     ]
    },
    {
     "name": "stdout",
     "output_type": "stream",
     "text": [
      "zero_index=1, k=43, lambda=0.1, alpha_w=NA, alpha_h=0.1, w0=0.4, max_iter=1000, random_state=42\n",
      "running time=1690.1799764633179\n",
      "357\n",
      "[1.0e+00 4.3e+01 1.0e-01 1.0e-01 1.0e-01 5.0e-01 1.0e+03 4.2e+01]\n",
      "[1.0, 43.0, 0.1, 0.1, 0.1, 0.5, 1000.0, 42.0]\n"
     ]
    },
    {
     "name": "stderr",
     "output_type": "stream",
     "text": [
      "C:\\Users\\guoqq17\\anaconda3\\lib\\site-packages\\ipykernel_launcher.py:1081: FutureWarning: `alpha` was deprecated in version 1.0 and will be removed in 1.2. Use `alpha_W` and `alpha_H` instead\n"
     ]
    },
    {
     "name": "stdout",
     "output_type": "stream",
     "text": [
      "zero_index=1, k=43, lambda=0.1, alpha_w=NA, alpha_h=0.1, w0=0.5, max_iter=1000, random_state=42\n",
      "running time=1690.7715992927551\n",
      "344\n",
      "[1.0e+00 4.3e+01 1.0e-01 1.0e-01 1.0e-01 6.0e-01 1.0e+03 4.2e+01]\n",
      "[1.0, 43.0, 0.1, 0.1, 0.1, 0.6, 1000.0, 42.0]\n"
     ]
    },
    {
     "name": "stderr",
     "output_type": "stream",
     "text": [
      "C:\\Users\\guoqq17\\anaconda3\\lib\\site-packages\\ipykernel_launcher.py:1081: FutureWarning: `alpha` was deprecated in version 1.0 and will be removed in 1.2. Use `alpha_W` and `alpha_H` instead\n"
     ]
    },
    {
     "name": "stdout",
     "output_type": "stream",
     "text": [
      "zero_index=1, k=43, lambda=0.1, alpha_w=NA, alpha_h=0.1, w0=0.6, max_iter=1000, random_state=42\n",
      "running time=1691.298026561737\n",
      "334\n",
      "[1.0e+00 4.3e+01 1.0e-01 1.0e-01 1.0e-01 7.0e-01 1.0e+03 4.2e+01]\n",
      "[1.0, 43.0, 0.1, 0.1, 0.1, 0.7, 1000.0, 42.0]\n"
     ]
    },
    {
     "name": "stderr",
     "output_type": "stream",
     "text": [
      "C:\\Users\\guoqq17\\anaconda3\\lib\\site-packages\\ipykernel_launcher.py:1081: FutureWarning: `alpha` was deprecated in version 1.0 and will be removed in 1.2. Use `alpha_W` and `alpha_H` instead\n"
     ]
    },
    {
     "name": "stdout",
     "output_type": "stream",
     "text": [
      "zero_index=1, k=43, lambda=0.1, alpha_w=NA, alpha_h=0.1, w0=0.7, max_iter=1000, random_state=42\n",
      "running time=1692.4159126281738\n",
      "324\n",
      "[1.0e+00 4.3e+01 1.0e-01 1.0e-01 1.0e-01 8.0e-01 1.0e+03 4.2e+01]\n",
      "[1.0, 43.0, 0.1, 0.1, 0.1, 0.8, 1000.0, 42.0]\n"
     ]
    },
    {
     "name": "stderr",
     "output_type": "stream",
     "text": [
      "C:\\Users\\guoqq17\\anaconda3\\lib\\site-packages\\ipykernel_launcher.py:1081: FutureWarning: `alpha` was deprecated in version 1.0 and will be removed in 1.2. Use `alpha_W` and `alpha_H` instead\n"
     ]
    },
    {
     "name": "stdout",
     "output_type": "stream",
     "text": [
      "zero_index=1, k=43, lambda=0.1, alpha_w=NA, alpha_h=0.1, w0=0.8, max_iter=1000, random_state=42\n",
      "running time=1690.5780746936798\n",
      "311\n",
      "[1.0e+00 4.3e+01 1.0e-01 1.0e-01 1.0e-01 9.0e-01 1.0e+03 4.2e+01]\n",
      "[1.0, 43.0, 0.1, 0.1, 0.1, 0.9, 1000.0, 42.0]\n"
     ]
    },
    {
     "name": "stderr",
     "output_type": "stream",
     "text": [
      "C:\\Users\\guoqq17\\anaconda3\\lib\\site-packages\\ipykernel_launcher.py:1081: FutureWarning: `alpha` was deprecated in version 1.0 and will be removed in 1.2. Use `alpha_W` and `alpha_H` instead\n"
     ]
    },
    {
     "name": "stdout",
     "output_type": "stream",
     "text": [
      "zero_index=1, k=43, lambda=0.1, alpha_w=NA, alpha_h=0.1, w0=0.9, max_iter=1000, random_state=42\n",
      "running time=1689.2814962863922\n",
      "300\n",
      "[1.0e+00 4.3e+01 1.0e-01 1.0e-01 1.0e-01 1.0e+00 1.0e+03 4.2e+01]\n",
      "[1.0, 43.0, 0.1, 0.1, 0.1, 1.0, 1000.0, 42.0]\n"
     ]
    },
    {
     "name": "stderr",
     "output_type": "stream",
     "text": [
      "C:\\Users\\guoqq17\\anaconda3\\lib\\site-packages\\ipykernel_launcher.py:1081: FutureWarning: `alpha` was deprecated in version 1.0 and will be removed in 1.2. Use `alpha_W` and `alpha_H` instead\n"
     ]
    },
    {
     "name": "stdout",
     "output_type": "stream",
     "text": [
      "zero_index=1, k=43, lambda=0.1, alpha_w=NA, alpha_h=0.1, w0=1.0, max_iter=1000, random_state=42\n",
      "running time=1687.9533574581146\n",
      "281\n",
      "[1.0e+00 4.4e+01 1.0e-01 1.0e-01 1.0e-01 1.0e-01 1.0e+03 4.2e+01]\n",
      "[1.0, 44.0, 0.1, 0.1, 0.1, 0.1, 1000.0, 42.0]\n"
     ]
    },
    {
     "name": "stderr",
     "output_type": "stream",
     "text": [
      "C:\\Users\\guoqq17\\anaconda3\\lib\\site-packages\\ipykernel_launcher.py:1081: FutureWarning: `alpha` was deprecated in version 1.0 and will be removed in 1.2. Use `alpha_W` and `alpha_H` instead\n"
     ]
    },
    {
     "name": "stdout",
     "output_type": "stream",
     "text": [
      "zero_index=1, k=44, lambda=0.1, alpha_w=NA, alpha_h=0.1, w0=0.1, max_iter=1000, random_state=42\n",
      "running time=1688.7646234035492\n",
      "402\n",
      "[1.0e+00 4.4e+01 1.0e-01 1.0e-01 1.0e-01 2.0e-01 1.0e+03 4.2e+01]\n",
      "[1.0, 44.0, 0.1, 0.1, 0.1, 0.2, 1000.0, 42.0]\n"
     ]
    },
    {
     "name": "stderr",
     "output_type": "stream",
     "text": [
      "C:\\Users\\guoqq17\\anaconda3\\lib\\site-packages\\ipykernel_launcher.py:1081: FutureWarning: `alpha` was deprecated in version 1.0 and will be removed in 1.2. Use `alpha_W` and `alpha_H` instead\n"
     ]
    },
    {
     "name": "stdout",
     "output_type": "stream",
     "text": [
      "zero_index=1, k=44, lambda=0.1, alpha_w=NA, alpha_h=0.1, w0=0.2, max_iter=1000, random_state=42\n",
      "running time=1688.19264793396\n",
      "388\n",
      "[1.0e+00 4.4e+01 1.0e-01 1.0e-01 1.0e-01 3.0e-01 1.0e+03 4.2e+01]\n",
      "[1.0, 44.0, 0.1, 0.1, 0.1, 0.3, 1000.0, 42.0]\n"
     ]
    },
    {
     "name": "stderr",
     "output_type": "stream",
     "text": [
      "C:\\Users\\guoqq17\\anaconda3\\lib\\site-packages\\ipykernel_launcher.py:1081: FutureWarning: `alpha` was deprecated in version 1.0 and will be removed in 1.2. Use `alpha_W` and `alpha_H` instead\n"
     ]
    },
    {
     "name": "stdout",
     "output_type": "stream",
     "text": [
      "zero_index=1, k=44, lambda=0.1, alpha_w=NA, alpha_h=0.1, w0=0.3, max_iter=1000, random_state=42\n",
      "running time=1688.4406447410583\n",
      "376\n",
      "[1.0e+00 4.4e+01 1.0e-01 1.0e-01 1.0e-01 4.0e-01 1.0e+03 4.2e+01]\n",
      "[1.0, 44.0, 0.1, 0.1, 0.1, 0.4, 1000.0, 42.0]\n"
     ]
    },
    {
     "name": "stderr",
     "output_type": "stream",
     "text": [
      "C:\\Users\\guoqq17\\anaconda3\\lib\\site-packages\\ipykernel_launcher.py:1081: FutureWarning: `alpha` was deprecated in version 1.0 and will be removed in 1.2. Use `alpha_W` and `alpha_H` instead\n"
     ]
    },
    {
     "name": "stdout",
     "output_type": "stream",
     "text": [
      "zero_index=1, k=44, lambda=0.1, alpha_w=NA, alpha_h=0.1, w0=0.4, max_iter=1000, random_state=42\n",
      "running time=1705.1337897777557\n",
      "348\n",
      "[1.0e+00 4.4e+01 1.0e-01 1.0e-01 1.0e-01 5.0e-01 1.0e+03 4.2e+01]\n",
      "[1.0, 44.0, 0.1, 0.1, 0.1, 0.5, 1000.0, 42.0]\n"
     ]
    },
    {
     "name": "stderr",
     "output_type": "stream",
     "text": [
      "C:\\Users\\guoqq17\\anaconda3\\lib\\site-packages\\ipykernel_launcher.py:1081: FutureWarning: `alpha` was deprecated in version 1.0 and will be removed in 1.2. Use `alpha_W` and `alpha_H` instead\n"
     ]
    },
    {
     "name": "stdout",
     "output_type": "stream",
     "text": [
      "zero_index=1, k=44, lambda=0.1, alpha_w=NA, alpha_h=0.1, w0=0.5, max_iter=1000, random_state=42\n",
      "running time=1685.4838173389435\n",
      "330\n",
      "[1.0e+00 4.4e+01 1.0e-01 1.0e-01 1.0e-01 6.0e-01 1.0e+03 4.2e+01]\n",
      "[1.0, 44.0, 0.1, 0.1, 0.1, 0.6, 1000.0, 42.0]\n"
     ]
    },
    {
     "name": "stderr",
     "output_type": "stream",
     "text": [
      "C:\\Users\\guoqq17\\anaconda3\\lib\\site-packages\\ipykernel_launcher.py:1081: FutureWarning: `alpha` was deprecated in version 1.0 and will be removed in 1.2. Use `alpha_W` and `alpha_H` instead\n"
     ]
    },
    {
     "name": "stdout",
     "output_type": "stream",
     "text": [
      "zero_index=1, k=44, lambda=0.1, alpha_w=NA, alpha_h=0.1, w0=0.6, max_iter=1000, random_state=42\n",
      "running time=1688.2810685634613\n",
      "320\n",
      "[1.0e+00 4.4e+01 1.0e-01 1.0e-01 1.0e-01 7.0e-01 1.0e+03 4.2e+01]\n",
      "[1.0, 44.0, 0.1, 0.1, 0.1, 0.7, 1000.0, 42.0]\n"
     ]
    },
    {
     "name": "stderr",
     "output_type": "stream",
     "text": [
      "C:\\Users\\guoqq17\\anaconda3\\lib\\site-packages\\ipykernel_launcher.py:1081: FutureWarning: `alpha` was deprecated in version 1.0 and will be removed in 1.2. Use `alpha_W` and `alpha_H` instead\n"
     ]
    },
    {
     "name": "stdout",
     "output_type": "stream",
     "text": [
      "zero_index=1, k=44, lambda=0.1, alpha_w=NA, alpha_h=0.1, w0=0.7, max_iter=1000, random_state=42\n",
      "running time=1686.3713355064392\n",
      "310\n",
      "[1.0e+00 4.4e+01 1.0e-01 1.0e-01 1.0e-01 8.0e-01 1.0e+03 4.2e+01]\n",
      "[1.0, 44.0, 0.1, 0.1, 0.1, 0.8, 1000.0, 42.0]\n"
     ]
    },
    {
     "name": "stderr",
     "output_type": "stream",
     "text": [
      "C:\\Users\\guoqq17\\anaconda3\\lib\\site-packages\\ipykernel_launcher.py:1081: FutureWarning: `alpha` was deprecated in version 1.0 and will be removed in 1.2. Use `alpha_W` and `alpha_H` instead\n"
     ]
    },
    {
     "name": "stdout",
     "output_type": "stream",
     "text": [
      "zero_index=1, k=44, lambda=0.1, alpha_w=NA, alpha_h=0.1, w0=0.8, max_iter=1000, random_state=42\n",
      "running time=1687.8030879497528\n",
      "298\n",
      "[1.0e+00 4.4e+01 1.0e-01 1.0e-01 1.0e-01 9.0e-01 1.0e+03 4.2e+01]\n",
      "[1.0, 44.0, 0.1, 0.1, 0.1, 0.9, 1000.0, 42.0]\n"
     ]
    },
    {
     "name": "stderr",
     "output_type": "stream",
     "text": [
      "C:\\Users\\guoqq17\\anaconda3\\lib\\site-packages\\ipykernel_launcher.py:1081: FutureWarning: `alpha` was deprecated in version 1.0 and will be removed in 1.2. Use `alpha_W` and `alpha_H` instead\n"
     ]
    },
    {
     "name": "stdout",
     "output_type": "stream",
     "text": [
      "zero_index=1, k=44, lambda=0.1, alpha_w=NA, alpha_h=0.1, w0=0.9, max_iter=1000, random_state=42\n",
      "running time=1686.6759293079376\n",
      "288\n",
      "[1.0e+00 4.4e+01 1.0e-01 1.0e-01 1.0e-01 1.0e+00 1.0e+03 4.2e+01]\n",
      "[1.0, 44.0, 0.1, 0.1, 0.1, 1.0, 1000.0, 42.0]\n"
     ]
    },
    {
     "name": "stderr",
     "output_type": "stream",
     "text": [
      "C:\\Users\\guoqq17\\anaconda3\\lib\\site-packages\\ipykernel_launcher.py:1081: FutureWarning: `alpha` was deprecated in version 1.0 and will be removed in 1.2. Use `alpha_W` and `alpha_H` instead\n"
     ]
    },
    {
     "name": "stdout",
     "output_type": "stream",
     "text": [
      "zero_index=1, k=44, lambda=0.1, alpha_w=NA, alpha_h=0.1, w0=1.0, max_iter=1000, random_state=42\n",
      "running time=1685.871628522873\n",
      "277\n",
      "[1.0e+00 4.5e+01 1.0e-01 1.0e-01 1.0e-01 1.0e-01 1.0e+03 4.2e+01]\n",
      "[1.0, 45.0, 0.1, 0.1, 0.1, 0.1, 1000.0, 42.0]\n"
     ]
    },
    {
     "name": "stderr",
     "output_type": "stream",
     "text": [
      "C:\\Users\\guoqq17\\anaconda3\\lib\\site-packages\\ipykernel_launcher.py:1081: FutureWarning: `alpha` was deprecated in version 1.0 and will be removed in 1.2. Use `alpha_W` and `alpha_H` instead\n"
     ]
    },
    {
     "name": "stdout",
     "output_type": "stream",
     "text": [
      "zero_index=1, k=45, lambda=0.1, alpha_w=NA, alpha_h=0.1, w0=0.1, max_iter=1000, random_state=42\n",
      "running time=1690.9580545425415\n",
      "400\n",
      "[1.0e+00 4.5e+01 1.0e-01 1.0e-01 1.0e-01 2.0e-01 1.0e+03 4.2e+01]\n",
      "[1.0, 45.0, 0.1, 0.1, 0.1, 0.2, 1000.0, 42.0]\n"
     ]
    },
    {
     "name": "stderr",
     "output_type": "stream",
     "text": [
      "C:\\Users\\guoqq17\\anaconda3\\lib\\site-packages\\ipykernel_launcher.py:1081: FutureWarning: `alpha` was deprecated in version 1.0 and will be removed in 1.2. Use `alpha_W` and `alpha_H` instead\n"
     ]
    },
    {
     "name": "stdout",
     "output_type": "stream",
     "text": [
      "zero_index=1, k=45, lambda=0.1, alpha_w=NA, alpha_h=0.1, w0=0.2, max_iter=1000, random_state=42\n",
      "running time=1691.8230588436127\n",
      "379\n",
      "[1.0e+00 4.5e+01 1.0e-01 1.0e-01 1.0e-01 3.0e-01 1.0e+03 4.2e+01]\n",
      "[1.0, 45.0, 0.1, 0.1, 0.1, 0.3, 1000.0, 42.0]\n"
     ]
    },
    {
     "name": "stderr",
     "output_type": "stream",
     "text": [
      "C:\\Users\\guoqq17\\anaconda3\\lib\\site-packages\\ipykernel_launcher.py:1081: FutureWarning: `alpha` was deprecated in version 1.0 and will be removed in 1.2. Use `alpha_W` and `alpha_H` instead\n"
     ]
    },
    {
     "name": "stdout",
     "output_type": "stream",
     "text": [
      "zero_index=1, k=45, lambda=0.1, alpha_w=NA, alpha_h=0.1, w0=0.3, max_iter=1000, random_state=42\n",
      "running time=1692.360074520111\n",
      "356\n",
      "[1.0e+00 4.5e+01 1.0e-01 1.0e-01 1.0e-01 4.0e-01 1.0e+03 4.2e+01]\n",
      "[1.0, 45.0, 0.1, 0.1, 0.1, 0.4, 1000.0, 42.0]\n"
     ]
    },
    {
     "name": "stderr",
     "output_type": "stream",
     "text": [
      "C:\\Users\\guoqq17\\anaconda3\\lib\\site-packages\\ipykernel_launcher.py:1081: FutureWarning: `alpha` was deprecated in version 1.0 and will be removed in 1.2. Use `alpha_W` and `alpha_H` instead\n"
     ]
    },
    {
     "name": "stdout",
     "output_type": "stream",
     "text": [
      "zero_index=1, k=45, lambda=0.1, alpha_w=NA, alpha_h=0.1, w0=0.4, max_iter=1000, random_state=42\n",
      "running time=1692.5350215435028\n",
      "342\n",
      "[1.0e+00 4.5e+01 1.0e-01 1.0e-01 1.0e-01 5.0e-01 1.0e+03 4.2e+01]\n",
      "[1.0, 45.0, 0.1, 0.1, 0.1, 0.5, 1000.0, 42.0]\n"
     ]
    },
    {
     "name": "stderr",
     "output_type": "stream",
     "text": [
      "C:\\Users\\guoqq17\\anaconda3\\lib\\site-packages\\ipykernel_launcher.py:1081: FutureWarning: `alpha` was deprecated in version 1.0 and will be removed in 1.2. Use `alpha_W` and `alpha_H` instead\n"
     ]
    },
    {
     "name": "stdout",
     "output_type": "stream",
     "text": [
      "zero_index=1, k=45, lambda=0.1, alpha_w=NA, alpha_h=0.1, w0=0.5, max_iter=1000, random_state=42\n",
      "running time=1692.996018409729\n",
      "325\n",
      "[1.0e+00 4.5e+01 1.0e-01 1.0e-01 1.0e-01 6.0e-01 1.0e+03 4.2e+01]\n",
      "[1.0, 45.0, 0.1, 0.1, 0.1, 0.6, 1000.0, 42.0]\n"
     ]
    },
    {
     "name": "stderr",
     "output_type": "stream",
     "text": [
      "C:\\Users\\guoqq17\\anaconda3\\lib\\site-packages\\ipykernel_launcher.py:1081: FutureWarning: `alpha` was deprecated in version 1.0 and will be removed in 1.2. Use `alpha_W` and `alpha_H` instead\n"
     ]
    },
    {
     "name": "stdout",
     "output_type": "stream",
     "text": [
      "zero_index=1, k=45, lambda=0.1, alpha_w=NA, alpha_h=0.1, w0=0.6, max_iter=1000, random_state=42\n",
      "running time=1693.0211250782013\n",
      "317\n",
      "[1.0e+00 4.5e+01 1.0e-01 1.0e-01 1.0e-01 7.0e-01 1.0e+03 4.2e+01]\n",
      "[1.0, 45.0, 0.1, 0.1, 0.1, 0.7, 1000.0, 42.0]\n"
     ]
    },
    {
     "name": "stderr",
     "output_type": "stream",
     "text": [
      "C:\\Users\\guoqq17\\anaconda3\\lib\\site-packages\\ipykernel_launcher.py:1081: FutureWarning: `alpha` was deprecated in version 1.0 and will be removed in 1.2. Use `alpha_W` and `alpha_H` instead\n"
     ]
    },
    {
     "name": "stdout",
     "output_type": "stream",
     "text": [
      "zero_index=1, k=45, lambda=0.1, alpha_w=NA, alpha_h=0.1, w0=0.7, max_iter=1000, random_state=42\n",
      "running time=1691.921436548233\n",
      "312\n",
      "[1.0e+00 4.5e+01 1.0e-01 1.0e-01 1.0e-01 8.0e-01 1.0e+03 4.2e+01]\n",
      "[1.0, 45.0, 0.1, 0.1, 0.1, 0.8, 1000.0, 42.0]\n"
     ]
    },
    {
     "name": "stderr",
     "output_type": "stream",
     "text": [
      "C:\\Users\\guoqq17\\anaconda3\\lib\\site-packages\\ipykernel_launcher.py:1081: FutureWarning: `alpha` was deprecated in version 1.0 and will be removed in 1.2. Use `alpha_W` and `alpha_H` instead\n"
     ]
    },
    {
     "name": "stdout",
     "output_type": "stream",
     "text": [
      "zero_index=1, k=45, lambda=0.1, alpha_w=NA, alpha_h=0.1, w0=0.8, max_iter=1000, random_state=42\n",
      "running time=1693.2624542713165\n",
      "300\n",
      "[1.0e+00 4.5e+01 1.0e-01 1.0e-01 1.0e-01 9.0e-01 1.0e+03 4.2e+01]\n",
      "[1.0, 45.0, 0.1, 0.1, 0.1, 0.9, 1000.0, 42.0]\n"
     ]
    },
    {
     "name": "stderr",
     "output_type": "stream",
     "text": [
      "C:\\Users\\guoqq17\\anaconda3\\lib\\site-packages\\ipykernel_launcher.py:1081: FutureWarning: `alpha` was deprecated in version 1.0 and will be removed in 1.2. Use `alpha_W` and `alpha_H` instead\n"
     ]
    },
    {
     "name": "stdout",
     "output_type": "stream",
     "text": [
      "zero_index=1, k=45, lambda=0.1, alpha_w=NA, alpha_h=0.1, w0=0.9, max_iter=1000, random_state=42\n",
      "running time=1690.098851442337\n",
      "286\n",
      "[1.0e+00 4.5e+01 1.0e-01 1.0e-01 1.0e-01 1.0e+00 1.0e+03 4.2e+01]\n",
      "[1.0, 45.0, 0.1, 0.1, 0.1, 1.0, 1000.0, 42.0]\n"
     ]
    },
    {
     "name": "stderr",
     "output_type": "stream",
     "text": [
      "C:\\Users\\guoqq17\\anaconda3\\lib\\site-packages\\ipykernel_launcher.py:1081: FutureWarning: `alpha` was deprecated in version 1.0 and will be removed in 1.2. Use `alpha_W` and `alpha_H` instead\n"
     ]
    },
    {
     "name": "stdout",
     "output_type": "stream",
     "text": [
      "zero_index=1, k=45, lambda=0.1, alpha_w=NA, alpha_h=0.1, w0=1.0, max_iter=1000, random_state=42\n",
      "running time=1699.7117021083832\n",
      "273\n",
      "[1.0e+00 4.6e+01 1.0e-01 1.0e-01 1.0e-01 1.0e-01 1.0e+03 4.2e+01]\n",
      "[1.0, 46.0, 0.1, 0.1, 0.1, 0.1, 1000.0, 42.0]\n"
     ]
    },
    {
     "name": "stderr",
     "output_type": "stream",
     "text": [
      "C:\\Users\\guoqq17\\anaconda3\\lib\\site-packages\\ipykernel_launcher.py:1081: FutureWarning: `alpha` was deprecated in version 1.0 and will be removed in 1.2. Use `alpha_W` and `alpha_H` instead\n"
     ]
    },
    {
     "name": "stdout",
     "output_type": "stream",
     "text": [
      "zero_index=1, k=46, lambda=0.1, alpha_w=NA, alpha_h=0.1, w0=0.1, max_iter=1000, random_state=42\n",
      "running time=1694.1501188278198\n",
      "417\n",
      "[1.0e+00 4.6e+01 1.0e-01 1.0e-01 1.0e-01 2.0e-01 1.0e+03 4.2e+01]\n",
      "[1.0, 46.0, 0.1, 0.1, 0.1, 0.2, 1000.0, 42.0]\n"
     ]
    },
    {
     "name": "stderr",
     "output_type": "stream",
     "text": [
      "C:\\Users\\guoqq17\\anaconda3\\lib\\site-packages\\ipykernel_launcher.py:1081: FutureWarning: `alpha` was deprecated in version 1.0 and will be removed in 1.2. Use `alpha_W` and `alpha_H` instead\n"
     ]
    },
    {
     "name": "stdout",
     "output_type": "stream",
     "text": [
      "zero_index=1, k=46, lambda=0.1, alpha_w=NA, alpha_h=0.1, w0=0.2, max_iter=1000, random_state=42\n",
      "running time=1694.7465834617615\n",
      "396\n",
      "[1.0e+00 4.6e+01 1.0e-01 1.0e-01 1.0e-01 3.0e-01 1.0e+03 4.2e+01]\n",
      "[1.0, 46.0, 0.1, 0.1, 0.1, 0.3, 1000.0, 42.0]\n"
     ]
    },
    {
     "name": "stderr",
     "output_type": "stream",
     "text": [
      "C:\\Users\\guoqq17\\anaconda3\\lib\\site-packages\\ipykernel_launcher.py:1081: FutureWarning: `alpha` was deprecated in version 1.0 and will be removed in 1.2. Use `alpha_W` and `alpha_H` instead\n"
     ]
    },
    {
     "name": "stdout",
     "output_type": "stream",
     "text": [
      "zero_index=1, k=46, lambda=0.1, alpha_w=NA, alpha_h=0.1, w0=0.3, max_iter=1000, random_state=42\n",
      "running time=1697.2956602573395\n",
      "375\n",
      "[1.0e+00 4.6e+01 1.0e-01 1.0e-01 1.0e-01 4.0e-01 1.0e+03 4.2e+01]\n",
      "[1.0, 46.0, 0.1, 0.1, 0.1, 0.4, 1000.0, 42.0]\n"
     ]
    },
    {
     "name": "stderr",
     "output_type": "stream",
     "text": [
      "C:\\Users\\guoqq17\\anaconda3\\lib\\site-packages\\ipykernel_launcher.py:1081: FutureWarning: `alpha` was deprecated in version 1.0 and will be removed in 1.2. Use `alpha_W` and `alpha_H` instead\n"
     ]
    },
    {
     "name": "stdout",
     "output_type": "stream",
     "text": [
      "zero_index=1, k=46, lambda=0.1, alpha_w=NA, alpha_h=0.1, w0=0.4, max_iter=1000, random_state=42\n",
      "running time=1695.0592715740204\n",
      "356\n",
      "[1.0e+00 4.6e+01 1.0e-01 1.0e-01 1.0e-01 5.0e-01 1.0e+03 4.2e+01]\n",
      "[1.0, 46.0, 0.1, 0.1, 0.1, 0.5, 1000.0, 42.0]\n"
     ]
    },
    {
     "name": "stderr",
     "output_type": "stream",
     "text": [
      "C:\\Users\\guoqq17\\anaconda3\\lib\\site-packages\\ipykernel_launcher.py:1081: FutureWarning: `alpha` was deprecated in version 1.0 and will be removed in 1.2. Use `alpha_W` and `alpha_H` instead\n"
     ]
    },
    {
     "name": "stdout",
     "output_type": "stream",
     "text": [
      "zero_index=1, k=46, lambda=0.1, alpha_w=NA, alpha_h=0.1, w0=0.5, max_iter=1000, random_state=42\n",
      "running time=1694.0812256336212\n",
      "344\n",
      "[1.0e+00 4.6e+01 1.0e-01 1.0e-01 1.0e-01 6.0e-01 1.0e+03 4.2e+01]\n",
      "[1.0, 46.0, 0.1, 0.1, 0.1, 0.6, 1000.0, 42.0]\n"
     ]
    },
    {
     "name": "stderr",
     "output_type": "stream",
     "text": [
      "C:\\Users\\guoqq17\\anaconda3\\lib\\site-packages\\ipykernel_launcher.py:1081: FutureWarning: `alpha` was deprecated in version 1.0 and will be removed in 1.2. Use `alpha_W` and `alpha_H` instead\n"
     ]
    },
    {
     "name": "stdout",
     "output_type": "stream",
     "text": [
      "zero_index=1, k=46, lambda=0.1, alpha_w=NA, alpha_h=0.1, w0=0.6, max_iter=1000, random_state=42\n",
      "running time=1692.9968087673187\n",
      "329\n",
      "[1.0e+00 4.6e+01 1.0e-01 1.0e-01 1.0e-01 7.0e-01 1.0e+03 4.2e+01]\n",
      "[1.0, 46.0, 0.1, 0.1, 0.1, 0.7, 1000.0, 42.0]\n"
     ]
    },
    {
     "name": "stderr",
     "output_type": "stream",
     "text": [
      "C:\\Users\\guoqq17\\anaconda3\\lib\\site-packages\\ipykernel_launcher.py:1081: FutureWarning: `alpha` was deprecated in version 1.0 and will be removed in 1.2. Use `alpha_W` and `alpha_H` instead\n"
     ]
    },
    {
     "name": "stdout",
     "output_type": "stream",
     "text": [
      "zero_index=1, k=46, lambda=0.1, alpha_w=NA, alpha_h=0.1, w0=0.7, max_iter=1000, random_state=42\n",
      "running time=1696.9244318008423\n",
      "315\n",
      "[1.0e+00 4.6e+01 1.0e-01 1.0e-01 1.0e-01 8.0e-01 1.0e+03 4.2e+01]\n",
      "[1.0, 46.0, 0.1, 0.1, 0.1, 0.8, 1000.0, 42.0]\n"
     ]
    },
    {
     "name": "stderr",
     "output_type": "stream",
     "text": [
      "C:\\Users\\guoqq17\\anaconda3\\lib\\site-packages\\ipykernel_launcher.py:1081: FutureWarning: `alpha` was deprecated in version 1.0 and will be removed in 1.2. Use `alpha_W` and `alpha_H` instead\n"
     ]
    },
    {
     "name": "stdout",
     "output_type": "stream",
     "text": [
      "zero_index=1, k=46, lambda=0.1, alpha_w=NA, alpha_h=0.1, w0=0.8, max_iter=1000, random_state=42\n",
      "running time=1696.2995264530182\n",
      "307\n",
      "[1.0e+00 4.6e+01 1.0e-01 1.0e-01 1.0e-01 9.0e-01 1.0e+03 4.2e+01]\n",
      "[1.0, 46.0, 0.1, 0.1, 0.1, 0.9, 1000.0, 42.0]\n"
     ]
    },
    {
     "name": "stderr",
     "output_type": "stream",
     "text": [
      "C:\\Users\\guoqq17\\anaconda3\\lib\\site-packages\\ipykernel_launcher.py:1081: FutureWarning: `alpha` was deprecated in version 1.0 and will be removed in 1.2. Use `alpha_W` and `alpha_H` instead\n"
     ]
    },
    {
     "name": "stdout",
     "output_type": "stream",
     "text": [
      "zero_index=1, k=46, lambda=0.1, alpha_w=NA, alpha_h=0.1, w0=0.9, max_iter=1000, random_state=42\n",
      "running time=1699.0470221042633\n",
      "296\n",
      "[1.0e+00 4.6e+01 1.0e-01 1.0e-01 1.0e-01 1.0e+00 1.0e+03 4.2e+01]\n",
      "[1.0, 46.0, 0.1, 0.1, 0.1, 1.0, 1000.0, 42.0]\n"
     ]
    },
    {
     "name": "stderr",
     "output_type": "stream",
     "text": [
      "C:\\Users\\guoqq17\\anaconda3\\lib\\site-packages\\ipykernel_launcher.py:1081: FutureWarning: `alpha` was deprecated in version 1.0 and will be removed in 1.2. Use `alpha_W` and `alpha_H` instead\n"
     ]
    },
    {
     "name": "stdout",
     "output_type": "stream",
     "text": [
      "zero_index=1, k=46, lambda=0.1, alpha_w=NA, alpha_h=0.1, w0=1.0, max_iter=1000, random_state=42\n",
      "running time=1764.5309331417084\n",
      "287\n",
      "[1.0e+00 4.7e+01 1.0e-01 1.0e-01 1.0e-01 1.0e-01 1.0e+03 4.2e+01]\n",
      "[1.0, 47.0, 0.1, 0.1, 0.1, 0.1, 1000.0, 42.0]\n"
     ]
    },
    {
     "name": "stderr",
     "output_type": "stream",
     "text": [
      "C:\\Users\\guoqq17\\anaconda3\\lib\\site-packages\\ipykernel_launcher.py:1081: FutureWarning: `alpha` was deprecated in version 1.0 and will be removed in 1.2. Use `alpha_W` and `alpha_H` instead\n"
     ]
    },
    {
     "name": "stdout",
     "output_type": "stream",
     "text": [
      "zero_index=1, k=47, lambda=0.1, alpha_w=NA, alpha_h=0.1, w0=0.1, max_iter=1000, random_state=42\n",
      "running time=1865.6390309333801\n",
      "418\n",
      "[1.0e+00 4.7e+01 1.0e-01 1.0e-01 1.0e-01 2.0e-01 1.0e+03 4.2e+01]\n",
      "[1.0, 47.0, 0.1, 0.1, 0.1, 0.2, 1000.0, 42.0]\n"
     ]
    },
    {
     "name": "stderr",
     "output_type": "stream",
     "text": [
      "C:\\Users\\guoqq17\\anaconda3\\lib\\site-packages\\ipykernel_launcher.py:1081: FutureWarning: `alpha` was deprecated in version 1.0 and will be removed in 1.2. Use `alpha_W` and `alpha_H` instead\n"
     ]
    },
    {
     "name": "stdout",
     "output_type": "stream",
     "text": [
      "zero_index=1, k=47, lambda=0.1, alpha_w=NA, alpha_h=0.1, w0=0.2, max_iter=1000, random_state=42\n",
      "running time=1862.6366965770721\n",
      "397\n",
      "[1.0e+00 4.7e+01 1.0e-01 1.0e-01 1.0e-01 3.0e-01 1.0e+03 4.2e+01]\n",
      "[1.0, 47.0, 0.1, 0.1, 0.1, 0.3, 1000.0, 42.0]\n"
     ]
    },
    {
     "name": "stderr",
     "output_type": "stream",
     "text": [
      "C:\\Users\\guoqq17\\anaconda3\\lib\\site-packages\\ipykernel_launcher.py:1081: FutureWarning: `alpha` was deprecated in version 1.0 and will be removed in 1.2. Use `alpha_W` and `alpha_H` instead\n"
     ]
    },
    {
     "name": "stdout",
     "output_type": "stream",
     "text": [
      "zero_index=1, k=47, lambda=0.1, alpha_w=NA, alpha_h=0.1, w0=0.3, max_iter=1000, random_state=42\n",
      "running time=1859.7924785614014\n",
      "373\n",
      "[1.0e+00 4.7e+01 1.0e-01 1.0e-01 1.0e-01 4.0e-01 1.0e+03 4.2e+01]\n",
      "[1.0, 47.0, 0.1, 0.1, 0.1, 0.4, 1000.0, 42.0]\n"
     ]
    },
    {
     "name": "stderr",
     "output_type": "stream",
     "text": [
      "C:\\Users\\guoqq17\\anaconda3\\lib\\site-packages\\ipykernel_launcher.py:1081: FutureWarning: `alpha` was deprecated in version 1.0 and will be removed in 1.2. Use `alpha_W` and `alpha_H` instead\n"
     ]
    },
    {
     "name": "stdout",
     "output_type": "stream",
     "text": [
      "zero_index=1, k=47, lambda=0.1, alpha_w=NA, alpha_h=0.1, w0=0.4, max_iter=1000, random_state=42\n",
      "running time=1859.5694961547852\n",
      "356\n",
      "[1.0e+00 4.7e+01 1.0e-01 1.0e-01 1.0e-01 5.0e-01 1.0e+03 4.2e+01]\n",
      "[1.0, 47.0, 0.1, 0.1, 0.1, 0.5, 1000.0, 42.0]\n"
     ]
    },
    {
     "name": "stderr",
     "output_type": "stream",
     "text": [
      "C:\\Users\\guoqq17\\anaconda3\\lib\\site-packages\\ipykernel_launcher.py:1081: FutureWarning: `alpha` was deprecated in version 1.0 and will be removed in 1.2. Use `alpha_W` and `alpha_H` instead\n"
     ]
    },
    {
     "name": "stdout",
     "output_type": "stream",
     "text": [
      "zero_index=1, k=47, lambda=0.1, alpha_w=NA, alpha_h=0.1, w0=0.5, max_iter=1000, random_state=42\n",
      "running time=1855.9394342899323\n",
      "340\n",
      "[1.0e+00 4.7e+01 1.0e-01 1.0e-01 1.0e-01 6.0e-01 1.0e+03 4.2e+01]\n",
      "[1.0, 47.0, 0.1, 0.1, 0.1, 0.6, 1000.0, 42.0]\n"
     ]
    },
    {
     "name": "stderr",
     "output_type": "stream",
     "text": [
      "C:\\Users\\guoqq17\\anaconda3\\lib\\site-packages\\ipykernel_launcher.py:1081: FutureWarning: `alpha` was deprecated in version 1.0 and will be removed in 1.2. Use `alpha_W` and `alpha_H` instead\n"
     ]
    },
    {
     "name": "stdout",
     "output_type": "stream",
     "text": [
      "zero_index=1, k=47, lambda=0.1, alpha_w=NA, alpha_h=0.1, w0=0.6, max_iter=1000, random_state=42\n",
      "running time=1848.6090204715729\n",
      "330\n",
      "[1.0e+00 4.7e+01 1.0e-01 1.0e-01 1.0e-01 7.0e-01 1.0e+03 4.2e+01]\n",
      "[1.0, 47.0, 0.1, 0.1, 0.1, 0.7, 1000.0, 42.0]\n"
     ]
    },
    {
     "name": "stderr",
     "output_type": "stream",
     "text": [
      "C:\\Users\\guoqq17\\anaconda3\\lib\\site-packages\\ipykernel_launcher.py:1081: FutureWarning: `alpha` was deprecated in version 1.0 and will be removed in 1.2. Use `alpha_W` and `alpha_H` instead\n"
     ]
    },
    {
     "name": "stdout",
     "output_type": "stream",
     "text": [
      "zero_index=1, k=47, lambda=0.1, alpha_w=NA, alpha_h=0.1, w0=0.7, max_iter=1000, random_state=42\n",
      "running time=1848.4427075386047\n",
      "322\n",
      "[1.0e+00 4.7e+01 1.0e-01 1.0e-01 1.0e-01 8.0e-01 1.0e+03 4.2e+01]\n",
      "[1.0, 47.0, 0.1, 0.1, 0.1, 0.8, 1000.0, 42.0]\n"
     ]
    },
    {
     "name": "stderr",
     "output_type": "stream",
     "text": [
      "C:\\Users\\guoqq17\\anaconda3\\lib\\site-packages\\ipykernel_launcher.py:1081: FutureWarning: `alpha` was deprecated in version 1.0 and will be removed in 1.2. Use `alpha_W` and `alpha_H` instead\n"
     ]
    },
    {
     "name": "stdout",
     "output_type": "stream",
     "text": [
      "zero_index=1, k=47, lambda=0.1, alpha_w=NA, alpha_h=0.1, w0=0.8, max_iter=1000, random_state=42\n",
      "running time=1824.539085149765\n",
      "311\n",
      "[1.0e+00 4.7e+01 1.0e-01 1.0e-01 1.0e-01 9.0e-01 1.0e+03 4.2e+01]\n",
      "[1.0, 47.0, 0.1, 0.1, 0.1, 0.9, 1000.0, 42.0]\n"
     ]
    },
    {
     "name": "stderr",
     "output_type": "stream",
     "text": [
      "C:\\Users\\guoqq17\\anaconda3\\lib\\site-packages\\ipykernel_launcher.py:1081: FutureWarning: `alpha` was deprecated in version 1.0 and will be removed in 1.2. Use `alpha_W` and `alpha_H` instead\n"
     ]
    },
    {
     "name": "stdout",
     "output_type": "stream",
     "text": [
      "zero_index=1, k=47, lambda=0.1, alpha_w=NA, alpha_h=0.1, w0=0.9, max_iter=1000, random_state=42\n",
      "running time=1819.406779050827\n",
      "302\n",
      "[1.0e+00 4.7e+01 1.0e-01 1.0e-01 1.0e-01 1.0e+00 1.0e+03 4.2e+01]\n",
      "[1.0, 47.0, 0.1, 0.1, 0.1, 1.0, 1000.0, 42.0]\n"
     ]
    },
    {
     "name": "stderr",
     "output_type": "stream",
     "text": [
      "C:\\Users\\guoqq17\\anaconda3\\lib\\site-packages\\ipykernel_launcher.py:1081: FutureWarning: `alpha` was deprecated in version 1.0 and will be removed in 1.2. Use `alpha_W` and `alpha_H` instead\n"
     ]
    },
    {
     "name": "stdout",
     "output_type": "stream",
     "text": [
      "zero_index=1, k=47, lambda=0.1, alpha_w=NA, alpha_h=0.1, w0=1.0, max_iter=1000, random_state=42\n",
      "running time=1824.4247508049011\n",
      "287\n",
      "[1.0e+00 4.8e+01 1.0e-01 1.0e-01 1.0e-01 1.0e-01 1.0e+03 4.2e+01]\n",
      "[1.0, 48.0, 0.1, 0.1, 0.1, 0.1, 1000.0, 42.0]\n"
     ]
    },
    {
     "name": "stderr",
     "output_type": "stream",
     "text": [
      "C:\\Users\\guoqq17\\anaconda3\\lib\\site-packages\\ipykernel_launcher.py:1081: FutureWarning: `alpha` was deprecated in version 1.0 and will be removed in 1.2. Use `alpha_W` and `alpha_H` instead\n"
     ]
    },
    {
     "name": "stdout",
     "output_type": "stream",
     "text": [
      "zero_index=1, k=48, lambda=0.1, alpha_w=NA, alpha_h=0.1, w0=0.1, max_iter=1000, random_state=42\n",
      "running time=1812.2562325000763\n",
      "435\n",
      "[1.0e+00 4.8e+01 1.0e-01 1.0e-01 1.0e-01 2.0e-01 1.0e+03 4.2e+01]\n",
      "[1.0, 48.0, 0.1, 0.1, 0.1, 0.2, 1000.0, 42.0]\n"
     ]
    },
    {
     "name": "stderr",
     "output_type": "stream",
     "text": [
      "C:\\Users\\guoqq17\\anaconda3\\lib\\site-packages\\ipykernel_launcher.py:1081: FutureWarning: `alpha` was deprecated in version 1.0 and will be removed in 1.2. Use `alpha_W` and `alpha_H` instead\n"
     ]
    },
    {
     "name": "stdout",
     "output_type": "stream",
     "text": [
      "zero_index=1, k=48, lambda=0.1, alpha_w=NA, alpha_h=0.1, w0=0.2, max_iter=1000, random_state=42\n",
      "running time=1815.0371096134186\n",
      "414\n",
      "[1.0e+00 4.8e+01 1.0e-01 1.0e-01 1.0e-01 3.0e-01 1.0e+03 4.2e+01]\n",
      "[1.0, 48.0, 0.1, 0.1, 0.1, 0.3, 1000.0, 42.0]\n"
     ]
    },
    {
     "name": "stderr",
     "output_type": "stream",
     "text": [
      "C:\\Users\\guoqq17\\anaconda3\\lib\\site-packages\\ipykernel_launcher.py:1081: FutureWarning: `alpha` was deprecated in version 1.0 and will be removed in 1.2. Use `alpha_W` and `alpha_H` instead\n"
     ]
    },
    {
     "name": "stdout",
     "output_type": "stream",
     "text": [
      "zero_index=1, k=48, lambda=0.1, alpha_w=NA, alpha_h=0.1, w0=0.3, max_iter=1000, random_state=42\n",
      "running time=1819.9684863090515\n",
      "385\n",
      "[1.0e+00 4.8e+01 1.0e-01 1.0e-01 1.0e-01 4.0e-01 1.0e+03 4.2e+01]\n",
      "[1.0, 48.0, 0.1, 0.1, 0.1, 0.4, 1000.0, 42.0]\n"
     ]
    },
    {
     "name": "stderr",
     "output_type": "stream",
     "text": [
      "C:\\Users\\guoqq17\\anaconda3\\lib\\site-packages\\ipykernel_launcher.py:1081: FutureWarning: `alpha` was deprecated in version 1.0 and will be removed in 1.2. Use `alpha_W` and `alpha_H` instead\n"
     ]
    },
    {
     "name": "stdout",
     "output_type": "stream",
     "text": [
      "zero_index=1, k=48, lambda=0.1, alpha_w=NA, alpha_h=0.1, w0=0.4, max_iter=1000, random_state=42\n",
      "running time=1811.4828357696533\n",
      "363\n",
      "[1.0e+00 4.8e+01 1.0e-01 1.0e-01 1.0e-01 5.0e-01 1.0e+03 4.2e+01]\n",
      "[1.0, 48.0, 0.1, 0.1, 0.1, 0.5, 1000.0, 42.0]\n"
     ]
    },
    {
     "name": "stderr",
     "output_type": "stream",
     "text": [
      "C:\\Users\\guoqq17\\anaconda3\\lib\\site-packages\\ipykernel_launcher.py:1081: FutureWarning: `alpha` was deprecated in version 1.0 and will be removed in 1.2. Use `alpha_W` and `alpha_H` instead\n"
     ]
    },
    {
     "name": "stdout",
     "output_type": "stream",
     "text": [
      "zero_index=1, k=48, lambda=0.1, alpha_w=NA, alpha_h=0.1, w0=0.5, max_iter=1000, random_state=42\n",
      "running time=1818.9637432098389\n",
      "344\n",
      "[1.0e+00 4.8e+01 1.0e-01 1.0e-01 1.0e-01 6.0e-01 1.0e+03 4.2e+01]\n",
      "[1.0, 48.0, 0.1, 0.1, 0.1, 0.6, 1000.0, 42.0]\n"
     ]
    },
    {
     "name": "stderr",
     "output_type": "stream",
     "text": [
      "C:\\Users\\guoqq17\\anaconda3\\lib\\site-packages\\ipykernel_launcher.py:1081: FutureWarning: `alpha` was deprecated in version 1.0 and will be removed in 1.2. Use `alpha_W` and `alpha_H` instead\n"
     ]
    },
    {
     "name": "stdout",
     "output_type": "stream",
     "text": [
      "zero_index=1, k=48, lambda=0.1, alpha_w=NA, alpha_h=0.1, w0=0.6, max_iter=1000, random_state=42\n",
      "running time=1815.6982862949371\n",
      "335\n",
      "[1.0e+00 4.8e+01 1.0e-01 1.0e-01 1.0e-01 7.0e-01 1.0e+03 4.2e+01]\n",
      "[1.0, 48.0, 0.1, 0.1, 0.1, 0.7, 1000.0, 42.0]\n"
     ]
    },
    {
     "name": "stderr",
     "output_type": "stream",
     "text": [
      "C:\\Users\\guoqq17\\anaconda3\\lib\\site-packages\\ipykernel_launcher.py:1081: FutureWarning: `alpha` was deprecated in version 1.0 and will be removed in 1.2. Use `alpha_W` and `alpha_H` instead\n"
     ]
    },
    {
     "name": "stdout",
     "output_type": "stream",
     "text": [
      "zero_index=1, k=48, lambda=0.1, alpha_w=NA, alpha_h=0.1, w0=0.7, max_iter=1000, random_state=42\n",
      "running time=1818.9959573745728\n",
      "326\n",
      "[1.0e+00 4.8e+01 1.0e-01 1.0e-01 1.0e-01 8.0e-01 1.0e+03 4.2e+01]\n",
      "[1.0, 48.0, 0.1, 0.1, 0.1, 0.8, 1000.0, 42.0]\n"
     ]
    },
    {
     "name": "stderr",
     "output_type": "stream",
     "text": [
      "C:\\Users\\guoqq17\\anaconda3\\lib\\site-packages\\ipykernel_launcher.py:1081: FutureWarning: `alpha` was deprecated in version 1.0 and will be removed in 1.2. Use `alpha_W` and `alpha_H` instead\n"
     ]
    },
    {
     "name": "stdout",
     "output_type": "stream",
     "text": [
      "zero_index=1, k=48, lambda=0.1, alpha_w=NA, alpha_h=0.1, w0=0.8, max_iter=1000, random_state=42\n",
      "running time=1821.088322877884\n",
      "306\n",
      "[1.0e+00 4.8e+01 1.0e-01 1.0e-01 1.0e-01 9.0e-01 1.0e+03 4.2e+01]\n",
      "[1.0, 48.0, 0.1, 0.1, 0.1, 0.9, 1000.0, 42.0]\n"
     ]
    },
    {
     "name": "stderr",
     "output_type": "stream",
     "text": [
      "C:\\Users\\guoqq17\\anaconda3\\lib\\site-packages\\ipykernel_launcher.py:1081: FutureWarning: `alpha` was deprecated in version 1.0 and will be removed in 1.2. Use `alpha_W` and `alpha_H` instead\n"
     ]
    },
    {
     "name": "stdout",
     "output_type": "stream",
     "text": [
      "zero_index=1, k=48, lambda=0.1, alpha_w=NA, alpha_h=0.1, w0=0.9, max_iter=1000, random_state=42\n",
      "running time=1816.0053868293762\n",
      "300\n",
      "[1.0e+00 4.8e+01 1.0e-01 1.0e-01 1.0e-01 1.0e+00 1.0e+03 4.2e+01]\n",
      "[1.0, 48.0, 0.1, 0.1, 0.1, 1.0, 1000.0, 42.0]\n"
     ]
    },
    {
     "name": "stderr",
     "output_type": "stream",
     "text": [
      "C:\\Users\\guoqq17\\anaconda3\\lib\\site-packages\\ipykernel_launcher.py:1081: FutureWarning: `alpha` was deprecated in version 1.0 and will be removed in 1.2. Use `alpha_W` and `alpha_H` instead\n"
     ]
    },
    {
     "name": "stdout",
     "output_type": "stream",
     "text": [
      "zero_index=1, k=48, lambda=0.1, alpha_w=NA, alpha_h=0.1, w0=1.0, max_iter=1000, random_state=42\n",
      "running time=1703.3107879161835\n",
      "290\n",
      "[1.0e+00 4.9e+01 1.0e-01 1.0e-01 1.0e-01 1.0e-01 1.0e+03 4.2e+01]\n",
      "[1.0, 49.0, 0.1, 0.1, 0.1, 0.1, 1000.0, 42.0]\n"
     ]
    },
    {
     "name": "stderr",
     "output_type": "stream",
     "text": [
      "C:\\Users\\guoqq17\\anaconda3\\lib\\site-packages\\ipykernel_launcher.py:1081: FutureWarning: `alpha` was deprecated in version 1.0 and will be removed in 1.2. Use `alpha_W` and `alpha_H` instead\n"
     ]
    },
    {
     "name": "stdout",
     "output_type": "stream",
     "text": [
      "zero_index=1, k=49, lambda=0.1, alpha_w=NA, alpha_h=0.1, w0=0.1, max_iter=1000, random_state=42\n",
      "running time=1709.9395287036896\n",
      "437\n",
      "[1.0e+00 4.9e+01 1.0e-01 1.0e-01 1.0e-01 2.0e-01 1.0e+03 4.2e+01]\n",
      "[1.0, 49.0, 0.1, 0.1, 0.1, 0.2, 1000.0, 42.0]\n"
     ]
    },
    {
     "name": "stderr",
     "output_type": "stream",
     "text": [
      "C:\\Users\\guoqq17\\anaconda3\\lib\\site-packages\\ipykernel_launcher.py:1081: FutureWarning: `alpha` was deprecated in version 1.0 and will be removed in 1.2. Use `alpha_W` and `alpha_H` instead\n"
     ]
    },
    {
     "name": "stdout",
     "output_type": "stream",
     "text": [
      "zero_index=1, k=49, lambda=0.1, alpha_w=NA, alpha_h=0.1, w0=0.2, max_iter=1000, random_state=42\n",
      "running time=1708.5414643287659\n",
      "414\n",
      "[1.0e+00 4.9e+01 1.0e-01 1.0e-01 1.0e-01 3.0e-01 1.0e+03 4.2e+01]\n",
      "[1.0, 49.0, 0.1, 0.1, 0.1, 0.3, 1000.0, 42.0]\n"
     ]
    },
    {
     "name": "stderr",
     "output_type": "stream",
     "text": [
      "C:\\Users\\guoqq17\\anaconda3\\lib\\site-packages\\ipykernel_launcher.py:1081: FutureWarning: `alpha` was deprecated in version 1.0 and will be removed in 1.2. Use `alpha_W` and `alpha_H` instead\n"
     ]
    },
    {
     "name": "stdout",
     "output_type": "stream",
     "text": [
      "zero_index=1, k=49, lambda=0.1, alpha_w=NA, alpha_h=0.1, w0=0.3, max_iter=1000, random_state=42\n",
      "running time=1708.4363622665405\n",
      "390\n",
      "[1.0e+00 4.9e+01 1.0e-01 1.0e-01 1.0e-01 4.0e-01 1.0e+03 4.2e+01]\n",
      "[1.0, 49.0, 0.1, 0.1, 0.1, 0.4, 1000.0, 42.0]\n"
     ]
    },
    {
     "name": "stderr",
     "output_type": "stream",
     "text": [
      "C:\\Users\\guoqq17\\anaconda3\\lib\\site-packages\\ipykernel_launcher.py:1081: FutureWarning: `alpha` was deprecated in version 1.0 and will be removed in 1.2. Use `alpha_W` and `alpha_H` instead\n"
     ]
    }
   ],
   "source": [
    "parameter_test(alpha_test_dict_k1, params, \n",
    "               cur_dict_keys, test_matrice_reverse, \n",
    "               Zero_index, 'nmf_est_result.txt', \n",
    "               combine_index = True,\n",
    "               print_index = False,\n",
    "               single_alpha=True)"
   ]
  },
  {
   "cell_type": "code",
   "execution_count": null,
   "metadata": {},
   "outputs": [],
   "source": [
    "parameter_test(alpha_test_dict_k2, params, \n",
    "               cur_dict_keys, test_matrice_reverse, \n",
    "               Zero_index, 'nmf_est_result.txt', \n",
    "               combine_index = True,\n",
    "               print_index = False,\n",
    "               single_alpha=True)"
   ]
  },
  {
   "cell_type": "code",
   "execution_count": null,
   "metadata": {},
   "outputs": [
    {
     "name": "stdout",
     "output_type": "stream",
     "text": [
      "test paramters: k\n",
      "test paramters: lambda\n",
      "test paramters: alpha_w\n",
      "test paramters: alpha_h\n",
      "test paramters: w0\n",
      "['k', 'lambda', 'alpha_w', 'alpha_h', 'w0']\n",
      "[1.0e+00 8.0e+00 0.0e+00 0.0e+00 0.0e+00 1.0e-01 1.0e+03 4.2e+01]\n",
      "[1.0, 8.0, 0.0, 0.0, 0.0, 0.1, 1000.0, 42.0]\n"
     ]
    },
    {
     "name": "stderr",
     "output_type": "stream",
     "text": [
      "C:\\Users\\guoqq17\\anaconda3\\lib\\site-packages\\ipykernel_launcher.py:1081: FutureWarning: `alpha` was deprecated in version 1.0 and will be removed in 1.2. Use `alpha_W` and `alpha_H` instead\n"
     ]
    },
    {
     "name": "stdout",
     "output_type": "stream",
     "text": [
      "zero_index=1, k=8, lambda=0.0, alpha_w=NA, alpha_h=0.0, w0=0.1, max_iter=1000, random_state=42\n",
      "running time=1671.0879447460175\n",
      "595\n",
      "[1.0e+00 8.0e+00 0.0e+00 0.0e+00 0.0e+00 2.0e-01 1.0e+03 4.2e+01]\n",
      "[1.0, 8.0, 0.0, 0.0, 0.0, 0.2, 1000.0, 42.0]\n"
     ]
    },
    {
     "name": "stderr",
     "output_type": "stream",
     "text": [
      "C:\\Users\\guoqq17\\anaconda3\\lib\\site-packages\\ipykernel_launcher.py:1081: FutureWarning: `alpha` was deprecated in version 1.0 and will be removed in 1.2. Use `alpha_W` and `alpha_H` instead\n"
     ]
    },
    {
     "name": "stdout",
     "output_type": "stream",
     "text": [
      "zero_index=1, k=8, lambda=0.0, alpha_w=NA, alpha_h=0.0, w0=0.2, max_iter=1000, random_state=42\n",
      "running time=1670.0523300170898\n",
      "531\n",
      "[1.0e+00 8.0e+00 0.0e+00 0.0e+00 0.0e+00 3.0e-01 1.0e+03 4.2e+01]\n",
      "[1.0, 8.0, 0.0, 0.0, 0.0, 0.3, 1000.0, 42.0]\n"
     ]
    },
    {
     "name": "stderr",
     "output_type": "stream",
     "text": [
      "C:\\Users\\guoqq17\\anaconda3\\lib\\site-packages\\ipykernel_launcher.py:1081: FutureWarning: `alpha` was deprecated in version 1.0 and will be removed in 1.2. Use `alpha_W` and `alpha_H` instead\n"
     ]
    },
    {
     "name": "stdout",
     "output_type": "stream",
     "text": [
      "zero_index=1, k=8, lambda=0.0, alpha_w=NA, alpha_h=0.0, w0=0.3, max_iter=1000, random_state=42\n",
      "running time=1669.808325767517\n",
      "471\n",
      "[1.0e+00 8.0e+00 0.0e+00 0.0e+00 0.0e+00 4.0e-01 1.0e+03 4.2e+01]\n",
      "[1.0, 8.0, 0.0, 0.0, 0.0, 0.4, 1000.0, 42.0]\n"
     ]
    },
    {
     "name": "stderr",
     "output_type": "stream",
     "text": [
      "C:\\Users\\guoqq17\\anaconda3\\lib\\site-packages\\ipykernel_launcher.py:1081: FutureWarning: `alpha` was deprecated in version 1.0 and will be removed in 1.2. Use `alpha_W` and `alpha_H` instead\n"
     ]
    },
    {
     "name": "stdout",
     "output_type": "stream",
     "text": [
      "zero_index=1, k=8, lambda=0.0, alpha_w=NA, alpha_h=0.0, w0=0.4, max_iter=1000, random_state=42\n",
      "running time=1671.0600700378418\n",
      "407\n",
      "[1.0e+00 8.0e+00 0.0e+00 0.0e+00 0.0e+00 5.0e-01 1.0e+03 4.2e+01]\n",
      "[1.0, 8.0, 0.0, 0.0, 0.0, 0.5, 1000.0, 42.0]\n"
     ]
    },
    {
     "name": "stderr",
     "output_type": "stream",
     "text": [
      "C:\\Users\\guoqq17\\anaconda3\\lib\\site-packages\\ipykernel_launcher.py:1081: FutureWarning: `alpha` was deprecated in version 1.0 and will be removed in 1.2. Use `alpha_W` and `alpha_H` instead\n"
     ]
    },
    {
     "name": "stdout",
     "output_type": "stream",
     "text": [
      "zero_index=1, k=8, lambda=0.0, alpha_w=NA, alpha_h=0.0, w0=0.5, max_iter=1000, random_state=42\n",
      "running time=1672.0155265331268\n",
      "357\n",
      "[1.0e+00 8.0e+00 0.0e+00 0.0e+00 0.0e+00 6.0e-01 1.0e+03 4.2e+01]\n",
      "[1.0, 8.0, 0.0, 0.0, 0.0, 0.6, 1000.0, 42.0]\n"
     ]
    },
    {
     "name": "stderr",
     "output_type": "stream",
     "text": [
      "C:\\Users\\guoqq17\\anaconda3\\lib\\site-packages\\ipykernel_launcher.py:1081: FutureWarning: `alpha` was deprecated in version 1.0 and will be removed in 1.2. Use `alpha_W` and `alpha_H` instead\n"
     ]
    },
    {
     "name": "stdout",
     "output_type": "stream",
     "text": [
      "zero_index=1, k=8, lambda=0.0, alpha_w=NA, alpha_h=0.0, w0=0.6, max_iter=1000, random_state=42\n",
      "running time=1677.3077480793\n",
      "325\n",
      "[1.0e+00 8.0e+00 0.0e+00 0.0e+00 0.0e+00 7.0e-01 1.0e+03 4.2e+01]\n",
      "[1.0, 8.0, 0.0, 0.0, 0.0, 0.7, 1000.0, 42.0]\n"
     ]
    },
    {
     "name": "stderr",
     "output_type": "stream",
     "text": [
      "C:\\Users\\guoqq17\\anaconda3\\lib\\site-packages\\ipykernel_launcher.py:1081: FutureWarning: `alpha` was deprecated in version 1.0 and will be removed in 1.2. Use `alpha_W` and `alpha_H` instead\n"
     ]
    },
    {
     "name": "stdout",
     "output_type": "stream",
     "text": [
      "zero_index=1, k=8, lambda=0.0, alpha_w=NA, alpha_h=0.0, w0=0.7, max_iter=1000, random_state=42\n",
      "running time=1674.1718952655792\n",
      "275\n",
      "[1.0e+00 8.0e+00 0.0e+00 0.0e+00 0.0e+00 8.0e-01 1.0e+03 4.2e+01]\n",
      "[1.0, 8.0, 0.0, 0.0, 0.0, 0.8, 1000.0, 42.0]\n"
     ]
    },
    {
     "name": "stderr",
     "output_type": "stream",
     "text": [
      "C:\\Users\\guoqq17\\anaconda3\\lib\\site-packages\\ipykernel_launcher.py:1081: FutureWarning: `alpha` was deprecated in version 1.0 and will be removed in 1.2. Use `alpha_W` and `alpha_H` instead\n"
     ]
    },
    {
     "name": "stdout",
     "output_type": "stream",
     "text": [
      "zero_index=1, k=8, lambda=0.0, alpha_w=NA, alpha_h=0.0, w0=0.8, max_iter=1000, random_state=42\n",
      "running time=1671.1326925754547\n",
      "248\n",
      "[1.0e+00 8.0e+00 0.0e+00 0.0e+00 0.0e+00 9.0e-01 1.0e+03 4.2e+01]\n",
      "[1.0, 8.0, 0.0, 0.0, 0.0, 0.9, 1000.0, 42.0]\n"
     ]
    },
    {
     "name": "stderr",
     "output_type": "stream",
     "text": [
      "C:\\Users\\guoqq17\\anaconda3\\lib\\site-packages\\ipykernel_launcher.py:1081: FutureWarning: `alpha` was deprecated in version 1.0 and will be removed in 1.2. Use `alpha_W` and `alpha_H` instead\n"
     ]
    }
   ],
   "source": [
    "para_cb_dict = create_test_param_dict([1, [8, 15], l1, alpha_para, alpha_para, zero_w, 1000, 42], params)\n",
    "\n",
    "parameter_test(para_cb_dict, params, \n",
    "               cur_dict_keys, test_matrice_reverse, \n",
    "               Zero_index, 'nmf_est_result.txt', \n",
    "               combine_index = True,\n",
    "               print_index = False,\n",
    "               single_alpha=True)"
   ]
  },
  {
   "cell_type": "code",
   "execution_count": null,
   "metadata": {},
   "outputs": [],
   "source": [
    "para_cb_dict_wo0 = create_test_param_dict([0, [8, 15], l1, alpha_para, alpha_para, 0, 1000, 42], params)\n",
    "\n",
    "parameter_test(para_cb_dict_wo0, params, \n",
    "               cur_dict_keys, test_matrice_reverse, \n",
    "               Zero_index, 'nmf_est_result.txt', \n",
    "               combine_index = True,\n",
    "               print_index = False,\n",
    "               single_alpha=True)"
   ]
  },
  {
   "cell_type": "code",
   "execution_count": null,
   "metadata": {},
   "outputs": [],
   "source": [
    "para_cb_dict_2alpha = create_test_param_dict([1, [8, 15], l1, alpha_para, alpha_para, zero_w, 1000, 42], params)\n",
    "parameter_test(para_cb_dict_2alpha, params, \n",
    "               cur_dict_keys, test_matrice_reverse, \n",
    "               Zero_index, 'nmf_est_result.txt', \n",
    "               combine_index = True,\n",
    "               print_index = False,\n",
    "               single_alpha=False)\n",
    "\n",
    "para_cb_dict_2alpha_wo0 = create_test_param_dict([0, [8, 15], l1, alpha_para, alpha_para, 0, 1000, 42], params)\n",
    "parameter_test(para_cb_dict_2alpha_wo0, params, \n",
    "               cur_dict_keys, test_matrice_reverse, \n",
    "               Zero_index, 'nmf_est_result.txt', \n",
    "               combine_index = True,\n",
    "               print_index = False,\n",
    "               single_alpha=False)"
   ]
  },
  {
   "cell_type": "code",
   "execution_count": null,
   "metadata": {
    "scrolled": true
   },
   "outputs": [],
   "source": [
    "#sensitive test for w0 \n",
    "\n",
    "ss_w = create_ss_dict({})\n",
    "for w in np.round(0.1*np.array(list(range(10))),2):\n",
    "    for k in range(9,11):\n",
    "        dict_keys = 'k='+str(k)+', lambda=0, alpha=0, w0='+str(w)\n",
    "        start = time.time()\n",
    "        model = NMF_w0(n_components=k, alpha_W=0.1, alpha_H=0.1, max_iter=1000, l1_ratio=0.1, random_state=42, zero_weight=w, init='nndsvd', solver=\"zero\")\n",
    "        W = model.fit_transform_w0(test_matrice_reverse[:, 1:], Zero_index)\n",
    "        H = model.components_\n",
    "        WH = np.dot(W, H)\n",
    "        end = time.time()\n",
    "        print(dict_keys)\n",
    "        print(f'running time={end-start}')\n",
    "        print(cal_rmse(test_matrice_reverse, WH))\n",
    "        print(cal_rmse(test_matrice_reverse, np.round(WH, 0)))\n",
    "    \n",
    "        zero_index, non_zero_num = zero_est_eval(WH, Zero_index, print_non_zero=True)\n",
    "        rmse_, mae_ = non_zero_est_eval(test_matrice_reverse, WH, Zero_index, withid=True)\n",
    "    \n",
    "        ss_w = assign_val(ss_w, [zero_index, non_zero_num, rmse_, mae_])\n",
    "        break\n",
    "    \n",
    "#plot_result(ss_k)"
   ]
  },
  {
   "cell_type": "code",
   "execution_count": null,
   "metadata": {},
   "outputs": [],
   "source": [
    "ss_l_2 = create_ss_dict({})\n",
    "for l in l1:\n",
    "    dict_keys = 'k=2, lambda='+str(l)+', alpha=0, w0=0.1'\n",
    "    start = time.time()\n",
    "    model = NMF_w0(n_components=2, alpha=0, max_iter=1000, l1_ratio=l, random_state=42, zero_weight=0.1, init='nndsvd')\n",
    "    W = model.fit_transform_w0(test_matrice_reverse[:, 1:], Zero_index)\n",
    "    H = model.components_\n",
    "    WH = np.dot(W, H)\n",
    "    end = time.time()\n",
    "    print(dict_keys)\n",
    "    print(f'running time={end-start}')\n",
    "   # print(cal_rmse(test_matrice_reverse, WH))\n",
    "   # print(cal_rmse(test_matrice_reverse, np.round(WH, 0)))\n",
    "    \n",
    "    zero_index, non_zero_num = zero_est_eval(WH, Zero_index, print_non_zero=True)\n",
    "    rmse_, mae_ = non_zero_est_eval(test_matrice_reverse, WH, Zero_index, withid=True)\n",
    "    \n",
    "    ss_l_2 = assign_val(ss_l_2, [zero_index, non_zero_num, rmse, mae])\n",
    "    \n",
    "plot_result(ss_l_2)  "
   ]
  },
  {
   "cell_type": "code",
   "execution_count": null,
   "metadata": {},
   "outputs": [],
   "source": [
    "ss_l_18 = create_ss_dict({})\n",
    "for l in l1:\n",
    "    dict_keys = 'k=18, lambda='+str(l)+', alpha=0, w0=0.1'\n",
    "    start = time.time()\n",
    "    model = NMF_w0(n_components=18, alpha=0, max_iter=1000, l1_ratio=l, random_state=42, zero_weight=0.1, init='nndsvd\n",
    "                   \n",
    "                   n')\n",
    "    W = model.fit_transform_w0(test_matrice_reverse[:, 1:], Zero_index)\n",
    "    H = model.components_\n",
    "    WH = np.dot(W, H)\n",
    "    end = time.time()\n",
    "    print(dict_keys)\n",
    "    print(f'running time={end-start}')\n",
    "   # print(cal_rmse(test_matrice_reverse, WH))\n",
    "   # print(cal_rmse(test_matrice_reverse, np.round(WH, 0)))\n",
    "    \n",
    "    zero_index, non_zero_num = zero_est_eval(WH, Zero_index, print_non_zero=True)\n",
    "    rmse_, mae_ = non_zero_est_eval(test_matrice_reverse, WH, Zero_index, withid=True)\n",
    "    \n",
    "    ss_l_18 = assign_val(ss_l_18, [zero_index, non_zero_num, rmse, mae])\n",
    "    \n",
    "plot_result(ss_l_18)  "
   ]
  },
  {
   "cell_type": "markdown",
   "metadata": {},
   "source": [
    "### previous result\n",
    "with zeros result\n",
    "rmse 0.1551735847797948\n",
    "rmse_round 0.1556811991833514\n",
    "non zero count: 75\n",
    "zero_est_per: 0.9998295698570432\n",
    "\n",
    "without zeros result\n",
    "0.1551718476126179\n",
    "0.15568321249265427\n",
    "78\n",
    "0.9998227526513249"
   ]
  },
  {
   "cell_type": "code",
   "execution_count": null,
   "metadata": {},
   "outputs": [],
   "source": [
    "zero_matrix = np.zeros(test_matrice_reverse[:, 1:].shape)\n",
    "#model = NMF_w0(n_components=18, init='nndsvd', zero_weight=0.1, max_iter=10, alpha=0.1, l1_ratio=0.1, random_state=42)\n",
    "model = NMF_w0(n_components=2, alpha=0.1, max_iter=100, l1_ratio=0.1, random_state=42, zero_weight=0.1)\n",
    "#W = model.fit_transform_w0(test_matrice_reverse[:, 1:], Zero_index)\n",
    "W = model.fit_transform_w0(test_matrice_reverse[:,1:], zero_matrix)\n",
    "H = model.components_\n",
    "WH = np.dot(W, H)\n",
    "\n",
    "#print(cal_rmse(X, WH, withids=False))\n",
    "#print(X)\n",
    "#print(WH)"
   ]
  },
  {
   "cell_type": "code",
   "execution_count": null,
   "metadata": {},
   "outputs": [],
   "source": [
    "\n",
    "    \n",
    "    "
   ]
  },
  {
   "cell_type": "code",
   "execution_count": null,
   "metadata": {},
   "outputs": [],
   "source": [
    "print(cal_rmse(test_matrice_reverse, WH))\n",
    "print(cal_rmse(test_matrice_reverse, np.round(WH, 0)))"
   ]
  },
  {
   "cell_type": "code",
   "execution_count": null,
   "metadata": {},
   "outputs": [],
   "source": [
    "model = NMF_w0(n_components=2, alpha=0.1, max_iter=100, l1_ratio=0.1, random_state=42, solver=\"zero\", zero_weight=0.1)\n",
    "#W = model.fit_transform_w0(test_matrice_reverse[:, 1:], Zero_index)\n",
    "W = model.fit_transform_w0(test_matrice_reverse[:,1:], 0)\n",
    "H = model.components_\n",
    "WH = np.dot(W, H)\n",
    "\n",
    "print(cal_rmse(test_matrice_reverse, WH))"
   ]
  },
  {
   "cell_type": "code",
   "execution_count": null,
   "metadata": {},
   "outputs": [],
   "source": [
    "#cal_rmse(test_matrice_reverse, WH)"
   ]
  },
  {
   "cell_type": "code",
   "execution_count": null,
   "metadata": {},
   "outputs": [],
   "source": [
    "def NMF_est_(test_matrice, zero_matrice, num_lf, reg_l, a, w0):\n",
    "    model = NMF_w0(n_components=num_lf, init='nndsvd', l1_ratio=reg_l, alpha=a, zero_weight=w0, max_iter=1000)\n",
    "    W = model.fit_transform_w0(test_matrice[:, 1:], zero_matrice)\n",
    "    H = model.components_\n",
    "    WH = np.dot(W, H)\n",
    "    \n",
    "    Zero_est = np.multiply(WH, zero_matrice)\n",
    "    Zeros = np.zeros(WH.shape) \n",
    "    Zeros_diff = Zero_est - Zeros\n",
    "    zero_val = np.linalg.norm(Zeros_diff)\n",
    "    \n",
    "    zero_per = np.round(np.count_nonzero(Zero_est)/np.count_nonzero(zero_matrice),5)\n",
    "    \n",
    "    return(WH, zero_val, zero_per)    \n",
    "\n",
    "\n",
    "test_lf = list(range(2, 19))\n",
    "l1 = np.round(0.1*np.array(list(range(10))),2)\n",
    "alpha_para = np.round(0.1*np.array(list(range(10))),2)\n",
    "zero_w = [0.1, 0.3, 0.5]\n",
    "rmse_dict = {}\n",
    "zero_score = {}\n",
    "zero_pred_num = {}\n",
    "rmse_w0 = {}\n",
    "\n",
    "mae_dict = {}\n",
    "mae_w0 = {}\n",
    "\n",
    "for num_lf in test_lf:\n",
    "    for reg_l in l1:\n",
    "        for a in alpha_para:\n",
    "            for w0 in zero_w:\n",
    "                dict_keys = 'k='+str(num_lf)+', lambda='+str(reg_l)+', alpha='+str(a)+', w0='+str(w0)\n",
    "                start = time.time()\n",
    "                pred_dt, zero_val, zero_per = NMF_est_(test_matrix, Zero_index, num_lf, reg_l, a, w0)\n",
    "                end = time.time()\n",
    "                print(dict_keys)\n",
    "                print(f'running time={end-start}')\n",
    "\n",
    "                rmse_dict[dict_keys]= round(cal_rmse(test_matrix, pred_dt),9)\n",
    "                mae_dict[dict_keys] = round(cal_mae(test_matrix, pred_dt),9)\n",
    "\n",
    "                zero_score[dict_keys] = zero_val\n",
    "                zero_pred_num[dict_keys] = zero_per\n",
    "\n",
    "return(rmse_dict, mae_dict, zero_score, zero_pred_num)"
   ]
  },
  {
   "cell_type": "code",
   "execution_count": null,
   "metadata": {},
   "outputs": [],
   "source": [
    "rmse_dict_, mae_dict_, zero_score_, zero_pred_num_ = get_best_NMFwzero(test_matrice_reverse, Zero_index)"
   ]
  },
  {
   "cell_type": "code",
   "execution_count": null,
   "metadata": {},
   "outputs": [],
   "source": [
    "#X = np.array([[1, 1], [2, 1], [3, 1.2], [4, 1], [5, 0.8], [6, 1]])\n",
    "#zero_test = np.zeros(X.shape)\n",
    "#zero_test[0] += 1\n",
    "start = time.time()\n",
    "model = NMF_w0(n_components=2, init='nndsvd', zero_weight=0.1, l1_ratio=0.1, alpha=0.1)\n",
    "W = model.fit_transform_w0(test_matrice_reverse[:, 1:], Zero_index)\n",
    "H = model.components_\n",
    "#print(np.dot(W, H))\n",
    "print(cal_rmse(test_matrice_reverse, np.dot(W, H)))\n",
    "end = time.time()\n",
    "print(f'running time={end-start}')"
   ]
  },
  {
   "cell_type": "code",
   "execution_count": null,
   "metadata": {},
   "outputs": [],
   "source": [
    "#comparing code\n",
    "#multiplcative descent\n",
    "X = np.array([[1, 1], [2, 1], [3, 1.2], [4, 1], [5, 0.8], [6, 1]])\n",
    "zero_test = np.zeros(X.shape)\n",
    "zero_test[0] += 1\n",
    "\n",
    "model = NMF_w0(n_components=2, solver='mu', init='random', random_state=42)\n",
    "W = model.fit_transform_w0(test_matrice_reverse[:,1:], 0)\n",
    "H = model.components_\n",
    "#print(np.dot(W, H))\n",
    "print(cal_rmse(test_matrice_reverse, np.dot(W, H)))"
   ]
  },
  {
   "cell_type": "code",
   "execution_count": null,
   "metadata": {},
   "outputs": [],
   "source": [
    "#original method\n",
    "from sklearn.decomposition import NMF\n",
    "X = np.array([[1, 1], [2, 1], [3, 1.2], [4, 1], [5, 0.8], [6, 1]])\n",
    "model = NMF(n_components=2, init='random', solver='mu', random_state=42)\n",
    "W = model.fit_transform(X)\n",
    "H = model.components_\n",
    "#print(np.dot(W, H))\n",
    "#print(cal_rmse(X, np.dot(W, H), withids=False))"
   ]
  },
  {
   "cell_type": "code",
   "execution_count": null,
   "metadata": {},
   "outputs": [],
   "source": [
    "\n",
    "'''\n",
    "def _update_gradient_descent_w0(X, zero_reg, W, Ht, l1_reg, l2_reg, zero_weight, random_state, update_H):\n",
    "    \"\"\"Helper function for _fit_coordinate_descent.\n",
    "    Update W to minimize the objective function, iterating once over all\n",
    "    coordinates. By symmetry, to update H, one can call\n",
    "    _update_coordinate_descent(X.T, Ht, W, ...).\n",
    "    \"\"\"\n",
    "    #here we code without cython\n",
    "    if type(zero_reg) == int:\n",
    "        pass\n",
    "    else:\n",
    "        zero_matrix = np.zeros(X.shape)\n",
    "        zero_diff = np.multiply(np.dot(W, H), zero_reg) - zero_matrix\n",
    "        #print(zero_diff.shape)\n",
    "    \n",
    "    if not update_H:\n",
    "        XdHt = safe_sparse_dot(X, Ht)\n",
    "        \n",
    "        if zero_weight != 0:\n",
    "            zero_derivate = zero_weight*np.dot(np.multiply(np.multiply(np.dot(W, Ht.T), \n",
    "                                                                       zero_reg), \n",
    "                                                           zero_reg), \n",
    "                                               Ht) - np.dot(np.multiply(zero_matrix, zero_reg), Ht)\n",
    "            #print(zero_derivate)\n",
    "            XdHt -= zero_derivate\n",
    "        else:\n",
    "            pass\n",
    "        \n",
    "        if l2_reg != 0:\n",
    "            WtW = np.dot(W.T, W)\n",
    "            n_identity = WtW.shape[0]\n",
    "            reg_constriant = 4*l2_reg*np.dot(W, (WtW-np.identity(n_identity)))\n",
    "            XdHt -= reg_constriant\n",
    "        else:\n",
    "            pass\n",
    "        \n",
    "        if l1_reg != 0:\n",
    "            XdHt -= l1_reg\n",
    "        else:\n",
    "            pass\n",
    "        \n",
    "        #print(reg_constriant)\n",
    "        _numerator = XdHt\n",
    "        _denominator = np.linalg.multi_dot([W, H, Ht])\n",
    "        \n",
    "        delta_ = np.divide(_numerator, _denominator)\n",
    "    else:\n",
    "        WtX =  safe_sparse_dot(W.T, X)\n",
    "        if zero_weight != 0:\n",
    "            zero_derivate = zero_weight*np.dot(W.T, np.multiply(np.multiply(np.dot(W, Ht.T),\n",
    "                                                                            zero_reg), \n",
    "                                                                zero_reg)) - np.dot(W.T, np.multiply(zero_matrix, zero_reg))\n",
    "            #print(zero_derivate)\n",
    "            WtX -= zero_derivate\n",
    "        else:\n",
    "            pass\n",
    "        \n",
    "        if l2_reg != 0:    \n",
    "            HtH = np.dot(Ht, Ht.T)\n",
    "            n_identity = HtH.shape[0]\n",
    "            reg_constriant = 4*l2_reg*np.dot(Ht.T, (HtH-np.identity(n_identity)))\n",
    "            WtX -= reg_constriant\n",
    "        else:\n",
    "            pass\n",
    "        \n",
    "        if l1_reg != 0:\n",
    "            WtX -= l1_reg\n",
    "        else:\n",
    "            pass\n",
    "        \n",
    "        #print(reg_constriant)\n",
    "        _numerator = WtX\n",
    "        _denominator = np.linalg.multi_dot([W.T, W, H])\n",
    "        delta_ = np.divide(_numerator, _denominator)\n",
    "        \n",
    "    return(delta_)\n",
    "\n",
    "def obj_loss_w0(\n",
    "    X, \n",
    "    zero_reg,\n",
    "    W, \n",
    "    H,\n",
    "    zero_weight=0.1,\n",
    "    l1_reg_W=0,\n",
    "    l1_reg_H=0,\n",
    "    l2_reg_W=0,\n",
    "    l2_reg_H=0,\n",
    "):\n",
    "    obj = 0.5*np.linalg.norm(X-np.dot(W, H))\n",
    "    if l1_reg_W != 0:\n",
    "        reg_constriant = l1_reg_W*np.linalg.norm(W.flatten(order=\"F\"), 1)\n",
    "    else:\n",
    "        reg_constriant = 0\n",
    "        \n",
    "    if l1_reg_H != 0:\n",
    "        reg_constriant += l1_reg_H*np.linalg.norm(H.flatten(order=\"F\"), 1)\n",
    "    else:\n",
    "        reg_constriant += 0\n",
    "        \n",
    "    if l2_reg_W != 0:\n",
    "        reg_constriant += l2_reg_W*np.linalg.norm(W)\n",
    "    else:\n",
    "        reg_constriant += 0\n",
    "        \n",
    "    if l2_reg_H != 0:\n",
    "        reg_constriant += l2_reg_H*np.linalg.norm(H)\n",
    "    else:\n",
    "        reg_constriant += 0\n",
    "        \n",
    "    if zero_weight != 0:\n",
    "        zero_constriant = zero_weight*np.linalg.norm((np.multiply(np.dot(W, H), zero_reg)-np.zeros(X.shape)))\n",
    "    else:\n",
    "        zero_constriant = 0\n",
    "        \n",
    "    return(obj+zero_constriant+reg_constriant)\n",
    "    \n",
    "\n",
    "def _fit_gradient_descent_w0(\n",
    "    X,\n",
    "    zero_reg,\n",
    "    W,\n",
    "    H,\n",
    "    tol=1e-4,\n",
    "    max_iter=200,\n",
    "    l1_reg_W=0,\n",
    "    l1_reg_H=0,\n",
    "    l2_reg_W=0,\n",
    "    l2_reg_H=0,\n",
    "    zero_weight=0.1,\n",
    "    update_H=True,\n",
    "    random_state=None,\n",
    "):\n",
    "    # so W and Ht are both in C order in memory\n",
    "    Ht = check_array(H.T, order=\"C\")\n",
    "    X = check_array(X, accept_sparse=\"csr\")\n",
    "    #print(W.shape, H.shape, X.shape)\n",
    "    #print(max_iter)\n",
    "    rng = check_random_state(random_state)\n",
    "    \n",
    "    obj_init = obj_loss_w0(X, zero_reg, W, H, zero_weight, l1_reg_W, l1_reg_H, l2_reg_W, l2_reg_H)\n",
    "    print('step 0')\n",
    "    print(W, H)\n",
    "    for n_iter in range(1, max_iter + 1):\n",
    "        delta_W = _update_gradient_descent_w0(X, zero_reg, W, Ht, l1_reg_W, l2_reg_W, zero_weight, rng, update_H=False)\n",
    "        W *= delta_W\n",
    "        print(cal_rmse(X, np.dot(W, H), withids=False))\n",
    "        \n",
    "        delta_H = _update_gradient_descent_w0(X, zero_reg, W, Ht, l1_reg_H, l2_reg_H, zero_weight, rng, update_H=True)\n",
    "        H *= delta_H \n",
    "        print(cal_rmse(X, np.dot(W, H), withids=False))\n",
    "        Ht = H.T\n",
    "        \n",
    "        print('step'+str(n_iter))\n",
    "        print(W, H)\n",
    "        \n",
    "        obj_cur = obj_loss_w0(X, zero_reg, W, H, zero_weight, l1_reg_W, l1_reg_H, l2_reg_W, l2_reg_H)\n",
    "        if obj_cur <= tol:\n",
    "            break\n",
    "    print(obj_cur)\n",
    "    \n",
    "    return W, H, n_iter'''"
   ]
  }
 ],
 "metadata": {
  "kernelspec": {
   "display_name": "Python 3",
   "language": "python",
   "name": "python3"
  },
  "language_info": {
   "codemirror_mode": {
    "name": "ipython",
    "version": 3
   },
   "file_extension": ".py",
   "mimetype": "text/x-python",
   "name": "python",
   "nbconvert_exporter": "python",
   "pygments_lexer": "ipython3",
   "version": "3.9.13"
  }
 },
 "nbformat": 4,
 "nbformat_minor": 4
}
