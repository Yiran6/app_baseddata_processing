{
 "cells": [
  {
   "cell_type": "code",
   "execution_count": 1,
   "metadata": {},
   "outputs": [],
   "source": [
    "import os\n",
    "import numpy as np\n",
    "import pandas as pd\n",
    "import geopandas as gpd\n",
    "import csv\n",
    "#import pandasql as ps\n",
    "import matplotlib.pyplot as plt\n",
    "#import shapefile as shp\n",
    "import seaborn as sns\n",
    "import random\n",
    "import time\n",
    "from sklearn.model_selection import train_test_split\n",
    "#import pysal as ps\n",
    "import scipy\n",
    "\n",
    "import torch\n",
    "import torch.nn as nn\n",
    "import torch.nn.parallel\n",
    "import torch.optim as optim\n",
    "import torch.utils.data\n",
    "\n",
    "from torch.nn import functional\n",
    "from torch.autograd import Variable\n",
    "\n",
    "import statistics\n",
    "\n",
    "#temporal pattern clustering\n",
    "from tslearn.clustering import TimeSeriesKMeans, silhouette_score\n",
    "from tslearn.utils import to_time_series_dataset\n",
    "from sklearn import metrics\n",
    "from scipy.cluster.hierarchy import fcluster\n",
    "from scipy.stats import chisquare\n",
    "from scipy.stats import wasserstein_distance\n",
    "\n",
    "#regression model\n",
    "from patsy import dmatrices\n",
    "#import statsmodels.api as sm\n",
    "\n",
    "from datetime import datetime\n",
    "\n",
    "#from pysal.model import spreg\n",
    "#from pysal.lib import weights\n",
    "#from pysal.explore import esda\n",
    "\n",
    "#calculate the demographic bias \n",
    "#use wasserstein_distance\n",
    "from scipy.stats import wasserstein_distance\n",
    "\n",
    "#path = 'C:/Users/29700/Downloads/RecSys-Workshop/tutorials/'\n",
    "#os.chdir(path)\n",
    "#import utilities as utl\n",
    "\n",
    "from scipy.sparse import csr_matrix\n",
    "from scipy.sparse.linalg import svds\n",
    "from sklearn.metrics import mean_squared_error\n",
    "from sklearn.metrics import r2_score\n",
    "from sklearn.metrics import mean_squared_error as mae\n",
    "from datetime import datetime\n",
    "import time\n",
    "from sklearn.decomposition import NMF\n",
    "\n",
    "import time\n",
    "import scipy.sparse\n",
    "from scipy.stats import entropy\n",
    "from sys import exit\n",
    "\n",
    "import itertools\n",
    "from itertools import permutations\n",
    "\n",
    "import xml.etree.ElementTree as ET"
   ]
  },
  {
   "cell_type": "code",
   "execution_count": 2,
   "metadata": {},
   "outputs": [],
   "source": [
    "path = \"G:/My Drive/2021/Bias/sumo_simulation/appsim\"\n",
    "os.chdir(path)\n",
    "#os.listdir()"
   ]
  },
  {
   "cell_type": "code",
   "execution_count": 4,
   "metadata": {},
   "outputs": [
    {
     "data": {
      "text/html": [
       "<div>\n",
       "<style scoped>\n",
       "    .dataframe tbody tr th:only-of-type {\n",
       "        vertical-align: middle;\n",
       "    }\n",
       "\n",
       "    .dataframe tbody tr th {\n",
       "        vertical-align: top;\n",
       "    }\n",
       "\n",
       "    .dataframe thead th {\n",
       "        text-align: right;\n",
       "    }\n",
       "</style>\n",
       "<table border=\"1\" class=\"dataframe\">\n",
       "  <thead>\n",
       "    <tr style=\"text-align: right;\">\n",
       "      <th></th>\n",
       "      <th>newid</th>\n",
       "      <th>sum</th>\n",
       "      <th>key</th>\n",
       "      <th>taz</th>\n",
       "      <th>date</th>\n",
       "      <th>time</th>\n",
       "    </tr>\n",
       "  </thead>\n",
       "  <tbody>\n",
       "    <tr>\n",
       "      <th>0</th>\n",
       "      <td>26</td>\n",
       "      <td>1</td>\n",
       "      <td>4_3_55_608</td>\n",
       "      <td>608</td>\n",
       "      <td>4</td>\n",
       "      <td>3:55</td>\n",
       "    </tr>\n",
       "    <tr>\n",
       "      <th>1</th>\n",
       "      <td>26</td>\n",
       "      <td>2</td>\n",
       "      <td>4_4_5_615</td>\n",
       "      <td>615</td>\n",
       "      <td>4</td>\n",
       "      <td>4:05</td>\n",
       "    </tr>\n",
       "    <tr>\n",
       "      <th>2</th>\n",
       "      <td>26</td>\n",
       "      <td>1</td>\n",
       "      <td>4_3_40_578</td>\n",
       "      <td>578</td>\n",
       "      <td>4</td>\n",
       "      <td>3:40</td>\n",
       "    </tr>\n",
       "  </tbody>\n",
       "</table>\n",
       "</div>"
      ],
      "text/plain": [
       "   newid  sum         key  taz  date  time\n",
       "0     26    1  4_3_55_608  608     4  3:55\n",
       "1     26    2   4_4_5_615  615     4  4:05\n",
       "2     26    1  4_3_40_578  578     4  3:40"
      ]
     },
     "execution_count": 4,
     "metadata": {},
     "output_type": "execute_result"
    }
   ],
   "source": [
    "#read app-based data\n",
    "csv_path = '../data040420175min.csv'\n",
    "#def convertobs2mx(csv_path,)\n",
    "data_obs = pd.read_csv(csv_path, header=0)\n",
    "data_obs.head(3)"
   ]
  },
  {
   "cell_type": "code",
   "execution_count": 5,
   "metadata": {},
   "outputs": [],
   "source": [
    "newids = np.unique(data_obs.newid)\n",
    "newid_ = {}\n",
    "index_ = 0\n",
    "for i in range(len(newids)):\n",
    "    newid_[newids[i]] = index_\n",
    "    index_ += 1"
   ]
  },
  {
   "cell_type": "code",
   "execution_count": 6,
   "metadata": {},
   "outputs": [],
   "source": [
    "get_hr = lambda x: x.split(':')[0]\n",
    "get_min = lambda x: x.split(':')[1]\n",
    "\n",
    "hr_ = np.unique(data_obs['time'].astype(str).apply(get_hr).astype(int))\n",
    "min_ = np.unique(data_obs['time'].astype(str).apply(get_min).astype(int))\n",
    "taz_ = np.unique(data_obs['taz'])"
   ]
  },
  {
   "cell_type": "code",
   "execution_count": 7,
   "metadata": {},
   "outputs": [],
   "source": [
    "index_ = 0\n",
    "lt_loc = {}\n",
    "for taz in taz_:\n",
    "    for h in hr_:\n",
    "        for m in min_:\n",
    "            lt_loc['4_'+str(h)+'_'+str(m)+'_'+str(taz)] = index_\n",
    "            index_ += 1\n",
    "obs_mx = np.zeros((len(newid_), len(lt_loc)))\n",
    "\n",
    "newid_col = data_obs.newid.values\n",
    "key_col = data_obs.key.values"
   ]
  },
  {
   "cell_type": "code",
   "execution_count": 8,
   "metadata": {},
   "outputs": [],
   "source": [
    "ct_col = data_obs['sum'].values"
   ]
  },
  {
   "cell_type": "code",
   "execution_count": 9,
   "metadata": {},
   "outputs": [],
   "source": [
    "for i in range(len(newid_col)):\n",
    "    obs_mx[newid_[newid_col[i]]][lt_loc[key_col[i]]] = 1"
   ]
  },
  {
   "cell_type": "code",
   "execution_count": 10,
   "metadata": {},
   "outputs": [
    {
     "name": "stdout",
     "output_type": "stream",
     "text": [
      "167\n"
     ]
    }
   ],
   "source": [
    "print(len(taz_))"
   ]
  },
  {
   "cell_type": "code",
   "execution_count": 11,
   "metadata": {},
   "outputs": [],
   "source": [
    "total_ct = np.sum(obs_mx, axis=0)\n",
    "#get ct based on taz and time"
   ]
  },
  {
   "cell_type": "code",
   "execution_count": 12,
   "metadata": {},
   "outputs": [],
   "source": [
    "total_ct = total_ct.reshape(1, total_ct.shape[0])"
   ]
  },
  {
   "cell_type": "code",
   "execution_count": 13,
   "metadata": {},
   "outputs": [],
   "source": [
    "total_ct_conver = np.hsplit(total_ct, len(taz_))"
   ]
  },
  {
   "cell_type": "code",
   "execution_count": 14,
   "metadata": {},
   "outputs": [],
   "source": [
    "max_num = np.max(np.array(total_ct_conver), axis=2)"
   ]
  },
  {
   "cell_type": "code",
   "execution_count": 15,
   "metadata": {},
   "outputs": [
    {
     "data": {
      "text/plain": [
       "167"
      ]
     },
     "execution_count": 15,
     "metadata": {},
     "output_type": "execute_result"
    }
   ],
   "source": [
    "max_num.shape[0]"
   ]
  },
  {
   "cell_type": "code",
   "execution_count": 129,
   "metadata": {},
   "outputs": [
    {
     "data": {
      "text/plain": [
       "167"
      ]
     },
     "execution_count": 129,
     "metadata": {},
     "output_type": "execute_result"
    }
   ],
   "source": [
    "for i in range(max_num.shape):\n",
    "    max_num"
   ]
  },
  {
   "cell_type": "code",
   "execution_count": 16,
   "metadata": {},
   "outputs": [
    {
     "data": {
      "text/plain": [
       "(167, 167, 288)"
      ]
     },
     "execution_count": 16,
     "metadata": {},
     "output_type": "execute_result"
    }
   ],
   "source": [
    "(np.array(total_ct_conver)/np.max(total_ct_conver, axis=2)).shape"
   ]
  },
  {
   "cell_type": "code",
   "execution_count": 17,
   "metadata": {},
   "outputs": [
    {
     "data": {
      "text/plain": [
       "[<matplotlib.lines.Line2D at 0x117624d7e20>]"
      ]
     },
     "execution_count": 17,
     "metadata": {},
     "output_type": "execute_result"
    },
    {
     "data": {
      "image/png": "[encoded data removed]",
      "text/plain": [
       "<Figure size 432x288 with 1 Axes>"
      ]
     },
     "metadata": {
      "needs_background": "light"
     },
     "output_type": "display_data"
    }
   ],
   "source": [
    "plt.plot(data_obs.groupby(by=['time']).size().values)"
   ]
  },
  {
   "cell_type": "code",
   "execution_count": null,
   "metadata": {},
   "outputs": [],
   "source": []
  },
  {
   "cell_type": "code",
   "execution_count": null,
   "metadata": {},
   "outputs": [],
   "source": [
    "#example of NMF\n",
    "#X = np.array([[1, 1], [2, 1], [3, 1.2], [4, 1], [5, 0.8], [6, 1]])\n",
    "model = NMF(n_components=2, init='random', random_state=0)\n",
    "W = model.fit_transform(X)\n",
    "H = model.components_"
   ]
  },
  {
   "cell_type": "code",
   "execution_count": 19,
   "metadata": {},
   "outputs": [
    {
     "name": "stdout",
     "output_type": "stream",
     "text": [
      "num id 60728\n"
     ]
    }
   ],
   "source": [
    "#convert dt to matrix\n",
    "def convert2mx(fcd_dt_path, savepath, save_index=False):\n",
    "    fcd_out = pd.read_csv(fcd_dt_path, header=None)\n",
    "    fcd_out.columns = ['id', 'taz', 'time']\n",
    "    fcd_out.taz = fcd_out.taz.astype('int')\n",
    "    fcd_out.time = fcd_out.time.astype('int')\n",
    "    print('num id', len(np.unique(fcd_out.id)))\n",
    "\n",
    "    #fcd_out.sort_values(by=['time', 'taz'])\n",
    "    fcd_out['tl_id'] = fcd_out['taz'].astype(str)+'_'+((fcd_out['time']/300).astype(int)).astype(str)\n",
    "\n",
    "    fcd_out = fcd_out[~fcd_out['time'].isin([86400, 86700])]\n",
    "    time_ = np.unique((fcd_out['time']/300).astype(int))\n",
    "    newuser_ = {}\n",
    "    index_ = 0\n",
    "    for i in np.unique(fcd_out.id):\n",
    "        newuser_[i] = index_\n",
    "        index_ += 1\n",
    "\n",
    "    loc_time = {}\n",
    "    index_ = 0\n",
    "    taz_ = np.unique(fcd_out['taz'])\n",
    "    time_ = np.unique((fcd_out['time']/300).astype(int))\n",
    "    for taz in taz_:\n",
    "        for t in time_:\n",
    "            loc_time[str(taz)+'_'+str(t)] = index_\n",
    "            index_ += 1\n",
    "\n",
    "    origin_dt = np.zeros((len(newuser_), len(loc_time)))\n",
    "    ids_ = fcd_out['id'].values\n",
    "    tl_id_ = fcd_out['tl_id'].values\n",
    "    for i in range(len(ids_)):\n",
    "        origin_dt[newuser_[ids_[i]]][loc_time[tl_id_[i]]] = 1\n",
    "    if save_index == True:\n",
    "        pd.DataFrame(origin_dt).to_csv(savepath)\n",
    "    else:\n",
    "        return(origin_dt)\n",
    "    \n",
    "origin_dt = convert2mx('fcd_data_5.csv', 'origin_dt.csv', save_index=False)"
   ]
  },
  {
   "cell_type": "code",
   "execution_count": 20,
   "metadata": {},
   "outputs": [],
   "source": [
    "fcd_out = pd.read_csv('fcd_data_5.csv', header=None)\n",
    "fcd_out.columns = ['id', 'taz', 'time']\n",
    "\n",
    "fcd_out = fcd_out[~fcd_out['time'].isin([86400, 86700])]\n",
    "fcd_out.taz = fcd_out.taz.astype('int')\n",
    "fcd_out.time = fcd_out.time.astype('int')\n",
    "fcd_out['time_5'] = fcd_out.time/300\n"
   ]
  },
  {
   "cell_type": "code",
   "execution_count": 21,
   "metadata": {},
   "outputs": [],
   "source": [
    "fcd_out.time_5 = fcd_out.time_5.astype('int')"
   ]
  },
  {
   "cell_type": "code",
   "execution_count": 22,
   "metadata": {},
   "outputs": [],
   "source": [
    "obs = data_obs.groupby(by=['time']).size().values\n",
    "obs_per = obs/max(obs)"
   ]
  },
  {
   "cell_type": "code",
   "execution_count": 23,
   "metadata": {},
   "outputs": [],
   "source": [
    "sample_ct = lambda x: np.random.binomial(1, obs_per[x], 1)[0]"
   ]
  },
  {
   "cell_type": "code",
   "execution_count": 24,
   "metadata": {},
   "outputs": [],
   "source": [
    "fcd_out['sim_obs'] = fcd_out['time_5'].apply(sample_ct)"
   ]
  },
  {
   "cell_type": "code",
   "execution_count": 25,
   "metadata": {},
   "outputs": [],
   "source": [
    "fcd_out['tl_id'] = fcd_out['taz'].astype(str)+'_'+((fcd_out['time']/300).astype(int)).astype(str)"
   ]
  },
  {
   "cell_type": "code",
   "execution_count": 26,
   "metadata": {},
   "outputs": [],
   "source": [
    "newuser_ = {}\n",
    "index_ = 0\n",
    "for i in np.unique(fcd_out.id):\n",
    "    newuser_[i] = index_\n",
    "    index_ += 1\n",
    "\n",
    "loc_time = {}\n",
    "index_ = 0\n",
    "taz_ = np.unique(fcd_out['taz'])\n",
    "time_ = np.unique((fcd_out['time']/300).astype(int))\n",
    "for taz in taz_:\n",
    "    for t in time_:\n",
    "        loc_time[str(taz)+'_'+str(t)] = index_\n",
    "        index_ += 1\n",
    "\n",
    "sim_dt = np.zeros((len(newuser_), len(loc_time)))\n",
    "ids_ = fcd_out['id'].values\n",
    "tl_id_ = fcd_out['tl_id'].values\n",
    "ct_ = fcd_out['sim_obs'].values\n",
    "for i in range(len(ids_)):\n",
    "    sim_dt[newuser_[ids_[i]]][loc_time[tl_id_[i]]] = ct_[i]\n",
    "\n"
   ]
  },
  {
   "cell_type": "code",
   "execution_count": 178,
   "metadata": {},
   "outputs": [
    {
     "data": {
      "text/plain": [
       "array([426, 427, 428, 429, 430, 431, 432, 433, 434, 435, 436, 437, 438,\n",
       "       439, 440, 441, 442, 443, 446, 447, 448, 450, 451, 452, 453, 454,\n",
       "       455, 456, 457, 458, 459, 460, 461, 462, 463, 464, 465, 466, 467,\n",
       "       468, 469, 470, 471, 472, 473, 474, 475, 476, 477, 479, 480, 481,\n",
       "       482, 483, 484, 485, 486, 487, 488, 489, 490, 491, 492, 493, 494,\n",
       "       495, 496, 497, 498, 499, 500, 501, 502, 503, 504, 505, 506, 507,\n",
       "       508, 509, 510, 511, 512, 513, 514, 515, 516, 517, 518, 519, 520,\n",
       "       521, 522, 523, 524, 525, 526, 527, 528, 529, 530, 531, 532, 533,\n",
       "       534, 535, 536, 537, 538, 539, 540, 541, 542, 543, 544, 545, 546,\n",
       "       547, 548, 549, 550, 551, 552, 553, 566, 567, 568, 569, 570, 571,\n",
       "       572, 573, 574, 575, 576, 577, 578, 579, 580, 581, 582, 583, 584,\n",
       "       604, 605, 606, 607, 608, 609, 610, 611, 612, 613, 614, 615, 627,\n",
       "       628, 629, 630, 631, 632, 634, 635, 636, 650, 651, 652, 653])"
      ]
     },
     "execution_count": 178,
     "metadata": {},
     "output_type": "execute_result"
    }
   ],
   "source": [
    "taz_"
   ]
  },
  {
   "cell_type": "code",
   "execution_count": 27,
   "metadata": {},
   "outputs": [
    {
     "name": "stderr",
     "output_type": "stream",
     "text": [
      "C:\\Users\\Yiran\\anaconda3\\lib\\site-packages\\sklearn\\decomposition\\_nmf.py:1637: ConvergenceWarning: Maximum number of iterations 200 reached. Increase it to improve convergence.\n",
      "  warnings.warn(\n"
     ]
    }
   ],
   "source": [
    "model = NMF(n_components=100, init='random', random_state=0)\n",
    "W = model.fit_transform(sim_dt)\n",
    "H = model.components_\n",
    "\n",
    "WH = np.dot(W, H)\n",
    "#therefore we have\n",
    "#origin_dt (ground truth)\n",
    "#sim_dt (time variation based sampling)\n",
    "#WH (nmf pred based on sim_dt)"
   ]
  },
  {
   "cell_type": "code",
   "execution_count": 33,
   "metadata": {},
   "outputs": [
    {
     "data": {
      "text/plain": [
       "0.003269806981300681"
      ]
     },
     "execution_count": 33,
     "metadata": {},
     "output_type": "execute_result"
    }
   ],
   "source": [
    "mean_squared_error(origin_dt, sim_dt, squared=False)"
   ]
  },
  {
   "cell_type": "code",
   "execution_count": 34,
   "metadata": {},
   "outputs": [
    {
     "data": {
      "text/plain": [
       "0.005064870617568365"
      ]
     },
     "execution_count": 34,
     "metadata": {},
     "output_type": "execute_result"
    }
   ],
   "source": [
    "mean_squared_error(origin_dt, WH, squared=False)"
   ]
  },
  {
   "cell_type": "code",
   "execution_count": 36,
   "metadata": {},
   "outputs": [
    {
     "data": {
      "text/plain": [
       "0.0028294665247159886"
      ]
     },
     "execution_count": 36,
     "metadata": {},
     "output_type": "execute_result"
    }
   ],
   "source": [
    "mean_squared_error(sim_dt, WH, squared=False)"
   ]
  },
  {
   "cell_type": "code",
   "execution_count": 37,
   "metadata": {},
   "outputs": [],
   "source": [
    "#save the predicted W and H\n",
    "pd.DataFrame(W).to_csv('W_time.csv')\n",
    "pd.DataFrame(H).to_csv('H_time.csv')"
   ]
  }
 ],
 "metadata": {
  "kernelspec": {
   "display_name": "Python 3 (ipykernel)",
   "language": "python",
   "name": "python3"
  },
  "language_info": {
   "codemirror_mode": {
    "name": "ipython",
    "version": 3
   },
   "file_extension": ".py",
   "mimetype": "text/x-python",
   "name": "python",
   "nbconvert_exporter": "python",
   "pygments_lexer": "ipython3",
   "version": "3.9.12"
  }
 },
 "nbformat": 4,
 "nbformat_minor": 4
}
