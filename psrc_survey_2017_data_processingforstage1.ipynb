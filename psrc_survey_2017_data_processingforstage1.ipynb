{
 "cells": [
  {
   "cell_type": "code",
   "execution_count": 456,
   "metadata": {},
   "outputs": [],
   "source": [
    "import os\n",
    "import numpy as np\n",
    "import pandas as pd\n",
    "import matplotlib.pyplot as plt\n",
    "from scipy.stats import kstest\n",
    "from scipy.stats import wilcoxon\n",
    "from scipy.stats import mannwhitneyu"
   ]
  },
  {
   "cell_type": "code",
   "execution_count": 2,
   "metadata": {},
   "outputs": [],
   "source": [
    "psrc_survey_path = 'G:\\\\My Drive\\\\2021\\\\Bias\\\\PSRC Spring 2017 Travel Survey\\\\2017-pr1-data-files-no-GPS\\\\'\n",
    "os.chdir(psrc_survey_path)"
   ]
  },
  {
   "cell_type": "code",
   "execution_count": 278,
   "metadata": {},
   "outputs": [],
   "source": [
    "hh = pd.read_excel('2017-pr1-1-household.xlsx', header=1)\n",
    "selected_hh_col = ['hhid', 'final_home_tract','final_home_bg','final_home_taz2010','prev_home_taz2010',\n",
    "                   'hhincome_detailed', 'hhincome_followup','hhincome_broad', 'hh_wt_final']\n",
    "hh = hh[selected_hh_col]\n",
    "\n",
    "person = pd.read_excel('2017-pr1-2-person.xlsx', header=1)\n",
    "selected_columns_p = ['hhid', 'personid', 'sample_segment', 'age', 'gender', 'employment',\n",
    "                      'smartphone_type','smartphone_age','smartphone_qualified','mobile_device',\n",
    "                      'call_center','education','hh_wt_final']\n",
    "person = person[selected_columns_p]\n",
    "\n",
    "\n",
    "#check person with GPS and person w.o GPS, the infomation is the same\n",
    "#hh_GPS = pd.read_excel('..\\\\2017-pr1-data-files-GPS\\\\2017-pr1-R-1-household.xlsx', header=1)\n",
    "#hh_GPS = hh_GPS[selected_hh_col]\n",
    "#hh_GPS.columns\n",
    "\n",
    "#person_GPS = pd.read_excel('..\\\\2017-pr1-data-files-GPS\\\\2017-pr1-R-2-person.xlsx', header=1)\n",
    "#person_GPS = person[selected_columns_p]\n",
    "#person_GPS.head(3)\n",
    "\n",
    "#del(person_GPS, hh_GPS)"
   ]
  },
  {
   "cell_type": "code",
   "execution_count": 279,
   "metadata": {},
   "outputs": [
    {
     "data": {
      "text/html": [
       "<div>\n",
       "<style scoped>\n",
       "    .dataframe tbody tr th:only-of-type {\n",
       "        vertical-align: middle;\n",
       "    }\n",
       "\n",
       "    .dataframe tbody tr th {\n",
       "        vertical-align: top;\n",
       "    }\n",
       "\n",
       "    .dataframe thead th {\n",
       "        text-align: right;\n",
       "    }\n",
       "</style>\n",
       "<table border=\"1\" class=\"dataframe\">\n",
       "  <thead>\n",
       "    <tr style=\"text-align: right;\">\n",
       "      <th></th>\n",
       "      <th></th>\n",
       "      <th>hhid</th>\n",
       "      <th>personid</th>\n",
       "      <th>sample_segment</th>\n",
       "      <th>age</th>\n",
       "      <th>gender</th>\n",
       "      <th>employment</th>\n",
       "      <th>smartphone_age</th>\n",
       "      <th>mobile_device</th>\n",
       "      <th>call_center</th>\n",
       "      <th>education</th>\n",
       "      <th>hh_wt_final</th>\n",
       "    </tr>\n",
       "    <tr>\n",
       "      <th>smartphone_type</th>\n",
       "      <th>smartphone_qualified</th>\n",
       "      <th></th>\n",
       "      <th></th>\n",
       "      <th></th>\n",
       "      <th></th>\n",
       "      <th></th>\n",
       "      <th></th>\n",
       "      <th></th>\n",
       "      <th></th>\n",
       "      <th></th>\n",
       "      <th></th>\n",
       "      <th></th>\n",
       "    </tr>\n",
       "  </thead>\n",
       "  <tbody>\n",
       "    <tr>\n",
       "      <th rowspan=\"2\" valign=\"top\">1.0</th>\n",
       "      <th>0</th>\n",
       "      <td>225</td>\n",
       "      <td>225</td>\n",
       "      <td>225</td>\n",
       "      <td>225</td>\n",
       "      <td>225</td>\n",
       "      <td>225</td>\n",
       "      <td>225</td>\n",
       "      <td>225</td>\n",
       "      <td>225</td>\n",
       "      <td>225</td>\n",
       "      <td>225</td>\n",
       "    </tr>\n",
       "    <tr>\n",
       "      <th>1</th>\n",
       "      <td>1576</td>\n",
       "      <td>1576</td>\n",
       "      <td>1576</td>\n",
       "      <td>1576</td>\n",
       "      <td>1576</td>\n",
       "      <td>1576</td>\n",
       "      <td>1576</td>\n",
       "      <td>1499</td>\n",
       "      <td>1499</td>\n",
       "      <td>1576</td>\n",
       "      <td>1568</td>\n",
       "    </tr>\n",
       "    <tr>\n",
       "      <th rowspan=\"2\" valign=\"top\">2.0</th>\n",
       "      <th>0</th>\n",
       "      <td>311</td>\n",
       "      <td>311</td>\n",
       "      <td>311</td>\n",
       "      <td>311</td>\n",
       "      <td>311</td>\n",
       "      <td>311</td>\n",
       "      <td>311</td>\n",
       "      <td>311</td>\n",
       "      <td>311</td>\n",
       "      <td>311</td>\n",
       "      <td>311</td>\n",
       "    </tr>\n",
       "    <tr>\n",
       "      <th>1</th>\n",
       "      <td>2518</td>\n",
       "      <td>2518</td>\n",
       "      <td>2518</td>\n",
       "      <td>2518</td>\n",
       "      <td>2518</td>\n",
       "      <td>2518</td>\n",
       "      <td>2518</td>\n",
       "      <td>2403</td>\n",
       "      <td>2403</td>\n",
       "      <td>2518</td>\n",
       "      <td>2505</td>\n",
       "    </tr>\n",
       "    <tr>\n",
       "      <th>3.0</th>\n",
       "      <th>0</th>\n",
       "      <td>160</td>\n",
       "      <td>160</td>\n",
       "      <td>160</td>\n",
       "      <td>160</td>\n",
       "      <td>160</td>\n",
       "      <td>160</td>\n",
       "      <td>0</td>\n",
       "      <td>160</td>\n",
       "      <td>160</td>\n",
       "      <td>160</td>\n",
       "      <td>160</td>\n",
       "    </tr>\n",
       "    <tr>\n",
       "      <th>4.0</th>\n",
       "      <th>0</th>\n",
       "      <td>10</td>\n",
       "      <td>10</td>\n",
       "      <td>10</td>\n",
       "      <td>10</td>\n",
       "      <td>10</td>\n",
       "      <td>10</td>\n",
       "      <td>0</td>\n",
       "      <td>10</td>\n",
       "      <td>10</td>\n",
       "      <td>10</td>\n",
       "      <td>10</td>\n",
       "    </tr>\n",
       "    <tr>\n",
       "      <th>5.0</th>\n",
       "      <th>0</th>\n",
       "      <td>52</td>\n",
       "      <td>52</td>\n",
       "      <td>52</td>\n",
       "      <td>52</td>\n",
       "      <td>52</td>\n",
       "      <td>52</td>\n",
       "      <td>0</td>\n",
       "      <td>52</td>\n",
       "      <td>52</td>\n",
       "      <td>52</td>\n",
       "      <td>52</td>\n",
       "    </tr>\n",
       "    <tr>\n",
       "      <th>6.0</th>\n",
       "      <th>0</th>\n",
       "      <td>549</td>\n",
       "      <td>549</td>\n",
       "      <td>549</td>\n",
       "      <td>549</td>\n",
       "      <td>549</td>\n",
       "      <td>549</td>\n",
       "      <td>0</td>\n",
       "      <td>549</td>\n",
       "      <td>549</td>\n",
       "      <td>549</td>\n",
       "      <td>549</td>\n",
       "    </tr>\n",
       "  </tbody>\n",
       "</table>\n",
       "</div>"
      ],
      "text/plain": [
       "                                      hhid  personid  sample_segment   age  \\\n",
       "smartphone_type smartphone_qualified                                         \n",
       "1.0             0                      225       225             225   225   \n",
       "                1                     1576      1576            1576  1576   \n",
       "2.0             0                      311       311             311   311   \n",
       "                1                     2518      2518            2518  2518   \n",
       "3.0             0                      160       160             160   160   \n",
       "4.0             0                       10        10              10    10   \n",
       "5.0             0                       52        52              52    52   \n",
       "6.0             0                      549       549             549   549   \n",
       "\n",
       "                                      gender  employment  smartphone_age  \\\n",
       "smartphone_type smartphone_qualified                                       \n",
       "1.0             0                        225         225             225   \n",
       "                1                       1576        1576            1576   \n",
       "2.0             0                        311         311             311   \n",
       "                1                       2518        2518            2518   \n",
       "3.0             0                        160         160               0   \n",
       "4.0             0                         10          10               0   \n",
       "5.0             0                         52          52               0   \n",
       "6.0             0                        549         549               0   \n",
       "\n",
       "                                      mobile_device  call_center  education  \\\n",
       "smartphone_type smartphone_qualified                                          \n",
       "1.0             0                               225          225        225   \n",
       "                1                              1499         1499       1576   \n",
       "2.0             0                               311          311        311   \n",
       "                1                              2403         2403       2518   \n",
       "3.0             0                               160          160        160   \n",
       "4.0             0                                10           10         10   \n",
       "5.0             0                                52           52         52   \n",
       "6.0             0                               549          549        549   \n",
       "\n",
       "                                      hh_wt_final  \n",
       "smartphone_type smartphone_qualified               \n",
       "1.0             0                             225  \n",
       "                1                            1568  \n",
       "2.0             0                             311  \n",
       "                1                            2505  \n",
       "3.0             0                             160  \n",
       "4.0             0                              10  \n",
       "5.0             0                              52  \n",
       "6.0             0                             549  "
      ]
     },
     "execution_count": 279,
     "metadata": {},
     "output_type": "execute_result"
    }
   ],
   "source": [
    "person.groupby(by=['smartphone_type', 'smartphone_qualified']).count()"
   ]
  },
  {
   "cell_type": "code",
   "execution_count": 593,
   "metadata": {},
   "outputs": [],
   "source": [
    "#decode the data\n",
    "#for age, pagey\n",
    "#<18, 18-29, 30-49, 50-64, >65\n",
    "#convert demogroup\n",
    "#age <18, 18-29, 30-49, 50-64, >65\n",
    "def dage(x):\n",
    "    if x<=4:\n",
    "        return 1\n",
    "    elif x==5:\n",
    "        return 2\n",
    "    elif x >=6 and x<=7:\n",
    "        return 3\n",
    "    elif x>=8 and x<=9:\n",
    "        return 4\n",
    "    else:\n",
    "        return 5\n",
    "    \n",
    "#for household income, hhincome\n",
    "#Poor or near-poor 32,048 or less\n",
    "#Lower-middle class 32,048 - 53,413\n",
    "#Middle class 53,413 - 106,827\n",
    "#Upper-middle class 106,827 - 373,894\n",
    "#Rich 373,894 and up\n",
    "def decode_income_pew(income_var):\n",
    "    if income_var<=4:\n",
    "        return 1\n",
    "    elif income_var==5:\n",
    "        return 2\n",
    "    elif income_var>5 and income_var<=10:\n",
    "        return 3\n",
    "    else:\n",
    "        return(-1)\n",
    "    \n",
    "def decode_income_3level(income_var):\n",
    "    if income_var>=1 and income_var<=4:\n",
    "        return 1\n",
    "    elif income_var>4 and income_var<=6:\n",
    "        return 2\n",
    "    elif income_var>6 and income_var<=10:\n",
    "        return 3   \n",
    "    else:\n",
    "        return -1\n",
    "    \n",
    "def decode_income_follow_up_3level(income_var):\n",
    "    if income_var != 0:\n",
    "        if income_var >0 and income_var<=2:\n",
    "            return 2\n",
    "        elif income_var>=3 and income_var<=4:\n",
    "            return 3\n",
    "        elif income_var==5:\n",
    "            return 4\n",
    "        else:\n",
    "            return -1\n",
    "    else:\n",
    "        return 0\n",
    "     \n",
    "        \n",
    "def decode_income_follow_up_pew(income_var):\n",
    "    if income_var != 0:\n",
    "        if income_var >0 and income_var<=2:\n",
    "            return 2\n",
    "        elif income_var==3:\n",
    "            return 3\n",
    "        elif income_var>=4 and income_var<6:\n",
    "            return 4\n",
    "        else:\n",
    "            return -1\n",
    "    else:\n",
    "        return 0"
   ]
  },
  {
   "cell_type": "code",
   "execution_count": 541,
   "metadata": {},
   "outputs": [
    {
     "data": {
      "text/plain": [
       "array([ 1,  2,  3,  4,  5,  6,  7,  8,  9, 10, 11], dtype=int64)"
      ]
     },
     "execution_count": 541,
     "metadata": {},
     "output_type": "execute_result"
    }
   ],
   "source": [
    "np.unique(hh['hhincome_detailed'])"
   ]
  },
  {
   "cell_type": "code",
   "execution_count": 281,
   "metadata": {},
   "outputs": [],
   "source": [
    "#data procesisng and demographic factors decoding\n",
    "person['deage'] = person['age'].apply(lambda x: dage(x))\n",
    "hh['deincomepew'] = hh['hhincome_detailed'].apply(lambda x: decode_income_pew(x))\n",
    "\n",
    "hh['hh_wt_final'] = hh[\"hh_wt_final\"].replace(np.nan, 0)\n",
    "conver_nan2zero = lambda x: 0 if type(x) == str else x\n",
    "hh['hh_wt_final'] = hh['hh_wt_final'].apply(conver_nan2zero)\n",
    "\n",
    "#checl of people who give income info has any other value after income follow-up\n",
    "#np.sum(hh['hhincome_followup'][hh['hhincome_detailed']!=11])\n",
    "#answer: no, the sum is 0\n",
    "\n",
    "hh['hhincome_followup'] = hh['hhincome_followup'].replace(np.nan, 0)\n",
    "hh['hhincome_followup'] = hh['hhincome_followup'].apply(conver_nan2zero)\n",
    "hh['deincome_followup'] = hh['hhincome_followup'].apply(lambda x: decode_income_(x))\n",
    "hh['deincome_followup'] = hh['deincomepew']+hh['deincome_followup']"
   ]
  },
  {
   "cell_type": "code",
   "execution_count": 597,
   "metadata": {},
   "outputs": [],
   "source": [
    "hh['deincome3'] = hh['hhincome_detailed'].apply(lambda x:decode_income_3level(x))\n",
    "hh['hhincome_followup'] = hh['hhincome_followup'].replace(np.nan, 0)\n",
    "hh['hhincome_followup'] = hh['hhincome_followup'].apply(conver_nan2zero)\n",
    "#person = person.drop(columns = ['deincome3'])\n",
    "hh['deincome_followup3'] = hh['hhincome_followup'].apply(lambda x: decode_income_follow_up_3level(x))"
   ]
  },
  {
   "cell_type": "code",
   "execution_count": 598,
   "metadata": {},
   "outputs": [],
   "source": [
    "hh['deincome_followup3'] = hh['deincome3']+hh['deincome_followup3']"
   ]
  },
  {
   "cell_type": "code",
   "execution_count": 599,
   "metadata": {},
   "outputs": [],
   "source": [
    "demo_dt = person.merge(hh, how='left')\n",
    "demo_dt['deincome_followup'].describe()\n",
    "\n",
    "#smartphone index\n",
    "decode_smartphone = lambda x: 0 if x in [-1, 6] else 1\n",
    "demo_dt['sm_index'] = demo_dt['smartphone_type'].apply(decode_smartphone)"
   ]
  },
  {
   "cell_type": "code",
   "execution_count": 600,
   "metadata": {},
   "outputs": [
    {
     "data": {
      "text/plain": [
       "count    6228.000000\n",
       "mean        1.952633\n",
       "std         1.371849\n",
       "min        -2.000000\n",
       "25%         1.000000\n",
       "50%         2.000000\n",
       "75%         3.000000\n",
       "max         3.000000\n",
       "Name: deincome_followup3, dtype: float64"
      ]
     },
     "execution_count": 600,
     "metadata": {},
     "output_type": "execute_result"
    }
   ],
   "source": [
    "demo_dt['deincome_followup3'].describe()"
   ]
  },
  {
   "cell_type": "code",
   "execution_count": 284,
   "metadata": {},
   "outputs": [],
   "source": [
    "conver_nan2neg = lambda x: -1 if type(x) == str else x\n",
    "demo_dt['smartphone_type'] = demo_dt['smartphone_type'].replace(np.nan, -1)\n",
    "demo_dt['smartphone_type'] = demo_dt['smartphone_type'].apply(conver_nan2neg)\n",
    "#if no smartphone info is given from smartphone type\n",
    "#the other smartphone info is also unknow\n",
    "#(demo_dt[['smartphone_age', 'smartphone_qualified']][demo_dt['smartphone_type']==-1]).describe()\n",
    "\n",
    "#gender check\n",
    "#check # of person whose gender is not known based on the data\n",
    "#demo_dt[['gender', 'hh_wt_final']].groupby(by=['gender']).sum().values\n",
    "#array([[1801775.74314757],\n",
    "#       [1875038.9676913 ],\n",
    "#       [   2181.58382136],\n",
    "#       [ 151469.79511318]])\n",
    "#unknown pop: 2181.58382136+151469.79511318"
   ]
  },
  {
   "cell_type": "code",
   "execution_count": 180,
   "metadata": {
    "scrolled": true
   },
   "outputs": [
    {
     "data": {
      "text/plain": [
       "364198.31139101996"
      ]
     },
     "execution_count": 180,
     "metadata": {},
     "output_type": "execute_result"
    }
   ],
   "source": [
    "np.sum(demo_dt['hh_wt_final'][demo_dt['deincome_followup']==-2])"
   ]
  },
  {
   "cell_type": "code",
   "execution_count": 285,
   "metadata": {},
   "outputs": [
    {
     "data": {
      "text/plain": [
       "0.09507937228927744"
      ]
     },
     "execution_count": 285,
     "metadata": {},
     "output_type": "execute_result"
    }
   ],
   "source": [
    "364198.31139101996/np.sum(demo_dt['hh_wt_final'])"
   ]
  },
  {
   "cell_type": "code",
   "execution_count": 288,
   "metadata": {},
   "outputs": [],
   "source": []
  },
  {
   "cell_type": "code",
   "execution_count": 286,
   "metadata": {},
   "outputs": [
    {
     "data": {
      "text/plain": [
       "hh_wt_final    0.0\n",
       "dtype: float64"
      ]
     },
     "execution_count": 286,
     "metadata": {},
     "output_type": "execute_result"
    }
   ],
   "source": [
    "#delete the data\n",
    "#all the data is connected to the phone instead of people with age < 18\n",
    "np.sum(demo_dt[['hh_wt_final']][(demo_dt['smartphone_type']==-1) &\n",
    "                                (demo_dt['mobile_device']!=1) &\n",
    "                                (demo_dt['call_center']!=1)&\n",
    "                                (demo_dt['deage']!=1)&\n",
    "                                (demo_dt['deincome_followup']==-2)])\n",
    "\n",
    "#check the taz info of the dataset\n",
    "demo_dt['final_home_taz2010'] = demo_dt['final_home_taz2010'].replace(np.nan, 0)\n",
    "demo_dt['prev_home_taz2010'] = demo_dt['prev_home_taz2010'].replace(np.nan, 0)\n",
    "\n",
    "demo_dt['final_home_taz2010'] = demo_dt['final_home_taz2010'].astype(int)\n",
    "demo_dt['prev_home_taz2010'] = demo_dt['prev_home_taz2010'].astype(int)\n",
    "#if nan, both previous and final are nan\n",
    "\n",
    "#get the tazs included in the PSRC survey"
   ]
  },
  {
   "cell_type": "code",
   "execution_count": 403,
   "metadata": {},
   "outputs": [
    {
     "name": "stdout",
     "output_type": "stream",
     "text": [
      "% of smartphones in age group [0.98409162 0.95551314 0.87795273 0.69529057]\n",
      "% of smartphones in age group, by tazs [0.17535743 0.56195338 0.47470285 0.24428358]\n"
     ]
    },
    {
     "data": {
      "image/png": "[encoded data removed]",
      "text/plain": [
       "<Figure size 432x288 with 1 Axes>"
      ]
     },
     "metadata": {
      "needs_background": "light"
     },
     "output_type": "display_data"
    }
   ],
   "source": [
    "#since part of the income info is not known, we first check the age\n",
    "age_check_dt0 = demo_dt[['sm_index', 'deage', 'hh_wt_final']][(demo_dt['deage']!=1)&(demo_dt['sm_index']==0)].groupby(by=['deage','sm_index']).sum()\n",
    "age_check_dt0.reset_index(inplace=True)\n",
    "\n",
    "age_check_dt1 = demo_dt[['sm_index', 'deage', 'hh_wt_final']][(demo_dt['deage']!=1)&(demo_dt['sm_index']==1)].groupby(by=['deage', 'sm_index']).sum()\n",
    "age_check_dt1.reset_index(inplace=True)\n",
    "\n",
    "age_check_dt = demo_dt[['sm_index', 'deage', 'hh_wt_final']][(demo_dt['deage']!=1)].groupby(by=['deage']).sum()\n",
    "age_check_dt.reset_index(inplace=True)\n",
    "\n",
    "barwidth = 0.25\n",
    "br1 = np.arange(age_check_dt0.shape[0])\n",
    "br2 = [x + barwidth for x in br1]\n",
    "\n",
    "plt.bar(br1, age_check_dt1['hh_wt_final'].values, width=barwidth, \n",
    "       edgecolor = 'grey', label='smartphone')\n",
    "plt.bar(br2, age_check_dt0['hh_wt_final'].values, width=barwidth, \n",
    "       edgecolor = 'grey', label='non smartphone')\n",
    "\n",
    "plt.legend()\n",
    "\n",
    "#smartphone % regarding different age groups\n",
    "#in general\n",
    "print('% of smartphones in age group', age_check_dt1['hh_wt_final'].values/age_check_dt['hh_wt_final'].values)\n",
    "#print % of smartphone by age based on tazs\n",
    "age_mx_all = demo_dt[['final_home_taz2010','hh_wt_final', 'deage']][(demo_dt['deage']!=1)&(demo_dt['final_home_taz2010']!=0)].groupby(by=['final_home_taz2010','deage']).sum().unstack(fill_value=0).values\n",
    "test_dt = demo_dt[['final_home_taz2010','hh_wt_final','deage','sm_index']][(demo_dt['deage']!=1)&\n",
    "                                                                 (demo_dt['final_home_taz2010']!=0)\n",
    "                                                                ].groupby(by=['final_home_taz2010', 'deage', 'sm_index']).sum().unstack(fill_value=0).stack()\n",
    "\n",
    "test_dt.reset_index(inplace=True)\n",
    "\n",
    "age_mx_all[age_mx_all==0]  = 1\n",
    "age_sm = test_dt[['hh_wt_final','final_home_taz2010', 'deage']][test_dt['sm_index']==1].groupby(by=['final_home_taz2010', 'deage']).sum().unstack(fill_value=0).values\n",
    "print('% of smartphones in age group, by tazs', np.mean(age_sm/age_mx_all, axis=0))\n",
    "#using mean of tazs seems not sensisble\n",
    "\n"
   ]
  },
  {
   "cell_type": "code",
   "execution_count": 365,
   "metadata": {},
   "outputs": [
    {
     "data": {
      "text/plain": [
       "Index(['hhid', 'personid', 'sample_segment', 'age', 'gender', 'employment',\n",
       "       'smartphone_type', 'smartphone_age', 'smartphone_qualified',\n",
       "       'mobile_device', 'call_center', 'education', 'hh_wt_final', 'deage',\n",
       "       'final_home_tract', 'final_home_bg', 'final_home_taz2010',\n",
       "       'prev_home_taz2010', 'hhincome_detailed', 'hhincome_followup',\n",
       "       'hhincome_broad', 'deincomepew', 'deincome_followup', 'sm_index'],\n",
       "      dtype='object')"
      ]
     },
     "execution_count": 365,
     "metadata": {},
     "output_type": "execute_result"
    }
   ],
   "source": [
    "demo_dt.columns"
   ]
  },
  {
   "cell_type": "code",
   "execution_count": 601,
   "metadata": {},
   "outputs": [
    {
     "name": "stdout",
     "output_type": "stream",
     "text": [
      "% of smartphones in income group [0.72079593 0.95084525 0.97606382]\n"
     ]
    },
    {
     "data": {
      "image/png": "[encoded data removed]",
      "text/plain": [
       "<Figure size 432x288 with 1 Axes>"
      ]
     },
     "metadata": {
      "needs_background": "light"
     },
     "output_type": "display_data"
    }
   ],
   "source": [
    "income_check_dt0 = demo_dt[['sm_index', 'deincome_followup3', 'hh_wt_final']][(demo_dt['deage']!=1)&(demo_dt['sm_index']==0)&(demo_dt['deincome_followup3']!=-2)].groupby(by=['deincome_followup3','sm_index']).sum()\n",
    "income_check_dt0.reset_index(inplace=True)\n",
    "\n",
    "income_check_dt1 = demo_dt[['sm_index', 'deincome_followup3', 'hh_wt_final']][(demo_dt['deage']!=1)&(demo_dt['sm_index']==1)&(demo_dt['deincome_followup3']!=-2)].groupby(by=['deincome_followup3', 'sm_index']).sum()\n",
    "income_check_dt1.reset_index(inplace=True)\n",
    "\n",
    "income_check_dt = demo_dt[['sm_index', 'deincome_followup3', 'hh_wt_final']][(demo_dt['deage']!=1)&(demo_dt['deincome_followup3']!=-2)].groupby(by=['deincome_followup3']).sum()\n",
    "income_check_dt.reset_index(inplace=True)\n",
    "\n",
    "barwidth = 0.25\n",
    "br1 = np.arange(income_check_dt0.shape[0])\n",
    "br2 = [x + barwidth for x in br1]\n",
    "\n",
    "plt.bar(br1, income_check_dt1['hh_wt_final'].values, width=barwidth, \n",
    "       edgecolor = 'grey', label='smartphone')\n",
    "plt.bar(br2, income_check_dt0['hh_wt_final'].values, width=barwidth, \n",
    "       edgecolor = 'grey', label='non smartphone')\n",
    "\n",
    "plt.legend()\n",
    "\n",
    "print('% of smartphones in income group', income_check_dt1['hh_wt_final'].values/income_check_dt['hh_wt_final'].values)"
   ]
  },
  {
   "cell_type": "code",
   "execution_count": 565,
   "metadata": {},
   "outputs": [
    {
     "name": "stdout",
     "output_type": "stream",
     "text": [
      "% of smartphones in income group [0.72079593 0.94851389 0.97069301]\n"
     ]
    },
    {
     "data": {
      "image/png": "[encoded data removed]",
      "text/plain": [
       "<Figure size 432x288 with 1 Axes>"
      ]
     },
     "metadata": {
      "needs_background": "light"
     },
     "output_type": "display_data"
    }
   ],
   "source": [
    "income_check_dt0pew = demo_dt[['sm_index', 'deincome_followup', 'hh_wt_final']][(demo_dt['deage']!=1)&(demo_dt['sm_index']==0)&(demo_dt['deincome_followup']!=-2)].groupby(by=['deincome_followup','sm_index']).sum()\n",
    "income_check_dt0pew.reset_index(inplace=True)\n",
    "\n",
    "income_check_dt1pew = demo_dt[['sm_index', 'deincome_followup', 'hh_wt_final']][(demo_dt['deage']!=1)&(demo_dt['sm_index']==1)&(demo_dt['deincome_followup']!=-2)].groupby(by=['deincome_followup', 'sm_index']).sum()\n",
    "income_check_dt1pew.reset_index(inplace=True)\n",
    "\n",
    "income_check_dtpew = demo_dt[['sm_index', 'deincome_followup', 'hh_wt_final']][(demo_dt['deage']!=1)&(demo_dt['deincome_followup']!=-2)].groupby(by=['deincome_followup']).sum()\n",
    "income_check_dtpew.reset_index(inplace=True)\n",
    "\n",
    "barwidth = 0.25\n",
    "br1 = np.arange(income_check_dt0.shape[0])\n",
    "br2 = [x + barwidth for x in br1]\n",
    "\n",
    "plt.bar(br1, income_check_dt1['hh_wt_final'].values, width=barwidth, \n",
    "       edgecolor = 'grey', label='smartphone')\n",
    "plt.bar(br2, income_check_dt0['hh_wt_final'].values, width=barwidth, \n",
    "       edgecolor = 'grey', label='non smartphone')\n",
    "\n",
    "plt.legend()\n",
    "\n",
    "print('% of smartphones in income group', income_check_dt1['hh_wt_final'].values/income_check_dt['hh_wt_final'].values)"
   ]
  },
  {
   "cell_type": "code",
   "execution_count": 415,
   "metadata": {},
   "outputs": [
    {
     "data": {
      "text/plain": [
       "Index(['hhid', 'personid', 'sample_segment', 'age', 'gender', 'employment',\n",
       "       'smartphone_type', 'smartphone_age', 'smartphone_qualified',\n",
       "       'mobile_device', 'call_center', 'education', 'hh_wt_final', 'deage',\n",
       "       'final_home_tract', 'final_home_bg', 'final_home_taz2010',\n",
       "       'prev_home_taz2010', 'hhincome_detailed', 'hhincome_followup',\n",
       "       'hhincome_broad', 'deincomepew', 'deincome_followup', 'sm_index'],\n",
       "      dtype='object')"
      ]
     },
     "execution_count": 415,
     "metadata": {},
     "output_type": "execute_result"
    }
   ],
   "source": [
    "demo_dt.columns"
   ]
  },
  {
   "cell_type": "code",
   "execution_count": 564,
   "metadata": {},
   "outputs": [
    {
     "name": "stdout",
     "output_type": "stream",
     "text": [
      "% of smartphones in income group [0.89675272 0.88761219]\n"
     ]
    },
    {
     "data": {
      "image/png": "[encoded data removed]",
      "text/plain": [
       "<Figure size 432x288 with 1 Axes>"
      ]
     },
     "metadata": {
      "needs_background": "light"
     },
     "output_type": "display_data"
    }
   ],
   "source": [
    "#gender check\n",
    "#demo_dt['gender'] = demo_dt['gender'].replace(np.nan, -1)\n",
    "#gender has no nan values\n",
    "#demo_dt['gender'].describe()\n",
    "gender_check_dt0 = demo_dt[['sm_index', 'gender', 'hh_wt_final']][(demo_dt['deage']!=1)&(demo_dt['sm_index']==0)&(demo_dt['gender'].isin([1,2]))].groupby(by=['gender','sm_index']).sum()\n",
    "gender_check_dt0.reset_index(inplace=True)\n",
    "\n",
    "gender_check_dt1 = demo_dt[['sm_index', 'gender', 'hh_wt_final']][(demo_dt['deage']!=1)&(demo_dt['sm_index']==1)&(demo_dt['gender'].isin([1,2]))].groupby(by=['gender', 'sm_index']).sum()\n",
    "gender_check_dt1.reset_index(inplace=True)\n",
    "\n",
    "gender_check_dt = demo_dt[['sm_index', 'gender', 'hh_wt_final']][(demo_dt['deage']!=1)&(demo_dt['gender'].isin([1,2]))].groupby(by=['gender']).sum()\n",
    "gender_check_dt.reset_index(inplace=True)\n",
    "\n",
    "barwidth = 0.25\n",
    "br1 = np.arange(gender_check_dt0.shape[0])\n",
    "br2 = [x + barwidth for x in br1]\n",
    "\n",
    "plt.bar(br1, gender_check_dt1['hh_wt_final'].values, width=barwidth, \n",
    "       edgecolor = 'grey', label='smartphone')\n",
    "plt.bar(br2, gender_check_dt0['hh_wt_final'].values, width=barwidth, \n",
    "       edgecolor = 'grey', label='non smartphone')\n",
    "\n",
    "plt.legend()\n",
    "\n",
    "print('% of smartphones in income group', gender_check_dt1['hh_wt_final'].values/gender_check_dt['hh_wt_final'].values)\n"
   ]
  },
  {
   "cell_type": "code",
   "execution_count": 603,
   "metadata": {},
   "outputs": [],
   "source": [
    "age_per = age_check_dt1['hh_wt_final'].values/age_check_dt['hh_wt_final'].values\n",
    "income_per = income_check_dt1['hh_wt_final'].values/income_check_dt['hh_wt_final'].values\n",
    "gender_per = gender_check_dt1['hh_wt_final'].values/gender_check_dt['hh_wt_final'].values\n"
   ]
  },
  {
   "cell_type": "code",
   "execution_count": 567,
   "metadata": {},
   "outputs": [],
   "source": [
    "income_per_pew = income_check_dt1pew['hh_wt_final'].values/income_check_dtpew['hh_wt_final'].values"
   ]
  },
  {
   "cell_type": "code",
   "execution_count": 604,
   "metadata": {},
   "outputs": [
    {
     "data": {
      "text/plain": [
       "array([0.72079593, 0.94407019, 0.97138257])"
      ]
     },
     "execution_count": 604,
     "metadata": {},
     "output_type": "execute_result"
    }
   ],
   "source": [
    "income_per_pew"
   ]
  },
  {
   "cell_type": "code",
   "execution_count": 605,
   "metadata": {},
   "outputs": [
    {
     "data": {
      "text/plain": [
       "array([0.72079593, 0.95084525, 0.97606382])"
      ]
     },
     "execution_count": 605,
     "metadata": {},
     "output_type": "execute_result"
    }
   ],
   "source": [
    "income_per"
   ]
  },
  {
   "cell_type": "code",
   "execution_count": 606,
   "metadata": {},
   "outputs": [],
   "source": [
    "age_per_wyoung = np.hstack((0.53,age_per))"
   ]
  },
  {
   "cell_type": "code",
   "execution_count": 609,
   "metadata": {},
   "outputs": [
    {
     "name": "stdout",
     "output_type": "stream",
     "text": [
      "[0.3425791, 0.4519167, 0.4639026, 0.6360929, 0.8391084, 0.8613635, 0.6176205, 0.8147403, 0.8363491, 0.5674873, 0.7486066, 0.7684614, 0.4494189, 0.5928555, 0.6085794, 0.3390872, 0.4473104, 0.4591741, 0.6296093, 0.8305554, 0.8525837, 0.6113251, 0.8064357, 0.8278242, 0.561703, 0.7409762, 0.7606285, 0.444838, 0.5868126, 0.6023762]\n",
      "[0.3820218, 0.503948, 0.5173138, 0.7093292, 0.9357188, 0.9605362, 0.68873, 0.9085451, 0.9326418, 0.6328248, 0.8347972, 0.8569379, 0.5011626, 0.6611137, 0.678648]\n"
     ]
    }
   ],
   "source": [
    "#data used for as prior info\n",
    "percent_var_all_wyong = []\n",
    "for i in gender_per:\n",
    "    for j in age_per_wyoung:\n",
    "        for k in income_per:\n",
    "            percent_var_all_wyong.append(i*j*k)\n",
    "\n",
    "percent_var_nogen_wyong = []\n",
    "for j in age_per_wyoung:\n",
    "    for k in income_per:\n",
    "        percent_var_nogen_wyong.append(j*k)\n",
    "\n",
    "print(list(np.round(np.array(percent_var_all_wyong), 7)))\n",
    "print(list(np.round(np.array(percent_var_nogen_wyong), 7)))"
   ]
  },
  {
   "cell_type": "code",
   "execution_count": 610,
   "metadata": {},
   "outputs": [],
   "source": [
    "prior_pew = [0.3581475,0.3829250,0.4324800,0.6487200,0.6936000,\n",
    "             0.7833600,0.6419625,0.6863750,0.7752000,0.5608725,\n",
    "             0.5996750,0.6772800,0.4122075,0.4407250,0.4977600,\n",
    "             0.3581475,0.3829250,0.4324800,0.6487200,0.6936000,\n",
    "             0.7833600,0.6419625,0.6863750,0.7752000,0.5608725,\n",
    "             0.5996750,0.6772800,0.4122075,0.4407250,0.4977600]\n",
    "prior_psrc_hh = [0.3425791, 0.4519167, 0.4639026, 0.6360929, 0.8391084, \n",
    "                 0.8613635, 0.6176205, 0.8147403, 0.8363491, 0.5674873,\n",
    "                 0.7486066, 0.7684614, 0.4494189, 0.5928555, 0.6085794, \n",
    "                 0.3390872, 0.4473104, 0.4591741, 0.6296093, 0.8305554, \n",
    "                 0.8525837, 0.6113251, 0.8064357, 0.8278242, 0.561703, \n",
    "                 0.7409762, 0.7606285, 0.444838, 0.5868126, 0.6023762]"
   ]
  },
  {
   "cell_type": "code",
   "execution_count": 626,
   "metadata": {},
   "outputs": [
    {
     "name": "stdout",
     "output_type": "stream",
     "text": [
      "[0.3425791, 0.4519167, 0.4639026, 0.6360929, 0.8391084, 0.8613635, 0.6176205, 0.8147403, 0.8363491, 0.5674873, 0.7486066, 0.7684614, 0.4494189, 0.5928555, 0.6085794, 0.3390872, 0.4473104, 0.4591741, 0.6296093, 0.8305554, 0.8525837, 0.6113251, 0.8064357, 0.8278242, 0.561703, 0.7409762, 0.7606285, 0.444838, 0.5868126, 0.6023762]\n"
     ]
    }
   ],
   "source": [
    "print((list(np.round(np.array(percent_var_all_wyong), 7))))"
   ]
  },
  {
   "cell_type": "code",
   "execution_count": 619,
   "metadata": {},
   "outputs": [
    {
     "name": "stdout",
     "output_type": "stream",
     "text": [
      "prior comparison\n"
     ]
    },
    {
     "data": {
      "text/plain": [
       "Text(0, 0.5, 'prior: PEW')"
      ]
     },
     "execution_count": 619,
     "metadata": {},
     "output_type": "execute_result"
    },
    {
     "data": {
      "image/png": "[encoded data removed]",
      "text/plain": [
       "<Figure size 576x432 with 1 Axes>"
      ]
     },
     "metadata": {
      "needs_background": "light"
     },
     "output_type": "display_data"
    },
    {
     "data": {
      "image/png": "[encoded data removed]",
      "text/plain": [
       "<Figure size 576x432 with 1 Axes>"
      ]
     },
     "metadata": {
      "needs_background": "light"
     },
     "output_type": "display_data"
    }
   ],
   "source": [
    "plt.rcParams[\"figure.figsize\"] = (8,6)\n",
    "plt.rcParams.update({'font.size': 15}) \n",
    "\n",
    "print('prior comparison')\n",
    "barwidth = 0.25\n",
    "br1 = np.arange(len(percent_var_all_wyong))\n",
    "br2 = [x + barwidth for x in br1]\n",
    "\n",
    "plt.bar(br1, percent_var_all_wyong, width=barwidth, \n",
    "       edgecolor = 'grey', label='prior: psrc hh')\n",
    "plt.bar(br2, prior_pew, width=barwidth, \n",
    "       edgecolor = 'grey', label='prior: pew')\n",
    "\n",
    "plt.legend()\n",
    "\n",
    "#print('% of smartphones in income group', gender_check_dt1['hh_wt_final'].values/gender_check_dt['hh_wt_final'].values)\n",
    "\n",
    "plt.rcParams[\"figure.figsize\"] = (8,6)\n",
    "x_val = list(range(0, 30))\n",
    "fig = plt.figure()\n",
    "ax1 = plt.subplot(111)\n",
    "#ax1 = plt.subplot(121)\n",
    "#ax2.set_title('estimated rate of demographic groups vs. actual per')\n",
    "ax1.scatter(percent_var_all_wyong, prior_pew, c=x_val, cmap='Reds')\n",
    "min_val = min(min(percent_var_all_wyong), min(prior_pew))\n",
    "max_val = max(max(percent_var_all_wyong), max(prior_pew))\n",
    "ax1.plot([min_val, max_val], [min_val, max_val])\n",
    "#ax3.set_xticks(x_val, rotation=90)\n",
    "#ax3.legend(bbox_to_anchor=(1.55, 1))\n",
    "ax1.set_xlabel('prior: psrc hh')\n",
    "ax1.set_ylabel('prior: PEW')"
   ]
  },
  {
   "cell_type": "code",
   "execution_count": 612,
   "metadata": {},
   "outputs": [
    {
     "name": "stdout",
     "output_type": "stream",
     "text": [
      "KstestResult(statistic=0.26666666666666666, pvalue=0.23907300248018645)\n",
      "MannwhitneyuResult(statistic=344.0, pvalue=0.1187404991999884)\n"
     ]
    }
   ],
   "source": [
    "print(kstest(prior_pew, percent_var_all_wyong))\n",
    "print(mannwhitneyu(prior_pew, percent_var_all_wyong))"
   ]
  },
  {
   "cell_type": "code",
   "execution_count": null,
   "metadata": {},
   "outputs": [],
   "source": []
  },
  {
   "cell_type": "code",
   "execution_count": 536,
   "metadata": {},
   "outputs": [],
   "source": [
    "#percentage comparison\n",
    "#per in general\n",
    "percent_var_all = []\n",
    "for i in gender_per:\n",
    "    for j in age_per:\n",
    "        for k in income_per:\n",
    "            percent_var_all.append(i*j*k)\n",
    "\n",
    "percent_var_nogen = []\n",
    "for j in age_per:\n",
    "    for k in income_per:\n",
    "        percent_var_nogen.append(j*k)\n",
    "\n",
    "#data from PEW\n",
    "#% of age under 18: .53\n",
    "gender_pew = [.85, .85]\n",
    "age_pew = [.96, .95, .83, .61]\n",
    "income_pew = [(.76+.83)/2, .85, .96]\n",
    "per_pewvar_all = []\n",
    "for i in gender_pew:\n",
    "    for j in age_pew:\n",
    "        for k in income_pew:\n",
    "            per_pewvar_all.append(i*j*k)\n",
    "\n",
    "per_pewvar_nogen = []\n",
    "for i in age_pew:\n",
    "    for j in income_pew:\n",
    "        per_pewvar_nogen.append(i*j)"
   ]
  },
  {
   "cell_type": "code",
   "execution_count": 529,
   "metadata": {},
   "outputs": [
    {
     "data": {
      "text/plain": [
       "array([0.7093292, 0.9290516, 0.9559294, 0.68873  , 0.9020715, 0.9281688,\n",
       "       0.6328248, 0.828849 , 0.852828 , 0.5011626, 0.6564031, 0.6753931])"
      ]
     },
     "execution_count": 529,
     "metadata": {},
     "output_type": "execute_result"
    }
   ],
   "source": [
    "np.round(np.array(percent_var_nogen), 7)"
   ]
  },
  {
   "cell_type": "code",
   "execution_count": 481,
   "metadata": {},
   "outputs": [
    {
     "data": {
      "text/plain": [
       "array([0. , 0.1, 0.2, 0.3, 0.4, 0.5, 0.6, 0.7, 0.8, 0.9])"
      ]
     },
     "execution_count": 481,
     "metadata": {},
     "output_type": "execute_result"
    }
   ],
   "source": [
    "np.arange(0, 1, 0.1)"
   ]
  },
  {
   "cell_type": "code",
   "execution_count": 488,
   "metadata": {},
   "outputs": [
    {
     "data": {
      "text/plain": [
       "0.41220749999999995"
      ]
     },
     "execution_count": 488,
     "metadata": {},
     "output_type": "execute_result"
    }
   ],
   "source": [
    "min(min(per_pewvar_all), min(percent_var_all))"
   ]
  },
  {
   "cell_type": "code",
   "execution_count": 524,
   "metadata": {},
   "outputs": [],
   "source": [
    "def per_plot_scatter(per_psrc, per_pew, plotfit=True):\n",
    "    N = len(per_psrc)\n",
    "    x = per_psrc\n",
    "    y = per_pew\n",
    "    colors = np.arange(N)\n",
    "    minval = min(min(x),min(y))\n",
    "    maxval = max(max(x),max(y))\n",
    "    a,b = np.polyfit(x, y, 1)\n",
    "    \n",
    "    xx = np.arange(minval, maxval+1/(N), 1/(N))\n",
    "    \n",
    "    plt.scatter(x, y, c=colors)\n",
    "    plt.xlabel('PSRC HH data')\n",
    "    plt.ylabel('PEW data')\n",
    "    if plotfit == True:\n",
    "        plt.plot(x, a*np.array(x)+b)\n",
    "    plt.plot(xx, xx)\n",
    "    print(a, b)\n",
    "    plt.show()\n",
    "    \n",
    "    \n",
    "def per_plot_bar(per_psrc, per_pew):\n",
    "    #plt.figure(figurenum)\n",
    "    br1 = np.arange(len(per_psrc))\n",
    "    br2 = [x + barwidth for x in br1]\n",
    "    \n",
    "    plt.bar(br1, per_psrc, width=barwidth, \n",
    "       edgecolor = 'grey', label='PSRC HH data')\n",
    "    plt.bar(br2, per_pew, width=barwidth, \n",
    "       edgecolor = 'grey', label='PEW data')\n",
    "    plt.xlabel('demo group #')\n",
    "    \n",
    "    plt.legend(loc='upper right', bbox_to_anchor=(1.35, 1))\n",
    "    plt.show()\n",
    "    "
   ]
  },
  {
   "cell_type": "code",
   "execution_count": 518,
   "metadata": {},
   "outputs": [
    {
     "name": "stdout",
     "output_type": "stream",
     "text": [
      "0.813692489271557 0.057899158019647005\n"
     ]
    },
    {
     "data": {
      "image/png": "[encoded data removed]",
      "text/plain": [
       "<Figure size 432x288 with 1 Axes>"
      ]
     },
     "metadata": {
      "needs_background": "light"
     },
     "output_type": "display_data"
    },
    {
     "name": "stdout",
     "output_type": "stream",
     "text": [
      "0.8547746716074452 0.0675752581190462\n"
     ]
    },
    {
     "data": {
      "image/png": "[encoded data removed]",
      "text/plain": [
       "<Figure size 432x288 with 1 Axes>"
      ]
     },
     "metadata": {
      "needs_background": "light"
     },
     "output_type": "display_data"
    }
   ],
   "source": [
    "per_plot_scatter(percent_var_all, per_pewvar_all, False)\n",
    "per_plot_scatter(percent_var_nogen, per_pewvar_nogen, False)"
   ]
  },
  {
   "cell_type": "code",
   "execution_count": 525,
   "metadata": {},
   "outputs": [
    {
     "data": {
      "image/png": "[encoded data removed]",
      "text/plain": [
       "<Figure size 432x288 with 1 Axes>"
      ]
     },
     "metadata": {
      "needs_background": "light"
     },
     "output_type": "display_data"
    },
    {
     "data": {
      "image/png": "[encoded data removed]",
      "text/plain": [
       "<Figure size 432x288 with 1 Axes>"
      ]
     },
     "metadata": {
      "needs_background": "light"
     },
     "output_type": "display_data"
    }
   ],
   "source": [
    "per_plot_bar(percent_var_all, per_pewvar_all)\n",
    "per_plot_bar(percent_var_nogen, per_pewvar_nogen)"
   ]
  },
  {
   "cell_type": "code",
   "execution_count": 526,
   "metadata": {},
   "outputs": [
    {
     "name": "stdout",
     "output_type": "stream",
     "text": [
      "kstest per all KstestResult(statistic=0.3333333333333333, pvalue=0.13982257948893737)\n",
      "kstest per noage KstestResult(statistic=0.3333333333333333, pvalue=0.5360977695073805)\n",
      "MannwhitneyuResult(statistic=370.0, pvalue=0.09275335462769208)\n",
      "MannwhitneyuResult(statistic=86.0, pvalue=0.43573066003173655)\n"
     ]
    }
   ],
   "source": [
    "print('kstest per all', kstest(percent_var_all, per_pewvar_all))\n",
    "print('kstest per noage', kstest(percent_var_nogen, per_pewvar_nogen))\n",
    "\n",
    "print(mannwhitneyu(percent_var_all, per_pewvar_all))\n",
    "print(mannwhitneyu(percent_var_nogen, per_pewvar_nogen))"
   ]
  },
  {
   "cell_type": "code",
   "execution_count": null,
   "metadata": {},
   "outputs": [],
   "source": []
  },
  {
   "cell_type": "code",
   "execution_count": null,
   "metadata": {},
   "outputs": [],
   "source": [
    "#check the data with psrc survey with GPS\n",
    "psrc_survey_path_GPS = 'G:\\\\My Drive\\\\2021\\\\Bias\\\\PSRC Spring 2017 Travel Survey\\\\2017-pr1-data-files-GPS\\\\'\n",
    "os.chdir(psrc_survey_path_GPS)\n",
    "\n",
    "hh_GPS = pd.read_excel('2017-pr1-R-1-household.xlsx', header=1)\n",
    "hh_GPS.head(3)\n",
    "\n",
    "#check the hhid, whether it is different in comparison with the 2017-pr1-data-file-GPS\n",
    "#the hhid matches with the data w.o GPS\n",
    "for i in hh_GPS.hhid:\n",
    "    if i not in hh.hhid.values:\n",
    "        print(i)\n",
    "\n",
    "del(hh_GPS)"
   ]
  },
  {
   "cell_type": "code",
   "execution_count": 50,
   "metadata": {},
   "outputs": [
    {
     "data": {
      "text/html": [
       "<div>\n",
       "<style scoped>\n",
       "    .dataframe tbody tr th:only-of-type {\n",
       "        vertical-align: middle;\n",
       "    }\n",
       "\n",
       "    .dataframe tbody tr th {\n",
       "        vertical-align: top;\n",
       "    }\n",
       "\n",
       "    .dataframe thead th {\n",
       "        text-align: right;\n",
       "    }\n",
       "</style>\n",
       "<table border=\"1\" class=\"dataframe\">\n",
       "  <thead>\n",
       "    <tr style=\"text-align: right;\">\n",
       "      <th></th>\n",
       "      <th>Unnamed: 0</th>\n",
       "      <th>TAZ</th>\n",
       "      <th>demo_level_1</th>\n",
       "      <th>demo_level_2</th>\n",
       "      <th>demo_level_3</th>\n",
       "      <th>demo_level_4</th>\n",
       "      <th>demo_level_5</th>\n",
       "      <th>demo_level_6</th>\n",
       "      <th>demo_level_7</th>\n",
       "      <th>demo_level_8</th>\n",
       "      <th>...</th>\n",
       "      <th>demo_level_30</th>\n",
       "      <th>appid_count</th>\n",
       "      <th>COUNTY_FIP</th>\n",
       "      <th>COUNTY_NM</th>\n",
       "      <th>Area</th>\n",
       "      <th>geometry</th>\n",
       "      <th>TAZ1</th>\n",
       "      <th>psrc_sum</th>\n",
       "      <th>sumup_psrc_demo</th>\n",
       "      <th>sum_demo_rate</th>\n",
       "    </tr>\n",
       "  </thead>\n",
       "  <tbody>\n",
       "    <tr>\n",
       "      <th>0</th>\n",
       "      <td>0</td>\n",
       "      <td>1</td>\n",
       "      <td>2</td>\n",
       "      <td>96</td>\n",
       "      <td>15</td>\n",
       "      <td>0</td>\n",
       "      <td>16</td>\n",
       "      <td>0</td>\n",
       "      <td>3</td>\n",
       "      <td>94</td>\n",
       "      <td>...</td>\n",
       "      <td>3</td>\n",
       "      <td>17</td>\n",
       "      <td>33</td>\n",
       "      <td>King</td>\n",
       "      <td>7117998.770</td>\n",
       "      <td>POLYGON ((-122.3609440013541 47.72733999996547...</td>\n",
       "      <td>1</td>\n",
       "      <td>980</td>\n",
       "      <td>980</td>\n",
       "      <td>0.017347</td>\n",
       "    </tr>\n",
       "    <tr>\n",
       "      <th>1</th>\n",
       "      <td>1</td>\n",
       "      <td>2</td>\n",
       "      <td>38</td>\n",
       "      <td>165</td>\n",
       "      <td>2</td>\n",
       "      <td>19</td>\n",
       "      <td>61</td>\n",
       "      <td>4</td>\n",
       "      <td>32</td>\n",
       "      <td>206</td>\n",
       "      <td>...</td>\n",
       "      <td>0</td>\n",
       "      <td>30</td>\n",
       "      <td>33</td>\n",
       "      <td>King</td>\n",
       "      <td>488714.265</td>\n",
       "      <td>POLYGON ((-122.3555520013541 47.72504799996551...</td>\n",
       "      <td>2</td>\n",
       "      <td>1720</td>\n",
       "      <td>1720</td>\n",
       "      <td>0.017442</td>\n",
       "    </tr>\n",
       "    <tr>\n",
       "      <th>2</th>\n",
       "      <td>2</td>\n",
       "      <td>3</td>\n",
       "      <td>39</td>\n",
       "      <td>46</td>\n",
       "      <td>0</td>\n",
       "      <td>82</td>\n",
       "      <td>155</td>\n",
       "      <td>0</td>\n",
       "      <td>99</td>\n",
       "      <td>183</td>\n",
       "      <td>...</td>\n",
       "      <td>0</td>\n",
       "      <td>66</td>\n",
       "      <td>33</td>\n",
       "      <td>King</td>\n",
       "      <td>503192.772</td>\n",
       "      <td>POLYGON ((-122.3555720013543 47.7341289999656,...</td>\n",
       "      <td>3</td>\n",
       "      <td>2699</td>\n",
       "      <td>2691</td>\n",
       "      <td>0.024526</td>\n",
       "    </tr>\n",
       "  </tbody>\n",
       "</table>\n",
       "<p>3 rows × 41 columns</p>\n",
       "</div>"
      ],
      "text/plain": [
       "   Unnamed: 0  TAZ  demo_level_1  demo_level_2  demo_level_3  demo_level_4  \\\n",
       "0           0    1             2            96            15             0   \n",
       "1           1    2            38           165             2            19   \n",
       "2           2    3            39            46             0            82   \n",
       "\n",
       "   demo_level_5  demo_level_6  demo_level_7  demo_level_8  ...  demo_level_30  \\\n",
       "0            16             0             3            94  ...              3   \n",
       "1            61             4            32           206  ...              0   \n",
       "2           155             0            99           183  ...              0   \n",
       "\n",
       "   appid_count  COUNTY_FIP  COUNTY_NM         Area  \\\n",
       "0           17          33       King  7117998.770   \n",
       "1           30          33       King   488714.265   \n",
       "2           66          33       King   503192.772   \n",
       "\n",
       "                                            geometry  TAZ1  psrc_sum  \\\n",
       "0  POLYGON ((-122.3609440013541 47.72733999996547...     1       980   \n",
       "1  POLYGON ((-122.3555520013541 47.72504799996551...     2      1720   \n",
       "2  POLYGON ((-122.3555720013543 47.7341289999656,...     3      2699   \n",
       "\n",
       "   sumup_psrc_demo  sum_demo_rate  \n",
       "0              980       0.017347  \n",
       "1             1720       0.017442  \n",
       "2             2691       0.024526  \n",
       "\n",
       "[3 rows x 41 columns]"
      ]
     },
     "execution_count": 50,
     "metadata": {},
     "output_type": "execute_result"
    }
   ],
   "source": [
    "psrc_od_simulation = 'G:\\\\My Drive\\\\2021\\\\Bias\\\\PSRC_od_simulation_2018\\\\'\n",
    "os.chdir(psrc_od_simulation)\n",
    "\n",
    "demo_group = pd.read_csv('demo_group_dt_revised.csv')\n",
    "demo_group.head(3)"
   ]
  },
  {
   "cell_type": "code",
   "execution_count": 64,
   "metadata": {},
   "outputs": [
    {
     "data": {
      "text/plain": [
       "(1004, 41)"
      ]
     },
     "execution_count": 64,
     "metadata": {},
     "output_type": "execute_result"
    }
   ],
   "source": [
    "demo_group[demo_group['TAZ'].isin(hh.final_home_taz2010.values)].shape"
   ]
  },
  {
   "cell_type": "code",
   "execution_count": 63,
   "metadata": {},
   "outputs": [
    {
     "data": {
      "text/plain": [
       "(3189, 7)"
      ]
     },
     "execution_count": 63,
     "metadata": {},
     "output_type": "execute_result"
    }
   ],
   "source": [
    "hh[hh['final_home_taz2010'].isin(demo_group.TAZ.values)].shape"
   ]
  },
  {
   "cell_type": "code",
   "execution_count": null,
   "metadata": {},
   "outputs": [],
   "source": [
    "#check missings from psrc survey in comparison with entire psra\n",
    "check_ingis = ''\n",
    "for i in np.unique(hh.final_home_taz2010):\n",
    "    check_ingis = check_ingis+str(i)+','\n",
    "#print(check_ingis)   \n",
    "\n",
    "#check missings from the sim data \n",
    "demo_group.TAZ\n",
    "check_ingis = ''\n",
    "for i in np.unique(demo_group.TAZ):\n",
    "    check_ingis = check_ingis+str(i)+','"
   ]
  },
  {
   "cell_type": "code",
   "execution_count": 83,
   "metadata": {},
   "outputs": [
    {
     "data": {
      "text/html": [
       "<div>\n",
       "<style scoped>\n",
       "    .dataframe tbody tr th:only-of-type {\n",
       "        vertical-align: middle;\n",
       "    }\n",
       "\n",
       "    .dataframe tbody tr th {\n",
       "        vertical-align: top;\n",
       "    }\n",
       "\n",
       "    .dataframe thead th {\n",
       "        text-align: right;\n",
       "    }\n",
       "</style>\n",
       "<table border=\"1\" class=\"dataframe\">\n",
       "  <thead>\n",
       "    <tr style=\"text-align: right;\">\n",
       "      <th></th>\n",
       "      <th>hhid</th>\n",
       "      <th>personid</th>\n",
       "      <th>sample_segment</th>\n",
       "      <th>age</th>\n",
       "      <th>gender</th>\n",
       "      <th>employment</th>\n",
       "      <th>education</th>\n",
       "    </tr>\n",
       "  </thead>\n",
       "  <tbody>\n",
       "    <tr>\n",
       "      <th>0</th>\n",
       "      <td>17100005</td>\n",
       "      <td>1710000501</td>\n",
       "      <td>23</td>\n",
       "      <td>9</td>\n",
       "      <td>2</td>\n",
       "      <td>3.0</td>\n",
       "      <td>7.0</td>\n",
       "    </tr>\n",
       "    <tr>\n",
       "      <th>1</th>\n",
       "      <td>17100005</td>\n",
       "      <td>1710000502</td>\n",
       "      <td>23</td>\n",
       "      <td>10</td>\n",
       "      <td>1</td>\n",
       "      <td>6.0</td>\n",
       "      <td>3.0</td>\n",
       "    </tr>\n",
       "    <tr>\n",
       "      <th>2</th>\n",
       "      <td>17100024</td>\n",
       "      <td>1710002401</td>\n",
       "      <td>51</td>\n",
       "      <td>6</td>\n",
       "      <td>3</td>\n",
       "      <td>2.0</td>\n",
       "      <td>7.0</td>\n",
       "    </tr>\n",
       "    <tr>\n",
       "      <th>3</th>\n",
       "      <td>17100024</td>\n",
       "      <td>1710002402</td>\n",
       "      <td>51</td>\n",
       "      <td>6</td>\n",
       "      <td>2</td>\n",
       "      <td>1.0</td>\n",
       "      <td>7.0</td>\n",
       "    </tr>\n",
       "    <tr>\n",
       "      <th>4</th>\n",
       "      <td>17100024</td>\n",
       "      <td>1710002403</td>\n",
       "      <td>51</td>\n",
       "      <td>1</td>\n",
       "      <td>4</td>\n",
       "      <td>NaN</td>\n",
       "      <td>NaN</td>\n",
       "    </tr>\n",
       "    <tr>\n",
       "      <th>...</th>\n",
       "      <td>...</td>\n",
       "      <td>...</td>\n",
       "      <td>...</td>\n",
       "      <td>...</td>\n",
       "      <td>...</td>\n",
       "      <td>...</td>\n",
       "      <td>...</td>\n",
       "    </tr>\n",
       "    <tr>\n",
       "      <th>6249</th>\n",
       "      <td>17154152</td>\n",
       "      <td>1715415201</td>\n",
       "      <td>55</td>\n",
       "      <td>7</td>\n",
       "      <td>1</td>\n",
       "      <td>3.0</td>\n",
       "      <td>6.0</td>\n",
       "    </tr>\n",
       "    <tr>\n",
       "      <th>6250</th>\n",
       "      <td>17154152</td>\n",
       "      <td>1715415202</td>\n",
       "      <td>55</td>\n",
       "      <td>8</td>\n",
       "      <td>2</td>\n",
       "      <td>1.0</td>\n",
       "      <td>7.0</td>\n",
       "    </tr>\n",
       "    <tr>\n",
       "      <th>6251</th>\n",
       "      <td>17154152</td>\n",
       "      <td>1715415203</td>\n",
       "      <td>55</td>\n",
       "      <td>2</td>\n",
       "      <td>2</td>\n",
       "      <td>NaN</td>\n",
       "      <td>NaN</td>\n",
       "    </tr>\n",
       "    <tr>\n",
       "      <th>6252</th>\n",
       "      <td>17154199</td>\n",
       "      <td>1715419901</td>\n",
       "      <td>12</td>\n",
       "      <td>7</td>\n",
       "      <td>2</td>\n",
       "      <td>1.0</td>\n",
       "      <td>6.0</td>\n",
       "    </tr>\n",
       "    <tr>\n",
       "      <th>6253</th>\n",
       "      <td>17154199</td>\n",
       "      <td>1715419902</td>\n",
       "      <td>12</td>\n",
       "      <td>6</td>\n",
       "      <td>1</td>\n",
       "      <td>1.0</td>\n",
       "      <td>5.0</td>\n",
       "    </tr>\n",
       "  </tbody>\n",
       "</table>\n",
       "<p>6254 rows × 7 columns</p>\n",
       "</div>"
      ],
      "text/plain": [
       "          hhid    personid  sample_segment  age  gender  employment  education\n",
       "0     17100005  1710000501              23    9       2         3.0        7.0\n",
       "1     17100005  1710000502              23   10       1         6.0        3.0\n",
       "2     17100024  1710002401              51    6       3         2.0        7.0\n",
       "3     17100024  1710002402              51    6       2         1.0        7.0\n",
       "4     17100024  1710002403              51    1       4         NaN        NaN\n",
       "...        ...         ...             ...  ...     ...         ...        ...\n",
       "6249  17154152  1715415201              55    7       1         3.0        6.0\n",
       "6250  17154152  1715415202              55    8       2         1.0        7.0\n",
       "6251  17154152  1715415203              55    2       2         NaN        NaN\n",
       "6252  17154199  1715419901              12    7       2         1.0        6.0\n",
       "6253  17154199  1715419902              12    6       1         1.0        5.0\n",
       "\n",
       "[6254 rows x 7 columns]"
      ]
     },
     "execution_count": 83,
     "metadata": {},
     "output_type": "execute_result"
    }
   ],
   "source": [
    "person    "
   ]
  },
  {
   "cell_type": "code",
   "execution_count": 81,
   "metadata": {},
   "outputs": [
    {
     "data": {
      "text/plain": [
       "'1,2,3,4,5,6,8,9,10,11,12,13,14,15,16,17,18,19,20,21,22,23,24,25,26,27,28,29,31,32,33,34,35,36,37,38,39,40,41,42,43,44,45,46,47,48,49,50,51,52,53,54,55,56,57,58,59,60,61,62,63,64,65,66,67,68,69,70,71,73,74,75,76,77,78,79,80,81,82,83,84,85,86,87,88,89,90,91,92,93,94,95,96,97,98,99,100,101,102,103,104,105,106,107,108,109,110,111,112,113,114,115,116,117,118,119,120,121,122,123,124,125,126,127,128,129,130,131,132,133,134,135,136,137,138,139,140,141,142,143,144,145,146,147,148,149,150,151,152,153,154,155,156,157,158,159,160,161,162,163,164,165,166,167,168,169,170,171,172,173,175,176,177,178,179,180,181,182,183,184,185,186,187,188,189,190,191,192,193,194,195,196,197,198,199,200,201,202,203,204,205,206,207,208,209,210,211,212,213,214,215,216,217,218,219,220,221,222,223,224,225,226,227,228,229,231,233,234,235,236,237,238,239,240,241,242,243,244,245,246,247,248,249,250,251,254,256,257,258,260,261,262,263,264,265,266,267,268,269,270,271,272,273,274,275,276,277,278,279,280,281,282,283,284,285,286,287,288,289,290,291,292,293,294,295,296,297,298,299,300,304,307,309,310,311,312,313,314,315,316,317,318,319,320,321,322,323,324,325,326,327,328,329,332,333,334,338,339,340,341,342,343,344,345,346,347,348,349,350,351,352,353,354,355,356,357,358,360,361,362,363,364,365,366,367,368,369,370,372,373,374,375,376,377,378,379,380,381,382,383,384,385,386,387,388,389,391,392,393,395,396,397,398,399,400,401,402,403,407,408,409,410,411,412,413,414,415,416,417,418,419,420,421,422,423,424,425,426,427,428,429,430,431,432,433,434,435,437,440,441,442,443,444,446,447,448,450,451,452,453,454,455,456,457,458,459,460,461,462,463,464,465,467,468,469,470,471,472,473,474,476,478,479,480,481,482,484,488,489,490,491,496,497,498,499,500,501,503,506,508,509,511,512,513,519,534,535,537,540,541,547,548,549,550,551,552,553,554,555,556,557,558,559,560,561,562,563,564,565,566,567,568,569,570,571,572,574,575,576,577,578,580,584,585,586,587,588,589,590,591,592,593,594,595,596,597,598,599,600,601,602,603,604,605,606,607,608,609,610,612,613,614,615,617,618,619,620,621,622,623,624,625,626,627,628,629,631,637,638,639,640,641,642,643,644,645,646,647,648,649,653,658,659,660,661,662,663,664,665,666,667,668,669,671,672,676,677,678,679,680,681,682,683,684,685,686,687,688,689,690,691,692,693,694,695,696,697,698,699,700,701,702,708,709,710,711,712,713,714,715,716,717,718,719,720,721,722,723,724,729,730,731,732,733,734,735,736,737,738,739,740,741,742,743,744,745,746,747,748,749,750,751,752,753,754,755,756,762,764,765,766,767,768,769,770,771,772,773,774,775,776,778,781,782,783,784,785,786,787,788,789,790,791,792,793,794,795,796,797,798,799,800,801,802,803,805,806,810,811,812,813,814,815,816,817,818,819,820,821,822,823,824,825,826,827,828,829,830,831,832,833,834,835,836,837,838,839,840,841,843,844,845,846,847,848,849,850,851,852,853,854,855,856,857,858,859,860,861,862,863,864,865,866,867,868,869,871,875,876,877,880,881,882,883,884,885,886,887,888,889,890,891,892,893,894,895,896,897,898,899,900,901,902,903,904,905,906,907,908,909,910,911,912,913,914,915,916,917,918,919,921,923,924,925,926,927,928,929,930,931,933,934,935,936,937,938,939,940,941,942,943,944,945,946,947,949,950,951,952,953,954,956,957,961,962,971,975,976,977,978,979,980,981,982,986,987,990,992,993,994,995,996,997,998,999,1000,1001,1002,1003,1004,1005,1006,1010,1011,1012,1013,1014,1015,1027,1028,1029,1030,1032,1033,1034,1035,1036,1037,1038,1039,1040,1041,1042,1043,1044,1046,1048,1053,1054,1055,1057,1058,1059,1060,1061,1062,1063,1064,1065,1066,1067,1068,1069,1070,1071,1072,1073,1074,1075,1076,1077,1078,1079,1080,1081,1082,1083,1084,1085,1086,1087,1088,1089,1090,1091,1092,1093,1094,1095,1096,1097,1099,1100,1101,1102,1103,1104,1105,1106,1107,1108,1109,1110,1111,1112,1113,1114,1115,1116,1117,1118,1119,1120,1121,1122,1123,1124,1126,1128,1129,1130,1131,1132,1133,1136,1137,1139,1140,1141,1142,1143,1144,1145,1146,1147,1149,1150,1151,1152,1153,1154,1155,1156,1157,1158,1159,1160,1161,1162,1163,1164,1165,1168,1169,1170,1171,1172,1173,1174,1176,1178,1179,1180,1181,1182,1183,1184,1185,1186,1187,1188,1189,1190,1191,1192,1196,1197,1198,1199,1200,1201,1202,1203,1204,1205,1206,1207,1208,1209,1210,1211,1212,1213,1214,1215,1216,1217,1222,1223,1224,1225,1226,1227,1228,1229,1230,1231,1232,1233,1234,1235,1236,1237,1238,1239,1240,1241,1242,1243,1244,1245,1246,1247,1248,1249,1250,1251,1252,1254,1255,1256,1257,1259,1261,1262,1263,1264,1265,1266,1267,1268,1269,1270,1271,1272,1273,1274,1275,1276,1277,1278,1279,1280,1281,1282,1283,1284,1285,1286,1287,1288,1289,1290,1291,1292,1293,1294,1295,1296,1297,1298,1299,1300,1301,1302,1303,1304,1305,1306,1307,1308,1309,1310,1311,1312,1313,1314,1315,1316,1317,1318,1319,1320,1321,1322,1323,1324,1326,1327,1328,1329,1330,1331,1332,1333,1334,1335,1336,1337,1338,1339,1340,1341,1342,1343,1344,1345,1346,1347,1348,1350,1351,1352,1353,1354,1355,1356,1357,1358,1359,1360,1361,1362,1363,1364,1365,1366,1367,1368,1369,1370,1371,1372,1373,1374,1375,1376,1377,1378,1379,1380,1381,1382,1383,1384,1385,1386,1387,1388,1389,1390,1391,1392,1393,1394,1395,1396,1397,1398,1399,1400,1401,1402,1403,1404,1405,1406,1407,1408,1410,1411,1415,1416,1417,1418,1419,1420,1421,1422,1423,1424,1425,1426,1427,1428,1429,1430,1431,1433,1434,1435,1436,1437,1438,1439,1440,1441,1448,1449,1450,1451,1452,1453,1454,1455,1456,1457,1458,1459,1460,1461,1462,1463,1464,1465,1467,1468,1469,1470,1471,1472,1473,1474,1475,1477,1478,1479,1480,1481,1482,1483,1484,1485,1486,1487,1488,1489,1490,1491,1492,1493,1494,1495,1496,1497,1498,1499,1500,1501,1502,1503,1505,1506,1507,1508,1510,1512,1513,1515,1516,1518,1519,1520,1521,1522,1523,1524,1525,1526,1527,1528,1529,1530,1531,1532,1535,1536,1537,1538,1539,1540,1541,1542,1543,1544,1546,1547,1548,1549,1550,1552,1556,1558,1559,1560,1561,1562,1563,1564,1565,1566,1567,1568,1569,1570,1571,1572,1573,1574,1575,1576,1577,1578,1584,1586,1589,1590,1591,1592,1593,1594,1595,1596,1597,1598,1599,1600,1601,1602,1603,1604,1606,1607,1608,1609,1610,1611,1612,1613,1614,1617,1618,1619,1620,1621,1622,1623,1624,1625,1627,1630,1631,1632,1633,1634,1635,1636,1637,1638,1639,1640,1641,1642,1643,1644,1645,1646,1647,1649,1652,1653,1654,1655,1656,1657,1658,1659,1660,1661,1662,1663,1664,1665,1666,1667,1668,1669,1670,1671,1672,1674,1675,1676,1677,1678,1679,1680,1681,1682,1683,1685,1686,1687,1688,1689,1690,1691,1692,1693,1694,1695,1696,1697,1699,1700,1701,1702,1703,1705,1706,1707,1708,1709,1710,1711,1712,1713,1714,1715,1716,1717,1718,1719,1720,1721,1722,1723,1724,1725,1726,1727,1728,1729,1730,1731,1732,1733,1734,1735,1736,1737,1739,1740,1741,1742,1743,1744,1745,1746,1747,1748,1749,1750,1751,1752,1753,1754,1755,1756,1757,1758,1759,1760,1761,1762,1763,1764,1765,1766,1767,1768,1769,1770,1771,1772,1773,1774,1775,1776,1778,1781,1782,1783,1784,1785,1786,1787,1788,1789,1790,1791,1792,1793,1795,1796,1798,1799,1800,1801,1802,1803,1804,1805,1806,1807,1808,1809,1810,1811,1812,1813,1814,1815,1816,1817,1818,1819,1820,1821,1822,1823,1824,1825,1826,1827,1828,1829,1830,1831,1832,1833,1834,1835,1836,1837,1838,1839,1840,1841,1842,1843,1844,1845,1846,1847,1848,1849,1850,1851,1852,1853,1854,1855,1856,1857,1858,1859,1860,1861,1862,1863,1864,1865,1866,1867,1868,1870,1871,1872,1873,1874,1875,1876,1877,1878,1879,1880,1882,1883,1884,1885,1886,1887,1888,1889,1890,1891,1892,1893,1894,1895,1896,1897,1899,1900,1901,1902,1903,1904,1905,1906,1907,1908,1909,1910,1911,1912,1913,1914,1915,1916,1917,1918,1919,1920,1921,1922,1923,1924,1925,1926,1927,1928,1930,1933,1934,1935,1936,1937,1938,1939,1940,1941,1942,1943,1944,1945,1946,1947,1948,1949,1950,1951,1952,1953,1954,1955,1956,1957,1958,1959,1960,1961,1962,1963,1964,1965,1966,1967,1968,1969,1970,1971,1972,1973,1974,1975,1976,1977,1978,1979,1980,1981,1982,1983,1984,1985,1986,1987,1988,1989,1990,1991,1992,1993,1994,1995,1996,1997,1998,1999,2000,2001,2002,2003,2004,2005,2006,2007,2008,2009,2010,2011,2012,2013,2014,2015,2016,2017,2019,2020,2021,2022,2023,2024,2025,2026,2027,2028,2029,2030,2031,2032,2033,2034,2035,2036,2037,2038,2039,2040,2041,2042,2043,2044,2045,2046,2047,2048,2049,2050,2051,2052,2053,2054,2055,2056,2057,2058,2059,2060,2061,2062,2063,2064,2065,2066,2067,2068,2069,2070,2071,2072,2073,2074,2075,2076,2077,2078,2079,2080,2081,2082,2083,2084,2085,2086,2087,2088,2090,2091,2092,2093,2094,2095,2096,2097,2098,2099,2100,2101,2102,2103,2104,2105,2106,2107,2108,2109,2110,2111,2112,2113,2114,2115,2116,2117,2118,2119,2120,2121,2122,2123,2124,2125,2127,2128,2129,2130,2131,2132,2133,2134,2135,2136,2137,2138,2139,2140,2141,2142,2143,2144,2145,2146,2147,2148,2149,2150,2151,2152,2153,2154,2155,2156,2157,2158,2159,2160,2161,2162,2163,2164,2166,2167,2168,2169,2170,2171,2173,2174,2175,2176,2177,2178,2179,2180,2181,2182,2183,2184,2186,2187,2188,2190,2191,2192,2193,2194,2195,2196,2197,2198,2199,2200,2201,2202,2203,2204,2205,2206,2207,2208,2209,2210,2211,2212,2213,2214,2215,2216,2217,2218,2219,2220,2221,2222,2223,2224,2225,2226,2227,2228,2229,2230,2231,2232,2233,2234,2235,2236,2237,2238,2239,2240,2241,2242,2243,2244,2245,2246,2247,2248,2249,2250,2251,2252,2253,2254,2256,2258,2259,2260,2261,2262,2263,2264,2265,2266,2267,2268,2269,2270,2271,2272,2273,2276,2277,2278,2279,2280,2283,2284,2285,2287,2289,2291,2295,2296,2297,2298,2299,2300,2301,2302,2303,2304,2305,2306,2307,2308,2310,2312,2314,2315,2316,2317,2318,2319,2320,2321,2322,2323,2324,2325,2326,2327,2328,2329,2330,2331,2334,2336,2337,2338,2339,2340,2341,2342,2343,2344,2345,2346,2347,2348,2349,2350,2351,2352,2353,2354,2355,2356,2357,2358,2359,2360,2361,2362,2363,2364,2365,2366,2367,2368,2369,2370,2371,2372,2373,2374,2375,2376,2377,2379,2380,2381,2382,2383,2384,2385,2386,2387,2388,2389,2390,2391,2393,2394,2395,2396,2397,2398,2399,2400,2402,2404,2405,2406,2407,2408,2409,2411,2412,2413,2414,2415,2416,2417,2418,2419,2420,2421,2422,2423,2424,2425,2426,2427,2428,2429,2430,2431,2432,2433,2434,2435,2436,2437,2438,2439,2440,2441,2442,2443,2444,2445,2446,2447,2448,2449,2450,2451,2452,2453,2454,2455,2456,2457,2458,2459,2460,2461,2462,2463,2464,2465,2466,2467,2468,2469,2470,2471,2472,2473,2474,2475,2476,2477,2478,2479,2480,2481,2482,2483,2484,2485,2486,2487,2488,2489,2490,2491,2492,2493,2494,2495,2496,2497,2498,2499,2500,2501,2502,2503,2504,2505,2506,2507,2508,2509,2510,2511,2512,2513,2514,2515,2516,2517,2518,2519,2520,2521,2522,2524,2525,2526,2527,2528,2529,2530,2531,2532,2533,2534,2535,2536,2537,2538,2539,2540,2541,2542,2543,2544,2545,2546,2547,2548,2549,2550,2551,2552,2553,2554,2555,2556,2557,2558,2559,2560,2561,2562,2563,2564,2565,2566,2567,2568,2569,2570,2571,2572,2573,2574,2575,2576,2577,2578,2579,2580,2581,2582,2583,2584,2585,2586,2587,2588,2589,2590,2591,2592,2593,2594,2595,2596,2597,2599,2600,2601,2602,2603,2604,2605,2606,2607,2608,2609,2610,2611,2612,2613,2614,2615,2616,2617,2618,2619,2620,2621,2622,2623,2625,2626,2627,2628,2629,2630,2631,2632,2633,2634,2635,2636,2637,2638,2639,2640,2641,2642,2643,2644,2645,2646,2647,2648,2649,2650,2651,2652,2653,2654,2655,2656,2657,2658,2659,2660,2661,2662,2663,2664,2665,2666,2667,2668,2669,2670,2671,2672,2673,2674,2675,2676,2677,2678,2679,2680,2681,2682,2683,2684,2685,2686,2687,2688,2689,2690,2691,2693,2694,2695,2696,2697,2698,2699,2700,2701,2702,2703,2704,2705,2706,2707,2708,2709,2710,2711,2712,2713,2714,2715,2716,2717,2718,2719,2720,2721,2722,2723,2724,2725,2726,2727,2728,2729,2730,2731,2732,2733,2734,2735,2736,2737,2738,2739,2740,2741,2742,2743,2744,2745,2746,2747,2748,2749,2750,2751,2752,2753,2754,2755,2756,2757,2758,2759,2761,2762,2763,2764,2765,2766,2767,2768,2769,2770,2771,2772,2773,2774,2775,2776,2777,2778,2779,2781,2782,2783,2784,2785,2786,2787,2788,2789,2790,2791,2792,2793,2794,2795,2796,2797,2798,2799,2800,2801,2802,2803,2804,2805,2806,2807,2809,2810,2811,2812,2813,2814,2815,2816,2817,2818,2820,2821,2822,2823,2824,2825,2826,2827,2828,2829,2830,2831,2832,2833,2834,2835,2836,2837,2838,2839,2840,2841,2842,2843,2844,2845,2846,2847,2848,2849,2850,2851,2852,2853,2854,2855,2856,2857,2859,2860,2861,2863,2865,2866,2867,2868,2869,2870,2871,2872,2874,2879,2881,2892,2896,2904,2911,2913,2915,2917,2918,2919,2920,2923,2924,2925,2926,2929,2930,2931,2932,2934,2936,2937,2938,2940,2941,2942,2943,2944,2945,2946,2947,2948,2949,2950,2951,2952,2953,2954,2958,2959,2960,2962,2963,2964,2965,2966,2967,2968,2969,2970,2971,2972,2973,2974,2975,2976,2977,2978,2979,2980,2982,2983,2984,2985,2986,2987,2988,2989,2990,2991,2992,2993,2994,2995,2996,2997,2999,3000,3001,3002,3003,3004,3006,3007,3008,3009,3010,3011,3012,3013,3014,3015,3016,3017,3020,3021,3022,3023,3024,3025,3026,3027,3028,3029,3030,3031,3032,3033,3034,3035,3036,3037,3038,3039,3040,3041,3042,3043,3044,3045,3046,3047,3048,3049,3051,3053,3055,3056,3057,3058,3059,3060,3061,3062,3063,3064,3065,3066,3067,3068,3069,3074,3075,3078,3079,3080,3081,3082,3083,3085,3086,3087,3088,3089,3090,3091,3092,3093,3094,3128,3129,3130,3131,3134,3135,3136,3137,3138,3139,3140,3141,3142,3143,3144,3145,3146,3147,3148,3149,3150,3151,3153,3159,3160,3161,3162,3163,3164,3165,3166,3167,3168,3172,3173,3174,3175,3177,3178,3179,3180,3183,3184,3185,3186,3187,3188,3189,3190,3191,3192,3193,3194,3195,3196,3197,3198,3199,3200,3201,3202,3203,3204,3205,3206,3207,3208,3209,3210,3211,3212,3213,3214,3217,3218,3219,3220,3222,3223,3224,3225,3226,3227,3228,3229,3230,3231,3232,3233,3234,3235,3236,3239,3240,3241,3242,3243,3244,3245,3246,3247,3248,3249,3250,3251,3252,3253,3254,3255,3256,3257,3258,3259,3260,3261,3262,3263,3264,3265,3266,3267,3268,3269,3270,3271,3272,3273,3274,3275,3276,3277,3278,3279,3280,3281,3282,3283,3284,3285,3286,3287,3288,3289,3290,3291,3292,3293,3294,3295,3296,3297,3298,3299,3300,3301,3302,3303,3304,3305,3306,3307,3308,3309,3310,3311,3312,3313,3314,3315,3316,3318,3319,3320,3321,3322,3323,3324,3325,3326,3327,3329,3330,3331,3332,3333,3334,3335,3336,3337,3338,3339,3340,3341,3342,3343,3344,3345,3347,3348,3349,3350,3351,3352,3357,3358,3359,3360,3361,3362,3363,3364,3365,3366,3367,3368,3369,3370,3371,3372,3373,3374,3375,3376,3377,3378,3379,3380,3381,3382,3383,3384,3385,3386,3387,3388,3389,3390,3391,3392,3393,3394,3395,3397,3398,3399,3400,3401,3402,3403,3404,3405,3406,3407,3408,3409,3410,3411,3412,3413,3414,3415,3416,3417,3418,3419,3420,3421,3422,3423,3424,3425,3426,3427,3428,3429,3430,3431,3433,3434,3435,3436,3437,3438,3439,3440,3441,3442,3443,3444,3445,3446,3447,3449,3451,3452,3453,3454,3455,3456,3457,3458,3459,3460,3461,3462,3463,3464,3465,3466,3467,3468,3469,3470,3471,3472,3473,3474,3475,3476,3477,3478,3479,3480,3481,3482,3483,3484,3485,3486,3487,3488,3489,3490,3491,3492,3493,3494,3495,3497,3498,3499,3500,3501,3502,3503,3504,3505,3506,3507,3508,3509,3510,3511,3512,3513,3514,3515,3516,3517,3518,3519,3520,3521,3522,3523,3524,3525,3526,3531,3532,3533,3534,3535,3536,3537,3538,3539,3540,3541,3542,3543,3544,3546,3547,3548,3549,3550,3551,3552,3553,3554,3555,3556,3557,3558,3559,3560,3561,3562,3563,3564,3565,3566,3567,3568,3569,3570,3571,3572,3573,3574,3575,3576,3577,3578,3579,3580,3581,3582,3583,3584,3585,3586,3587,3588,3589,3590,3591,3592,3593,3594,3595,3596,3597,3598,3599,3600,3601,3602,3603,3604,3605,3606,3607,3608,3609,3610,3611,3612,3613,3614,3615,3616,3617,3618,3619,3620,3621,3622,3624,3627,3628,3629,3630,3631,3632,3633,3635,3636,3637,3638,3639,3640,3641,3642,3643,3644,3645,3646,3647,3648,3649,3650,3651,3652,3653,3654,3655,3656,3657,3658,3659,3660,3661,3662,3663,3664,3665,3666,3667,3668,3669,3670,3671,3672,3673,3674,3675,3676,3677,3678,3679,3680,3681,3682,3683,3684,3685,3686,3687,3688,3689,3690,3691,3692,3693,3694,3695,3696,3697,3698,3699,3700,'"
      ]
     },
     "execution_count": 81,
     "metadata": {},
     "output_type": "execute_result"
    }
   ],
   "source": []
  }
 ],
 "metadata": {
  "kernelspec": {
   "display_name": "Python 3 (ipykernel)",
   "language": "python",
   "name": "python3"
  },
  "language_info": {
   "codemirror_mode": {
    "name": "ipython",
    "version": 3
   },
   "file_extension": ".py",
   "mimetype": "text/x-python",
   "name": "python",
   "nbconvert_exporter": "python",
   "pygments_lexer": "ipython3",
   "version": "3.8.5"
  }
 },
 "nbformat": 4,
 "nbformat_minor": 4
}
