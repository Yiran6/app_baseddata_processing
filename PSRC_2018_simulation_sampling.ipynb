{
 "cells": [
  {
   "cell_type": "code",
   "execution_count": 1,
   "metadata": {
    "pycharm": {
     "name": "#%%\n"
    }
   },
   "outputs": [],
   "source": [
    "#libraries\n",
    "import os \n",
    "import pandas as pd\n",
    "import numpy as np \n",
    "import h5py\n",
    "import math\n",
    "import collections\n",
    "import filecmp\n",
    "from lxml import etree as ET\n",
    "#import xml.etree.ElementTree as ET\n",
    "import datetime\n",
    "from collections import OrderedDict\n",
    "#import pandasql as ps\n",
    "from operator import itemgetter\n",
    "import csv\n",
    "from collections import Counter\n",
    "#from google.colab import drive\n",
    "\n",
    "import geopandas as gpd\n",
    "#import pandasql as ps\n",
    "import matplotlib.pyplot as plt\n",
    "import shapefile as shp\n",
    "import seaborn as sns\n",
    "import random\n",
    "import time\n",
    "from sklearn.model_selection import train_test_split\n",
    "#import pysal as ps\n",
    "import scipy\n",
    "import fiona\n",
    "\n",
    "from scipy.stats import kstest\n",
    "from scipy.stats import mannwhitneyu\n",
    "\n",
    "from dill.source import getsource"
   ]
  },
  {
   "cell_type": "code",
   "execution_count": 2,
   "metadata": {},
   "outputs": [],
   "source": [
    "os.chdir('G:/My Drive/2021/Bias/PSRC_od_simulation_2018')"
   ]
  },
  {
   "cell_type": "code",
   "execution_count": 3,
   "metadata": {},
   "outputs": [],
   "source": [
    "#import torch.nn as nn"
   ]
  },
  {
   "cell_type": "code",
   "execution_count": 4,
   "metadata": {},
   "outputs": [],
   "source": [
    "#os.chdir('G:/My Drive/2021/Bias/recsys_test/ml-20m/psrc_test_01')\n",
    "#train = pd.read_csv('train.csv').to_numpy()"
   ]
  },
  {
   "cell_type": "code",
   "execution_count": 58,
   "metadata": {},
   "outputs": [
    {
     "data": {
      "text/plain": [
       "tensor([[0., 0., 0.,  ..., 0., 0., 0.],\n",
       "        [0., 0., 0.,  ..., 0., 0., 0.],\n",
       "        [0., 0., 0.,  ..., 0., 0., 0.],\n",
       "        ...,\n",
       "        [0., 0., 0.,  ..., 0., 0., 0.],\n",
       "        [0., 0., 0.,  ..., 0., 0., 0.],\n",
       "        [0., 0., 0.,  ..., 0., 0., 0.]])"
      ]
     },
     "execution_count": 58,
     "metadata": {},
     "output_type": "execute_result"
    }
   ],
   "source": [
    "#torch.FloatTensor(train)"
   ]
  },
  {
   "cell_type": "markdown",
   "metadata": {},
   "source": [
    "## PSRC simulation data extract"
   ]
  },
  {
   "cell_type": "code",
   "execution_count": 9,
   "metadata": {
    "pycharm": {
     "name": "#%%\n"
    }
   },
   "outputs": [],
   "source": [
    "#Mount\n",
    "#create drive content\n",
    "#drive.mount('/content/drive', force_remount= True)\n",
    "os.chdir('G:/My Drive/2021/Bias/PSRC_od_simulation_2018')\n",
    "#os.listdir()\n",
    "\n",
    "# Create functions to open the tables in daysim_outputs.h5\n",
    "def h5_to_data_frame(h5file, table_name):\n",
    "    table = h5file[table_name]\n",
    "    col_dict = {}\n",
    "    #cols = ['hhno', 'hhtaz']\n",
    "    for col in table.keys():\n",
    "        if col == 'sov_ff_time':\n",
    "            pass\n",
    "        else:\n",
    "            my_array = np.asarray(table[col]).astype('int')\n",
    "        col_dict[col] = my_array.astype('int')\n",
    "    return(pd.DataFrame(col_dict))\n",
    "\n",
    "# Create functions to check the data\n",
    "def print_dt_info(dt, dtname):\n",
    "    print(dtname)\n",
    "    print('shape', dt.shape)\n",
    "    print('colnames', dt.columns)\n",
    "    \n",
    "\n",
    "#taz related\n",
    "def check_odtaz(input_od, selected_taz):\n",
    "    o, d = input_od\n",
    "    if o not in selected_taz and d not in selected_taz:\n",
    "        print('warning! od both not in the selected taz')\n",
    "        print(input_od)\n",
    "\n",
    "\n",
    "def conduct_sampling(selected_dt, democol, paramarr):\n",
    "    selected_dt = selected_dt.sort_values(by=[democol])\n",
    "    demo_num = np.unique(selected_dt[democol])\n",
    "    selected_ids = []\n",
    "    \n",
    "    for demo_i in demo_num:\n",
    "        demo_ids = list(selected_dt['person_id'][selected_dt[democol]==demo_i].values)\n",
    "        demo_pop = len(demo_ids)\n",
    "        demo_sample_pop = int(round(demo_pop * paramarr[demo_i-1], 0))\n",
    "        #print(demo_sample_pop), no replacement\n",
    "        selected_ids.extend(random.sample(demo_ids, demo_sample_pop))\n",
    "    return(selected_ids)\n",
    "\n",
    "def get_sample_dttrips(selected_ids, trip_dt, has_stays = False):\n",
    "    sample_dt = trip_dt[trip_dt['person_id'].isin(selected_ids)]\n",
    "    #check stays for sampling based on all the data\n",
    "    if has_stays == True:\n",
    "        stays_id = []\n",
    "        for i in selected_ids:\n",
    "            if i not in np.unique(sample_dt['person_id']):\n",
    "                stays_id.append(i)\n",
    "        return(sample_dt, stays_id)\n",
    "    else:\n",
    "        return(sample_dt)\n",
    "\n",
    "#get stayed taz\n",
    "def get_stayed_taz(stay_ids, home_taz):\n",
    "    person_id_taz = {}\n",
    "    for i in stay_ids:\n",
    "        stays_ = int(i.split('_')[0])\n",
    "        person_id_taz[i] = home_taz[stays_]\n",
    "        if stays_ not in home_taz:\n",
    "            print(stays_)\n",
    "    return(person_id_taz)\n",
    "\n",
    "#decode the data\n",
    "#for age, pagey\n",
    "#<18, 18-29, 30-49, 50-64, >65\n",
    "def decode_age(age_var):\n",
    "    if age_var<18 and age_var>=0:\n",
    "        return(0)\n",
    "    elif age_var>=18 and age_var<=29:\n",
    "        return(1)\n",
    "    elif age_var>=30 and age_var<=49:\n",
    "        return(2)\n",
    "    elif age_var>=50 and age_var<=64:\n",
    "        return(3)\n",
    "    elif age_var>=65:\n",
    "        return(4)\n",
    "    else:\n",
    "        return('nan')\n",
    "    \n",
    "#for household income, hhincome\n",
    "#Poor or near-poor 32,048 or less\n",
    "#Lower-middle class 32,048 - 53,413\n",
    "#Middle class 53,413 - 106,827\n",
    "#Upper-middle class 106,827 - 373,894\n",
    "#Rich 373,894 and up\n",
    "def decode_income(income_var):\n",
    "    if income_var != -1:\n",
    "        if income_var<=0:\n",
    "            return(0)\n",
    "        elif income_var>0 and income_var<32048:\n",
    "            return(1)\n",
    "        elif income_var>=32048 and income_var<53413:\n",
    "            return(2)\n",
    "        elif income_var>=53413 and income_var<106827:\n",
    "            return(3)\n",
    "        elif income_var>=106827 and income_var<373894:\n",
    "            return(4)\n",
    "        else:\n",
    "            return(5)    \n",
    "    else:\n",
    "        return(-1)\n",
    "    \n",
    "def decode_income_3level(income_var):\n",
    "    if income_var != -1:\n",
    "        if income_var<=0:\n",
    "            return(1)\n",
    "        elif income_var>0 and income_var<32048:\n",
    "            return(1)\n",
    "        elif income_var>=32048 and income_var<53413:\n",
    "            return(1)\n",
    "        elif income_var>=53413 and income_var<106827:\n",
    "            return(2)\n",
    "        elif income_var>=106827 and income_var<373894:\n",
    "            return(2)\n",
    "        else:\n",
    "            return(3)    \n",
    "    else:\n",
    "        return(-1)\n",
    "    \n",
    "def decode_income_pew(income_var):\n",
    "    if income_var != -1:\n",
    "        if income_var<=0:\n",
    "            return(1)\n",
    "        elif income_var>0 and income_var<30000:\n",
    "            return(1)\n",
    "        elif income_var>=30000 and income_var<=49999:\n",
    "            return(2)\n",
    "        elif income_var>=50000 and income_var<=74999:\n",
    "            return(3)\n",
    "        elif income_var>=75000:\n",
    "            return(4)\n",
    "    else:\n",
    "        return(-1)"
   ]
  },
  {
   "cell_type": "code",
   "execution_count": 6,
   "metadata": {},
   "outputs": [
    {
     "name": "stdout",
     "output_type": "stream",
     "text": [
      "<KeysViewHDF5 ['Household', 'HouseholdDay', 'Person', 'PersonDay', 'Tour', 'Trip']>\n",
      "(16306270, 30)\n",
      "(1459959, 30)\n",
      "revised data shape\n",
      "trip_revised (1459959, 30)\n"
     ]
    },
    {
     "name": "stderr",
     "output_type": "stream",
     "text": [
      "C:\\Users\\29700\\AppData\\Local\\Temp\\ipykernel_16760\\3867723812.py:58: SettingWithCopyWarning: \n",
      "A value is trying to be set on a copy of a slice from a DataFrame.\n",
      "Try using .loc[row_indexer,col_indexer] = value instead\n",
      "\n",
      "See the caveats in the documentation: https://pandas.pydata.org/pandas-docs/stable/user_guide/indexing.html#returning-a-view-versus-a-copy\n",
      "  trip_revised['person_id'] = person_id\n"
     ]
    },
    {
     "name": "stdout",
     "output_type": "stream",
     "text": [
      "88970\n",
      "person\n",
      "shape (942874, 45)\n",
      "colnames Index(['hhno', 'id', 'pagey', 'pdiary', 'pgend', 'pno', 'ppaidprk', 'pproxy',\n",
      "       'pptyp', 'psaudist', 'psautime', 'psexpfac', 'pspcl', 'pstaz', 'pstyp',\n",
      "       'ptpass', 'puwarrp', 'puwdepp', 'puwmode', 'pwaudist', 'pwautime',\n",
      "       'pwpcl', 'pwtaz', 'pwtyp', 'fraction_with_jobs_outside', 'hh515',\n",
      "       'hhcu5', 'hhexpfac', 'hhftw', 'hhhsc', 'hhincome', 'hhoad', 'hhparcel',\n",
      "       'hhptw', 'hhret', 'hhsize', 'hhtaz', 'hhuni', 'hhvehs', 'hhwkrs',\n",
      "       'hownrent', 'hrestype', 'samptype', 'zone_id', 'person_id'],\n",
      "      dtype='object')\n",
      "hh\n",
      "shape (1605263, 21)\n",
      "colnames Index(['fraction_with_jobs_outside', 'hh515', 'hhcu5', 'hhexpfac', 'hhftw',\n",
      "       'hhhsc', 'hhincome', 'hhno', 'hhoad', 'hhparcel', 'hhptw', 'hhret',\n",
      "       'hhsize', 'hhtaz', 'hhuni', 'hhvehs', 'hhwkrs', 'hownrent', 'hrestype',\n",
      "       'samptype', 'zone_id'],\n",
      "      dtype='object')\n",
      "trips\n",
      "shape (16306270, 30)\n",
      "colnames Index(['arrtm', 'dadtyp', 'day', 'deptm', 'dorp', 'dpcl', 'dpurp', 'dtaz',\n",
      "       'endacttm', 'half', 'hhno', 'id', 'mode', 'oadtyp', 'opcl', 'opurp',\n",
      "       'otaz', 'pathtype', 'pno', 'sov_ff_time', 'tour', 'tour_id', 'travcost',\n",
      "       'travdist', 'travtime', 'trexpfac', 'tseg', 'tsvid', 'vot',\n",
      "       'person_id'],\n",
      "      dtype='object')\n",
      "num taz covered 3306\n",
      "data shape\n",
      "trips (16306270, 30)\n"
     ]
    }
   ],
   "source": [
    "# Read the daysim_outputs file\n",
    "#hdf_file = h5py.File(r'/content/drive/My Drive/Colab Notebooks/Project/daysim_outputs.h5', \"r\")\n",
    "hdf_file = h5py.File(r'daysim_outputs.h5', \"r\")\n",
    "\n",
    "# output_dir = r'\\\\modelstation3\\c$\\\\Workspace\\sc_new_emp_SCEN3_2018'\n",
    "print(hdf_file.keys())\n",
    "\n",
    "\n",
    "# Get the tables: trips, person, household, tours\n",
    "#get trip data\n",
    "trips = h5_to_data_frame(hdf_file, 'Trip')\n",
    "# get trips columns to use later\n",
    "trips_columns = trips.columns\n",
    "trips['person_id'] = trips['hhno'].astype(str) + '_' + trips['pno'].astype(str)\n",
    "\n",
    "#get information we need\n",
    "path= 'G:/My Drive/2021/Bias/SUMO_simulation/MatSumo-main/SUMO/SUMO_network/'\n",
    "datafile = 'Taz_with_pseudo_link.add.xml'\n",
    "tree = ET.parse(path+datafile)\n",
    "root = tree.getroot()\n",
    "selected_taz = []\n",
    "for taz in root.findall('taz'):\n",
    "    tazid = taz.get('id')\n",
    "    #filter out pseudo taz\n",
    "    if len(tazid) <=3:\n",
    "        selected_taz.append(int(tazid))\n",
    "        \n",
    "#selected taz \n",
    "print(trips.shape)\n",
    "trip_revised = trips[(trips['otaz'].isin(selected_taz))|(trips['dtaz'].isin(selected_taz))]\n",
    "print(trip_revised.shape)\n",
    "\n",
    "print('revised data shape')\n",
    "print('trip_revised', trip_revised.shape)\n",
    "#thus tours may cover multiple trips\n",
    "#we focus on trips\n",
    "\n",
    "#check if any taz not from the selected taz \n",
    "for input_od in trip_revised[['otaz', 'dtaz']].values:\n",
    "    check_odtaz(input_od, selected_taz)\n",
    "      \n",
    "#mode\n",
    "#1=walk, 2=bike, 3=sov, 4=hov 2, 5=hov 3+, 6=walk to transit, \n",
    "#7=park and ride, 8=school bus, 9=TNC, 10=other – survey only\n",
    "\n",
    "#pathtype\n",
    "#np.unique(trip_revised['pathtype'])\n",
    "#Trip path type (0=None, 1=full network, 2=no-toll network, 3=local bus, \n",
    "#4=light rail, 5=premium bus, 6=commuter rail, 7=ferry) \n",
    "\n",
    "#get person data\n",
    "#hhno + pno\n",
    "person = h5_to_data_frame(hdf_file, 'Person')\n",
    "hh = h5_to_data_frame(hdf_file, 'Household')\n",
    "person = person.merge(hh, how= 'left', left_on = 'hhno', right_on = 'hhno')\n",
    "\n",
    "person_id = (trip_revised.hhno.astype('str')+'_'+trip_revised['pno'].astype('str')).values\n",
    "trip_revised['person_id'] = person_id\n",
    "#np.unique(trip_revised.hhno)\n",
    "person['person_id'] = person.hhno.astype('str')+'_'+person.pno.astype('str')\n",
    "\n",
    "#trip_revised = trip_revised.sort_values(by=['hhno', 'pno'])\n",
    "person = person.sort_values(by=['hhno', 'pno'])\n",
    "\n",
    "print(len(person[person['zone_id'].isin(selected_taz)]))\n",
    "\n",
    "print_dt_info(person, 'person')\n",
    "#print_dt_info(person_day, 'person_day')\n",
    "print_dt_info(hh, 'hh')\n",
    "#print_dt_info(hh_day, 'hh_day')\n",
    "#print_dt_info(tours, 'tours')\n",
    "print_dt_info(trips, 'trips')\n",
    "print('num taz covered', len(np.unique(person['zone_id'])))\n",
    "print('data shape')\n",
    "print('trips', trips.shape)\n",
    "del(trips)"
   ]
  },
  {
   "cell_type": "code",
   "execution_count": 10,
   "metadata": {},
   "outputs": [
    {
     "name": "stdout",
     "output_type": "stream",
     "text": [
      "# person in person file 942874\n",
      "# person in trip file 444911\n",
      "count    942874.000000\n",
      "mean          3.376024\n",
      "std           1.037351\n",
      "min          -1.000000\n",
      "25%           3.000000\n",
      "50%           4.000000\n",
      "75%           4.000000\n",
      "max           5.000000\n",
      "Name: deincome, dtype: float64\n",
      "(942874, 49)\n",
      "(942436, 49)\n",
      "(942340, 49)\n",
      "[0 1 2 3 4]\n",
      "[1 2 3]\n",
      "[1 2]\n"
     ]
    }
   ],
   "source": [
    "print('# person in person file', len(np.unique(person['person_id'])))\n",
    "print('# person in trip file', len(np.unique(trip_revised['person_id'])))\n",
    "\n",
    "#person.groupby(by=['hhno']).size()\n",
    "#trip_revised[['hhno', 'pno', 'person_id']][trip_revised['hhno']==1605262]\n",
    "#person[['hhno', 'pno', 'person_id']][person['hhno']==1605262]\n",
    "\n",
    "trip_revised['de_hr'] = trip_revised['deptm']//60\n",
    "trip_revised['de_min'] = trip_revised['deptm']%60\n",
    "\n",
    "person['deage'] = person['pagey'].apply(lambda x: decode_age(x))\n",
    "person['deincome'] = person['hhincome'].apply(lambda x: decode_income(x))\n",
    "#a simple defination of income level\n",
    "person['deincome3'] = person['hhincome'].apply(lambda x: decode_income_3level(x))\n",
    "person['deincomepew'] = person['hhincome'].apply(lambda x: decode_income_pew(x))\n",
    "\n",
    "print(person['deincome'].describe())\n",
    "\n",
    "#delete person missing demo info\n",
    "person = person[person['deage'] != -1]\n",
    "print(person.shape)\n",
    "#person = person[person['deincome'] != -1]\n",
    "person = person[person['deincome3'] != -1]\n",
    "print(person.shape)\n",
    "#person = person[person['deincomepew'] != -1] #the same as the person\n",
    "#print(person.shape)\n",
    "person = person[person['pgend'] != -1]\n",
    "print(person.shape)\n",
    "\n",
    "#check selected decoded demo var\n",
    "print(np.unique(person['deage']))\n",
    "print(np.unique(person['deincome3']))\n",
    "print(np.unique(person['pgend']))\n",
    "\n",
    "person.reset_index(inplace=True)\n",
    "\n",
    "person['demo_num'] = (person['pgend']-1)*15 + person['deage']*3 + person['deincome3']\n",
    "person['demo_noage'] = person['deage']*3 + person['deincome3']"
   ]
  },
  {
   "cell_type": "code",
   "execution_count": 436,
   "metadata": {},
   "outputs": [
    {
     "name": "stdout",
     "output_type": "stream",
     "text": [
      "person who ride bikes 15165\n"
     ]
    }
   ],
   "source": [
    "'''#check the person who ride bikes\n",
    "test_person_id = np.unique(trip_revised['person_id'][trip_revised['mode']==2])\n",
    "print('person who ride bikes', len(test_person_id))\n",
    "trip_test_bike = trip_revised[trip_revised['person_id'].isin(test_person_id)]\n",
    "trip_test_bike = trip_test_bike.groupby(by=['person_id', 'mode']).size().to_frame()\n",
    "\n",
    "#get person id whose trip mode is only bike\n",
    "trip_test_bike.reset_index(inplace=True)\n",
    "trip_test_bike = trip_test_bike.groupby(by=['person_id']).size().to_frame()\n",
    "trip_test_bike.reset_index(inplace=True)\n",
    "person_id_bike = trip_test_bike['person_id'][trip_test_bike[0]==1].values\n",
    "\n",
    "del(trip_test_bike, test_person_id)'''"
   ]
  },
  {
   "cell_type": "code",
   "execution_count": 11,
   "metadata": {},
   "outputs": [],
   "source": [
    "hhno_trip = np.unique(trip_revised['hhno'][~trip_revised['mode'].isin([2, 8])])\n",
    "hhno_bike_bus = np.unique(trip_revised['hhno'][trip_revised['mode'].isin([2, 8])])\n",
    "\n",
    "person_id_all = np.unique(trip_revised['person_id'][~trip_revised['mode'].isin([2, 8])])\n",
    "person_id_bike_bus = np.unique(trip_revised['person_id'][trip_revised['mode'].isin([2, 8])])\n",
    "\n",
    "trip_test_bike_bus = trip_revised[trip_revised['person_id'].isin(person_id_bike_bus)]\n",
    "trip_test_bike_bus = trip_test_bike_bus.groupby(by=['person_id', 'mode']).size().to_frame()\n",
    "\n",
    "#get person id whose trip mode is only bike\n",
    "trip_test_bike_bus.reset_index(inplace=True)\n",
    "get_mode_index = lambda x: 0 if x in [2, 8] else 1\n",
    "\n",
    "trip_test_bike_bus['mode_index'] = trip_test_bike_bus['mode'].apply(get_mode_index)   \n",
    "#del(trip_test_bike_bus)\n",
    "trip_test_bike_bus = trip_test_bike_bus.groupby(by='person_id').sum()\n",
    "trip_test_bike_bus.reset_index(inplace=True) \n",
    "\n",
    "#print('#people only has school bus/bike trips', len(person_id_bike_bus))\n",
    "person_id_bike_bus = np.unique(trip_test_bike_bus['person_id'][trip_test_bike_bus['mode_index']==0])\n",
    "\n",
    "del(trip_test_bike_bus)"
   ]
  },
  {
   "cell_type": "code",
   "execution_count": 12,
   "metadata": {},
   "outputs": [
    {
     "data": {
      "text/plain": [
       "<matplotlib.legend.Legend at 0x1e181392be0>"
      ]
     },
     "execution_count": 12,
     "metadata": {},
     "output_type": "execute_result"
    },
    {
     "data": {
      "image/png": "[encoded data removed]",
      "text/plain": [
       "<Figure size 432x288 with 1 Axes>"
      ]
     },
     "metadata": {
      "needs_background": "light"
     },
     "output_type": "display_data"
    }
   ],
   "source": [
    "plt.plot(person[person['person_id'].isin(person_id_bike_bus)].groupby(by=['demo_num']).size()/2937, label='bike & bus')\n",
    "plt.plot(person.groupby(by=['demo_num']).size()/56696, label='all')\n",
    "plt.legend()"
   ]
  },
  {
   "cell_type": "code",
   "execution_count": 21,
   "metadata": {},
   "outputs": [
    {
     "name": "stdout",
     "output_type": "stream",
     "text": [
      "previous trip shape (1449958, 32)\n",
      "# of trips w.o bus/bike only (1449958, 32)\n"
     ]
    }
   ],
   "source": [
    "#delete school bus/bike only trips\n",
    "print('previous trip shape', trip_revised.shape)\n",
    "print('# of trips w.o bus/bike only', trip_revised[~trip_revised['person_id'].isin(person_id_bike_bus)].shape)\n",
    "\n",
    "trip_revised = trip_revised[~trip_revised['person_id'].isin(person_id_bike_bus)]\n",
    "person = person[~person['person_id'].isin(person_id_bike_bus)]\n",
    "person = person[person['hhno'].isin(np.unique(trip_revised['hhno']))]"
   ]
  },
  {
   "cell_type": "code",
   "execution_count": 22,
   "metadata": {},
   "outputs": [
    {
     "name": "stdout",
     "output_type": "stream",
     "text": [
      "# person with home in the selected taz 82877\n",
      "# person with Seattle in the selected taz 357389\n"
     ]
    }
   ],
   "source": [
    "#get person who lives in taz\n",
    "person_id_home = np.unique(trip_revised['person_id'][(trip_revised['otaz'].isin(selected_taz)) & (trip_revised['opurp']==0)])\n",
    "\n",
    "person_id_travel = np.unique(trip_revised['person_id'][~trip_revised['person_id'].isin(person_id_home)])\n",
    "\n",
    "#we only keep the stay who lived in the selected test area\n",
    "hhno_home = np.unique(trip_revised['hhno'][trip_revised['person_id'].isin(person_id_home)])\n",
    "hhno_travel = np.unique(trip_revised['hhno'][trip_revised['person_id'].isin(person_id_travel)])\n",
    "\n",
    "\n",
    "#only select stays who lives in the selected test area\n",
    "del_person = person[person['hhno'].isin(hhno_travel)]\n",
    "del_person = del_person['person_id'][~del_person['person_id'].isin(person_id_travel)]\n",
    "person = person[~person['person_id'].isin(del_person.values)]\n",
    "\n",
    "print('# person with home in the selected taz', len(person_id_home))\n",
    "print('# person with Seattle in the selected taz', len(person_id_travel))"
   ]
  },
  {
   "cell_type": "code",
   "execution_count": 23,
   "metadata": {},
   "outputs": [
    {
     "name": "stdout",
     "output_type": "stream",
     "text": [
      "0.18698671552082016\n",
      "0.8063394581520856\n",
      "0.007481544320704655\n",
      "(443224, 52)\n",
      "(82716, 52)\n",
      "(357192, 52)\n",
      "(3316, 52)\n"
     ]
    }
   ],
   "source": [
    "#conduct stratified sampling based on the demo groups\n",
    "num_home_ = len(person_id_home)\n",
    "num_travel = len(person_id_travel)\n",
    "num_stay = person[~person['person_id'].isin(np.unique(trip_revised['person_id']))].shape[0]\n",
    "num_total = person.shape[0]\n",
    "\n",
    "print(num_home_/num_total)\n",
    "print(num_travel/num_total)\n",
    "print(num_stay/num_total)\n",
    "\n",
    "#get previous predicted data\n",
    "param = pd.read_csv('G:/My Drive/2021/Bias/PSRC_od_simulation_2018/result_v1_all.csv', index_col = 0)\n",
    "param = param['mean'][:31].values\n",
    "\n",
    "sampling_per = param[:30]*param[-1]\n",
    "\n",
    "print(person.shape)\n",
    "print(person[person['person_id'].isin(person_id_home)].shape)\n",
    "print(person[person['person_id'].isin(person_id_travel)].shape)\n",
    "print(person[~((person['person_id'].isin(person_id_home))|(person['person_id'].isin(person_id_travel)))].shape)"
   ]
  },
  {
   "cell_type": "code",
   "execution_count": 17,
   "metadata": {},
   "outputs": [],
   "source": [
    "#delete person id without trips in travel pop\n",
    "#check if we have person stay still\n",
    "#person_travel_stay = person[person['hhno'].isin(hhno_travel)]\n",
    "#person_travel_stay = person_travel_stay['person_id'][~person_travel_stay['person_id'].isin(person_id_travel)]\n",
    "\n",
    "#person_travel_stay"
   ]
  },
  {
   "cell_type": "code",
   "execution_count": 24,
   "metadata": {},
   "outputs": [],
   "source": [
    "#based on all the data\n",
    "selected_personid_all = conduct_sampling(person, 'demo_num', sampling_per)\n",
    "\n",
    "#based on stay, home and travel\n",
    "selected_personid_home = conduct_sampling(person[person['person_id'].isin(person_id_home)],\n",
    "                                         'demo_num',\n",
    "                                         sampling_per)\n",
    "selected_personid_travel = conduct_sampling(person[person['person_id'].isin(person_id_travel)],\n",
    "                                         'demo_num',\n",
    "                                         sampling_per)\n",
    "selected_personid_stay = conduct_sampling(person[~((person['person_id'].isin(person_id_home))|(person['person_id'].isin(person_id_travel)))],\n",
    "                                         'demo_num',\n",
    "                                         sampling_per)"
   ]
  },
  {
   "cell_type": "code",
   "execution_count": 26,
   "metadata": {},
   "outputs": [],
   "source": [
    "home_taz = {}\n",
    "trip_home_taz = trip_revised[['opurp', 'otaz', 'hhno']][(trip_revised['hhno'].isin(hhno_home))&(trip_revised['opurp']==0)]                                      \n",
    "\n",
    "index_ = 0\n",
    "for i in trip_home_taz['hhno'].values:\n",
    "    if i not in home_taz:\n",
    "        home_taz[i] = trip_home_taz['otaz'].values[index_]\n",
    "    index_ += 1\n",
    "    \n",
    "#del(trip_home_taz)"
   ]
  },
  {
   "cell_type": "code",
   "execution_count": 27,
   "metadata": {},
   "outputs": [],
   "source": [
    "sample_trip_all, stays_id = get_sample_dttrips(selected_personid_all, trip_revised, True)\n",
    "sample_trip_home =  get_sample_dttrips(selected_personid_home, trip_revised)\n",
    "sample_trip_travel =  get_sample_dttrips(selected_personid_travel, trip_revised)\n",
    "\n",
    "staystaz_all = get_stayed_taz(stays_id, home_taz)\n",
    "staystaz_stay = get_stayed_taz(selected_personid_stay, home_taz)"
   ]
  },
  {
   "cell_type": "code",
   "execution_count": null,
   "metadata": {},
   "outputs": [],
   "source": [
    "del(trip_revised)"
   ]
  },
  {
   "cell_type": "code",
   "execution_count": 37,
   "metadata": {},
   "outputs": [
    {
     "name": "stdout",
     "output_type": "stream",
     "text": [
      "# of sampled person all 11197\n",
      "# of sampled residents 9044\n",
      "# of sampled travelers 2073\n",
      "# of sampled residents+travelers 11200\n"
     ]
    }
   ],
   "source": [
    "print('# of sampled person all',len(selected_personid_all))\n",
    "print('# of sampled residents' ,len(selected_personid_travel))\n",
    "print('# of sampled travelers' ,len(selected_personid_home))\n",
    "print('# of sampled residents+travelers', len(selected_personid_travel)+len(selected_personid_home)+len(selected_personid_stay))"
   ]
  },
  {
   "cell_type": "code",
   "execution_count": 38,
   "metadata": {},
   "outputs": [
    {
     "data": {
      "text/html": [
       "<div>\n",
       "<style scoped>\n",
       "    .dataframe tbody tr th:only-of-type {\n",
       "        vertical-align: middle;\n",
       "    }\n",
       "\n",
       "    .dataframe tbody tr th {\n",
       "        vertical-align: top;\n",
       "    }\n",
       "\n",
       "    .dataframe thead th {\n",
       "        text-align: right;\n",
       "    }\n",
       "</style>\n",
       "<table border=\"1\" class=\"dataframe\">\n",
       "  <thead>\n",
       "    <tr style=\"text-align: right;\">\n",
       "      <th></th>\n",
       "      <th>arrtm</th>\n",
       "      <th>dadtyp</th>\n",
       "      <th>day</th>\n",
       "      <th>deptm</th>\n",
       "      <th>dorp</th>\n",
       "      <th>dpcl</th>\n",
       "      <th>dpurp</th>\n",
       "      <th>dtaz</th>\n",
       "      <th>endacttm</th>\n",
       "      <th>half</th>\n",
       "      <th>...</th>\n",
       "      <th>travcost</th>\n",
       "      <th>travdist</th>\n",
       "      <th>travtime</th>\n",
       "      <th>trexpfac</th>\n",
       "      <th>tseg</th>\n",
       "      <th>tsvid</th>\n",
       "      <th>vot</th>\n",
       "      <th>person_id</th>\n",
       "      <th>de_hr</th>\n",
       "      <th>de_min</th>\n",
       "    </tr>\n",
       "  </thead>\n",
       "  <tbody>\n",
       "    <tr>\n",
       "      <th>2214381</th>\n",
       "      <td>632</td>\n",
       "      <td>2</td>\n",
       "      <td>1</td>\n",
       "      <td>620</td>\n",
       "      <td>0</td>\n",
       "      <td>44306</td>\n",
       "      <td>1</td>\n",
       "      <td>493</td>\n",
       "      <td>1182</td>\n",
       "      <td>1</td>\n",
       "      <td>...</td>\n",
       "      <td>0</td>\n",
       "      <td>0</td>\n",
       "      <td>12</td>\n",
       "      <td>1</td>\n",
       "      <td>1</td>\n",
       "      <td>0</td>\n",
       "      <td>15</td>\n",
       "      <td>233984_1</td>\n",
       "      <td>10</td>\n",
       "      <td>20</td>\n",
       "    </tr>\n",
       "    <tr>\n",
       "      <th>2214382</th>\n",
       "      <td>1194</td>\n",
       "      <td>1</td>\n",
       "      <td>1</td>\n",
       "      <td>1182</td>\n",
       "      <td>0</td>\n",
       "      <td>159359</td>\n",
       "      <td>0</td>\n",
       "      <td>574</td>\n",
       "      <td>179</td>\n",
       "      <td>2</td>\n",
       "      <td>...</td>\n",
       "      <td>0</td>\n",
       "      <td>0</td>\n",
       "      <td>12</td>\n",
       "      <td>1</td>\n",
       "      <td>1</td>\n",
       "      <td>0</td>\n",
       "      <td>15</td>\n",
       "      <td>233984_1</td>\n",
       "      <td>19</td>\n",
       "      <td>42</td>\n",
       "    </tr>\n",
       "    <tr>\n",
       "      <th>2214662</th>\n",
       "      <td>365</td>\n",
       "      <td>2</td>\n",
       "      <td>1</td>\n",
       "      <td>357</td>\n",
       "      <td>1</td>\n",
       "      <td>159367</td>\n",
       "      <td>1</td>\n",
       "      <td>583</td>\n",
       "      <td>642</td>\n",
       "      <td>1</td>\n",
       "      <td>...</td>\n",
       "      <td>0</td>\n",
       "      <td>0</td>\n",
       "      <td>8</td>\n",
       "      <td>1</td>\n",
       "      <td>1</td>\n",
       "      <td>0</td>\n",
       "      <td>4</td>\n",
       "      <td>233515_2</td>\n",
       "      <td>5</td>\n",
       "      <td>57</td>\n",
       "    </tr>\n",
       "    <tr>\n",
       "      <th>2214663</th>\n",
       "      <td>1394</td>\n",
       "      <td>1</td>\n",
       "      <td>1</td>\n",
       "      <td>1387</td>\n",
       "      <td>0</td>\n",
       "      <td>159348</td>\n",
       "      <td>0</td>\n",
       "      <td>571</td>\n",
       "      <td>179</td>\n",
       "      <td>2</td>\n",
       "      <td>...</td>\n",
       "      <td>0</td>\n",
       "      <td>0</td>\n",
       "      <td>7</td>\n",
       "      <td>1</td>\n",
       "      <td>1</td>\n",
       "      <td>0</td>\n",
       "      <td>4</td>\n",
       "      <td>233515_2</td>\n",
       "      <td>23</td>\n",
       "      <td>7</td>\n",
       "    </tr>\n",
       "    <tr>\n",
       "      <th>2214664</th>\n",
       "      <td>661</td>\n",
       "      <td>4</td>\n",
       "      <td>1</td>\n",
       "      <td>642</td>\n",
       "      <td>0</td>\n",
       "      <td>608103</td>\n",
       "      <td>7</td>\n",
       "      <td>601</td>\n",
       "      <td>691</td>\n",
       "      <td>1</td>\n",
       "      <td>...</td>\n",
       "      <td>0</td>\n",
       "      <td>0</td>\n",
       "      <td>19</td>\n",
       "      <td>1</td>\n",
       "      <td>1</td>\n",
       "      <td>0</td>\n",
       "      <td>1</td>\n",
       "      <td>233515_2</td>\n",
       "      <td>10</td>\n",
       "      <td>42</td>\n",
       "    </tr>\n",
       "    <tr>\n",
       "      <th>...</th>\n",
       "      <td>...</td>\n",
       "      <td>...</td>\n",
       "      <td>...</td>\n",
       "      <td>...</td>\n",
       "      <td>...</td>\n",
       "      <td>...</td>\n",
       "      <td>...</td>\n",
       "      <td>...</td>\n",
       "      <td>...</td>\n",
       "      <td>...</td>\n",
       "      <td>...</td>\n",
       "      <td>...</td>\n",
       "      <td>...</td>\n",
       "      <td>...</td>\n",
       "      <td>...</td>\n",
       "      <td>...</td>\n",
       "      <td>...</td>\n",
       "      <td>...</td>\n",
       "      <td>...</td>\n",
       "      <td>...</td>\n",
       "      <td>...</td>\n",
       "    </tr>\n",
       "    <tr>\n",
       "      <th>4034424</th>\n",
       "      <td>845</td>\n",
       "      <td>1</td>\n",
       "      <td>1</td>\n",
       "      <td>809</td>\n",
       "      <td>0</td>\n",
       "      <td>498623</td>\n",
       "      <td>0</td>\n",
       "      <td>653</td>\n",
       "      <td>179</td>\n",
       "      <td>2</td>\n",
       "      <td>...</td>\n",
       "      <td>0</td>\n",
       "      <td>1</td>\n",
       "      <td>36</td>\n",
       "      <td>1</td>\n",
       "      <td>2</td>\n",
       "      <td>0</td>\n",
       "      <td>3</td>\n",
       "      <td>427361_1</td>\n",
       "      <td>13</td>\n",
       "      <td>29</td>\n",
       "    </tr>\n",
       "    <tr>\n",
       "      <th>4037949</th>\n",
       "      <td>507</td>\n",
       "      <td>4</td>\n",
       "      <td>1</td>\n",
       "      <td>495</td>\n",
       "      <td>1</td>\n",
       "      <td>386566</td>\n",
       "      <td>5</td>\n",
       "      <td>631</td>\n",
       "      <td>524</td>\n",
       "      <td>1</td>\n",
       "      <td>...</td>\n",
       "      <td>0</td>\n",
       "      <td>0</td>\n",
       "      <td>12</td>\n",
       "      <td>1</td>\n",
       "      <td>1</td>\n",
       "      <td>0</td>\n",
       "      <td>13</td>\n",
       "      <td>427721_3</td>\n",
       "      <td>8</td>\n",
       "      <td>15</td>\n",
       "    </tr>\n",
       "    <tr>\n",
       "      <th>4037950</th>\n",
       "      <td>534</td>\n",
       "      <td>2</td>\n",
       "      <td>1</td>\n",
       "      <td>524</td>\n",
       "      <td>1</td>\n",
       "      <td>523924</td>\n",
       "      <td>1</td>\n",
       "      <td>600</td>\n",
       "      <td>1330</td>\n",
       "      <td>1</td>\n",
       "      <td>...</td>\n",
       "      <td>0</td>\n",
       "      <td>1</td>\n",
       "      <td>10</td>\n",
       "      <td>1</td>\n",
       "      <td>2</td>\n",
       "      <td>0</td>\n",
       "      <td>13</td>\n",
       "      <td>427721_3</td>\n",
       "      <td>8</td>\n",
       "      <td>44</td>\n",
       "    </tr>\n",
       "    <tr>\n",
       "      <th>4037951</th>\n",
       "      <td>1373</td>\n",
       "      <td>4</td>\n",
       "      <td>1</td>\n",
       "      <td>1330</td>\n",
       "      <td>0</td>\n",
       "      <td>498627</td>\n",
       "      <td>5</td>\n",
       "      <td>653</td>\n",
       "      <td>1402</td>\n",
       "      <td>2</td>\n",
       "      <td>...</td>\n",
       "      <td>0</td>\n",
       "      <td>2</td>\n",
       "      <td>43</td>\n",
       "      <td>1</td>\n",
       "      <td>1</td>\n",
       "      <td>0</td>\n",
       "      <td>13</td>\n",
       "      <td>427721_3</td>\n",
       "      <td>22</td>\n",
       "      <td>10</td>\n",
       "    </tr>\n",
       "    <tr>\n",
       "      <th>4037952</th>\n",
       "      <td>1410</td>\n",
       "      <td>1</td>\n",
       "      <td>1</td>\n",
       "      <td>1402</td>\n",
       "      <td>1</td>\n",
       "      <td>498623</td>\n",
       "      <td>0</td>\n",
       "      <td>653</td>\n",
       "      <td>179</td>\n",
       "      <td>2</td>\n",
       "      <td>...</td>\n",
       "      <td>0</td>\n",
       "      <td>0</td>\n",
       "      <td>8</td>\n",
       "      <td>1</td>\n",
       "      <td>2</td>\n",
       "      <td>0</td>\n",
       "      <td>13</td>\n",
       "      <td>427721_3</td>\n",
       "      <td>23</td>\n",
       "      <td>22</td>\n",
       "    </tr>\n",
       "  </tbody>\n",
       "</table>\n",
       "<p>10654 rows × 32 columns</p>\n",
       "</div>"
      ],
      "text/plain": [
       "         arrtm  dadtyp  day  deptm  dorp    dpcl  dpurp  dtaz  endacttm  half  \\\n",
       "2214381    632       2    1    620     0   44306      1   493      1182     1   \n",
       "2214382   1194       1    1   1182     0  159359      0   574       179     2   \n",
       "2214662    365       2    1    357     1  159367      1   583       642     1   \n",
       "2214663   1394       1    1   1387     0  159348      0   571       179     2   \n",
       "2214664    661       4    1    642     0  608103      7   601       691     1   \n",
       "...        ...     ...  ...    ...   ...     ...    ...   ...       ...   ...   \n",
       "4034424    845       1    1    809     0  498623      0   653       179     2   \n",
       "4037949    507       4    1    495     1  386566      5   631       524     1   \n",
       "4037950    534       2    1    524     1  523924      1   600      1330     1   \n",
       "4037951   1373       4    1   1330     0  498627      5   653      1402     2   \n",
       "4037952   1410       1    1   1402     1  498623      0   653       179     2   \n",
       "\n",
       "         ...  travcost  travdist  travtime  trexpfac  tseg  tsvid  vot  \\\n",
       "2214381  ...         0         0        12         1     1      0   15   \n",
       "2214382  ...         0         0        12         1     1      0   15   \n",
       "2214662  ...         0         0         8         1     1      0    4   \n",
       "2214663  ...         0         0         7         1     1      0    4   \n",
       "2214664  ...         0         0        19         1     1      0    1   \n",
       "...      ...       ...       ...       ...       ...   ...    ...  ...   \n",
       "4034424  ...         0         1        36         1     2      0    3   \n",
       "4037949  ...         0         0        12         1     1      0   13   \n",
       "4037950  ...         0         1        10         1     2      0   13   \n",
       "4037951  ...         0         2        43         1     1      0   13   \n",
       "4037952  ...         0         0         8         1     2      0   13   \n",
       "\n",
       "         person_id  de_hr  de_min  \n",
       "2214381   233984_1     10      20  \n",
       "2214382   233984_1     19      42  \n",
       "2214662   233515_2      5      57  \n",
       "2214663   233515_2     23       7  \n",
       "2214664   233515_2     10      42  \n",
       "...            ...    ...     ...  \n",
       "4034424   427361_1     13      29  \n",
       "4037949   427721_3      8      15  \n",
       "4037950   427721_3      8      44  \n",
       "4037951   427721_3     22      10  \n",
       "4037952   427721_3     23      22  \n",
       "\n",
       "[10654 rows x 32 columns]"
      ]
     },
     "execution_count": 38,
     "metadata": {},
     "output_type": "execute_result"
    }
   ],
   "source": [
    "#get trip\n",
    "sample_trip_home"
   ]
  },
  {
   "cell_type": "code",
   "execution_count": 391,
   "metadata": {},
   "outputs": [
    {
     "data": {
      "text/plain": [
       "Index(['index', 'arrtm', 'dadtyp', 'day', 'deptm', 'dorp', 'dpcl', 'dpurp',\n",
       "       'dtaz', 'endacttm', 'half', 'hhno', 'id', 'mode', 'oadtyp', 'opcl',\n",
       "       'opurp', 'otaz', 'pathtype', 'pno', 'sov_ff_time', 'tour', 'tour_id',\n",
       "       'travcost', 'travdist', 'travtime', 'trexpfac', 'tseg', 'tsvid', 'vot',\n",
       "       'person_id', 'de_hr', 'de_min'],\n",
       "      dtype='object')"
      ]
     },
     "execution_count": 391,
     "metadata": {},
     "output_type": "execute_result"
    }
   ],
   "source": [
    "sample_trip_all.columns"
   ]
  },
  {
   "cell_type": "code",
   "execution_count": 396,
   "metadata": {},
   "outputs": [],
   "source": [
    "selected_col = ['otaz', 'dtaz', 'person_id', 'de_hr', 'de_min', 'mode', 'opurp', 'dpurp',\n",
    "                'oadtyp','dadtyp','arrtm', 'deptm', 'dorp', 'opcl', 'dpcl', 'endacttm','hhno',     \n",
    "                'pathtype', 'pno', 'tour', 'travcost', 'travdist', 'travtime', 'tseg', 'tsvid']"
   ]
  },
  {
   "cell_type": "code",
   "execution_count": 475,
   "metadata": {},
   "outputs": [
    {
     "data": {
      "text/plain": [
       "Index(['index', 'hhno', 'id', 'pagey', 'pdiary', 'pgend', 'pno', 'ppaidprk',\n",
       "       'pproxy', 'pptyp', 'psaudist', 'psautime', 'psexpfac', 'pspcl', 'pstaz',\n",
       "       'pstyp', 'ptpass', 'puwarrp', 'puwdepp', 'puwmode', 'pwaudist',\n",
       "       'pwautime', 'pwpcl', 'pwtaz', 'pwtyp', 'fraction_with_jobs_outside',\n",
       "       'hh515', 'hhcu5', 'hhexpfac', 'hhftw', 'hhhsc', 'hhincome', 'hhoad',\n",
       "       'hhparcel', 'hhptw', 'hhret', 'hhsize', 'hhtaz', 'hhuni', 'hhvehs',\n",
       "       'hhwkrs', 'hownrent', 'hrestype', 'samptype', 'zone_id', 'person_id',\n",
       "       'deage', 'deincome', 'deincome3', 'deincomepew', 'demo_num',\n",
       "       'demo_noage'],\n",
       "      dtype='object')"
      ]
     },
     "execution_count": 475,
     "metadata": {},
     "output_type": "execute_result"
    }
   ],
   "source": [
    "person.columns"
   ]
  },
  {
   "cell_type": "code",
   "execution_count": 476,
   "metadata": {},
   "outputs": [
    {
     "data": {
      "text/plain": [
       "demo_num\n",
       "1      6\n",
       "2     44\n",
       "3      1\n",
       "4     29\n",
       "5     64\n",
       "6      1\n",
       "7     11\n",
       "8     54\n",
       "9      3\n",
       "10    13\n",
       "11    29\n",
       "12     1\n",
       "13     4\n",
       "14    15\n",
       "16    13\n",
       "17    31\n",
       "18     1\n",
       "19    15\n",
       "20    41\n",
       "21     1\n",
       "22    10\n",
       "23    20\n",
       "24     4\n",
       "25     6\n",
       "26     9\n",
       "27     1\n",
       "28    10\n",
       "29     7\n",
       "30     1\n",
       "dtype: int64"
      ]
     },
     "execution_count": 476,
     "metadata": {},
     "output_type": "execute_result"
    }
   ],
   "source": [
    "person[person['person_id'].isin(np.unique(sample_trip_all['person_id'][sample_trip_all['mode'].isin([2,8])]))].groupby(by=['demo_num']).size()"
   ]
  },
  {
   "cell_type": "code",
   "execution_count": 467,
   "metadata": {},
   "outputs": [
    {
     "data": {
      "text/plain": [
       "11226"
      ]
     },
     "execution_count": 467,
     "metadata": {},
     "output_type": "execute_result"
    }
   ],
   "source": [
    "len(np.unique(sample_trip_all['person_id']))"
   ]
  },
  {
   "cell_type": "code",
   "execution_count": 468,
   "metadata": {},
   "outputs": [
    {
     "data": {
      "text/plain": [
       "0.03964012114733654"
      ]
     },
     "execution_count": 468,
     "metadata": {},
     "output_type": "execute_result"
    }
   ],
   "source": []
  },
  {
   "cell_type": "code",
   "execution_count": 444,
   "metadata": {},
   "outputs": [
    {
     "name": "stdout",
     "output_type": "stream",
     "text": [
      "# of persons 11226\n",
      "# of person without bike mode 11154\n",
      "# of person withour bike and school bus mode 11130\n"
     ]
    }
   ],
   "source": [
    "#Trip mode (1=walk, 2=bike, 3=sov, 4=hov 2, 5=hov 3+, 6=walk to transit,\n",
    "#7=park and ride, 8=school bus, 9=TNC, 10=other – survey only) \n",
    "#since sumo doesn't include bike mode, thus we delete bike mode\n",
    "\n",
    "sample_trip_all.groupby('mode').size()\n",
    "#delete person whose mode is bike, or school bus\n",
    "print('# of persons', len(np.unique(sample_trip_all['person_id'])))\n",
    "print('# of person without bike mode',\n",
    "      len(np.unique(sample_trip_all['person_id'][~(sample_trip_all['mode']==2)])))\n",
    "\n",
    "print('# of person withour bike and school bus mode',\n",
    "      len(np.unique(sample_trip_all['person_id'][~(sample_trip_all['mode'].isin([2, 8]))])))"
   ]
  },
  {
   "cell_type": "code",
   "execution_count": 449,
   "metadata": {},
   "outputs": [],
   "source": [
    "sample_trip_all = sample_trip_all[selected_col][~(sample_trip_all['mode'].isin([2, 8]))]"
   ]
  },
  {
   "cell_type": "code",
   "execution_count": 458,
   "metadata": {
    "scrolled": true
   },
   "outputs": [
    {
     "name": "stdout",
     "output_type": "stream",
     "text": [
      "mode\n",
      "1    10175\n",
      "3    10844\n",
      "4     5482\n",
      "5     3034\n",
      "6     5168\n",
      "9     1191\n",
      "dtype: int64\n",
      "mode\n",
      "1    6073\n",
      "2     274\n",
      "3    1586\n",
      "4     917\n",
      "5     396\n",
      "6     815\n",
      "8      40\n",
      "9     255\n",
      "dtype: int64\n",
      "mode\n",
      "1    3963\n",
      "2     377\n",
      "3    9078\n",
      "4    4477\n",
      "5    2777\n",
      "6    4241\n",
      "8      93\n",
      "9     949\n",
      "dtype: int64\n"
     ]
    }
   ],
   "source": [
    "print(sample_trip_all.groupby(by=['mode']).size())\n",
    "print(sample_trip_home.groupby(by=['mode']).size())\n",
    "print(sample_trip_travel.groupby(by=['mode']).size())"
   ]
  },
  {
   "cell_type": "code",
   "execution_count": 40,
   "metadata": {},
   "outputs": [
    {
     "name": "stderr",
     "output_type": "stream",
     "text": [
      "C:\\Users\\29700\\AppData\\Local\\Temp\\ipykernel_16760\\138560002.py:11: SettingWithCopyWarning: \n",
      "A value is trying to be set on a copy of a slice from a DataFrame.\n",
      "Try using .loc[row_indexer,col_indexer] = value instead\n",
      "\n",
      "See the caveats in the documentation: https://pandas.pydata.org/pandas-docs/stable/user_guide/indexing.html#returning-a-view-versus-a-copy\n",
      "  sample_trip_all['mode_d'] = sample_trip_all['mode'].apply(decode_mode)\n"
     ]
    }
   ],
   "source": [
    "#mode\n",
    "#1=walk, 2=bike, 3=sov, 4=hov 2, 5=hov 3+, 6=walk to transit, \n",
    "#7=park and ride, 8=school bus, 9=TNC, 10=other – survey only\n",
    "#decode mode\n",
    "#walk 1, 6\n",
    "#veh 3, 4, 5, 9\n",
    "#other 2, 8 \n",
    "\n",
    "decode_mode = lambda x: 1 if x in [1, 6] else (2 if x in [3, 4, 5, 9] else 3)\n",
    "\n"
   ]
  },
  {
   "cell_type": "code",
   "execution_count": 55,
   "metadata": {},
   "outputs": [
    {
     "data": {
      "image/png": "[encoded data removed]",
      "text/plain": [
       "<Figure size 432x288 with 1 Axes>"
      ]
     },
     "metadata": {
      "needs_background": "light"
     },
     "output_type": "display_data"
    }
   ],
   "source": [
    "sample_dt = sample_trip_all\n",
    "plt.plot(sample_dt.groupby(by=['de_hr']).size())\n",
    "plt.title('sample trips per day')\n",
    "\n",
    "del(sample_dt)"
   ]
  },
  {
   "cell_type": "code",
   "execution_count": null,
   "metadata": {},
   "outputs": [],
   "source": []
  },
  {
   "cell_type": "code",
   "execution_count": 59,
   "metadata": {},
   "outputs": [],
   "source": [
    "def write_dt(sample_):\n",
    "    sample_dt = sample_.copy()\n",
    "    sample_dt['mode_d'] = sample_dt['mode'].apply(decode_mode)\n",
    "    sample_dt = sample_dt[['person_id', 'de_hr', 'de_min', 'mode_d', 'otaz', 'dtaz']].sort_values(by=['person_id', 'de_hr', 'de_min'])\n",
    "    return(sample_dt)"
   ]
  },
  {
   "cell_type": "code",
   "execution_count": 65,
   "metadata": {},
   "outputs": [],
   "source": [
    "#save 2 csv\n",
    "sample_trip_all.to_csv('../SUMO_simulation/appsim/sample_trip_all_10per.csv')\n",
    "sample_trip_travel.to_csv('../SUMO_simulation/appsim/sample_trip_home_10per.csv')\n",
    "sample_trip_home.to_csv('../SUMO_simulation/appsim/sample_trip_travel_10per.csv')"
   ]
  },
  {
   "cell_type": "code",
   "execution_count": 69,
   "metadata": {},
   "outputs": [
    {
     "name": "stderr",
     "output_type": "stream",
     "text": [
      "C:\\Users\\29700\\AppData\\Local\\Temp\\ipykernel_16760\\528876012.py:2: SettingWithCopyWarning: \n",
      "A value is trying to be set on a copy of a slice from a DataFrame.\n",
      "Try using .loc[row_indexer,col_indexer] = value instead\n",
      "\n",
      "See the caveats in the documentation: https://pandas.pydata.org/pandas-docs/stable/user_guide/indexing.html#returning-a-view-versus-a-copy\n",
      "  sample_trip_travel['p_ht'] = 0\n",
      "C:\\Users\\29700\\AppData\\Local\\Temp\\ipykernel_16760\\528876012.py:3: SettingWithCopyWarning: \n",
      "A value is trying to be set on a copy of a slice from a DataFrame.\n",
      "Try using .loc[row_indexer,col_indexer] = value instead\n",
      "\n",
      "See the caveats in the documentation: https://pandas.pydata.org/pandas-docs/stable/user_guide/indexing.html#returning-a-view-versus-a-copy\n",
      "  sample_trip_home['p_ht'] = 1\n"
     ]
    }
   ],
   "source": [
    "#combine index \n",
    "sample_trip_travel['p_ht'] = 0\n",
    "sample_trip_home['p_ht'] = 1\n",
    "\n",
    "sample_trip_ht = pd.concat([sample_trip_home, sample_trip_travel], axis=0, ignore_index=True)\n",
    "sample_trip_ht['mode_d'] = sample_trip_ht['mode'].apply(decode_mode)\n",
    "\n",
    "sample_trip_ht.to_csv('../SUMO_simulation/appsim/sample_trip_ht_10per.csv')\n",
    "del(sample_trip_home, sample_trip_travel)"
   ]
  },
  {
   "cell_type": "code",
   "execution_count": null,
   "metadata": {},
   "outputs": [],
   "source": [
    "#check the sample data"
   ]
  },
  {
   "cell_type": "code",
   "execution_count": 74,
   "metadata": {},
   "outputs": [
    {
     "name": "stdout",
     "output_type": "stream",
     "text": [
      "# trip summary count    11113.000000\n",
      "mean         3.261226\n",
      "std          1.926163\n",
      "min          2.000000\n",
      "25%          2.000000\n",
      "50%          2.000000\n",
      "75%          4.000000\n",
      "max         16.000000\n",
      "dtype: float64\n"
     ]
    },
    {
     "data": {
      "text/plain": [
       "(array([7.413e+03, 1.585e+03, 1.283e+03, 3.230e+02, 2.190e+02, 2.080e+02,\n",
       "        4.700e+01, 2.800e+01, 2.000e+00, 5.000e+00]),\n",
       " array([ 2. ,  3.4,  4.8,  6.2,  7.6,  9. , 10.4, 11.8, 13.2, 14.6, 16. ]),\n",
       " <BarContainer object of 10 artists>)"
      ]
     },
     "execution_count": 74,
     "metadata": {},
     "output_type": "execute_result"
    },
    {
     "data": {
      "image/png": "[encoded data removed]",
      "text/plain": [
       "<Figure size 432x288 with 1 Axes>"
      ]
     },
     "metadata": {
      "needs_background": "light"
     },
     "output_type": "display_data"
    }
   ],
   "source": [
    "print('# trip summary', sample_trip_all.groupby(by='person_id').size().describe())\n",
    "plt.hist(sample_trip_all.groupby(by='person_id').size())"
   ]
  },
  {
   "cell_type": "code",
   "execution_count": 75,
   "metadata": {},
   "outputs": [
    {
     "name": "stdout",
     "output_type": "stream",
     "text": [
      "# trip summary count    11117.000000\n",
      "mean         3.285059\n",
      "std          1.947855\n",
      "min          2.000000\n",
      "25%          2.000000\n",
      "50%          2.000000\n",
      "75%          4.000000\n",
      "max         18.000000\n",
      "dtype: float64\n"
     ]
    },
    {
     "data": {
      "text/plain": [
       "(array([7.316e+03, 2.322e+03, 6.320e+02, 5.420e+02, 1.180e+02, 1.480e+02,\n",
       "        2.900e+01, 6.000e+00, 2.000e+00, 2.000e+00]),\n",
       " array([ 2. ,  3.6,  5.2,  6.8,  8.4, 10. , 11.6, 13.2, 14.8, 16.4, 18. ]),\n",
       " <BarContainer object of 10 artists>)"
      ]
     },
     "execution_count": 75,
     "metadata": {},
     "output_type": "execute_result"
    },
    {
     "data": {
      "image/png": "[encoded data removed]",
      "text/plain": [
       "<Figure size 432x288 with 1 Axes>"
      ]
     },
     "metadata": {
      "needs_background": "light"
     },
     "output_type": "display_data"
    }
   ],
   "source": [
    "print('# trip summary', sample_trip_ht.groupby(by='person_id').size().describe())\n",
    "plt.hist(sample_trip_ht.groupby(by='person_id').size())"
   ]
  },
  {
   "cell_type": "code",
   "execution_count": null,
   "metadata": {},
   "outputs": [],
   "source": [
    "#revise the taz \n",
    "#assign the od\n"
   ]
  },
  {
   "cell_type": "code",
   "execution_count": 78,
   "metadata": {},
   "outputs": [
    {
     "data": {
      "text/plain": [
       "Index(['arrtm', 'dadtyp', 'day', 'deptm', 'dorp', 'dpcl', 'dpurp', 'dtaz',\n",
       "       'endacttm', 'half', 'hhno', 'id', 'mode', 'oadtyp', 'opcl', 'opurp',\n",
       "       'otaz', 'pathtype', 'pno', 'sov_ff_time', 'tour', 'tour_id', 'travcost',\n",
       "       'travdist', 'travtime', 'trexpfac', 'tseg', 'tsvid', 'vot', 'person_id',\n",
       "       'de_hr', 'de_min', 'mode_d'],\n",
       "      dtype='object')"
      ]
     },
     "execution_count": 78,
     "metadata": {},
     "output_type": "execute_result"
    }
   ],
   "source": [
    "sample_trip_all.columns"
   ]
  },
  {
   "cell_type": "code",
   "execution_count": 83,
   "metadata": {},
   "outputs": [
    {
     "data": {
      "text/plain": [
       "(36242, 33)"
      ]
     },
     "execution_count": 83,
     "metadata": {},
     "output_type": "execute_result"
    }
   ],
   "source": [
    "sample_trip_all.shape"
   ]
  },
  {
   "cell_type": "code",
   "execution_count": 89,
   "metadata": {},
   "outputs": [],
   "source": [
    "#sample_trip_all[sample_trip_all['mode_d']==1]\n",
    "def get_walk_pop(sample_trip_all):\n",
    "    sample_walk = (sample_trip_all[sample_trip_all['mode_d']==1]).groupby(by=['otaz','dtaz']).size().to_frame()\n",
    "    sample_walk.reset_index(inplace=True)\n",
    "    sample_walk.columns = ['otaz', 'dtaz', 'num_od']\n",
    "    print('walk pop shape', sample_walk.shape)\n",
    "    print('walk pop od summary', sample_walk['num_od'].describe())\n",
    "    return(sample_walk_pop)\n"
   ]
  },
  {
   "cell_type": "code",
   "execution_count": 90,
   "metadata": {},
   "outputs": [
    {
     "data": {
      "text/plain": [
       "<function __main__.get_walk_pop(sample_trip_all)>"
      ]
     },
     "execution_count": 90,
     "metadata": {},
     "output_type": "execute_result"
    }
   ],
   "source": []
  },
  {
   "cell_type": "markdown",
   "metadata": {},
   "source": [
    "## Explore the demographic factors\n",
    "### demographic factors\n",
    "(pptyp, pagey, pgend, hhincome, hhownrent, hhrestype)\\\n",
    "pptyp: person type\\\n",
    "1= full time worker, 2 =part time worker, 3=non-worker age 65+, 4 = other non-working adult, 5 = university student, 6 = grade school student/child age 16+, 7 = child age 5-15, 8 = child age 0-4. \n",
    "\n",
    "pagey: age in years\\\n",
    "age group: \n",
    "<18, 18-29, 30-49, 50-64, >65 (need to be decoded)\n",
    "\n",
    "pgend: Gender (1=male, 2=female, 9=missing data for estimation)\n",
    "\n",
    "hhincome: household income (The household annual income, in integer dollars. (A negative value is interpreted as missing data in DaySim estimation mode.)\n",
    "[Source](https://money.usnews.com/money/personal-finance/family-finance/articles/where-do-i-fall-in-the-american-economic-class-system#:~:text=A%20family%20earning%20between%20%2432%2C048,more%20than%20%24373%2C894%20are%20rich).\n",
    "\n",
    "| INCOME GROUP       | INCOME (2019, $) | \n",
    "| :---               | :---             |\n",
    "| Poor or near-poor  | 32,048 or less   |\n",
    "| Lower-middle class | 32,048 - 53,413  |\n",
    "| Middle class       | 53,413 - 106,827 |\n",
    "| Upper-middle class | 106,827 - 373,894|\n",
    "| Rich               | 373,894 and up   |\n",
    "\n",
    "hhownrent: Household own versus rent status. (This could be optional as input, as it is not currently used in the DaySim model code.) \n",
    "\n",
    "hhrestype: Household residence building type. (This could be optional as input, as it is not currently used in the DaySim model code.)  \n",
    "\n",
    "\n",
    "### detailed work/study type\n",
    "(pwtyp, pstyp, hhwkrs, hhvehs, hhftw, hhptw, hhret, hhoad, hhuni, hhhsc)\\\n",
    "pwtyp: Worker type (0=non-worker, 1=full time worker, 2=part time worker)\\\n",
    "pstyp: student type (0=non-student, 1=full time student, 2=part time student if known – part-time distinction not used in DaySim code)\\\n",
    "Hhwkrs: the number of workers in the household*\\\n",
    "Hhvehs: the number of auto in the household*\\\n",
    "Hhftw:The number of HH members with person type=full-time worker.   (This could be optional as input, as it is computed by DaySim.)\\\n",
    "Hhptw: The number of HH members with person type=part-time worker.   (This could be optional as input, as it is computed by DaySim.)\\\n",
    "Hhret: The number of HH members with person type=retired adult.   (This could be optional as input, as it is computed by DaySim.)\\\n",
    "hhoad: The number of HH members with person type=other non-working adult.   (This could be optional as input, as it is computed by DaySim.)\\\n",
    "hhuni:The number of HH members with person type=university student.   (This could be optional as input, as it is computed by DaySim.)\\\n",
    "hhhsc:The number of HH members with person type=grade school student age 16+.   (This could be optional as input, as it is computed by DaySim.)\n",
    "\n",
    "### travel based factors\n",
    "(pwautime, pwaudist, psautime, psaudist, puwmode, puwarrp, puwdepp, ptpass, ppaidprk)\n",
    "#### work\n",
    "pwautime: The 1-way peak auto travel time between the residence and usual work parcels (a real number of minutes, -1 if no usual work location. Could be optional as input, used as output for calibration.)\\\n",
    "pwaudist: The 1-way peak auto distance between the ...\\\n",
    "psautime: The 1-way peak auto travel time between the residence and usual school parcels (a real number of minutes, -1 if no usual school location. Could be optional as input, used as output for calibration.)\\\n",
    "psaudist: The 1-way peak auto travel distance between the residence and usual school parcels (a real number of miles, -1 if no usual school location. Could be optional as input, used as output for calibration.)\n",
    "\n",
    "#### mode\n",
    "puwmode: The usual mode used to work\n",
    "\n",
    "#### time\n",
    "puwarrp: The usual arrival period at work\\\n",
    "puwdepp: The usual departure period from work\\\n",
    "ptpass: Transit pass ownership (0=no, 1=yes. This is predicted by DaySim, so could be an optional input in application mode.)\\\n",
    "ppaidprk: Worker has to pay to park at work (0=no, 1=yes.   This is predicted by DaySim, so could be an optional input in application mode.)\n",
    "\n"
   ]
  },
  {
   "cell_type": "markdown",
   "metadata": {},
   "source": [
    "## Add land use info\n",
    "* [data source](https://github.com/psrc/soundcast/releases/tag/v3.0.1_RTP)\n",
    "* [data info](https://github.com/psrc/soundcast/wiki/lutype_lookup)\n",
    "* [land use info](https://github.com/psrc/soundcast/wiki/Inputs#land-use)"
   ]
  }
 ],
 "metadata": {
  "colab": {
   "collapsed_sections": [],
   "name": "Codes_Short-term_Pessimistic_Scenario-July31.ipynb",
   "provenance": []
  },
  "kernelspec": {
   "display_name": "Python 3 (ipykernel)",
   "language": "python",
   "name": "python3"
  },
  "language_info": {
   "codemirror_mode": {
    "name": "ipython",
    "version": 3
   },
   "file_extension": ".py",
   "mimetype": "text/x-python",
   "name": "python",
   "nbconvert_exporter": "python",
   "pygments_lexer": "ipython3",
   "version": "3.8.5"
  }
 },
 "nbformat": 4,
 "nbformat_minor": 1
}
