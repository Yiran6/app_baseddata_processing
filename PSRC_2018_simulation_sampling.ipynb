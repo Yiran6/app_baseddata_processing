{
 "cells": [
  {
   "cell_type": "code",
   "execution_count": 136,
   "metadata": {
    "pycharm": {
     "name": "#%%\n"
    }
   },
   "outputs": [],
   "source": [
    "#libraries\n",
    "import os \n",
    "import pandas as pd\n",
    "import numpy as np \n",
    "import h5py\n",
    "import math\n",
    "import collections\n",
    "import filecmp\n",
    "from lxml import etree as ET\n",
    "#import xml.etree.ElementTree as ET\n",
    "import datetime\n",
    "from collections import OrderedDict\n",
    "#import pandasql as ps\n",
    "from operator import itemgetter\n",
    "import csv\n",
    "from collections import Counter\n",
    "#from google.colab import drive\n",
    "\n",
    "import geopandas as gpd\n",
    "#import pandasql as ps\n",
    "import matplotlib.pyplot as plt\n",
    "#import shapefile as shp\n",
    "import seaborn as sns\n",
    "import random\n",
    "import time\n",
    "from sklearn.model_selection import train_test_split\n",
    "#import pysal as ps\n",
    "import scipy\n",
    "import fiona\n",
    "\n",
    "from scipy.stats import kstest\n",
    "from scipy.stats import mannwhitneyu\n",
    "\n",
    "#from dill.source import getsource\n",
    "import json\n",
    "\n",
    "# load csv module\n",
    "import csv"
   ]
  },
  {
   "cell_type": "code",
   "execution_count": 7,
   "metadata": {},
   "outputs": [],
   "source": [
    "os.chdir('G:/My Drive/2021/Bias/PSRC_od_simulation_2018')"
   ]
  },
  {
   "cell_type": "markdown",
   "metadata": {},
   "source": [
    "## PSRC simulation data extract"
   ]
  },
  {
   "cell_type": "code",
   "execution_count": 55,
   "metadata": {
    "pycharm": {
     "name": "#%%\n"
    }
   },
   "outputs": [],
   "source": [
    "#Mount\n",
    "#create drive content\n",
    "#drive.mount('/content/drive', force_remount= True)\n",
    "os.chdir('G:/My Drive/2021/Bias/PSRC_od_simulation_2018')\n",
    "#os.listdir()\n",
    "\n",
    "# Create functions to open the tables in daysim_outputs.h5\n",
    "def h5_to_data_frame(h5file, table_name):\n",
    "    table = h5file[table_name]\n",
    "    col_dict = {}\n",
    "    #cols = ['hhno', 'hhtaz']\n",
    "    for col in table.keys():\n",
    "        if col == 'sov_ff_time':\n",
    "            pass\n",
    "        else:\n",
    "            my_array = np.asarray(table[col]).astype('int')\n",
    "        col_dict[col] = my_array.astype('int')\n",
    "    return(pd.DataFrame(col_dict))\n",
    "\n",
    "# Create functions to check the data\n",
    "def print_dt_info(dt, dtname):\n",
    "    print(dtname)\n",
    "    print('shape', dt.shape)\n",
    "    print('colnames', dt.columns)\n",
    "    \n",
    "\n",
    "#taz related\n",
    "def check_odtaz(input_od, selected_taz):\n",
    "    o, d = input_od\n",
    "    if o not in selected_taz and d not in selected_taz:\n",
    "        print('warning! od both not in the selected taz')\n",
    "        print(input_od)\n",
    "\n",
    "\n",
    "#def conduct_sampling(selected_dt, democol, paramarr):\n",
    "#    selected_dt = selected_dt.sort_values(by=[democol])\n",
    "#    demo_num = np.unique(selected_dt[democol])\n",
    "#    selected_ids = []\n",
    "    \n",
    "#    for demo_i in demo_num:\n",
    "#        demo_ids = list(selected_dt['person_id'][selected_dt[democol]==demo_i].values)\n",
    "#        demo_pop = len(demo_ids)\n",
    "#        demo_sample_pop = int(round(demo_pop * paramarr[demo_i-1], 0))\n",
    "        #print(demo_sample_pop), no replacement\n",
    "#        selected_ids.extend(random.sample(demo_ids, demo_sample_pop))\n",
    "#    return(selected_ids)\n",
    "\n",
    "def conduct_sampling(selected_dt, democol, paramarr, per_pop, rd_seed):\n",
    "    selected_dt = selected_dt.sort_values(by=[democol])\n",
    "    demo_num = np.unique(selected_dt[democol])\n",
    "    selected_appids = []\n",
    "    left_sampleids = []\n",
    "    \n",
    "    for demo_i in demo_num:\n",
    "        demo_ids = list(selected_dt['person_id'][selected_dt[democol]==demo_i].values)\n",
    "        demo_pop = len(demo_ids)\n",
    "        #based on app-based param\n",
    "        demo_sample_app_pop = int(round(demo_pop * paramarr[demo_i-1], 0))\n",
    "        #based on total pop\n",
    "        demo_sample_pop = int(round(demo_pop*per_pop, 0))\n",
    "        #print(demo_sample_pop), no replacement\n",
    "        random.seed(rd_seed)\n",
    "        selected_appids.extend(random.sample(demo_ids, demo_sample_app_pop))\n",
    "        left_sampleids.extend(random.sample(demo_ids, (demo_sample_pop-demo_sample_app_pop)))\n",
    "    return(selected_appids, left_sampleids)\n",
    "\n",
    "def get_sample_dttrips(selected_ids, trip_dt, has_stays = False):\n",
    "    sample_dt = trip_dt[trip_dt['person_id'].isin(selected_ids)]\n",
    "    #check stays for sampling based on all the data\n",
    "    if has_stays == True:\n",
    "        stays_id = []\n",
    "        for i in selected_ids:\n",
    "            if i not in np.unique(sample_dt['person_id']):\n",
    "                stays_id.append(i)\n",
    "        return(sample_dt, stays_id)\n",
    "    else:\n",
    "        return(sample_dt)\n",
    "\n",
    "#get stayed taz\n",
    "def get_stayed_taz(stay_ids, home_taz):\n",
    "    person_id_taz = {}\n",
    "    for i in stay_ids:\n",
    "        stays_ = int(i.split('_')[0])\n",
    "        person_id_taz[i] = home_taz[stays_]\n",
    "        if stays_ not in home_taz:\n",
    "            print(stays_)\n",
    "    return(person_id_taz)\n",
    "\n",
    "#decode the data\n",
    "#for age, pagey\n",
    "#<18, 18-29, 30-49, 50-64, >65\n",
    "def decode_age(age_var):\n",
    "    if age_var<18 and age_var>=0:\n",
    "        return(0)\n",
    "    elif age_var>=18 and age_var<=29:\n",
    "        return(1)\n",
    "    elif age_var>=30 and age_var<=49:\n",
    "        return(2)\n",
    "    elif age_var>=50 and age_var<=64:\n",
    "        return(3)\n",
    "    elif age_var>=65:\n",
    "        return(4)\n",
    "    else:\n",
    "        return('nan')\n",
    "    \n",
    "#for household income, hhincome\n",
    "#Poor or near-poor 32,048 or less\n",
    "#Lower-middle class 32,048 - 53,413\n",
    "#Middle class 53,413 - 106,827\n",
    "#Upper-middle class 106,827 - 373,894\n",
    "#Rich 373,894 and up\n",
    "def decode_income(income_var):\n",
    "    if income_var != -1:\n",
    "        if income_var<=0:\n",
    "            return(0)\n",
    "        elif income_var>0 and income_var<32048:\n",
    "            return(1)\n",
    "        elif income_var>=32048 and income_var<53413:\n",
    "            return(2)\n",
    "        elif income_var>=53413 and income_var<106827:\n",
    "            return(3)\n",
    "        elif income_var>=106827 and income_var<373894:\n",
    "            return(4)\n",
    "        else:\n",
    "            return(5)    \n",
    "    else:\n",
    "        return(-1)\n",
    "    \n",
    "def decode_income_3level(income_var):\n",
    "    if income_var != -1:\n",
    "        if income_var<=0:\n",
    "            return(1)\n",
    "        elif income_var>0 and income_var<32048:\n",
    "            return(1)\n",
    "        elif income_var>=32048 and income_var<53413:\n",
    "            return(1)\n",
    "        elif income_var>=53413 and income_var<106827:\n",
    "            return(2)\n",
    "        elif income_var>=106827 and income_var<373894:\n",
    "            return(2)\n",
    "        else:\n",
    "            return(3)    \n",
    "    else:\n",
    "        return(-1)\n",
    "    \n",
    "def decode_income_pew(income_var):\n",
    "    if income_var != -1:\n",
    "        if income_var<=0:\n",
    "            return(1)\n",
    "        elif income_var>0 and income_var<30000:\n",
    "            return(1)\n",
    "        elif income_var>=30000 and income_var<=49999:\n",
    "            return(2)\n",
    "        elif income_var>=50000 and income_var<=74999:\n",
    "            return(3)\n",
    "        elif income_var>=75000:\n",
    "            return(4)\n",
    "    else:\n",
    "        return(-1)"
   ]
  },
  {
   "cell_type": "markdown",
   "metadata": {},
   "source": [
    "### data processing"
   ]
  },
  {
   "cell_type": "code",
   "execution_count": 9,
   "metadata": {},
   "outputs": [
    {
     "name": "stdout",
     "output_type": "stream",
     "text": [
      "<KeysViewHDF5 ['Household', 'HouseholdDay', 'Person', 'PersonDay', 'Tour', 'Trip']>\n",
      "(16306270, 30)\n",
      "(1459959, 30)\n",
      "revised data shape\n",
      "trip_revised (1459959, 30)\n"
     ]
    },
    {
     "name": "stderr",
     "output_type": "stream",
     "text": [
      "C:\\Users\\Yiran\\AppData\\Local\\Temp\\ipykernel_23840\\1390692237.py:59: SettingWithCopyWarning: \n",
      "A value is trying to be set on a copy of a slice from a DataFrame.\n",
      "Try using .loc[row_indexer,col_indexer] = value instead\n",
      "\n",
      "See the caveats in the documentation: https://pandas.pydata.org/pandas-docs/stable/user_guide/indexing.html#returning-a-view-versus-a-copy\n",
      "  trip_revised['person_id'] = person_id\n"
     ]
    },
    {
     "name": "stdout",
     "output_type": "stream",
     "text": [
      "88970\n",
      "person\n",
      "shape (4053154, 45)\n",
      "colnames Index(['hhno', 'id', 'pagey', 'pdiary', 'pgend', 'pno', 'ppaidprk', 'pproxy',\n",
      "       'pptyp', 'psaudist', 'psautime', 'psexpfac', 'pspcl', 'pstaz', 'pstyp',\n",
      "       'ptpass', 'puwarrp', 'puwdepp', 'puwmode', 'pwaudist', 'pwautime',\n",
      "       'pwpcl', 'pwtaz', 'pwtyp', 'fraction_with_jobs_outside', 'hh515',\n",
      "       'hhcu5', 'hhexpfac', 'hhftw', 'hhhsc', 'hhincome', 'hhoad', 'hhparcel',\n",
      "       'hhptw', 'hhret', 'hhsize', 'hhtaz', 'hhuni', 'hhvehs', 'hhwkrs',\n",
      "       'hownrent', 'hrestype', 'samptype', 'zone_id', 'person_id'],\n",
      "      dtype='object')\n",
      "hh\n",
      "shape (1605263, 21)\n",
      "colnames Index(['fraction_with_jobs_outside', 'hh515', 'hhcu5', 'hhexpfac', 'hhftw',\n",
      "       'hhhsc', 'hhincome', 'hhno', 'hhoad', 'hhparcel', 'hhptw', 'hhret',\n",
      "       'hhsize', 'hhtaz', 'hhuni', 'hhvehs', 'hhwkrs', 'hownrent', 'hrestype',\n",
      "       'samptype', 'zone_id'],\n",
      "      dtype='object')\n",
      "trips\n",
      "shape (16306270, 30)\n",
      "colnames Index(['arrtm', 'dadtyp', 'day', 'deptm', 'dorp', 'dpcl', 'dpurp', 'dtaz',\n",
      "       'endacttm', 'half', 'hhno', 'id', 'mode', 'oadtyp', 'opcl', 'opurp',\n",
      "       'otaz', 'pathtype', 'pno', 'sov_ff_time', 'tour', 'tour_id', 'travcost',\n",
      "       'travdist', 'travtime', 'trexpfac', 'tseg', 'tsvid', 'vot',\n",
      "       'person_id'],\n",
      "      dtype='object')\n",
      "num taz covered 3443\n",
      "data shape\n",
      "trips (16306270, 30)\n"
     ]
    }
   ],
   "source": [
    "# Read the daysim_outputs file\n",
    "#hdf_file = h5py.File(r'/content/drive/My Drive/Colab Notebooks/Project/daysim_outputs.h5', \"r\")\n",
    "hdf_file = h5py.File(r'daysim_outputs.h5', \"r\")\n",
    "\n",
    "# output_dir = r'\\\\modelstation3\\c$\\\\Workspace\\sc_new_emp_SCEN3_2018'\n",
    "print(hdf_file.keys())\n",
    "\n",
    "\n",
    "# Get the tables: trips, person, household, tours\n",
    "#get trip data\n",
    "trips = h5_to_data_frame(hdf_file, 'Trip')\n",
    "\n",
    "# get trips columns to use later\n",
    "trips_columns = trips.columns\n",
    "trips['person_id'] = trips['hhno'].astype(str) + '_' + trips['pno'].astype(str)\n",
    "\n",
    "#get information we need\n",
    "path= 'G:/My Drive/2021/Bias/SUMO_simulation/MatSumo-main/SUMO/SUMO_network/'\n",
    "datafile = 'Taz_with_pseudo_link.add.xml'\n",
    "tree = ET.parse(path+datafile)\n",
    "root = tree.getroot()\n",
    "selected_taz = []\n",
    "for taz in root.findall('taz'):\n",
    "    tazid = taz.get('id')\n",
    "    #filter out pseudo taz\n",
    "    if len(tazid) <=3:\n",
    "        selected_taz.append(int(tazid))\n",
    "        \n",
    "#selected taz \n",
    "print(trips.shape)\n",
    "trip_revised = trips[(trips['otaz'].isin(selected_taz))|(trips['dtaz'].isin(selected_taz))]\n",
    "print(trip_revised.shape)\n",
    "\n",
    "print('revised data shape')\n",
    "print('trip_revised', trip_revised.shape)\n",
    "#thus tours may cover multiple trips\n",
    "#we focus on trips\n",
    "\n",
    "#check if any taz not from the selected taz \n",
    "for input_od in trip_revised[['otaz', 'dtaz']].values:\n",
    "    check_odtaz(input_od, selected_taz)\n",
    "      \n",
    "#mode\n",
    "#1=walk, 2=bike, 3=sov, 4=hov 2, 5=hov 3+, 6=walk to transit, \n",
    "#7=park and ride, 8=school bus, 9=TNC, 10=other – survey only\n",
    "\n",
    "#pathtype\n",
    "#np.unique(trip_revised['pathtype'])\n",
    "#Trip path type (0=None, 1=full network, 2=no-toll network, 3=local bus, \n",
    "#4=light rail, 5=premium bus, 6=commuter rail, 7=ferry) \n",
    "\n",
    "#get person data\n",
    "#hhno + pno\n",
    "person = h5_to_data_frame(hdf_file, 'Person')\n",
    "hh = h5_to_data_frame(hdf_file, 'Household')\n",
    "person = person.merge(hh, how= 'left', left_on = 'hhno', right_on = 'hhno')\n",
    "\n",
    "person_id = (trip_revised.hhno.astype('str')+'_'+trip_revised['pno'].astype('str')).values\n",
    "trip_revised['person_id'] = person_id\n",
    "#np.unique(trip_revised.hhno)\n",
    "person['person_id'] = person.hhno.astype('str')+'_'+person.pno.astype('str')\n",
    "\n",
    "#trip_revised = trip_revised.sort_values(by=['hhno', 'pno'])\n",
    "person = person.sort_values(by=['hhno', 'pno'])\n",
    "\n",
    "print(len(person[person['zone_id'].isin(selected_taz)]))\n",
    "\n",
    "print_dt_info(person, 'person')\n",
    "#print_dt_info(person_day, 'person_day')\n",
    "print_dt_info(hh, 'hh')\n",
    "#print_dt_info(hh_day, 'hh_day')\n",
    "#print_dt_info(tours, 'tours')\n",
    "print_dt_info(trips, 'trips')\n",
    "print('num taz covered', len(np.unique(person['zone_id'])))\n",
    "print('data shape')\n",
    "print('trips', trips.shape)\n",
    "del(trips)\n",
    "\n",
    "print('# person in person file', len(np.unique(person['person_id'])))\n",
    "print('# person in trip file', len(np.unique(trip_revised['person_id'])))\n",
    "\n",
    "#person.groupby(by=['hhno']).size()\n",
    "#trip_revised[['hhno', 'pno', 'person_id']][trip_revised['hhno']==1605262]\n",
    "#person[['hhno', 'pno', 'person_id']][person['hhno']==1605262]\n",
    "\n",
    "trip_revised['de_hr'] = trip_revised['deptm']//60\n",
    "trip_revised['de_min'] = trip_revised['deptm']%60\n",
    "\n",
    "person['deage'] = person['pagey'].apply(lambda x: decode_age(x))\n",
    "person['deincome'] = person['hhincome'].apply(lambda x: decode_income(x))\n",
    "#a simple defination of income level\n",
    "person['deincome3'] = person['hhincome'].apply(lambda x: decode_income_3level(x))\n",
    "person['deincomepew'] = person['hhincome'].apply(lambda x: decode_income_pew(x))\n",
    "\n",
    "print(person['deincome'].describe())\n",
    "\n",
    "#delete person missing demo info\n",
    "person = person[person['deage'] != -1]\n",
    "print(person.shape)\n",
    "#person = person[person['deincome'] != -1]\n",
    "person = person[person['deincome3'] != -1]\n",
    "print(person.shape)\n",
    "#person = person[person['deincomepew'] != -1] #the same as the person\n",
    "#print(person.shape)\n",
    "person = person[person['pgend'] != -1]\n",
    "print(person.shape)\n",
    "\n",
    "#check selected decoded demo var\n",
    "print(np.unique(person['deage']))\n",
    "print(np.unique(person['deincome3']))\n",
    "print(np.unique(person['pgend']))\n",
    "\n",
    "person.reset_index(inplace=True)\n",
    "\n",
    "person['demo_num'] = (person['pgend']-1)*15 + person['deage']*3 + person['deincome3']\n",
    "person['demo_noage'] = person['deage']*3 + person['deincome3']\n",
    "\n",
    "hhno_trip = np.unique(trip_revised['hhno'][~trip_revised['mode'].isin([2, 8])])\n",
    "hhno_bike_bus = np.unique(trip_revised['hhno'][trip_revised['mode'].isin([2, 8])])\n",
    "\n",
    "person_id_all = np.unique(trip_revised['person_id'][~trip_revised['mode'].isin([2, 8])])\n",
    "person_id_bike_bus = np.unique(trip_revised['person_id'][trip_revised['mode'].isin([2, 8])])\n",
    "\n",
    "trip_test_bike_bus = trip_revised[trip_revised['person_id'].isin(person_id_bike_bus)]\n",
    "trip_test_bike_bus = trip_test_bike_bus.groupby(by=['person_id', 'mode']).size().to_frame()\n",
    "\n",
    "#get person id whose trip mode is only bike\n",
    "trip_test_bike_bus.reset_index(inplace=True)\n",
    "get_mode_index = lambda x: 0 if x in [2, 8] else 1\n",
    "\n",
    "trip_test_bike_bus['mode_index'] = trip_test_bike_bus['mode'].apply(get_mode_index)   \n",
    "#del(trip_test_bike_bus)\n",
    "trip_test_bike_bus = trip_test_bike_bus.groupby(by='person_id').sum()\n",
    "trip_test_bike_bus.reset_index(inplace=True) \n",
    "\n",
    "#print('#people only has school bus/bike trips', len(person_id_bike_bus))\n",
    "person_id_bike_bus = np.unique(trip_test_bike_bus['person_id'][trip_test_bike_bus['mode_index']==0])\n",
    "\n",
    "del(trip_test_bike_bus)\n",
    "\n",
    "plt.plot(person[person['person_id'].isin(person_id_bike_bus)].groupby(by=['demo_num']).size()/2937, label='bike & bus')\n",
    "plt.plot(person.groupby(by=['demo_num']).size()/56696, label='all')\n",
    "plt.legend()"
   ]
  },
  {
   "cell_type": "code",
   "execution_count": 436,
   "metadata": {},
   "outputs": [
    {
     "name": "stdout",
     "output_type": "stream",
     "text": [
      "person who ride bikes 15165\n"
     ]
    }
   ],
   "source": [
    "'''#check the person who ride bikes\n",
    "test_person_id = np.unique(trip_revised['person_id'][trip_revised['mode']==2])\n",
    "print('person who ride bikes', len(test_person_id))\n",
    "trip_test_bike = trip_revised[trip_revised['person_id'].isin(test_person_id)]\n",
    "trip_test_bike = trip_test_bike.groupby(by=['person_id', 'mode']).size().to_frame()\n",
    "\n",
    "#get person id whose trip mode is only bike\n",
    "trip_test_bike.reset_index(inplace=True)\n",
    "trip_test_bike = trip_test_bike.groupby(by=['person_id']).size().to_frame()\n",
    "trip_test_bike.reset_index(inplace=True)\n",
    "person_id_bike = trip_test_bike['person_id'][trip_test_bike[0]==1].values\n",
    "\n",
    "del(trip_test_bike, test_person_id)'''"
   ]
  },
  {
   "cell_type": "code",
   "execution_count": 16,
   "metadata": {},
   "outputs": [
    {
     "data": {
      "text/plain": [
       "<matplotlib.legend.Legend at 0x1d1894cdf70>"
      ]
     },
     "execution_count": 16,
     "metadata": {},
     "output_type": "execute_result"
    },
    {
     "data": {
      "image/png": "[encoded data removed]",
      "text/plain": [
       "<Figure size 432x288 with 1 Axes>"
      ]
     },
     "metadata": {
      "needs_background": "light"
     },
     "output_type": "display_data"
    }
   ],
   "source": [
    "#delete school bus/bike only trips\n",
    "print('previous trip shape', trip_revised.shape)\n",
    "print('# of trips w.o bus/bike only', trip_revised[~trip_revised['person_id'].isin(person_id_bike_bus)].shape)\n",
    "\n",
    "trip_revised = trip_revised[~trip_revised['person_id'].isin(person_id_bike_bus)]\n",
    "person = person[~person['person_id'].isin(person_id_bike_bus)]\n",
    "person = person[person['hhno'].isin(np.unique(trip_revised['hhno']))]\n",
    "\n",
    "#get person who lives in taz\n",
    "person_id_home = np.unique(trip_revised['person_id'][(trip_revised['otaz'].isin(selected_taz)) & (trip_revised['opurp']==0)])\n",
    "\n",
    "person_id_travel = np.unique(trip_revised['person_id'][~trip_revised['person_id'].isin(person_id_home)])\n",
    "\n",
    "#we only keep the stay who lived in the selected test area\n",
    "hhno_home = np.unique(trip_revised['hhno'][trip_revised['person_id'].isin(person_id_home)])\n",
    "hhno_travel = np.unique(trip_revised['hhno'][trip_revised['person_id'].isin(person_id_travel)])\n",
    "\n",
    "\n",
    "#only select stays who lives in the selected test area\n",
    "del_person = person[person['hhno'].isin(hhno_travel)]\n",
    "del_person = del_person['person_id'][~del_person['person_id'].isin(person_id_travel)]\n",
    "person = person[~person['person_id'].isin(del_person.values)]\n",
    "\n",
    "print('# person with home in the selected taz', len(person_id_home))\n",
    "print('# person with Seattle in the selected taz', len(person_id_travel))\n",
    "\n",
    "#conduct stratified sampling based on the demo groups\n",
    "num_home_ = len(person_id_home)\n",
    "num_travel = len(person_id_travel)\n",
    "num_stay = person[~person['person_id'].isin(np.unique(trip_revised['person_id']))].shape[0]\n",
    "num_total = person.shape[0]\n",
    "\n",
    "print(num_home_/num_total)\n",
    "print(num_travel/num_total)\n",
    "print(num_stay/num_total)\n",
    "\n",
    "#get previous predicted data\n",
    "param = pd.read_csv('G:/My Drive/2021/Bias/PSRC_od_simulation_2018/result_v1_all.csv', index_col = 0)\n",
    "param = param['mean'][:31].values\n",
    "\n",
    "sampling_per = param[:30]*param[-1]\n",
    "\n",
    "print(person.shape)\n",
    "print(person[person['person_id'].isin(person_id_home)].shape)\n",
    "print(person[person['person_id'].isin(person_id_travel)].shape)\n",
    "print(person[~((person['person_id'].isin(person_id_home))|(person['person_id'].isin(person_id_travel)))].shape)"
   ]
  },
  {
   "cell_type": "code",
   "execution_count": 17,
   "metadata": {},
   "outputs": [],
   "source": [
    "#delete person id without trips in travel pop\n",
    "#check if we have person stay still\n",
    "#person_travel_stay = person[person['hhno'].isin(hhno_travel)]\n",
    "#person_travel_stay = person_travel_stay['person_id'][~person_travel_stay['person_id'].isin(person_id_travel)]\n",
    "\n",
    "#person_travel_stay"
   ]
  },
  {
   "cell_type": "markdown",
   "metadata": {},
   "source": [
    "### conduct sampling"
   ]
  },
  {
   "cell_type": "code",
   "execution_count": 52,
   "metadata": {},
   "outputs": [],
   "source": [
    "#based on all the data\n",
    "selected_personid_all, left_personid_all = conduct_sampling(person, 'demo_num', sampling_per, 0.1, 16)\n",
    "\n",
    "#based on stay, home and travel\n",
    "selected_personid_home, left_personod_home = conduct_sampling(person[person['person_id'].isin(person_id_home)],\n",
    "                                         'demo_num',\n",
    "                                         sampling_per, 0.1, 16)\n",
    "selected_personid_travel, left_personid_travel = conduct_sampling(person[person['person_id'].isin(person_id_travel)],\n",
    "                                         'demo_num',\n",
    "                                         sampling_per, 0.1, 16)\n",
    "selected_personid_stay, left_personid_stay = conduct_sampling(person[~((person['person_id'].isin(person_id_home))|(person['person_id'].isin(person_id_travel)))],\n",
    "                                         'demo_num',\n",
    "                                         sampling_per, 0.1, 16)\n",
    "\n",
    "home_taz = {}\n",
    "trip_home_taz = trip_revised[['opurp', 'otaz', 'hhno']][(trip_revised['hhno'].isin(hhno_home))&(trip_revised['opurp']==0)]                                      \n",
    "\n",
    "index_ = 0\n",
    "for i in trip_home_taz['hhno'].values:\n",
    "    if i not in home_taz:\n",
    "        home_taz[i] = trip_home_taz['otaz'].values[index_]\n",
    "    index_ += 1\n",
    "    \n",
    "#del(trip_home_taz)\n",
    "\n",
    "sample_trip_all, stays_id = get_sample_dttrips(selected_personid_all, trip_revised, True)\n",
    "sample_trip_all_left, stays_id_left =  get_sample_dttrips(left_personid_all, trip_revised, True)\n",
    "\n",
    "sample_trip_home =  get_sample_dttrips(selected_personid_home, trip_revised)\n",
    "sample_trip_home_left =  get_sample_dttrips(left_personod_home, trip_revised)\n",
    "\n",
    "sample_trip_travel =  get_sample_dttrips(selected_personid_travel, trip_revised)\n",
    "sample_trip_travel_left =  get_sample_dttrips(left_personid_travel, trip_revised)\n",
    "\n",
    "\n",
    "staystaz_all = get_stayed_taz(stays_id, home_taz)  \n",
    "staystaz_all_left = get_stayed_taz(stays_id_left, home_taz)\n",
    "\n",
    "staystaz_stay = get_stayed_taz(selected_personid_stay, home_taz)\n",
    "staystaz_stay_left = get_stayed_taz(left_personid_stay, home_taz)\n",
    "\n",
    "del(trip_revised)"
   ]
  },
  {
   "cell_type": "code",
   "execution_count": 111,
   "metadata": {},
   "outputs": [
    {
     "name": "stdout",
     "output_type": "stream",
     "text": [
      "# of sampled app_based person all 11197\n",
      "# of sampled left person all 33123\n",
      "# of person all with trips 11109\n",
      "# of person left with trips 32888\n",
      "# of total person with trips 43997\n",
      "\n",
      "\n",
      "# of sampled app-based residents 2073\n",
      "# of sampled left residents 6200\n",
      "# of residents with trips 2073\n",
      "# of residents left with trips 6200\n",
      "# of total person with trips 8273\n",
      "\n",
      "\n",
      "# of sampled app_based travelers 9044\n",
      "# of sampled left travelers 26675\n",
      "# of travelers with trips 9044\n",
      "# of travelers left with trips 26675\n",
      "# of total person with trips 35719\n",
      "\n",
      "\n",
      "# of sampled residents+travelers 11200\n",
      "# of sampled left residents+travelers 33121\n"
     ]
    }
   ],
   "source": [
    "print('# of stays all', len(staystaz_all)+len(staystaz_all_left))\n",
    "print('# of stays home + left', len(staystaz_stay)+len(staystaz_stay_left))\n",
    "print('\\n')\n",
    "print('# of sampled app_based person all',len(selected_personid_all))\n",
    "print('# of sampled left person all', len(left_personid_all))\n",
    "print('# of person all with trips', len(np.unique(sample_trip_all['person_id'])))\n",
    "print('# of person left with trips', len(np.unique(sample_trip_all_left['person_id'])))\n",
    "print('# of total person with trips', len(np.unique(sample_trip_all['person_id']))+len(np.unique(sample_trip_all_left['person_id'])))\n",
    "print('\\n')\n",
    "print('# of sampled app-based residents' ,len(selected_personid_home))\n",
    "print('# of sampled left residents' ,len(left_personod_home))\n",
    "print('# of residents with trips', len(np.unique(sample_trip_home['person_id'])))\n",
    "print('# of residents left with trips', len(np.unique(sample_trip_home_left['person_id'])))\n",
    "print('# of total person with trips', len(np.unique(sample_trip_home['person_id']))+len(np.unique(sample_trip_home_left['person_id'])))\n",
    "print('\\n')\n",
    "print('# of sampled app_based travelers' ,len(selected_personid_travel))\n",
    "print('# of sampled left travelers',len(left_personid_travel))\n",
    "print('# of travelers with trips', len(np.unique(sample_trip_travel['person_id'])))\n",
    "print('# of travelers left with trips', len(np.unique(sample_trip_travel_left['person_id'])))\n",
    "print('# of total person with trips', len(np.unique(sample_trip_travel['person_id']))+len(np.unique(sample_trip_travel_left['person_id'])))\n",
    "print('\\n')\n",
    "\n",
    "print('# of sampled residents+travelers', len(selected_personid_travel)+len(selected_personid_home)+len(selected_personid_stay))\n",
    "print('# of sampled left residents+travelers', len(left_personid_travel)+len(left_personod_home)+len(left_personid_stay))"
   ]
  },
  {
   "cell_type": "code",
   "execution_count": 475,
   "metadata": {},
   "outputs": [
    {
     "data": {
      "text/plain": [
       "Index(['index', 'hhno', 'id', 'pagey', 'pdiary', 'pgend', 'pno', 'ppaidprk',\n",
       "       'pproxy', 'pptyp', 'psaudist', 'psautime', 'psexpfac', 'pspcl', 'pstaz',\n",
       "       'pstyp', 'ptpass', 'puwarrp', 'puwdepp', 'puwmode', 'pwaudist',\n",
       "       'pwautime', 'pwpcl', 'pwtaz', 'pwtyp', 'fraction_with_jobs_outside',\n",
       "       'hh515', 'hhcu5', 'hhexpfac', 'hhftw', 'hhhsc', 'hhincome', 'hhoad',\n",
       "       'hhparcel', 'hhptw', 'hhret', 'hhsize', 'hhtaz', 'hhuni', 'hhvehs',\n",
       "       'hhwkrs', 'hownrent', 'hrestype', 'samptype', 'zone_id', 'person_id',\n",
       "       'deage', 'deincome', 'deincome3', 'deincomepew', 'demo_num',\n",
       "       'demo_noage'],\n",
       "      dtype='object')"
      ]
     },
     "execution_count": 475,
     "metadata": {},
     "output_type": "execute_result"
    }
   ],
   "source": [
    "person.columns"
   ]
  },
  {
   "cell_type": "code",
   "execution_count": 74,
   "metadata": {},
   "outputs": [],
   "source": [
    "#person[person['person_id'].isin(np.unique(sample_trip_all['person_id'][sample_trip_all['mode'].isin([2,8])]))].groupby(by=['demo_num']).size()"
   ]
  },
  {
   "cell_type": "code",
   "execution_count": 78,
   "metadata": {},
   "outputs": [
    {
     "name": "stdout",
     "output_type": "stream",
     "text": [
      "# of persons 11109\n",
      "# of person without bike mode 11109\n",
      "# of person without bike and school bus mode 11109\n"
     ]
    }
   ],
   "source": [
    "#check the sample data\n",
    "#Trip mode (1=walk, 2=bike, 3=sov, 4=hov 2, 5=hov 3+, 6=walk to transit,\n",
    "#7=park and ride, 8=school bus, 9=TNC, 10=other – survey only) \n",
    "#since sumo doesn't include bike mode, thus we delete bike mode\n",
    "#selected_col = ['otaz', 'dtaz', 'person_id', 'de_hr', 'de_min', 'mode', 'opurp', 'dpurp',\n",
    "#                'oadtyp','dadtyp','arrtm', 'deptm', 'dorp', 'opcl', 'dpcl', 'endacttm','hhno',     \n",
    "#                'pathtype', 'pno', 'tour', 'travcost', 'travdist', 'travtime', 'tseg', 'tsvid']\n",
    "\n",
    "\n",
    "sample_trip_all.groupby('mode').size()\n",
    "#delete person whose mode is bike, or school bus\n",
    "print('# of persons', len(np.unique(sample_trip_all['person_id'])))\n",
    "print('# of person without bike mode',\n",
    "      len(np.unique(sample_trip_all['person_id'][~(sample_trip_all['mode']==2)])))\n",
    "\n",
    "print('# of person without bike and school bus mode',\n",
    "      len(np.unique(sample_trip_all['person_id'][~(sample_trip_all['mode'].isin([2, 8]))])))\n",
    "\n",
    "#print(sample_trip_all.shape)\n",
    "#(35872, 32)\n",
    "\n",
    "#sample_trip_all = sample_trip_all[selected_col][~(sample_trip_all['mode'].isin([2, 8]))]\n",
    "#print(sample_trip_all.shape)\n",
    "#(35320, 25)\n",
    "\n",
    "print(sample_trip_all.groupby(by=['mode']).size())\n",
    "print(sample_trip_home.groupby(by=['mode']).size())\n",
    "print(sample_trip_travel.groupby(by=['mode']).size())"
   ]
  },
  {
   "cell_type": "code",
   "execution_count": 141,
   "metadata": {},
   "outputs": [],
   "source": [
    "#mode\n",
    "#1=walk, 2=bike, 3=sov, 4=hov 2, 5=hov 3+, 6=walk to transit, \n",
    "#7=park and ride, 8=school bus, 9=TNC, 10=other – survey only\n",
    "#decode mode\n",
    "#walk 1, 6\n",
    "#veh 3, 4, 5, 9\n",
    "#other 2, 8 \n",
    "\n",
    "decode_mode = lambda x: 1 if x in [1, 6] else (2 if x in [3, 4, 5, 9] else 3)\n",
    "\n",
    "def plot_tripsperday(sample_dt):\n",
    "#sample_dt = sample_trip_all\n",
    "    plt.plot(sample_dt.groupby(by=['de_hr']).size())\n",
    "    plt.title('sample trips per day')\n",
    "\n",
    "#combine the data\n",
    "def combine_hometravel(home_dt, travel_dt):\n",
    "    #combine index \n",
    "    travel_dt['p_ht'] = 0\n",
    "    home_dt['p_ht'] = 1\n",
    "\n",
    "    sample_trip_ht = pd.concat([home_dt, travel_dt], axis=0, ignore_index=True)\n",
    "    #sample_trip_ht['mode_d'] = sample_trip_ht['mode'].apply(decode_mode)\n",
    "\n",
    "    #sample_trip_ht.to_csv('../SUMO_simulation/appsim/sample_trip_ht_10per.csv')\n",
    "    return(sample_trip_ht)\n",
    "\n",
    "def combine_leftandsample(sample_dt, left_sample_dt, save_path):\n",
    "    sample_dt['sample_index'] = 1\n",
    "    left_sample_dt['sample_index'] = 0\n",
    "    \n",
    "    sample_trip_cb = pd.concat([sample_dt, left_sample_dt], axis=0, ignore_index=True)\n",
    "    sample_trip_cb.reset_index(inplace=True)\n",
    "    \n",
    "    sample_trip_cb['mode_d'] = sample_trip_cb['mode'].apply(decode_mode)\n",
    "    \n",
    "    sample_trip_cb.to_csv(save_path)\n",
    "    print('output done')\n",
    "\n",
    "def save_stay_file(stay, save_path):\n",
    "    w = csv.writer(open(save_path, \"w\"), lineterminator='\\n')\n",
    "        # loop over dictionary keys and values\n",
    "    for key, val in stay.items():\n",
    "        # write every key and value to file\n",
    "        w.writerow([str(key), str(val)])\n",
    "    print('output stay done')    \n"
   ]
  },
  {
   "cell_type": "code",
   "execution_count": 142,
   "metadata": {},
   "outputs": [
    {
     "name": "stderr",
     "output_type": "stream",
     "text": [
      "C:\\Users\\Yiran\\AppData\\Local\\Temp\\ipykernel_23840\\1768764126.py:29: SettingWithCopyWarning: \n",
      "A value is trying to be set on a copy of a slice from a DataFrame.\n",
      "Try using .loc[row_indexer,col_indexer] = value instead\n",
      "\n",
      "See the caveats in the documentation: https://pandas.pydata.org/pandas-docs/stable/user_guide/indexing.html#returning-a-view-versus-a-copy\n",
      "  sample_dt['sample_index'] = 1\n",
      "C:\\Users\\Yiran\\AppData\\Local\\Temp\\ipykernel_23840\\1768764126.py:30: SettingWithCopyWarning: \n",
      "A value is trying to be set on a copy of a slice from a DataFrame.\n",
      "Try using .loc[row_indexer,col_indexer] = value instead\n",
      "\n",
      "See the caveats in the documentation: https://pandas.pydata.org/pandas-docs/stable/user_guide/indexing.html#returning-a-view-versus-a-copy\n",
      "  left_sample_dt['sample_index'] = 0\n"
     ]
    },
    {
     "name": "stdout",
     "output_type": "stream",
     "text": [
      "output done\n"
     ]
    }
   ],
   "source": [
    "combine_leftandsample(sample_trip_all, sample_trip_all_left, '../SUMO_simulation/appsim/sample_trip_all_10per.csv')"
   ]
  },
  {
   "cell_type": "code",
   "execution_count": 143,
   "metadata": {},
   "outputs": [
    {
     "name": "stderr",
     "output_type": "stream",
     "text": [
      "C:\\Users\\Yiran\\AppData\\Local\\Temp\\ipykernel_23840\\1768764126.py:19: SettingWithCopyWarning: \n",
      "A value is trying to be set on a copy of a slice from a DataFrame.\n",
      "Try using .loc[row_indexer,col_indexer] = value instead\n",
      "\n",
      "See the caveats in the documentation: https://pandas.pydata.org/pandas-docs/stable/user_guide/indexing.html#returning-a-view-versus-a-copy\n",
      "  travel_dt['p_ht'] = 0\n",
      "C:\\Users\\Yiran\\AppData\\Local\\Temp\\ipykernel_23840\\1768764126.py:20: SettingWithCopyWarning: \n",
      "A value is trying to be set on a copy of a slice from a DataFrame.\n",
      "Try using .loc[row_indexer,col_indexer] = value instead\n",
      "\n",
      "See the caveats in the documentation: https://pandas.pydata.org/pandas-docs/stable/user_guide/indexing.html#returning-a-view-versus-a-copy\n",
      "  home_dt['p_ht'] = 1\n"
     ]
    },
    {
     "name": "stdout",
     "output_type": "stream",
     "text": [
      "output done\n"
     ]
    }
   ],
   "source": [
    "combine_leftandsample(combine_hometravel(sample_trip_home, sample_trip_travel),\n",
    "                      combine_hometravel(sample_trip_home_left, sample_trip_travel_left),\n",
    "                      '../SUMO_simulation/appsim/sample_trip_ht_10per.csv')"
   ]
  },
  {
   "cell_type": "code",
   "execution_count": 140,
   "metadata": {},
   "outputs": [
    {
     "name": "stdout",
     "output_type": "stream",
     "text": [
      "output stay done\n",
      "output stay done\n",
      "output stay done\n",
      "output stay done\n"
     ]
    }
   ],
   "source": [
    "save_stay_file(staystaz_all, '../SUMO_simulation/appsim/staysall.csv')\n",
    "save_stay_file(staystaz_all_left, '../SUMO_simulation/appsim/staysall_left.csv')\n",
    "save_stay_file(staystaz_stay, '../SUMO_simulation/appsim/stays.csv')\n",
    "save_stay_file(staystaz_stay_left, '../SUMO_simulation/appsim/stays_left.csv')"
   ]
  },
  {
   "cell_type": "code",
   "execution_count": 65,
   "metadata": {},
   "outputs": [],
   "source": [
    "#save 2 csv\n",
    "#sample_trip_all.to_csv('../SUMO_simulation/appsim/sample_trip_all_10per.csv')\n",
    "#sample_trip_travel.to_csv('../SUMO_simulation/appsim/sample_trip_home_10per.csv')\n",
    "#sample_trip_home.to_csv('../SUMO_simulation/appsim/sample_trip_travel_10per.csv')\n",
    "#pd.read_csv('../SUMO_simulation/appsim/sample_trip_travel_10per.csv', index_col=0).columns"
   ]
  },
  {
   "cell_type": "code",
   "execution_count": null,
   "metadata": {},
   "outputs": [],
   "source": [
    "#check the sample data"
   ]
  },
  {
   "cell_type": "code",
   "execution_count": 74,
   "metadata": {},
   "outputs": [
    {
     "name": "stdout",
     "output_type": "stream",
     "text": [
      "# trip summary count    11113.000000\n",
      "mean         3.261226\n",
      "std          1.926163\n",
      "min          2.000000\n",
      "25%          2.000000\n",
      "50%          2.000000\n",
      "75%          4.000000\n",
      "max         16.000000\n",
      "dtype: float64\n"
     ]
    },
    {
     "data": {
      "text/plain": [
       "(array([7.413e+03, 1.585e+03, 1.283e+03, 3.230e+02, 2.190e+02, 2.080e+02,\n",
       "        4.700e+01, 2.800e+01, 2.000e+00, 5.000e+00]),\n",
       " array([ 2. ,  3.4,  4.8,  6.2,  7.6,  9. , 10.4, 11.8, 13.2, 14.6, 16. ]),\n",
       " <BarContainer object of 10 artists>)"
      ]
     },
     "execution_count": 74,
     "metadata": {},
     "output_type": "execute_result"
    },
    {
     "data": {
      "image/png": "[encoded data removed]",
      "text/plain": [
       "<Figure size 432x288 with 1 Axes>"
      ]
     },
     "metadata": {
      "needs_background": "light"
     },
     "output_type": "display_data"
    }
   ],
   "source": [
    "print('# trip summary', sample_trip_all.groupby(by='person_id').size().describe())\n",
    "plt.hist(sample_trip_all.groupby(by='person_id').size())"
   ]
  },
  {
   "cell_type": "code",
   "execution_count": 75,
   "metadata": {},
   "outputs": [
    {
     "name": "stdout",
     "output_type": "stream",
     "text": [
      "# trip summary count    11117.000000\n",
      "mean         3.285059\n",
      "std          1.947855\n",
      "min          2.000000\n",
      "25%          2.000000\n",
      "50%          2.000000\n",
      "75%          4.000000\n",
      "max         18.000000\n",
      "dtype: float64\n"
     ]
    },
    {
     "data": {
      "text/plain": [
       "(array([7.316e+03, 2.322e+03, 6.320e+02, 5.420e+02, 1.180e+02, 1.480e+02,\n",
       "        2.900e+01, 6.000e+00, 2.000e+00, 2.000e+00]),\n",
       " array([ 2. ,  3.6,  5.2,  6.8,  8.4, 10. , 11.6, 13.2, 14.8, 16.4, 18. ]),\n",
       " <BarContainer object of 10 artists>)"
      ]
     },
     "execution_count": 75,
     "metadata": {},
     "output_type": "execute_result"
    },
    {
     "data": {
      "image/png": "[encoded data removed]",
      "text/plain": [
       "<Figure size 432x288 with 1 Axes>"
      ]
     },
     "metadata": {
      "needs_background": "light"
     },
     "output_type": "display_data"
    }
   ],
   "source": [
    "print('# trip summary', sample_trip_ht.groupby(by='person_id').size().describe())\n",
    "plt.hist(sample_trip_ht.groupby(by='person_id').size())"
   ]
  },
  {
   "cell_type": "code",
   "execution_count": null,
   "metadata": {},
   "outputs": [],
   "source": [
    "#revise the taz \n",
    "#assign the od\n"
   ]
  },
  {
   "cell_type": "code",
   "execution_count": 78,
   "metadata": {},
   "outputs": [
    {
     "data": {
      "text/plain": [
       "Index(['arrtm', 'dadtyp', 'day', 'deptm', 'dorp', 'dpcl', 'dpurp', 'dtaz',\n",
       "       'endacttm', 'half', 'hhno', 'id', 'mode', 'oadtyp', 'opcl', 'opurp',\n",
       "       'otaz', 'pathtype', 'pno', 'sov_ff_time', 'tour', 'tour_id', 'travcost',\n",
       "       'travdist', 'travtime', 'trexpfac', 'tseg', 'tsvid', 'vot', 'person_id',\n",
       "       'de_hr', 'de_min', 'mode_d'],\n",
       "      dtype='object')"
      ]
     },
     "execution_count": 78,
     "metadata": {},
     "output_type": "execute_result"
    }
   ],
   "source": [
    "sample_trip_all.columns"
   ]
  },
  {
   "cell_type": "code",
   "execution_count": 83,
   "metadata": {},
   "outputs": [
    {
     "data": {
      "text/plain": [
       "(36242, 33)"
      ]
     },
     "execution_count": 83,
     "metadata": {},
     "output_type": "execute_result"
    }
   ],
   "source": [
    "sample_trip_all.shape"
   ]
  },
  {
   "cell_type": "code",
   "execution_count": 89,
   "metadata": {},
   "outputs": [],
   "source": [
    "#sample_trip_all[sample_trip_all['mode_d']==1]\n",
    "def get_walk_pop(sample_trip_all):\n",
    "    sample_walk = (sample_trip_all[sample_trip_all['mode_d']==1]).groupby(by=['otaz','dtaz']).size().to_frame()\n",
    "    sample_walk.reset_index(inplace=True)\n",
    "    sample_walk.columns = ['otaz', 'dtaz', 'num_od']\n",
    "    print('walk pop shape', sample_walk.shape)\n",
    "    print('walk pop od summary', sample_walk['num_od'].describe())\n",
    "    return(sample_walk_pop)\n"
   ]
  },
  {
   "cell_type": "code",
   "execution_count": 90,
   "metadata": {},
   "outputs": [
    {
     "data": {
      "text/plain": [
       "<function __main__.get_walk_pop(sample_trip_all)>"
      ]
     },
     "execution_count": 90,
     "metadata": {},
     "output_type": "execute_result"
    }
   ],
   "source": []
  },
  {
   "cell_type": "markdown",
   "metadata": {},
   "source": [
    "## Explore the demographic factors\n",
    "### demographic factors\n",
    "(pptyp, pagey, pgend, hhincome, hhownrent, hhrestype)\\\n",
    "pptyp: person type\\\n",
    "1= full time worker, 2 =part time worker, 3=non-worker age 65+, 4 = other non-working adult, 5 = university student, 6 = grade school student/child age 16+, 7 = child age 5-15, 8 = child age 0-4. \n",
    "\n",
    "pagey: age in years\\\n",
    "age group: \n",
    "<18, 18-29, 30-49, 50-64, >65 (need to be decoded)\n",
    "\n",
    "pgend: Gender (1=male, 2=female, 9=missing data for estimation)\n",
    "\n",
    "hhincome: household income (The household annual income, in integer dollars. (A negative value is interpreted as missing data in DaySim estimation mode.)\n",
    "[Source](https://money.usnews.com/money/personal-finance/family-finance/articles/where-do-i-fall-in-the-american-economic-class-system#:~:text=A%20family%20earning%20between%20%2432%2C048,more%20than%20%24373%2C894%20are%20rich).\n",
    "\n",
    "| INCOME GROUP       | INCOME (2019, $) | \n",
    "| :---               | :---             |\n",
    "| Poor or near-poor  | 32,048 or less   |\n",
    "| Lower-middle class | 32,048 - 53,413  |\n",
    "| Middle class       | 53,413 - 106,827 |\n",
    "| Upper-middle class | 106,827 - 373,894|\n",
    "| Rich               | 373,894 and up   |\n",
    "\n",
    "hhownrent: Household own versus rent status. (This could be optional as input, as it is not currently used in the DaySim model code.) \n",
    "\n",
    "hhrestype: Household residence building type. (This could be optional as input, as it is not currently used in the DaySim model code.)  \n",
    "\n",
    "\n",
    "### detailed work/study type\n",
    "(pwtyp, pstyp, hhwkrs, hhvehs, hhftw, hhptw, hhret, hhoad, hhuni, hhhsc)\\\n",
    "pwtyp: Worker type (0=non-worker, 1=full time worker, 2=part time worker)\\\n",
    "pstyp: student type (0=non-student, 1=full time student, 2=part time student if known – part-time distinction not used in DaySim code)\\\n",
    "Hhwkrs: the number of workers in the household*\\\n",
    "Hhvehs: the number of auto in the household*\\\n",
    "Hhftw:The number of HH members with person type=full-time worker.   (This could be optional as input, as it is computed by DaySim.)\\\n",
    "Hhptw: The number of HH members with person type=part-time worker.   (This could be optional as input, as it is computed by DaySim.)\\\n",
    "Hhret: The number of HH members with person type=retired adult.   (This could be optional as input, as it is computed by DaySim.)\\\n",
    "hhoad: The number of HH members with person type=other non-working adult.   (This could be optional as input, as it is computed by DaySim.)\\\n",
    "hhuni:The number of HH members with person type=university student.   (This could be optional as input, as it is computed by DaySim.)\\\n",
    "hhhsc:The number of HH members with person type=grade school student age 16+.   (This could be optional as input, as it is computed by DaySim.)\n",
    "\n",
    "### travel based factors\n",
    "(pwautime, pwaudist, psautime, psaudist, puwmode, puwarrp, puwdepp, ptpass, ppaidprk)\n",
    "#### work\n",
    "pwautime: The 1-way peak auto travel time between the residence and usual work parcels (a real number of minutes, -1 if no usual work location. Could be optional as input, used as output for calibration.)\\\n",
    "pwaudist: The 1-way peak auto distance between the ...\\\n",
    "psautime: The 1-way peak auto travel time between the residence and usual school parcels (a real number of minutes, -1 if no usual school location. Could be optional as input, used as output for calibration.)\\\n",
    "psaudist: The 1-way peak auto travel distance between the residence and usual school parcels (a real number of miles, -1 if no usual school location. Could be optional as input, used as output for calibration.)\n",
    "\n",
    "#### mode\n",
    "puwmode: The usual mode used to work\n",
    "\n",
    "#### time\n",
    "puwarrp: The usual arrival period at work\\\n",
    "puwdepp: The usual departure period from work\\\n",
    "ptpass: Transit pass ownership (0=no, 1=yes. This is predicted by DaySim, so could be an optional input in application mode.)\\\n",
    "ppaidprk: Worker has to pay to park at work (0=no, 1=yes.   This is predicted by DaySim, so could be an optional input in application mode.)\n",
    "\n"
   ]
  },
  {
   "cell_type": "markdown",
   "metadata": {},
   "source": [
    "## Add land use info\n",
    "* [data source](https://github.com/psrc/soundcast/releases/tag/v3.0.1_RTP)\n",
    "* [data info](https://github.com/psrc/soundcast/wiki/lutype_lookup)\n",
    "* [land use info](https://github.com/psrc/soundcast/wiki/Inputs#land-use)"
   ]
  }
 ],
 "metadata": {
  "colab": {
   "collapsed_sections": [],
   "name": "Codes_Short-term_Pessimistic_Scenario-July31.ipynb",
   "provenance": []
  },
  "kernelspec": {
   "display_name": "Python 3 (ipykernel)",
   "language": "python",
   "name": "python3"
  },
  "language_info": {
   "codemirror_mode": {
    "name": "ipython",
    "version": 3
   },
   "file_extension": ".py",
   "mimetype": "text/x-python",
   "name": "python",
   "nbconvert_exporter": "python",
   "pygments_lexer": "ipython3",
   "version": "3.9.12"
  }
 },
 "nbformat": 4,
 "nbformat_minor": 1
}
