{
 "cells": [
  {
   "cell_type": "code",
   "execution_count": 1,
   "metadata": {},
   "outputs": [],
   "source": [
    "import numpy as np\n",
    "import pandas as pd\n",
    "import os\n",
    "import math\n",
    "import time\n",
    "import matplotlib.pyplot as plt\n",
    "\n",
    "import pandas as pd\n",
    "import numpy as np\n",
    "from datetime import *\n",
    "from collections import *\n",
    "import matplotlib.pyplot as plt\n",
    "import matplotlib.ticker as plticker\n",
    "from matplotlib import rcParams\n",
    "import xlrd as xl\n",
    "import csv\n",
    "import os\n",
    "import math\n",
    "from scipy import stats\n",
    "import csv\n",
    "from matplotlib.pyplot import figure\n",
    "import matplotlib\n",
    "from sklearn.metrics import mean_squared_error as rmse\n",
    "from sklearn.gaussian_process.kernels import RBF, ConstantKernel as C\n",
    "from sklearn.gaussian_process import GaussianProcessRegressor\n",
    "from sklearn.gaussian_process.kernels import ConstantKernel, DotProduct\n",
    "import seaborn as sns\n",
    "from scipy import stats\n",
    "\n",
    "#import numpy as np\n",
    "#import matplotlib.pyplot as plt\n",
    "#from sklearn.gaussian_process import GaussianProcessRegressor\n",
    "from sklearn.gaussian_process.kernels import ConstantKernel, DotProduct, RBF, Matern, WhiteKernel, ExpSineSquared, RationalQuadratic\n",
    "import warnings\n",
    "\n",
    "#calculate the distance\n",
    "#!pip install haversine\n",
    "from haversine import haversine, Unit\n",
    "\n",
    "\n",
    "from sklearn.preprocessing import StandardScaler\n",
    "\n",
    "#source code\n",
    "import numpy as np\n",
    "import matplotlib.pyplot as plt\n",
    "from sklearn.gaussian_process import GaussianProcessRegressor\n",
    "from sklearn.gaussian_process.kernels import RBF, ConstantKernel as C\n",
    "from sklearn.preprocessing import StandardScaler\n",
    "\n",
    "from sklearn.cluster import KMeans\n",
    "import time\n",
    "\n",
    "#calculate the similarity\n",
    "from scipy.spatial.distance import cosine, hamming, jaccard"
   ]
  },
  {
   "cell_type": "code",
   "execution_count": 2,
   "metadata": {},
   "outputs": [
    {
     "data": {
      "text/plain": [
       "['20170404.csv',\n",
       " '20170405.csv',\n",
       " '20170411.csv',\n",
       " '20170406.csv',\n",
       " '20170419.csv',\n",
       " '20170418.csv',\n",
       " '20170413.csv',\n",
       " '20170412.csv',\n",
       " '20170427.csv',\n",
       " '20170426.csv',\n",
       " '20170420.csv',\n",
       " '20170425.csv']"
      ]
     },
     "execution_count": 2,
     "metadata": {},
     "output_type": "execute_result"
    }
   ],
   "source": [
    "path = \"G:/My Drive/2021/Bias/sumo_simulation/\"\n",
    "os.chdir(path)\n",
    "\n",
    "#get obs data matrix\n",
    "data_path_lst = []\n",
    "for i in os.listdir():\n",
    "    if len(i) == 12 and '.csv' in i:\n",
    "        data_path_lst.append(i)\n",
    "data_path_lst"
   ]
  },
  {
   "cell_type": "code",
   "execution_count": 3,
   "metadata": {},
   "outputs": [],
   "source": [
    "#count data in ids\n",
    "def count_id(datapath):\n",
    "    dt = pd.read_csv(datapath)\n",
    "    newids = np.unique(dt['newid'])\n",
    "    return(newids)\n",
    "\n",
    "def getid_descrip(curdict, newids):\n",
    "    for i in newids:\n",
    "        if i not in curdict:\n",
    "            curdict[i] = 1\n",
    "        else:\n",
    "            curdict[i] += 1\n",
    "    return(curdict)\n",
    "\n",
    "iddict = {}\n",
    "for i in data_path_lst:\n",
    "    curids = count_id(i)\n",
    "    iddict = getid_descrip(iddict, curids)"
   ]
  },
  {
   "cell_type": "code",
   "execution_count": 4,
   "metadata": {},
   "outputs": [
    {
     "data": {
      "text/plain": [
       "(array([23938.,  8809.,  4923.,  2527.,  2008.,  1777.,  1412.,  1311.,\n",
       "         1292.,  1045.,  1048.,  1468.]),\n",
       " array([ 1.        ,  1.91666667,  2.83333333,  3.75      ,  4.66666667,\n",
       "         5.58333333,  6.5       ,  7.41666667,  8.33333333,  9.25      ,\n",
       "        10.16666667, 11.08333333, 12.        ]),\n",
       " <BarContainer object of 12 artists>)"
      ]
     },
     "execution_count": 4,
     "metadata": {},
     "output_type": "execute_result"
    },
    {
     "data": {
      "image/png": "[encoded data removed]",
      "text/plain": [
       "<Figure size 432x288 with 1 Axes>"
      ]
     },
     "metadata": {
      "needs_background": "light"
     },
     "output_type": "display_data"
    }
   ],
   "source": [
    "plt.hist(iddict.values(), bins=12)"
   ]
  },
  {
   "cell_type": "code",
   "execution_count": 5,
   "metadata": {},
   "outputs": [],
   "source": [
    "#check ids with obs = 12 days\n",
    "numdays = 12\n",
    "idarr = np.vstack((np.array(list(iddict.keys())), np.array(list(iddict.values())))).T\n",
    "ids = idarr[:, 0][idarr[:,1]==numdays]"
   ]
  },
  {
   "cell_type": "code",
   "execution_count": 6,
   "metadata": {},
   "outputs": [],
   "source": [
    "def get_databyid(idlst, inputdt, datapath, idx):\n",
    "    dt = pd.read_csv(datapath)\n",
    "    dt = dt[dt['newid'].isin(idlst)]\n",
    "    #print(dt.shape)\n",
    "    if idx != 0:\n",
    "        outputdt = pd.concat([inputdt, dt], axis=0)\n",
    "        return outputdt\n",
    "    else:\n",
    "        return dt\n",
    "\n",
    "idx = 0\n",
    "for i in data_path_lst:\n",
    "    if idx == 0:\n",
    "        dt12days = get_databyid(ids, None, i, idx)\n",
    "        idx = 1\n",
    "    else:\n",
    "        dt12days = get_databyid(ids, dt12days, i, idx)"
   ]
  },
  {
   "cell_type": "code",
   "execution_count": 7,
   "metadata": {},
   "outputs": [],
   "source": [
    "#taz index data processing\n",
    "#convert taz and time idx\n",
    "idx = 1\n",
    "tazidx = {}\n",
    "idxtaz = {}\n",
    "for i in np.unique(dt12days['taz']):\n",
    "    tazidx[i] = idx        \n",
    "    idxtaz[idx] = i\n",
    "    idx += 1\n",
    "taz2idx = lambda x: tazidx[x]\n",
    "\n",
    "dt12days['tazidx'] = dt12days['taz'].apply(taz2idx)\n",
    "\n",
    "str2time = lambda x: int(int(x.split(':')[0])*12 + int(x.split(':')[1])/5)\n",
    "dt12days['timeidx'] = dt12days['time'].apply(str2time)\n",
    "\n",
    "dt12days = dt12days.sort_values(by=['newid', 'date', 'timeidx'])"
   ]
  },
  {
   "cell_type": "code",
   "execution_count": 8,
   "metadata": {},
   "outputs": [
    {
     "name": "stderr",
     "output_type": "stream",
     "text": [
      "C:\\Users\\Yiran\\AppData\\Local\\Temp\\ipykernel_44840\\1608797316.py:6: SettingWithCopyWarning: \n",
      "A value is trying to be set on a copy of a slice from a DataFrame.\n",
      "Try using .loc[row_indexer,col_indexer] = value instead\n",
      "\n",
      "See the caveats in the documentation: https://pandas.pydata.org/pandas-docs/stable/user_guide/indexing.html#returning-a-view-versus-a-copy\n",
      "  testdt['timeidx'] = testdt['time'].apply(str2time)\n",
      "C:\\Users\\Yiran\\AppData\\Local\\Temp\\ipykernel_44840\\1608797316.py:6: SettingWithCopyWarning: \n",
      "A value is trying to be set on a copy of a slice from a DataFrame.\n",
      "Try using .loc[row_indexer,col_indexer] = value instead\n",
      "\n",
      "See the caveats in the documentation: https://pandas.pydata.org/pandas-docs/stable/user_guide/indexing.html#returning-a-view-versus-a-copy\n",
      "  testdt['timeidx'] = testdt['time'].apply(str2time)\n",
      "C:\\Users\\Yiran\\AppData\\Local\\Temp\\ipykernel_44840\\1608797316.py:6: SettingWithCopyWarning: \n",
      "A value is trying to be set on a copy of a slice from a DataFrame.\n",
      "Try using .loc[row_indexer,col_indexer] = value instead\n",
      "\n",
      "See the caveats in the documentation: https://pandas.pydata.org/pandas-docs/stable/user_guide/indexing.html#returning-a-view-versus-a-copy\n",
      "  testdt['timeidx'] = testdt['time'].apply(str2time)\n",
      "C:\\Users\\Yiran\\AppData\\Local\\Temp\\ipykernel_44840\\1608797316.py:6: SettingWithCopyWarning: \n",
      "A value is trying to be set on a copy of a slice from a DataFrame.\n",
      "Try using .loc[row_indexer,col_indexer] = value instead\n",
      "\n",
      "See the caveats in the documentation: https://pandas.pydata.org/pandas-docs/stable/user_guide/indexing.html#returning-a-view-versus-a-copy\n",
      "  testdt['timeidx'] = testdt['time'].apply(str2time)\n",
      "C:\\Users\\Yiran\\AppData\\Local\\Temp\\ipykernel_44840\\1608797316.py:6: SettingWithCopyWarning: \n",
      "A value is trying to be set on a copy of a slice from a DataFrame.\n",
      "Try using .loc[row_indexer,col_indexer] = value instead\n",
      "\n",
      "See the caveats in the documentation: https://pandas.pydata.org/pandas-docs/stable/user_guide/indexing.html#returning-a-view-versus-a-copy\n",
      "  testdt['timeidx'] = testdt['time'].apply(str2time)\n",
      "C:\\Users\\Yiran\\AppData\\Local\\Temp\\ipykernel_44840\\1608797316.py:6: SettingWithCopyWarning: \n",
      "A value is trying to be set on a copy of a slice from a DataFrame.\n",
      "Try using .loc[row_indexer,col_indexer] = value instead\n",
      "\n",
      "See the caveats in the documentation: https://pandas.pydata.org/pandas-docs/stable/user_guide/indexing.html#returning-a-view-versus-a-copy\n",
      "  testdt['timeidx'] = testdt['time'].apply(str2time)\n",
      "C:\\Users\\Yiran\\AppData\\Local\\Temp\\ipykernel_44840\\1608797316.py:6: SettingWithCopyWarning: \n",
      "A value is trying to be set on a copy of a slice from a DataFrame.\n",
      "Try using .loc[row_indexer,col_indexer] = value instead\n",
      "\n",
      "See the caveats in the documentation: https://pandas.pydata.org/pandas-docs/stable/user_guide/indexing.html#returning-a-view-versus-a-copy\n",
      "  testdt['timeidx'] = testdt['time'].apply(str2time)\n",
      "C:\\Users\\Yiran\\AppData\\Local\\Temp\\ipykernel_44840\\1608797316.py:6: SettingWithCopyWarning: \n",
      "A value is trying to be set on a copy of a slice from a DataFrame.\n",
      "Try using .loc[row_indexer,col_indexer] = value instead\n",
      "\n",
      "See the caveats in the documentation: https://pandas.pydata.org/pandas-docs/stable/user_guide/indexing.html#returning-a-view-versus-a-copy\n",
      "  testdt['timeidx'] = testdt['time'].apply(str2time)\n",
      "C:\\Users\\Yiran\\AppData\\Local\\Temp\\ipykernel_44840\\1608797316.py:6: SettingWithCopyWarning: \n",
      "A value is trying to be set on a copy of a slice from a DataFrame.\n",
      "Try using .loc[row_indexer,col_indexer] = value instead\n",
      "\n",
      "See the caveats in the documentation: https://pandas.pydata.org/pandas-docs/stable/user_guide/indexing.html#returning-a-view-versus-a-copy\n",
      "  testdt['timeidx'] = testdt['time'].apply(str2time)\n",
      "C:\\Users\\Yiran\\AppData\\Local\\Temp\\ipykernel_44840\\1608797316.py:6: SettingWithCopyWarning: \n",
      "A value is trying to be set on a copy of a slice from a DataFrame.\n",
      "Try using .loc[row_indexer,col_indexer] = value instead\n",
      "\n",
      "See the caveats in the documentation: https://pandas.pydata.org/pandas-docs/stable/user_guide/indexing.html#returning-a-view-versus-a-copy\n",
      "  testdt['timeidx'] = testdt['time'].apply(str2time)\n",
      "C:\\Users\\Yiran\\AppData\\Local\\Temp\\ipykernel_44840\\1608797316.py:6: SettingWithCopyWarning: \n",
      "A value is trying to be set on a copy of a slice from a DataFrame.\n",
      "Try using .loc[row_indexer,col_indexer] = value instead\n",
      "\n",
      "See the caveats in the documentation: https://pandas.pydata.org/pandas-docs/stable/user_guide/indexing.html#returning-a-view-versus-a-copy\n",
      "  testdt['timeidx'] = testdt['time'].apply(str2time)\n"
     ]
    },
    {
     "data": {
      "image/png": "[encoded data removed]",
      "text/plain": [
       "<Figure size 432x288 with 1 Axes>"
      ]
     },
     "metadata": {
      "needs_background": "light"
     },
     "output_type": "display_data"
    },
    {
     "data": {
      "image/png": "[encoded data removed]",
      "text/plain": [
       "<Figure size 432x288 with 1 Axes>"
      ]
     },
     "metadata": {
      "needs_background": "light"
     },
     "output_type": "display_data"
    },
    {
     "data": {
      "image/png": "[encoded data removed]",
      "text/plain": [
       "<Figure size 432x288 with 1 Axes>"
      ]
     },
     "metadata": {
      "needs_background": "light"
     },
     "output_type": "display_data"
    },
    {
     "data": {
      "image/png": "[encoded data removed]",
      "text/plain": [
       "<Figure size 432x288 with 1 Axes>"
      ]
     },
     "metadata": {
      "needs_background": "light"
     },
     "output_type": "display_data"
    },
    {
     "data": {
      "image/png": "[encoded data removed]",
      "text/plain": [
       "<Figure size 432x288 with 1 Axes>"
      ]
     },
     "metadata": {
      "needs_background": "light"
     },
     "output_type": "display_data"
    },
    {
     "data": {
      "image/png": "[encoded data removed]",
      "text/plain": [
       "<Figure size 432x288 with 1 Axes>"
      ]
     },
     "metadata": {
      "needs_background": "light"
     },
     "output_type": "display_data"
    },
    {
     "data": {
      "image/png": "[encoded data removed]",
      "text/plain": [
       "<Figure size 432x288 with 1 Axes>"
      ]
     },
     "metadata": {
      "needs_background": "light"
     },
     "output_type": "display_data"
    },
    {
     "data": {
      "image/png": "[encoded data removed]",
      "text/plain": [
       "<Figure size 432x288 with 1 Axes>"
      ]
     },
     "metadata": {
      "needs_background": "light"
     },
     "output_type": "display_data"
    },
    {
     "data": {
      "image/png": "[encoded data removed]",
      "text/plain": [
       "<Figure size 432x288 with 1 Axes>"
      ]
     },
     "metadata": {
      "needs_background": "light"
     },
     "output_type": "display_data"
    },
    {
     "data": {
      "image/png": "[encoded data removed]",
      "text/plain": [
       "<Figure size 432x288 with 1 Axes>"
      ]
     },
     "metadata": {
      "needs_background": "light"
     },
     "output_type": "display_data"
    },
    {
     "data": {
      "image/png": "[encoded data removed]",
      "text/plain": [
       "<Figure size 432x288 with 1 Axes>"
      ]
     },
     "metadata": {
      "needs_background": "light"
     },
     "output_type": "display_data"
    }
   ],
   "source": [
    "idx = 0\n",
    "for newid in ids:\n",
    "    if idx <= 10:\n",
    "        testdt = dt12days[dt12days['newid']==newid]\n",
    "        str2time = lambda x: int(int(x.split(':')[0])*12 + int(x.split(':')[1])/5)\n",
    "        testdt['timeidx'] = testdt['time'].apply(str2time)\n",
    "\n",
    "        #check the zone trajectory\n",
    "        testdt.sort_values(by=['date', 'timeidx'])\n",
    "        timeidx = np.unique(testdt['timeidx'])\n",
    "        days = np.unique(testdt['date'])\n",
    "\n",
    "        mintime = min(timeidx)\n",
    "        maxtime = max(timeidx)\n",
    "\n",
    "        plt.figure(newid)\n",
    "        for d in days:\n",
    "            daydt = testdt[testdt['date']==d].sort_values(by=['timeidx'])\n",
    "            plt.plot(daydt['timeidx'].values, daydt['taz'].values, '.',label=f'data={d}')\n",
    "            plt.xlim(mintime, maxtime)\n",
    "\n",
    "        plt.legend(bbox_to_anchor=(1.05, 1.0), loc='upper left')\n",
    "    idx += 1"
   ]
  },
  {
   "cell_type": "code",
   "execution_count": 77,
   "metadata": {},
   "outputs": [],
   "source": [
    "#3d & 2d sample test\n",
    "def convertdt2mx(dt, oridt, timespace = False, return_3d = False):\n",
    "    dayval = np.unique(dt['date'])\n",
    "    idx =0\n",
    "    daydict = {}\n",
    "    for i in dayval:\n",
    "        daydict[i] = idx\n",
    "        idx += 1\n",
    "    \n",
    "    if timespace == True:\n",
    "        timeval = np.unique(dt['timeidx'])\n",
    "        tazval = np.unique(dt['tazidx'])\n",
    "        nx, ny, nz = len(dayval), len(timeval), len(tazval)\n",
    "        mx3d = np.ones((nx, ny, nz))\n",
    "        mx2d = np.zeros((nx, ny))\n",
    "        mx2d01 = np.zeros((nx, ny))\n",
    "        \n",
    "        idx = 0\n",
    "        timedict = {}\n",
    "        for j in timeval:\n",
    "            timedict[j] = idx\n",
    "            idx += 1\n",
    "        \n",
    "        idx = 1\n",
    "        tazdict = {}\n",
    "        for j in tazval:\n",
    "            tazdict[j] = idx\n",
    "            idx += 1\n",
    "\n",
    "        for i in range(dt.shape[0]):\n",
    "            d = daydict[dt['date'].iloc[i]]\n",
    "            r = timedict[dt['timeidx'].iloc[i]]\n",
    "            c = tazdict[dt['tazidx'].iloc[i]]\n",
    "           # v = testdt['taz'].iloc[i]\n",
    "            mx3d[d,r,c-1] = 1\n",
    "            mx2d[d, r] = c\n",
    "            mx2d01[d, r] = 1\n",
    "    else:\n",
    "        nx, ny, nz = len(dayval), len(np.unique(oridt['timeidx'])), len(np.unique(oridt['tazidx']))\n",
    "        mx3d = np.zeros((nx, ny, nz))\n",
    "        mx2d = np.zeros((nx, ny))\n",
    "        mx2d01 = np.zeros((nx, ny))\n",
    "        for i in range(dt.shape[0]):\n",
    "            d = daydict[dt['date'].iloc[i]]\n",
    "            r = dt['timeidx'].iloc[i]\n",
    "            c = dt['tazidx'].iloc[i]\n",
    "            mx3d[d,r,c-1] = 1\n",
    "            mx2d[d, r] = c\n",
    "            mx2d01[d, r] = 1\n",
    "    if return_3d == False:\n",
    "        return(mx3d, mx2d, mx2d01)\n",
    "    else:\n",
    "        return mx3d\n",
    "    "
   ]
  },
  {
   "cell_type": "code",
   "execution_count": 10,
   "metadata": {},
   "outputs": [
    {
     "name": "stdout",
     "output_type": "stream",
     "text": [
      "1.0\n",
      "3.0\n"
     ]
    }
   ],
   "source": [
    "#check data record\n",
    "#dt12days.groupby(by=['newid']).size().to_frame().sort_values(by=[0])\n",
    "\n",
    "testdt = dt12days[dt12days['newid']==429907]\n",
    "mx3d, mx2dtaz, mx2d01 = convertdt2mx(testdt, dt12days)\n",
    "mx3d_id, mx2dtaz_id, mx2d01_id = convertdt2mx(testdt, dt12days, True)\n",
    "#check if method is correct\n",
    "print(mx2d01[10][59])\n",
    "print(mx2dtaz[10][59])"
   ]
  },
  {
   "cell_type": "code",
   "execution_count": 12,
   "metadata": {},
   "outputs": [
    {
     "data": {
      "text/plain": [
       "\"\\nidx = 0\\nfor ids in np.unique(dt12days['newid']):\\n    testdt = dt12days[dt12days['newid']==ids]\\n    mx3d, mx2dtaz, mx2d01 = convertdt2mx(testdt, dt12days)\\n    if idx == 0:\\n        sim_result = get_sim_result(mx2d01, ids)\\n        sim_result_taz = get_sim_result(mx2dtaz, ids)\\n        idx = 1\\n    else:\\n        cur_result = get_sim_result(mx2d01, ids)\\n        cur_result_taz = get_sim_result(mx2dtaz, ids)\\n        sim_result = pd.concat((sim_result, cur_result))\\n        sim_result_taz = pd.concat((sim_result_taz, cur_result_taz))\""
      ]
     },
     "execution_count": 12,
     "metadata": {},
     "output_type": "execute_result"
    }
   ],
   "source": [
    "#calculate the similarity\n",
    "def cal_similarity(arr1, arr2):\n",
    "    # Calculating Jaccard similarity\n",
    "    jaccard_similarity = 1 - jaccard(arr1, arr2) # Subtract from 1 as jaccard() computes distance\n",
    "\n",
    "    # Calculating Cosine similarity\n",
    "    cosine_similarity = 1 - cosine(arr1, arr2) # Subtract from 1 as cosine() computes distance\n",
    "\n",
    "    # Calculating Hamming distance (normalized to be a similarity measure)\n",
    "    hamming_similarity = 1 - hamming(arr1, arr2) # Subtract from 1 as hamming() computes distance\n",
    "\n",
    "    # Tanimoto coefficient (extended Jaccard) calculation\n",
    "    def tanimoto_coefficient(x, y):\n",
    "        intersection = np.sum(np.logical_and(x, y))\n",
    "        return intersection / (np.sum(x) + np.sum(y) - intersection)\n",
    "\n",
    "    tanimoto_similarity = tanimoto_coefficient(arr1, arr2)\n",
    "\n",
    "    return(np.array([jaccard_similarity, cosine_similarity, hamming_similarity, tanimoto_similarity]))\n",
    "\n",
    "def get_sim_result(mx, newid):\n",
    "    idx = 0\n",
    "    num_row = mx.shape[0]\n",
    "    for i in range(num_row-1):\n",
    "        for j in range(i+1, num_row):\n",
    "            if idx == 0:\n",
    "                sim_mx = cal_similarity(mx[i], mx[j])\n",
    "                sim_mx = np.hstack(([newid, i,j], sim_mx))\n",
    "                idx = 1\n",
    "            else:\n",
    "                cur_mx = cal_similarity(mx[i], mx[j])\n",
    "                cur_mx = np.hstack(([newid, i,j], cur_mx))\n",
    "                sim_mx = np.vstack((sim_mx, cur_mx))\n",
    "    sim_result = pd.DataFrame(sim_mx)\n",
    "    sim_result.columns = ['newid', 'day1', 'day2', 'jac', 'cos', 'ham', 'tanimo']\n",
    "    #print(sim_result.describe())\n",
    "    return(sim_result)\n",
    "'''\n",
    "idx = 0\n",
    "for ids in np.unique(dt12days['newid']):\n",
    "    testdt = dt12days[dt12days['newid']==ids]\n",
    "    mx3d, mx2dtaz, mx2d01 = convertdt2mx(testdt, dt12days)\n",
    "    if idx == 0:\n",
    "        sim_result = get_sim_result(mx2d01, ids)\n",
    "        sim_result_taz = get_sim_result(mx2dtaz, ids)\n",
    "        idx = 1\n",
    "    else:\n",
    "        cur_result = get_sim_result(mx2d01, ids)\n",
    "        cur_result_taz = get_sim_result(mx2dtaz, ids)\n",
    "        sim_result = pd.concat((sim_result, cur_result))\n",
    "        sim_result_taz = pd.concat((sim_result_taz, cur_result_taz))'''"
   ]
  },
  {
   "cell_type": "code",
   "execution_count": 51,
   "metadata": {
    "scrolled": true
   },
   "outputs": [],
   "source": [
    "idx = 0\n",
    "for ids in np.unique(dt12days['newid']):\n",
    "    testdt = dt12days[dt12days['newid']==ids]\n",
    "    mx3d, mx2dtaz, mx2d01 = convertdt2mx(testdt, dt12days)\n",
    "    if idx == 0:\n",
    "        num_obs = np.count_nonzero(mx2d01, axis=1)\n",
    "        idarr = ids*np.ones(len(num_obs))\n",
    "        days = np.arange(0, len(idarr))\n",
    "        obs_sum = np.vstack((days, num_obs, idarr)).T\n",
    "        idx = 1\n",
    "    else:\n",
    "        num_obs = np.count_nonzero(mx2d01, axis=1)\n",
    "        idarr = ids*np.ones(len(num_obs))\n",
    "        days = np.arange(0, len(idarr))\n",
    "        obs_cur = np.vstack((days, num_obs, idarr)).T\n",
    "        obs_sum = np.vstack((obs_sum, obs_cur))\n",
    "\n",
    "obs_sum = pd.DataFrame(obs_sum)\n",
    "obs_sum.columns = ['day', 'num_obs', 'newid']        "
   ]
  },
  {
   "cell_type": "code",
   "execution_count": 239,
   "metadata": {},
   "outputs": [],
   "source": [
    "sim_result.to_csv('sim_result_01.csv')\n",
    "sim_result_taz.to_csv('sim_result_taz.csv')"
   ]
  },
  {
   "cell_type": "code",
   "execution_count": 250,
   "metadata": {},
   "outputs": [
    {
     "data": {
      "text/plain": [
       "Text(0, 0.5, 'count')"
      ]
     },
     "execution_count": 250,
     "metadata": {},
     "output_type": "execute_result"
    },
    {
     "data": {
      "image/png": "[encoded data removed]",
      "text/plain": [
       "<Figure size 432x288 with 1 Axes>"
      ]
     },
     "metadata": {
      "needs_background": "light"
     },
     "output_type": "display_data"
    }
   ],
   "source": [
    "plt.hist(obs_sum['num_obs'])\n",
    "plt.title('histogram of # of obs per ids per day')\n",
    "plt.xlabel('# of obs')\n",
    "plt.ylabel('count')"
   ]
  },
  {
   "cell_type": "code",
   "execution_count": 159,
   "metadata": {},
   "outputs": [],
   "source": [
    "sim_result = pd.read_csv('sim_result_01.csv')\n",
    "sim_result_taz = pd.read_csv('sim_result_taz.csv')"
   ]
  },
  {
   "cell_type": "code",
   "execution_count": 162,
   "metadata": {},
   "outputs": [
    {
     "name": "stdout",
     "output_type": "stream",
     "text": [
      "# of individuals with similarity=1 (25,)\n",
      "% of people whose similar pattern locate on the same day of week (with taz info): 0.28\n",
      "# of individuals with similarity=1 (56,)\n",
      "% of people whose similar pattern locate on the same day of week: 0.3076923076923077\n"
     ]
    },
    {
     "data": {
      "image/png": "[encoded data removed]",
      "text/plain": [
       "<Figure size 432x288 with 1 Axes>"
      ]
     },
     "metadata": {
      "needs_background": "light"
     },
     "output_type": "display_data"
    },
    {
     "data": {
      "image/png": "[encoded data removed]",
      "text/plain": [
       "<Figure size 432x288 with 1 Axes>"
      ]
     },
     "metadata": {
      "needs_background": "light"
     },
     "output_type": "display_data"
    }
   ],
   "source": [
    "#get data with similarity == 1\n",
    "idswithsame_pattern = sim_result_taz[['newid', 'day1', 'day2']][(sim_result_taz['jac']==1)|(sim_result_taz['cos']==1)|(sim_result_taz['tanimo']==1)|(sim_result_taz['ham']==1)]\n",
    "print('# of individuals with similarity=1', idswithsame_pattern.groupby(by=['newid']).size().shape)\n",
    "idx = 0\n",
    " \n",
    "for ids, day1, day2 in idswithsame_pattern.values:\n",
    "    ids_obs_sum = np.array([int(ids), int(day1), int(day2),\n",
    "                            int(obs_sum[['num_obs']][(obs_sum['newid']==int(ids))&(obs_sum['day']==int(day1))].values[0][0])])\n",
    "    if idx == 0:\n",
    "        obs_sum_sim_taz = ids_obs_sum\n",
    "        idx = 1\n",
    "    else:\n",
    "        obs_sum_sim_taz = np.vstack((obs_sum_sim_taz, ids_obs_sum))\n",
    "\n",
    "plt.figure(1)\n",
    "plt.hist(obs_sum_sim_taz[:, 3])\n",
    "plt.title('hist of # of obs with similarity=1, with taz')\n",
    "plt.xlabel('# of obs')\n",
    "plt.ylabel('Count')\n",
    "\n",
    "#check if similar patterns happens at the same day of week, e.g., this monday vs next monday\n",
    "idswithsame_pattern['day1_tr'] = idswithsame_pattern['day1']%3\n",
    "idswithsame_pattern['day2_tr'] = idswithsame_pattern['day2']%3\n",
    "\n",
    "print('% of people whose similar pattern locate on the same day of week (with taz info):',\n",
    "     np.sum(idswithsame_pattern['day1_tr'] == idswithsame_pattern['day2_tr'])/idswithsame_pattern.shape[0])\n",
    "\n",
    "\n",
    "idswithsame_pattern = sim_result[['newid', 'day1', 'day2']][(sim_result['jac']==1)|(sim_result['cos']==1)|(sim_result['tanimo']==1)|(sim_result['ham']==1)]\n",
    "print('# of individuals with similarity=1', idswithsame_pattern.groupby(by=['newid']).size().shape)\n",
    "idx = 0\n",
    " \n",
    "for ids, day1, day2 in idswithsame_pattern.values:\n",
    "    ids_obs_sum = np.array([int(ids), int(day1), int(day2),\n",
    "                            int(obs_sum[['num_obs']][(obs_sum['newid']==int(ids))&(obs_sum['day']==int(day1))].values[0][0])])\n",
    "    if idx == 0:\n",
    "        obs_sum_sim1 = ids_obs_sum\n",
    "        idx = 1\n",
    "    else:\n",
    "        obs_sum_sim1 = np.vstack((obs_sum_sim1, ids_obs_sum))\n",
    "\n",
    "plt.figure(2)\n",
    "plt.hist(obs_sum_sim1[:, 3])\n",
    "plt.title('hist of # of obs with similarity=1')\n",
    "plt.xlabel('# of obs')\n",
    "plt.ylabel('Count')\n",
    "\n",
    "#check if similar patterns happens at the same day of week, e.g., this monday vs next monday\n",
    "idswithsame_pattern['day1_tr'] = idswithsame_pattern['day1']%3\n",
    "idswithsame_pattern['day2_tr'] = idswithsame_pattern['day2']%3\n",
    "\n",
    "print('% of people whose similar pattern locate on the same day of week:',\n",
    "     np.sum(idswithsame_pattern['day1_tr'] == idswithsame_pattern['day2_tr'])/idswithsame_pattern.shape[0])"
   ]
  },
  {
   "cell_type": "code",
   "execution_count": 321,
   "metadata": {},
   "outputs": [],
   "source": [
    "date_idx = np.unique(dt12days['date'])\n",
    "date_dict = {}\n",
    "idx = 0\n",
    "for i in date_idx:\n",
    "    date_dict[i] = idx\n",
    "    idx += 1\n",
    "daytransfer = lambda x: date_dict[x]\n",
    "dt12days['dayidx'] = dt12days['date'].apply(daytransfer)"
   ]
  },
  {
   "cell_type": "code",
   "execution_count": 335,
   "metadata": {},
   "outputs": [
    {
     "data": {
      "text/plain": [
       "Text(0, 0.5, 'taz idx')"
      ]
     },
     "execution_count": 335,
     "metadata": {},
     "output_type": "execute_result"
    },
    {
     "data": {
      "image/png": "[encoded data removed]",
      "text/plain": [
       "<Figure size 432x288 with 1 Axes>"
      ]
     },
     "metadata": {
      "needs_background": "light"
     },
     "output_type": "display_data"
    }
   ],
   "source": [
    "plt.plot(dt12days[(dt12days['newid']== 25919) & (dt12days['dayidx']==1)].sort_values(by=['timeidx']).values[:, -3], '.')\n",
    "plt.plot(dt12days[(dt12days['newid']== 25919) & (dt12days['dayidx']==10)].sort_values(by=['timeidx']).values[:, -3], '.')\n",
    "plt.grid()\n",
    "plt.title('examples: ids with same app usage pattern but in diff loc')\n",
    "plt.xlabel('matched time idx')\n",
    "plt.ylabel('taz idx')"
   ]
  },
  {
   "cell_type": "code",
   "execution_count": 342,
   "metadata": {
    "scrolled": true
   },
   "outputs": [
    {
     "name": "stdout",
     "output_type": "stream",
     "text": [
      "               day1          day2          jac          cos          ham  \\\n",
      "count  1.468000e+03  1.468000e+03  1468.000000  1468.000000  1468.000000   \n",
      "mean   3.333333e+00  7.666667e+00     0.057742     0.192491     0.859180   \n",
      "std    8.884811e-16  7.729785e-14     0.077914     0.152296     0.110287   \n",
      "min    3.333333e+00  7.666667e+00     0.000000     0.000624     0.246423   \n",
      "25%    3.333333e+00  7.666667e+00     0.008937     0.078360     0.800965   \n",
      "50%    3.333333e+00  7.666667e+00     0.027270     0.145063     0.888152   \n",
      "75%    3.333333e+00  7.666667e+00     0.076860     0.271546     0.944181   \n",
      "max    3.333333e+00  7.666667e+00     0.565186     0.845077     0.993792   \n",
      "\n",
      "            tanimo  \n",
      "count  1468.000000  \n",
      "mean      0.002439  \n",
      "std       0.005450  \n",
      "min       0.000027  \n",
      "25%       0.000597  \n",
      "50%       0.001199  \n",
      "75%       0.002286  \n",
      "max       0.131768  \n",
      "               day1          day2          jac          cos          ham  \\\n",
      "count  1.468000e+03  1.468000e+03  1468.000000  1468.000000  1468.000000   \n",
      "mean   3.333333e+00  7.666667e+00     0.133655     0.217428     0.873691   \n",
      "std    8.884811e-16  7.729785e-14     0.117884     0.158861     0.094071   \n",
      "min    3.333333e+00  7.666667e+00     0.003030     0.005051     0.497527   \n",
      "25%    3.333333e+00  7.666667e+00     0.051357     0.097568     0.821167   \n",
      "50%    3.333333e+00  7.666667e+00     0.094416     0.168568     0.895018   \n",
      "75%    3.333333e+00  7.666667e+00     0.178877     0.302299     0.947588   \n",
      "max    3.333333e+00  7.666667e+00     0.748155     0.855880     0.995002   \n",
      "\n",
      "            tanimo  \n",
      "count  1468.000000  \n",
      "mean      0.133655  \n",
      "std       0.117884  \n",
      "min       0.003030  \n",
      "25%       0.051357  \n",
      "50%       0.094416  \n",
      "75%       0.178877  \n",
      "max       0.748155  \n"
     ]
    }
   ],
   "source": [
    "#similarity check\n",
    "#obs record [ 25919,      1,     10,     10]\n",
    "print(sim_result_taz.groupby(by=['newid']).mean().describe())\n",
    "\n",
    "print(sim_result.groupby(by=['newid']).mean().describe())"
   ]
  },
  {
   "cell_type": "code",
   "execution_count": 355,
   "metadata": {},
   "outputs": [],
   "source": [
    "sim_result_cb = pd.merge(sim_result, sim_result_taz, on=['newid','day1','day2'])\n",
    "sim_result_cb.columns = ['newid', 'day1', 'day2', \n",
    "                         'jac_01', 'cos_01', 'ham_01', 'tanimo_01', \n",
    "                         'jac_taz','cos_taz', 'ham_taz', 'tanimo_taz']\n",
    "#del(sim_result, sim_result_taz)\n",
    "sim_result_cb['jac_diff'] = sim_result_cb['jac_01'] - sim_result_cb['jac_taz']\n",
    "sim_result_cb['cos_diff'] = sim_result_cb['cos_01'] - sim_result_cb['cos_taz']\n",
    "sim_result_cb['ham_diff'] = sim_result_cb['ham_01'] - sim_result_cb['ham_taz']\n",
    "sim_result_cb['tanimo_diff'] = sim_result_cb['tanimo_01'] - sim_result_cb['tanimo_taz']"
   ]
  },
  {
   "cell_type": "code",
   "execution_count": 358,
   "metadata": {},
   "outputs": [
    {
     "data": {
      "text/plain": [
       "Index(['newid', 'day1', 'day2', 'jac_01', 'cos_01', 'ham_01', 'tanimo_01',\n",
       "       'jac_taz', 'cos_taz', 'ham_taz', 'tanimo_taz', 'jac_diff', 'cos_diff',\n",
       "       'ham_diff', 'tanimo_diff'],\n",
       "      dtype='object')"
      ]
     },
     "execution_count": 358,
     "metadata": {},
     "output_type": "execute_result"
    }
   ],
   "source": [
    "sim_result_cb.columns"
   ]
  },
  {
   "cell_type": "code",
   "execution_count": 359,
   "metadata": {},
   "outputs": [
    {
     "data": {
      "text/html": [
       "<div>\n",
       "<style scoped>\n",
       "    .dataframe tbody tr th:only-of-type {\n",
       "        vertical-align: middle;\n",
       "    }\n",
       "\n",
       "    .dataframe tbody tr th {\n",
       "        vertical-align: top;\n",
       "    }\n",
       "\n",
       "    .dataframe thead th {\n",
       "        text-align: right;\n",
       "    }\n",
       "</style>\n",
       "<table border=\"1\" class=\"dataframe\">\n",
       "  <thead>\n",
       "    <tr style=\"text-align: right;\">\n",
       "      <th></th>\n",
       "      <th>jac_diff</th>\n",
       "      <th>cos_diff</th>\n",
       "      <th>ham_diff</th>\n",
       "      <th>tanimo_diff</th>\n",
       "    </tr>\n",
       "  </thead>\n",
       "  <tbody>\n",
       "    <tr>\n",
       "      <th>count</th>\n",
       "      <td>96888.000000</td>\n",
       "      <td>96888.000000</td>\n",
       "      <td>96888.000000</td>\n",
       "      <td>96888.000000</td>\n",
       "    </tr>\n",
       "    <tr>\n",
       "      <th>mean</th>\n",
       "      <td>0.075913</td>\n",
       "      <td>0.024937</td>\n",
       "      <td>0.014511</td>\n",
       "      <td>0.131217</td>\n",
       "    </tr>\n",
       "    <tr>\n",
       "      <th>std</th>\n",
       "      <td>0.107294</td>\n",
       "      <td>0.086121</td>\n",
       "      <td>0.030576</td>\n",
       "      <td>0.152997</td>\n",
       "    </tr>\n",
       "    <tr>\n",
       "      <th>min</th>\n",
       "      <td>0.000000</td>\n",
       "      <td>-0.828049</td>\n",
       "      <td>0.000000</td>\n",
       "      <td>0.000000</td>\n",
       "    </tr>\n",
       "    <tr>\n",
       "      <th>25%</th>\n",
       "      <td>0.000000</td>\n",
       "      <td>0.000000</td>\n",
       "      <td>0.000000</td>\n",
       "      <td>0.000000</td>\n",
       "    </tr>\n",
       "    <tr>\n",
       "      <th>50%</th>\n",
       "      <td>0.039216</td>\n",
       "      <td>0.000000</td>\n",
       "      <td>0.003472</td>\n",
       "      <td>0.085155</td>\n",
       "    </tr>\n",
       "    <tr>\n",
       "      <th>75%</th>\n",
       "      <td>0.111111</td>\n",
       "      <td>0.034601</td>\n",
       "      <td>0.013889</td>\n",
       "      <td>0.198357</td>\n",
       "    </tr>\n",
       "    <tr>\n",
       "      <th>max</th>\n",
       "      <td>1.000000</td>\n",
       "      <td>0.922328</td>\n",
       "      <td>0.677083</td>\n",
       "      <td>0.996942</td>\n",
       "    </tr>\n",
       "  </tbody>\n",
       "</table>\n",
       "</div>"
      ],
      "text/plain": [
       "           jac_diff      cos_diff      ham_diff   tanimo_diff\n",
       "count  96888.000000  96888.000000  96888.000000  96888.000000\n",
       "mean       0.075913      0.024937      0.014511      0.131217\n",
       "std        0.107294      0.086121      0.030576      0.152997\n",
       "min        0.000000     -0.828049      0.000000      0.000000\n",
       "25%        0.000000      0.000000      0.000000      0.000000\n",
       "50%        0.039216      0.000000      0.003472      0.085155\n",
       "75%        0.111111      0.034601      0.013889      0.198357\n",
       "max        1.000000      0.922328      0.677083      0.996942"
      ]
     },
     "execution_count": 359,
     "metadata": {},
     "output_type": "execute_result"
    }
   ],
   "source": [
    "sim_result_cb[['jac_diff', 'cos_diff','ham_diff', 'tanimo_diff']].describe()"
   ]
  },
  {
   "cell_type": "code",
   "execution_count": 295,
   "metadata": {},
   "outputs": [
    {
     "data": {
      "text/plain": [
       "Text(0.5, 1.0, 'similarity hist with taz trajectory')"
      ]
     },
     "execution_count": 295,
     "metadata": {},
     "output_type": "execute_result"
    },
    {
     "data": {
      "image/png": "[encoded data removed]",
      "text/plain": [
       "<Figure size 432x288 with 1 Axes>"
      ]
     },
     "metadata": {
      "needs_background": "light"
     },
     "output_type": "display_data"
    },
    {
     "data": {
      "image/png": "[encoded data removed]",
      "text/plain": [
       "<Figure size 432x288 with 1 Axes>"
      ]
     },
     "metadata": {
      "needs_background": "light"
     },
     "output_type": "display_data"
    }
   ],
   "source": [
    "colors = ['royalblue', 'cornflowerblue', 'navajowhite', 'orange']\n",
    "n_bins = 10\n",
    "fig, ax0 = plt.subplots()\n",
    "\n",
    "ax0.hist(sim_result[['jac', 'cos', 'ham', 'tanimo']].values, \n",
    "         n_bins, density=True, histtype='bar', color=colors, \n",
    "         label=['jac', 'cos', 'ham', 'tanimo'])\n",
    "\n",
    "ax0.legend(loc='best', bbox_to_anchor=(0.8,0,0.5,0.8),\n",
    "           prop={'size': 10})\n",
    "ax0.set_title('similarity hist')\n",
    "\n",
    "colors = ['royalblue', 'cornflowerblue', 'navajowhite', 'orange']\n",
    "n_bins = 10\n",
    "fig, ax0 = plt.subplots()\n",
    "\n",
    "ax0.hist(sim_result_taz[['jac', 'cos', 'ham', 'tanimo']].values, \n",
    "         n_bins, density=True, histtype='bar', color=colors, \n",
    "         label=['jac', 'cos', 'ham', 'tanimo'])\n",
    "\n",
    "ax0.legend(loc='best', bbox_to_anchor=(0.8,0,0.5,0.8),\n",
    "           prop={'size': 10})\n",
    "ax0.set_title('similarity hist with taz trajectory')"
   ]
  },
  {
   "cell_type": "markdown",
   "metadata": {},
   "source": [
    "Based on previous data exploration, it is found that people with similar app-usage pattern != people with similar trajectory, even for the same people within different days."
   ]
  },
  {
   "cell_type": "markdown",
   "metadata": {},
   "source": [
    "### 3d data processing (combine time, spacial and obs info)"
   ]
  },
  {
   "cell_type": "code",
   "execution_count": 41,
   "metadata": {},
   "outputs": [],
   "source": [
    "def get_sim_result_3d(mx, newid):\n",
    "    num_row = mx.shape[0]\n",
    "    idx = 0\n",
    "    for i in range(num_row-1):\n",
    "        for j in range(i+1, num_row):\n",
    "            if idx == 0:\n",
    "                sim_mx = cal_similarity(mx[i], mx[j])\n",
    "                sim_mx = np.hstack(([newid, i,j], sim_mx))\n",
    "                idx = 1\n",
    "            else:\n",
    "                cur_mx = cal_similarity(mx[i], mx[j])\n",
    "                cur_mx = np.hstack(([newid, i,j], cur_mx))\n",
    "                sim_mx = np.vstack((sim_mx, cur_mx))\n",
    "    sim_result = pd.DataFrame(sim_mx)\n",
    "    sim_result.columns = ['newid', 'day1', 'day2', 'jac', 'cos', 'ham', 'tanimo']\n",
    "    #print(sim_result.describe())\n",
    "    return(sim_result)"
   ]
  },
  {
   "cell_type": "code",
   "execution_count": 42,
   "metadata": {},
   "outputs": [],
   "source": [
    "#ids = np.unique(dt12days.newid)\n",
    "idx = 0\n",
    "for ids in np.unique(dt12days['newid']):\n",
    "    testdt = dt12days[dt12days['newid']==ids]\n",
    "    mx3d, mx2dtaz, mx2d01 = convertdt2mx(testdt, dt12days)\n",
    "    mx3d = mx3d.reshape(mx3d.shape[0], -1)\n",
    "    #print(mx3d.shape)\n",
    "    if idx == 0:\n",
    "        sim_result_ts = get_sim_result_3d(mx3d, ids)\n",
    "        idx = 1\n",
    "    else:\n",
    "        cur_result = get_sim_result(mx3d, ids)\n",
    "        sim_result_ts = pd.concat((sim_result_ts, cur_result))"
   ]
  },
  {
   "cell_type": "code",
   "execution_count": null,
   "metadata": {},
   "outputs": [],
   "source": []
  },
  {
   "cell_type": "code",
   "execution_count": 123,
   "metadata": {},
   "outputs": [
    {
     "data": {
      "text/html": [
       "<div>\n",
       "<style scoped>\n",
       "    .dataframe tbody tr th:only-of-type {\n",
       "        vertical-align: middle;\n",
       "    }\n",
       "\n",
       "    .dataframe tbody tr th {\n",
       "        vertical-align: top;\n",
       "    }\n",
       "\n",
       "    .dataframe thead th {\n",
       "        text-align: right;\n",
       "    }\n",
       "</style>\n",
       "<table border=\"1\" class=\"dataframe\">\n",
       "  <thead>\n",
       "    <tr style=\"text-align: right;\">\n",
       "      <th></th>\n",
       "      <th>newid</th>\n",
       "      <th>day1</th>\n",
       "      <th>day2</th>\n",
       "      <th>jac</th>\n",
       "      <th>cos</th>\n",
       "      <th>ham</th>\n",
       "      <th>tanimo</th>\n",
       "    </tr>\n",
       "  </thead>\n",
       "  <tbody>\n",
       "    <tr>\n",
       "      <th>count</th>\n",
       "      <td>96879.000000</td>\n",
       "      <td>96879.000000</td>\n",
       "      <td>96879.000000</td>\n",
       "      <td>96879.000000</td>\n",
       "      <td>96879.000000</td>\n",
       "      <td>96879.000000</td>\n",
       "      <td>96879.000000</td>\n",
       "    </tr>\n",
       "    <tr>\n",
       "      <th>mean</th>\n",
       "      <td>229384.913624</td>\n",
       "      <td>3.333344</td>\n",
       "      <td>7.666760</td>\n",
       "      <td>0.054889</td>\n",
       "      <td>0.096494</td>\n",
       "      <td>0.998875</td>\n",
       "      <td>0.054889</td>\n",
       "    </tr>\n",
       "    <tr>\n",
       "      <th>std</th>\n",
       "      <td>135172.265901</td>\n",
       "      <td>2.687436</td>\n",
       "      <td>2.687433</td>\n",
       "      <td>0.088589</td>\n",
       "      <td>0.138756</td>\n",
       "      <td>0.000990</td>\n",
       "      <td>0.088589</td>\n",
       "    </tr>\n",
       "    <tr>\n",
       "      <th>min</th>\n",
       "      <td>32.000000</td>\n",
       "      <td>0.000000</td>\n",
       "      <td>1.000000</td>\n",
       "      <td>0.000000</td>\n",
       "      <td>0.000000</td>\n",
       "      <td>0.989375</td>\n",
       "      <td>0.000000</td>\n",
       "    </tr>\n",
       "    <tr>\n",
       "      <th>25%</th>\n",
       "      <td>105717.000000</td>\n",
       "      <td>1.000000</td>\n",
       "      <td>6.000000</td>\n",
       "      <td>0.000000</td>\n",
       "      <td>0.000000</td>\n",
       "      <td>0.998482</td>\n",
       "      <td>0.000000</td>\n",
       "    </tr>\n",
       "    <tr>\n",
       "      <th>50%</th>\n",
       "      <td>229610.000000</td>\n",
       "      <td>3.000000</td>\n",
       "      <td>8.000000</td>\n",
       "      <td>0.011765</td>\n",
       "      <td>0.025717</td>\n",
       "      <td>0.999148</td>\n",
       "      <td>0.011765</td>\n",
       "    </tr>\n",
       "    <tr>\n",
       "      <th>75%</th>\n",
       "      <td>348220.000000</td>\n",
       "      <td>5.000000</td>\n",
       "      <td>10.000000</td>\n",
       "      <td>0.078431</td>\n",
       "      <td>0.154303</td>\n",
       "      <td>0.999584</td>\n",
       "      <td>0.078431</td>\n",
       "    </tr>\n",
       "    <tr>\n",
       "      <th>max</th>\n",
       "      <td>458380.000000</td>\n",
       "      <td>10.000000</td>\n",
       "      <td>11.000000</td>\n",
       "      <td>0.827957</td>\n",
       "      <td>0.907454</td>\n",
       "      <td>0.999979</td>\n",
       "      <td>0.827957</td>\n",
       "    </tr>\n",
       "  </tbody>\n",
       "</table>\n",
       "</div>"
      ],
      "text/plain": [
       "               newid          day1          day2           jac           cos  \\\n",
       "count   96879.000000  96879.000000  96879.000000  96879.000000  96879.000000   \n",
       "mean   229384.913624      3.333344      7.666760      0.054889      0.096494   \n",
       "std    135172.265901      2.687436      2.687433      0.088589      0.138756   \n",
       "min        32.000000      0.000000      1.000000      0.000000      0.000000   \n",
       "25%    105717.000000      1.000000      6.000000      0.000000      0.000000   \n",
       "50%    229610.000000      3.000000      8.000000      0.011765      0.025717   \n",
       "75%    348220.000000      5.000000     10.000000      0.078431      0.154303   \n",
       "max    458380.000000     10.000000     11.000000      0.827957      0.907454   \n",
       "\n",
       "                ham        tanimo  \n",
       "count  96879.000000  96879.000000  \n",
       "mean       0.998875      0.054889  \n",
       "std        0.000990      0.088589  \n",
       "min        0.989375      0.000000  \n",
       "25%        0.998482      0.000000  \n",
       "50%        0.999148      0.011765  \n",
       "75%        0.999584      0.078431  \n",
       "max        0.999979      0.827957  "
      ]
     },
     "execution_count": 123,
     "metadata": {},
     "output_type": "execute_result"
    }
   ],
   "source": [
    "#same people, but different day\n",
    "sim_result_ts.to_csv('sim_result_ts.csv')\n",
    "sim_result_ts[sim_result_ts['jac']!=1].describe()"
   ]
  },
  {
   "cell_type": "code",
   "execution_count": 125,
   "metadata": {},
   "outputs": [
    {
     "name": "stdout",
     "output_type": "stream",
     "text": [
      "mean newid     229384.913624\n",
      "day1           3.333344\n",
      "day2           7.666760\n",
      "jac            0.054889\n",
      "cos            0.096494\n",
      "ham            0.998875\n",
      "tanimo         0.054889\n",
      "Name: mean, dtype: float64\n",
      "\n",
      "\n",
      "max newid     458380.000000\n",
      "day1          10.000000\n",
      "day2          11.000000\n",
      "jac            0.827957\n",
      "cos            0.907454\n",
      "ham            0.999979\n",
      "tanimo         0.827957\n",
      "Name: max, dtype: float64\n"
     ]
    }
   ],
   "source": [
    "sameday_result = sim_result_ts[sim_result_ts['jac']!=1].describe()\n",
    "\n",
    "print('mean', sameday_result.iloc[1, :])\n",
    "print('\\n')\n",
    "print('max', sameday_result.iloc[-1, :])"
   ]
  },
  {
   "cell_type": "code",
   "execution_count": null,
   "metadata": {},
   "outputs": [],
   "source": []
  },
  {
   "cell_type": "code",
   "execution_count": 70,
   "metadata": {},
   "outputs": [
    {
     "name": "stdout",
     "output_type": "stream",
     "text": [
      "8947 2 1 2 7 [1.]\n",
      "95455 1 0 1 3 [1.]\n",
      "108841 2 1 5 7 [1.]\n",
      "139975 2 0 8 9 [1.]\n",
      "167258 0 2 0 8 [1.]\n",
      "307490 1 1 1 7 [1.]\n",
      "326739 2 0 2 3 [1.]\n",
      "343696 0 2 3 5 [1.]\n",
      "343696 1 2 7 11 [2.]\n"
     ]
    }
   ],
   "source": [
    "for newid, day1, day2 in sim_result_ts[['newid','day1','day2']][sim_result_ts['cos']==1].values:\n",
    "    print(int(newid), int(day1%3), int(day2%3), int(day1), int(day2),\n",
    "          obs_sum[['num_obs']][(obs_sum['day']==day1)&(obs_sum['newid']==newid)].values[0])"
   ]
  },
  {
   "cell_type": "code",
   "execution_count": 129,
   "metadata": {},
   "outputs": [],
   "source": [
    "#different people, within same day\n",
    "newids = np.unique(dt12days['newid'])\n",
    "num_ids = len(newids)\n",
    "\n",
    "def get_mx(dt12days, ids):\n",
    "    testdt = dt12days[dt12days['newid']==ids]\n",
    "    mx3d = convertdt2mx(testdt, dt12days, return_3d=True)\n",
    "    return mx3d.reshape(mx3d.shape[0], -1)\n",
    "\n",
    "def get_simresult_sameday(mx1, mx2, ids1, ids2):\n",
    "    num_row = mx1.shape[0]\n",
    "    idx = 0\n",
    "    for d in range(num_row):\n",
    "        if idx == 0:\n",
    "            sim_mx = cal_similarity(mx1[d], mx2[d])\n",
    "            sim_mx = np.hstack(([ids1, ids2, d], sim_mx))\n",
    "            idx = 1\n",
    "        else:\n",
    "            cur_mx = cal_similarity(mx1[d], mx2[d])\n",
    "            cur_mx = np.hstack(([ids1, ids2, d], cur_mx))\n",
    "            sim_mx = np.vstack((sim_mx, cur_mx))\n",
    "    sim_result = pd.DataFrame(sim_mx)\n",
    "    sim_result.columns = ['id1', 'id2', 'day', 'jac', 'cos', 'ham', 'tanimo']\n",
    "    #print(sim_result.describe())\n",
    "    return(sim_result)\n",
    "'''\n",
    "idx = 0\n",
    "for i in range(num_ids-1):\n",
    "    for j in range(i+1, num_ids):\n",
    "        if i>= 751 and j >1154:\n",
    "            mx_i = get_mx(dt12days, newids[i])\n",
    "            mx_j = get_mx(dt12days, newids[j])\n",
    "            if idx == 0:\n",
    "                sim_result_idsameday2 = get_simresult_sameday(mx_i, mx_j, newids[i], newids[j])\n",
    "                idx = 1\n",
    "            else:\n",
    "                cur_result = get_simresult_sameday(mx_i, mx_j, newids[i], newids[j])\n",
    "                sim_result_idsameday2 = pd.concat((sim_result_idsameday2, cur_result))\n",
    "\n",
    "sim_result_idsameday = pd.concat((sim_result_idsameday, sim_result_idsameday2))'''"
   ]
  },
  {
   "cell_type": "code",
   "execution_count": 91,
   "metadata": {},
   "outputs": [],
   "source": [
    "ids_dict = {}\n",
    "idx = 0\n",
    "for i in newids:\n",
    "    ids_dict[i] = idx\n",
    "    idx += 1"
   ]
  },
  {
   "cell_type": "code",
   "execution_count": 168,
   "metadata": {},
   "outputs": [
    {
     "data": {
      "text/plain": [
       "0     0.148148\n",
       "1     0.108108\n",
       "2     0.197917\n",
       "3     0.259259\n",
       "4     0.206349\n",
       "        ...   \n",
       "31    0.080000\n",
       "33    0.100000\n",
       "37    0.062500\n",
       "46    0.081081\n",
       "59    0.034483\n",
       "Name: jac, Length: 49724, dtype: float64"
      ]
     },
     "execution_count": 168,
     "metadata": {},
     "output_type": "execute_result"
    }
   ],
   "source": [
    "sim_result_ts.jac[sim_result_ts.jac!=0]"
   ]
  },
  {
   "cell_type": "code",
   "execution_count": 184,
   "metadata": {},
   "outputs": [
    {
     "data": {
      "text/html": [
       "<div>\n",
       "<style scoped>\n",
       "    .dataframe tbody tr th:only-of-type {\n",
       "        vertical-align: middle;\n",
       "    }\n",
       "\n",
       "    .dataframe tbody tr th {\n",
       "        vertical-align: top;\n",
       "    }\n",
       "\n",
       "    .dataframe thead th {\n",
       "        text-align: right;\n",
       "    }\n",
       "</style>\n",
       "<table border=\"1\" class=\"dataframe\">\n",
       "  <thead>\n",
       "    <tr style=\"text-align: right;\">\n",
       "      <th></th>\n",
       "      <th>id1</th>\n",
       "      <th>id2</th>\n",
       "      <th>day</th>\n",
       "      <th>jac</th>\n",
       "      <th>cos</th>\n",
       "      <th>ham</th>\n",
       "      <th>tanimo</th>\n",
       "    </tr>\n",
       "  </thead>\n",
       "  <tbody>\n",
       "    <tr>\n",
       "      <th>0</th>\n",
       "      <td>32.0</td>\n",
       "      <td>595.0</td>\n",
       "      <td>0.0</td>\n",
       "      <td>0.0</td>\n",
       "      <td>0.0</td>\n",
       "      <td>0.998919</td>\n",
       "      <td>0.0</td>\n",
       "    </tr>\n",
       "    <tr>\n",
       "      <th>1</th>\n",
       "      <td>32.0</td>\n",
       "      <td>595.0</td>\n",
       "      <td>1.0</td>\n",
       "      <td>0.0</td>\n",
       "      <td>0.0</td>\n",
       "      <td>0.998565</td>\n",
       "      <td>0.0</td>\n",
       "    </tr>\n",
       "    <tr>\n",
       "      <th>2</th>\n",
       "      <td>32.0</td>\n",
       "      <td>595.0</td>\n",
       "      <td>2.0</td>\n",
       "      <td>0.0</td>\n",
       "      <td>0.0</td>\n",
       "      <td>0.998877</td>\n",
       "      <td>0.0</td>\n",
       "    </tr>\n",
       "    <tr>\n",
       "      <th>3</th>\n",
       "      <td>32.0</td>\n",
       "      <td>595.0</td>\n",
       "      <td>3.0</td>\n",
       "      <td>0.0</td>\n",
       "      <td>0.0</td>\n",
       "      <td>0.998129</td>\n",
       "      <td>0.0</td>\n",
       "    </tr>\n",
       "    <tr>\n",
       "      <th>4</th>\n",
       "      <td>32.0</td>\n",
       "      <td>595.0</td>\n",
       "      <td>4.0</td>\n",
       "      <td>0.0</td>\n",
       "      <td>0.0</td>\n",
       "      <td>0.998461</td>\n",
       "      <td>0.0</td>\n",
       "    </tr>\n",
       "    <tr>\n",
       "      <th>...</th>\n",
       "      <td>...</td>\n",
       "      <td>...</td>\n",
       "      <td>...</td>\n",
       "      <td>...</td>\n",
       "      <td>...</td>\n",
       "      <td>...</td>\n",
       "      <td>...</td>\n",
       "    </tr>\n",
       "    <tr>\n",
       "      <th>7</th>\n",
       "      <td>458213.0</td>\n",
       "      <td>458380.0</td>\n",
       "      <td>7.0</td>\n",
       "      <td>0.0</td>\n",
       "      <td>0.0</td>\n",
       "      <td>0.999314</td>\n",
       "      <td>0.0</td>\n",
       "    </tr>\n",
       "    <tr>\n",
       "      <th>8</th>\n",
       "      <td>458213.0</td>\n",
       "      <td>458380.0</td>\n",
       "      <td>8.0</td>\n",
       "      <td>0.0</td>\n",
       "      <td>0.0</td>\n",
       "      <td>0.999314</td>\n",
       "      <td>0.0</td>\n",
       "    </tr>\n",
       "    <tr>\n",
       "      <th>9</th>\n",
       "      <td>458213.0</td>\n",
       "      <td>458380.0</td>\n",
       "      <td>9.0</td>\n",
       "      <td>0.0</td>\n",
       "      <td>0.0</td>\n",
       "      <td>0.999355</td>\n",
       "      <td>0.0</td>\n",
       "    </tr>\n",
       "    <tr>\n",
       "      <th>10</th>\n",
       "      <td>458213.0</td>\n",
       "      <td>458380.0</td>\n",
       "      <td>10.0</td>\n",
       "      <td>0.0</td>\n",
       "      <td>0.0</td>\n",
       "      <td>0.999397</td>\n",
       "      <td>0.0</td>\n",
       "    </tr>\n",
       "    <tr>\n",
       "      <th>11</th>\n",
       "      <td>458213.0</td>\n",
       "      <td>458380.0</td>\n",
       "      <td>11.0</td>\n",
       "      <td>0.0</td>\n",
       "      <td>0.0</td>\n",
       "      <td>0.999626</td>\n",
       "      <td>0.0</td>\n",
       "    </tr>\n",
       "  </tbody>\n",
       "</table>\n",
       "<p>11949300 rows × 7 columns</p>\n",
       "</div>"
      ],
      "text/plain": [
       "         id1       id2   day  jac  cos       ham  tanimo\n",
       "0       32.0     595.0   0.0  0.0  0.0  0.998919     0.0\n",
       "1       32.0     595.0   1.0  0.0  0.0  0.998565     0.0\n",
       "2       32.0     595.0   2.0  0.0  0.0  0.998877     0.0\n",
       "3       32.0     595.0   3.0  0.0  0.0  0.998129     0.0\n",
       "4       32.0     595.0   4.0  0.0  0.0  0.998461     0.0\n",
       "..       ...       ...   ...  ...  ...       ...     ...\n",
       "7   458213.0  458380.0   7.0  0.0  0.0  0.999314     0.0\n",
       "8   458213.0  458380.0   8.0  0.0  0.0  0.999314     0.0\n",
       "9   458213.0  458380.0   9.0  0.0  0.0  0.999355     0.0\n",
       "10  458213.0  458380.0  10.0  0.0  0.0  0.999397     0.0\n",
       "11  458213.0  458380.0  11.0  0.0  0.0  0.999626     0.0\n",
       "\n",
       "[11949300 rows x 7 columns]"
      ]
     },
     "execution_count": 184,
     "metadata": {},
     "output_type": "execute_result"
    }
   ],
   "source": [
    "sim_result_idsameday"
   ]
  },
  {
   "cell_type": "code",
   "execution_count": 185,
   "metadata": {
    "scrolled": false
   },
   "outputs": [],
   "source": [
    "#similarity parameters check\n",
    "def get_para(sim_result):\n",
    "    print('data descrip with sim>0', sim_result[sim_result['jac']!=0].describe())\n",
    "    num_idg1 = len(np.unique(sim_result['newid'][sim_result['jac']!=0]))\n",
    "    num_id = len(np.unique(sim_result['newid']))\n",
    "    print(f'\\n# of ids = {num_id}, # of ids with sim>0 = {num_idg1}, % = {num_idg1/num_id}')\n",
    "    \n",
    "\n",
    "def plot_hist(sim_result):\n",
    "    fig, ((ax1, ax2), (ax3, ax4)) = plt.subplots(2, 2, figsize=(16, 6))\n",
    "    fig.suptitle('hist of the similarity')\n",
    "    ax1.set_title('jac, w.o. 0')\n",
    "    ax1.hist(sim_result[['jac']][sim_result['jac']!=0].values)\n",
    "    ax2.set_title('jac')\n",
    "    ax2.hist(sim_result[['jac']])\n",
    "    \n",
    "    ax3.set_title('cos, w.o. 0')\n",
    "    ax3.hist(sim_result[['cos']][sim_result['cos']!=0])\n",
    "    ax4.set_title('cos')\n",
    "    ax4.hist(sim_result[['cos']])\n"
   ]
  },
  {
   "cell_type": "code",
   "execution_count": 186,
   "metadata": {},
   "outputs": [
    {
     "name": "stdout",
     "output_type": "stream",
     "text": [
      "data descrip with sim>0                newid          day1          day2           jac           cos  \\\n",
      "count   49724.000000  49724.000000  49724.000000  49724.000000  49724.000000   \n",
      "mean   231813.311821      3.342209      7.645543      0.107122      0.188183   \n",
      "std    137196.219800      2.692796      2.689466      0.099328      0.142902   \n",
      "min        32.000000      0.000000      1.000000      0.003012      0.006090   \n",
      "25%    105010.000000      1.000000      6.000000      0.037500      0.078947   \n",
      "50%    231711.000000      3.000000      8.000000      0.076433      0.150075   \n",
      "75%    355892.000000      5.000000     10.000000      0.142857      0.258544   \n",
      "max    458380.000000     10.000000     11.000000      1.000000      1.000000   \n",
      "\n",
      "                ham        tanimo  \n",
      "count  49724.000000  49724.000000  \n",
      "mean       0.998439      0.107122  \n",
      "std        0.001079      0.099328  \n",
      "min        0.989375      0.003012  \n",
      "25%        0.997983      0.037500  \n",
      "50%        0.998669      0.076433  \n",
      "75%        0.999189      0.142857  \n",
      "max        1.000000      1.000000  \n",
      "\n",
      "# of ids = 1468, # of ids with sim>0 = 1443, % = 0.9829700272479565\n"
     ]
    },
    {
     "data": {
      "image/png": "[encoded data removed]",
      "text/plain": [
       "<Figure size 1152x432 with 4 Axes>"
      ]
     },
     "metadata": {
      "needs_background": "light"
     },
     "output_type": "display_data"
    }
   ],
   "source": [
    "#iner comparison between individuals\n",
    "get_para(sim_result_ts)\n",
    "plot_hist(sim_result_ts)"
   ]
  },
  {
   "cell_type": "code",
   "execution_count": null,
   "metadata": {},
   "outputs": [],
   "source": [
    "#individuals vs individuals\n",
    "#sim_result_idsameday.to_csv('C:\\\\Users\\\\Yiran\\\\Desktop\\\\YiranZhang\\\\sim_result_idsameday.csv')"
   ]
  },
  {
   "cell_type": "code",
   "execution_count": 212,
   "metadata": {},
   "outputs": [
    {
     "data": {
      "text/html": [
       "<div>\n",
       "<style scoped>\n",
       "    .dataframe tbody tr th:only-of-type {\n",
       "        vertical-align: middle;\n",
       "    }\n",
       "\n",
       "    .dataframe tbody tr th {\n",
       "        vertical-align: top;\n",
       "    }\n",
       "\n",
       "    .dataframe thead th {\n",
       "        text-align: right;\n",
       "    }\n",
       "</style>\n",
       "<table border=\"1\" class=\"dataframe\">\n",
       "  <thead>\n",
       "    <tr style=\"text-align: right;\">\n",
       "      <th></th>\n",
       "      <th>id1</th>\n",
       "      <th>id2</th>\n",
       "      <th>day</th>\n",
       "      <th>jac</th>\n",
       "      <th>cos</th>\n",
       "      <th>ham</th>\n",
       "      <th>tanimo</th>\n",
       "    </tr>\n",
       "  </thead>\n",
       "  <tbody>\n",
       "    <tr>\n",
       "      <th>count</th>\n",
       "      <td>256582.000000</td>\n",
       "      <td>256582.000000</td>\n",
       "      <td>256582.000000</td>\n",
       "      <td>256582.000000</td>\n",
       "      <td>256582.000000</td>\n",
       "      <td>256582.000000</td>\n",
       "      <td>256582.000000</td>\n",
       "    </tr>\n",
       "    <tr>\n",
       "      <th>mean</th>\n",
       "      <td>144365.813857</td>\n",
       "      <td>310315.198712</td>\n",
       "      <td>5.494150</td>\n",
       "      <td>0.020512</td>\n",
       "      <td>0.046000</td>\n",
       "      <td>0.997748</td>\n",
       "      <td>0.020512</td>\n",
       "    </tr>\n",
       "    <tr>\n",
       "      <th>std</th>\n",
       "      <td>110814.489456</td>\n",
       "      <td>113144.297751</td>\n",
       "      <td>3.448991</td>\n",
       "      <td>0.024620</td>\n",
       "      <td>0.046735</td>\n",
       "      <td>0.001280</td>\n",
       "      <td>0.024620</td>\n",
       "    </tr>\n",
       "    <tr>\n",
       "      <th>min</th>\n",
       "      <td>32.000000</td>\n",
       "      <td>1197.000000</td>\n",
       "      <td>0.000000</td>\n",
       "      <td>0.001653</td>\n",
       "      <td>0.003496</td>\n",
       "      <td>0.987442</td>\n",
       "      <td>0.001653</td>\n",
       "    </tr>\n",
       "    <tr>\n",
       "      <th>25%</th>\n",
       "      <td>55687.000000</td>\n",
       "      <td>222550.000000</td>\n",
       "      <td>2.000000</td>\n",
       "      <td>0.008403</td>\n",
       "      <td>0.019811</td>\n",
       "      <td>0.997089</td>\n",
       "      <td>0.008403</td>\n",
       "    </tr>\n",
       "    <tr>\n",
       "      <th>50%</th>\n",
       "      <td>116151.000000</td>\n",
       "      <td>337132.000000</td>\n",
       "      <td>6.000000</td>\n",
       "      <td>0.012987</td>\n",
       "      <td>0.031311</td>\n",
       "      <td>0.997983</td>\n",
       "      <td>0.012987</td>\n",
       "    </tr>\n",
       "    <tr>\n",
       "      <th>75%</th>\n",
       "      <td>211645.000000</td>\n",
       "      <td>405704.000000</td>\n",
       "      <td>8.000000</td>\n",
       "      <td>0.022472</td>\n",
       "      <td>0.053300</td>\n",
       "      <td>0.998649</td>\n",
       "      <td>0.022472</td>\n",
       "    </tr>\n",
       "    <tr>\n",
       "      <th>max</th>\n",
       "      <td>457200.000000</td>\n",
       "      <td>458380.000000</td>\n",
       "      <td>11.000000</td>\n",
       "      <td>0.666667</td>\n",
       "      <td>0.816497</td>\n",
       "      <td>0.999979</td>\n",
       "      <td>0.666667</td>\n",
       "    </tr>\n",
       "  </tbody>\n",
       "</table>\n",
       "</div>"
      ],
      "text/plain": [
       "                 id1            id2            day            jac  \\\n",
       "count  256582.000000  256582.000000  256582.000000  256582.000000   \n",
       "mean   144365.813857  310315.198712       5.494150       0.020512   \n",
       "std    110814.489456  113144.297751       3.448991       0.024620   \n",
       "min        32.000000    1197.000000       0.000000       0.001653   \n",
       "25%     55687.000000  222550.000000       2.000000       0.008403   \n",
       "50%    116151.000000  337132.000000       6.000000       0.012987   \n",
       "75%    211645.000000  405704.000000       8.000000       0.022472   \n",
       "max    457200.000000  458380.000000      11.000000       0.666667   \n",
       "\n",
       "                 cos            ham         tanimo  \n",
       "count  256582.000000  256582.000000  256582.000000  \n",
       "mean        0.046000       0.997748       0.020512  \n",
       "std         0.046735       0.001280       0.024620  \n",
       "min         0.003496       0.987442       0.001653  \n",
       "25%         0.019811       0.997089       0.008403  \n",
       "50%         0.031311       0.997983       0.012987  \n",
       "75%         0.053300       0.998649       0.022472  \n",
       "max         0.816497       0.999979       0.666667  "
      ]
     },
     "execution_count": 212,
     "metadata": {},
     "output_type": "execute_result"
    }
   ],
   "source": [
    "sim_result_idsameday[sim_result_idsameday['jac']!=0].describe()"
   ]
  },
  {
   "cell_type": "code",
   "execution_count": 187,
   "metadata": {},
   "outputs": [
    {
     "data": {
      "image/png": "[encoded data removed]",
      "text/plain": [
       "<Figure size 1152x432 with 4 Axes>"
      ]
     },
     "metadata": {
      "needs_background": "light"
     },
     "output_type": "display_data"
    }
   ],
   "source": [
    "plot_hist(sim_result_idsameday)"
   ]
  },
  {
   "cell_type": "code",
   "execution_count": 216,
   "metadata": {},
   "outputs": [
    {
     "data": {
      "text/plain": [
       "Text(0, 0.5, 'total # of pair')"
      ]
     },
     "execution_count": 216,
     "metadata": {},
     "output_type": "execute_result"
    },
    {
     "data": {
      "image/png": "[encoded data removed]",
      "text/plain": [
       "<Figure size 432x288 with 1 Axes>"
      ]
     },
     "metadata": {
      "needs_background": "light"
     },
     "output_type": "display_data"
    }
   ],
   "source": [
    "#daypair check\n",
    "daypair = sim_result_idsameday[sim_result_idsameday['jac']!=0].groupby(['day']).size().to_frame()\n",
    "\n",
    "plt.figure(1)\n",
    "plt.bar(daypair.index, daypair[0])\n",
    "plt.title('daily sim>0 check')\n",
    "plt.xlabel('# of day')\n",
    "plt.ylabel('total # of pair')"
   ]
  },
  {
   "cell_type": "code",
   "execution_count": 227,
   "metadata": {},
   "outputs": [
    {
     "data": {
      "text/plain": [
       "Text(0.5, 0, '# of days')"
      ]
     },
     "execution_count": 227,
     "metadata": {},
     "output_type": "execute_result"
    },
    {
     "data": {
      "image/png": "[encoded data removed]",
      "text/plain": [
       "<Figure size 432x288 with 1 Axes>"
      ]
     },
     "metadata": {
      "needs_background": "light"
     },
     "output_type": "display_data"
    }
   ],
   "source": [
    "#pair check\n",
    "#sim_result_idsameday['idpair'] = sim_result_idsameday['id1'].astype(str)+'_'+sim_result_idsameday['id2'].astype(str)\n",
    "idspair = sim_result_idsameday[sim_result_idsameday['jac']!=0].groupby(['idpair']).size().to_frame()\n",
    "plt.figure(1)\n",
    "plt.title('hist of # of days similar pair')\n",
    "plt.hist(idspair[0])\n",
    "plt.xlabel('# of days')"
   ]
  },
  {
   "cell_type": "code",
   "execution_count": 222,
   "metadata": {},
   "outputs": [],
   "source": [
    "idspair = sim_result_idsameday[sim_result_idsameday['jac']!=0].groupby(['idpair', 'day']).size().to_frame()\n",
    "idspair.reset_index(inplace=True)"
   ]
  },
  {
   "cell_type": "code",
   "execution_count": 226,
   "metadata": {},
   "outputs": [
    {
     "data": {
      "text/plain": [
       "Text(0.5, 0, 'day idx')"
      ]
     },
     "execution_count": 226,
     "metadata": {},
     "output_type": "execute_result"
    },
    {
     "data": {
      "image/png": "[encoded data removed]",
      "text/plain": [
       "<Figure size 432x288 with 1 Axes>"
      ]
     },
     "metadata": {
      "needs_background": "light"
     },
     "output_type": "display_data"
    }
   ],
   "source": [
    "plt.title('# of ids with similar index >0')\n",
    "plt.hist(idspair['day'])\n",
    "plt.xlabel('day idx')"
   ]
  },
  {
   "cell_type": "code",
   "execution_count": 164,
   "metadata": {},
   "outputs": [
    {
     "name": "stdout",
     "output_type": "stream",
     "text": [
      "                day           jac           cos\n",
      "count  1.194930e+07  1.194930e+07  1.194930e+07\n",
      "mean   5.500000e+00  4.404478e-04  9.877319e-04\n",
      "std    3.452053e+00  4.675090e-03  9.558201e-03\n",
      "min    0.000000e+00  0.000000e+00  0.000000e+00\n",
      "25%    2.750000e+00  0.000000e+00  0.000000e+00\n",
      "50%    5.500000e+00  0.000000e+00  0.000000e+00\n",
      "75%    8.250000e+00  0.000000e+00  0.000000e+00\n",
      "max    1.100000e+01  6.666667e-01  8.164966e-01\n"
     ]
    }
   ],
   "source": [
    "print(sim_result_idsameday[['day', 'jac', 'cos']].describe())\n",
    "cur = sim_result_idsameday[['day', 'jac', 'cos']].describe()"
   ]
  },
  {
   "cell_type": "code",
   "execution_count": 150,
   "metadata": {},
   "outputs": [
    {
     "name": "stdout",
     "output_type": "stream",
     "text": [
      "mean day    5.500000\n",
      "jac    0.000440\n",
      "cos    0.000988\n",
      "Name: mean, dtype: float64\n"
     ]
    }
   ],
   "source": [
    "print('mean', cur.iloc[1, :])"
   ]
  },
  {
   "cell_type": "code",
   "execution_count": 158,
   "metadata": {},
   "outputs": [
    {
     "name": "stdout",
     "output_type": "stream",
     "text": [
      "max day    11.000000\n",
      "jac     0.666667\n",
      "cos     0.816497\n",
      "Name: max, dtype: float64\n"
     ]
    }
   ],
   "source": [
    "print('max', cur.iloc[-1, :])"
   ]
  },
  {
   "cell_type": "code",
   "execution_count": 110,
   "metadata": {},
   "outputs": [
    {
     "data": {
      "text/plain": [
       "array([[9.84594000e+06, 9.84594000e+06, 9.84594000e+06],\n",
       "       [5.50000000e+00, 4.32697234e-04, 9.70372727e-04],\n",
       "       [3.45205270e+00, 4.63663998e-03, 9.46694672e-03],\n",
       "       [0.00000000e+00, 0.00000000e+00, 0.00000000e+00],\n",
       "       [2.75000000e+00, 0.00000000e+00, 0.00000000e+00],\n",
       "       [5.50000000e+00, 0.00000000e+00, 0.00000000e+00],\n",
       "       [8.25000000e+00, 0.00000000e+00, 0.00000000e+00],\n",
       "       [1.10000000e+01, 6.66666667e-01, 8.16496581e-01]])"
      ]
     },
     "execution_count": 110,
     "metadata": {},
     "output_type": "execute_result"
    }
   ],
   "source": []
  },
  {
   "cell_type": "code",
   "execution_count": 75,
   "metadata": {},
   "outputs": [
    {
     "data": {
      "text/html": [
       "<div>\n",
       "<style scoped>\n",
       "    .dataframe tbody tr th:only-of-type {\n",
       "        vertical-align: middle;\n",
       "    }\n",
       "\n",
       "    .dataframe tbody tr th {\n",
       "        vertical-align: top;\n",
       "    }\n",
       "\n",
       "    .dataframe thead th {\n",
       "        text-align: right;\n",
       "    }\n",
       "</style>\n",
       "<table border=\"1\" class=\"dataframe\">\n",
       "  <thead>\n",
       "    <tr style=\"text-align: right;\">\n",
       "      <th></th>\n",
       "      <th>newid</th>\n",
       "      <th>sum</th>\n",
       "      <th>key</th>\n",
       "      <th>taz</th>\n",
       "      <th>date</th>\n",
       "      <th>time</th>\n",
       "      <th>tazidx</th>\n",
       "      <th>timeidx</th>\n",
       "    </tr>\n",
       "  </thead>\n",
       "  <tbody>\n",
       "    <tr>\n",
       "      <th>166856</th>\n",
       "      <td>343696</td>\n",
       "      <td>1</td>\n",
       "      <td>19_15_20_430</td>\n",
       "      <td>430</td>\n",
       "      <td>19</td>\n",
       "      <td>15:20</td>\n",
       "      <td>5</td>\n",
       "      <td>184</td>\n",
       "    </tr>\n",
       "    <tr>\n",
       "      <th>166855</th>\n",
       "      <td>343696</td>\n",
       "      <td>1</td>\n",
       "      <td>19_15_25_432</td>\n",
       "      <td>432</td>\n",
       "      <td>19</td>\n",
       "      <td>15:25</td>\n",
       "      <td>7</td>\n",
       "      <td>185</td>\n",
       "    </tr>\n",
       "    <tr>\n",
       "      <th>156176</th>\n",
       "      <td>343696</td>\n",
       "      <td>1</td>\n",
       "      <td>27_15_20_430</td>\n",
       "      <td>430</td>\n",
       "      <td>27</td>\n",
       "      <td>15:20</td>\n",
       "      <td>5</td>\n",
       "      <td>184</td>\n",
       "    </tr>\n",
       "    <tr>\n",
       "      <th>156177</th>\n",
       "      <td>343696</td>\n",
       "      <td>1</td>\n",
       "      <td>27_15_25_432</td>\n",
       "      <td>432</td>\n",
       "      <td>27</td>\n",
       "      <td>15:25</td>\n",
       "      <td>7</td>\n",
       "      <td>185</td>\n",
       "    </tr>\n",
       "  </tbody>\n",
       "</table>\n",
       "</div>"
      ],
      "text/plain": [
       "         newid  sum           key  taz  date   time  tazidx  timeidx\n",
       "166856  343696    1  19_15_20_430  430    19  15:20       5      184\n",
       "166855  343696    1  19_15_25_432  432    19  15:25       7      185\n",
       "156176  343696    1  27_15_20_430  430    27  15:20       5      184\n",
       "156177  343696    1  27_15_25_432  432    27  15:25       7      185"
      ]
     },
     "execution_count": 75,
     "metadata": {},
     "output_type": "execute_result"
    }
   ],
   "source": [
    "dt12days[(dt12days['newid']==343696)&(dt12days['date'].isin([19, 27]))]"
   ]
  },
  {
   "cell_type": "code",
   "execution_count": 62,
   "metadata": {},
   "outputs": [
    {
     "data": {
      "text/plain": [
       "(11076, 3)"
      ]
     },
     "execution_count": 62,
     "metadata": {},
     "output_type": "execute_result"
    }
   ],
   "source": [
    "obs_sum[obs_sum['num_obs']>10].shape"
   ]
  },
  {
   "cell_type": "code",
   "execution_count": null,
   "metadata": {},
   "outputs": [],
   "source": [
    "sim_result_idsameday.describe()"
   ]
  },
  {
   "cell_type": "code",
   "execution_count": 398,
   "metadata": {},
   "outputs": [
    {
     "data": {
      "text/plain": [
       "True"
      ]
     },
     "execution_count": 398,
     "metadata": {},
     "output_type": "execute_result"
    }
   ],
   "source": []
  },
  {
   "cell_type": "code",
   "execution_count": null,
   "metadata": {},
   "outputs": [],
   "source": [
    "dt12days[dt12days]"
   ]
  },
  {
   "cell_type": "code",
   "execution_count": 370,
   "metadata": {},
   "outputs": [
    {
     "data": {
      "text/plain": [
       "(288, 167)"
      ]
     },
     "execution_count": 370,
     "metadata": {},
     "output_type": "execute_result"
    }
   ],
   "source": [
    "mx3d[0].shape"
   ]
  },
  {
   "cell_type": "code",
   "execution_count": 221,
   "metadata": {},
   "outputs": [
    {
     "data": {
      "text/plain": [
       "-0.01883441336856574"
      ]
     },
     "execution_count": 221,
     "metadata": {},
     "output_type": "execute_result"
    }
   ],
   "source": [
    "from sklearn.cluster import SpectralCoclustering\n",
    "from sklearn.metrics import silhouette_score\n",
    "from sklearn.cluster import DBSCAN\n",
    "from sklearn.preprocessing import StandardScaler\n",
    "\n",
    "#2d clustering\n",
    "\n",
    "scaler = StandardScaler()\n",
    "mx2d_scaled = scaler.fit_transform(mx2d)\n",
    "\n",
    "eps = 0.3\n",
    "min_samples = 2\n",
    "dbscan = DBSCAN(eps=eps, min_samples=min_samples)\n",
    "\n",
    "labels = dbscan.fit_predict(mx2d_scaled)\n",
    "silhouette_score(mx2d_scaled, model.row_labels_)"
   ]
  },
  {
   "cell_type": "code",
   "execution_count": 217,
   "metadata": {},
   "outputs": [
    {
     "data": {
      "text/plain": [
       "array([-1, -1, -1, -1, -1, -1, -1, -1, -1, -1, -1, -1], dtype=int64)"
      ]
     },
     "execution_count": 217,
     "metadata": {},
     "output_type": "execute_result"
    }
   ],
   "source": [
    "labels"
   ]
  },
  {
   "cell_type": "code",
   "execution_count": 220,
   "metadata": {},
   "outputs": [
    {
     "data": {
      "text/plain": [
       "[<matplotlib.lines.Line2D at 0x1506ed46fd0>]"
      ]
     },
     "execution_count": 220,
     "metadata": {},
     "output_type": "execute_result"
    },
    {
     "data": {
      "image/png": "[encoded data removed]",
      "text/plain": [
       "<Figure size 432x288 with 1 Axes>"
      ]
     },
     "metadata": {
      "needs_background": "light"
     },
     "output_type": "display_data"
    },
    {
     "data": {
      "image/png": "[encoded data removed]",
      "text/plain": [
       "<Figure size 432x288 with 1 Axes>"
      ]
     },
     "metadata": {
      "needs_background": "light"
     },
     "output_type": "display_data"
    }
   ],
   "source": [
    "#3d clustering\n",
    "X = mx3d.reshape(nx*ny, nz)\n",
    "paras = []\n",
    "paras2d = []\n",
    "for k in range(2, 10):\n",
    "    n_clusters = k\n",
    "    model = SpectralCoclustering(n_clusters=n_clusters)\n",
    "    model.fit(X)\n",
    "    row_labels = model.row_labels_\n",
    "    paras.append(silhouette_score(X, model.row_labels_))\n",
    "    \n",
    "    model = SpectralCoclustering(n_clusters=n_clusters)\n",
    "    model.fit(mx2d)\n",
    "    row_labels = model.row_labels_\n",
    "    paras2d.append(silhouette_score(mx2d_scaled, model.row_labels_))\n",
    "\n",
    "    # Visualize the cluster assignments\n",
    "    #fig, ax = plt.subplots(1, 2, figsize=(12, 6))\n",
    "\n",
    "    # Cluster assignments for rows (days)\n",
    "    \n",
    "plt.figure(1)   \n",
    "plt.plot(np.arange(2, 10), paras)\n",
    "\n",
    "plt.figure(2)\n",
    "plt.plot(np.arange(2, 10), paras2d)\n",
    "#ax[0].imshow(X[np.argsort(row_labels)], cmap='viridis')\n",
    "#ax[0].set_title('Row Clustering (Days)')\n",
    "#ax[0].set_xlabel('Zone ID')\n",
    "#ax[0].set_ylabel('Day')\n",
    "\n",
    "# Cluster assignments for columns (minutes of the day)\n",
    "#column_labels = model.column_labels_\n",
    "#ax[1].imshow(X[:, np.argsort(column_labels)], cmap='viridis', aspect='auto')\n",
    "#ax[1].set_title('Column Clustering (5-Minutes of the Day)')\n",
    "#ax[1].set_xlabel('Zone ID')\n",
    "#ax[1].set_ylabel('5-Minute of the Day')\n",
    "\n",
    "#plt.tight_layout()\n",
    "#plt.show()"
   ]
  },
  {
   "cell_type": "code",
   "execution_count": 182,
   "metadata": {},
   "outputs": [
    {
     "data": {
      "text/html": [
       "<div>\n",
       "<style scoped>\n",
       "    .dataframe tbody tr th:only-of-type {\n",
       "        vertical-align: middle;\n",
       "    }\n",
       "\n",
       "    .dataframe tbody tr th {\n",
       "        vertical-align: top;\n",
       "    }\n",
       "\n",
       "    .dataframe thead th {\n",
       "        text-align: right;\n",
       "    }\n",
       "</style>\n",
       "<table border=\"1\" class=\"dataframe\">\n",
       "  <thead>\n",
       "    <tr style=\"text-align: right;\">\n",
       "      <th></th>\n",
       "      <th>newid</th>\n",
       "      <th>sum</th>\n",
       "      <th>key</th>\n",
       "      <th>taz</th>\n",
       "      <th>date</th>\n",
       "      <th>time</th>\n",
       "      <th>timeidx</th>\n",
       "    </tr>\n",
       "  </thead>\n",
       "  <tbody>\n",
       "    <tr>\n",
       "      <th>28</th>\n",
       "      <td>32</td>\n",
       "      <td>1</td>\n",
       "      <td>4_6_35_653</td>\n",
       "      <td>653</td>\n",
       "      <td>4</td>\n",
       "      <td>6:35</td>\n",
       "      <td>79</td>\n",
       "    </tr>\n",
       "    <tr>\n",
       "      <th>14</th>\n",
       "      <td>32</td>\n",
       "      <td>1</td>\n",
       "      <td>4_6_40_512</td>\n",
       "      <td>512</td>\n",
       "      <td>4</td>\n",
       "      <td>6:40</td>\n",
       "      <td>80</td>\n",
       "    </tr>\n",
       "    <tr>\n",
       "      <th>21</th>\n",
       "      <td>32</td>\n",
       "      <td>1</td>\n",
       "      <td>4_6_40_521</td>\n",
       "      <td>521</td>\n",
       "      <td>4</td>\n",
       "      <td>6:40</td>\n",
       "      <td>80</td>\n",
       "    </tr>\n",
       "    <tr>\n",
       "      <th>15</th>\n",
       "      <td>32</td>\n",
       "      <td>2</td>\n",
       "      <td>4_6_45_501</td>\n",
       "      <td>501</td>\n",
       "      <td>4</td>\n",
       "      <td>6:45</td>\n",
       "      <td>81</td>\n",
       "    </tr>\n",
       "    <tr>\n",
       "      <th>37</th>\n",
       "      <td>32</td>\n",
       "      <td>1</td>\n",
       "      <td>4_6_45_502</td>\n",
       "      <td>502</td>\n",
       "      <td>4</td>\n",
       "      <td>6:45</td>\n",
       "      <td>81</td>\n",
       "    </tr>\n",
       "    <tr>\n",
       "      <th>6</th>\n",
       "      <td>32</td>\n",
       "      <td>1</td>\n",
       "      <td>4_6_55_502</td>\n",
       "      <td>502</td>\n",
       "      <td>4</td>\n",
       "      <td>6:55</td>\n",
       "      <td>83</td>\n",
       "    </tr>\n",
       "    <tr>\n",
       "      <th>39</th>\n",
       "      <td>32</td>\n",
       "      <td>1</td>\n",
       "      <td>4_8_20_502</td>\n",
       "      <td>502</td>\n",
       "      <td>4</td>\n",
       "      <td>8:20</td>\n",
       "      <td>100</td>\n",
       "    </tr>\n",
       "    <tr>\n",
       "      <th>20</th>\n",
       "      <td>32</td>\n",
       "      <td>1</td>\n",
       "      <td>4_8_25_502</td>\n",
       "      <td>502</td>\n",
       "      <td>4</td>\n",
       "      <td>8:25</td>\n",
       "      <td>101</td>\n",
       "    </tr>\n",
       "    <tr>\n",
       "      <th>12</th>\n",
       "      <td>32</td>\n",
       "      <td>1</td>\n",
       "      <td>4_8_30_502</td>\n",
       "      <td>502</td>\n",
       "      <td>4</td>\n",
       "      <td>8:30</td>\n",
       "      <td>102</td>\n",
       "    </tr>\n",
       "    <tr>\n",
       "      <th>13</th>\n",
       "      <td>32</td>\n",
       "      <td>1</td>\n",
       "      <td>4_8_40_502</td>\n",
       "      <td>502</td>\n",
       "      <td>4</td>\n",
       "      <td>8:40</td>\n",
       "      <td>104</td>\n",
       "    </tr>\n",
       "    <tr>\n",
       "      <th>26</th>\n",
       "      <td>32</td>\n",
       "      <td>1</td>\n",
       "      <td>4_8_45_502</td>\n",
       "      <td>502</td>\n",
       "      <td>4</td>\n",
       "      <td>8:45</td>\n",
       "      <td>105</td>\n",
       "    </tr>\n",
       "    <tr>\n",
       "      <th>30</th>\n",
       "      <td>32</td>\n",
       "      <td>1</td>\n",
       "      <td>4_8_50_502</td>\n",
       "      <td>502</td>\n",
       "      <td>4</td>\n",
       "      <td>8:50</td>\n",
       "      <td>106</td>\n",
       "    </tr>\n",
       "    <tr>\n",
       "      <th>17</th>\n",
       "      <td>32</td>\n",
       "      <td>1</td>\n",
       "      <td>4_8_55_502</td>\n",
       "      <td>502</td>\n",
       "      <td>4</td>\n",
       "      <td>8:55</td>\n",
       "      <td>107</td>\n",
       "    </tr>\n",
       "    <tr>\n",
       "      <th>10</th>\n",
       "      <td>32</td>\n",
       "      <td>1</td>\n",
       "      <td>4_9_5_502</td>\n",
       "      <td>502</td>\n",
       "      <td>4</td>\n",
       "      <td>9:05</td>\n",
       "      <td>109</td>\n",
       "    </tr>\n",
       "    <tr>\n",
       "      <th>9</th>\n",
       "      <td>32</td>\n",
       "      <td>1</td>\n",
       "      <td>4_9_10_502</td>\n",
       "      <td>502</td>\n",
       "      <td>4</td>\n",
       "      <td>9:10</td>\n",
       "      <td>110</td>\n",
       "    </tr>\n",
       "    <tr>\n",
       "      <th>23</th>\n",
       "      <td>32</td>\n",
       "      <td>1</td>\n",
       "      <td>4_9_25_502</td>\n",
       "      <td>502</td>\n",
       "      <td>4</td>\n",
       "      <td>9:25</td>\n",
       "      <td>113</td>\n",
       "    </tr>\n",
       "    <tr>\n",
       "      <th>40</th>\n",
       "      <td>32</td>\n",
       "      <td>1</td>\n",
       "      <td>4_9_40_502</td>\n",
       "      <td>502</td>\n",
       "      <td>4</td>\n",
       "      <td>9:40</td>\n",
       "      <td>116</td>\n",
       "    </tr>\n",
       "    <tr>\n",
       "      <th>18</th>\n",
       "      <td>32</td>\n",
       "      <td>1</td>\n",
       "      <td>4_9_50_502</td>\n",
       "      <td>502</td>\n",
       "      <td>4</td>\n",
       "      <td>9:50</td>\n",
       "      <td>118</td>\n",
       "    </tr>\n",
       "    <tr>\n",
       "      <th>34</th>\n",
       "      <td>32</td>\n",
       "      <td>1</td>\n",
       "      <td>4_9_55_502</td>\n",
       "      <td>502</td>\n",
       "      <td>4</td>\n",
       "      <td>9:55</td>\n",
       "      <td>119</td>\n",
       "    </tr>\n",
       "    <tr>\n",
       "      <th>31</th>\n",
       "      <td>32</td>\n",
       "      <td>1</td>\n",
       "      <td>4_10_35_502</td>\n",
       "      <td>502</td>\n",
       "      <td>4</td>\n",
       "      <td>10:35</td>\n",
       "      <td>127</td>\n",
       "    </tr>\n",
       "  </tbody>\n",
       "</table>\n",
       "</div>"
      ],
      "text/plain": [
       "    newid  sum          key  taz  date   time  timeidx\n",
       "28     32    1   4_6_35_653  653     4   6:35       79\n",
       "14     32    1   4_6_40_512  512     4   6:40       80\n",
       "21     32    1   4_6_40_521  521     4   6:40       80\n",
       "15     32    2   4_6_45_501  501     4   6:45       81\n",
       "37     32    1   4_6_45_502  502     4   6:45       81\n",
       "6      32    1   4_6_55_502  502     4   6:55       83\n",
       "39     32    1   4_8_20_502  502     4   8:20      100\n",
       "20     32    1   4_8_25_502  502     4   8:25      101\n",
       "12     32    1   4_8_30_502  502     4   8:30      102\n",
       "13     32    1   4_8_40_502  502     4   8:40      104\n",
       "26     32    1   4_8_45_502  502     4   8:45      105\n",
       "30     32    1   4_8_50_502  502     4   8:50      106\n",
       "17     32    1   4_8_55_502  502     4   8:55      107\n",
       "10     32    1    4_9_5_502  502     4   9:05      109\n",
       "9      32    1   4_9_10_502  502     4   9:10      110\n",
       "23     32    1   4_9_25_502  502     4   9:25      113\n",
       "40     32    1   4_9_40_502  502     4   9:40      116\n",
       "18     32    1   4_9_50_502  502     4   9:50      118\n",
       "34     32    1   4_9_55_502  502     4   9:55      119\n",
       "31     32    1  4_10_35_502  502     4  10:35      127"
      ]
     },
     "execution_count": 182,
     "metadata": {},
     "output_type": "execute_result"
    }
   ],
   "source": [
    "testdt.sort_values(by=['date', 'timeidx']).head(20)"
   ]
  },
  {
   "cell_type": "code",
   "execution_count": 125,
   "metadata": {},
   "outputs": [
    {
     "data": {
      "text/html": [
       "<div>\n",
       "<style scoped>\n",
       "    .dataframe tbody tr th:only-of-type {\n",
       "        vertical-align: middle;\n",
       "    }\n",
       "\n",
       "    .dataframe tbody tr th {\n",
       "        vertical-align: top;\n",
       "    }\n",
       "\n",
       "    .dataframe thead th {\n",
       "        text-align: right;\n",
       "    }\n",
       "</style>\n",
       "<table border=\"1\" class=\"dataframe\">\n",
       "  <thead>\n",
       "    <tr style=\"text-align: right;\">\n",
       "      <th></th>\n",
       "      <th>newid</th>\n",
       "      <th>sum</th>\n",
       "      <th>key</th>\n",
       "      <th>taz</th>\n",
       "      <th>date</th>\n",
       "      <th>time</th>\n",
       "      <th>timeidx</th>\n",
       "    </tr>\n",
       "  </thead>\n",
       "  <tbody>\n",
       "    <tr>\n",
       "      <th>4</th>\n",
       "      <td>32</td>\n",
       "      <td>1</td>\n",
       "      <td>4_11_35_502</td>\n",
       "      <td>502</td>\n",
       "      <td>4</td>\n",
       "      <td>11:35</td>\n",
       "      <td>139</td>\n",
       "    </tr>\n",
       "    <tr>\n",
       "      <th>5</th>\n",
       "      <td>32</td>\n",
       "      <td>1</td>\n",
       "      <td>4_12_10_502</td>\n",
       "      <td>502</td>\n",
       "      <td>4</td>\n",
       "      <td>12:10</td>\n",
       "      <td>146</td>\n",
       "    </tr>\n",
       "    <tr>\n",
       "      <th>6</th>\n",
       "      <td>32</td>\n",
       "      <td>1</td>\n",
       "      <td>4_6_55_502</td>\n",
       "      <td>502</td>\n",
       "      <td>4</td>\n",
       "      <td>6:55</td>\n",
       "      <td>83</td>\n",
       "    </tr>\n",
       "  </tbody>\n",
       "</table>\n",
       "</div>"
      ],
      "text/plain": [
       "   newid  sum          key  taz  date   time  timeidx\n",
       "4     32    1  4_11_35_502  502     4  11:35      139\n",
       "5     32    1  4_12_10_502  502     4  12:10      146\n",
       "6     32    1   4_6_55_502  502     4   6:55       83"
      ]
     },
     "execution_count": 125,
     "metadata": {},
     "output_type": "execute_result"
    }
   ],
   "source": [
    "testdt.head(3)"
   ]
  },
  {
   "cell_type": "code",
   "execution_count": 47,
   "metadata": {},
   "outputs": [],
   "source": [
    "app_test_dt = app_test_dt.sort_values(by=['time'])"
   ]
  },
  {
   "cell_type": "code",
   "execution_count": 12,
   "metadata": {},
   "outputs": [],
   "source": [
    "app_test_ = app_test_dt.groupby(by=['newid', 'taz']).size().to_frame()\n",
    "app_test_.reset_index(inplace=True)\n",
    "\n",
    "app_test_.columns = ['newid','taz', 'num_obs']\n",
    "\n",
    "num_obs = app_test_['num_obs'].values\n",
    "app_test_.columns\n",
    "\n",
    "app_test_ = app_test_.groupby(by=['newid','taz']).size().to_frame()\n",
    "app_test_.reset_index(inplace=True)\n",
    "\n",
    "app_taz_dt = app_test_.groupby(by=['newid']).sum()\n",
    "app_taz_dt.reset_index(inplace=True)\n",
    "app_taz_dt.columns = ['newid', 'taz', 'num_taz']\n",
    "\n",
    "del(app_test_)"
   ]
  },
  {
   "cell_type": "code",
   "execution_count": 49,
   "metadata": {},
   "outputs": [],
   "source": [
    "num_id_w1obs = app_taz_dt['newid'][app_taz_dt['num_taz'] == 1].values"
   ]
  },
  {
   "cell_type": "code",
   "execution_count": 92,
   "metadata": {},
   "outputs": [
    {
     "name": "stdout",
     "output_type": "stream",
     "text": [
      "# ids with only one taz observed within one day 3144\n",
      "% ids with only one taz observed within one day 0.22933839083813554\n",
      "it is found that 23% of the ids only observed once, cosidered as stay\n",
      "#######################################################################################\n",
      "count    3144.000000\n",
      "mean        4.377226\n",
      "std        17.223490\n",
      "min         1.000000\n",
      "25%         1.000000\n",
      "50%         1.000000\n",
      "75%         2.000000\n",
      "max       471.000000\n",
      "Name: sum, dtype: float64\n",
      "#######################################################################################\n",
      "0.16616821066452694  of ids who were observed only once per day\n",
      "0.015829017433802613  of ids who were observed with only one taz, (# > 10)\n",
      "#######################################################################################\n"
     ]
    },
    {
     "data": {
      "image/png": "[encoded data removed]",
      "text/plain": [
       "<Figure size 432x288 with 1 Axes>"
      ]
     },
     "metadata": {
      "needs_background": "light"
     },
     "output_type": "display_data"
    }
   ],
   "source": [
    "print('# ids with only one taz observed within one day', app_taz_dt[app_taz_dt['num_taz'] == 1].shape[0])\n",
    "print('% ids with only one taz observed within one day', app_taz_dt[app_taz_dt['num_taz'] == 1].shape[0]/(app_taz_dt.shape[0]))\n",
    "print('it is found that 23% of the ids only observed once, cosidered as stay') \n",
    "print('#######################################################################################')\n",
    "\n",
    "print(app_test_dt[app_test_dt['newid'].isin(num_id_w1obs)].groupby(by=['newid']).sum()['sum'].describe())\n",
    "plt.boxplot(app_test_dt[app_test_dt['newid'].isin(num_id_w1obs)].groupby(by=['newid']).sum()['sum'].values)\n",
    "\n",
    "test_id = app_test_dt[app_test_dt['newid'].isin(num_id_w1obs)].groupby(by=['newid']).sum()['sum'].to_frame()\n",
    "test_id.reset_index(inplace=True)\n",
    "#15 ids more than 100 obs\n",
    "#217 ids more than 10 obs \n",
    "\n",
    "#test_id[test_id['sum']>1].shape\n",
    "print('#######################################################################################')\n",
    "print(2278/len(np.unique(app_test_dt['newid'])), ' of ids who were observed only once per day')\n",
    "print(test_id[test_id['sum']>10].shape[0]/len(np.unique(app_test_dt['newid'])), ' of ids who were observed with only one taz, (# > 10)')\n",
    "print('#######################################################################################')"
   ]
  },
  {
   "cell_type": "code",
   "execution_count": 93,
   "metadata": {},
   "outputs": [],
   "source": [
    "del(app_test_dt, app_taz_dt)"
   ]
  }
 ],
 "metadata": {
  "kernelspec": {
   "display_name": "Python 3 (ipykernel)",
   "language": "python",
   "name": "python3"
  },
  "language_info": {
   "codemirror_mode": {
    "name": "ipython",
    "version": 3
   },
   "file_extension": ".py",
   "mimetype": "text/x-python",
   "name": "python",
   "nbconvert_exporter": "python",
   "pygments_lexer": "ipython3",
   "version": "3.9.12"
  }
 },
 "nbformat": 4,
 "nbformat_minor": 4
}
