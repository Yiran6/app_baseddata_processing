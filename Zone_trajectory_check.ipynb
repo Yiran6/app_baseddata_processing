{
 "cells": [
  {
   "cell_type": "code",
   "execution_count": 1,
   "metadata": {},
   "outputs": [],
   "source": [
    "import os\n",
    "import numpy as np\n",
    "import pandas as pd\n",
    "#import pygmt\n",
    "import geopandas as gpd\n",
    "import math\n",
    "import matplotlib.pyplot as plt"
   ]
  },
  {
   "cell_type": "code",
   "execution_count": 10,
   "metadata": {},
   "outputs": [
    {
     "data": {
      "text/plain": [
       "<module 'numpy.version' from 'C:\\\\Users\\\\29700\\\\anaconda3\\\\envs\\\\pygmt\\\\Lib\\\\site-packages\\\\numpy\\\\version.py'>"
      ]
     },
     "execution_count": 10,
     "metadata": {},
     "output_type": "execute_result"
    }
   ],
   "source": [
    "#code not processed\n",
    "#map plot\n",
    "#compared with the previous figures, \n",
    "#the hourly pattern varied compared the hourly obs vs. hourly identified ids\n",
    "# set a variable that will call whatever column we want to visualise on the map\n",
    "variable = 'obs_sum_d'\n",
    "# set the range for the choropleth\n",
    "vmin, vmax = 22, 75008\n",
    "# create figure and axes for Matplotlib\n",
    "fig, ax = plt.subplots(1, figsize=(10, 6))\n",
    "\n",
    "obs_ct = CensusTract.merge(obs_sum_d, left_on='GEOID10', right_on='geoid')\n",
    "#create map\n",
    "obs_ct.plot(column=variable, cmap='BuGn', linewidth=0.8, \\\n",
    "            ax=ax, edgecolor='0.8')\n",
    "#check the data\n",
    "print(obs_ct['obs_sum_d'].describe())\n",
    "\n",
    "#remove axis\n",
    "ax.axis('off')\n",
    "# add a title\n",
    "ax.set_title('observations per census tract', fontdict={'fontsize': '25', 'fontweight' : '3'})\n",
    "# create an annotation for the data source\n",
    "ax.annotate('Source: psrc censustract 2020',xy=(0.1, .08), xycoords='figure fraction', \\\n",
    "            horizontalalignment='left', verticalalignment='top', fontsize=12, color='#555555')\n",
    "\n",
    "# Create colorbar as a legend\n",
    "colbar = plt.cm.ScalarMappable(cmap='BuGn', norm=plt.Normalize(vmin=vmin, vmax=vmax))\n",
    "# empty array for the data range\n",
    "colbar._A = []\n",
    "# add the colorbar to the figure\n",
    "cbar = fig.colorbar(colbar)\n",
    "#saving our map as .png file.\n",
    "#fig.savefig(‘map_export.png’, dpi=300)\n",
    "\n",
    "# set a variable that will call whatever column we want to visualise on the map\n",
    "def plot_map_based_on_var(var, data, colormap, plot_title):\n",
    "    variable = var\n",
    "    # set the range for the choropleth\n",
    "    vmin = data[var].min()\n",
    "    vmax = data[var].max()\n",
    "    # create figure and axes for Matplotlib\n",
    "    fig, ax = plt.subplots(1, figsize=(10, 6))\n",
    "\n",
    "    obs_ct = CensusTract.merge(data, left_on='GEOID10', right_on='geoid')\n",
    "    #create map\n",
    "    obs_ct.plot(column=variable, cmap=colormap, linewidth=0.8, \\\n",
    "                ax=ax, edgecolor='0.8')\n",
    "    #check the data\n",
    "    #print(obs_ct['obs'].describe())\n",
    "\n",
    "    #remove axis\n",
    "    ax.axis('off')\n",
    "    # add a title\n",
    "    ax.set_title(plot_title, fontdict={'fontsize': '25', 'fontweight' : '3'})\n",
    "    # create an annotation for the data source\n",
    "    ax.annotate('Source: psrc census tract 2020',xy=(0.1, .08), xycoords='figure fraction', \\\n",
    "                horizontalalignment='left', verticalalignment='top', fontsize=12, color='#555555')\n",
    "\n",
    "    # Create colorbar as a legend\n",
    "    sm = plt.cm.ScalarMappable(cmap=colormap, norm=plt.Normalize(vmin=vmin, vmax=vmax))\n",
    "    # empty array for the data range\n",
    "    sm._A = []\n",
    "    # add the colorbar to the figure\n",
    "    cbar = fig.colorbar(sm)\n",
    "    #saving our map as .png file.\n",
    "    #fig.savefig(‘map_export.png’, dpi=300)"
   ]
  },
  {
   "cell_type": "code",
   "execution_count": 2,
   "metadata": {},
   "outputs": [],
   "source": [
    "#package\n",
    "def get_index(start_index, timeinterval, numloc):\n",
    "    time_col = []\n",
    "    for i in range(numloc):\n",
    "        time_col.append(start_index+timeinterval*i)\n",
    "    return(time_col)\n",
    "\n",
    "def get_revisedmx(input_mx, num_timeinterval, numloc):\n",
    "    for time_interval in range(num_timeinterval):\n",
    "        time_col = get_index(time_interval, num_timeinterval, numloc)\n",
    "        if time_interval == 0:\n",
    "            revise_mx = input_mx[:, time_col]\n",
    "        else:\n",
    "            revise_mx = np.hstack((revise_mx, input_mx[:, time_col]))\n",
    "    return(revise_mx)\n",
    "\n",
    "def cosine_similarity(v,u):\n",
    "    return (v @ u)/ (np.linalg.norm(v) * np.linalg.norm(u))\n",
    "\n",
    "def get_max_index(pred_input):\n",
    "    for i in range(pred_input.shape[0]):\n",
    "        if i == 0:\n",
    "            max_col = np.where(pred_input[i] == max(pred_input[i]))\n",
    "        else:\n",
    "            max_col = np.hstack((max_col, np.where(pred_input[i] == max(pred_input[i]))))\n",
    "    return(max_col)"
   ]
  },
  {
   "cell_type": "code",
   "execution_count": 3,
   "metadata": {},
   "outputs": [
    {
     "data": {
      "text/plain": [
       "(7767, 3456)"
      ]
     },
     "execution_count": 3,
     "metadata": {},
     "output_type": "execute_result"
    }
   ],
   "source": [
    "#check the data\n",
    "os.chdir('G:/My Drive/2021/Bias/SUMO_simulation/')\n",
    "WH_pred = pd.read_csv('modelpredresults78010103.csv', index_col=0).to_numpy()\n",
    "WH_pred_w0 = pd.read_csv('modelpredresults78010100.csv', index_col=0).to_numpy()\n",
    "\n",
    "path = 'G:/My Drive/2021/Bias/'\n",
    "#save matrice\n",
    "#np.savetxt('test_matrice_reverse.csv', test_matrice_reverse, delimiter=\",\")\n",
    "#np.savetxt('Zero_index.csv', Zero_index, delimiter=\",\")\n",
    "\n",
    "#read the test matrice and data\n",
    "test_matrice_reverse = pd.read_csv(path+'test_matrice_reverse.csv', header=None).to_numpy()\n",
    "Seattle_ct = pd.read_csv('G:/My Drive/2021/Bias/census_tract_process/Seattle_ct.csv')\n",
    "geoids = np.unique(Seattle_ct.GEOID10)\n",
    "\n",
    "newids = test_matrice_reverse[:, 0]\n",
    "\n",
    "test_matrice_reverse = test_matrice_reverse[:, 1:]\n",
    "test_matrice_reverse.shape"
   ]
  },
  {
   "cell_type": "code",
   "execution_count": 4,
   "metadata": {},
   "outputs": [],
   "source": [
    "#ct_pop = Seattle_ct['pop'].values\n",
    "\n",
    "revised_mx = get_revisedmx(test_matrice_reverse, 288, 12)\n",
    "pred_mx = get_revisedmx(WH_pred, 288, 12)\n",
    "pred_mx_w0 = get_revisedmx(WH_pred_w0, 288, 12)"
   ]
  },
  {
   "cell_type": "code",
   "execution_count": 33,
   "metadata": {},
   "outputs": [
    {
     "name": "stdout",
     "output_type": "stream",
     "text": [
      "[1305 1317 1322 1337 1349 1357 1379 1487 1691 1703 2071]\n",
      "[ 9  9  2  5  5  1 11 11 11 11  7]\n",
      "['53033008300', '53033008300', '53033007300', '53033008001', '53033008001', '53033007200', '53033008500', '53033008500', '53033008500', '53033008500', '53033008100']\n",
      "[ 9  9  9  9  9  9  9 10 11 11 14]\n",
      "[ 0  5 10 15 20 25 30 15 40 45 20]\n"
     ]
    },
    {
     "data": {
      "text/plain": [
       "array([ 4.,  5., 16.,  2., 13., 21.,  2.,  2.,  2.,  2.,  1.])"
      ]
     },
     "execution_count": 33,
     "metadata": {},
     "output_type": "execute_result"
    }
   ],
   "source": [
    "individual_val = 7\n",
    "print(np.where(revised_mx[individual_val]>0)[0])\n",
    "print(np.where(revised_mx[individual_val]>0)[0]%12)\n",
    "geoid_identify = []\n",
    "for i in np.where(revised_mx[individual_val]>0)[0]%12:\n",
    "    geoid_identify.append(str(geoids[i]))\n",
    "print(geoid_identify)\n",
    "print(np.where(revised_mx[individual_val]>0)[0]//12//12)\n",
    "print(np.where(revised_mx[individual_val]>0)[0]//12%12*5)\n",
    "revised_mx[individual_val][np.where(revised_mx[individual_val]>0)]"
   ]
  },
  {
   "cell_type": "code",
   "execution_count": 16,
   "metadata": {},
   "outputs": [],
   "source": [
    "shpfilepath = 'G:/My Drive/2020/Bias/data-processing/spatial_check/'\n",
    "zoneshp = gpd.read_file(shpfilepath+'Seattle_ct2010.shp')"
   ]
  },
  {
   "cell_type": "code",
   "execution_count": 49,
   "metadata": {},
   "outputs": [],
   "source": [
    "get_tracezone = lambda x: 2 if x in selected_zone else 0"
   ]
  },
  {
   "cell_type": "code",
   "execution_count": 28,
   "metadata": {},
   "outputs": [
    {
     "data": {
      "text/plain": [
       "'53033007402'"
      ]
     },
     "execution_count": 28,
     "metadata": {},
     "output_type": "execute_result"
    }
   ],
   "source": []
  },
  {
   "cell_type": "code",
   "execution_count": 50,
   "metadata": {},
   "outputs": [],
   "source": [
    "selected_zone = np.unique(geoid_identify[:-4])\n",
    "zoneshp['traces'] = zoneshp['GEOID10'].apply(get_tracezone)"
   ]
  },
  {
   "cell_type": "code",
   "execution_count": 51,
   "metadata": {},
   "outputs": [
    {
     "name": "stderr",
     "output_type": "stream",
     "text": [
      "C:\\Users\\29700\\AppData\\Local\\Temp\\ipykernel_30664\\817256141.py:3: SettingWithCopyWarning: \n",
      "A value is trying to be set on a copy of a slice from a DataFrame\n",
      "\n",
      "See the caveats in the documentation: https://pandas.pydata.org/pandas-docs/stable/user_guide/indexing.html#returning-a-view-versus-a-copy\n",
      "  zoneshp['traces'][zoneshp['GEOID10'] == ori_zone] = 1\n",
      "C:\\Users\\29700\\AppData\\Local\\Temp\\ipykernel_30664\\817256141.py:4: SettingWithCopyWarning: \n",
      "A value is trying to be set on a copy of a slice from a DataFrame\n",
      "\n",
      "See the caveats in the documentation: https://pandas.pydata.org/pandas-docs/stable/user_guide/indexing.html#returning-a-view-versus-a-copy\n",
      "  zoneshp['traces'][zoneshp['GEOID10'] == dest_zone] = 3\n"
     ]
    }
   ],
   "source": [
    "ori_zone = '53033008300'\n",
    "dest_zone = '53033008500'\n",
    "zoneshp['traces'][zoneshp['GEOID10'] == ori_zone] = 1\n",
    "zoneshp['traces'][zoneshp['GEOID10'] == dest_zone] = 3"
   ]
  },
  {
   "cell_type": "code",
   "execution_count": null,
   "metadata": {},
   "outputs": [],
   "source": []
  },
  {
   "cell_type": "code",
   "execution_count": 46,
   "metadata": {},
   "outputs": [
    {
     "data": {
      "text/plain": [
       "(-122.37521090135158, -122.31814510135085, 47.60035114996566, 47.6300038499651)"
      ]
     },
     "execution_count": 46,
     "metadata": {},
     "output_type": "execute_result"
    },
    {
     "data": {
      "image/png": "[encoded data removed]",
      "text/plain": [
       "<Figure size 720x432 with 1 Axes>"
      ]
     },
     "metadata": {
      "needs_background": "light"
     },
     "output_type": "display_data"
    }
   ],
   "source": [
    "fig, ax = plt.subplots(1, figsize=(10, 6))\n",
    "zoneshp.plot(ax=ax)\n",
    "#check the data\n",
    "ax.axis('off')"
   ]
  },
  {
   "cell_type": "code",
   "execution_count": 52,
   "metadata": {},
   "outputs": [
    {
     "data": {
      "image/png": "[encoded data removed]",
      "text/plain": [
       "<Figure size 720x432 with 2 Axes>"
      ]
     },
     "metadata": {
      "needs_background": "light"
     },
     "output_type": "display_data"
    }
   ],
   "source": [
    "fig, ax = plt.subplots(1, figsize=(10, 6))\n",
    "variable = 'obs_sum_d'\n",
    "# set the range for the choropleth\n",
    "vmin, vmax = 0, 3\n",
    "variable = 'traces'\n",
    "zoneshp.plot(column=variable, cmap='BuGn', linewidth=0.8, \\\n",
    "            ax=ax, edgecolor='0.8')\n",
    "#check the data\n",
    "#remove axis\n",
    "ax.axis('off')\n",
    "# add a title\n",
    "ax.set_title('traces example', fontdict={'fontsize': '25', 'fontweight' : '3'})\n",
    "# create an annotation for the data source\n",
    "ax.annotate('Source: psrc censustract 2020',xy=(0.1, .08), xycoords='figure fraction', \\\n",
    "            horizontalalignment='left', verticalalignment='top', fontsize=12, color='#555555')\n",
    "\n",
    "# Create colorbar as a legend\n",
    "colbar = plt.cm.ScalarMappable(cmap='BuGn', norm=plt.Normalize(vmin=vmin, vmax=vmax))\n",
    "# empty array for the data range\n",
    "colbar._A = []\n",
    "# add the colorbar to the figure\n",
    "cbar = fig.colorbar(colbar)\n",
    "#saving our map as .png file."
   ]
  },
  {
   "cell_type": "code",
   "execution_count": 47,
   "metadata": {},
   "outputs": [
    {
     "data": {
      "text/plain": [
       "0     0\n",
       "1     0\n",
       "2     2\n",
       "3     0\n",
       "4    -1\n",
       "5     0\n",
       "6     0\n",
       "7     0\n",
       "8     1\n",
       "9     1\n",
       "10    1\n",
       "11    0\n",
       "Name: traces, dtype: int64"
      ]
     },
     "execution_count": 47,
     "metadata": {},
     "output_type": "execute_result"
    }
   ],
   "source": [
    "zoneshp['traces']"
   ]
  },
  {
   "cell_type": "code",
   "execution_count": 6,
   "metadata": {},
   "outputs": [],
   "source": [
    "#code not processed\n",
    "#map plot\n",
    "#compared with the previous figures, \n",
    "#the hourly pattern varied compared the hourly obs vs. hourly identified ids\n",
    "# set a variable that will call whatever column we want to visualise on the map\n",
    "variable = 'obs_sum_d'\n",
    "# set the range for the choropleth\n",
    "vmin, vmax = 22, 75008\n",
    "# create figure and axes for Matplotlib\n",
    "fig, ax = plt.subplots(1, figsize=(10, 6))\n",
    "\n",
    "obs_ct = CensusTract.merge(obs_sum_d, left_on='GEOID10', right_on='geoid')\n",
    "#create map\n",
    "obs_ct.plot(column=variable, cmap='BuGn', linewidth=0.8, \\\n",
    "            ax=ax, edgecolor='0.8')\n",
    "#check the data\n",
    "print(obs_ct['obs_sum_d'].describe())\n",
    "\n",
    "#remove axis\n",
    "ax.axis('off')\n",
    "# add a title\n",
    "ax.set_title('observations per census tract', fontdict={'fontsize': '25', 'fontweight' : '3'})\n",
    "# create an annotation for the data source\n",
    "ax.annotate('Source: psrc censustract 2020',xy=(0.1, .08), xycoords='figure fraction', \\\n",
    "            horizontalalignment='left', verticalalignment='top', fontsize=12, color='#555555')\n",
    "\n",
    "# Create colorbar as a legend\n",
    "colbar = plt.cm.ScalarMappable(cmap='BuGn', norm=plt.Normalize(vmin=vmin, vmax=vmax))\n",
    "# empty array for the data range\n",
    "colbar._A = []\n",
    "# add the colorbar to the figure\n",
    "cbar = fig.colorbar(colbar)\n",
    "#saving our map as .png file.\n",
    "#fig.savefig(‘map_export.png’, dpi=300)\n",
    "\n",
    "# set a variable that will call whatever column we want to visualise on the map\n",
    "def plot_map_based_on_var(var, data, colormap, plot_title):\n",
    "    variable = var\n",
    "    # set the range for the choropleth\n",
    "    vmin = data[var].min()\n",
    "    vmax = data[var].max()\n",
    "    # create figure and axes for Matplotlib\n",
    "    fig, ax = plt.subplots(1, figsize=(10, 6))\n",
    "\n",
    "    #obs_ct = CensusTract.merge(data, left_on='GEOID10', right_on='geoid')\n",
    "    #create map\n",
    "    data.plot(column=variable, cmap=colormap, linewidth=0.8, \\\n",
    "                ax=ax, edgecolor='0.8')\n",
    "\n",
    "    #remove axis\n",
    "    ax.axis('off')\n",
    "    # add a title\n",
    "    ax.set_title(plot_title, fontdict={'fontsize': '25', 'fontweight' : '3'})\n",
    "    # create an annotation for the data source\n",
    "    ax.annotate('Source: psrc census tract 2020',xy=(0.1, .08), xycoords='figure fraction', \\\n",
    "                horizontalalignment='left', verticalalignment='top', fontsize=12, color='#555555')\n",
    "\n",
    "    # Create colorbar as a legend\n",
    "    sm = plt.cm.ScalarMappable(cmap=colormap, norm=plt.Normalize(vmin=vmin, vmax=vmax))\n",
    "    # empty array for the data range\n",
    "    sm._A = []\n",
    "    # add the colorbar to the figure\n",
    "    cbar = fig.colorbar(sm)\n",
    "    #saving our map as .png file.\n",
    "    #fig.savefig(‘map_export.png’, dpi=300)"
   ]
  },
  {
   "cell_type": "code",
   "execution_count": 1,
   "metadata": {},
   "outputs": [
    {
     "ename": "NameError",
     "evalue": "name 'pygmt' is not defined",
     "output_type": "error",
     "traceback": [
      "\u001b[1;31m---------------------------------------------------------------------------\u001b[0m",
      "\u001b[1;31mNameError\u001b[0m                                 Traceback (most recent call last)",
      "Cell \u001b[1;32mIn [1], line 1\u001b[0m\n\u001b[1;32m----> 1\u001b[0m \u001b[43mpygmt\u001b[49m\u001b[38;5;241m.\u001b[39mshow_versions()\n",
      "\u001b[1;31mNameError\u001b[0m: name 'pygmt' is not defined"
     ]
    }
   ],
   "source": [
    "pygmt.show_versions()"
   ]
  },
  {
   "cell_type": "code",
   "execution_count": 8,
   "metadata": {},
   "outputs": [
    {
     "name": "stderr",
     "output_type": "stream",
     "text": [
      "psconvert [ERROR]: Cannot execute Ghostscript (gswin64c).\n"
     ]
    },
    {
     "ename": "GMTCLibError",
     "evalue": "Module 'psconvert' failed with status code 79:\npsconvert [ERROR]: Cannot execute Ghostscript (gswin64c).",
     "output_type": "error",
     "traceback": [
      "\u001b[1;31m---------------------------------------------------------------------------\u001b[0m",
      "\u001b[1;31mGMTCLibError\u001b[0m                              Traceback (most recent call last)",
      "Cell \u001b[1;32mIn [8], line 18\u001b[0m\n\u001b[0;32m      1\u001b[0m fig \u001b[38;5;241m=\u001b[39m pygmt\u001b[38;5;241m.\u001b[39mFigure()\n\u001b[0;32m      2\u001b[0m fig\u001b[38;5;241m.\u001b[39mcoast(\n\u001b[0;32m      3\u001b[0m     \u001b[38;5;66;03m# Set the x-range from 10E to 20E and the y-range to 35N to 45N\u001b[39;00m\n\u001b[0;32m      4\u001b[0m     region\u001b[38;5;241m=\u001b[39m\u001b[38;5;124m\"\u001b[39m\u001b[38;5;124m10/20/35/45\u001b[39m\u001b[38;5;124m\"\u001b[39m,\n\u001b[1;32m   (...)\u001b[0m\n\u001b[0;32m     16\u001b[0m     frame\u001b[38;5;241m=\u001b[39m\u001b[38;5;124m\"\u001b[39m\u001b[38;5;124mag\u001b[39m\u001b[38;5;124m\"\u001b[39m,\n\u001b[0;32m     17\u001b[0m )\n\u001b[1;32m---> 18\u001b[0m \u001b[43mfig\u001b[49m\u001b[38;5;241;43m.\u001b[39;49m\u001b[43mshow\u001b[49m\u001b[43m(\u001b[49m\u001b[43m)\u001b[49m\n",
      "File \u001b[1;32m~\\anaconda3\\envs\\pygmt\\Lib\\site-packages\\pygmt\\figure.py:387\u001b[0m, in \u001b[0;36mFigure.show\u001b[1;34m(self, dpi, width, method, waiting)\u001b[0m\n\u001b[0;32m    379\u001b[0m     \u001b[38;5;28;01mif\u001b[39;00m IPython \u001b[38;5;129;01mis\u001b[39;00m \u001b[38;5;28;01mNone\u001b[39;00m:\n\u001b[0;32m    380\u001b[0m         \u001b[38;5;28;01mraise\u001b[39;00m GMTError(\n\u001b[0;32m    381\u001b[0m             (\n\u001b[0;32m    382\u001b[0m                 \u001b[38;5;124m\"\u001b[39m\u001b[38;5;124mNotebook display is selected, but IPython is not available. \u001b[39m\u001b[38;5;124m\"\u001b[39m\n\u001b[1;32m   (...)\u001b[0m\n\u001b[0;32m    385\u001b[0m             )\n\u001b[0;32m    386\u001b[0m         )\n\u001b[1;32m--> 387\u001b[0m     png \u001b[38;5;241m=\u001b[39m \u001b[38;5;28;43mself\u001b[39;49m\u001b[38;5;241;43m.\u001b[39;49m\u001b[43m_preview\u001b[49m\u001b[43m(\u001b[49m\u001b[43mfmt\u001b[49m\u001b[38;5;241;43m=\u001b[39;49m\u001b[38;5;124;43m\"\u001b[39;49m\u001b[38;5;124;43mpng\u001b[39;49m\u001b[38;5;124;43m\"\u001b[39;49m\u001b[43m,\u001b[49m\u001b[43m \u001b[49m\u001b[43mdpi\u001b[49m\u001b[38;5;241;43m=\u001b[39;49m\u001b[43mdpi\u001b[49m\u001b[43m,\u001b[49m\u001b[43m \u001b[49m\u001b[43manti_alias\u001b[49m\u001b[38;5;241;43m=\u001b[39;49m\u001b[38;5;28;43;01mTrue\u001b[39;49;00m\u001b[43m,\u001b[49m\u001b[43m \u001b[49m\u001b[43mas_bytes\u001b[49m\u001b[38;5;241;43m=\u001b[39;49m\u001b[38;5;28;43;01mTrue\u001b[39;49;00m\u001b[43m)\u001b[49m\n\u001b[0;32m    388\u001b[0m     IPython\u001b[38;5;241m.\u001b[39mdisplay\u001b[38;5;241m.\u001b[39mdisplay(IPython\u001b[38;5;241m.\u001b[39mdisplay\u001b[38;5;241m.\u001b[39mImage(data\u001b[38;5;241m=\u001b[39mpng, width\u001b[38;5;241m=\u001b[39mwidth))\n\u001b[0;32m    390\u001b[0m \u001b[38;5;28;01mif\u001b[39;00m method \u001b[38;5;241m==\u001b[39m \u001b[38;5;124m\"\u001b[39m\u001b[38;5;124mexternal\u001b[39m\u001b[38;5;124m\"\u001b[39m:\n",
      "File \u001b[1;32m~\\anaconda3\\envs\\pygmt\\Lib\\site-packages\\pygmt\\figure.py:450\u001b[0m, in \u001b[0;36mFigure._preview\u001b[1;34m(self, fmt, dpi, as_bytes, **kwargs)\u001b[0m\n\u001b[0;32m    429\u001b[0m \u001b[38;5;124;03m\"\"\"\u001b[39;00m\n\u001b[0;32m    430\u001b[0m \u001b[38;5;124;03mGrab a preview of the figure.\u001b[39;00m\n\u001b[0;32m    431\u001b[0m \n\u001b[1;32m   (...)\u001b[0m\n\u001b[0;32m    447\u001b[0m \u001b[38;5;124;03m    file. Else, it is the file content loaded as a bytes string.\u001b[39;00m\n\u001b[0;32m    448\u001b[0m \u001b[38;5;124;03m\"\"\"\u001b[39;00m\n\u001b[0;32m    449\u001b[0m fname \u001b[38;5;241m=\u001b[39m os\u001b[38;5;241m.\u001b[39mpath\u001b[38;5;241m.\u001b[39mjoin(\u001b[38;5;28mself\u001b[39m\u001b[38;5;241m.\u001b[39m_preview_dir\u001b[38;5;241m.\u001b[39mname, \u001b[38;5;124mf\u001b[39m\u001b[38;5;124m\"\u001b[39m\u001b[38;5;132;01m{\u001b[39;00m\u001b[38;5;28mself\u001b[39m\u001b[38;5;241m.\u001b[39m_name\u001b[38;5;132;01m}\u001b[39;00m\u001b[38;5;124m.\u001b[39m\u001b[38;5;132;01m{\u001b[39;00mfmt\u001b[38;5;132;01m}\u001b[39;00m\u001b[38;5;124m\"\u001b[39m)\n\u001b[1;32m--> 450\u001b[0m \u001b[38;5;28;43mself\u001b[39;49m\u001b[38;5;241;43m.\u001b[39;49m\u001b[43msavefig\u001b[49m\u001b[43m(\u001b[49m\u001b[43mfname\u001b[49m\u001b[43m,\u001b[49m\u001b[43m \u001b[49m\u001b[43mdpi\u001b[49m\u001b[38;5;241;43m=\u001b[39;49m\u001b[43mdpi\u001b[49m\u001b[43m,\u001b[49m\u001b[43m \u001b[49m\u001b[38;5;241;43m*\u001b[39;49m\u001b[38;5;241;43m*\u001b[39;49m\u001b[43mkwargs\u001b[49m\u001b[43m)\u001b[49m\n\u001b[0;32m    451\u001b[0m \u001b[38;5;28;01mif\u001b[39;00m as_bytes:\n\u001b[0;32m    452\u001b[0m     \u001b[38;5;28;01mwith\u001b[39;00m \u001b[38;5;28mopen\u001b[39m(fname, \u001b[38;5;124m\"\u001b[39m\u001b[38;5;124mrb\u001b[39m\u001b[38;5;124m\"\u001b[39m) \u001b[38;5;28;01mas\u001b[39;00m image:\n",
      "File \u001b[1;32m~\\anaconda3\\envs\\pygmt\\Lib\\site-packages\\pygmt\\figure.py:315\u001b[0m, in \u001b[0;36mFigure.savefig\u001b[1;34m(self, fname, transparent, crop, anti_alias, show, **kwargs)\u001b[0m\n\u001b[0;32m    312\u001b[0m \u001b[38;5;28;01mif\u001b[39;00m ext \u001b[38;5;241m==\u001b[39m \u001b[38;5;124m\"\u001b[39m\u001b[38;5;124mkml\u001b[39m\u001b[38;5;124m\"\u001b[39m:\n\u001b[0;32m    313\u001b[0m     kwargs[\u001b[38;5;124m\"\u001b[39m\u001b[38;5;124mW\u001b[39m\u001b[38;5;124m\"\u001b[39m] \u001b[38;5;241m=\u001b[39m \u001b[38;5;124m\"\u001b[39m\u001b[38;5;124m+k\u001b[39m\u001b[38;5;124m\"\u001b[39m\n\u001b[1;32m--> 315\u001b[0m \u001b[38;5;28;43mself\u001b[39;49m\u001b[38;5;241;43m.\u001b[39;49m\u001b[43mpsconvert\u001b[49m\u001b[43m(\u001b[49m\u001b[43mprefix\u001b[49m\u001b[38;5;241;43m=\u001b[39;49m\u001b[43mprefix\u001b[49m\u001b[43m,\u001b[49m\u001b[43m \u001b[49m\u001b[43mfmt\u001b[49m\u001b[38;5;241;43m=\u001b[39;49m\u001b[43mfmt\u001b[49m\u001b[43m,\u001b[49m\u001b[43m \u001b[49m\u001b[43mcrop\u001b[49m\u001b[38;5;241;43m=\u001b[39;49m\u001b[43mcrop\u001b[49m\u001b[43m,\u001b[49m\u001b[43m \u001b[49m\u001b[38;5;241;43m*\u001b[39;49m\u001b[38;5;241;43m*\u001b[39;49m\u001b[43mkwargs\u001b[49m\u001b[43m)\u001b[49m\n\u001b[0;32m    316\u001b[0m \u001b[38;5;28;01mif\u001b[39;00m show:\n\u001b[0;32m    317\u001b[0m     launch_external_viewer(fname)\n",
      "File \u001b[1;32m~\\anaconda3\\envs\\pygmt\\Lib\\site-packages\\pygmt\\helpers\\decorators.py:585\u001b[0m, in \u001b[0;36muse_alias.<locals>.alias_decorator.<locals>.new_module\u001b[1;34m(*args, **kwargs)\u001b[0m\n\u001b[0;32m    580\u001b[0m         msg \u001b[38;5;241m=\u001b[39m (\n\u001b[0;32m    581\u001b[0m             \u001b[38;5;124mf\u001b[39m\u001b[38;5;124m\"\u001b[39m\u001b[38;5;124mShort-form parameter (\u001b[39m\u001b[38;5;132;01m{\u001b[39;00mshort_param\u001b[38;5;132;01m}\u001b[39;00m\u001b[38;5;124m) is not recommended. \u001b[39m\u001b[38;5;124m\"\u001b[39m\n\u001b[0;32m    582\u001b[0m             \u001b[38;5;124mf\u001b[39m\u001b[38;5;124m\"\u001b[39m\u001b[38;5;124mUse long-form parameter \u001b[39m\u001b[38;5;124m'\u001b[39m\u001b[38;5;132;01m{\u001b[39;00mlong_alias\u001b[38;5;132;01m}\u001b[39;00m\u001b[38;5;124m'\u001b[39m\u001b[38;5;124m instead.\u001b[39m\u001b[38;5;124m\"\u001b[39m\n\u001b[0;32m    583\u001b[0m         )\n\u001b[0;32m    584\u001b[0m         warnings\u001b[38;5;241m.\u001b[39mwarn(msg, category\u001b[38;5;241m=\u001b[39m\u001b[38;5;167;01mSyntaxWarning\u001b[39;00m, stacklevel\u001b[38;5;241m=\u001b[39m\u001b[38;5;241m2\u001b[39m)\n\u001b[1;32m--> 585\u001b[0m \u001b[38;5;28;01mreturn\u001b[39;00m \u001b[43mmodule_func\u001b[49m\u001b[43m(\u001b[49m\u001b[38;5;241;43m*\u001b[39;49m\u001b[43margs\u001b[49m\u001b[43m,\u001b[49m\u001b[43m \u001b[49m\u001b[38;5;241;43m*\u001b[39;49m\u001b[38;5;241;43m*\u001b[39;49m\u001b[43mkwargs\u001b[49m\u001b[43m)\u001b[49m\n",
      "File \u001b[1;32m~\\anaconda3\\envs\\pygmt\\Lib\\site-packages\\pygmt\\helpers\\decorators.py:725\u001b[0m, in \u001b[0;36mkwargs_to_strings.<locals>.converter.<locals>.new_module\u001b[1;34m(*args, **kwargs)\u001b[0m\n\u001b[0;32m    723\u001b[0m             kwargs[arg] \u001b[38;5;241m=\u001b[39m separators[fmt]\u001b[38;5;241m.\u001b[39mjoin(\u001b[38;5;124mf\u001b[39m\u001b[38;5;124m\"\u001b[39m\u001b[38;5;132;01m{\u001b[39;00mitem\u001b[38;5;132;01m}\u001b[39;00m\u001b[38;5;124m\"\u001b[39m \u001b[38;5;28;01mfor\u001b[39;00m item \u001b[38;5;129;01min\u001b[39;00m value)\n\u001b[0;32m    724\u001b[0m \u001b[38;5;66;03m# Execute the original function and return its output\u001b[39;00m\n\u001b[1;32m--> 725\u001b[0m \u001b[38;5;28;01mreturn\u001b[39;00m \u001b[43mmodule_func\u001b[49m\u001b[43m(\u001b[49m\u001b[38;5;241;43m*\u001b[39;49m\u001b[43margs\u001b[49m\u001b[43m,\u001b[49m\u001b[43m \u001b[49m\u001b[38;5;241;43m*\u001b[39;49m\u001b[38;5;241;43m*\u001b[39;49m\u001b[43mkwargs\u001b[49m\u001b[43m)\u001b[49m\n",
      "File \u001b[1;32m~\\anaconda3\\envs\\pygmt\\Lib\\site-packages\\pygmt\\figure.py:248\u001b[0m, in \u001b[0;36mFigure.psconvert\u001b[1;34m(self, icc_gray, **kwargs)\u001b[0m\n\u001b[0;32m    245\u001b[0m     \u001b[38;5;28;01mraise\u001b[39;00m GMTInvalidInput(\u001b[38;5;124m\"\u001b[39m\u001b[38;5;124mThe \u001b[39m\u001b[38;5;124m'\u001b[39m\u001b[38;5;124mprefix\u001b[39m\u001b[38;5;124m'\u001b[39m\u001b[38;5;124m must be specified.\u001b[39m\u001b[38;5;124m\"\u001b[39m) \u001b[38;5;28;01mfrom\u001b[39;00m \u001b[38;5;21;01merr\u001b[39;00m\n\u001b[0;32m    247\u001b[0m \u001b[38;5;28;01mwith\u001b[39;00m Session() \u001b[38;5;28;01mas\u001b[39;00m lib:\n\u001b[1;32m--> 248\u001b[0m     \u001b[43mlib\u001b[49m\u001b[38;5;241;43m.\u001b[39;49m\u001b[43mcall_module\u001b[49m\u001b[43m(\u001b[49m\n\u001b[0;32m    249\u001b[0m \u001b[43m        \u001b[49m\u001b[43mmodule\u001b[49m\u001b[38;5;241;43m=\u001b[39;49m\u001b[38;5;124;43m\"\u001b[39;49m\u001b[38;5;124;43mpsconvert\u001b[39;49m\u001b[38;5;124;43m\"\u001b[39;49m\u001b[43m,\u001b[49m\u001b[43m \u001b[49m\u001b[43margs\u001b[49m\u001b[38;5;241;43m=\u001b[39;49m\u001b[38;5;124;43mf\u001b[39;49m\u001b[38;5;124;43m\"\u001b[39;49m\u001b[38;5;132;43;01m{\u001b[39;49;00m\u001b[43mprefix_arg\u001b[49m\u001b[38;5;132;43;01m}\u001b[39;49;00m\u001b[38;5;124;43m \u001b[39;49m\u001b[38;5;132;43;01m{\u001b[39;49;00m\u001b[43mbuild_arg_string\u001b[49m\u001b[43m(\u001b[49m\u001b[43mkwargs\u001b[49m\u001b[43m)\u001b[49m\u001b[38;5;132;43;01m}\u001b[39;49;00m\u001b[38;5;124;43m\"\u001b[39;49m\n\u001b[0;32m    250\u001b[0m \u001b[43m    \u001b[49m\u001b[43m)\u001b[49m\n",
      "File \u001b[1;32m~\\anaconda3\\envs\\pygmt\\Lib\\site-packages\\pygmt\\clib\\session.py:506\u001b[0m, in \u001b[0;36mSession.call_module\u001b[1;34m(self, module, args)\u001b[0m\n\u001b[0;32m    502\u001b[0m status \u001b[38;5;241m=\u001b[39m c_call_module(\n\u001b[0;32m    503\u001b[0m     \u001b[38;5;28mself\u001b[39m\u001b[38;5;241m.\u001b[39msession_pointer, module\u001b[38;5;241m.\u001b[39mencode(), mode, args\u001b[38;5;241m.\u001b[39mencode()\n\u001b[0;32m    504\u001b[0m )\n\u001b[0;32m    505\u001b[0m \u001b[38;5;28;01mif\u001b[39;00m status \u001b[38;5;241m!=\u001b[39m \u001b[38;5;241m0\u001b[39m:\n\u001b[1;32m--> 506\u001b[0m     \u001b[38;5;28;01mraise\u001b[39;00m GMTCLibError(\n\u001b[0;32m    507\u001b[0m         \u001b[38;5;124mf\u001b[39m\u001b[38;5;124m\"\u001b[39m\u001b[38;5;124mModule \u001b[39m\u001b[38;5;124m'\u001b[39m\u001b[38;5;132;01m{\u001b[39;00mmodule\u001b[38;5;132;01m}\u001b[39;00m\u001b[38;5;124m'\u001b[39m\u001b[38;5;124m failed with status code \u001b[39m\u001b[38;5;132;01m{\u001b[39;00mstatus\u001b[38;5;132;01m}\u001b[39;00m\u001b[38;5;124m:\u001b[39m\u001b[38;5;130;01m\\n\u001b[39;00m\u001b[38;5;132;01m{\u001b[39;00m\u001b[38;5;28mself\u001b[39m\u001b[38;5;241m.\u001b[39m_error_message\u001b[38;5;132;01m}\u001b[39;00m\u001b[38;5;124m\"\u001b[39m\n\u001b[0;32m    508\u001b[0m     )\n",
      "\u001b[1;31mGMTCLibError\u001b[0m: Module 'psconvert' failed with status code 79:\npsconvert [ERROR]: Cannot execute Ghostscript (gswin64c)."
     ]
    }
   ],
   "source": [
    "fig = pygmt.Figure()\n",
    "fig.coast(\n",
    "    # Set the x-range from 10E to 20E and the y-range to 35N to 45N\n",
    "    region=\"10/20/35/45\",\n",
    "    # Set projection to Mercator, and the figure size to 15 centimeters\n",
    "    projection=\"M15c\",\n",
    "    # Set the color of the land to light gray\n",
    "    land=\"lightgray\",\n",
    "    # Set the color of the water to white\n",
    "    water=\"white\",\n",
    "    # Display the national borders and set the pen thickness to 0.5p\n",
    "    borders=\"1/0.5p\",\n",
    "    # Display the shorelines and set the pen thickness to 0.5p\n",
    "    shorelines=\"1/0.5p\",\n",
    "    # Set the frame to display annotations and gridlines\n",
    "    frame=\"ag\",\n",
    ")\n",
    "fig.show()"
   ]
  },
  {
   "cell_type": "code",
   "execution_count": null,
   "metadata": {},
   "outputs": [],
   "source": [
    "\n",
    "highest_similarity = -np.inf\n",
    "highest_sim_col = -1\n",
    "for col in range(1,vh.shape[1]):\n",
    "    similarity = cosine_similarity(vh[:,0], vh[:,col])\n",
    "    if similarity > highest_similarity:\n",
    "        highest_similarity = similarity\n",
    "        highest_sim_col = col\n",
    "\n",
    "print(\"Column %d is most similar to column 0\" % highest_sim_col)\n",
    "\n",
    "\n"
   ]
  }
 ],
 "metadata": {
  "kernelspec": {
   "display_name": "Python 3 (ipykernel)",
   "language": "python",
   "name": "python3"
  },
  "language_info": {
   "codemirror_mode": {
    "name": "ipython",
    "version": 3
   },
   "file_extension": ".py",
   "mimetype": "text/x-python",
   "name": "python",
   "nbconvert_exporter": "python",
   "pygments_lexer": "ipython3",
   "version": "3.8.5"
  }
 },
 "nbformat": 4,
 "nbformat_minor": 4
}
