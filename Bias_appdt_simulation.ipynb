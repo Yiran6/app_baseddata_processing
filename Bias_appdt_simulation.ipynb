{
 "cells": [
  {
   "cell_type": "code",
   "execution_count": 1,
   "metadata": {},
   "outputs": [],
   "source": [
    "import os\n",
    "import numpy as np\n",
    "import pandas as pd"
   ]
  },
  {
   "cell_type": "code",
   "execution_count": 3,
   "metadata": {},
   "outputs": [],
   "source": [
    "#read and check the od data\n",
    "os.chdir('G:/My Drive/2020/sumo/2014')"
   ]
  },
  {
   "cell_type": "code",
   "execution_count": 5,
   "metadata": {},
   "outputs": [],
   "source": [
    "#check the data, check if demographic information covered in the dataset\n",
    "psrcod = pd.read_csv('_trip.tsv',sep='\\t', nrows=10)"
   ]
  },
  {
   "cell_type": "code",
   "execution_count": 9,
   "metadata": {},
   "outputs": [],
   "source": [
    "network_resul = pd.read_csv('network_results.csv', nrows=10)"
   ]
  },
  {
   "cell_type": "code",
   "execution_count": 11,
   "metadata": {},
   "outputs": [
    {
     "data": {
      "text/plain": [
       "Index(['@bveh', '@bvol', '@h2tl1', '@h2tl2', '@h2tl3', '@h3tl1', '@h3tl2',\n",
       "       '@h3tl3', '@hveh', '@hvtrk', '@lttrk', '@metrk', '@mveh', '@svtl1',\n",
       "       '@svtl2', '@svtl3', '@tveh', 'auto_time', 'auto_volume', 'data1',\n",
       "       'data2', 'data3', 'length', 'num_lanes', 'type', 'volume_delay_func',\n",
       "       'i', 'j', 'ij', 'tod'],\n",
       "      dtype='object')"
      ]
     },
     "execution_count": 11,
     "metadata": {},
     "output_type": "execute_result"
    }
   ],
   "source": [
    "network_resul.columns"
   ]
  }
 ],
 "metadata": {
  "kernelspec": {
   "display_name": "Python 3 (ipykernel)",
   "language": "python",
   "name": "python3"
  },
  "language_info": {
   "codemirror_mode": {
    "name": "ipython",
    "version": 3
   },
   "file_extension": ".py",
   "mimetype": "text/x-python",
   "name": "python",
   "nbconvert_exporter": "python",
   "pygments_lexer": "ipython3",
   "version": "3.8.5"
  }
 },
 "nbformat": 4,
 "nbformat_minor": 4
}
