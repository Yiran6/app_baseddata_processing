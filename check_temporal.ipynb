{
 "cells": [
  {
   "cell_type": "code",
   "execution_count": 163,
   "id": "70a5c47c",
   "metadata": {},
   "outputs": [],
   "source": [
    "#!pip install dtaidistance"
   ]
  },
  {
   "cell_type": "code",
   "execution_count": 164,
   "id": "ac3ba0f0",
   "metadata": {},
   "outputs": [
    {
     "name": "stderr",
     "output_type": "stream",
     "text": [
      "Warning: loading library to link with numpy returned an error\n",
      "numpy.ndarray size changed, may indicate binary incompatibility. Expected 96 from C header, got 88 from PyObject\n"
     ]
    }
   ],
   "source": [
    "import numpy as np\n",
    "import pandas as pd\n",
    "import os\n",
    "import matplotlib.pyplot as plt\n",
    "from dtaidistance import dtw\n",
    "from dtaidistance import dtw_visualisation as dtwvis\n",
    "from sklearn.metrics import jaccard_score"
   ]
  },
  {
   "cell_type": "code",
   "execution_count": 4,
   "id": "a1ea2128",
   "metadata": {},
   "outputs": [],
   "source": [
    "#process the fcd data\n",
    "path = \"G:/My Drive/2021/Bias/sumo_simulation/\"\n",
    "os.chdir(path)\n",
    "#os.listdir()"
   ]
  },
  {
   "cell_type": "code",
   "execution_count": 5,
   "id": "57ae6dba",
   "metadata": {},
   "outputs": [
    {
     "name": "stdout",
     "output_type": "stream",
     "text": [
      "['20170404.csv', '20170411.csv', '20170406.csv', '20170405.csv', '20170413.csv', '20170412.csv', '20170420.csv', '20170419.csv', '20170418.csv', '20170427.csv', '20170426.csv', '20170425.csv']\n"
     ]
    }
   ],
   "source": [
    "raw_dt_path = []\n",
    "for i in os.listdir():\n",
    "    if len(i) == 12 and '2017' in i:\n",
    "        raw_dt_path.append(i)\n",
    "print(raw_dt_path)"
   ]
  },
  {
   "cell_type": "code",
   "execution_count": 12,
   "id": "788a382d",
   "metadata": {},
   "outputs": [],
   "source": [
    "#read_csv\n",
    "def get_data(raw_path):\n",
    "    idx = 0\n",
    "    for path in raw_path:\n",
    "        if idx == 0:\n",
    "            dt = pd.read_csv(path)\n",
    "            idx = 1\n",
    "        else:\n",
    "            dt_cur = pd.read_csv(path)\n",
    "            dt = pd.concat([dt, dt_cur])\n",
    "            \n",
    "    get_hr = lambda x: int(x.split(':')[0])\n",
    "    get_min = lambda x: int(x.split(':')[1])\n",
    "    dt['hr'] = dt['time'].apply(get_hr)\n",
    "    dt['min'] = dt['time'].apply(get_min)\n",
    "    return(dt)\n",
    "\n"
   ]
  },
  {
   "cell_type": "code",
   "execution_count": null,
   "id": "7a2abc03",
   "metadata": {},
   "outputs": [],
   "source": [
    "dt = get_data(raw_dt_path)"
   ]
  },
  {
   "cell_type": "code",
   "execution_count": 52,
   "id": "10302945",
   "metadata": {},
   "outputs": [
    {
     "data": {
      "text/plain": [
       "(array([32747.,  4923.,  2527.,  2008.,  1777.,  1412.,  1311.,  1292.,\n",
       "         1045.,  2516.]),\n",
       " array([ 1. ,  2.1,  3.2,  4.3,  5.4,  6.5,  7.6,  8.7,  9.8, 10.9, 12. ]),\n",
       " <BarContainer object of 10 artists>)"
      ]
     },
     "execution_count": 52,
     "metadata": {},
     "output_type": "execute_result"
    },
    {
     "data": {
      "image/png": "[encoded data removed]",
      "text/plain": [
       "<Figure size 640x480 with 1 Axes>"
      ]
     },
     "metadata": {},
     "output_type": "display_data"
    }
   ],
   "source": [
    "print('# of days', len(np.unique(dt['date'])))\n",
    "\n",
    "dt_day = dt.groupby(by=['newid', 'date']).size().to_frame()\n",
    "dt_day.reset_index(inplace=True)\n",
    "\n",
    "dt_day.groupby(by=['newid', 'date']).size().to_frame()\n",
    "dt_day.reset_index(inplace=True)\n",
    "\n",
    "dt_day = dt_day[['newid', 'date', 0]]\n",
    "dt_day = dt_day.groupby(by=['newid']).size().to_frame()\n",
    "dt_day.reset_index(inplace=True)\n",
    "\n",
    "plt.title('# of days repeated for identified ids')\n",
    "plt.grid()\n",
    "plt.hist(dt_day[0])\n",
    "\n",
    "ids_with12 = dt_day['newid'][dt_day[0]==12].values"
   ]
  },
  {
   "cell_type": "code",
   "execution_count": null,
   "id": "25510408",
   "metadata": {},
   "outputs": [],
   "source": [
    "dt_all = dt[dt['newid'].isin(ids_with12)]"
   ]
  },
  {
   "cell_type": "code",
   "execution_count": 118,
   "id": "5e7a73e9",
   "metadata": {},
   "outputs": [],
   "source": [
    "#x_range = np.array(range(288))\n",
    "newids = ids_with12[2]\n",
    "def plot_num_obs(newids, plotidx):\n",
    "    dt_newid = dt_all[dt_all['newid']==newids].sort_values(by=['date','hr','min'])\n",
    "    dt_newid['time_idx'] = (dt_newid['hr']*12+dt_newid['min']/5).astype(int)\n",
    "    dt_newid = dt_newid.groupby(by=['date','time_idx']).size().unstack(fill_value=0).stack().to_frame()\n",
    "    dt_newid.reset_index(inplace=True)\n",
    "    dt_newid = dt_newid.to_numpy().T\n",
    "\n",
    "    for i in np.unique(dt_newid[0, ]):\n",
    "        plt.figure(plotidx)\n",
    "        time_ =  dt_newid[1, np.where(dt_newid[0,]==i)[0]]\n",
    "        count_ = dt_newid[2, np.where(dt_newid[0,]==i)[0]]\n",
    "        plt.plot(time_, count_, '.',label = 'date:'+str(i))\n",
    "        plt.ylabel('# of obs')\n",
    "        plt.xlabel('time idx')\n",
    "    \n",
    "    plt.legend()\n",
    "    plt.grid()"
   ]
  },
  {
   "cell_type": "code",
   "execution_count": 117,
   "id": "c8ed73dd",
   "metadata": {},
   "outputs": [
    {
     "data": {
      "text/plain": [
       "array([ 0,  1,  2,  3,  4,  5,  6,  7,  8,  9, 10, 11, 12, 13, 14, 15, 16,\n",
       "       17, 18, 19, 20, 21, 22, 23, 24, 25, 26, 27, 28, 29, 30, 31, 32, 33,\n",
       "       34, 35, 36, 37, 38, 39, 40, 41, 42, 43, 44, 45, 46, 47, 48, 49, 50,\n",
       "       51, 52, 53, 54, 55, 56, 57, 58, 59, 60, 61, 62, 63, 64, 65, 66, 67,\n",
       "       68, 69, 70, 71, 72, 73, 74, 75, 76, 77, 78, 79, 80, 81, 82, 83, 84,\n",
       "       85, 86, 87], dtype=int64)"
      ]
     },
     "execution_count": 117,
     "metadata": {},
     "output_type": "execute_result"
    }
   ],
   "source": [
    "np.where(dt_newid[0,]==4)[0]"
   ]
  },
  {
   "cell_type": "code",
   "execution_count": 109,
   "id": "eef4f6cc",
   "metadata": {},
   "outputs": [
    {
     "data": {
      "image/png": "[encoded data removed]",
      "text/plain": [
       "<Figure size 640x480 with 1 Axes>"
      ]
     },
     "metadata": {},
     "output_type": "display_data"
    }
   ],
   "source": [
    "plot_num_obs(ids_with12[2], 0)"
   ]
  },
  {
   "cell_type": "code",
   "execution_count": 111,
   "id": "5d2aed11",
   "metadata": {},
   "outputs": [
    {
     "data": {
      "text/html": [
       "<div>\n",
       "<style scoped>\n",
       "    .dataframe tbody tr th:only-of-type {\n",
       "        vertical-align: middle;\n",
       "    }\n",
       "\n",
       "    .dataframe tbody tr th {\n",
       "        vertical-align: top;\n",
       "    }\n",
       "\n",
       "    .dataframe thead th {\n",
       "        text-align: right;\n",
       "    }\n",
       "</style>\n",
       "<table border=\"1\" class=\"dataframe\">\n",
       "  <thead>\n",
       "    <tr style=\"text-align: right;\">\n",
       "      <th></th>\n",
       "      <th>newid</th>\n",
       "      <th>sum</th>\n",
       "      <th>key</th>\n",
       "      <th>taz</th>\n",
       "      <th>date</th>\n",
       "      <th>time</th>\n",
       "      <th>hr</th>\n",
       "      <th>min</th>\n",
       "    </tr>\n",
       "  </thead>\n",
       "  <tbody>\n",
       "    <tr>\n",
       "      <th>4</th>\n",
       "      <td>32</td>\n",
       "      <td>1</td>\n",
       "      <td>4_11_35_502</td>\n",
       "      <td>502</td>\n",
       "      <td>4</td>\n",
       "      <td>11:35</td>\n",
       "      <td>11</td>\n",
       "      <td>35</td>\n",
       "    </tr>\n",
       "    <tr>\n",
       "      <th>5</th>\n",
       "      <td>32</td>\n",
       "      <td>1</td>\n",
       "      <td>4_12_10_502</td>\n",
       "      <td>502</td>\n",
       "      <td>4</td>\n",
       "      <td>12:10</td>\n",
       "      <td>12</td>\n",
       "      <td>10</td>\n",
       "    </tr>\n",
       "    <tr>\n",
       "      <th>6</th>\n",
       "      <td>32</td>\n",
       "      <td>1</td>\n",
       "      <td>4_6_55_502</td>\n",
       "      <td>502</td>\n",
       "      <td>4</td>\n",
       "      <td>6:55</td>\n",
       "      <td>6</td>\n",
       "      <td>55</td>\n",
       "    </tr>\n",
       "    <tr>\n",
       "      <th>7</th>\n",
       "      <td>32</td>\n",
       "      <td>1</td>\n",
       "      <td>4_15_20_521</td>\n",
       "      <td>521</td>\n",
       "      <td>4</td>\n",
       "      <td>15:20</td>\n",
       "      <td>15</td>\n",
       "      <td>20</td>\n",
       "    </tr>\n",
       "    <tr>\n",
       "      <th>8</th>\n",
       "      <td>32</td>\n",
       "      <td>1</td>\n",
       "      <td>4_15_5_501</td>\n",
       "      <td>501</td>\n",
       "      <td>4</td>\n",
       "      <td>15:05</td>\n",
       "      <td>15</td>\n",
       "      <td>5</td>\n",
       "    </tr>\n",
       "    <tr>\n",
       "      <th>...</th>\n",
       "      <td>...</td>\n",
       "      <td>...</td>\n",
       "      <td>...</td>\n",
       "      <td>...</td>\n",
       "      <td>...</td>\n",
       "      <td>...</td>\n",
       "      <td>...</td>\n",
       "      <td>...</td>\n",
       "    </tr>\n",
       "    <tr>\n",
       "      <th>197339</th>\n",
       "      <td>458380</td>\n",
       "      <td>5</td>\n",
       "      <td>25_16_10_632</td>\n",
       "      <td>632</td>\n",
       "      <td>25</td>\n",
       "      <td>16:10</td>\n",
       "      <td>16</td>\n",
       "      <td>10</td>\n",
       "    </tr>\n",
       "    <tr>\n",
       "      <th>197340</th>\n",
       "      <td>458380</td>\n",
       "      <td>1</td>\n",
       "      <td>25_16_5_508</td>\n",
       "      <td>508</td>\n",
       "      <td>25</td>\n",
       "      <td>16:05</td>\n",
       "      <td>16</td>\n",
       "      <td>5</td>\n",
       "    </tr>\n",
       "    <tr>\n",
       "      <th>197341</th>\n",
       "      <td>458380</td>\n",
       "      <td>4</td>\n",
       "      <td>25_16_5_610</td>\n",
       "      <td>610</td>\n",
       "      <td>25</td>\n",
       "      <td>16:05</td>\n",
       "      <td>16</td>\n",
       "      <td>5</td>\n",
       "    </tr>\n",
       "    <tr>\n",
       "      <th>197342</th>\n",
       "      <td>458380</td>\n",
       "      <td>3</td>\n",
       "      <td>25_16_10_653</td>\n",
       "      <td>653</td>\n",
       "      <td>25</td>\n",
       "      <td>16:10</td>\n",
       "      <td>16</td>\n",
       "      <td>10</td>\n",
       "    </tr>\n",
       "    <tr>\n",
       "      <th>197343</th>\n",
       "      <td>458380</td>\n",
       "      <td>9</td>\n",
       "      <td>25_16_5_478</td>\n",
       "      <td>478</td>\n",
       "      <td>25</td>\n",
       "      <td>16:05</td>\n",
       "      <td>16</td>\n",
       "      <td>5</td>\n",
       "    </tr>\n",
       "  </tbody>\n",
       "</table>\n",
       "<p>572812 rows × 8 columns</p>\n",
       "</div>"
      ],
      "text/plain": [
       "         newid  sum           key  taz  date   time  hr  min\n",
       "4           32    1   4_11_35_502  502     4  11:35  11   35\n",
       "5           32    1   4_12_10_502  502     4  12:10  12   10\n",
       "6           32    1    4_6_55_502  502     4   6:55   6   55\n",
       "7           32    1   4_15_20_521  521     4  15:20  15   20\n",
       "8           32    1    4_15_5_501  501     4  15:05  15    5\n",
       "...        ...  ...           ...  ...   ...    ...  ..  ...\n",
       "197339  458380    5  25_16_10_632  632    25  16:10  16   10\n",
       "197340  458380    1   25_16_5_508  508    25  16:05  16    5\n",
       "197341  458380    4   25_16_5_610  610    25  16:05  16    5\n",
       "197342  458380    3  25_16_10_653  653    25  16:10  16   10\n",
       "197343  458380    9   25_16_5_478  478    25  16:05  16    5\n",
       "\n",
       "[572812 rows x 8 columns]"
      ]
     },
     "execution_count": 111,
     "metadata": {},
     "output_type": "execute_result"
    }
   ],
   "source": [
    "dt_all"
   ]
  },
  {
   "cell_type": "code",
   "execution_count": 123,
   "id": "1e554315",
   "metadata": {},
   "outputs": [
    {
     "data": {
      "text/plain": [
       "array([[1., 1.],\n",
       "       [1., 1.],\n",
       "       [1., 1.],\n",
       "       [0., 0.],\n",
       "       [0., 0.]])"
      ]
     },
     "execution_count": 123,
     "metadata": {},
     "output_type": "execute_result"
    }
   ],
   "source": [
    "a = np.ones((3, 2))\n",
    "b = np.zeros((2, 2))\n",
    "np.vstack((a,b))"
   ]
  },
  {
   "cell_type": "code",
   "execution_count": 273,
   "id": "14000305",
   "metadata": {},
   "outputs": [],
   "source": [
    "def get_taz_dict(taz_val):\n",
    "    idx = 0\n",
    "    taz_dict = {}\n",
    "    for i in taz_val:\n",
    "        if i not in taz_dict:\n",
    "            taz_dict[i] = idx\n",
    "            idx += 1\n",
    "    return(taz_dict)\n",
    "\n",
    "def convert2matrix(newids, dt_all, binary_idx=False):\n",
    "    dt_newid = dt_all[dt_all['newid']==32].sort_values(by=['date','hr','min'])\n",
    "    taz =  np.unique(dt_newid['taz'])\n",
    "    taz_dict = get_taz_dict(taz)\n",
    "    get_taz_idx = lambda x: taz_dict[x]\n",
    "\n",
    "    dt_newid['taz_idx'] = dt_newid['taz'].apply(get_taz_idx)\n",
    "    dt_newid['time_idx'] = (dt_newid['hr']*12+dt_newid['min']/5).astype(int)\n",
    "\n",
    "    #x_range = np.array(range(time_interval))\n",
    "    time = np.unique(dt_newid['time_idx'])\n",
    "    time_dict = get_taz_dict(time)\n",
    "    get_time_idx = lambda x: time_dict[x]\n",
    "    dt_newid['time_idx_r'] = dt_newid['time_idx'].apply(get_time_idx)\n",
    "\n",
    "    #print(dt_newid.columns)\n",
    "    dt_newid = dt_newid[['date','taz_idx','time_idx_r','sum']]\n",
    "    dt_newid = dt_newid.to_numpy().T\n",
    "    idx = 0\n",
    "\n",
    "    arr = np.zeros((len(taz), len(time)))\n",
    "\n",
    "    for i in np.unique(dt_newid[0,:]):\n",
    "        arr_idx = np.where(dt_newid[0,]==i)[0]\n",
    "        taz_idx = dt_newid[1, :][arr_idx] \n",
    "        time_idx = dt_newid[2, :][arr_idx] \n",
    "        sum_idx = dt_newid[3, :][arr_idx] \n",
    "\n",
    "        if binary_idx ==True:\n",
    "            if idx == 0:\n",
    "                arr[taz_idx, time_idx] = 1\n",
    "                idx += 1\n",
    "            else:\n",
    "                arr_cur = np.zeros((len(taz), len(time)))\n",
    "                arr_cur[taz_idx, time_idx] = 1\n",
    "                arr = np.vstack((arr, arr_cur))\n",
    "        else:\n",
    "            if idx == 0:\n",
    "                arr[taz_idx, time_idx] = sum_idx\n",
    "                #print(arr.shape)\n",
    "                idx += 1\n",
    "            else:\n",
    "                arr_cur = np.zeros((len(taz), len(time)))\n",
    "                #print(arr_cur.shape)\n",
    "                arr_cur[taz_idx, time_idx] = sum_idx\n",
    "                arr = np.vstack((arr, arr_cur))\n",
    "    return(arr)\n",
    "\n",
    "#dtw\n",
    "#https://dtaidistance.readthedocs.io/en/latest/usage/dtw.html\n",
    "def get_dtw_dist(a, b):\n",
    "    return(dtw.distance_fast(a, b, use_pruning=True))\n",
    "#path = dtw.warping_path(test[0].flatten(), test[1].flatten())\n",
    "#dtwvis.plot_warping(test[0].flatten(), test[1].flatten(), path)\n",
    "\n",
    "#cosine similarity\n",
    "#https://www.geeksforgeeks.org/how-to-calculate-cosine-similarity-in-python/\n",
    "def get_cos_sim(a, b):\n",
    "    cosine_similarity = np.dot(a,b) / (np.linalg.norm(a) * np.linalg.norm(b))\n",
    "    return(cosine_similarity)\n",
    "\n",
    "#euclidean distance\n",
    "def get_euc_dist(a, b):\n",
    "    euclidean_distance = np.sqrt(np.sum((a - b) ** 2))\n",
    "    return(euclidean_distance)\n",
    "\n",
    "#pearson correlation\n",
    "def get_pearson_cor(a, b):\n",
    "    pearson_corr = np.corrcoef(a,b)[0, 1]\n",
    "    return(pearson_corr)\n",
    "\n",
    "#jaccard distance\n",
    "def get_jacr_score(a, b):\n",
    "    a, b = np.ravel(a), np.ravel(b)\n",
    "    return(jaccard_score(a, b))\n",
    "\n",
    "#hamming distance\n",
    "def get_ham_dist(a, b):\n",
    "    return(np.sum(a!= b))"
   ]
  },
  {
   "cell_type": "markdown",
   "id": "90a2700b",
   "metadata": {},
   "source": [
    "### matrix similarity\n",
    "Cosine similarity: This method measures the cosine of the angle between two vectors. To calculate the cosine similarity between two matrices, the matrices are first flattened into vectors, and then the cosine similarity between the two vectors is calculated.\n",
    "\n",
    "Euclidean distance: This method calculates the distance between two matrices as the square root of the sum of the squared differences between the corresponding elements in the two matrices.\n",
    "\n",
    "Pearson correlation coefficient: This method measures the linear correlation between two matrices. It is calculated as the covariance between the two matrices divided by the product of their standard deviations.\n",
    "\n",
    "Jaccard similarity: This method calculates the similarity between two matrices by measuring the proportion of shared elements in the two matrices relative to the total number of unique elements in the two matrices.\n",
    "\n",
    "Hamming distance: This method calculates the number of elements that differ between two matrices. It is often used for binary matrices.\n",
    "\n",
    "These are just a few examples of the methods available to calculate matrix similarity. The choice of method depends on the nature of the matrices and the application."
   ]
  },
  {
   "cell_type": "code",
   "execution_count": 217,
   "id": "19308ff7",
   "metadata": {},
   "outputs": [],
   "source": [
    "test, num_taz = convert2matrix(32, dt_all, binary_idx=False)"
   ]
  },
  {
   "cell_type": "code",
   "execution_count": 258,
   "id": "79724bc9",
   "metadata": {},
   "outputs": [],
   "source": [
    "test01, num_taz = convert2matrix(32, dt_all, True)"
   ]
  },
  {
   "cell_type": "code",
   "execution_count": 265,
   "id": "aa244f4b",
   "metadata": {},
   "outputs": [],
   "source": [
    "del(test, test01)"
   ]
  },
  {
   "cell_type": "code",
   "execution_count": 230,
   "id": "6188f5d2",
   "metadata": {},
   "outputs": [],
   "source": [
    "a, b = test[0].flatten(), test[1].flatten()"
   ]
  },
  {
   "cell_type": "code",
   "execution_count": 270,
   "id": "cf837212",
   "metadata": {},
   "outputs": [],
   "source": [
    "def get_dist_sim(newids, dt_all, num_days):\n",
    "    obs = convert2matrix(newids, dt_all, False)\n",
    "    obs01 = convert2matrix(newids, dt_all, True)\n",
    "    \n",
    "    obs = np.array_split(obs, num_days)\n",
    "    obs01 = np.array_split(obs01, num_days)\n",
    "    \n",
    "    dist_dict = {'dtw':[],\n",
    "                'cos_sim':[],\n",
    "                'euc_dist':[],\n",
    "                'pear_cor':[],\n",
    "                'jac_s':[],\n",
    "                'ham_dist':[]}\n",
    "    \n",
    "    for i in range(num_days):\n",
    "        if i == 0:\n",
    "            a = obs[i].flatten()\n",
    "            a01 = obs01[i].flatten()\n",
    "        else:\n",
    "            b = obs[i].flatten()\n",
    "            b01 = obs01[i].flatten()\n",
    "            dist_dict['dtw'].append(get_dtw_dist(a, b))\n",
    "            dist_dict['cos_sim'].append(get_cos_sim(a, b))\n",
    "            dist_dict['euc_dist'].append(get_euc_dist(a, b))\n",
    "            dist_dict['pear_cor'].append(get_pearson_cor(a, b))\n",
    "            dist_dict['jac_s'].append(get_jacr_score(a01, b01))\n",
    "            dist_dict['ham_dist'].append(get_ham_dist(a01, b01))\n",
    "    \n",
    "    return(dist_dict)"
   ]
  },
  {
   "cell_type": "code",
   "execution_count": 274,
   "id": "92612c20",
   "metadata": {},
   "outputs": [
    {
     "data": {
      "text/plain": [
       "{'dtw': [3.1622776601683795,\n",
       "  3.1622776601683795,\n",
       "  5.196152422706632,\n",
       "  4.358898943540674,\n",
       "  3.3166247903554,\n",
       "  4.242640687119285,\n",
       "  4.58257569495584,\n",
       "  5.656854249492381,\n",
       "  2.8284271247461903,\n",
       "  3.7416573867739413,\n",
       "  4.123105625617661],\n",
       " 'cos_sim': [0.2561358820277077,\n",
       "  0.18581403127845014,\n",
       "  0.3310610959858653,\n",
       "  0.43962048609243937,\n",
       "  0.30969005213075024,\n",
       "  0.22935415401872888,\n",
       "  0.3132057248629988,\n",
       "  0.24729786709407453,\n",
       "  0.10425720702853737,\n",
       "  0.41123916041498715,\n",
       "  0.2786391062876764],\n",
       " 'euc_dist': [8.717797887081348,\n",
       "  8.888194417315589,\n",
       "  9.899494936611665,\n",
       "  8.602325267042627,\n",
       "  8.18535277187245,\n",
       "  9.9498743710662,\n",
       "  9.38083151964686,\n",
       "  10.246950765959598,\n",
       "  8.366600265340756,\n",
       "  8.246211251235321,\n",
       "  8.888194417315589],\n",
       " 'pear_cor': [0.2466112698127534,\n",
       "  0.17658362357963883,\n",
       "  0.3214777717547349,\n",
       "  0.4323493712152249,\n",
       "  0.30252820226652705,\n",
       "  0.2192458415101254,\n",
       "  0.3045513461183188,\n",
       "  0.2369576505574754,\n",
       "  0.09664384795099387,\n",
       "  0.40354948088380177,\n",
       "  0.27005458228406665],\n",
       " 'jac_s': [0.14814814814814814,\n",
       "  0.10810810810810811,\n",
       "  0.19791666666666666,\n",
       "  0.25925925925925924,\n",
       "  0.20634920634920634,\n",
       "  0.14942528735632185,\n",
       "  0.2,\n",
       "  0.13829787234042554,\n",
       "  0.05,\n",
       "  0.25316455696202533,\n",
       "  0.15789473684210525],\n",
       " 'ham_dist': [69, 66, 77, 60, 50, 74, 64, 81, 57, 59, 64]}"
      ]
     },
     "execution_count": 274,
     "metadata": {},
     "output_type": "execute_result"
    }
   ],
   "source": [
    "get_dist_sim(32, dt_all, 12)"
   ]
  }
 ],
 "metadata": {
  "kernelspec": {
   "display_name": "Python 3",
   "language": "python",
   "name": "python3"
  },
  "language_info": {
   "codemirror_mode": {
    "name": "ipython",
    "version": 3
   },
   "file_extension": ".py",
   "mimetype": "text/x-python",
   "name": "python",
   "nbconvert_exporter": "python",
   "pygments_lexer": "ipython3",
   "version": "3.9.13"
  }
 },
 "nbformat": 4,
 "nbformat_minor": 5
}
